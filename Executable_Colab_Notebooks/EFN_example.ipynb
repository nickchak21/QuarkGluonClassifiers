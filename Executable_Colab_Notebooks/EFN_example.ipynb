{
  "nbformat": 4,
  "nbformat_minor": 0,
  "metadata": {
    "colab": {
      "name": "EFN_example.ipynb",
      "provenance": [],
      "include_colab_link": true
    },
    "kernelspec": {
      "name": "python3",
      "display_name": "Python 3"
    },
    "accelerator": "GPU"
  },
  "cells": [
    {
      "cell_type": "markdown",
      "metadata": {
        "id": "view-in-github",
        "colab_type": "text"
      },
      "source": [
        "<a href=\"https://colab.research.google.com/github/nickchak21/QuarkGluonClassifiers/blob/master/EFN_example.ipynb\" target=\"_parent\"><img src=\"https://colab.research.google.com/assets/colab-badge.svg\" alt=\"Open In Colab\"/></a>"
      ]
    },
    {
      "cell_type": "code",
      "metadata": {
        "id": "EDQHdFMzRKws",
        "colab_type": "code",
        "outputId": "30b99d10-eaf7-436c-d464-749aef482614",
        "colab": {
          "base_uri": "https://localhost:8080/",
          "height": 289
        }
      },
      "source": [
        "!pip install energyflow\n",
        "!pip install h5py"
      ],
      "execution_count": 1,
      "outputs": [
        {
          "output_type": "stream",
          "text": [
            "Collecting energyflow\n",
            "\u001b[?25l  Downloading https://files.pythonhosted.org/packages/35/ba/f598bafbde78553b962dc1f693ef95365cc752ddbdb448856858093579eb/EnergyFlow-1.0.0-py2.py3-none-any.whl (679kB)\n",
            "\r\u001b[K     |▌                               | 10kB 18.9MB/s eta 0:00:01\r\u001b[K     |█                               | 20kB 4.4MB/s eta 0:00:01\r\u001b[K     |█▌                              | 30kB 6.2MB/s eta 0:00:01\r\u001b[K     |██                              | 40kB 7.9MB/s eta 0:00:01\r\u001b[K     |██▍                             | 51kB 5.1MB/s eta 0:00:01\r\u001b[K     |███                             | 61kB 6.0MB/s eta 0:00:01\r\u001b[K     |███▍                            | 71kB 6.8MB/s eta 0:00:01\r\u001b[K     |███▉                            | 81kB 7.6MB/s eta 0:00:01\r\u001b[K     |████▍                           | 92kB 8.4MB/s eta 0:00:01\r\u001b[K     |████▉                           | 102kB 6.7MB/s eta 0:00:01\r\u001b[K     |█████▎                          | 112kB 6.7MB/s eta 0:00:01\r\u001b[K     |█████▉                          | 122kB 6.7MB/s eta 0:00:01\r\u001b[K     |██████▎                         | 133kB 6.7MB/s eta 0:00:01\r\u001b[K     |██████▊                         | 143kB 6.7MB/s eta 0:00:01\r\u001b[K     |███████▎                        | 153kB 6.7MB/s eta 0:00:01\r\u001b[K     |███████▊                        | 163kB 6.7MB/s eta 0:00:01\r\u001b[K     |████████▏                       | 174kB 6.7MB/s eta 0:00:01\r\u001b[K     |████████▊                       | 184kB 6.7MB/s eta 0:00:01\r\u001b[K     |█████████▏                      | 194kB 6.7MB/s eta 0:00:01\r\u001b[K     |█████████▋                      | 204kB 6.7MB/s eta 0:00:01\r\u001b[K     |██████████▏                     | 215kB 6.7MB/s eta 0:00:01\r\u001b[K     |██████████▋                     | 225kB 6.7MB/s eta 0:00:01\r\u001b[K     |███████████                     | 235kB 6.7MB/s eta 0:00:01\r\u001b[K     |███████████▋                    | 245kB 6.7MB/s eta 0:00:01\r\u001b[K     |████████████                    | 256kB 6.7MB/s eta 0:00:01\r\u001b[K     |████████████▌                   | 266kB 6.7MB/s eta 0:00:01\r\u001b[K     |█████████████                   | 276kB 6.7MB/s eta 0:00:01\r\u001b[K     |█████████████▌                  | 286kB 6.7MB/s eta 0:00:01\r\u001b[K     |██████████████                  | 296kB 6.7MB/s eta 0:00:01\r\u001b[K     |██████████████▌                 | 307kB 6.7MB/s eta 0:00:01\r\u001b[K     |███████████████                 | 317kB 6.7MB/s eta 0:00:01\r\u001b[K     |███████████████▍                | 327kB 6.7MB/s eta 0:00:01\r\u001b[K     |████████████████                | 337kB 6.7MB/s eta 0:00:01\r\u001b[K     |████████████████▍               | 348kB 6.7MB/s eta 0:00:01\r\u001b[K     |████████████████▉               | 358kB 6.7MB/s eta 0:00:01\r\u001b[K     |█████████████████▍              | 368kB 6.7MB/s eta 0:00:01\r\u001b[K     |█████████████████▉              | 378kB 6.7MB/s eta 0:00:01\r\u001b[K     |██████████████████▎             | 389kB 6.7MB/s eta 0:00:01\r\u001b[K     |██████████████████▉             | 399kB 6.7MB/s eta 0:00:01\r\u001b[K     |███████████████████▎            | 409kB 6.7MB/s eta 0:00:01\r\u001b[K     |███████████████████▊            | 419kB 6.7MB/s eta 0:00:01\r\u001b[K     |████████████████████▎           | 430kB 6.7MB/s eta 0:00:01\r\u001b[K     |████████████████████▊           | 440kB 6.7MB/s eta 0:00:01\r\u001b[K     |█████████████████████▏          | 450kB 6.7MB/s eta 0:00:01\r\u001b[K     |█████████████████████▊          | 460kB 6.7MB/s eta 0:00:01\r\u001b[K     |██████████████████████▏         | 471kB 6.7MB/s eta 0:00:01\r\u001b[K     |██████████████████████▋         | 481kB 6.7MB/s eta 0:00:01\r\u001b[K     |███████████████████████▏        | 491kB 6.7MB/s eta 0:00:01\r\u001b[K     |███████████████████████▋        | 501kB 6.7MB/s eta 0:00:01\r\u001b[K     |████████████████████████        | 512kB 6.7MB/s eta 0:00:01\r\u001b[K     |████████████████████████▋       | 522kB 6.7MB/s eta 0:00:01\r\u001b[K     |█████████████████████████       | 532kB 6.7MB/s eta 0:00:01\r\u001b[K     |█████████████████████████▌      | 542kB 6.7MB/s eta 0:00:01\r\u001b[K     |██████████████████████████      | 552kB 6.7MB/s eta 0:00:01\r\u001b[K     |██████████████████████████▌     | 563kB 6.7MB/s eta 0:00:01\r\u001b[K     |███████████████████████████     | 573kB 6.7MB/s eta 0:00:01\r\u001b[K     |███████████████████████████▌    | 583kB 6.7MB/s eta 0:00:01\r\u001b[K     |████████████████████████████    | 593kB 6.7MB/s eta 0:00:01\r\u001b[K     |████████████████████████████▍   | 604kB 6.7MB/s eta 0:00:01\r\u001b[K     |█████████████████████████████   | 614kB 6.7MB/s eta 0:00:01\r\u001b[K     |█████████████████████████████▍  | 624kB 6.7MB/s eta 0:00:01\r\u001b[K     |█████████████████████████████▉  | 634kB 6.7MB/s eta 0:00:01\r\u001b[K     |██████████████████████████████▍ | 645kB 6.7MB/s eta 0:00:01\r\u001b[K     |██████████████████████████████▉ | 655kB 6.7MB/s eta 0:00:01\r\u001b[K     |███████████████████████████████▎| 665kB 6.7MB/s eta 0:00:01\r\u001b[K     |███████████████████████████████▉| 675kB 6.7MB/s eta 0:00:01\r\u001b[K     |████████████████████████████████| 686kB 6.7MB/s \n",
            "\u001b[?25hRequirement already satisfied: numpy>=1.14.0 in /usr/local/lib/python3.6/dist-packages (from energyflow) (1.17.4)\n",
            "Collecting h5py>=2.9.0\n",
            "\u001b[?25l  Downloading https://files.pythonhosted.org/packages/60/06/cafdd44889200e5438b897388f3075b52a8ef01f28a17366d91de0fa2d05/h5py-2.10.0-cp36-cp36m-manylinux1_x86_64.whl (2.9MB)\n",
            "\u001b[K     |████████████████████████████████| 2.9MB 46.6MB/s \n",
            "\u001b[?25hRequirement already satisfied: six>=1.10.0 in /usr/local/lib/python3.6/dist-packages (from energyflow) (1.12.0)\n",
            "Installing collected packages: h5py, energyflow\n",
            "  Found existing installation: h5py 2.8.0\n",
            "    Uninstalling h5py-2.8.0:\n",
            "      Successfully uninstalled h5py-2.8.0\n",
            "Successfully installed energyflow-1.0.0 h5py-2.10.0\n",
            "Requirement already satisfied: h5py in /usr/local/lib/python3.6/dist-packages (2.10.0)\n",
            "Requirement already satisfied: numpy>=1.7 in /usr/local/lib/python3.6/dist-packages (from h5py) (1.17.4)\n",
            "Requirement already satisfied: six in /usr/local/lib/python3.6/dist-packages (from h5py) (1.12.0)\n"
          ],
          "name": "stdout"
        }
      ]
    },
    {
      "cell_type": "code",
      "metadata": {
        "id": "jCY1hm8xSJyX",
        "colab_type": "code",
        "outputId": "4f736e92-0f14-4288-cea7-ffaa695b8aa6",
        "colab": {
          "base_uri": "https://localhost:8080/",
          "height": 34
        }
      },
      "source": [
        "!python --version"
      ],
      "execution_count": 2,
      "outputs": [
        {
          "output_type": "stream",
          "text": [
            "Python 3.6.8\n"
          ],
          "name": "stdout"
        }
      ]
    },
    {
      "cell_type": "code",
      "metadata": {
        "id": "1r3rd5lMSYiH",
        "colab_type": "code",
        "outputId": "ca30b9a9-41cc-4ef1-bac5-c0905190af5d",
        "colab": {
          "base_uri": "https://localhost:8080/",
          "height": 153
        }
      },
      "source": [
        "!pip install POT"
      ],
      "execution_count": 3,
      "outputs": [
        {
          "output_type": "stream",
          "text": [
            "Collecting POT\n",
            "\u001b[?25l  Downloading https://files.pythonhosted.org/packages/15/36/07d3c0960a590b88b81fa1837e666cc7479b90c7e9fd1063024ce9331122/POT-0.6.0-cp36-cp36m-manylinux1_x86_64.whl (305kB)\n",
            "\r\u001b[K     |█                               | 10kB 19.9MB/s eta 0:00:01\r\u001b[K     |██▏                             | 20kB 4.3MB/s eta 0:00:01\r\u001b[K     |███▏                            | 30kB 5.9MB/s eta 0:00:01\r\u001b[K     |████▎                           | 40kB 7.6MB/s eta 0:00:01\r\u001b[K     |█████▍                          | 51kB 5.0MB/s eta 0:00:01\r\u001b[K     |██████▍                         | 61kB 5.9MB/s eta 0:00:01\r\u001b[K     |███████▌                        | 71kB 6.7MB/s eta 0:00:01\r\u001b[K     |████████▋                       | 81kB 7.4MB/s eta 0:00:01\r\u001b[K     |█████████▋                      | 92kB 8.1MB/s eta 0:00:01\r\u001b[K     |██████████▊                     | 102kB 6.6MB/s eta 0:00:01\r\u001b[K     |███████████▉                    | 112kB 6.6MB/s eta 0:00:01\r\u001b[K     |████████████▉                   | 122kB 6.6MB/s eta 0:00:01\r\u001b[K     |██████████████                  | 133kB 6.6MB/s eta 0:00:01\r\u001b[K     |███████████████                 | 143kB 6.6MB/s eta 0:00:01\r\u001b[K     |████████████████                | 153kB 6.6MB/s eta 0:00:01\r\u001b[K     |█████████████████▏              | 163kB 6.6MB/s eta 0:00:01\r\u001b[K     |██████████████████▎             | 174kB 6.6MB/s eta 0:00:01\r\u001b[K     |███████████████████▎            | 184kB 6.6MB/s eta 0:00:01\r\u001b[K     |████████████████████▍           | 194kB 6.6MB/s eta 0:00:01\r\u001b[K     |█████████████████████▍          | 204kB 6.6MB/s eta 0:00:01\r\u001b[K     |██████████████████████▌         | 215kB 6.6MB/s eta 0:00:01\r\u001b[K     |███████████████████████▋        | 225kB 6.6MB/s eta 0:00:01\r\u001b[K     |████████████████████████▋       | 235kB 6.6MB/s eta 0:00:01\r\u001b[K     |█████████████████████████▊      | 245kB 6.6MB/s eta 0:00:01\r\u001b[K     |██████████████████████████▉     | 256kB 6.6MB/s eta 0:00:01\r\u001b[K     |███████████████████████████▉    | 266kB 6.6MB/s eta 0:00:01\r\u001b[K     |█████████████████████████████   | 276kB 6.6MB/s eta 0:00:01\r\u001b[K     |██████████████████████████████  | 286kB 6.6MB/s eta 0:00:01\r\u001b[K     |███████████████████████████████ | 296kB 6.6MB/s eta 0:00:01\r\u001b[K     |████████████████████████████████| 307kB 6.6MB/s \n",
            "\u001b[?25hRequirement already satisfied: scipy in /usr/local/lib/python3.6/dist-packages (from POT) (1.3.2)\n",
            "Requirement already satisfied: cython in /usr/local/lib/python3.6/dist-packages (from POT) (0.29.14)\n",
            "Requirement already satisfied: numpy in /usr/local/lib/python3.6/dist-packages (from POT) (1.17.4)\n",
            "Installing collected packages: POT\n",
            "Successfully installed POT-0.6.0\n"
          ],
          "name": "stdout"
        }
      ]
    },
    {
      "cell_type": "code",
      "metadata": {
        "id": "jjupFyDlShn7",
        "colab_type": "code",
        "outputId": "2a79e021-a8c2-419f-e3af-9258d88facea",
        "colab": {
          "base_uri": "https://localhost:8080/",
          "height": 238
        }
      },
      "source": [
        "!python -c \"import energyflow; energyflow.utils.get_examples()\""
      ],
      "execution_count": 4,
      "outputs": [
        {
          "output_type": "stream",
          "text": [
            "Downloading cnn_example.py from https://github.com/pkomiske/EnergyFlow/raw/master/examples/cnn_example.py to /root/.energyflow/examples\n",
            "Downloading dnn_example.py from https://github.com/pkomiske/EnergyFlow/raw/master/examples/dnn_example.py to /root/.energyflow/examples\n",
            "Downloading efn_example.py from https://github.com/pkomiske/EnergyFlow/raw/master/examples/efn_example.py to /root/.energyflow/examples\n",
            "Downloading efp_example.py from https://github.com/pkomiske/EnergyFlow/raw/master/examples/efp_example.py to /root/.energyflow/examples\n",
            "Downloading pfn_example.py from https://github.com/pkomiske/EnergyFlow/raw/master/examples/pfn_example.py to /root/.energyflow/examples\n",
            "\n",
            "Summary of examples:\n",
            "cnn_example.py exists at /root/.energyflow/examples\n",
            "dnn_example.py exists at /root/.energyflow/examples\n",
            "efn_example.py exists at /root/.energyflow/examples\n",
            "efp_example.py exists at /root/.energyflow/examples\n",
            "pfn_example.py exists at /root/.energyflow/examples\n",
            "\n"
          ],
          "name": "stdout"
        }
      ]
    },
    {
      "cell_type": "code",
      "metadata": {
        "id": "XW9kMlHCziA2",
        "colab_type": "code",
        "colab": {}
      },
      "source": [
        "%pycat /root/.energyflow/examples/efn_example.py"
      ],
      "execution_count": 0,
      "outputs": []
    },
    {
      "cell_type": "code",
      "metadata": {
        "id": "JDU3Ko0SzvJK",
        "colab_type": "code",
        "colab": {}
      },
      "source": [
        "rm /root/.energyflow/examples/efn_example.py"
      ],
      "execution_count": 0,
      "outputs": []
    },
    {
      "cell_type": "code",
      "metadata": {
        "id": "2spgYY-azxMn",
        "colab_type": "code",
        "colab": {
          "base_uri": "https://localhost:8080/",
          "height": 34
        },
        "outputId": "ea51c64e-697b-4bf1-b5a7-4612fe80b251"
      },
      "source": [
        "%%writefile /root/.energyflow/examples/efn_example.py\n",
        "\"\"\"An example involving Energy Flow Networks (EFNs), which were introduced\n",
        "in [1810.05165](https://arxiv.org/abs/1810.05165). The [`EFN`](../docs/\n",
        "archs/#efn) class is used to construct the network architecture. The output\n",
        "of the example is a plot of the ROC curves obtained by the EFN as well as\n",
        "the jet mass and constituent multiplicity observables.\n",
        "\"\"\"\n",
        "\n",
        "# standard library imports\n",
        "from __future__ import absolute_import, division, print_function\n",
        "\n",
        "# standard numerical library imports\n",
        "import numpy as np\n",
        "\n",
        "# energyflow imports\n",
        "import energyflow as ef\n",
        "from energyflow.archs import EFN\n",
        "from energyflow.datasets import qg_jets\n",
        "from energyflow.utils import data_split, to_categorical\n",
        "\n",
        "# attempt to import sklearn\n",
        "try:\n",
        "    from sklearn.metrics import roc_auc_score, roc_curve\n",
        "except:\n",
        "    print('please install scikit-learn in order to make ROC curves')\n",
        "    roc_curve = False\n",
        "\n",
        "# attempt to import matplotlib\n",
        "try:\n",
        "    import matplotlib.pyplot as plt\n",
        "except:\n",
        "    print('please install matploltib in order to make plots')\n",
        "    plt = False\n",
        "\n",
        "################################### SETTINGS ##################################\n",
        "# the commented values correspond to those in 1810.05165\n",
        "###############################################################################\n",
        "\n",
        "# data controls, can go up to 2000000 total for full dataset\n",
        "train, val, test = 375000, 50000, 75000\n",
        "# train, val, test = 1000000, 200000, 200000\n",
        "\n",
        "# network architecture parameters\n",
        "Phi_sizes, F_sizes = (100, 100, 128), (100, 100, 100)\n",
        "# Phi_sizes, F_sizes = (100, 100, 256), (100, 100, 100)\n",
        "\n",
        "# network training parameters\n",
        "num_epoch = 35\n",
        "batch_size = 500\n",
        "\n",
        "###############################################################################\n",
        "\n",
        "# load data\n",
        "X, y = qg_jets.load(train + val + test)\n",
        "\n",
        "# ignore pid information\n",
        "X = X[:,:,:3]\n",
        "\n",
        "# convert labels to categorical\n",
        "Y = to_categorical(y, num_classes=2)\n",
        "\n",
        "print('Loaded quark and gluon jets')\n",
        "\n",
        "# preprocess by centering jets and normalizing pts\n",
        "for x in X:\n",
        "    mask = x[:,0] > 0\n",
        "    yphi_avg = np.average(x[mask,1:3], weights=x[mask,0], axis=0)\n",
        "    x[mask,1:3] -= yphi_avg\n",
        "    x[mask,0] /= x[:,0].sum()\n",
        "\n",
        "print('Finished preprocessing')\n",
        "\n",
        "# do train/val/test split \n",
        "(z_train, z_val, z_test, \n",
        " p_train, p_val, p_test,\n",
        " Y_train, Y_val, Y_test) = data_split(X[:,:,0], X[:,:,1:], Y, val=val, test=test)\n",
        "\n",
        "print('Done train/val/test split')\n",
        "print('Model summary:')\n",
        "\n",
        "# build architecture\n",
        "efn = EFN(input_dim=2, Phi_sizes=Phi_sizes, F_sizes=F_sizes)\n",
        "\n",
        "# train model\n",
        "efn.fit([z_train, p_train], Y_train,\n",
        "          epochs=num_epoch,\n",
        "          batch_size=batch_size,\n",
        "          validation_data=([z_val, p_val], Y_val),\n",
        "          verbose=1)\n",
        "\n",
        "# get predictions on test data\n",
        "preds = efn.predict([z_test, p_test], batch_size=1000)\n",
        "\n",
        "# get ROC curve if we have sklearn\n",
        "if roc_curve:\n",
        "    efn_fp, efn_tp, threshs = roc_curve(Y_test[:,1], preds[:,1])\n",
        "\n",
        "    # get area under the ROC curve\n",
        "    auc = roc_auc_score(Y_test[:,1], preds[:,1])\n",
        "    print()\n",
        "    print('EFN AUC:', auc)\n",
        "    print()\n",
        "\n",
        "    # make ROC curve and filter plot if we have matplotlib\n",
        "    if plt:\n",
        "\n",
        "        # some nicer plot settings \n",
        "        plt.rcParams['font.family'] = 'serif'\n",
        "        plt.rcParams['figure.autolayout'] = True\n",
        "\n",
        "        fig, axes = plt.subplots(1, 2, figsize=(8,4))\n",
        "\n",
        "        ######################### ROC Curve Plot #########################\n",
        "\n",
        "        # get multiplicity and mass for comparison\n",
        "        masses = np.asarray([ef.ms_from_p4s(ef.p4s_from_ptyphims(x).sum(axis=0)) for x in X])\n",
        "        mults = np.asarray([np.count_nonzero(x[:,0]) for x in X])\n",
        "        mass_fp, mass_tp, threshs = roc_curve(Y[:,1], -masses)\n",
        "        mult_fp, mult_tp, threshs = roc_curve(Y[:,1], -mults)\n",
        "\n",
        "        # plot the ROC curves\n",
        "        axes[0].plot(efn_tp, 1-efn_fp, '-', color='black', label='EFN')\n",
        "        axes[0].plot(mass_tp, 1-mass_fp, '-', color='blue', label='Jet Mass')\n",
        "        axes[0].plot(mult_tp, 1-mult_fp, '-', color='red', label='Multiplicity')\n",
        "\n",
        "        # axes labels\n",
        "        axes[0].set_xlabel('Quark Jet Efficiency')\n",
        "        axes[0].set_ylabel('Gluon Jet Rejection')\n",
        "\n",
        "        # axes limits\n",
        "        axes[0].set_xlim(0, 1)\n",
        "        axes[0].set_ylim(0, 1)\n",
        "\n",
        "        # make legend and show plot\n",
        "        axes[0].legend(loc='lower left', frameon=False)\n",
        "\n",
        "        ######################### Filter Plot #########################\n",
        "\n",
        "        # plot settings\n",
        "        R, n = 0.4, 100\n",
        "        colors = ['Reds', 'Oranges', 'Greens', 'Blues', 'Purples', 'Greys']\n",
        "        grads = np.linspace(0.45, 0.55, 4)\n",
        "\n",
        "        # evaluate filters\n",
        "        X, Y, Z = efn.eval_filters(R, n=n)\n",
        "\n",
        "        # plot filters\n",
        "        for i,z in enumerate(Z):\n",
        "            axes[1].contourf(X, Y, z/np.max(z), grads, cmap=colors[i%len(colors)])\n",
        "        \n",
        "        axes[1].set_xticks(np.linspace(-R, R, 5))\n",
        "        axes[1].set_yticks(np.linspace(-R, R, 5))\n",
        "        axes[1].set_xticklabels(['-R', '-R/2', '0', 'R/2', 'R'])\n",
        "        axes[1].set_yticklabels(['-R', '-R/2', '0', 'R/2', 'R'])\n",
        "        axes[1].set_xlabel('Translated Rapidity y')\n",
        "        axes[1].set_ylabel('Translated Azimuthal Angle phi')\n",
        "        axes[1].set_title('Energy Flow Network Latent Space', fontdict={'fontsize': 10})\n",
        "    \n",
        "        plt.show()"
      ],
      "execution_count": 29,
      "outputs": [
        {
          "output_type": "stream",
          "text": [
            "Writing /root/.energyflow/examples/efn_example.py\n"
          ],
          "name": "stdout"
        }
      ]
    },
    {
      "cell_type": "code",
      "metadata": {
        "id": "Lq8SY4RuSl6B",
        "colab_type": "code",
        "outputId": "097235a4-5acb-40ab-86eb-f4b32f566201",
        "colab": {
          "base_uri": "https://localhost:8080/",
          "height": 1000
        }
      },
      "source": [
        "!python /root/.energyflow/examples/efn_example.py"
      ],
      "execution_count": 30,
      "outputs": [
        {
          "output_type": "stream",
          "text": [
            "Using TensorFlow backend.\n",
            "Downloading QG_jets_3.npz from https://www.dropbox.com/s/tiwz2ck3wnzvlcr/QG_jets_3.npz?dl=1 to /root/.energyflow/datasets\n",
            "Downloading QG_jets_4.npz from https://www.dropbox.com/s/3miwek1n0brbd2i/QG_jets_4.npz?dl=1 to /root/.energyflow/datasets\n",
            "tcmalloc: large alloc 2224005120 bytes == 0xf58c2000 @  0x7f034eef51e7 0x7f034ca54f71 0x7f034cab855d 0x7f034cab8733 0x7f034cb56768 0x7f034cb56fc4 0x7f034cb57112 0x5673a3 0x5a04ce 0x7f034caa406d 0x50a84f 0x50c549 0x5081d5 0x50a020 0x50aa1d 0x50c549 0x5081d5 0x5895e1 0x5a04ce 0x7f034caa406d 0x50a84f 0x50c549 0x5081d5 0x50a020 0x50aa1d 0x50c549 0x5081d5 0x50a020 0x50aa1d 0x50c549 0x5081d5\n",
            "Loaded quark and gluon jets\n",
            "Finished preprocessing\n",
            "Done train/val/test split\n",
            "Model summary:\n",
            "WARNING:tensorflow:From /usr/local/lib/python3.6/dist-packages/keras/backend/tensorflow_backend.py:541: The name tf.placeholder is deprecated. Please use tf.compat.v1.placeholder instead.\n",
            "\n",
            "WARNING:tensorflow:From /usr/local/lib/python3.6/dist-packages/keras/backend/tensorflow_backend.py:66: The name tf.get_default_graph is deprecated. Please use tf.compat.v1.get_default_graph instead.\n",
            "\n",
            "WARNING:tensorflow:From /usr/local/lib/python3.6/dist-packages/keras/backend/tensorflow_backend.py:4432: The name tf.random_uniform is deprecated. Please use tf.random.uniform instead.\n",
            "\n",
            "WARNING:tensorflow:From /usr/local/lib/python3.6/dist-packages/keras/optimizers.py:793: The name tf.train.Optimizer is deprecated. Please use tf.compat.v1.train.Optimizer instead.\n",
            "\n",
            "WARNING:tensorflow:From /usr/local/lib/python3.6/dist-packages/keras/backend/tensorflow_backend.py:3576: The name tf.log is deprecated. Please use tf.math.log instead.\n",
            "\n",
            "Model: \"model_1\"\n",
            "__________________________________________________________________________________________________\n",
            "Layer (type)                    Output Shape         Param #     Connected to                     \n",
            "==================================================================================================\n",
            "phats_input (InputLayer)        (None, None, 2)      0                                            \n",
            "__________________________________________________________________________________________________\n",
            "tdist_0 (TimeDistributed)       (None, None, 100)    300         phats_input[0][0]                \n",
            "__________________________________________________________________________________________________\n",
            "activation_1 (Activation)       (None, None, 100)    0           tdist_0[0][0]                    \n",
            "__________________________________________________________________________________________________\n",
            "tdist_1 (TimeDistributed)       (None, None, 100)    10100       activation_1[0][0]               \n",
            "__________________________________________________________________________________________________\n",
            "activation_2 (Activation)       (None, None, 100)    0           tdist_1[0][0]                    \n",
            "__________________________________________________________________________________________________\n",
            "zs_input (InputLayer)           (None, None)         0                                            \n",
            "__________________________________________________________________________________________________\n",
            "tdist_2 (TimeDistributed)       (None, None, 128)    12928       activation_2[0][0]               \n",
            "__________________________________________________________________________________________________\n",
            "mask (Lambda)                   (None, None)         0           zs_input[0][0]                   \n",
            "__________________________________________________________________________________________________\n",
            "activation_3 (Activation)       (None, None, 128)    0           tdist_2[0][0]                    \n",
            "__________________________________________________________________________________________________\n",
            "sum (Dot)                       (None, 128)          0           mask[0][0]                       \n",
            "                                                                 activation_3[0][0]               \n",
            "__________________________________________________________________________________________________\n",
            "dense_0 (Dense)                 (None, 100)          12900       sum[0][0]                        \n",
            "__________________________________________________________________________________________________\n",
            "activation_4 (Activation)       (None, 100)          0           dense_0[0][0]                    \n",
            "__________________________________________________________________________________________________\n",
            "dense_1 (Dense)                 (None, 100)          10100       activation_4[0][0]               \n",
            "__________________________________________________________________________________________________\n",
            "activation_5 (Activation)       (None, 100)          0           dense_1[0][0]                    \n",
            "__________________________________________________________________________________________________\n",
            "dense_2 (Dense)                 (None, 100)          10100       activation_5[0][0]               \n",
            "__________________________________________________________________________________________________\n",
            "activation_6 (Activation)       (None, 100)          0           dense_2[0][0]                    \n",
            "__________________________________________________________________________________________________\n",
            "output (Dense)                  (None, 2)            202         activation_6[0][0]               \n",
            "__________________________________________________________________________________________________\n",
            "activation_7 (Activation)       (None, 2)            0           output[0][0]                     \n",
            "==================================================================================================\n",
            "Total params: 56,630\n",
            "Trainable params: 56,630\n",
            "Non-trainable params: 0\n",
            "__________________________________________________________________________________________________\n",
            "WARNING:tensorflow:From /usr/local/lib/python3.6/dist-packages/tensorflow_core/python/ops/math_grad.py:1424: where (from tensorflow.python.ops.array_ops) is deprecated and will be removed in a future version.\n",
            "Instructions for updating:\n",
            "Use tf.where in 2.0, which has the same broadcast rule as np.where\n",
            "WARNING:tensorflow:From /usr/local/lib/python3.6/dist-packages/keras/backend/tensorflow_backend.py:1033: The name tf.assign_add is deprecated. Please use tf.compat.v1.assign_add instead.\n",
            "\n",
            "WARNING:tensorflow:From /usr/local/lib/python3.6/dist-packages/keras/backend/tensorflow_backend.py:1020: The name tf.assign is deprecated. Please use tf.compat.v1.assign instead.\n",
            "\n",
            "WARNING:tensorflow:From /usr/local/lib/python3.6/dist-packages/keras/backend/tensorflow_backend.py:3005: The name tf.Session is deprecated. Please use tf.compat.v1.Session instead.\n",
            "\n",
            "Train on 375000 samples, validate on 50000 samples\n",
            "Epoch 1/35\n",
            "WARNING:tensorflow:From /usr/local/lib/python3.6/dist-packages/keras/backend/tensorflow_backend.py:190: The name tf.get_default_session is deprecated. Please use tf.compat.v1.get_default_session instead.\n",
            "\n",
            "WARNING:tensorflow:From /usr/local/lib/python3.6/dist-packages/keras/backend/tensorflow_backend.py:197: The name tf.ConfigProto is deprecated. Please use tf.compat.v1.ConfigProto instead.\n",
            "\n",
            "2019-11-14 03:08:02.461624: I tensorflow/core/platform/profile_utils/cpu_utils.cc:94] CPU Frequency: 2300000000 Hz\n",
            "2019-11-14 03:08:02.462227: I tensorflow/compiler/xla/service/service.cc:168] XLA service 0x27b99c0 initialized for platform Host (this does not guarantee that XLA will be used). Devices:\n",
            "2019-11-14 03:08:02.462280: I tensorflow/compiler/xla/service/service.cc:176]   StreamExecutor device (0): Host, Default Version\n",
            "2019-11-14 03:08:02.464527: I tensorflow/stream_executor/platform/default/dso_loader.cc:44] Successfully opened dynamic library libcuda.so.1\n",
            "2019-11-14 03:08:02.571316: I tensorflow/stream_executor/cuda/cuda_gpu_executor.cc:983] successful NUMA node read from SysFS had negative value (-1), but there must be at least one NUMA node, so returning NUMA node zero\n",
            "2019-11-14 03:08:02.572491: I tensorflow/compiler/xla/service/service.cc:168] XLA service 0x27b9b80 initialized for platform CUDA (this does not guarantee that XLA will be used). Devices:\n",
            "2019-11-14 03:08:02.572526: I tensorflow/compiler/xla/service/service.cc:176]   StreamExecutor device (0): Tesla P100-PCIE-16GB, Compute Capability 6.0\n",
            "2019-11-14 03:08:02.572894: I tensorflow/stream_executor/cuda/cuda_gpu_executor.cc:983] successful NUMA node read from SysFS had negative value (-1), but there must be at least one NUMA node, so returning NUMA node zero\n",
            "2019-11-14 03:08:02.573709: I tensorflow/core/common_runtime/gpu/gpu_device.cc:1618] Found device 0 with properties: \n",
            "name: Tesla P100-PCIE-16GB major: 6 minor: 0 memoryClockRate(GHz): 1.3285\n",
            "pciBusID: 0000:00:04.0\n",
            "2019-11-14 03:08:02.574089: I tensorflow/stream_executor/platform/default/dso_loader.cc:44] Successfully opened dynamic library libcudart.so.10.0\n",
            "2019-11-14 03:08:02.575424: I tensorflow/stream_executor/platform/default/dso_loader.cc:44] Successfully opened dynamic library libcublas.so.10.0\n",
            "2019-11-14 03:08:02.576939: I tensorflow/stream_executor/platform/default/dso_loader.cc:44] Successfully opened dynamic library libcufft.so.10.0\n",
            "2019-11-14 03:08:02.577288: I tensorflow/stream_executor/platform/default/dso_loader.cc:44] Successfully opened dynamic library libcurand.so.10.0\n",
            "2019-11-14 03:08:02.579232: I tensorflow/stream_executor/platform/default/dso_loader.cc:44] Successfully opened dynamic library libcusolver.so.10.0\n",
            "2019-11-14 03:08:02.581462: I tensorflow/stream_executor/platform/default/dso_loader.cc:44] Successfully opened dynamic library libcusparse.so.10.0\n",
            "2019-11-14 03:08:02.587303: I tensorflow/stream_executor/platform/default/dso_loader.cc:44] Successfully opened dynamic library libcudnn.so.7\n",
            "2019-11-14 03:08:02.587545: I tensorflow/stream_executor/cuda/cuda_gpu_executor.cc:983] successful NUMA node read from SysFS had negative value (-1), but there must be at least one NUMA node, so returning NUMA node zero\n",
            "2019-11-14 03:08:02.588579: I tensorflow/stream_executor/cuda/cuda_gpu_executor.cc:983] successful NUMA node read from SysFS had negative value (-1), but there must be at least one NUMA node, so returning NUMA node zero\n",
            "2019-11-14 03:08:02.589397: I tensorflow/core/common_runtime/gpu/gpu_device.cc:1746] Adding visible gpu devices: 0\n",
            "2019-11-14 03:08:02.589489: I tensorflow/stream_executor/platform/default/dso_loader.cc:44] Successfully opened dynamic library libcudart.so.10.0\n",
            "2019-11-14 03:08:02.591180: I tensorflow/core/common_runtime/gpu/gpu_device.cc:1159] Device interconnect StreamExecutor with strength 1 edge matrix:\n",
            "2019-11-14 03:08:02.591213: I tensorflow/core/common_runtime/gpu/gpu_device.cc:1165]      0 \n",
            "2019-11-14 03:08:02.591227: I tensorflow/core/common_runtime/gpu/gpu_device.cc:1178] 0:   N \n",
            "2019-11-14 03:08:02.591378: I tensorflow/stream_executor/cuda/cuda_gpu_executor.cc:983] successful NUMA node read from SysFS had negative value (-1), but there must be at least one NUMA node, so returning NUMA node zero\n",
            "2019-11-14 03:08:02.592346: I tensorflow/stream_executor/cuda/cuda_gpu_executor.cc:983] successful NUMA node read from SysFS had negative value (-1), but there must be at least one NUMA node, so returning NUMA node zero\n",
            "2019-11-14 03:08:02.593196: W tensorflow/core/common_runtime/gpu/gpu_bfc_allocator.cc:39] Overriding allow_growth setting because the TF_FORCE_GPU_ALLOW_GROWTH environment variable is set. Original config value was 0.\n",
            "2019-11-14 03:08:02.593262: I tensorflow/core/common_runtime/gpu/gpu_device.cc:1304] Created TensorFlow device (/job:localhost/replica:0/task:0/device:GPU:0 with 15216 MB memory) -> physical GPU (device: 0, name: Tesla P100-PCIE-16GB, pci bus id: 0000:00:04.0, compute capability: 6.0)\n",
            "WARNING:tensorflow:From /usr/local/lib/python3.6/dist-packages/keras/backend/tensorflow_backend.py:207: The name tf.global_variables is deprecated. Please use tf.compat.v1.global_variables instead.\n",
            "\n",
            "WARNING:tensorflow:From /usr/local/lib/python3.6/dist-packages/keras/backend/tensorflow_backend.py:216: The name tf.is_variable_initialized is deprecated. Please use tf.compat.v1.is_variable_initialized instead.\n",
            "\n",
            "WARNING:tensorflow:From /usr/local/lib/python3.6/dist-packages/keras/backend/tensorflow_backend.py:223: The name tf.variables_initializer is deprecated. Please use tf.compat.v1.variables_initializer instead.\n",
            "\n",
            "2019-11-14 03:08:03.572154: I tensorflow/stream_executor/platform/default/dso_loader.cc:44] Successfully opened dynamic library libcublas.so.10.0\n",
            "375000/375000 [==============================] - 11s 29us/step - loss: 0.5319 - acc: 0.7335 - val_loss: 0.4976 - val_acc: 0.7623\n",
            "Epoch 2/35\n",
            "375000/375000 [==============================] - 9s 24us/step - loss: 0.4929 - acc: 0.7653 - val_loss: 0.4833 - val_acc: 0.7729\n",
            "Epoch 3/35\n",
            "375000/375000 [==============================] - 9s 25us/step - loss: 0.4845 - acc: 0.7709 - val_loss: 0.4759 - val_acc: 0.7763\n",
            "Epoch 4/35\n",
            "375000/375000 [==============================] - 9s 25us/step - loss: 0.4795 - acc: 0.7740 - val_loss: 0.4784 - val_acc: 0.7763\n",
            "Epoch 5/35\n",
            "375000/375000 [==============================] - 9s 25us/step - loss: 0.4751 - acc: 0.7772 - val_loss: 0.4677 - val_acc: 0.7811\n",
            "Epoch 6/35\n",
            "375000/375000 [==============================] - 9s 24us/step - loss: 0.4692 - acc: 0.7811 - val_loss: 0.4609 - val_acc: 0.7854\n",
            "Epoch 7/35\n",
            "375000/375000 [==============================] - 9s 24us/step - loss: 0.4644 - acc: 0.7839 - val_loss: 0.4548 - val_acc: 0.7912\n",
            "Epoch 8/35\n",
            "375000/375000 [==============================] - 9s 24us/step - loss: 0.4601 - acc: 0.7871 - val_loss: 0.4535 - val_acc: 0.7916\n",
            "Epoch 9/35\n",
            "375000/375000 [==============================] - 9s 25us/step - loss: 0.4583 - acc: 0.7882 - val_loss: 0.4615 - val_acc: 0.7837\n",
            "Epoch 10/35\n",
            "375000/375000 [==============================] - 9s 24us/step - loss: 0.4556 - acc: 0.7903 - val_loss: 0.4497 - val_acc: 0.7928\n",
            "Epoch 11/35\n",
            "375000/375000 [==============================] - 9s 25us/step - loss: 0.4538 - acc: 0.7917 - val_loss: 0.4562 - val_acc: 0.7900\n",
            "Epoch 12/35\n",
            "375000/375000 [==============================] - 9s 24us/step - loss: 0.4527 - acc: 0.7921 - val_loss: 0.4505 - val_acc: 0.7947\n",
            "Epoch 13/35\n",
            "375000/375000 [==============================] - 9s 24us/step - loss: 0.4503 - acc: 0.7940 - val_loss: 0.4487 - val_acc: 0.7959\n",
            "Epoch 14/35\n",
            "375000/375000 [==============================] - 9s 25us/step - loss: 0.4486 - acc: 0.7947 - val_loss: 0.4473 - val_acc: 0.7959\n",
            "Epoch 15/35\n",
            "375000/375000 [==============================] - 9s 24us/step - loss: 0.4478 - acc: 0.7959 - val_loss: 0.4464 - val_acc: 0.7959\n",
            "Epoch 16/35\n",
            "375000/375000 [==============================] - 9s 24us/step - loss: 0.4465 - acc: 0.7963 - val_loss: 0.4433 - val_acc: 0.7998\n",
            "Epoch 17/35\n",
            "375000/375000 [==============================] - 9s 24us/step - loss: 0.4459 - acc: 0.7970 - val_loss: 0.4445 - val_acc: 0.7981\n",
            "Epoch 18/35\n",
            "375000/375000 [==============================] - 9s 24us/step - loss: 0.4449 - acc: 0.7975 - val_loss: 0.4418 - val_acc: 0.7994\n",
            "Epoch 19/35\n",
            "375000/375000 [==============================] - 9s 24us/step - loss: 0.4435 - acc: 0.7985 - val_loss: 0.4408 - val_acc: 0.8023\n",
            "Epoch 20/35\n",
            "375000/375000 [==============================] - 9s 24us/step - loss: 0.4426 - acc: 0.7990 - val_loss: 0.4424 - val_acc: 0.7988\n",
            "Epoch 21/35\n",
            "375000/375000 [==============================] - 9s 24us/step - loss: 0.4418 - acc: 0.7997 - val_loss: 0.4468 - val_acc: 0.7978\n",
            "Epoch 22/35\n",
            "375000/375000 [==============================] - 9s 24us/step - loss: 0.4412 - acc: 0.7998 - val_loss: 0.4425 - val_acc: 0.7998\n",
            "Epoch 23/35\n",
            "375000/375000 [==============================] - 9s 24us/step - loss: 0.4402 - acc: 0.8007 - val_loss: 0.4399 - val_acc: 0.8022\n",
            "Epoch 24/35\n",
            "375000/375000 [==============================] - 9s 24us/step - loss: 0.4393 - acc: 0.8012 - val_loss: 0.4391 - val_acc: 0.8026\n",
            "Epoch 25/35\n",
            "375000/375000 [==============================] - 9s 25us/step - loss: 0.4388 - acc: 0.8014 - val_loss: 0.4416 - val_acc: 0.7996\n",
            "Epoch 26/35\n",
            "375000/375000 [==============================] - 9s 24us/step - loss: 0.4378 - acc: 0.8026 - val_loss: 0.4391 - val_acc: 0.8022\n",
            "Epoch 27/35\n",
            "375000/375000 [==============================] - 9s 24us/step - loss: 0.4378 - acc: 0.8021 - val_loss: 0.4376 - val_acc: 0.8035\n",
            "Epoch 28/35\n",
            "375000/375000 [==============================] - 9s 25us/step - loss: 0.4368 - acc: 0.8028 - val_loss: 0.4378 - val_acc: 0.8028\n",
            "Epoch 29/35\n",
            "375000/375000 [==============================] - 9s 24us/step - loss: 0.4367 - acc: 0.8032 - val_loss: 0.4371 - val_acc: 0.8024\n",
            "Epoch 30/35\n",
            "375000/375000 [==============================] - 9s 24us/step - loss: 0.4355 - acc: 0.8038 - val_loss: 0.4387 - val_acc: 0.8024\n",
            "Epoch 31/35\n",
            "375000/375000 [==============================] - 9s 24us/step - loss: 0.4351 - acc: 0.8036 - val_loss: 0.4381 - val_acc: 0.8018\n",
            "Epoch 32/35\n",
            "375000/375000 [==============================] - 9s 25us/step - loss: 0.4345 - acc: 0.8040 - val_loss: 0.4399 - val_acc: 0.8017\n",
            "Epoch 33/35\n",
            "375000/375000 [==============================] - 9s 25us/step - loss: 0.4338 - acc: 0.8043 - val_loss: 0.4374 - val_acc: 0.8029\n",
            "Epoch 34/35\n",
            "375000/375000 [==============================] - 9s 25us/step - loss: 0.4334 - acc: 0.8050 - val_loss: 0.4366 - val_acc: 0.8037\n",
            "Epoch 35/35\n",
            "375000/375000 [==============================] - 9s 25us/step - loss: 0.4330 - acc: 0.8052 - val_loss: 0.4362 - val_acc: 0.8048\n",
            "\n",
            "EFN AUC: 0.8757323161409647\n",
            "\n",
            "<Figure size 800x400 with 2 Axes>\n"
          ],
          "name": "stdout"
        }
      ]
    },
    {
      "cell_type": "code",
      "metadata": {
        "id": "oWPwDeMQWI5r",
        "colab_type": "code",
        "colab": {}
      },
      "source": [
        ""
      ],
      "execution_count": 0,
      "outputs": []
    }
  ]
}