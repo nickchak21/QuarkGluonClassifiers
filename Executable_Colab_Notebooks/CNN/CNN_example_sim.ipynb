{
  "nbformat": 4,
  "nbformat_minor": 0,
  "metadata": {
    "colab": {
      "name": "CNN_example_sim.ipynb",
      "provenance": [],
      "machine_shape": "hm",
      "include_colab_link": true
    },
    "kernelspec": {
      "name": "python3",
      "display_name": "Python 3"
    },
    "accelerator": "GPU"
  },
  "cells": [
    {
      "cell_type": "markdown",
      "metadata": {
        "id": "view-in-github",
        "colab_type": "text"
      },
      "source": [
        "<a href=\"https://colab.research.google.com/github/nickchak21/QuarkGluonClassifiers/blob/master/Executable_Colab_Notebooks/CNN/CNN_example_sim.ipynb\" target=\"_parent\"><img src=\"https://colab.research.google.com/assets/colab-badge.svg\" alt=\"Open In Colab\"/></a>"
      ]
    },
    {
      "cell_type": "markdown",
      "metadata": {
        "id": "uzshWRP1mRVE",
        "colab_type": "text"
      },
      "source": [
        "Installing the energyflow and h5py packages in the Colab environment"
      ]
    },
    {
      "cell_type": "code",
      "metadata": {
        "id": "EDQHdFMzRKws",
        "colab_type": "code",
        "outputId": "fa393228-0b18-4451-e886-688f5ee9aa5b",
        "colab": {
          "base_uri": "https://localhost:8080/",
          "height": 289
        }
      },
      "source": [
        "!pip install energyflow\n",
        "!pip install h5py"
      ],
      "execution_count": 1,
      "outputs": [
        {
          "output_type": "stream",
          "text": [
            "Collecting energyflow\n",
            "\u001b[?25l  Downloading https://files.pythonhosted.org/packages/ae/45/acf4909dfffb6e5712f14f8ca4f3708fafea36b348854e0a5e38860bfda7/EnergyFlow-1.0.2-py2.py3-none-any.whl (688kB)\n",
            "\u001b[K     |████████████████████████████████| 696kB 2.6MB/s \n",
            "\u001b[?25hCollecting h5py>=2.9.0\n",
            "\u001b[?25l  Downloading https://files.pythonhosted.org/packages/60/06/cafdd44889200e5438b897388f3075b52a8ef01f28a17366d91de0fa2d05/h5py-2.10.0-cp36-cp36m-manylinux1_x86_64.whl (2.9MB)\n",
            "\u001b[K     |████████████████████████████████| 2.9MB 72.4MB/s \n",
            "\u001b[?25hRequirement already satisfied: six>=1.10.0 in /usr/local/lib/python3.6/dist-packages (from energyflow) (1.12.0)\n",
            "Requirement already satisfied: numpy>=1.14.0 in /usr/local/lib/python3.6/dist-packages (from energyflow) (1.17.5)\n",
            "Installing collected packages: h5py, energyflow\n",
            "  Found existing installation: h5py 2.8.0\n",
            "    Uninstalling h5py-2.8.0:\n",
            "      Successfully uninstalled h5py-2.8.0\n",
            "Successfully installed energyflow-1.0.2 h5py-2.10.0\n",
            "Requirement already satisfied: h5py in /usr/local/lib/python3.6/dist-packages (2.10.0)\n",
            "Requirement already satisfied: numpy>=1.7 in /usr/local/lib/python3.6/dist-packages (from h5py) (1.17.5)\n",
            "Requirement already satisfied: six in /usr/local/lib/python3.6/dist-packages (from h5py) (1.12.0)\n"
          ],
          "name": "stdout"
        }
      ]
    },
    {
      "cell_type": "markdown",
      "metadata": {
        "id": "kfLGZwW0mYBL",
        "colab_type": "text"
      },
      "source": [
        "Checking the version of Python (should be Python 3.6)"
      ]
    },
    {
      "cell_type": "code",
      "metadata": {
        "id": "jCY1hm8xSJyX",
        "colab_type": "code",
        "outputId": "5be54093-d4fc-4177-cdb0-0e6685c74249",
        "colab": {
          "base_uri": "https://localhost:8080/",
          "height": 34
        }
      },
      "source": [
        "!python --version"
      ],
      "execution_count": 2,
      "outputs": [
        {
          "output_type": "stream",
          "text": [
            "Python 3.6.9\n"
          ],
          "name": "stdout"
        }
      ]
    },
    {
      "cell_type": "markdown",
      "metadata": {
        "id": "72Ol_TkTmdu7",
        "colab_type": "text"
      },
      "source": [
        "Installing POT (Python Optimal Transform) package"
      ]
    },
    {
      "cell_type": "code",
      "metadata": {
        "id": "1r3rd5lMSYiH",
        "colab_type": "code",
        "outputId": "49bb3553-ae45-457d-d3b9-a7e8c178cc89",
        "colab": {
          "base_uri": "https://localhost:8080/",
          "height": 153
        }
      },
      "source": [
        "!pip install POT"
      ],
      "execution_count": 3,
      "outputs": [
        {
          "output_type": "stream",
          "text": [
            "Collecting POT\n",
            "\u001b[?25l  Downloading https://files.pythonhosted.org/packages/15/36/07d3c0960a590b88b81fa1837e666cc7479b90c7e9fd1063024ce9331122/POT-0.6.0-cp36-cp36m-manylinux1_x86_64.whl (305kB)\n",
            "\r\u001b[K     |█                               | 10kB 15.1MB/s eta 0:00:01\r\u001b[K     |██▏                             | 20kB 1.5MB/s eta 0:00:01\r\u001b[K     |███▏                            | 30kB 2.2MB/s eta 0:00:01\r\u001b[K     |████▎                           | 40kB 1.6MB/s eta 0:00:01\r\u001b[K     |█████▍                          | 51kB 1.9MB/s eta 0:00:01\r\u001b[K     |██████▍                         | 61kB 2.3MB/s eta 0:00:01\r\u001b[K     |███████▌                        | 71kB 2.7MB/s eta 0:00:01\r\u001b[K     |████████▋                       | 81kB 3.0MB/s eta 0:00:01\r\u001b[K     |█████████▋                      | 92kB 3.4MB/s eta 0:00:01\r\u001b[K     |██████████▊                     | 102kB 2.6MB/s eta 0:00:01\r\u001b[K     |███████████▉                    | 112kB 2.6MB/s eta 0:00:01\r\u001b[K     |████████████▉                   | 122kB 2.6MB/s eta 0:00:01\r\u001b[K     |██████████████                  | 133kB 2.6MB/s eta 0:00:01\r\u001b[K     |███████████████                 | 143kB 2.6MB/s eta 0:00:01\r\u001b[K     |████████████████                | 153kB 2.6MB/s eta 0:00:01\r\u001b[K     |█████████████████▏              | 163kB 2.6MB/s eta 0:00:01\r\u001b[K     |██████████████████▎             | 174kB 2.6MB/s eta 0:00:01\r\u001b[K     |███████████████████▎            | 184kB 2.6MB/s eta 0:00:01\r\u001b[K     |████████████████████▍           | 194kB 2.6MB/s eta 0:00:01\r\u001b[K     |█████████████████████▍          | 204kB 2.6MB/s eta 0:00:01\r\u001b[K     |██████████████████████▌         | 215kB 2.6MB/s eta 0:00:01\r\u001b[K     |███████████████████████▋        | 225kB 2.6MB/s eta 0:00:01\r\u001b[K     |████████████████████████▋       | 235kB 2.6MB/s eta 0:00:01\r\u001b[K     |█████████████████████████▊      | 245kB 2.6MB/s eta 0:00:01\r\u001b[K     |██████████████████████████▉     | 256kB 2.6MB/s eta 0:00:01\r\u001b[K     |███████████████████████████▉    | 266kB 2.6MB/s eta 0:00:01\r\u001b[K     |█████████████████████████████   | 276kB 2.6MB/s eta 0:00:01\r\u001b[K     |██████████████████████████████  | 286kB 2.6MB/s eta 0:00:01\r\u001b[K     |███████████████████████████████ | 296kB 2.6MB/s eta 0:00:01\r\u001b[K     |████████████████████████████████| 307kB 2.6MB/s \n",
            "\u001b[?25hRequirement already satisfied: cython in /usr/local/lib/python3.6/dist-packages (from POT) (0.29.14)\n",
            "Requirement already satisfied: numpy in /usr/local/lib/python3.6/dist-packages (from POT) (1.17.5)\n",
            "Requirement already satisfied: scipy in /usr/local/lib/python3.6/dist-packages (from POT) (1.4.1)\n",
            "Installing collected packages: POT\n",
            "Successfully installed POT-0.6.0\n"
          ],
          "name": "stdout"
        }
      ]
    },
    {
      "cell_type": "markdown",
      "metadata": {
        "id": "tbIKZloImmZR",
        "colab_type": "text"
      },
      "source": [
        "The following code runs a quark gluon classifier using a CNN (Convolutional Neural Network) architecture. The input jets are detector-simulated. The AUC tops out at around 0.77. Training on more data would use more RAM than is available in a Colab environnment. Currently, we use 165,000 jets to train, 22,000 jets to validate, and and 33,000 jets to test.\n",
        "\n",
        "NOTE: The Colab runtime will crash if you run the following code. It will then prompt you to ask if you want to use a high-RAM runtime. Select \"yes\", and then the code will run as intended."
      ]
    },
    {
      "cell_type": "code",
      "metadata": {
        "id": "ZxJOwhR7tWcu",
        "colab_type": "code",
        "outputId": "1dae7e7e-5e5a-4574-b5e1-7c3ba050de58",
        "colab": {
          "base_uri": "https://localhost:8080/",
          "height": 1000
        }
      },
      "source": [
        "\"\"\"An example involving jet images and convolutional neural networks (CNNs).\n",
        "The [`CNN`](../docs/archs/#cnn) class is used to provide a network architecture\n",
        "based on that described in [1612.01551](https://arxiv.org/abs/1612.01551). \n",
        "\n",
        "Jet images are constructed using the [`pixelate`](../docs/utils/#pixelate) \n",
        "function and can be either one-channel (grayscale), meaning that only \n",
        "$p_T$ information is used, or two-channel (color), meaning that $p_T$\n",
        "information and local charged particle counts are used. The images are\n",
        "preprocessed by subtracting the average image in the training set and\n",
        "dividing by the per-pixel standard deviations, using the \n",
        "[`zero_center`](../docs/utils/#zero_center) and \n",
        "[`standardize`](../docs/utils/#standardize) functions, respectively. \n",
        "The output of the example is a plot of the ROC curves of the CNN \n",
        "as well as the jet mass and constituent multiplicity observables.\n",
        "\n",
        "Note that the number of epochs is quite small because it is quite time\n",
        "consuming to train a CNN without a GPU (which will speed up this example\n",
        "immensely).\n",
        "\"\"\"\n",
        "\n",
        "# standard library imports\n",
        "from __future__ import absolute_import, division, print_function\n",
        "\n",
        "# standard numerical library imports\n",
        "import numpy as np\n",
        "\n",
        "# energyflow imports\n",
        "import energyflow as ef\n",
        "from energyflow.archs import CNN\n",
        "from energyflow.datasets import qg_jets\n",
        "from energyflow.utils import data_split, pixelate, standardize, to_categorical, zero_center\n",
        "\n",
        "# attempt to import sklearn\n",
        "try:\n",
        "    from sklearn.metrics import roc_auc_score, roc_curve\n",
        "except:\n",
        "    print('please install scikit-learn in order to make ROC curves')\n",
        "    roc_curve = False\n",
        "\n",
        "# attempt to import matplotlib\n",
        "try:\n",
        "    import matplotlib.pyplot as plt\n",
        "except:\n",
        "    print('please install matploltib in order to make plots')\n",
        "    plt = False\n",
        "\n",
        "################################### SETTINGS ###################################\n",
        "\n",
        "# data controls\n",
        "num_data = 220000\n",
        "val, test = 22000, 33000\n",
        "\n",
        "# image parameters\n",
        "R = 0.4\n",
        "img_width = 2*R\n",
        "npix = 33\n",
        "nb_chan = 2\n",
        "norm = True\n",
        "\n",
        "# required network architecture parameters\n",
        "input_shape = (nb_chan, npix, npix)\n",
        "filter_sizes = [8, 4, 4]\n",
        "num_filters = [8, 8, 8] # very small so can run on non-GPUs in reasonable time\n",
        "\n",
        "# optional network architecture parameters\n",
        "dense_sizes = [50]\n",
        "pool_sizes = 2\n",
        "\n",
        "# network training parameters\n",
        "num_epoch = 15\n",
        "batch_size = 100\n",
        "\n",
        "################################################################################\n",
        "\n",
        "# load data\n",
        "specs = ['375 <= corr_jet_pts <= 425', 'abs_jet_eta < 1.9', 'quality >= 2']\n",
        "amount = 0.1\n",
        "sim = ef.mod.load(*specs, dataset='sim', amount=amount)\n",
        "\n",
        "array_lengths = []\n",
        "for i in range(len(sim.particles)):\n",
        "    array_lengths.append(len(sim.particles[i]))\n",
        "\n",
        "jet_array = np.zeros((len(sim.particles),160,6))\n",
        "for i in range(len(sim.particles)):\n",
        "    for j in range(160):\n",
        "        for k in range(6):\n",
        "            try:\n",
        "                jet_array[i,j,k] = sim.particles[i][j][k]\n",
        "            except IndexError:\n",
        "                jet_array[i,j,k] = 0\n",
        "\n",
        "labels = []\n",
        "for i in range(len(sim.hard_pids)):\n",
        "    if sim.hard_pids[i] == 21:\n",
        "        labels.append(0)\n",
        "    else:\n",
        "        labels.append(1)\n",
        "label_array = np.asarray(labels)\n",
        "\n",
        "X = jet_array[:220000]\n",
        "y = label_array[:220000]\n",
        "\n",
        "# convert labels to categorical\n",
        "Y = to_categorical(y, num_classes=2)\n",
        "\n",
        "print('Loaded quark and gluon jets')\n",
        "\n",
        "# make jet images\n",
        "images = np.asarray([pixelate(x, npix=npix, img_width=img_width, nb_chan=nb_chan, \n",
        "                                 charged_counts_only=True, norm=norm) for x in X])\n",
        "\n",
        "print('Done making jet images')\n",
        "\n",
        "# do train/val/test split \n",
        "(X_train, X_val, X_test,\n",
        " Y_train, Y_val, Y_test) = data_split(images, Y, val=val, test=test)\n",
        "\n",
        "print('Done train/val/test split')\n",
        "\n",
        "# preprocess by zero centering images and standardizing each pixel\n",
        "X_train, X_val, X_test = standardize(*zero_center(X_train, X_val, X_test))\n",
        "\n",
        "print('Finished preprocessing')\n",
        "print('Model summary:')\n",
        "\n",
        "# build architecture\n",
        "hps = {'input_shape': input_shape,\n",
        "       'filter_sizes': filter_sizes,\n",
        "       'num_filters': num_filters,\n",
        "       'dense_sizes': dense_sizes,\n",
        "       'pool_sizes': pool_sizes}\n",
        "cnn = CNN(hps)\n",
        "\n",
        "# train model\n",
        "cnn.fit(X_train, Y_train,\n",
        "          epochs=num_epoch,\n",
        "          batch_size=batch_size,\n",
        "          validation_data=(X_val, Y_val),\n",
        "          verbose=1)\n",
        "\n",
        "# get predictions on test data\n",
        "preds = cnn.predict(X_test, batch_size=1000)\n",
        "\n",
        "# get ROC curve if we have sklearn\n",
        "if roc_curve:\n",
        "    cnn_fp, cnn_tp, threshs = roc_curve(Y_test[:,1], preds[:,1])\n",
        "\n",
        "    # get area under the ROC curve\n",
        "    auc = roc_auc_score(Y_test[:,1], preds[:,1])\n",
        "    print()\n",
        "    print('CNN AUC:', auc)\n",
        "    print()\n",
        "\n",
        "    # make ROC curve plot if we have matplotlib\n",
        "    if plt:\n",
        "\n",
        "        # get multiplicity and mass for comparison\n",
        "        masses = np.asarray([ef.ms_from_p4s(ef.p4s_from_ptyphims(x).sum(axis=0)) for x in X])\n",
        "        mults = np.asarray([np.count_nonzero(x[:,0]) for x in X])\n",
        "        mass_fp, mass_tp, threshs = roc_curve(Y[:,1], -masses)\n",
        "        mult_fp, mult_tp, threshs = roc_curve(Y[:,1], -mults)\n",
        "\n",
        "        # some nicer plot settings \n",
        "        plt.rcParams['figure.figsize'] = (4,4)\n",
        "        plt.rcParams['font.family'] = 'serif'\n",
        "        plt.rcParams['figure.autolayout'] = True\n",
        "\n",
        "        # plot the ROC curves\n",
        "        plt.plot(cnn_tp, 1-cnn_fp, '-', color='black', label='CNN')\n",
        "        plt.plot(mass_tp, 1-mass_fp, '-', color='blue', label='Jet Mass')\n",
        "        plt.plot(mult_tp, 1-mult_fp, '-', color='red', label='Multiplicity')\n",
        "\n",
        "        # axes labels\n",
        "        plt.xlabel('Quark Jet Efficiency')\n",
        "        plt.ylabel('Gluon Jet Rejection')\n",
        "\n",
        "        # axes limits\n",
        "        plt.xlim(0, 1)\n",
        "        plt.ylim(0, 1)\n",
        "\n",
        "        # make legend and show plot\n",
        "        plt.legend(loc='lower left', frameon=False)\n",
        "        plt.show()"
      ],
      "execution_count": 5,
      "outputs": [
        {
          "output_type": "stream",
          "text": [
            "Loaded quark and gluon jets\n",
            "Done making jet images\n",
            "Done train/val/test split\n",
            "Finished preprocessing\n",
            "Model summary:\n",
            "Model: \"sequential_2\"\n",
            "_________________________________________________________________\n",
            "Layer (type)                 Output Shape              Param #   \n",
            "=================================================================\n",
            "conv2d_0 (Conv2D)            (None, 8, 26, 26)         1032      \n",
            "_________________________________________________________________\n",
            "activation_6 (Activation)    (None, 8, 26, 26)         0         \n",
            "_________________________________________________________________\n",
            "max_pool_0 (MaxPooling2D)    (None, 4, 13, 26)         0         \n",
            "_________________________________________________________________\n",
            "conv2d_1 (Conv2D)            (None, 8, 10, 23)         520       \n",
            "_________________________________________________________________\n",
            "activation_7 (Activation)    (None, 8, 10, 23)         0         \n",
            "_________________________________________________________________\n",
            "max_pool_1 (MaxPooling2D)    (None, 4, 5, 23)          0         \n",
            "_________________________________________________________________\n",
            "conv2d_2 (Conv2D)            (None, 8, 2, 20)          520       \n",
            "_________________________________________________________________\n",
            "activation_8 (Activation)    (None, 8, 2, 20)          0         \n",
            "_________________________________________________________________\n",
            "max_pool_2 (MaxPooling2D)    (None, 4, 1, 20)          0         \n",
            "_________________________________________________________________\n",
            "flatten (Flatten)            (None, 80)                0         \n",
            "_________________________________________________________________\n",
            "dense_0 (Dense)              (None, 50)                4050      \n",
            "_________________________________________________________________\n",
            "activation_9 (Activation)    (None, 50)                0         \n",
            "_________________________________________________________________\n",
            "output (Dense)               (None, 2)                 102       \n",
            "_________________________________________________________________\n",
            "activation_10 (Activation)   (None, 2)                 0         \n",
            "=================================================================\n",
            "Total params: 6,224\n",
            "Trainable params: 6,224\n",
            "Non-trainable params: 0\n",
            "_________________________________________________________________\n",
            "Train on 165000 samples, validate on 22000 samples\n",
            "Epoch 1/15\n",
            "165000/165000 [==============================] - 11s 64us/step - loss: 0.5898 - acc: 0.6791 - val_loss: 0.5863 - val_acc: 0.6841\n",
            "Epoch 2/15\n",
            "165000/165000 [==============================] - 9s 55us/step - loss: 0.5811 - acc: 0.6864 - val_loss: 0.5815 - val_acc: 0.6884\n",
            "Epoch 3/15\n",
            "165000/165000 [==============================] - 9s 53us/step - loss: 0.5785 - acc: 0.6891 - val_loss: 0.5781 - val_acc: 0.6898\n",
            "Epoch 4/15\n",
            "165000/165000 [==============================] - 9s 53us/step - loss: 0.5767 - acc: 0.6903 - val_loss: 0.5786 - val_acc: 0.6883\n",
            "Epoch 5/15\n",
            "165000/165000 [==============================] - 9s 53us/step - loss: 0.5752 - acc: 0.6923 - val_loss: 0.5766 - val_acc: 0.6901\n",
            "Epoch 6/15\n",
            "165000/165000 [==============================] - 9s 53us/step - loss: 0.5746 - acc: 0.6931 - val_loss: 0.5815 - val_acc: 0.6847\n",
            "Epoch 7/15\n",
            "165000/165000 [==============================] - 9s 53us/step - loss: 0.5731 - acc: 0.6950 - val_loss: 0.5749 - val_acc: 0.6929\n",
            "Epoch 8/15\n",
            "165000/165000 [==============================] - 9s 53us/step - loss: 0.5728 - acc: 0.6942 - val_loss: 0.5802 - val_acc: 0.6901\n",
            "Epoch 9/15\n",
            "165000/165000 [==============================] - 9s 53us/step - loss: 0.5721 - acc: 0.6947 - val_loss: 0.5911 - val_acc: 0.6803\n",
            "Epoch 10/15\n",
            "165000/165000 [==============================] - 9s 53us/step - loss: 0.5711 - acc: 0.6963 - val_loss: 0.5761 - val_acc: 0.6898\n",
            "Epoch 11/15\n",
            "165000/165000 [==============================] - 9s 54us/step - loss: 0.5703 - acc: 0.6974 - val_loss: 0.5742 - val_acc: 0.6933\n",
            "Epoch 12/15\n",
            "165000/165000 [==============================] - 9s 54us/step - loss: 0.5692 - acc: 0.6979 - val_loss: 0.5717 - val_acc: 0.6968\n",
            "Epoch 13/15\n",
            "165000/165000 [==============================] - 9s 54us/step - loss: 0.5683 - acc: 0.6987 - val_loss: 0.5769 - val_acc: 0.6907\n",
            "Epoch 14/15\n",
            "165000/165000 [==============================] - 9s 54us/step - loss: 0.5675 - acc: 0.6994 - val_loss: 0.5739 - val_acc: 0.6942\n",
            "Epoch 15/15\n",
            "165000/165000 [==============================] - 9s 53us/step - loss: 0.5669 - acc: 0.7003 - val_loss: 0.5698 - val_acc: 0.6969\n",
            "\n",
            "CNN AUC: 0.7662545743758582\n",
            "\n"
          ],
          "name": "stdout"
        },
        {
          "output_type": "display_data",
          "data": {
            "image/png": "[encoded data removed]",
            "text/plain": [
              "<Figure size 288x288 with 1 Axes>"
            ]
          },
          "metadata": {
            "tags": []
          }
        }
      ]
    }
  ]
}