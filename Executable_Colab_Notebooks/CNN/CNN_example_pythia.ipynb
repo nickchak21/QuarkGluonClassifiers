{
  "nbformat": 4,
  "nbformat_minor": 0,
  "metadata": {
    "colab": {
      "name": "CNN_example_pythia.ipynb",
      "provenance": [],
      "include_colab_link": true
    },
    "kernelspec": {
      "name": "python3",
      "display_name": "Python 3"
    },
    "accelerator": "GPU"
  },
  "cells": [
    {
      "cell_type": "markdown",
      "metadata": {
        "id": "view-in-github",
        "colab_type": "text"
      },
      "source": [
        "<a href=\"https://colab.research.google.com/github/nickchak21/QuarkGluonClassifiers/blob/master/Executable_Colab_Notebooks/CNN/CNN_example_pythia.ipynb\" target=\"_parent\"><img src=\"https://colab.research.google.com/assets/colab-badge.svg\" alt=\"Open In Colab\"/></a>"
      ]
    },
    {
      "cell_type": "markdown",
      "metadata": {
        "id": "WVj0I4pAgv8z",
        "colab_type": "text"
      },
      "source": [
        "Installing the energyflow and h5py packages in the Colab environment"
      ]
    },
    {
      "cell_type": "code",
      "metadata": {
        "id": "EDQHdFMzRKws",
        "colab_type": "code",
        "outputId": "ff190ec7-8b3a-4a1b-9a2f-bfdced3f0634",
        "colab": {
          "base_uri": "https://localhost:8080/",
          "height": 136
        }
      },
      "source": [
        "!pip install energyflow\n",
        "!pip install h5py"
      ],
      "execution_count": 0,
      "outputs": [
        {
          "output_type": "stream",
          "text": [
            "Requirement already satisfied: energyflow in /usr/local/lib/python3.6/dist-packages (1.0.2)\n",
            "Requirement already satisfied: h5py>=2.9.0 in /usr/local/lib/python3.6/dist-packages (from energyflow) (2.10.0)\n",
            "Requirement already satisfied: six>=1.10.0 in /usr/local/lib/python3.6/dist-packages (from energyflow) (1.12.0)\n",
            "Requirement already satisfied: numpy>=1.14.0 in /usr/local/lib/python3.6/dist-packages (from energyflow) (1.17.5)\n",
            "Requirement already satisfied: h5py in /usr/local/lib/python3.6/dist-packages (2.10.0)\n",
            "Requirement already satisfied: six in /usr/local/lib/python3.6/dist-packages (from h5py) (1.12.0)\n",
            "Requirement already satisfied: numpy>=1.7 in /usr/local/lib/python3.6/dist-packages (from h5py) (1.17.5)\n"
          ],
          "name": "stdout"
        }
      ]
    },
    {
      "cell_type": "markdown",
      "metadata": {
        "id": "exVVLFczg6qT",
        "colab_type": "text"
      },
      "source": [
        "Checking the version of Python (should be Python 3.6)"
      ]
    },
    {
      "cell_type": "code",
      "metadata": {
        "id": "jCY1hm8xSJyX",
        "colab_type": "code",
        "outputId": "6595d48a-0d27-45b2-a636-2dd14e3dc917",
        "colab": {
          "base_uri": "https://localhost:8080/",
          "height": 34
        }
      },
      "source": [
        "!python --version"
      ],
      "execution_count": 0,
      "outputs": [
        {
          "output_type": "stream",
          "text": [
            "Python 3.6.9\n"
          ],
          "name": "stdout"
        }
      ]
    },
    {
      "cell_type": "markdown",
      "metadata": {
        "id": "s1CUwb7-hAfr",
        "colab_type": "text"
      },
      "source": [
        "Installing POT (Python Optimal Transport) package"
      ]
    },
    {
      "cell_type": "code",
      "metadata": {
        "id": "1r3rd5lMSYiH",
        "colab_type": "code",
        "outputId": "34b89368-2b54-4891-fc7b-cef9bff8c7ec",
        "colab": {
          "base_uri": "https://localhost:8080/",
          "height": 85
        }
      },
      "source": [
        "!pip install POT"
      ],
      "execution_count": 0,
      "outputs": [
        {
          "output_type": "stream",
          "text": [
            "Requirement already satisfied: POT in /usr/local/lib/python3.6/dist-packages (0.6.0)\n",
            "Requirement already satisfied: cython in /usr/local/lib/python3.6/dist-packages (from POT) (0.29.14)\n",
            "Requirement already satisfied: scipy in /usr/local/lib/python3.6/dist-packages (from POT) (1.4.1)\n",
            "Requirement already satisfied: numpy in /usr/local/lib/python3.6/dist-packages (from POT) (1.17.5)\n"
          ],
          "name": "stdout"
        }
      ]
    },
    {
      "cell_type": "markdown",
      "metadata": {
        "id": "kJE-hF9mhNZ3",
        "colab_type": "text"
      },
      "source": [
        "The following code runs a quark gluon classifier using a CNN (Convolutional Neural Network) architecture. The input jets are Pythia-generated. The AUC tops out at around 0.86. Using any more training data would use more RAM than is available in a Colab environnment. Currently, we use 165,000 jets to train, 22,000 jets to validate, and and 33,000 jets to test."
      ]
    },
    {
      "cell_type": "code",
      "metadata": {
        "id": "yzejQlH7fTt9",
        "colab_type": "code",
        "outputId": "e8c85d35-a41e-4de2-fd25-dbe1db76229a",
        "colab": {
          "base_uri": "https://localhost:8080/",
          "height": 1000
        }
      },
      "source": [
        "\"\"\"An example involving jet images and convolutional neural networks (CNNs).\n",
        "The [`CNN`](../docs/archs/#cnn) class is used to provide a network architecture\n",
        "based on that described in [1612.01551](https://arxiv.org/abs/1612.01551). \n",
        "\n",
        "Jet images are constructed using the [`pixelate`](../docs/utils/#pixelate) \n",
        "function and can be either one-channel (grayscale), meaning that only \n",
        "$p_T$ information is used, or two-channel (color), meaning that $p_T$\n",
        "information and local charged particle counts are used. The images are\n",
        "preprocessed by subtracting the average image in the training set and\n",
        "dividing by the per-pixel standard deviations, using the \n",
        "[`zero_center`](../docs/utils/#zero_center) and \n",
        "[`standardize`](../docs/utils/#standardize) functions, respectively. \n",
        "The output of the example is a plot of the ROC curves of the CNN \n",
        "as well as the jet mass and constituent multiplicity observables.\n",
        "\n",
        "Note that the number of epochs is quite small because it is quite time\n",
        "consuming to train a CNN without a GPU (which will speed up this example\n",
        "immensely).\n",
        "\"\"\"\n",
        "\n",
        "# standard library imports\n",
        "from __future__ import absolute_import, division, print_function\n",
        "\n",
        "# standard numerical library imports\n",
        "import numpy as np\n",
        "\n",
        "# energyflow imports\n",
        "import energyflow as ef\n",
        "from energyflow.archs import CNN\n",
        "from energyflow.datasets import qg_jets\n",
        "from energyflow.utils import data_split, pixelate, standardize, to_categorical, zero_center\n",
        "\n",
        "# attempt to import sklearn\n",
        "try:\n",
        "    from sklearn.metrics import roc_auc_score, roc_curve\n",
        "except:\n",
        "    print('please install scikit-learn in order to make ROC curves')\n",
        "    roc_curve = False\n",
        "\n",
        "# attempt to import matplotlib\n",
        "try:\n",
        "    import matplotlib.pyplot as plt\n",
        "except:\n",
        "    print('please install matploltib in order to make plots')\n",
        "    plt = False\n",
        "\n",
        "################################### SETTINGS ###################################\n",
        "\n",
        "# data controls\n",
        "num_data = 220000\n",
        "val_frac, test_frac = 0.1, 0.15\n",
        "\n",
        "# image parameters\n",
        "R = 0.4\n",
        "img_width = 2*R\n",
        "npix = 33\n",
        "nb_chan = 2\n",
        "norm = True\n",
        "\n",
        "# required network architecture parameters\n",
        "input_shape = (nb_chan, npix, npix)\n",
        "filter_sizes = [8, 4, 4]\n",
        "num_filters = [8, 8, 8] # very small so can run on non-GPUs in reasonable time\n",
        "\n",
        "# optional network architecture parameters\n",
        "dense_sizes = [50]\n",
        "pool_sizes = 2\n",
        "\n",
        "# network training parameters\n",
        "num_epoch = 15\n",
        "batch_size = 100\n",
        "\n",
        "################################################################################\n",
        "\n",
        "# load data\n",
        "X, y = qg_jets.load(num_data=num_data)\n",
        "\n",
        "# convert labels to categorical\n",
        "Y = to_categorical(y, num_classes=2)\n",
        "\n",
        "print('Loaded quark and gluon jets')\n",
        "\n",
        "# make jet images\n",
        "images = np.asarray([pixelate(x, npix=npix, img_width=img_width, nb_chan=nb_chan, \n",
        "                                 charged_counts_only=True, norm=norm) for x in X])\n",
        "\n",
        "print('Done making jet images')\n",
        "\n",
        "# do train/val/test split \n",
        "(X_train, X_val, X_test,\n",
        " Y_train, Y_val, Y_test) = data_split(images, Y, val=val_frac, test=test_frac)\n",
        "\n",
        "print('Done train/val/test split')\n",
        "\n",
        "# preprocess by zero centering images and standardizing each pixel\n",
        "X_train, X_val, X_test = standardize(*zero_center(X_train, X_val, X_test))\n",
        "\n",
        "print('Finished preprocessing')\n",
        "print('Model summary:')\n",
        "\n",
        "# build architecture\n",
        "hps = {'input_shape': input_shape,\n",
        "       'filter_sizes': filter_sizes,\n",
        "       'num_filters': num_filters,\n",
        "       'dense_sizes': dense_sizes,\n",
        "       'pool_sizes': pool_sizes}\n",
        "cnn = CNN(hps)\n",
        "\n",
        "# train model\n",
        "cnn.fit(X_train, Y_train,\n",
        "          epochs=num_epoch,\n",
        "          batch_size=batch_size,\n",
        "          validation_data=(X_val, Y_val),\n",
        "          verbose=1)\n",
        "\n",
        "# get predictions on test data\n",
        "preds = cnn.predict(X_test, batch_size=1000)\n",
        "\n",
        "# get ROC curve if we have sklearn\n",
        "if roc_curve:\n",
        "    cnn_fp, cnn_tp, threshs = roc_curve(Y_test[:,1], preds[:,1])\n",
        "\n",
        "    # get area under the ROC curve\n",
        "    auc = roc_auc_score(Y_test[:,1], preds[:,1])\n",
        "    print()\n",
        "    print('CNN AUC:', auc)\n",
        "    print()\n",
        "\n",
        "    # make ROC curve plot if we have matplotlib\n",
        "    if plt:\n",
        "\n",
        "        # get multiplicity and mass for comparison\n",
        "        masses = np.asarray([ef.ms_from_p4s(ef.p4s_from_ptyphims(x).sum(axis=0)) for x in X])\n",
        "        mults = np.asarray([np.count_nonzero(x[:,0]) for x in X])\n",
        "        mass_fp, mass_tp, threshs = roc_curve(Y[:,1], -masses)\n",
        "        mult_fp, mult_tp, threshs = roc_curve(Y[:,1], -mults)\n",
        "\n",
        "        # some nicer plot settings \n",
        "        plt.rcParams['figure.figsize'] = (4,4)\n",
        "        plt.rcParams['font.family'] = 'serif'\n",
        "        plt.rcParams['figure.autolayout'] = True\n",
        "\n",
        "        # plot the ROC curves\n",
        "        plt.plot(cnn_tp, 1-cnn_fp, '-', color='black', label='CNN')\n",
        "        plt.plot(mass_tp, 1-mass_fp, '-', color='blue', label='Jet Mass')\n",
        "        plt.plot(mult_tp, 1-mult_fp, '-', color='red', label='Multiplicity')\n",
        "\n",
        "        # axes labels\n",
        "        plt.xlabel('Quark Jet Efficiency')\n",
        "        plt.ylabel('Gluon Jet Rejection')\n",
        "\n",
        "        # axes limits\n",
        "        plt.xlim(0, 1)\n",
        "        plt.ylim(0, 1)\n",
        "\n",
        "        # make legend and show plot\n",
        "        plt.legend(loc='lower left', frameon=False)\n",
        "        plt.show()"
      ],
      "execution_count": 0,
      "outputs": [
        {
          "output_type": "stream",
          "text": [
            "Using TensorFlow backend.\n"
          ],
          "name": "stderr"
        },
        {
          "output_type": "display_data",
          "data": {
            "text/html": [
              "<p style=\"color: red;\">\n",
              "The default version of TensorFlow in Colab will soon switch to TensorFlow 2.x.<br>\n",
              "We recommend you <a href=\"https://www.tensorflow.org/guide/migrate\" target=\"_blank\">upgrade</a> now \n",
              "or ensure your notebook will continue to use TensorFlow 1.x via the <code>%tensorflow_version 1.x</code> magic:\n",
              "<a href=\"https://colab.research.google.com/notebooks/tensorflow_version.ipynb\" target=\"_blank\">more info</a>.</p>\n"
            ],
            "text/plain": [
              "<IPython.core.display.HTML object>"
            ]
          },
          "metadata": {
            "tags": []
          }
        },
        {
          "output_type": "stream",
          "text": [
            "Loaded quark and gluon jets\n",
            "Done making jet images\n",
            "Done train/val/test split\n",
            "Finished preprocessing\n",
            "Model summary:\n",
            "WARNING:tensorflow:From /usr/local/lib/python3.6/dist-packages/keras/backend/tensorflow_backend.py:66: The name tf.get_default_graph is deprecated. Please use tf.compat.v1.get_default_graph instead.\n",
            "\n",
            "WARNING:tensorflow:From /usr/local/lib/python3.6/dist-packages/keras/backend/tensorflow_backend.py:541: The name tf.placeholder is deprecated. Please use tf.compat.v1.placeholder instead.\n",
            "\n",
            "WARNING:tensorflow:From /usr/local/lib/python3.6/dist-packages/keras/backend/tensorflow_backend.py:4432: The name tf.random_uniform is deprecated. Please use tf.random.uniform instead.\n",
            "\n",
            "WARNING:tensorflow:From /usr/local/lib/python3.6/dist-packages/keras/backend/tensorflow_backend.py:190: The name tf.get_default_session is deprecated. Please use tf.compat.v1.get_default_session instead.\n",
            "\n",
            "WARNING:tensorflow:From /usr/local/lib/python3.6/dist-packages/keras/backend/tensorflow_backend.py:197: The name tf.ConfigProto is deprecated. Please use tf.compat.v1.ConfigProto instead.\n",
            "\n",
            "WARNING:tensorflow:From /usr/local/lib/python3.6/dist-packages/keras/backend/tensorflow_backend.py:203: The name tf.Session is deprecated. Please use tf.compat.v1.Session instead.\n",
            "\n",
            "WARNING:tensorflow:From /usr/local/lib/python3.6/dist-packages/keras/backend/tensorflow_backend.py:207: The name tf.global_variables is deprecated. Please use tf.compat.v1.global_variables instead.\n",
            "\n",
            "WARNING:tensorflow:From /usr/local/lib/python3.6/dist-packages/keras/backend/tensorflow_backend.py:216: The name tf.is_variable_initialized is deprecated. Please use tf.compat.v1.is_variable_initialized instead.\n",
            "\n",
            "WARNING:tensorflow:From /usr/local/lib/python3.6/dist-packages/keras/backend/tensorflow_backend.py:223: The name tf.variables_initializer is deprecated. Please use tf.compat.v1.variables_initializer instead.\n",
            "\n",
            "WARNING:tensorflow:From /usr/local/lib/python3.6/dist-packages/keras/backend/tensorflow_backend.py:4267: The name tf.nn.max_pool is deprecated. Please use tf.nn.max_pool2d instead.\n",
            "\n",
            "WARNING:tensorflow:From /usr/local/lib/python3.6/dist-packages/keras/optimizers.py:793: The name tf.train.Optimizer is deprecated. Please use tf.compat.v1.train.Optimizer instead.\n",
            "\n",
            "WARNING:tensorflow:From /usr/local/lib/python3.6/dist-packages/keras/backend/tensorflow_backend.py:3576: The name tf.log is deprecated. Please use tf.math.log instead.\n",
            "\n",
            "Model: \"sequential_1\"\n",
            "_________________________________________________________________\n",
            "Layer (type)                 Output Shape              Param #   \n",
            "=================================================================\n",
            "conv2d_0 (Conv2D)            (None, 8, 26, 26)         1032      \n",
            "_________________________________________________________________\n",
            "activation_1 (Activation)    (None, 8, 26, 26)         0         \n",
            "_________________________________________________________________\n",
            "max_pool_0 (MaxPooling2D)    (None, 4, 13, 26)         0         \n",
            "_________________________________________________________________\n",
            "conv2d_1 (Conv2D)            (None, 8, 10, 23)         520       \n",
            "_________________________________________________________________\n",
            "activation_2 (Activation)    (None, 8, 10, 23)         0         \n",
            "_________________________________________________________________\n",
            "max_pool_1 (MaxPooling2D)    (None, 4, 5, 23)          0         \n",
            "_________________________________________________________________\n",
            "conv2d_2 (Conv2D)            (None, 8, 2, 20)          520       \n",
            "_________________________________________________________________\n",
            "activation_3 (Activation)    (None, 8, 2, 20)          0         \n",
            "_________________________________________________________________\n",
            "max_pool_2 (MaxPooling2D)    (None, 4, 1, 20)          0         \n",
            "_________________________________________________________________\n",
            "flatten (Flatten)            (None, 80)                0         \n",
            "_________________________________________________________________\n",
            "dense_0 (Dense)              (None, 50)                4050      \n",
            "_________________________________________________________________\n",
            "activation_4 (Activation)    (None, 50)                0         \n",
            "_________________________________________________________________\n",
            "output (Dense)               (None, 2)                 102       \n",
            "_________________________________________________________________\n",
            "activation_5 (Activation)    (None, 2)                 0         \n",
            "=================================================================\n",
            "Total params: 6,224\n",
            "Trainable params: 6,224\n",
            "Non-trainable params: 0\n",
            "_________________________________________________________________\n",
            "WARNING:tensorflow:From /usr/local/lib/python3.6/dist-packages/tensorflow_core/python/ops/math_grad.py:1424: where (from tensorflow.python.ops.array_ops) is deprecated and will be removed in a future version.\n",
            "Instructions for updating:\n",
            "Use tf.where in 2.0, which has the same broadcast rule as np.where\n",
            "WARNING:tensorflow:From /usr/local/lib/python3.6/dist-packages/keras/backend/tensorflow_backend.py:1033: The name tf.assign_add is deprecated. Please use tf.compat.v1.assign_add instead.\n",
            "\n",
            "WARNING:tensorflow:From /usr/local/lib/python3.6/dist-packages/keras/backend/tensorflow_backend.py:1020: The name tf.assign is deprecated. Please use tf.compat.v1.assign instead.\n",
            "\n",
            "Train on 165000 samples, validate on 22000 samples\n",
            "Epoch 1/15\n",
            "165000/165000 [==============================] - 17s 102us/step - loss: 0.5061 - acc: 0.7565 - val_loss: 0.4889 - val_acc: 0.7678\n",
            "Epoch 2/15\n",
            "165000/165000 [==============================] - 11s 64us/step - loss: 0.4861 - acc: 0.7703 - val_loss: 0.4782 - val_acc: 0.7754\n",
            "Epoch 3/15\n",
            "165000/165000 [==============================] - 10s 62us/step - loss: 0.4787 - acc: 0.7746 - val_loss: 0.4716 - val_acc: 0.7805\n",
            "Epoch 4/15\n",
            "165000/165000 [==============================] - 10s 60us/step - loss: 0.4742 - acc: 0.7789 - val_loss: 0.4738 - val_acc: 0.7802\n",
            "Epoch 5/15\n",
            "165000/165000 [==============================] - 10s 61us/step - loss: 0.4713 - acc: 0.7802 - val_loss: 0.4685 - val_acc: 0.7824\n",
            "Epoch 6/15\n",
            "165000/165000 [==============================] - 10s 61us/step - loss: 0.4692 - acc: 0.7826 - val_loss: 0.4674 - val_acc: 0.7818\n",
            "Epoch 7/15\n",
            "165000/165000 [==============================] - 10s 60us/step - loss: 0.4679 - acc: 0.7833 - val_loss: 0.4716 - val_acc: 0.7794\n",
            "Epoch 8/15\n",
            "165000/165000 [==============================] - 10s 61us/step - loss: 0.4656 - acc: 0.7844 - val_loss: 0.4672 - val_acc: 0.7836\n",
            "Epoch 9/15\n",
            "165000/165000 [==============================] - 10s 61us/step - loss: 0.4642 - acc: 0.7857 - val_loss: 0.4641 - val_acc: 0.7845\n",
            "Epoch 10/15\n",
            "165000/165000 [==============================] - 10s 60us/step - loss: 0.4629 - acc: 0.7861 - val_loss: 0.4632 - val_acc: 0.7837\n",
            "Epoch 11/15\n",
            "165000/165000 [==============================] - 10s 61us/step - loss: 0.4621 - acc: 0.7867 - val_loss: 0.4667 - val_acc: 0.7815\n",
            "Epoch 12/15\n",
            "165000/165000 [==============================] - 10s 61us/step - loss: 0.4609 - acc: 0.7877 - val_loss: 0.4646 - val_acc: 0.7847\n",
            "Epoch 13/15\n",
            "165000/165000 [==============================] - 10s 60us/step - loss: 0.4606 - acc: 0.7875 - val_loss: 0.4623 - val_acc: 0.7855\n",
            "Epoch 14/15\n",
            "165000/165000 [==============================] - 10s 61us/step - loss: 0.4596 - acc: 0.7880 - val_loss: 0.4661 - val_acc: 0.7838\n",
            "Epoch 15/15\n",
            "165000/165000 [==============================] - 10s 60us/step - loss: 0.4589 - acc: 0.7888 - val_loss: 0.4662 - val_acc: 0.7835\n",
            "\n",
            "CNN AUC: 0.8568003441372509\n",
            "\n"
          ],
          "name": "stdout"
        },
        {
          "output_type": "display_data",
          "data": {
            "image/png": "[encoded data removed]",
            "text/plain": [
              "<Figure size 288x288 with 1 Axes>"
            ]
          },
          "metadata": {
            "tags": []
          }
        }
      ]
    }
  ]
}