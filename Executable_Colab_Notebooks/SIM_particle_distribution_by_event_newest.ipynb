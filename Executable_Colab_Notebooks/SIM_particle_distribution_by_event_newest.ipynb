{
 "cells": [
  {
   "cell_type": "markdown",
   "metadata": {
    "colab_type": "text",
    "id": "DRWcir9gQvSw"
   },
   "source": [
    "Installing the energyflow and h5py packages in the Colab environment"
   ]
  },
  {
   "cell_type": "code",
   "execution_count": 1,
   "metadata": {
    "colab": {
     "base_uri": "https://localhost:8080/",
     "height": 289
    },
    "colab_type": "code",
    "id": "EDQHdFMzRKws",
    "outputId": "0c771fee-0d40-4982-c155-b792cbc3c52a"
   },
   "outputs": [
    {
     "name": "stdout",
     "output_type": "stream",
     "text": [
      "Defaulting to user installation because normal site-packages is not writeable\n",
      "Requirement already satisfied: energyflow in ./.local/lib/python3.5/site-packages (1.0.2)\n",
      "Requirement already satisfied: h5py>=2.9.0 in /usr/local/lib/python3.5/dist-packages (from energyflow) (2.10.0)\n",
      "Requirement already satisfied: numpy>=1.14.0 in /usr/local/lib/python3.5/dist-packages (from energyflow) (1.18.1)\n",
      "Requirement already satisfied: six>=1.10.0 in /usr/local/lib/python3.5/dist-packages (from energyflow) (1.14.0)\n",
      "Defaulting to user installation because normal site-packages is not writeable\n",
      "Requirement already satisfied: h5py in /usr/local/lib/python3.5/dist-packages (2.10.0)\n",
      "Requirement already satisfied: six in /usr/local/lib/python3.5/dist-packages (from h5py) (1.14.0)\n",
      "Requirement already satisfied: numpy>=1.7 in /usr/local/lib/python3.5/dist-packages (from h5py) (1.18.1)\n"
     ]
    }
   ],
   "source": [
    "!pip install energyflow\n",
    "!pip install h5py"
   ]
  },
  {
   "cell_type": "markdown",
   "metadata": {
    "colab_type": "text",
    "id": "ZkXnXmYRQ39U"
   },
   "source": [
    "Installing POT (Python Optimal Transform) package"
   ]
  },
  {
   "cell_type": "code",
   "execution_count": 2,
   "metadata": {
    "colab": {
     "base_uri": "https://localhost:8080/",
     "height": 153
    },
    "colab_type": "code",
    "id": "1r3rd5lMSYiH",
    "outputId": "3bef316c-1b13-4fdf-a55e-e8495f4c1ac8"
   },
   "outputs": [
    {
     "name": "stdout",
     "output_type": "stream",
     "text": [
      "Defaulting to user installation because normal site-packages is not writeable\n",
      "Requirement already satisfied: POT in ./.local/lib/python3.5/site-packages (0.6.0)\n",
      "Requirement already satisfied: numpy in /usr/local/lib/python3.5/dist-packages (from POT) (1.18.1)\n",
      "Requirement already satisfied: scipy in /usr/local/lib/python3.5/dist-packages (from POT) (1.4.1)\n",
      "Requirement already satisfied: cython in ./.local/lib/python3.5/site-packages (from POT) (0.29.15)\n"
     ]
    }
   ],
   "source": [
    "!pip install POT"
   ]
  },
  {
   "cell_type": "markdown",
   "metadata": {
    "colab_type": "text",
    "id": "6v70Mc5xH4G-"
   },
   "source": [
    "Import all necessary packages"
   ]
  },
  {
   "cell_type": "code",
   "execution_count": 6,
   "metadata": {
    "colab": {
     "base_uri": "https://localhost:8080/",
     "height": 34
    },
    "colab_type": "code",
    "id": "Hvf25N8fGqfv",
    "outputId": "d14a8116-ac42-42ee-9e9d-e766d748b364"
   },
   "outputs": [],
   "source": [
    "# standard library imports\n",
    "from __future__ import absolute_import, division, print_function\n",
    "\n",
    "# standard numerical library imports\n",
    "import numpy as np\n",
    "\n",
    "# energyflow imports\n",
    "import energyflow as ef\n",
    "from energyflow.archs import PFN\n",
    "from energyflow.datasets import qg_jets\n",
    "from energyflow.utils import data_split, remap_pids, to_categorical\n",
    "\n",
    "# attempt to import sklearn\n",
    "try:\n",
    "    from sklearn.metrics import roc_auc_score, roc_curve\n",
    "except:\n",
    "    print('please install scikit-learn in order to make ROC curves')\n",
    "    roc_curve = False\n",
    "\n",
    "# attempt to import matplotlib\n",
    "try:\n",
    "    import matplotlib.pyplot as plt\n",
    "except:\n",
    "    print('please install matplotlib in order to make plots')\n",
    "    plt = False"
   ]
  },
  {
   "cell_type": "markdown",
   "metadata": {
    "colab_type": "text",
    "id": "EHknI8JqGrFC"
   },
   "source": [
    "Load particle distribution from SIM dataset"
   ]
  },
  {
   "cell_type": "code",
   "execution_count": 7,
   "metadata": {
    "colab": {
     "base_uri": "https://localhost:8080/",
     "height": 1000
    },
    "colab_type": "code",
    "id": "jneN4tyrG4CS",
    "outputId": "7150467b-b029-4025-f5ac-3e7b9b241e6a"
   },
   "outputs": [
    {
     "name": "stdout",
     "output_type": "stream",
     "text": [
      "Downloading SIM170_Jet300_pT375-infGeV_0_compressed.h5 from https://zenodo.org/record/3341500/files/SIM170_Jet300_pT375-infGeV_0_compressed.h5?download=1 to /home/jupyter/.energyflow/datasets/CMS2011AJets/SIM170_Jet300_pT375-infGeV\n",
      "Downloading SIM300_Jet300_pT375-infGeV_0_compressed.h5 from https://zenodo.org/record/3341498/files/SIM300_Jet300_pT375-infGeV_0_compressed.h5?download=1 to /home/jupyter/.energyflow/datasets/CMS2011AJets/SIM300_Jet300_pT375-infGeV\n",
      "Downloading SIM300_Jet300_pT375-infGeV_1_compressed.h5 from https://zenodo.org/record/3341498/files/SIM300_Jet300_pT375-infGeV_1_compressed.h5?download=1 to /home/jupyter/.energyflow/datasets/CMS2011AJets/SIM300_Jet300_pT375-infGeV\n",
      "Downloading SIM300_Jet300_pT375-infGeV_2_compressed.h5 from https://zenodo.org/record/3341498/files/SIM300_Jet300_pT375-infGeV_2_compressed.h5?download=1 to /home/jupyter/.energyflow/datasets/CMS2011AJets/SIM300_Jet300_pT375-infGeV\n",
      "Downloading SIM300_Jet300_pT375-infGeV_3_compressed.h5 from https://zenodo.org/record/3341498/files/SIM300_Jet300_pT375-infGeV_3_compressed.h5?download=1 to /home/jupyter/.energyflow/datasets/CMS2011AJets/SIM300_Jet300_pT375-infGeV\n",
      "Downloading SIM300_Jet300_pT375-infGeV_4_compressed.h5 from https://zenodo.org/record/3341498/files/SIM300_Jet300_pT375-infGeV_4_compressed.h5?download=1 to /home/jupyter/.energyflow/datasets/CMS2011AJets/SIM300_Jet300_pT375-infGeV\n",
      "Downloading SIM470_Jet300_pT375-infGeV_0_compressed.h5 from https://zenodo.org/record/3341419/files/SIM470_Jet300_pT375-infGeV_0_compressed.h5?download=1 to /home/jupyter/.energyflow/datasets/CMS2011AJets/SIM470_Jet300_pT375-infGeV\n",
      "Downloading SIM470_Jet300_pT375-infGeV_1_compressed.h5 from https://zenodo.org/record/3341419/files/SIM470_Jet300_pT375-infGeV_1_compressed.h5?download=1 to /home/jupyter/.energyflow/datasets/CMS2011AJets/SIM470_Jet300_pT375-infGeV\n",
      "Downloading SIM470_Jet300_pT375-infGeV_2_compressed.h5 from https://zenodo.org/record/3341419/files/SIM470_Jet300_pT375-infGeV_2_compressed.h5?download=1 to /home/jupyter/.energyflow/datasets/CMS2011AJets/SIM470_Jet300_pT375-infGeV\n",
      "Downloading SIM470_Jet300_pT375-infGeV_3_compressed.h5 from https://zenodo.org/record/3341419/files/SIM470_Jet300_pT375-infGeV_3_compressed.h5?download=1 to /home/jupyter/.energyflow/datasets/CMS2011AJets/SIM470_Jet300_pT375-infGeV\n",
      "Downloading SIM470_Jet300_pT375-infGeV_4_compressed.h5 from https://zenodo.org/record/3341419/files/SIM470_Jet300_pT375-infGeV_4_compressed.h5?download=1 to /home/jupyter/.energyflow/datasets/CMS2011AJets/SIM470_Jet300_pT375-infGeV\n",
      "Downloading SIM470_Jet300_pT375-infGeV_5_compressed.h5 from https://zenodo.org/record/3341419/files/SIM470_Jet300_pT375-infGeV_5_compressed.h5?download=1 to /home/jupyter/.energyflow/datasets/CMS2011AJets/SIM470_Jet300_pT375-infGeV\n",
      "Downloading SIM470_Jet300_pT375-infGeV_6_compressed.h5 from https://zenodo.org/record/3341419/files/SIM470_Jet300_pT375-infGeV_6_compressed.h5?download=1 to /home/jupyter/.energyflow/datasets/CMS2011AJets/SIM470_Jet300_pT375-infGeV\n",
      "Downloading SIM470_Jet300_pT375-infGeV_7_compressed.h5 from https://zenodo.org/record/3341419/files/SIM470_Jet300_pT375-infGeV_7_compressed.h5?download=1 to /home/jupyter/.energyflow/datasets/CMS2011AJets/SIM470_Jet300_pT375-infGeV\n",
      "Downloading SIM470_Jet300_pT375-infGeV_8_compressed.h5 from https://zenodo.org/record/3341419/files/SIM470_Jet300_pT375-infGeV_8_compressed.h5?download=1 to /home/jupyter/.energyflow/datasets/CMS2011AJets/SIM470_Jet300_pT375-infGeV\n",
      "Downloading SIM470_Jet300_pT375-infGeV_9_compressed.h5 from https://zenodo.org/record/3341419/files/SIM470_Jet300_pT375-infGeV_9_compressed.h5?download=1 to /home/jupyter/.energyflow/datasets/CMS2011AJets/SIM470_Jet300_pT375-infGeV\n",
      "Downloading SIM470_Jet300_pT375-infGeV_10_compressed.h5 from https://zenodo.org/record/3341419/files/SIM470_Jet300_pT375-infGeV_10_compressed.h5?download=1 to /home/jupyter/.energyflow/datasets/CMS2011AJets/SIM470_Jet300_pT375-infGeV\n",
      "Downloading SIM470_Jet300_pT375-infGeV_11_compressed.h5 from https://zenodo.org/record/3341419/files/SIM470_Jet300_pT375-infGeV_11_compressed.h5?download=1 to /home/jupyter/.energyflow/datasets/CMS2011AJets/SIM470_Jet300_pT375-infGeV\n",
      "Downloading SIM470_Jet300_pT375-infGeV_12_compressed.h5 from https://zenodo.org/record/3341419/files/SIM470_Jet300_pT375-infGeV_12_compressed.h5?download=1 to /home/jupyter/.energyflow/datasets/CMS2011AJets/SIM470_Jet300_pT375-infGeV\n",
      "Downloading SIM470_Jet300_pT375-infGeV_13_compressed.h5 from https://zenodo.org/record/3341419/files/SIM470_Jet300_pT375-infGeV_13_compressed.h5?download=1 to /home/jupyter/.energyflow/datasets/CMS2011AJets/SIM470_Jet300_pT375-infGeV\n",
      "Downloading SIM470_Jet300_pT375-infGeV_14_compressed.h5 from https://zenodo.org/record/3341419/files/SIM470_Jet300_pT375-infGeV_14_compressed.h5?download=1 to /home/jupyter/.energyflow/datasets/CMS2011AJets/SIM470_Jet300_pT375-infGeV\n",
      "Downloading SIM600_Jet300_pT375-infGeV_0_compressed.h5 from https://zenodo.org/record/3364139/files/SIM600_Jet300_pT375-infGeV_0_compressed.h5?download=1 to /home/jupyter/.energyflow/datasets/CMS2011AJets/SIM600_Jet300_pT375-infGeV\n",
      "Downloading SIM600_Jet300_pT375-infGeV_1_compressed.h5 from https://zenodo.org/record/3364139/files/SIM600_Jet300_pT375-infGeV_1_compressed.h5?download=1 to /home/jupyter/.energyflow/datasets/CMS2011AJets/SIM600_Jet300_pT375-infGeV\n",
      "Downloading SIM600_Jet300_pT375-infGeV_2_compressed.h5 from https://zenodo.org/record/3364139/files/SIM600_Jet300_pT375-infGeV_2_compressed.h5?download=1 to /home/jupyter/.energyflow/datasets/CMS2011AJets/SIM600_Jet300_pT375-infGeV\n",
      "Downloading SIM600_Jet300_pT375-infGeV_3_compressed.h5 from https://zenodo.org/record/3364139/files/SIM600_Jet300_pT375-infGeV_3_compressed.h5?download=1 to /home/jupyter/.energyflow/datasets/CMS2011AJets/SIM600_Jet300_pT375-infGeV\n",
      "Downloading SIM600_Jet300_pT375-infGeV_4_compressed.h5 from https://zenodo.org/record/3364139/files/SIM600_Jet300_pT375-infGeV_4_compressed.h5?download=1 to /home/jupyter/.energyflow/datasets/CMS2011AJets/SIM600_Jet300_pT375-infGeV\n",
      "Downloading SIM600_Jet300_pT375-infGeV_5_compressed.h5 from https://zenodo.org/record/3364139/files/SIM600_Jet300_pT375-infGeV_5_compressed.h5?download=1 to /home/jupyter/.energyflow/datasets/CMS2011AJets/SIM600_Jet300_pT375-infGeV\n",
      "Downloading SIM600_Jet300_pT375-infGeV_6_compressed.h5 from https://zenodo.org/record/3364139/files/SIM600_Jet300_pT375-infGeV_6_compressed.h5?download=1 to /home/jupyter/.energyflow/datasets/CMS2011AJets/SIM600_Jet300_pT375-infGeV\n",
      "Downloading SIM600_Jet300_pT375-infGeV_7_compressed.h5 from https://zenodo.org/record/3364139/files/SIM600_Jet300_pT375-infGeV_7_compressed.h5?download=1 to /home/jupyter/.energyflow/datasets/CMS2011AJets/SIM600_Jet300_pT375-infGeV\n",
      "Downloading SIM600_Jet300_pT375-infGeV_8_compressed.h5 from https://zenodo.org/record/3364139/files/SIM600_Jet300_pT375-infGeV_8_compressed.h5?download=1 to /home/jupyter/.energyflow/datasets/CMS2011AJets/SIM600_Jet300_pT375-infGeV\n",
      "Downloading SIM600_Jet300_pT375-infGeV_9_compressed.h5 from https://zenodo.org/record/3364139/files/SIM600_Jet300_pT375-infGeV_9_compressed.h5?download=1 to /home/jupyter/.energyflow/datasets/CMS2011AJets/SIM600_Jet300_pT375-infGeV\n",
      "Downloading SIM600_Jet300_pT375-infGeV_10_compressed.h5 from https://zenodo.org/record/3364139/files/SIM600_Jet300_pT375-infGeV_10_compressed.h5?download=1 to /home/jupyter/.energyflow/datasets/CMS2011AJets/SIM600_Jet300_pT375-infGeV\n",
      "Downloading SIM600_Jet300_pT375-infGeV_11_compressed.h5 from https://zenodo.org/record/3364139/files/SIM600_Jet300_pT375-infGeV_11_compressed.h5?download=1 to /home/jupyter/.energyflow/datasets/CMS2011AJets/SIM600_Jet300_pT375-infGeV\n",
      "Downloading SIM600_Jet300_pT375-infGeV_12_compressed.h5 from https://zenodo.org/record/3364139/files/SIM600_Jet300_pT375-infGeV_12_compressed.h5?download=1 to /home/jupyter/.energyflow/datasets/CMS2011AJets/SIM600_Jet300_pT375-infGeV\n",
      "Downloading SIM600_Jet300_pT375-infGeV_13_compressed.h5 from https://zenodo.org/record/3364139/files/SIM600_Jet300_pT375-infGeV_13_compressed.h5?download=1 to /home/jupyter/.energyflow/datasets/CMS2011AJets/SIM600_Jet300_pT375-infGeV\n",
      "Downloading SIM600_Jet300_pT375-infGeV_14_compressed.h5 from https://zenodo.org/record/3364139/files/SIM600_Jet300_pT375-infGeV_14_compressed.h5?download=1 to /home/jupyter/.energyflow/datasets/CMS2011AJets/SIM600_Jet300_pT375-infGeV\n",
      "Downloading SIM600_Jet300_pT375-infGeV_15_compressed.h5 from https://zenodo.org/record/3364139/files/SIM600_Jet300_pT375-infGeV_15_compressed.h5?download=1 to /home/jupyter/.energyflow/datasets/CMS2011AJets/SIM600_Jet300_pT375-infGeV\n",
      "Downloading SIM800_Jet300_pT375-infGeV_0_compressed.h5 from https://zenodo.org/record/3341413/files/SIM800_Jet300_pT375-infGeV_0_compressed.h5?download=1 to /home/jupyter/.energyflow/datasets/CMS2011AJets/SIM800_Jet300_pT375-infGeV\n",
      "Downloading SIM800_Jet300_pT375-infGeV_1_compressed.h5 from https://zenodo.org/record/3341413/files/SIM800_Jet300_pT375-infGeV_1_compressed.h5?download=1 to /home/jupyter/.energyflow/datasets/CMS2011AJets/SIM800_Jet300_pT375-infGeV\n",
      "Downloading SIM800_Jet300_pT375-infGeV_2_compressed.h5 from https://zenodo.org/record/3341413/files/SIM800_Jet300_pT375-infGeV_2_compressed.h5?download=1 to /home/jupyter/.energyflow/datasets/CMS2011AJets/SIM800_Jet300_pT375-infGeV\n",
      "Downloading SIM800_Jet300_pT375-infGeV_3_compressed.h5 from https://zenodo.org/record/3341413/files/SIM800_Jet300_pT375-infGeV_3_compressed.h5?download=1 to /home/jupyter/.energyflow/datasets/CMS2011AJets/SIM800_Jet300_pT375-infGeV\n",
      "Downloading SIM800_Jet300_pT375-infGeV_4_compressed.h5 from https://zenodo.org/record/3341413/files/SIM800_Jet300_pT375-infGeV_4_compressed.h5?download=1 to /home/jupyter/.energyflow/datasets/CMS2011AJets/SIM800_Jet300_pT375-infGeV\n",
      "Downloading SIM800_Jet300_pT375-infGeV_5_compressed.h5 from https://zenodo.org/record/3341413/files/SIM800_Jet300_pT375-infGeV_5_compressed.h5?download=1 to /home/jupyter/.energyflow/datasets/CMS2011AJets/SIM800_Jet300_pT375-infGeV\n",
      "Downloading SIM800_Jet300_pT375-infGeV_6_compressed.h5 from https://zenodo.org/record/3341413/files/SIM800_Jet300_pT375-infGeV_6_compressed.h5?download=1 to /home/jupyter/.energyflow/datasets/CMS2011AJets/SIM800_Jet300_pT375-infGeV\n",
      "Downloading SIM800_Jet300_pT375-infGeV_7_compressed.h5 from https://zenodo.org/record/3341413/files/SIM800_Jet300_pT375-infGeV_7_compressed.h5?download=1 to /home/jupyter/.energyflow/datasets/CMS2011AJets/SIM800_Jet300_pT375-infGeV\n",
      "Downloading SIM800_Jet300_pT375-infGeV_8_compressed.h5 from https://zenodo.org/record/3341413/files/SIM800_Jet300_pT375-infGeV_8_compressed.h5?download=1 to /home/jupyter/.energyflow/datasets/CMS2011AJets/SIM800_Jet300_pT375-infGeV\n",
      "Downloading SIM800_Jet300_pT375-infGeV_9_compressed.h5 from https://zenodo.org/record/3341413/files/SIM800_Jet300_pT375-infGeV_9_compressed.h5?download=1 to /home/jupyter/.energyflow/datasets/CMS2011AJets/SIM800_Jet300_pT375-infGeV\n",
      "Downloading SIM800_Jet300_pT375-infGeV_10_compressed.h5 from https://zenodo.org/record/3341413/files/SIM800_Jet300_pT375-infGeV_10_compressed.h5?download=1 to /home/jupyter/.energyflow/datasets/CMS2011AJets/SIM800_Jet300_pT375-infGeV\n",
      "Downloading SIM800_Jet300_pT375-infGeV_11_compressed.h5 from https://zenodo.org/record/3341413/files/SIM800_Jet300_pT375-infGeV_11_compressed.h5?download=1 to /home/jupyter/.energyflow/datasets/CMS2011AJets/SIM800_Jet300_pT375-infGeV\n",
      "Downloading SIM800_Jet300_pT375-infGeV_12_compressed.h5 from https://zenodo.org/record/3341413/files/SIM800_Jet300_pT375-infGeV_12_compressed.h5?download=1 to /home/jupyter/.energyflow/datasets/CMS2011AJets/SIM800_Jet300_pT375-infGeV\n",
      "Downloading SIM800_Jet300_pT375-infGeV_13_compressed.h5 from https://zenodo.org/record/3341413/files/SIM800_Jet300_pT375-infGeV_13_compressed.h5?download=1 to /home/jupyter/.energyflow/datasets/CMS2011AJets/SIM800_Jet300_pT375-infGeV\n",
      "Downloading SIM800_Jet300_pT375-infGeV_14_compressed.h5 from https://zenodo.org/record/3341413/files/SIM800_Jet300_pT375-infGeV_14_compressed.h5?download=1 to /home/jupyter/.energyflow/datasets/CMS2011AJets/SIM800_Jet300_pT375-infGeV\n",
      "Downloading SIM800_Jet300_pT375-infGeV_15_compressed.h5 from https://zenodo.org/record/3341413/files/SIM800_Jet300_pT375-infGeV_15_compressed.h5?download=1 to /home/jupyter/.energyflow/datasets/CMS2011AJets/SIM800_Jet300_pT375-infGeV\n",
      "Downloading SIM1000_Jet300_pT375-infGeV_0_compressed.h5 from https://zenodo.org/record/3341502/files/SIM1000_Jet300_pT375-infGeV_0_compressed.h5?download=1 to /home/jupyter/.energyflow/datasets/CMS2011AJets/SIM1000_Jet300_pT375-infGeV\n",
      "Downloading SIM1000_Jet300_pT375-infGeV_1_compressed.h5 from https://zenodo.org/record/3341502/files/SIM1000_Jet300_pT375-infGeV_1_compressed.h5?download=1 to /home/jupyter/.energyflow/datasets/CMS2011AJets/SIM1000_Jet300_pT375-infGeV\n",
      "Downloading SIM1000_Jet300_pT375-infGeV_2_compressed.h5 from https://zenodo.org/record/3341502/files/SIM1000_Jet300_pT375-infGeV_2_compressed.h5?download=1 to /home/jupyter/.energyflow/datasets/CMS2011AJets/SIM1000_Jet300_pT375-infGeV\n",
      "Downloading SIM1000_Jet300_pT375-infGeV_3_compressed.h5 from https://zenodo.org/record/3341502/files/SIM1000_Jet300_pT375-infGeV_3_compressed.h5?download=1 to /home/jupyter/.energyflow/datasets/CMS2011AJets/SIM1000_Jet300_pT375-infGeV\n",
      "Downloading SIM1000_Jet300_pT375-infGeV_4_compressed.h5 from https://zenodo.org/record/3341502/files/SIM1000_Jet300_pT375-infGeV_4_compressed.h5?download=1 to /home/jupyter/.energyflow/datasets/CMS2011AJets/SIM1000_Jet300_pT375-infGeV\n",
      "Downloading SIM1000_Jet300_pT375-infGeV_5_compressed.h5 from https://zenodo.org/record/3341502/files/SIM1000_Jet300_pT375-infGeV_5_compressed.h5?download=1 to /home/jupyter/.energyflow/datasets/CMS2011AJets/SIM1000_Jet300_pT375-infGeV\n",
      "Downloading SIM1000_Jet300_pT375-infGeV_6_compressed.h5 from https://zenodo.org/record/3341502/files/SIM1000_Jet300_pT375-infGeV_6_compressed.h5?download=1 to /home/jupyter/.energyflow/datasets/CMS2011AJets/SIM1000_Jet300_pT375-infGeV\n",
      "Downloading SIM1000_Jet300_pT375-infGeV_7_compressed.h5 from https://zenodo.org/record/3341502/files/SIM1000_Jet300_pT375-infGeV_7_compressed.h5?download=1 to /home/jupyter/.energyflow/datasets/CMS2011AJets/SIM1000_Jet300_pT375-infGeV\n",
      "Downloading SIM1400_Jet300_pT375-infGeV_0_compressed.h5 from https://zenodo.org/record/3341770/files/SIM1400_Jet300_pT375-infGeV_0_compressed.h5?download=1 to /home/jupyter/.energyflow/datasets/CMS2011AJets/SIM1400_Jet300_pT375-infGeV\n",
      "Downloading SIM1400_Jet300_pT375-infGeV_1_compressed.h5 from https://zenodo.org/record/3341770/files/SIM1400_Jet300_pT375-infGeV_1_compressed.h5?download=1 to /home/jupyter/.energyflow/datasets/CMS2011AJets/SIM1400_Jet300_pT375-infGeV\n",
      "Downloading SIM1400_Jet300_pT375-infGeV_2_compressed.h5 from https://zenodo.org/record/3341770/files/SIM1400_Jet300_pT375-infGeV_2_compressed.h5?download=1 to /home/jupyter/.energyflow/datasets/CMS2011AJets/SIM1400_Jet300_pT375-infGeV\n",
      "Downloading SIM1400_Jet300_pT375-infGeV_3_compressed.h5 from https://zenodo.org/record/3341770/files/SIM1400_Jet300_pT375-infGeV_3_compressed.h5?download=1 to /home/jupyter/.energyflow/datasets/CMS2011AJets/SIM1400_Jet300_pT375-infGeV\n",
      "Downloading SIM1400_Jet300_pT375-infGeV_4_compressed.h5 from https://zenodo.org/record/3341770/files/SIM1400_Jet300_pT375-infGeV_4_compressed.h5?download=1 to /home/jupyter/.energyflow/datasets/CMS2011AJets/SIM1400_Jet300_pT375-infGeV\n",
      "Downloading SIM1400_Jet300_pT375-infGeV_5_compressed.h5 from https://zenodo.org/record/3341770/files/SIM1400_Jet300_pT375-infGeV_5_compressed.h5?download=1 to /home/jupyter/.energyflow/datasets/CMS2011AJets/SIM1400_Jet300_pT375-infGeV\n",
      "Downloading SIM1400_Jet300_pT375-infGeV_6_compressed.h5 from https://zenodo.org/record/3341770/files/SIM1400_Jet300_pT375-infGeV_6_compressed.h5?download=1 to /home/jupyter/.energyflow/datasets/CMS2011AJets/SIM1400_Jet300_pT375-infGeV\n",
      "Downloading SIM1400_Jet300_pT375-infGeV_7_compressed.h5 from https://zenodo.org/record/3341770/files/SIM1400_Jet300_pT375-infGeV_7_compressed.h5?download=1 to /home/jupyter/.energyflow/datasets/CMS2011AJets/SIM1400_Jet300_pT375-infGeV\n",
      "Downloading SIM1800_Jet300_pT375-infGeV_0_compressed.h5 from https://zenodo.org/record/3341772/files/SIM1800_Jet300_pT375-infGeV_0_compressed.h5?download=1 to /home/jupyter/.energyflow/datasets/CMS2011AJets/SIM1800_Jet300_pT375-infGeV\n",
      "Downloading SIM1800_Jet300_pT375-infGeV_1_compressed.h5 from https://zenodo.org/record/3341772/files/SIM1800_Jet300_pT375-infGeV_1_compressed.h5?download=1 to /home/jupyter/.energyflow/datasets/CMS2011AJets/SIM1800_Jet300_pT375-infGeV\n",
      "Downloading SIM1800_Jet300_pT375-infGeV_2_compressed.h5 from https://zenodo.org/record/3341772/files/SIM1800_Jet300_pT375-infGeV_2_compressed.h5?download=1 to /home/jupyter/.energyflow/datasets/CMS2011AJets/SIM1800_Jet300_pT375-infGeV\n",
      "Downloading SIM1800_Jet300_pT375-infGeV_3_compressed.h5 from https://zenodo.org/record/3341772/files/SIM1800_Jet300_pT375-infGeV_3_compressed.h5?download=1 to /home/jupyter/.energyflow/datasets/CMS2011AJets/SIM1800_Jet300_pT375-infGeV\n",
      "Number of jets:  504909\n",
      "Max:  143.2047119\n",
      "Min:  3.663904428\n"
     ]
    }
   ],
   "source": [
    "# load data\n",
    "specs = ['375 <= corr_jet_pts <= 425', 'abs_jet_eta < 1.9', 'quality >= 2']\n",
    "amount = 0.2\n",
    "sim = ef.mod.load(*specs, dataset='sim', amount=amount)\n",
    "print(\"Number of jets: \", len(sim))\n",
    "\n",
    "print(\"Max: \", np.amax(sim.jet_ms))\n",
    "print(\"Min: \", np.amin(sim.jet_ms))"
   ]
  },
  {
   "cell_type": "code",
   "execution_count": 8,
   "metadata": {
    "colab": {
     "base_uri": "https://localhost:8080/",
     "height": 232
    },
    "colab_type": "code",
    "id": "BaaEEAkAyx6L",
    "outputId": "db69b857-8693-4801-82b2-dc9cf562600e"
   },
   "outputs": [
    {
     "name": "stdout",
     "output_type": "stream",
     "text": [
      "442886\n",
      "1\n"
     ]
    }
   ],
   "source": [
    "#print(sim.evns)\n",
    "#print(sim.rns)\n",
    "sim_numbers = set(sim.evns)\n",
    "run_numbers = set(sim.rns)\n",
    "#print(sim_numbers)\n",
    "#print(run_numbers) #don't need to sort by run number, since they're all the same\n",
    "print(len(sim_numbers))\n",
    "print(len(run_numbers))"
   ]
  },
  {
   "cell_type": "code",
   "execution_count": 9,
   "metadata": {
    "colab": {
     "base_uri": "https://localhost:8080/",
     "height": 34
    },
    "colab_type": "code",
    "id": "9ymHbt5ZBONV",
    "outputId": "bc33e640-2d3f-47aa-af8e-6cf24feaa346"
   },
   "outputs": [
    {
     "name": "stdout",
     "output_type": "stream",
     "text": [
      "5091631\n"
     ]
    }
   ],
   "source": [
    "print(sim.evns[2])"
   ]
  },
  {
   "cell_type": "code",
   "execution_count": 10,
   "metadata": {
    "colab": {
     "base_uri": "https://localhost:8080/",
     "height": 34
    },
    "colab_type": "code",
    "id": "aDwm3qPoD--y",
    "outputId": "b28f3a83-d04e-4b38-9b44-239a846a38b4"
   },
   "outputs": [
    {
     "data": {
      "text/plain": [
       "1"
      ]
     },
     "execution_count": 10,
     "metadata": {},
     "output_type": "execute_result"
    }
   ],
   "source": [
    "len(sim.particles[sim.jets_i[:,sim.evn]==5091631])"
   ]
  },
  {
   "cell_type": "markdown",
   "metadata": {
    "colab_type": "text",
    "id": "Pl7ptrukE48Y"
   },
   "source": [
    "Group by events and generate Cartesian coordinate 4 vectors to calculate mass"
   ]
  },
  {
   "cell_type": "code",
   "execution_count": 12,
   "metadata": {},
   "outputs": [],
   "source": [
    "from time import process_time"
   ]
  },
  {
   "cell_type": "code",
   "execution_count": 13,
   "metadata": {
    "colab": {},
    "colab_type": "code",
    "id": "wXOmEgTRIL_a"
   },
   "outputs": [
    {
     "name": "stdout",
     "output_type": "stream",
     "text": [
      "Elapsed time during the whole program in seconds: 3812.0553151299996\n"
     ]
    }
   ],
   "source": [
    "t1_start = process_time() \n",
    "\n",
    "event_list = []\n",
    "\n",
    "event_pts = []\n",
    "event_etas = []\n",
    "event_phis = []\n",
    "event_ms = []\n",
    "\n",
    "for evn_num in sim_numbers:\n",
    "    event_list.append(np.asarray(sim.particles[sim.jets_i[:,sim.evn]==evn_num])) #Try grabbing indices maybe? instead of copying data\n",
    "\n",
    "    event_pts.append(np.asarray(sim.jet_pts[sim.jets_i[:,sim.evn]==evn_num]))\n",
    "    event_etas.append(np.asarray(sim.jet_etas[sim.jets_i[:,sim.evn]==evn_num]))\n",
    "    event_phis.append(np.asarray(sim.jet_phis[sim.jets_i[:,sim.evn]==evn_num]))\n",
    "    event_ms.append(np.asarray(sim.jet_ms[sim.jets_i[:,sim.evn]==evn_num]))\n",
    "    \n",
    "t1_stop = process_time()\n",
    "\n",
    "print(\"Elapsed time during the whole program in seconds:\", t1_stop-t1_start)"
   ]
  },
  {
   "cell_type": "code",
   "execution_count": 14,
   "metadata": {
    "colab": {
     "base_uri": "https://localhost:8080/",
     "height": 34
    },
    "colab_type": "code",
    "id": "C2AqeJwJ8fhf",
    "outputId": "cf1367e9-dc39-4493-aa00-b5c03d180b0c"
   },
   "outputs": [
    {
     "data": {
      "text/plain": [
       "442886"
      ]
     },
     "execution_count": 14,
     "metadata": {},
     "output_type": "execute_result"
    }
   ],
   "source": [
    "len(event_list)"
   ]
  },
  {
   "cell_type": "code",
   "execution_count": 15,
   "metadata": {
    "colab": {
     "base_uri": "https://localhost:8080/",
     "height": 85
    },
    "colab_type": "code",
    "id": "IS2cWSU08hvE",
    "outputId": "19fab36a-5d19-43ea-dfdf-7c33e6cf5a86"
   },
   "outputs": [
    {
     "name": "stdout",
     "output_type": "stream",
     "text": [
      "442886\n",
      "442886\n",
      "442886\n",
      "442886\n"
     ]
    }
   ],
   "source": [
    "print(len(event_pts))\n",
    "print(len(event_etas))\n",
    "print(len(event_phis))\n",
    "print(len(event_ms))"
   ]
  },
  {
   "cell_type": "code",
   "execution_count": 16,
   "metadata": {},
   "outputs": [
    {
     "name": "stdout",
     "output_type": "stream",
     "text": [
      "4\n"
     ]
    }
   ],
   "source": [
    "max_jets_in_event = max([len(event_pts[i]) for i in range(len(event_pts))])\n",
    "print(max_jets_in_event)"
   ]
  },
  {
   "cell_type": "code",
   "execution_count": 17,
   "metadata": {},
   "outputs": [],
   "source": [
    "#New code for compiling 4-vectors\n",
    "\n",
    "event_stats = []\n",
    "\n",
    "for i in range(len(event_pts)):\n",
    "    event_stats.append([])\n",
    "    \n",
    "    for j in range(len(event_pts[i])):\n",
    "        ptyphims = []\n",
    "        ptyphims.append(event_pts[i][j])\n",
    "        ptyphims.append(event_etas[i][j])\n",
    "        ptyphims.append(event_phis[i][j])\n",
    "        ptyphims.append(event_ms[i][j])\n",
    "        p4s = ef.p4s_from_ptyphims(np.array(ptyphims))\n",
    "        \n",
    "        event_stats[i].append(p4s.tolist())"
   ]
  },
  {
   "cell_type": "code",
   "execution_count": 18,
   "metadata": {
    "colab": {
     "base_uri": "https://localhost:8080/",
     "height": 34
    },
    "colab_type": "code",
    "id": "td7FZEuNLWpj",
    "outputId": "6aa35c3e-b21c-4043-d9d4-b7050185f11c"
   },
   "outputs": [
    {
     "data": {
      "text/plain": [
       "442886"
      ]
     },
     "execution_count": 18,
     "metadata": {},
     "output_type": "execute_result"
    }
   ],
   "source": [
    "len(event_stats)"
   ]
  },
  {
   "cell_type": "markdown",
   "metadata": {
    "colab_type": "text",
    "id": "pGM6_OBfE04m"
   },
   "source": [
    "Select events with only 2 jets in them"
   ]
  },
  {
   "cell_type": "code",
   "execution_count": 19,
   "metadata": {
    "colab": {},
    "colab_type": "code",
    "id": "J_WouV7hKr_z"
   },
   "outputs": [],
   "source": [
    "event_list_2 = []\n",
    "indexes = []\n",
    "i = 0\n",
    "for evn in event_list:\n",
    "    if len(evn) == 2:\n",
    "      event_list_2.append(evn)\n",
    "      indexes.append(i)\n",
    "    i += 1\n",
    "event_stats_2 = [event_stats[j] for j in indexes]"
   ]
  },
  {
   "cell_type": "code",
   "execution_count": 20,
   "metadata": {
    "colab": {
     "base_uri": "https://localhost:8080/",
     "height": 51
    },
    "colab_type": "code",
    "id": "jdL4Q35RHoiz",
    "outputId": "45e5816c-7c66-4a7b-ecf5-7d1b55bb5b76"
   },
   "outputs": [
    {
     "name": "stdout",
     "output_type": "stream",
     "text": [
      "58108\n",
      "58108\n"
     ]
    }
   ],
   "source": [
    "print(len(event_list_2))\n",
    "print(len(event_stats_2))"
   ]
  },
  {
   "cell_type": "code",
   "execution_count": 21,
   "metadata": {
    "colab": {
     "base_uri": "https://localhost:8080/",
     "height": 68
    },
    "colab_type": "code",
    "id": "fDTHnhdX9rDF",
    "outputId": "9b350695-4452-4509-e6ff-8c6abd845f7b"
   },
   "outputs": [
    {
     "name": "stdout",
     "output_type": "stream",
     "text": [
      "58108\n",
      "2\n",
      "4\n"
     ]
    }
   ],
   "source": [
    "print(len(event_stats_2))\n",
    "print(len(event_stats_2[0]))\n",
    "print(len(event_stats_2[0][0]))"
   ]
  },
  {
   "cell_type": "markdown",
   "metadata": {
    "colab_type": "text",
    "id": "8B0nbpbQbyTK"
   },
   "source": [
    "Find event masses by combining 4 vectors"
   ]
  },
  {
   "cell_type": "code",
   "execution_count": 31,
   "metadata": {
    "colab": {},
    "colab_type": "code",
    "id": "1KH9ctvs9ENK"
   },
   "outputs": [],
   "source": [
    "event_stats_added_2 = []\n",
    "for i in range(len(event_stats_2)):\n",
    "    event_1 = event_stats_2[i][0][0] + event_stats_2[i][1][0]\n",
    "    event_2 = event_stats_2[i][0][1] + event_stats_2[i][1][1]\n",
    "    event_3 = event_stats_2[i][0][2] + event_stats_2[i][1][2]\n",
    "    event_4 = event_stats_2[i][0][3] + event_stats_2[i][1][3]\n",
    "    event = [event_1, event_2, event_3, event_4]\n",
    "    event_stats_added_2.append(event)"
   ]
  },
  {
   "cell_type": "code",
   "execution_count": 32,
   "metadata": {
    "colab": {},
    "colab_type": "code",
    "id": "Xt23FAMv4m-7"
   },
   "outputs": [],
   "source": [
    "sum_mass_events_2 = []\n",
    "for event_4_vector in event_stats_added_2:\n",
    "    event_4_list = list(event_4_vector)\n",
    "    event_4_array = np.array(event_4_list)\n",
    "    event_mass = ef.ms_from_p4s(event_4_array)\n",
    "    sum_mass_events_2.append(event_mass)"
   ]
  },
  {
   "cell_type": "code",
   "execution_count": 33,
   "metadata": {
    "colab": {
     "base_uri": "https://localhost:8080/",
     "height": 51
    },
    "colab_type": "code",
    "id": "nCoy03fBb0bf",
    "outputId": "1490d22e-3f3f-4804-ff9d-2942f51272eb"
   },
   "outputs": [
    {
     "name": "stdout",
     "output_type": "stream",
     "text": [
      "Max Event Mass:  2624.0850265252584\n",
      "Min Event Mass:  64.67496843735614\n"
     ]
    }
   ],
   "source": [
    "max_event_mass = max(sum_mass_events_2)\n",
    "min_event_mass = min(sum_mass_events_2)\n",
    "\n",
    "print(\"Max Event Mass: \", max_event_mass)\n",
    "print(\"Min Event Mass: \", min_event_mass)"
   ]
  },
  {
   "cell_type": "code",
   "execution_count": 34,
   "metadata": {},
   "outputs": [
    {
     "data": {
      "image/png": "[encoded data removed]",
      "text/plain": [
       "<Figure size 432x288 with 1 Axes>"
      ]
     },
     "metadata": {
      "needs_background": "light"
     },
     "output_type": "display_data"
    }
   ],
   "source": [
    "plt.hist(sum_mass_events_2, bins = 15)\n",
    "plt.show()"
   ]
  },
  {
   "cell_type": "code",
   "execution_count": 35,
   "metadata": {},
   "outputs": [
    {
     "name": "stdout",
     "output_type": "stream",
     "text": [
      "[869.713037023758, -563.6786008465779, 505.56088099719614, -422.9569077101105]\n",
      "[961.1580333695374, 744.1343451967591, -180.81725915428285, -577.1646759604872]\n",
      "[923.062383525554, 509.7100280250164, 567.567924804797, 514.923338613902]\n",
      "[1257.0093140192248, -334.0737155299654, -677.2828312122451, -1002.2312729304804]\n"
     ]
    }
   ],
   "source": [
    "event_masses = np.array(sum_mass_events_2)\n",
    "indices_sorted_evmass = np.argsort(event_masses)\n",
    "print(event_stats_added_2[indices_sorted_evmass[0]])\n",
    "print(event_stats_added_2[indices_sorted_evmass[1]])\n",
    "print(event_stats_added_2[indices_sorted_evmass[2]])\n",
    "print(event_stats_added_2[indices_sorted_evmass[3]])"
   ]
  },
  {
   "cell_type": "code",
   "execution_count": 36,
   "metadata": {},
   "outputs": [
    {
     "name": "stdout",
     "output_type": "stream",
     "text": [
      "[[437.009698042418, -290.0675146550482, 260.4171129231645, -195.43038031928234], [432.70333898134004, -273.6110861915297, 245.1437680740316, -227.52652739082814]]\n",
      "[[467.01302026107464, 359.42149700435135, -102.52371772016315, -278.6863771017111], [494.14501310846276, 384.71284819240776, -78.2935414341197, -298.4782988587761]]\n",
      "[[486.59952305094697, 263.579348764004, 293.5337324589645, 282.98962164927246], [436.46286047460706, 246.13067926101238, 274.0341923458326, 231.93371696462958]]\n",
      "[[676.2980362978869, -179.03591515087132, -350.58092842769224, -548.9729756892984], [580.711277721338, -155.03780037909408, -326.70190278455294, -453.2582972411819]]\n"
     ]
    }
   ],
   "source": [
    "print(event_stats_2[indices_sorted_evmass[0]])\n",
    "print(event_stats_2[indices_sorted_evmass[1]])\n",
    "print(event_stats_2[indices_sorted_evmass[2]])\n",
    "print(event_stats_2[indices_sorted_evmass[3]])"
   ]
  },
  {
   "cell_type": "markdown",
   "metadata": {
    "colab_type": "text",
    "id": "qjUVQF5oe8cK"
   },
   "source": [
    "Divide events into mass bins - each bin is equally sized in terms of the range of masses"
   ]
  },
  {
   "cell_type": "code",
   "execution_count": 64,
   "metadata": {
    "colab": {},
    "colab_type": "code",
    "id": "F0SKSFYsKDpb"
   },
   "outputs": [],
   "source": [
    "index_bin_1 = []\n",
    "index_bin_2 = []\n",
    "index_bin_3 = []\n",
    "index_bin_4 = [] \n",
    "index_bin_5 = []\n",
    "index_bin_6 = []\n",
    "\n",
    "i = 0\n",
    "for event_mass in sum_mass_events_2:\n",
    "    if event_mass > 64.67 and event_mass <= 700:\n",
    "        index_bin_1.append(i)\n",
    "    elif event_mass > 700 and event_mass <= 800:\n",
    "        index_bin_2.append(i)\n",
    "    elif event_mass > 800 and event_mass <= 900:\n",
    "        index_bin_3.append(i)\n",
    "    elif event_mass > 900 and event_mass <= 1000:\n",
    "        index_bin_4.append(i)\n",
    "    elif event_mass > 1000 and event_mass <= 1264.67:\n",
    "        index_bin_5.append(i)\n",
    "    elif event_mass > 1264.67 and event_mass <= 2624.1:\n",
    "        index_bin_6.append(i)\n",
    "        \n",
    "    i += 1\n",
    "\n",
    "event_mass_bin1 = [event_list_2[j] for j in index_bin_1]\n",
    "event_mass_bin2 = [event_list_2[j] for j in index_bin_2]\n",
    "event_mass_bin3 = [event_list_2[j] for j in index_bin_3]\n",
    "event_mass_bin4 = [event_list_2[j] for j in index_bin_4]\n",
    "event_mass_bin5 = [event_list_2[j] for j in index_bin_5]\n",
    "event_mass_bin6 = [event_list_2[j] for j in index_bin_6]"
   ]
  },
  {
   "cell_type": "markdown",
   "metadata": {
    "colab_type": "text",
    "id": "efUhXQu1fyv2"
   },
   "source": [
    "Check size of each mass bin"
   ]
  },
  {
   "cell_type": "code",
   "execution_count": 65,
   "metadata": {
    "colab": {
     "base_uri": "https://localhost:8080/",
     "height": 102
    },
    "colab_type": "code",
    "id": "cdY6Z9oAOcmH",
    "outputId": "0f3e4754-7de2-4e11-b474-9ef078dccc45"
   },
   "outputs": [
    {
     "name": "stdout",
     "output_type": "stream",
     "text": [
      "3892\n",
      "15565\n",
      "17040\n",
      "8021\n",
      "9009\n",
      "4581\n"
     ]
    }
   ],
   "source": [
    "print(len(event_mass_bin1))\n",
    "print(len(event_mass_bin2))\n",
    "print(len(event_mass_bin3))\n",
    "print(len(event_mass_bin4))\n",
    "print(len(event_mass_bin5))\n",
    "print(len(event_mass_bin6))"
   ]
  },
  {
   "cell_type": "code",
   "execution_count": 66,
   "metadata": {
    "colab": {},
    "colab_type": "code",
    "id": "UAVYNYQFu0zW"
   },
   "outputs": [],
   "source": [
    "jet_mass_bin1 = []\n",
    "jet_mass_bin2 = []\n",
    "jet_mass_bin3 = []\n",
    "jet_mass_bin4 = []\n",
    "jet_mass_bin5 = []\n",
    "jet_mass_bin6 = []\n",
    "\n",
    "for event in event_mass_bin1:\n",
    "    for jet in event:\n",
    "        jet_mass_bin1.append(jet)\n",
    "\n",
    "for event in event_mass_bin2:\n",
    "    for jet in event:\n",
    "        jet_mass_bin2.append(jet)\n",
    "\n",
    "for event in event_mass_bin3:\n",
    "    for jet in event:\n",
    "        jet_mass_bin3.append(jet)\n",
    "\n",
    "for event in event_mass_bin4:\n",
    "    for jet in event:\n",
    "        jet_mass_bin4.append(jet)\n",
    "\n",
    "for event in event_mass_bin5:\n",
    "    for jet in event:\n",
    "        jet_mass_bin5.append(jet)\n",
    "        \n",
    "for event in event_mass_bin6:\n",
    "    for jet in event:\n",
    "        jet_mass_bin6.append(jet)"
   ]
  },
  {
   "cell_type": "markdown",
   "metadata": {
    "colab_type": "text",
    "id": "qryNQwNuf3gg"
   },
   "source": [
    "Find out max number of particles for the jets in each mass bin"
   ]
  },
  {
   "cell_type": "code",
   "execution_count": 67,
   "metadata": {
    "colab": {
     "base_uri": "https://localhost:8080/",
     "height": 102
    },
    "colab_type": "code",
    "id": "2cwPHFlaSGFQ",
    "outputId": "e2f858ba-6312-4b4c-dfcd-93d924ab3e4f"
   },
   "outputs": [
    {
     "name": "stdout",
     "output_type": "stream",
     "text": [
      "118\n",
      "124\n",
      "133\n",
      "130\n",
      "129\n",
      "127\n"
     ]
    }
   ],
   "source": [
    "array_lengths = []\n",
    "for i in range(len(jet_mass_bin1)):\n",
    "    array_lengths.append(len(jet_mass_bin1[i]))\n",
    "print(max(array_lengths))\n",
    "\n",
    "array_lengths = []\n",
    "for i in range(len(jet_mass_bin2)):\n",
    "    array_lengths.append(len(jet_mass_bin2[i]))\n",
    "print(max(array_lengths))\n",
    "\n",
    "array_lengths = []\n",
    "for i in range(len(jet_mass_bin3)):\n",
    "    array_lengths.append(len(jet_mass_bin3[i]))\n",
    "print(max(array_lengths))\n",
    "\n",
    "array_lengths = []\n",
    "for i in range(len(jet_mass_bin4)):\n",
    "    array_lengths.append(len(jet_mass_bin4[i]))\n",
    "print(max(array_lengths))\n",
    "\n",
    "array_lengths = []\n",
    "for i in range(len(jet_mass_bin5)):\n",
    "    array_lengths.append(len(jet_mass_bin5[i]))\n",
    "print(max(array_lengths))\n",
    "\n",
    "array_lengths = []\n",
    "for i in range(len(jet_mass_bin6)):\n",
    "    array_lengths.append(len(jet_mass_bin6[i]))\n",
    "print(max(array_lengths))"
   ]
  },
  {
   "cell_type": "markdown",
   "metadata": {
    "colab_type": "text",
    "id": "IilSV9Nfg-kR"
   },
   "source": [
    "Pad each of the jet arrays with 0s to create a contiguous array with max_particles = 160. To run this, do two at a time and calculate the AUC, otherwise you will run out of RAM."
   ]
  },
  {
   "cell_type": "code",
   "execution_count": 101,
   "metadata": {
    "colab": {
     "base_uri": "https://localhost:8080/",
     "height": 88
    },
    "colab_type": "code",
    "id": "iFMfyxExXsPR",
    "outputId": "fcf90ebf-8814-4b05-ff7a-7330f2e2e6d4"
   },
   "outputs": [
    {
     "name": "stdout",
     "output_type": "stream",
     "text": [
      "Mass bin 5 done\n",
      "Mass bin 6 done\n"
     ]
    }
   ],
   "source": [
    "'''\n",
    "jet_array_1 = np.zeros((len(jet_mass_bin1),160,6))\n",
    "for i in range(len(jet_mass_bin1)):\n",
    "    for j in range(160):\n",
    "        for k in range(6):\n",
    "            try:\n",
    "                jet_array_1[i,j,k] = jet_mass_bin1[i][j][k]\n",
    "            except IndexError:\n",
    "                jet_array_1[i,j,k] = 0\n",
    "print(\"Mass bin 1 done\")\n",
    "\n",
    "\n",
    "jet_array_2 = np.zeros((len(jet_mass_bin2),160,6))\n",
    "for i in range(len(jet_mass_bin2)):\n",
    "    for j in range(160):\n",
    "        for k in range(6):\n",
    "            try:\n",
    "                jet_array_2[i,j,k] = jet_mass_bin2[i][j][k]\n",
    "            except IndexError:\n",
    "                jet_array_2[i,j,k] = 0\n",
    "print(\"Mass bin 2 done\")\n",
    "\n",
    "\n",
    "jet_array_3 = np.zeros((len(jet_mass_bin3),160,6))\n",
    "for i in range(len(jet_mass_bin3)):\n",
    "    for j in range(160):\n",
    "        for k in range(6):\n",
    "            try:\n",
    "                jet_array_3[i,j,k] = jet_mass_bin3[i][j][k]\n",
    "            except IndexError:\n",
    "                jet_array_3[i,j,k] = 0\n",
    "print(\"Mass bin 3 done\")\n",
    "\n",
    "\n",
    "jet_array_4 = np.zeros((len(jet_mass_bin4),160,6))\n",
    "for i in range(len(jet_mass_bin4)):\n",
    "    for j in range(160):\n",
    "        for k in range(6):\n",
    "            try:\n",
    "                jet_array_4[i,j,k] = jet_mass_bin4[i][j][k]\n",
    "            except IndexError:\n",
    "                jet_array_4[i,j,k] = 0\n",
    "print(\"Mass bin 4 done\")\n",
    "\n",
    "'''\n",
    "jet_array_5 = np.zeros((len(jet_mass_bin5),160,6))\n",
    "for i in range(len(jet_mass_bin5)):\n",
    "    for j in range(160):\n",
    "        for k in range(6):\n",
    "            try:\n",
    "                jet_array_5[i,j,k] = jet_mass_bin5[i][j][k]\n",
    "            except IndexError:\n",
    "                jet_array_5[i,j,k] = 0\n",
    "print(\"Mass bin 5 done\")\n",
    "\n",
    "jet_array_6 = np.zeros((len(jet_mass_bin6),160,6))\n",
    "for i in range(len(jet_mass_bin6)):\n",
    "    for j in range(160):\n",
    "        for k in range(6):\n",
    "            try:\n",
    "                jet_array_6[i,j,k] = jet_mass_bin6[i][j][k]\n",
    "            except IndexError:\n",
    "                jet_array_6[i,j,k] = 0\n",
    "print(\"Mass bin 6 done\")"
   ]
  },
  {
   "cell_type": "code",
   "execution_count": 70,
   "metadata": {
    "colab": {
     "base_uri": "https://localhost:8080/",
     "height": 34
    },
    "colab_type": "code",
    "id": "vJuRRBhuDXin",
    "outputId": "f394286d-4278-4c13-db90-31dac595ffba"
   },
   "outputs": [
    {
     "data": {
      "text/plain": [
       "7784"
      ]
     },
     "execution_count": 70,
     "metadata": {},
     "output_type": "execute_result"
    }
   ],
   "source": [
    "len(jet_array_1)"
   ]
  },
  {
   "cell_type": "code",
   "execution_count": 71,
   "metadata": {
    "colab": {
     "base_uri": "https://localhost:8080/",
     "height": 34
    },
    "colab_type": "code",
    "id": "dbd9Sah6I_sj",
    "outputId": "071bfc8d-bb2a-43fc-e626-d66002317ae4"
   },
   "outputs": [
    {
     "data": {
      "text/plain": [
       "31130"
      ]
     },
     "execution_count": 71,
     "metadata": {},
     "output_type": "execute_result"
    }
   ],
   "source": [
    "len(jet_array_2)"
   ]
  },
  {
   "cell_type": "markdown",
   "metadata": {
    "colab_type": "text",
    "id": "AGfplTNXhzzc"
   },
   "source": [
    "Create datasets out of mass bins 1 and 2 to feed into PFN (Particle Flow Network) machine learning model"
   ]
  },
  {
   "cell_type": "code",
   "execution_count": 74,
   "metadata": {
    "colab": {},
    "colab_type": "code",
    "id": "3i4b4cooIpJT"
   },
   "outputs": [],
   "source": [
    "#Bins 1 and 2\n",
    "X = np.concatenate([jet_array_1, jet_array_2])[:,:,:4]\n",
    "y = np.concatenate([np.ones(len(jet_array_1)), np.zeros(len(jet_array_2))])\n",
    "#del jet_array_1, jet_array_2"
   ]
  },
  {
   "cell_type": "code",
   "execution_count": 75,
   "metadata": {},
   "outputs": [
    {
     "data": {
      "text/plain": [
       "(38914, 160, 4)"
      ]
     },
     "execution_count": 75,
     "metadata": {},
     "output_type": "execute_result"
    }
   ],
   "source": [
    "X.shape"
   ]
  },
  {
   "cell_type": "markdown",
   "metadata": {
    "colab_type": "text",
    "id": "54auazZYjRhv"
   },
   "source": [
    "Run PFN model on mass bins 1 and 2 to see how well model can distinguish between jets in those bins."
   ]
  },
  {
   "cell_type": "code",
   "execution_count": 81,
   "metadata": {
    "colab": {
     "base_uri": "https://localhost:8080/",
     "height": 1000
    },
    "colab_type": "code",
    "id": "3Ima3_Jpm2Yc",
    "outputId": "02d3a51a-54fc-42e4-ca25-fbe4e37af2d4"
   },
   "outputs": [
    {
     "name": "stdout",
     "output_type": "stream",
     "text": [
      "Loaded quark and gluon jets\n",
      "Finished preprocessing\n",
      "Done train/val/test split\n",
      "Model summary:\n",
      "Model: \"model_7\"\n",
      "__________________________________________________________________________________________________\n",
      "Layer (type)                    Output Shape         Param #     Connected to                     \n",
      "==================================================================================================\n",
      "input (InputLayer)              (None, None, 4)      0                                            \n",
      "__________________________________________________________________________________________________\n",
      "tdist_0 (TimeDistributed)       (None, None, 100)    500         input[0][0]                      \n",
      "__________________________________________________________________________________________________\n",
      "activation_43 (Activation)      (None, None, 100)    0           tdist_0[0][0]                    \n",
      "__________________________________________________________________________________________________\n",
      "tdist_1 (TimeDistributed)       (None, None, 100)    10100       activation_43[0][0]              \n",
      "__________________________________________________________________________________________________\n",
      "activation_44 (Activation)      (None, None, 100)    0           tdist_1[0][0]                    \n",
      "__________________________________________________________________________________________________\n",
      "tdist_2 (TimeDistributed)       (None, None, 128)    12928       activation_44[0][0]              \n",
      "__________________________________________________________________________________________________\n",
      "mask (Lambda)                   (None, None)         0           input[0][0]                      \n",
      "__________________________________________________________________________________________________\n",
      "activation_45 (Activation)      (None, None, 128)    0           tdist_2[0][0]                    \n",
      "__________________________________________________________________________________________________\n",
      "sum (Dot)                       (None, 128)          0           mask[0][0]                       \n",
      "                                                                 activation_45[0][0]              \n",
      "__________________________________________________________________________________________________\n",
      "dense_0 (Dense)                 (None, 100)          12900       sum[0][0]                        \n",
      "__________________________________________________________________________________________________\n",
      "activation_46 (Activation)      (None, 100)          0           dense_0[0][0]                    \n",
      "__________________________________________________________________________________________________\n",
      "dense_1 (Dense)                 (None, 100)          10100       activation_46[0][0]              \n",
      "__________________________________________________________________________________________________\n",
      "activation_47 (Activation)      (None, 100)          0           dense_1[0][0]                    \n",
      "__________________________________________________________________________________________________\n",
      "dense_2 (Dense)                 (None, 100)          10100       activation_47[0][0]              \n",
      "__________________________________________________________________________________________________\n",
      "activation_48 (Activation)      (None, 100)          0           dense_2[0][0]                    \n",
      "__________________________________________________________________________________________________\n",
      "output (Dense)                  (None, 2)            202         activation_48[0][0]              \n",
      "__________________________________________________________________________________________________\n",
      "activation_49 (Activation)      (None, 2)            0           output[0][0]                     \n",
      "==================================================================================================\n",
      "Total params: 56,830\n",
      "Trainable params: 56,830\n",
      "Non-trainable params: 0\n",
      "__________________________________________________________________________________________________\n",
      "Train on 20000 samples, validate on 15914 samples\n",
      "Epoch 1/10\n",
      "20000/20000 [==============================] - 2s 96us/step - loss: 0.8412 - acc: 0.7629 - val_loss: 0.5087 - val_acc: 0.8003\n",
      "Epoch 2/10\n",
      "20000/20000 [==============================] - 1s 73us/step - loss: 0.5114 - acc: 0.7979 - val_loss: 0.5065 - val_acc: 0.8002\n",
      "Epoch 3/10\n",
      "20000/20000 [==============================] - 1s 73us/step - loss: 0.5114 - acc: 0.7979 - val_loss: 0.5178 - val_acc: 0.7960\n",
      "Epoch 4/10\n",
      "20000/20000 [==============================] - 1s 73us/step - loss: 0.5044 - acc: 0.7980 - val_loss: 0.5049 - val_acc: 0.8002\n",
      "Epoch 5/10\n",
      "20000/20000 [==============================] - 1s 72us/step - loss: 0.5047 - acc: 0.7977 - val_loss: 0.5087 - val_acc: 0.7977\n",
      "Epoch 6/10\n",
      "20000/20000 [==============================] - 1s 73us/step - loss: 0.5053 - acc: 0.7979 - val_loss: 0.5065 - val_acc: 0.8001\n",
      "Epoch 7/10\n",
      "20000/20000 [==============================] - 1s 73us/step - loss: 0.5003 - acc: 0.7983 - val_loss: 0.4987 - val_acc: 0.8003\n",
      "Epoch 8/10\n",
      "20000/20000 [==============================] - 1s 72us/step - loss: 0.5044 - acc: 0.7980 - val_loss: 0.4981 - val_acc: 0.8002\n",
      "Epoch 9/10\n",
      "20000/20000 [==============================] - 1s 72us/step - loss: 0.5008 - acc: 0.7983 - val_loss: 0.4986 - val_acc: 0.8002\n",
      "Epoch 10/10\n",
      "20000/20000 [==============================] - 1s 72us/step - loss: 0.5014 - acc: 0.7981 - val_loss: 0.4986 - val_acc: 0.8002\n",
      "\n",
      "PFN AUC: 0.5533052442850739\n",
      "\n"
     ]
    },
    {
     "name": "stderr",
     "output_type": "stream",
     "text": [
      "/usr/local/lib/python3.5/dist-packages/matplotlib/figure.py:2369: UserWarning: This figure includes Axes that are not compatible with tight_layout, so results might be incorrect.\n",
      "  warnings.warn(\"This figure includes Axes that are not compatible \"\n"
     ]
    },
    {
     "data": {
      "image/png": "[encoded data removed]",
      "text/plain": [
       "<Figure size 288x288 with 1 Axes>"
      ]
     },
     "metadata": {
      "needs_background": "light"
     },
     "output_type": "display_data"
    }
   ],
   "source": [
    "#Bins 1 and 2\n",
    "################################### SETTINGS ###################################\n",
    "# the commented values correspond to those in 1810.05165\n",
    "###############################################################################\n",
    "\n",
    "# data controls, can go up to 2000000 for full dataset\n",
    "train, val, test = 20000, 15914, 3000\n",
    "# train, val, test = 1000000, 200000, 200000\n",
    "use_pids = True\n",
    "\n",
    "# network architecture parameters\n",
    "Phi_sizes, F_sizes = (100, 100, 128), (100, 100, 100)\n",
    "# Phi_sizes, F_sizes = (100, 100, 256), (100, 100, 100)\n",
    "\n",
    "# network training parameters\n",
    "num_epoch = 10\n",
    "batch_size = 500\n",
    "\n",
    "################################################################################\n",
    "\n",
    "# convert labels to categorical\n",
    "Y = to_categorical(y, num_classes=2)\n",
    "\n",
    "print('Loaded quark and gluon jets')\n",
    "\n",
    "# preprocess by centering jets and normalizing pts\n",
    "for x in X:\n",
    "    mask = x[:,0] > 0\n",
    "    yphi_avg = np.average(x[mask,1:3], weights=x[mask,0], axis=0)\n",
    "    x[mask,1:3] -= yphi_avg\n",
    "    x[mask,0] /= x[:,0].sum()\n",
    "\n",
    "# handle particle id channel\n",
    "if use_pids:\n",
    "    remap_pids(X, pid_i=3)\n",
    "else:\n",
    "    X = X[:,:,:3]\n",
    "\n",
    "print('Finished preprocessing')\n",
    "\n",
    "# do train/val/test split \n",
    "(X_train, X_val, X_test,\n",
    " Y_train, Y_val, Y_test) = data_split(X, Y, val=val, test=test)\n",
    "\n",
    "print('Done train/val/test split')\n",
    "print('Model summary:')\n",
    "\n",
    "# build architecture\n",
    "pfn = PFN(input_dim=X.shape[-1], Phi_sizes=Phi_sizes, F_sizes=F_sizes)\n",
    "\n",
    "# train model\n",
    "pfn.fit(X_train, Y_train,\n",
    "          epochs=num_epoch,\n",
    "          batch_size=batch_size,\n",
    "          validation_data=(X_val, Y_val),\n",
    "          verbose=1)\n",
    "\n",
    "# get predictions on test data\n",
    "preds = pfn.predict(X_test, batch_size=1000)\n",
    "\n",
    "# get ROC curve if we have sklearn\n",
    "if roc_curve:\n",
    "    pfn_fp, pfn_tp, threshs = roc_curve(Y_test[:,1], preds[:,1])\n",
    "\n",
    "    # get area under the ROC curve\n",
    "    auc = roc_auc_score(Y_test[:,1], preds[:,1])\n",
    "    print()\n",
    "    print('PFN AUC:', auc)\n",
    "    print()\n",
    "\n",
    "    # make ROC curve plot if we have matplotlib\n",
    "    if plt:\n",
    "\n",
    "        # get multiplicity and mass for comparison\n",
    "        masses = np.asarray([ef.ms_from_p4s(ef.p4s_from_ptyphims(x).sum(axis=0)) for x in X])\n",
    "        mults = np.asarray([np.count_nonzero(x[:,0]) for x in X])\n",
    "        mass_fp, mass_tp, threshs = roc_curve(Y[:,1], -masses)\n",
    "        mult_fp, mult_tp, threshs = roc_curve(Y[:,1], -mults)\n",
    "\n",
    "        # some nicer plot settings \n",
    "        plt.rcParams['figure.figsize'] = (4,4)\n",
    "        plt.rcParams['font.family'] = 'serif'\n",
    "        plt.rcParams['figure.autolayout'] = True\n",
    "\n",
    "        # plot the ROC curves\n",
    "        plt.plot(pfn_tp, 1-pfn_fp, '-', color='black', label='PFN')\n",
    "        plt.plot(mass_tp, 1-mass_fp, '-', color='blue', label='Jet Mass')\n",
    "        plt.plot(mult_tp, 1-mult_fp, '-', color='red', label='Multiplicity')\n",
    "\n",
    "        # axes labels\n",
    "        plt.xlabel('Quark Jet Efficiency')\n",
    "        plt.ylabel('Gluon Jet Rejection')\n",
    "\n",
    "        # axes limits\n",
    "        plt.xlim(0, 1)\n",
    "        plt.ylim(0, 1)\n",
    "\n",
    "        # make legend and show plot\n",
    "        plt.legend(loc='lower left', frameon=False)\n",
    "        plt.show()"
   ]
  },
  {
   "cell_type": "markdown",
   "metadata": {
    "colab_type": "text",
    "id": "4av8lgT2kVMt"
   },
   "source": [
    "Create datasets out of mass bins 2 and 3 to feed into PFN (Particle Flow Network) machine learning model"
   ]
  },
  {
   "cell_type": "code",
   "execution_count": 92,
   "metadata": {
    "colab": {},
    "colab_type": "code",
    "id": "0RO62yIahNQX"
   },
   "outputs": [],
   "source": [
    "#Bins 2 and 3\n",
    "X = np.concatenate([jet_array_2, jet_array_3])[:,:,:4]\n",
    "y = np.concatenate([np.ones(len(jet_array_2)), np.zeros(len(jet_array_3))])\n",
    "#del jet_array_2, jet_array_3"
   ]
  },
  {
   "cell_type": "code",
   "execution_count": 93,
   "metadata": {},
   "outputs": [
    {
     "data": {
      "text/plain": [
       "(65210, 160, 4)"
      ]
     },
     "execution_count": 93,
     "metadata": {},
     "output_type": "execute_result"
    }
   ],
   "source": [
    "X.shape"
   ]
  },
  {
   "cell_type": "markdown",
   "metadata": {
    "colab_type": "text",
    "id": "M0PTl1xOk35t"
   },
   "source": [
    "Run PFN model on mass bins 2 and 3 to see how well model can distinguish between jets in those bins."
   ]
  },
  {
   "cell_type": "code",
   "execution_count": 86,
   "metadata": {
    "colab": {
     "base_uri": "https://localhost:8080/",
     "height": 1000
    },
    "colab_type": "code",
    "id": "2spgYY-azxMn",
    "outputId": "e96cf2c3-734a-409f-adde-4a1cd74e8403"
   },
   "outputs": [
    {
     "name": "stdout",
     "output_type": "stream",
     "text": [
      "Loaded quark and gluon jets\n",
      "Finished preprocessing\n",
      "Done train/val/test split\n",
      "Model summary:\n",
      "Model: \"model_10\"\n",
      "__________________________________________________________________________________________________\n",
      "Layer (type)                    Output Shape         Param #     Connected to                     \n",
      "==================================================================================================\n",
      "input (InputLayer)              (None, None, 4)      0                                            \n",
      "__________________________________________________________________________________________________\n",
      "tdist_0 (TimeDistributed)       (None, None, 100)    500         input[0][0]                      \n",
      "__________________________________________________________________________________________________\n",
      "activation_64 (Activation)      (None, None, 100)    0           tdist_0[0][0]                    \n",
      "__________________________________________________________________________________________________\n",
      "tdist_1 (TimeDistributed)       (None, None, 100)    10100       activation_64[0][0]              \n",
      "__________________________________________________________________________________________________\n",
      "activation_65 (Activation)      (None, None, 100)    0           tdist_1[0][0]                    \n",
      "__________________________________________________________________________________________________\n",
      "tdist_2 (TimeDistributed)       (None, None, 128)    12928       activation_65[0][0]              \n",
      "__________________________________________________________________________________________________\n",
      "mask (Lambda)                   (None, None)         0           input[0][0]                      \n",
      "__________________________________________________________________________________________________\n",
      "activation_66 (Activation)      (None, None, 128)    0           tdist_2[0][0]                    \n",
      "__________________________________________________________________________________________________\n",
      "sum (Dot)                       (None, 128)          0           mask[0][0]                       \n",
      "                                                                 activation_66[0][0]              \n",
      "__________________________________________________________________________________________________\n",
      "dense_0 (Dense)                 (None, 100)          12900       sum[0][0]                        \n",
      "__________________________________________________________________________________________________\n",
      "activation_67 (Activation)      (None, 100)          0           dense_0[0][0]                    \n",
      "__________________________________________________________________________________________________\n",
      "dense_1 (Dense)                 (None, 100)          10100       activation_67[0][0]              \n",
      "__________________________________________________________________________________________________\n",
      "activation_68 (Activation)      (None, 100)          0           dense_1[0][0]                    \n",
      "__________________________________________________________________________________________________\n",
      "dense_2 (Dense)                 (None, 100)          10100       activation_68[0][0]              \n",
      "__________________________________________________________________________________________________\n",
      "activation_69 (Activation)      (None, 100)          0           dense_2[0][0]                    \n",
      "__________________________________________________________________________________________________\n",
      "output (Dense)                  (None, 2)            202         activation_69[0][0]              \n",
      "__________________________________________________________________________________________________\n",
      "activation_70 (Activation)      (None, 2)            0           output[0][0]                     \n",
      "==================================================================================================\n",
      "Total params: 56,830\n",
      "Trainable params: 56,830\n",
      "Non-trainable params: 0\n",
      "__________________________________________________________________________________________________\n",
      "Train on 20000 samples, validate on 42210 samples\n",
      "Epoch 1/10\n",
      "20000/20000 [==============================] - 3s 137us/step - loss: 0.9277 - acc: 0.5052 - val_loss: 0.6977 - val_acc: 0.5189\n",
      "Epoch 2/10\n",
      "20000/20000 [==============================] - 2s 101us/step - loss: 0.6969 - acc: 0.5045 - val_loss: 0.6950 - val_acc: 0.5179\n",
      "Epoch 3/10\n",
      "20000/20000 [==============================] - 2s 103us/step - loss: 0.6958 - acc: 0.5117 - val_loss: 0.6963 - val_acc: 0.5236\n",
      "Epoch 4/10\n",
      "20000/20000 [==============================] - 2s 104us/step - loss: 0.6950 - acc: 0.5129 - val_loss: 0.6929 - val_acc: 0.5218\n",
      "Epoch 5/10\n",
      "20000/20000 [==============================] - 2s 103us/step - loss: 0.6979 - acc: 0.5127 - val_loss: 0.6934 - val_acc: 0.5135\n",
      "Epoch 6/10\n",
      "20000/20000 [==============================] - 2s 103us/step - loss: 0.6984 - acc: 0.5073 - val_loss: 0.6943 - val_acc: 0.5048\n",
      "Epoch 7/10\n",
      "20000/20000 [==============================] - 2s 103us/step - loss: 0.6936 - acc: 0.5161 - val_loss: 0.6921 - val_acc: 0.5178\n",
      "Epoch 8/10\n",
      "20000/20000 [==============================] - 2s 103us/step - loss: 0.6963 - acc: 0.5098 - val_loss: 0.6930 - val_acc: 0.5109\n",
      "Epoch 9/10\n",
      "20000/20000 [==============================] - 2s 102us/step - loss: 0.6969 - acc: 0.5114 - val_loss: 0.6919 - val_acc: 0.5190\n",
      "Epoch 10/10\n",
      "20000/20000 [==============================] - 2s 102us/step - loss: 0.6965 - acc: 0.5124 - val_loss: 0.6917 - val_acc: 0.5221\n",
      "\n",
      "PFN AUC: 0.523181715122637\n",
      "\n"
     ]
    },
    {
     "name": "stderr",
     "output_type": "stream",
     "text": [
      "/usr/local/lib/python3.5/dist-packages/matplotlib/figure.py:2369: UserWarning: This figure includes Axes that are not compatible with tight_layout, so results might be incorrect.\n",
      "  warnings.warn(\"This figure includes Axes that are not compatible \"\n"
     ]
    },
    {
     "data": {
      "image/png": "[encoded data removed]",
      "text/plain": [
       "<Figure size 288x288 with 1 Axes>"
      ]
     },
     "metadata": {
      "needs_background": "light"
     },
     "output_type": "display_data"
    }
   ],
   "source": [
    "#Bins 2 and 3\n",
    "################################### SETTINGS ###################################\n",
    "# the commented values correspond to those in 1810.05165\n",
    "###############################################################################\n",
    "\n",
    "# data controls, can go up to 2000000 for full dataset\n",
    "train, val, test = 20000, 42210, 3000\n",
    "# train, val, test = 1000000, 200000, 200000\n",
    "use_pids = True\n",
    "\n",
    "# network architecture parameters\n",
    "Phi_sizes, F_sizes = (100, 100, 128), (100, 100, 100)\n",
    "# Phi_sizes, F_sizes = (100, 100, 256), (100, 100, 100)\n",
    "\n",
    "# network training parameters\n",
    "num_epoch = 10\n",
    "batch_size = 500\n",
    "\n",
    "################################################################################\n",
    "\n",
    "# convert labels to categorical\n",
    "Y = to_categorical(y, num_classes=2)\n",
    "\n",
    "print('Loaded quark and gluon jets')\n",
    "\n",
    "# preprocess by centering jets and normalizing pts\n",
    "for x in X:\n",
    "    mask = x[:,0] > 0\n",
    "    yphi_avg = np.average(x[mask,1:3], weights=x[mask,0], axis=0)\n",
    "    x[mask,1:3] -= yphi_avg\n",
    "    x[mask,0] /= x[:,0].sum()\n",
    "\n",
    "# handle particle id channel\n",
    "if use_pids:\n",
    "    remap_pids(X, pid_i=3)\n",
    "else:\n",
    "    X = X[:,:,:3]\n",
    "\n",
    "print('Finished preprocessing')\n",
    "\n",
    "# do train/val/test split \n",
    "(X_train, X_val, X_test,\n",
    " Y_train, Y_val, Y_test) = data_split(X, Y, val=val, test=test)\n",
    "\n",
    "print('Done train/val/test split')\n",
    "print('Model summary:')\n",
    "\n",
    "# build architecture\n",
    "pfn = PFN(input_dim=X.shape[-1], Phi_sizes=Phi_sizes, F_sizes=F_sizes)\n",
    "\n",
    "# train model\n",
    "pfn.fit(X_train, Y_train,\n",
    "          epochs=num_epoch,\n",
    "          batch_size=batch_size,\n",
    "          validation_data=(X_val, Y_val),\n",
    "          verbose=1)\n",
    "\n",
    "# get predictions on test data\n",
    "preds = pfn.predict(X_test, batch_size=1000)\n",
    "\n",
    "# get ROC curve if we have sklearn\n",
    "if roc_curve:\n",
    "    pfn_fp, pfn_tp, threshs = roc_curve(Y_test[:,1], preds[:,1])\n",
    "\n",
    "    # get area under the ROC curve\n",
    "    auc = roc_auc_score(Y_test[:,1], preds[:,1])\n",
    "    print()\n",
    "    print('PFN AUC:', auc)\n",
    "    print()\n",
    "\n",
    "    # make ROC curve plot if we have matplotlib\n",
    "    if plt:\n",
    "\n",
    "        # get multiplicity and mass for comparison\n",
    "        masses = np.asarray([ef.ms_from_p4s(ef.p4s_from_ptyphims(x).sum(axis=0)) for x in X])\n",
    "        mults = np.asarray([np.count_nonzero(x[:,0]) for x in X])\n",
    "        mass_fp, mass_tp, threshs = roc_curve(Y[:,1], -masses)\n",
    "        mult_fp, mult_tp, threshs = roc_curve(Y[:,1], -mults)\n",
    "\n",
    "        # some nicer plot settings \n",
    "        plt.rcParams['figure.figsize'] = (4,4)\n",
    "        plt.rcParams['font.family'] = 'serif'\n",
    "        plt.rcParams['figure.autolayout'] = True\n",
    "\n",
    "        # plot the ROC curves\n",
    "        plt.plot(pfn_tp, 1-pfn_fp, '-', color='black', label='PFN')\n",
    "        plt.plot(mass_tp, 1-mass_fp, '-', color='blue', label='Jet Mass')\n",
    "        plt.plot(mult_tp, 1-mult_fp, '-', color='red', label='Multiplicity')\n",
    "\n",
    "        # axes labels\n",
    "        plt.xlabel('Quark Jet Efficiency')\n",
    "        plt.ylabel('Gluon Jet Rejection')\n",
    "\n",
    "        # axes limits\n",
    "        plt.xlim(0, 1)\n",
    "        plt.ylim(0, 1)\n",
    "\n",
    "        # make legend and show plot\n",
    "        plt.legend(loc='lower left', frameon=False)\n",
    "        plt.show()"
   ]
  },
  {
   "cell_type": "markdown",
   "metadata": {
    "colab_type": "text",
    "id": "86FL92hFkZcA"
   },
   "source": [
    "Create datasets out of mass bins 3 and 4 to feed into PFN (Particle Flow Network) machine learning model"
   ]
  },
  {
   "cell_type": "code",
   "execution_count": 95,
   "metadata": {
    "colab": {},
    "colab_type": "code",
    "id": "DropiTFwe45R"
   },
   "outputs": [],
   "source": [
    "#Bins 3 and 4\n",
    "X = np.concatenate([jet_array_3, jet_array_4])[:,:,:4]\n",
    "y = np.concatenate([np.ones(len(jet_array_3)), np.zeros(len(jet_array_4))])\n",
    "#del jet_array_3, jet_array_4"
   ]
  },
  {
   "cell_type": "code",
   "execution_count": 96,
   "metadata": {},
   "outputs": [
    {
     "data": {
      "text/plain": [
       "(50122, 160, 4)"
      ]
     },
     "execution_count": 96,
     "metadata": {},
     "output_type": "execute_result"
    }
   ],
   "source": [
    "X.shape"
   ]
  },
  {
   "cell_type": "markdown",
   "metadata": {
    "colab_type": "text",
    "id": "zTHegdmEk6t9"
   },
   "source": [
    "Run PFN model on mass bins 3 and 4 to see how well model can distinguish between jets in those bins."
   ]
  },
  {
   "cell_type": "code",
   "execution_count": 99,
   "metadata": {
    "colab": {
     "base_uri": "https://localhost:8080/",
     "height": 1000
    },
    "colab_type": "code",
    "id": "dhYt6CVJss5y",
    "outputId": "e9712633-9dc0-472a-fedf-446f1bd7e3a7"
   },
   "outputs": [
    {
     "name": "stdout",
     "output_type": "stream",
     "text": [
      "Loaded quark and gluon jets\n",
      "Finished preprocessing\n",
      "Done train/val/test split\n",
      "Model summary:\n",
      "Model: \"model_14\"\n",
      "__________________________________________________________________________________________________\n",
      "Layer (type)                    Output Shape         Param #     Connected to                     \n",
      "==================================================================================================\n",
      "input (InputLayer)              (None, None, 4)      0                                            \n",
      "__________________________________________________________________________________________________\n",
      "tdist_0 (TimeDistributed)       (None, None, 100)    500         input[0][0]                      \n",
      "__________________________________________________________________________________________________\n",
      "activation_92 (Activation)      (None, None, 100)    0           tdist_0[0][0]                    \n",
      "__________________________________________________________________________________________________\n",
      "tdist_1 (TimeDistributed)       (None, None, 100)    10100       activation_92[0][0]              \n",
      "__________________________________________________________________________________________________\n",
      "activation_93 (Activation)      (None, None, 100)    0           tdist_1[0][0]                    \n",
      "__________________________________________________________________________________________________\n",
      "tdist_2 (TimeDistributed)       (None, None, 128)    12928       activation_93[0][0]              \n",
      "__________________________________________________________________________________________________\n",
      "mask (Lambda)                   (None, None)         0           input[0][0]                      \n",
      "__________________________________________________________________________________________________\n",
      "activation_94 (Activation)      (None, None, 128)    0           tdist_2[0][0]                    \n",
      "__________________________________________________________________________________________________\n",
      "sum (Dot)                       (None, 128)          0           mask[0][0]                       \n",
      "                                                                 activation_94[0][0]              \n",
      "__________________________________________________________________________________________________\n",
      "dense_0 (Dense)                 (None, 100)          12900       sum[0][0]                        \n",
      "__________________________________________________________________________________________________\n",
      "activation_95 (Activation)      (None, 100)          0           dense_0[0][0]                    \n",
      "__________________________________________________________________________________________________\n",
      "dense_1 (Dense)                 (None, 100)          10100       activation_95[0][0]              \n",
      "__________________________________________________________________________________________________\n",
      "activation_96 (Activation)      (None, 100)          0           dense_1[0][0]                    \n",
      "__________________________________________________________________________________________________\n",
      "dense_2 (Dense)                 (None, 100)          10100       activation_96[0][0]              \n",
      "__________________________________________________________________________________________________\n",
      "activation_97 (Activation)      (None, 100)          0           dense_2[0][0]                    \n",
      "__________________________________________________________________________________________________\n",
      "output (Dense)                  (None, 2)            202         activation_97[0][0]              \n",
      "__________________________________________________________________________________________________\n",
      "activation_98 (Activation)      (None, 2)            0           output[0][0]                     \n",
      "==================================================================================================\n",
      "Total params: 56,830\n",
      "Trainable params: 56,830\n",
      "Non-trainable params: 0\n",
      "__________________________________________________________________________________________________\n",
      "Train on 20000 samples, validate on 27122 samples\n",
      "Epoch 1/10\n",
      "20000/20000 [==============================] - 3s 128us/step - loss: 0.8308 - acc: 0.6319 - val_loss: 0.6355 - val_acc: 0.6814\n",
      "Epoch 2/10\n",
      "20000/20000 [==============================] - 2s 85us/step - loss: 0.6386 - acc: 0.6769 - val_loss: 0.6347 - val_acc: 0.6814\n",
      "Epoch 3/10\n",
      "20000/20000 [==============================] - 2s 84us/step - loss: 0.6407 - acc: 0.6727 - val_loss: 0.6391 - val_acc: 0.6801\n",
      "Epoch 4/10\n",
      "20000/20000 [==============================] - 2s 85us/step - loss: 0.6336 - acc: 0.6770 - val_loss: 0.6264 - val_acc: 0.6814\n",
      "Epoch 5/10\n",
      "20000/20000 [==============================] - 2s 84us/step - loss: 0.6367 - acc: 0.6755 - val_loss: 0.6267 - val_acc: 0.6814\n",
      "Epoch 6/10\n",
      "20000/20000 [==============================] - 2s 85us/step - loss: 0.6352 - acc: 0.6743 - val_loss: 0.6297 - val_acc: 0.6799\n",
      "Epoch 7/10\n",
      "20000/20000 [==============================] - 2s 85us/step - loss: 0.6308 - acc: 0.6773 - val_loss: 0.6268 - val_acc: 0.6814\n",
      "Epoch 8/10\n",
      "20000/20000 [==============================] - 2s 84us/step - loss: 0.6308 - acc: 0.6776 - val_loss: 0.6289 - val_acc: 0.6809\n",
      "Epoch 9/10\n",
      "20000/20000 [==============================] - 2s 85us/step - loss: 0.6307 - acc: 0.6774 - val_loss: 0.6266 - val_acc: 0.6814\n",
      "Epoch 10/10\n",
      "20000/20000 [==============================] - 2s 85us/step - loss: 0.6319 - acc: 0.6773 - val_loss: 0.6261 - val_acc: 0.6814\n",
      "\n",
      "PFN AUC: 0.5067550120806359\n",
      "\n"
     ]
    },
    {
     "name": "stderr",
     "output_type": "stream",
     "text": [
      "/usr/local/lib/python3.5/dist-packages/matplotlib/figure.py:2369: UserWarning: This figure includes Axes that are not compatible with tight_layout, so results might be incorrect.\n",
      "  warnings.warn(\"This figure includes Axes that are not compatible \"\n"
     ]
    },
    {
     "data": {
      "image/png": "[encoded data removed]",
      "text/plain": [
       "<Figure size 288x288 with 1 Axes>"
      ]
     },
     "metadata": {
      "needs_background": "light"
     },
     "output_type": "display_data"
    }
   ],
   "source": [
    "#Bins 3 and 4\n",
    "################################### SETTINGS ###################################\n",
    "# the commented values correspond to those in 1810.05165\n",
    "###############################################################################\n",
    "\n",
    "# data controls, can go up to 2000000 for full dataset\n",
    "train, val, test = 20000, 27122, 3000\n",
    "# train, val, test = 1000000, 200000, 200000\n",
    "use_pids = True\n",
    "\n",
    "# network architecture parameters\n",
    "Phi_sizes, F_sizes = (100, 100, 128), (100, 100, 100)\n",
    "# Phi_sizes, F_sizes = (100, 100, 256), (100, 100, 100)\n",
    "\n",
    "# network training parameters\n",
    "num_epoch = 10\n",
    "batch_size = 500\n",
    "\n",
    "################################################################################\n",
    "\n",
    "# convert labels to categorical\n",
    "Y = to_categorical(y, num_classes=2)\n",
    "\n",
    "print('Loaded quark and gluon jets')\n",
    "\n",
    "# preprocess by centering jets and normalizing pts\n",
    "for x in X:\n",
    "    mask = x[:,0] > 0\n",
    "    yphi_avg = np.average(x[mask,1:3], weights=x[mask,0], axis=0)\n",
    "    x[mask,1:3] -= yphi_avg\n",
    "    x[mask,0] /= x[:,0].sum()\n",
    "\n",
    "# handle particle id channel\n",
    "if use_pids:\n",
    "    remap_pids(X, pid_i=3)\n",
    "else:\n",
    "    X = X[:,:,:3]\n",
    "\n",
    "print('Finished preprocessing')\n",
    "\n",
    "# do train/val/test split \n",
    "(X_train, X_val, X_test,\n",
    " Y_train, Y_val, Y_test) = data_split(X, Y, val=val, test=test)\n",
    "\n",
    "print('Done train/val/test split')\n",
    "print('Model summary:')\n",
    "\n",
    "# build architecture\n",
    "pfn = PFN(input_dim=X.shape[-1], Phi_sizes=Phi_sizes, F_sizes=F_sizes)\n",
    "\n",
    "# train model\n",
    "pfn.fit(X_train, Y_train,\n",
    "          epochs=num_epoch,\n",
    "          batch_size=batch_size,\n",
    "          validation_data=(X_val, Y_val),\n",
    "          verbose=1)\n",
    "\n",
    "# get predictions on test data\n",
    "preds = pfn.predict(X_test, batch_size=1000)\n",
    "\n",
    "# get ROC curve if we have sklearn\n",
    "if roc_curve:\n",
    "    pfn_fp, pfn_tp, threshs = roc_curve(Y_test[:,1], preds[:,1])\n",
    "\n",
    "    # get area under the ROC curve\n",
    "    auc = roc_auc_score(Y_test[:,1], preds[:,1])\n",
    "    print()\n",
    "    print('PFN AUC:', auc)\n",
    "    print()\n",
    "\n",
    "    # make ROC curve plot if we have matplotlib\n",
    "    if plt:\n",
    "\n",
    "        # get multiplicity and mass for comparison\n",
    "        masses = np.asarray([ef.ms_from_p4s(ef.p4s_from_ptyphims(x).sum(axis=0)) for x in X])\n",
    "        mults = np.asarray([np.count_nonzero(x[:,0]) for x in X])\n",
    "        mass_fp, mass_tp, threshs = roc_curve(Y[:,1], -masses)\n",
    "        mult_fp, mult_tp, threshs = roc_curve(Y[:,1], -mults)\n",
    "\n",
    "        # some nicer plot settings \n",
    "        plt.rcParams['figure.figsize'] = (4,4)\n",
    "        plt.rcParams['font.family'] = 'serif'\n",
    "        plt.rcParams['figure.autolayout'] = True\n",
    "\n",
    "        # plot the ROC curves\n",
    "        plt.plot(pfn_tp, 1-pfn_fp, '-', color='black', label='PFN')\n",
    "        plt.plot(mass_tp, 1-mass_fp, '-', color='blue', label='Jet Mass')\n",
    "        plt.plot(mult_tp, 1-mult_fp, '-', color='red', label='Multiplicity')\n",
    "\n",
    "        # axes labels\n",
    "        plt.xlabel('Quark Jet Efficiency')\n",
    "        plt.ylabel('Gluon Jet Rejection')\n",
    "\n",
    "        # axes limits\n",
    "        plt.xlim(0, 1)\n",
    "        plt.ylim(0, 1)\n",
    "\n",
    "        # make legend and show plot\n",
    "        plt.legend(loc='lower left', frameon=False)\n",
    "        plt.show()"
   ]
  },
  {
   "cell_type": "code",
   "execution_count": 102,
   "metadata": {},
   "outputs": [],
   "source": [
    "#Bins 4 and 5\n",
    "X = np.concatenate([jet_array_4, jet_array_5])[:,:,:4]\n",
    "y = np.concatenate([np.ones(len(jet_array_4)), np.zeros(len(jet_array_5))])\n",
    "#del jet_array_3, jet_array_4"
   ]
  },
  {
   "cell_type": "code",
   "execution_count": 103,
   "metadata": {},
   "outputs": [
    {
     "data": {
      "text/plain": [
       "(34060, 160, 4)"
      ]
     },
     "execution_count": 103,
     "metadata": {},
     "output_type": "execute_result"
    }
   ],
   "source": [
    "X.shape"
   ]
  },
  {
   "cell_type": "code",
   "execution_count": 104,
   "metadata": {},
   "outputs": [
    {
     "name": "stdout",
     "output_type": "stream",
     "text": [
      "Loaded quark and gluon jets\n",
      "Finished preprocessing\n",
      "Done train/val/test split\n",
      "Model summary:\n",
      "Model: \"model_15\"\n",
      "__________________________________________________________________________________________________\n",
      "Layer (type)                    Output Shape         Param #     Connected to                     \n",
      "==================================================================================================\n",
      "input (InputLayer)              (None, None, 4)      0                                            \n",
      "__________________________________________________________________________________________________\n",
      "tdist_0 (TimeDistributed)       (None, None, 100)    500         input[0][0]                      \n",
      "__________________________________________________________________________________________________\n",
      "activation_99 (Activation)      (None, None, 100)    0           tdist_0[0][0]                    \n",
      "__________________________________________________________________________________________________\n",
      "tdist_1 (TimeDistributed)       (None, None, 100)    10100       activation_99[0][0]              \n",
      "__________________________________________________________________________________________________\n",
      "activation_100 (Activation)     (None, None, 100)    0           tdist_1[0][0]                    \n",
      "__________________________________________________________________________________________________\n",
      "tdist_2 (TimeDistributed)       (None, None, 128)    12928       activation_100[0][0]             \n",
      "__________________________________________________________________________________________________\n",
      "mask (Lambda)                   (None, None)         0           input[0][0]                      \n",
      "__________________________________________________________________________________________________\n",
      "activation_101 (Activation)     (None, None, 128)    0           tdist_2[0][0]                    \n",
      "__________________________________________________________________________________________________\n",
      "sum (Dot)                       (None, 128)          0           mask[0][0]                       \n",
      "                                                                 activation_101[0][0]             \n",
      "__________________________________________________________________________________________________\n",
      "dense_0 (Dense)                 (None, 100)          12900       sum[0][0]                        \n",
      "__________________________________________________________________________________________________\n",
      "activation_102 (Activation)     (None, 100)          0           dense_0[0][0]                    \n",
      "__________________________________________________________________________________________________\n",
      "dense_1 (Dense)                 (None, 100)          10100       activation_102[0][0]             \n",
      "__________________________________________________________________________________________________\n",
      "activation_103 (Activation)     (None, 100)          0           dense_1[0][0]                    \n",
      "__________________________________________________________________________________________________\n",
      "dense_2 (Dense)                 (None, 100)          10100       activation_103[0][0]             \n",
      "__________________________________________________________________________________________________\n",
      "activation_104 (Activation)     (None, 100)          0           dense_2[0][0]                    \n",
      "__________________________________________________________________________________________________\n",
      "output (Dense)                  (None, 2)            202         activation_104[0][0]             \n",
      "__________________________________________________________________________________________________\n",
      "activation_105 (Activation)     (None, 2)            0           output[0][0]                     \n",
      "==================================================================================================\n",
      "Total params: 56,830\n",
      "Trainable params: 56,830\n",
      "Non-trainable params: 0\n",
      "__________________________________________________________________________________________________\n",
      "Train on 20000 samples, validate on 11060 samples\n",
      "Epoch 1/10\n",
      "20000/20000 [==============================] - 2s 115us/step - loss: 0.8881 - acc: 0.5059 - val_loss: 0.6965 - val_acc: 0.5308\n",
      "Epoch 2/10\n",
      "20000/20000 [==============================] - 1s 69us/step - loss: 0.6938 - acc: 0.5204 - val_loss: 0.6918 - val_acc: 0.5276\n",
      "Epoch 3/10\n",
      "20000/20000 [==============================] - 1s 69us/step - loss: 0.6942 - acc: 0.5197 - val_loss: 0.6920 - val_acc: 0.5332\n",
      "Epoch 4/10\n",
      "20000/20000 [==============================] - 1s 69us/step - loss: 0.6960 - acc: 0.5179 - val_loss: 0.6984 - val_acc: 0.4933\n",
      "Epoch 5/10\n",
      "20000/20000 [==============================] - 1s 69us/step - loss: 0.6940 - acc: 0.5268 - val_loss: 0.7001 - val_acc: 0.4838\n",
      "Epoch 6/10\n",
      "20000/20000 [==============================] - 1s 68us/step - loss: 0.6951 - acc: 0.5214 - val_loss: 0.6953 - val_acc: 0.5080\n",
      "Epoch 7/10\n",
      "20000/20000 [==============================] - 1s 69us/step - loss: 0.6971 - acc: 0.5207 - val_loss: 0.6903 - val_acc: 0.5366\n",
      "Epoch 8/10\n",
      "20000/20000 [==============================] - 1s 70us/step - loss: 0.6931 - acc: 0.5263 - val_loss: 0.6892 - val_acc: 0.5432\n",
      "Epoch 9/10\n",
      "20000/20000 [==============================] - 1s 68us/step - loss: 0.6904 - acc: 0.5328 - val_loss: 0.6902 - val_acc: 0.5346\n",
      "Epoch 10/10\n",
      "20000/20000 [==============================] - 1s 68us/step - loss: 0.6921 - acc: 0.5275 - val_loss: 0.6894 - val_acc: 0.5413\n",
      "\n",
      "PFN AUC: 0.5358723401793617\n",
      "\n"
     ]
    },
    {
     "name": "stderr",
     "output_type": "stream",
     "text": [
      "/usr/local/lib/python3.5/dist-packages/matplotlib/figure.py:2369: UserWarning: This figure includes Axes that are not compatible with tight_layout, so results might be incorrect.\n",
      "  warnings.warn(\"This figure includes Axes that are not compatible \"\n"
     ]
    },
    {
     "data": {
      "image/png": "[encoded data removed]",
      "text/plain": [
       "<Figure size 288x288 with 1 Axes>"
      ]
     },
     "metadata": {
      "needs_background": "light"
     },
     "output_type": "display_data"
    }
   ],
   "source": [
    "#Bins 4 and 5\n",
    "################################### SETTINGS ###################################\n",
    "# the commented values correspond to those in 1810.05165\n",
    "###############################################################################\n",
    "\n",
    "# data controls, can go up to 2000000 for full dataset\n",
    "train, val, test = 20000, 11060, 3000\n",
    "# train, val, test = 1000000, 200000, 200000\n",
    "use_pids = True\n",
    "\n",
    "# network architecture parameters\n",
    "Phi_sizes, F_sizes = (100, 100, 128), (100, 100, 100)\n",
    "# Phi_sizes, F_sizes = (100, 100, 256), (100, 100, 100)\n",
    "\n",
    "# network training parameters\n",
    "num_epoch = 10\n",
    "batch_size = 500\n",
    "\n",
    "################################################################################\n",
    "\n",
    "# convert labels to categorical\n",
    "Y = to_categorical(y, num_classes=2)\n",
    "\n",
    "print('Loaded quark and gluon jets')\n",
    "\n",
    "# preprocess by centering jets and normalizing pts\n",
    "for x in X:\n",
    "    mask = x[:,0] > 0\n",
    "    yphi_avg = np.average(x[mask,1:3], weights=x[mask,0], axis=0)\n",
    "    x[mask,1:3] -= yphi_avg\n",
    "    x[mask,0] /= x[:,0].sum()\n",
    "\n",
    "# handle particle id channel\n",
    "if use_pids:\n",
    "    remap_pids(X, pid_i=3)\n",
    "else:\n",
    "    X = X[:,:,:3]\n",
    "\n",
    "print('Finished preprocessing')\n",
    "\n",
    "# do train/val/test split \n",
    "(X_train, X_val, X_test,\n",
    " Y_train, Y_val, Y_test) = data_split(X, Y, val=val, test=test)\n",
    "\n",
    "print('Done train/val/test split')\n",
    "print('Model summary:')\n",
    "\n",
    "# build architecture\n",
    "pfn = PFN(input_dim=X.shape[-1], Phi_sizes=Phi_sizes, F_sizes=F_sizes)\n",
    "\n",
    "# train model\n",
    "pfn.fit(X_train, Y_train,\n",
    "          epochs=num_epoch,\n",
    "          batch_size=batch_size,\n",
    "          validation_data=(X_val, Y_val),\n",
    "          verbose=1)\n",
    "\n",
    "# get predictions on test data\n",
    "preds = pfn.predict(X_test, batch_size=1000)\n",
    "\n",
    "# get ROC curve if we have sklearn\n",
    "if roc_curve:\n",
    "    pfn_fp, pfn_tp, threshs = roc_curve(Y_test[:,1], preds[:,1])\n",
    "\n",
    "    # get area under the ROC curve\n",
    "    auc = roc_auc_score(Y_test[:,1], preds[:,1])\n",
    "    print()\n",
    "    print('PFN AUC:', auc)\n",
    "    print()\n",
    "\n",
    "    # make ROC curve plot if we have matplotlib\n",
    "    if plt:\n",
    "\n",
    "        # get multiplicity and mass for comparison\n",
    "        masses = np.asarray([ef.ms_from_p4s(ef.p4s_from_ptyphims(x).sum(axis=0)) for x in X])\n",
    "        mults = np.asarray([np.count_nonzero(x[:,0]) for x in X])\n",
    "        mass_fp, mass_tp, threshs = roc_curve(Y[:,1], -masses)\n",
    "        mult_fp, mult_tp, threshs = roc_curve(Y[:,1], -mults)\n",
    "\n",
    "        # some nicer plot settings \n",
    "        plt.rcParams['figure.figsize'] = (4,4)\n",
    "        plt.rcParams['font.family'] = 'serif'\n",
    "        plt.rcParams['figure.autolayout'] = True\n",
    "\n",
    "        # plot the ROC curves\n",
    "        plt.plot(pfn_tp, 1-pfn_fp, '-', color='black', label='PFN')\n",
    "        plt.plot(mass_tp, 1-mass_fp, '-', color='blue', label='Jet Mass')\n",
    "        plt.plot(mult_tp, 1-mult_fp, '-', color='red', label='Multiplicity')\n",
    "\n",
    "        # axes labels\n",
    "        plt.xlabel('Quark Jet Efficiency')\n",
    "        plt.ylabel('Gluon Jet Rejection')\n",
    "\n",
    "        # axes limits\n",
    "        plt.xlim(0, 1)\n",
    "        plt.ylim(0, 1)\n",
    "\n",
    "        # make legend and show plot\n",
    "        plt.legend(loc='lower left', frameon=False)\n",
    "        plt.show()"
   ]
  },
  {
   "cell_type": "code",
   "execution_count": 105,
   "metadata": {},
   "outputs": [],
   "source": [
    "#Bins 5 and 6\n",
    "X = np.concatenate([jet_array_5, jet_array_6])[:,:,:4]\n",
    "y = np.concatenate([np.ones(len(jet_array_5)), np.zeros(len(jet_array_6))])\n",
    "#del jet_array_3, jet_array_4"
   ]
  },
  {
   "cell_type": "code",
   "execution_count": 106,
   "metadata": {},
   "outputs": [
    {
     "data": {
      "text/plain": [
       "(27180, 160, 4)"
      ]
     },
     "execution_count": 106,
     "metadata": {},
     "output_type": "execute_result"
    }
   ],
   "source": [
    "X.shape"
   ]
  },
  {
   "cell_type": "code",
   "execution_count": 107,
   "metadata": {},
   "outputs": [
    {
     "name": "stdout",
     "output_type": "stream",
     "text": [
      "Loaded quark and gluon jets\n",
      "Finished preprocessing\n",
      "Done train/val/test split\n",
      "Model summary:\n",
      "Model: \"model_16\"\n",
      "__________________________________________________________________________________________________\n",
      "Layer (type)                    Output Shape         Param #     Connected to                     \n",
      "==================================================================================================\n",
      "input (InputLayer)              (None, None, 4)      0                                            \n",
      "__________________________________________________________________________________________________\n",
      "tdist_0 (TimeDistributed)       (None, None, 100)    500         input[0][0]                      \n",
      "__________________________________________________________________________________________________\n",
      "activation_106 (Activation)     (None, None, 100)    0           tdist_0[0][0]                    \n",
      "__________________________________________________________________________________________________\n",
      "tdist_1 (TimeDistributed)       (None, None, 100)    10100       activation_106[0][0]             \n",
      "__________________________________________________________________________________________________\n",
      "activation_107 (Activation)     (None, None, 100)    0           tdist_1[0][0]                    \n",
      "__________________________________________________________________________________________________\n",
      "tdist_2 (TimeDistributed)       (None, None, 128)    12928       activation_107[0][0]             \n",
      "__________________________________________________________________________________________________\n",
      "mask (Lambda)                   (None, None)         0           input[0][0]                      \n",
      "__________________________________________________________________________________________________\n",
      "activation_108 (Activation)     (None, None, 128)    0           tdist_2[0][0]                    \n",
      "__________________________________________________________________________________________________\n",
      "sum (Dot)                       (None, 128)          0           mask[0][0]                       \n",
      "                                                                 activation_108[0][0]             \n",
      "__________________________________________________________________________________________________\n",
      "dense_0 (Dense)                 (None, 100)          12900       sum[0][0]                        \n",
      "__________________________________________________________________________________________________\n",
      "activation_109 (Activation)     (None, 100)          0           dense_0[0][0]                    \n",
      "__________________________________________________________________________________________________\n",
      "dense_1 (Dense)                 (None, 100)          10100       activation_109[0][0]             \n",
      "__________________________________________________________________________________________________\n",
      "activation_110 (Activation)     (None, 100)          0           dense_1[0][0]                    \n",
      "__________________________________________________________________________________________________\n",
      "dense_2 (Dense)                 (None, 100)          10100       activation_110[0][0]             \n",
      "__________________________________________________________________________________________________\n",
      "activation_111 (Activation)     (None, 100)          0           dense_2[0][0]                    \n",
      "__________________________________________________________________________________________________\n",
      "output (Dense)                  (None, 2)            202         activation_111[0][0]             \n",
      "__________________________________________________________________________________________________\n",
      "activation_112 (Activation)     (None, 2)            0           output[0][0]                     \n",
      "==================================================================================================\n",
      "Total params: 56,830\n",
      "Trainable params: 56,830\n",
      "Non-trainable params: 0\n",
      "__________________________________________________________________________________________________\n",
      "Train on 20000 samples, validate on 4180 samples\n",
      "Epoch 1/10\n",
      "20000/20000 [==============================] - 2s 105us/step - loss: 0.8686 - acc: 0.6050 - val_loss: 0.6466 - val_acc: 0.6667\n",
      "Epoch 2/10\n",
      "20000/20000 [==============================] - 1s 60us/step - loss: 0.6434 - acc: 0.6604 - val_loss: 0.6342 - val_acc: 0.6663\n",
      "Epoch 3/10\n",
      "20000/20000 [==============================] - 1s 61us/step - loss: 0.6456 - acc: 0.6563 - val_loss: 0.6342 - val_acc: 0.6663\n",
      "Epoch 4/10\n",
      "20000/20000 [==============================] - 1s 60us/step - loss: 0.6393 - acc: 0.6611 - val_loss: 0.6330 - val_acc: 0.6658\n",
      "Epoch 5/10\n",
      "20000/20000 [==============================] - 1s 61us/step - loss: 0.6371 - acc: 0.6632 - val_loss: 0.6345 - val_acc: 0.6651\n",
      "Epoch 6/10\n",
      "20000/20000 [==============================] - 1s 60us/step - loss: 0.6377 - acc: 0.6614 - val_loss: 0.6324 - val_acc: 0.6670\n",
      "Epoch 7/10\n",
      "20000/20000 [==============================] - 1s 61us/step - loss: 0.6460 - acc: 0.6558 - val_loss: 0.6352 - val_acc: 0.6660\n",
      "Epoch 8/10\n",
      "20000/20000 [==============================] - 1s 61us/step - loss: 0.6350 - acc: 0.6612 - val_loss: 0.6330 - val_acc: 0.6658\n",
      "Epoch 9/10\n",
      "20000/20000 [==============================] - 1s 61us/step - loss: 0.6388 - acc: 0.6591 - val_loss: 0.6340 - val_acc: 0.6651\n",
      "Epoch 10/10\n",
      "20000/20000 [==============================] - 1s 60us/step - loss: 0.6348 - acc: 0.6619 - val_loss: 0.6312 - val_acc: 0.6648\n",
      "\n",
      "PFN AUC: 0.5676651850215895\n",
      "\n"
     ]
    },
    {
     "name": "stderr",
     "output_type": "stream",
     "text": [
      "/usr/local/lib/python3.5/dist-packages/matplotlib/figure.py:2369: UserWarning: This figure includes Axes that are not compatible with tight_layout, so results might be incorrect.\n",
      "  warnings.warn(\"This figure includes Axes that are not compatible \"\n"
     ]
    },
    {
     "data": {
      "image/png": "[encoded data removed]",
      "text/plain": [
       "<Figure size 288x288 with 1 Axes>"
      ]
     },
     "metadata": {
      "needs_background": "light"
     },
     "output_type": "display_data"
    }
   ],
   "source": [
    "#Bins 4 and 5\n",
    "################################### SETTINGS ###################################\n",
    "# the commented values correspond to those in 1810.05165\n",
    "###############################################################################\n",
    "\n",
    "# data controls, can go up to 2000000 for full dataset\n",
    "train, val, test = 20000, 4180, 3000\n",
    "# train, val, test = 1000000, 200000, 200000\n",
    "use_pids = True\n",
    "\n",
    "# network architecture parameters\n",
    "Phi_sizes, F_sizes = (100, 100, 128), (100, 100, 100)\n",
    "# Phi_sizes, F_sizes = (100, 100, 256), (100, 100, 100)\n",
    "\n",
    "# network training parameters\n",
    "num_epoch = 10\n",
    "batch_size = 500\n",
    "\n",
    "################################################################################\n",
    "\n",
    "# convert labels to categorical\n",
    "Y = to_categorical(y, num_classes=2)\n",
    "\n",
    "print('Loaded quark and gluon jets')\n",
    "\n",
    "# preprocess by centering jets and normalizing pts\n",
    "for x in X:\n",
    "    mask = x[:,0] > 0\n",
    "    yphi_avg = np.average(x[mask,1:3], weights=x[mask,0], axis=0)\n",
    "    x[mask,1:3] -= yphi_avg\n",
    "    x[mask,0] /= x[:,0].sum()\n",
    "\n",
    "# handle particle id channel\n",
    "if use_pids:\n",
    "    remap_pids(X, pid_i=3)\n",
    "else:\n",
    "    X = X[:,:,:3]\n",
    "\n",
    "print('Finished preprocessing')\n",
    "\n",
    "# do train/val/test split \n",
    "(X_train, X_val, X_test,\n",
    " Y_train, Y_val, Y_test) = data_split(X, Y, val=val, test=test)\n",
    "\n",
    "print('Done train/val/test split')\n",
    "print('Model summary:')\n",
    "\n",
    "# build architecture\n",
    "pfn = PFN(input_dim=X.shape[-1], Phi_sizes=Phi_sizes, F_sizes=F_sizes)\n",
    "\n",
    "# train model\n",
    "pfn.fit(X_train, Y_train,\n",
    "          epochs=num_epoch,\n",
    "          batch_size=batch_size,\n",
    "          validation_data=(X_val, Y_val),\n",
    "          verbose=1)\n",
    "\n",
    "# get predictions on test data\n",
    "preds = pfn.predict(X_test, batch_size=1000)\n",
    "\n",
    "# get ROC curve if we have sklearn\n",
    "if roc_curve:\n",
    "    pfn_fp, pfn_tp, threshs = roc_curve(Y_test[:,1], preds[:,1])\n",
    "\n",
    "    # get area under the ROC curve\n",
    "    auc = roc_auc_score(Y_test[:,1], preds[:,1])\n",
    "    print()\n",
    "    print('PFN AUC:', auc)\n",
    "    print()\n",
    "\n",
    "    # make ROC curve plot if we have matplotlib\n",
    "    if plt:\n",
    "\n",
    "        # get multiplicity and mass for comparison\n",
    "        masses = np.asarray([ef.ms_from_p4s(ef.p4s_from_ptyphims(x).sum(axis=0)) for x in X])\n",
    "        mults = np.asarray([np.count_nonzero(x[:,0]) for x in X])\n",
    "        mass_fp, mass_tp, threshs = roc_curve(Y[:,1], -masses)\n",
    "        mult_fp, mult_tp, threshs = roc_curve(Y[:,1], -mults)\n",
    "\n",
    "        # some nicer plot settings \n",
    "        plt.rcParams['figure.figsize'] = (4,4)\n",
    "        plt.rcParams['font.family'] = 'serif'\n",
    "        plt.rcParams['figure.autolayout'] = True\n",
    "\n",
    "        # plot the ROC curves\n",
    "        plt.plot(pfn_tp, 1-pfn_fp, '-', color='black', label='PFN')\n",
    "        plt.plot(mass_tp, 1-mass_fp, '-', color='blue', label='Jet Mass')\n",
    "        plt.plot(mult_tp, 1-mult_fp, '-', color='red', label='Multiplicity')\n",
    "\n",
    "        # axes labels\n",
    "        plt.xlabel('Quark Jet Efficiency')\n",
    "        plt.ylabel('Gluon Jet Rejection')\n",
    "\n",
    "        # axes limits\n",
    "        plt.xlim(0, 1)\n",
    "        plt.ylim(0, 1)\n",
    "\n",
    "        # make legend and show plot\n",
    "        plt.legend(loc='lower left', frameon=False)\n",
    "        plt.show()"
   ]
  },
  {
   "cell_type": "markdown",
   "metadata": {
    "colab_type": "text",
    "id": "vkItZ3ZUPUu6"
   },
   "source": [
    "AUC plot"
   ]
  },
  {
   "cell_type": "code",
   "execution_count": 109,
   "metadata": {
    "colab": {
     "base_uri": "https://localhost:8080/",
     "height": 297
    },
    "colab_type": "code",
    "id": "9JTa2Y_wPTl4",
    "outputId": "246bf11c-59e5-4c66-d865-a2685072f2cf"
   },
   "outputs": [
    {
     "data": {
      "image/png": "[encoded data removed]",
      "text/plain": [
       "<Figure size 288x288 with 1 Axes>"
      ]
     },
     "metadata": {
      "needs_background": "light"
     },
     "output_type": "display_data"
    }
   ],
   "source": [
    "plt.plot([1, 2, 3, 4, 5], [0.5533052442850739, 0.523181715122637, 0.5067550120806359, 0.5358723401793617, 0.5676651850215895], \"r--o\")\n",
    "plt.axis([0, 6, 0.5, 0.58])\n",
    "plt.xlabel('Bin')\n",
    "plt.ylabel('AUC')\n",
    "plt.show()"
   ]
  },
  {
   "cell_type": "code",
   "execution_count": null,
   "metadata": {},
   "outputs": [],
   "source": []
  }
 ],
 "metadata": {
  "accelerator": "GPU",
  "colab": {
   "machine_shape": "hm",
   "name": "SIM_particle_distribution_by_event.ipynb",
   "provenance": []
  },
  "kernelspec": {
   "display_name": "Python 3",
   "language": "python",
   "name": "python3"
  },
  "language_info": {
   "codemirror_mode": {
    "name": "ipython",
    "version": 3
   },
   "file_extension": ".py",
   "mimetype": "text/x-python",
   "name": "python",
   "nbconvert_exporter": "python",
   "pygments_lexer": "ipython3",
   "version": "3.5.3"
  }
 },
 "nbformat": 4,
 "nbformat_minor": 4
}
