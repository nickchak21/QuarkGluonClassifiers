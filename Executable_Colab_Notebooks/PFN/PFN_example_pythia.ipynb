{
  "nbformat": 4,
  "nbformat_minor": 0,
  "metadata": {
    "colab": {
      "name": "PFN_example_pythia.ipynb",
      "provenance": [],
      "include_colab_link": true
    },
    "kernelspec": {
      "name": "python3",
      "display_name": "Python 3"
    },
    "accelerator": "GPU"
  },
  "cells": [
    {
      "cell_type": "markdown",
      "metadata": {
        "id": "view-in-github",
        "colab_type": "text"
      },
      "source": [
        "<a href=\"https://colab.research.google.com/github/nickchak21/QuarkGluonClassifiers/blob/master/Executable_Colab_Notebooks/PFN/PFN_example_pythia.ipynb\" target=\"_parent\"><img src=\"https://colab.research.google.com/assets/colab-badge.svg\" alt=\"Open In Colab\"/></a>"
      ]
    },
    {
      "cell_type": "markdown",
      "metadata": {
        "id": "FOmbOpHYKBzE",
        "colab_type": "text"
      },
      "source": [
        "Installing the energyflow and h5py packages in the Colab environment"
      ]
    },
    {
      "cell_type": "code",
      "metadata": {
        "id": "EDQHdFMzRKws",
        "colab_type": "code",
        "outputId": "9ecea6ff-3479-4498-d9e2-133e8823c686",
        "colab": {
          "base_uri": "https://localhost:8080/",
          "height": 136
        }
      },
      "source": [
        "!pip install energyflow\n",
        "!pip install h5py"
      ],
      "execution_count": 1,
      "outputs": [
        {
          "output_type": "stream",
          "text": [
            "Requirement already satisfied: energyflow in /usr/local/lib/python3.6/dist-packages (1.0.2)\n",
            "Requirement already satisfied: h5py>=2.9.0 in /usr/local/lib/python3.6/dist-packages (from energyflow) (2.10.0)\n",
            "Requirement already satisfied: six>=1.10.0 in /usr/local/lib/python3.6/dist-packages (from energyflow) (1.12.0)\n",
            "Requirement already satisfied: numpy>=1.14.0 in /usr/local/lib/python3.6/dist-packages (from energyflow) (1.17.5)\n",
            "Requirement already satisfied: h5py in /usr/local/lib/python3.6/dist-packages (2.10.0)\n",
            "Requirement already satisfied: six in /usr/local/lib/python3.6/dist-packages (from h5py) (1.12.0)\n",
            "Requirement already satisfied: numpy>=1.7 in /usr/local/lib/python3.6/dist-packages (from h5py) (1.17.5)\n"
          ],
          "name": "stdout"
        }
      ]
    },
    {
      "cell_type": "markdown",
      "metadata": {
        "id": "66NkzSTjKJBK",
        "colab_type": "text"
      },
      "source": [
        "Checking the version of Python (should be Python 3.6)"
      ]
    },
    {
      "cell_type": "code",
      "metadata": {
        "id": "jCY1hm8xSJyX",
        "colab_type": "code",
        "outputId": "da9f4cf1-1235-4afa-d076-cfc94a01733c",
        "colab": {
          "base_uri": "https://localhost:8080/",
          "height": 34
        }
      },
      "source": [
        "!python --version"
      ],
      "execution_count": 2,
      "outputs": [
        {
          "output_type": "stream",
          "text": [
            "Python 3.6.9\n"
          ],
          "name": "stdout"
        }
      ]
    },
    {
      "cell_type": "markdown",
      "metadata": {
        "id": "y2vX5j9zKNE-",
        "colab_type": "text"
      },
      "source": [
        "Installing POT (Python Optimal Transform) package"
      ]
    },
    {
      "cell_type": "code",
      "metadata": {
        "id": "1r3rd5lMSYiH",
        "colab_type": "code",
        "outputId": "2b438353-6dfb-4cab-850d-92f70bac4931",
        "colab": {
          "base_uri": "https://localhost:8080/",
          "height": 85
        }
      },
      "source": [
        "!pip install POT"
      ],
      "execution_count": 3,
      "outputs": [
        {
          "output_type": "stream",
          "text": [
            "Requirement already satisfied: POT in /usr/local/lib/python3.6/dist-packages (0.6.0)\n",
            "Requirement already satisfied: scipy in /usr/local/lib/python3.6/dist-packages (from POT) (1.4.1)\n",
            "Requirement already satisfied: cython in /usr/local/lib/python3.6/dist-packages (from POT) (0.29.14)\n",
            "Requirement already satisfied: numpy in /usr/local/lib/python3.6/dist-packages (from POT) (1.17.5)\n"
          ],
          "name": "stdout"
        }
      ]
    },
    {
      "cell_type": "markdown",
      "metadata": {
        "id": "mRsFP6AnKS_E",
        "colab_type": "text"
      },
      "source": [
        "The following code runs a quark gluon classifier using a PFN (Particle Flow Network) architecture. The input jets are Pythia-generated. The AUC tops out at around 0.90. This model can be trained/validated/tested on more data (up to 900,000 jets in Colab), but we use 220,000 jets total so we can compare it directly to the CNN. Here, we use 165,000 jets to train, 22,000 jets to validate, and and 33,000 jets to test."
      ]
    },
    {
      "cell_type": "code",
      "metadata": {
        "id": "2spgYY-azxMn",
        "colab_type": "code",
        "outputId": "7265efa2-8fed-4460-9243-eb589e310fcf",
        "colab": {
          "base_uri": "https://localhost:8080/",
          "height": 1000
        }
      },
      "source": [
        "\"\"\"An example involving Particle Flow Networks (PFNs), which were \n",
        "introduced in [1810.05165](https://arxiv.org/abs/1810.05165). The \n",
        "[`PFN`](../docs/archs/#pfn) class is used to construct the \n",
        "network architecture. The output of the example is a plot of the \n",
        "ROC curves obtained by the PFN as well as the jet mass and \n",
        "constituent multiplicity observables.\n",
        "\"\"\"\n",
        "\n",
        "# standard library imports\n",
        "from __future__ import absolute_import, division, print_function\n",
        "\n",
        "# standard numerical library imports\n",
        "import numpy as np\n",
        "\n",
        "# energyflow imports\n",
        "import energyflow as ef\n",
        "from energyflow.archs import PFN\n",
        "from energyflow.datasets import qg_jets\n",
        "from energyflow.utils import data_split, remap_pids, to_categorical\n",
        "\n",
        "# attempt to import sklearn\n",
        "try:\n",
        "    from sklearn.metrics import roc_auc_score, roc_curve\n",
        "except:\n",
        "    print('please install scikit-learn in order to make ROC curves')\n",
        "    roc_curve = False\n",
        "\n",
        "# attempt to import matplotlib\n",
        "try:\n",
        "    import matplotlib.pyplot as plt\n",
        "except:\n",
        "    print('please install matploltib in order to make plots')\n",
        "    plt = False\n",
        "\n",
        "################################### SETTINGS ###################################\n",
        "# the commented values correspond to those in 1810.05165\n",
        "###############################################################################\n",
        "\n",
        "# data controls, can go up to 2000000 for full dataset\n",
        "train, val, test = 165000, 22000, 33000\n",
        "# train, val, test = 1000000, 200000, 200000\n",
        "use_pids = True\n",
        "\n",
        "# network architecture parameters\n",
        "Phi_sizes, F_sizes = (100, 100, 128), (100, 100, 100)\n",
        "# Phi_sizes, F_sizes = (100, 100, 256), (100, 100, 100)\n",
        "\n",
        "# network training parameters\n",
        "num_epoch = 20\n",
        "batch_size = 500\n",
        "\n",
        "################################################################################\n",
        "\n",
        "# load data\n",
        "X, y = qg_jets.load(train + val + test)\n",
        "\n",
        "# convert labels to categorical\n",
        "Y = to_categorical(y, num_classes=2)\n",
        "\n",
        "print('Loaded quark and gluon jets')\n",
        "\n",
        "# preprocess by centering jets and normalizing pts\n",
        "for x in X:\n",
        "    mask = x[:,0] > 0\n",
        "    yphi_avg = np.average(x[mask,1:3], weights=x[mask,0], axis=0)\n",
        "    x[mask,1:3] -= yphi_avg\n",
        "    x[mask,0] /= x[:,0].sum()\n",
        "\n",
        "# handle particle id channel\n",
        "if use_pids:\n",
        "    remap_pids(X, pid_i=3)\n",
        "else:\n",
        "    X = X[:,:,:3]\n",
        "\n",
        "print('Finished preprocessing')\n",
        "\n",
        "# do train/val/test split \n",
        "(X_train, X_val, X_test,\n",
        " Y_train, Y_val, Y_test) = data_split(X, Y, val=val, test=test)\n",
        "\n",
        "print('Done train/val/test split')\n",
        "print('Model summary:')\n",
        "\n",
        "# build architecture\n",
        "pfn = PFN(input_dim=X.shape[-1], Phi_sizes=Phi_sizes, F_sizes=F_sizes)\n",
        "\n",
        "# train model\n",
        "pfn.fit(X_train, Y_train,\n",
        "          epochs=num_epoch,\n",
        "          batch_size=batch_size,\n",
        "          validation_data=(X_val, Y_val),\n",
        "          verbose=1)\n",
        "\n",
        "# get predictions on test data\n",
        "preds = pfn.predict(X_test, batch_size=1000)\n",
        "\n",
        "# get ROC curve if we have sklearn\n",
        "if roc_curve:\n",
        "    pfn_fp, pfn_tp, threshs = roc_curve(Y_test[:,1], preds[:,1])\n",
        "\n",
        "    # get area under the ROC curve\n",
        "    auc = roc_auc_score(Y_test[:,1], preds[:,1])\n",
        "    print()\n",
        "    print('PFN AUC:', auc)\n",
        "    print()\n",
        "\n",
        "    # make ROC curve plot if we have matplotlib\n",
        "    if plt:\n",
        "\n",
        "        # get multiplicity and mass for comparison\n",
        "        masses = np.asarray([ef.ms_from_p4s(ef.p4s_from_ptyphims(x).sum(axis=0)) for x in X])\n",
        "        mults = np.asarray([np.count_nonzero(x[:,0]) for x in X])\n",
        "        mass_fp, mass_tp, threshs = roc_curve(Y[:,1], -masses)\n",
        "        mult_fp, mult_tp, threshs = roc_curve(Y[:,1], -mults)\n",
        "\n",
        "        # some nicer plot settings \n",
        "        plt.rcParams['figure.figsize'] = (4,4)\n",
        "        plt.rcParams['font.family'] = 'serif'\n",
        "        plt.rcParams['figure.autolayout'] = True\n",
        "\n",
        "        # plot the ROC curves\n",
        "        plt.plot(pfn_tp, 1-pfn_fp, '-', color='black', label='PFN')\n",
        "        plt.plot(mass_tp, 1-mass_fp, '-', color='blue', label='Jet Mass')\n",
        "        plt.plot(mult_tp, 1-mult_fp, '-', color='red', label='Multiplicity')\n",
        "\n",
        "        # axes labels\n",
        "        plt.xlabel('Quark Jet Efficiency')\n",
        "        plt.ylabel('Gluon Jet Rejection')\n",
        "\n",
        "        # axes limits\n",
        "        plt.xlim(0, 1)\n",
        "        plt.ylim(0, 1)\n",
        "\n",
        "        # make legend and show plot\n",
        "        plt.legend(loc='lower left', frameon=False)\n",
        "        plt.show()"
      ],
      "execution_count": 4,
      "outputs": [
        {
          "output_type": "stream",
          "text": [
            "Using TensorFlow backend.\n"
          ],
          "name": "stderr"
        },
        {
          "output_type": "display_data",
          "data": {
            "text/html": [
              "<p style=\"color: red;\">\n",
              "The default version of TensorFlow in Colab will soon switch to TensorFlow 2.x.<br>\n",
              "We recommend you <a href=\"https://www.tensorflow.org/guide/migrate\" target=\"_blank\">upgrade</a> now \n",
              "or ensure your notebook will continue to use TensorFlow 1.x via the <code>%tensorflow_version 1.x</code> magic:\n",
              "<a href=\"https://colab.research.google.com/notebooks/tensorflow_version.ipynb\" target=\"_blank\">more info</a>.</p>\n"
            ],
            "text/plain": [
              "<IPython.core.display.HTML object>"
            ]
          },
          "metadata": {
            "tags": []
          }
        },
        {
          "output_type": "stream",
          "text": [
            "Downloading QG_jets.npz from https://www.dropbox.com/s/fclsl7pukcpobsb/QG_jets.npz?dl=1 to /root/.energyflow/datasets\n",
            "Downloading QG_jets_1.npz from https://www.dropbox.com/s/ztzd1a6lkmgovuy/QG_jets_1.npz?dl=1 to /root/.energyflow/datasets\n",
            "Downloading QG_jets_2.npz from https://www.dropbox.com/s/jzgc9e786tbk1m5/QG_jets_2.npz?dl=1 to /root/.energyflow/datasets\n",
            "Loaded quark and gluon jets\n",
            "Finished preprocessing\n",
            "Done train/val/test split\n",
            "Model summary:\n",
            "WARNING:tensorflow:From /usr/local/lib/python3.6/dist-packages/keras/backend/tensorflow_backend.py:541: The name tf.placeholder is deprecated. Please use tf.compat.v1.placeholder instead.\n",
            "\n",
            "WARNING:tensorflow:From /usr/local/lib/python3.6/dist-packages/keras/backend/tensorflow_backend.py:66: The name tf.get_default_graph is deprecated. Please use tf.compat.v1.get_default_graph instead.\n",
            "\n",
            "WARNING:tensorflow:From /usr/local/lib/python3.6/dist-packages/keras/backend/tensorflow_backend.py:4432: The name tf.random_uniform is deprecated. Please use tf.random.uniform instead.\n",
            "\n",
            "WARNING:tensorflow:From /usr/local/lib/python3.6/dist-packages/keras/optimizers.py:793: The name tf.train.Optimizer is deprecated. Please use tf.compat.v1.train.Optimizer instead.\n",
            "\n",
            "WARNING:tensorflow:From /usr/local/lib/python3.6/dist-packages/keras/backend/tensorflow_backend.py:3576: The name tf.log is deprecated. Please use tf.math.log instead.\n",
            "\n",
            "Model: \"model_1\"\n",
            "__________________________________________________________________________________________________\n",
            "Layer (type)                    Output Shape         Param #     Connected to                     \n",
            "==================================================================================================\n",
            "input (InputLayer)              (None, None, 4)      0                                            \n",
            "__________________________________________________________________________________________________\n",
            "tdist_0 (TimeDistributed)       (None, None, 100)    500         input[0][0]                      \n",
            "__________________________________________________________________________________________________\n",
            "activation_1 (Activation)       (None, None, 100)    0           tdist_0[0][0]                    \n",
            "__________________________________________________________________________________________________\n",
            "tdist_1 (TimeDistributed)       (None, None, 100)    10100       activation_1[0][0]               \n",
            "__________________________________________________________________________________________________\n",
            "activation_2 (Activation)       (None, None, 100)    0           tdist_1[0][0]                    \n",
            "__________________________________________________________________________________________________\n",
            "tdist_2 (TimeDistributed)       (None, None, 128)    12928       activation_2[0][0]               \n",
            "__________________________________________________________________________________________________\n",
            "mask (Lambda)                   (None, None)         0           input[0][0]                      \n",
            "__________________________________________________________________________________________________\n",
            "activation_3 (Activation)       (None, None, 128)    0           tdist_2[0][0]                    \n",
            "__________________________________________________________________________________________________\n",
            "sum (Dot)                       (None, 128)          0           mask[0][0]                       \n",
            "                                                                 activation_3[0][0]               \n",
            "__________________________________________________________________________________________________\n",
            "dense_0 (Dense)                 (None, 100)          12900       sum[0][0]                        \n",
            "__________________________________________________________________________________________________\n",
            "activation_4 (Activation)       (None, 100)          0           dense_0[0][0]                    \n",
            "__________________________________________________________________________________________________\n",
            "dense_1 (Dense)                 (None, 100)          10100       activation_4[0][0]               \n",
            "__________________________________________________________________________________________________\n",
            "activation_5 (Activation)       (None, 100)          0           dense_1[0][0]                    \n",
            "__________________________________________________________________________________________________\n",
            "dense_2 (Dense)                 (None, 100)          10100       activation_5[0][0]               \n",
            "__________________________________________________________________________________________________\n",
            "activation_6 (Activation)       (None, 100)          0           dense_2[0][0]                    \n",
            "__________________________________________________________________________________________________\n",
            "output (Dense)                  (None, 2)            202         activation_6[0][0]               \n",
            "__________________________________________________________________________________________________\n",
            "activation_7 (Activation)       (None, 2)            0           output[0][0]                     \n",
            "==================================================================================================\n",
            "Total params: 56,830\n",
            "Trainable params: 56,830\n",
            "Non-trainable params: 0\n",
            "__________________________________________________________________________________________________\n",
            "WARNING:tensorflow:From /usr/local/lib/python3.6/dist-packages/tensorflow_core/python/ops/math_grad.py:1424: where (from tensorflow.python.ops.array_ops) is deprecated and will be removed in a future version.\n",
            "Instructions for updating:\n",
            "Use tf.where in 2.0, which has the same broadcast rule as np.where\n",
            "WARNING:tensorflow:From /usr/local/lib/python3.6/dist-packages/keras/backend/tensorflow_backend.py:1033: The name tf.assign_add is deprecated. Please use tf.compat.v1.assign_add instead.\n",
            "\n",
            "WARNING:tensorflow:From /usr/local/lib/python3.6/dist-packages/keras/backend/tensorflow_backend.py:1020: The name tf.assign is deprecated. Please use tf.compat.v1.assign instead.\n",
            "\n",
            "WARNING:tensorflow:From /usr/local/lib/python3.6/dist-packages/keras/backend/tensorflow_backend.py:3005: The name tf.Session is deprecated. Please use tf.compat.v1.Session instead.\n",
            "\n",
            "Train on 165000 samples, validate on 22000 samples\n",
            "Epoch 1/20\n",
            "WARNING:tensorflow:From /usr/local/lib/python3.6/dist-packages/keras/backend/tensorflow_backend.py:190: The name tf.get_default_session is deprecated. Please use tf.compat.v1.get_default_session instead.\n",
            "\n",
            "WARNING:tensorflow:From /usr/local/lib/python3.6/dist-packages/keras/backend/tensorflow_backend.py:197: The name tf.ConfigProto is deprecated. Please use tf.compat.v1.ConfigProto instead.\n",
            "\n",
            "WARNING:tensorflow:From /usr/local/lib/python3.6/dist-packages/keras/backend/tensorflow_backend.py:207: The name tf.global_variables is deprecated. Please use tf.compat.v1.global_variables instead.\n",
            "\n",
            "WARNING:tensorflow:From /usr/local/lib/python3.6/dist-packages/keras/backend/tensorflow_backend.py:216: The name tf.is_variable_initialized is deprecated. Please use tf.compat.v1.is_variable_initialized instead.\n",
            "\n",
            "WARNING:tensorflow:From /usr/local/lib/python3.6/dist-packages/keras/backend/tensorflow_backend.py:223: The name tf.variables_initializer is deprecated. Please use tf.compat.v1.variables_initializer instead.\n",
            "\n",
            "165000/165000 [==============================] - 14s 85us/step - loss: 0.5065 - acc: 0.7633 - val_loss: 0.4596 - val_acc: 0.7868\n",
            "Epoch 2/20\n",
            "165000/165000 [==============================] - 4s 24us/step - loss: 0.4541 - acc: 0.7920 - val_loss: 0.4537 - val_acc: 0.7906\n",
            "Epoch 3/20\n",
            "165000/165000 [==============================] - 4s 25us/step - loss: 0.4485 - acc: 0.7954 - val_loss: 0.4471 - val_acc: 0.7943\n",
            "Epoch 4/20\n",
            "165000/165000 [==============================] - 4s 25us/step - loss: 0.4445 - acc: 0.7976 - val_loss: 0.4553 - val_acc: 0.7872\n",
            "Epoch 5/20\n",
            "165000/165000 [==============================] - 4s 25us/step - loss: 0.4403 - acc: 0.8000 - val_loss: 0.4390 - val_acc: 0.7995\n",
            "Epoch 6/20\n",
            "165000/165000 [==============================] - 4s 25us/step - loss: 0.4362 - acc: 0.8025 - val_loss: 0.4396 - val_acc: 0.7976\n",
            "Epoch 7/20\n",
            "165000/165000 [==============================] - 4s 25us/step - loss: 0.4325 - acc: 0.8052 - val_loss: 0.4339 - val_acc: 0.8037\n",
            "Epoch 8/20\n",
            "165000/165000 [==============================] - 4s 25us/step - loss: 0.4316 - acc: 0.8062 - val_loss: 0.4328 - val_acc: 0.8040\n",
            "Epoch 9/20\n",
            "165000/165000 [==============================] - 4s 25us/step - loss: 0.4301 - acc: 0.8062 - val_loss: 0.4358 - val_acc: 0.8052\n",
            "Epoch 10/20\n",
            "165000/165000 [==============================] - 4s 25us/step - loss: 0.4280 - acc: 0.8078 - val_loss: 0.4311 - val_acc: 0.8069\n",
            "Epoch 11/20\n",
            "165000/165000 [==============================] - 4s 25us/step - loss: 0.4267 - acc: 0.8087 - val_loss: 0.4314 - val_acc: 0.8063\n",
            "Epoch 12/20\n",
            "165000/165000 [==============================] - 4s 25us/step - loss: 0.4249 - acc: 0.8097 - val_loss: 0.4332 - val_acc: 0.8032\n",
            "Epoch 13/20\n",
            "165000/165000 [==============================] - 4s 25us/step - loss: 0.4222 - acc: 0.8118 - val_loss: 0.4259 - val_acc: 0.8107\n",
            "Epoch 14/20\n",
            "165000/165000 [==============================] - 4s 25us/step - loss: 0.4210 - acc: 0.8124 - val_loss: 0.4266 - val_acc: 0.8103\n",
            "Epoch 15/20\n",
            "165000/165000 [==============================] - 4s 25us/step - loss: 0.4212 - acc: 0.8122 - val_loss: 0.4277 - val_acc: 0.8091\n",
            "Epoch 16/20\n",
            "165000/165000 [==============================] - 4s 25us/step - loss: 0.4200 - acc: 0.8134 - val_loss: 0.4296 - val_acc: 0.8096\n",
            "Epoch 17/20\n",
            "165000/165000 [==============================] - 4s 25us/step - loss: 0.4191 - acc: 0.8135 - val_loss: 0.4248 - val_acc: 0.8133\n",
            "Epoch 18/20\n",
            "165000/165000 [==============================] - 4s 25us/step - loss: 0.4167 - acc: 0.8149 - val_loss: 0.4243 - val_acc: 0.8092\n",
            "Epoch 19/20\n",
            "165000/165000 [==============================] - 4s 25us/step - loss: 0.4161 - acc: 0.8157 - val_loss: 0.4239 - val_acc: 0.8118\n",
            "Epoch 20/20\n",
            "165000/165000 [==============================] - 4s 25us/step - loss: 0.4158 - acc: 0.8156 - val_loss: 0.4203 - val_acc: 0.8149\n",
            "\n",
            "PFN AUC: 0.8914780736299789\n",
            "\n"
          ],
          "name": "stdout"
        },
        {
          "output_type": "display_data",
          "data": {
            "image/png": "[encoded data removed]",
            "text/plain": [
              "<Figure size 288x288 with 1 Axes>"
            ]
          },
          "metadata": {
            "tags": []
          }
        }
      ]
    }
  ]
}