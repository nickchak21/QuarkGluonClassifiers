{
  "nbformat": 4,
  "nbformat_minor": 0,
  "metadata": {
    "colab": {
      "name": "PFN_example_sim.ipynb",
      "provenance": [],
      "include_colab_link": true
    },
    "kernelspec": {
      "name": "python3",
      "display_name": "Python 3"
    },
    "accelerator": "GPU"
  },
  "cells": [
    {
      "cell_type": "markdown",
      "metadata": {
        "id": "view-in-github",
        "colab_type": "text"
      },
      "source": [
        "<a href=\"https://colab.research.google.com/github/nickchak21/QuarkGluonClassifiers/blob/master/Executable_Colab_Notebooks/PFN/PFN_example_sim.ipynb\" target=\"_parent\"><img src=\"https://colab.research.google.com/assets/colab-badge.svg\" alt=\"Open In Colab\"/></a>"
      ]
    },
    {
      "cell_type": "markdown",
      "metadata": {
        "id": "DRWcir9gQvSw",
        "colab_type": "text"
      },
      "source": [
        "Installing the energyflow and h5py packages in the Colab environment"
      ]
    },
    {
      "cell_type": "code",
      "metadata": {
        "id": "EDQHdFMzRKws",
        "colab_type": "code",
        "outputId": "0580bfa4-70e4-4f5f-c1e9-1417281e970e",
        "colab": {
          "base_uri": "https://localhost:8080/",
          "height": 289
        }
      },
      "source": [
        "!pip install energyflow\n",
        "!pip install h5py"
      ],
      "execution_count": 1,
      "outputs": [
        {
          "output_type": "stream",
          "text": [
            "Collecting energyflow\n",
            "\u001b[?25l  Downloading https://files.pythonhosted.org/packages/ae/45/acf4909dfffb6e5712f14f8ca4f3708fafea36b348854e0a5e38860bfda7/EnergyFlow-1.0.2-py2.py3-none-any.whl (688kB)\n",
            "\u001b[K     |████████████████████████████████| 696kB 2.8MB/s \n",
            "\u001b[?25hRequirement already satisfied: numpy>=1.14.0 in /usr/local/lib/python3.6/dist-packages (from energyflow) (1.17.5)\n",
            "Collecting h5py>=2.9.0\n",
            "\u001b[?25l  Downloading https://files.pythonhosted.org/packages/60/06/cafdd44889200e5438b897388f3075b52a8ef01f28a17366d91de0fa2d05/h5py-2.10.0-cp36-cp36m-manylinux1_x86_64.whl (2.9MB)\n",
            "\u001b[K     |████████████████████████████████| 2.9MB 46.6MB/s \n",
            "\u001b[?25hRequirement already satisfied: six>=1.10.0 in /usr/local/lib/python3.6/dist-packages (from energyflow) (1.12.0)\n",
            "Installing collected packages: h5py, energyflow\n",
            "  Found existing installation: h5py 2.8.0\n",
            "    Uninstalling h5py-2.8.0:\n",
            "      Successfully uninstalled h5py-2.8.0\n",
            "Successfully installed energyflow-1.0.2 h5py-2.10.0\n",
            "Requirement already satisfied: h5py in /usr/local/lib/python3.6/dist-packages (2.10.0)\n",
            "Requirement already satisfied: six in /usr/local/lib/python3.6/dist-packages (from h5py) (1.12.0)\n",
            "Requirement already satisfied: numpy>=1.7 in /usr/local/lib/python3.6/dist-packages (from h5py) (1.17.5)\n"
          ],
          "name": "stdout"
        }
      ]
    },
    {
      "cell_type": "markdown",
      "metadata": {
        "id": "J0wZtFAmQ0cg",
        "colab_type": "text"
      },
      "source": [
        "Checking the version of Python (should be Python 3.6)"
      ]
    },
    {
      "cell_type": "code",
      "metadata": {
        "id": "jCY1hm8xSJyX",
        "colab_type": "code",
        "outputId": "fd7db25b-8a90-4084-b901-9bd52b2a8558",
        "colab": {
          "base_uri": "https://localhost:8080/",
          "height": 34
        }
      },
      "source": [
        "!python --version"
      ],
      "execution_count": 2,
      "outputs": [
        {
          "output_type": "stream",
          "text": [
            "Python 3.6.9\n"
          ],
          "name": "stdout"
        }
      ]
    },
    {
      "cell_type": "markdown",
      "metadata": {
        "id": "ZkXnXmYRQ39U",
        "colab_type": "text"
      },
      "source": [
        "Installing POT (Python Optimal Transform) package"
      ]
    },
    {
      "cell_type": "code",
      "metadata": {
        "id": "1r3rd5lMSYiH",
        "colab_type": "code",
        "outputId": "76270190-a3ed-4b9a-d8f3-0462cfce72e0",
        "colab": {
          "base_uri": "https://localhost:8080/",
          "height": 153
        }
      },
      "source": [
        "!pip install POT"
      ],
      "execution_count": 3,
      "outputs": [
        {
          "output_type": "stream",
          "text": [
            "Collecting POT\n",
            "\u001b[?25l  Downloading https://files.pythonhosted.org/packages/15/36/07d3c0960a590b88b81fa1837e666cc7479b90c7e9fd1063024ce9331122/POT-0.6.0-cp36-cp36m-manylinux1_x86_64.whl (305kB)\n",
            "\r\u001b[K     |█                               | 10kB 19.5MB/s eta 0:00:01\r\u001b[K     |██▏                             | 20kB 1.8MB/s eta 0:00:01\r\u001b[K     |███▏                            | 30kB 2.3MB/s eta 0:00:01\r\u001b[K     |████▎                           | 40kB 1.7MB/s eta 0:00:01\r\u001b[K     |█████▍                          | 51kB 1.9MB/s eta 0:00:01\r\u001b[K     |██████▍                         | 61kB 2.2MB/s eta 0:00:01\r\u001b[K     |███████▌                        | 71kB 2.4MB/s eta 0:00:01\r\u001b[K     |████████▋                       | 81kB 2.6MB/s eta 0:00:01\r\u001b[K     |█████████▋                      | 92kB 2.9MB/s eta 0:00:01\r\u001b[K     |██████████▊                     | 102kB 2.8MB/s eta 0:00:01\r\u001b[K     |███████████▉                    | 112kB 2.8MB/s eta 0:00:01\r\u001b[K     |████████████▉                   | 122kB 2.8MB/s eta 0:00:01\r\u001b[K     |██████████████                  | 133kB 2.8MB/s eta 0:00:01\r\u001b[K     |███████████████                 | 143kB 2.8MB/s eta 0:00:01\r\u001b[K     |████████████████                | 153kB 2.8MB/s eta 0:00:01\r\u001b[K     |█████████████████▏              | 163kB 2.8MB/s eta 0:00:01\r\u001b[K     |██████████████████▎             | 174kB 2.8MB/s eta 0:00:01\r\u001b[K     |███████████████████▎            | 184kB 2.8MB/s eta 0:00:01\r\u001b[K     |████████████████████▍           | 194kB 2.8MB/s eta 0:00:01\r\u001b[K     |█████████████████████▍          | 204kB 2.8MB/s eta 0:00:01\r\u001b[K     |██████████████████████▌         | 215kB 2.8MB/s eta 0:00:01\r\u001b[K     |███████████████████████▋        | 225kB 2.8MB/s eta 0:00:01\r\u001b[K     |████████████████████████▋       | 235kB 2.8MB/s eta 0:00:01\r\u001b[K     |█████████████████████████▊      | 245kB 2.8MB/s eta 0:00:01\r\u001b[K     |██████████████████████████▉     | 256kB 2.8MB/s eta 0:00:01\r\u001b[K     |███████████████████████████▉    | 266kB 2.8MB/s eta 0:00:01\r\u001b[K     |█████████████████████████████   | 276kB 2.8MB/s eta 0:00:01\r\u001b[K     |██████████████████████████████  | 286kB 2.8MB/s eta 0:00:01\r\u001b[K     |███████████████████████████████ | 296kB 2.8MB/s eta 0:00:01\r\u001b[K     |████████████████████████████████| 307kB 2.8MB/s \n",
            "\u001b[?25hRequirement already satisfied: numpy in /usr/local/lib/python3.6/dist-packages (from POT) (1.17.5)\n",
            "Requirement already satisfied: scipy in /usr/local/lib/python3.6/dist-packages (from POT) (1.4.1)\n",
            "Requirement already satisfied: cython in /usr/local/lib/python3.6/dist-packages (from POT) (0.29.14)\n",
            "Installing collected packages: POT\n",
            "Successfully installed POT-0.6.0\n"
          ],
          "name": "stdout"
        }
      ]
    },
    {
      "cell_type": "code",
      "metadata": {
        "id": "el6J6AycStE6",
        "colab_type": "code",
        "colab": {}
      },
      "source": [
        "%tensorflow_version 1.x #specifies that we want to use TensorFlow 1 (the default on Colab is going to switch soon)"
      ],
      "execution_count": 0,
      "outputs": []
    },
    {
      "cell_type": "markdown",
      "metadata": {
        "id": "bxUQE92mRHza",
        "colab_type": "text"
      },
      "source": [
        "The following code runs a quark gluon classifier using a PFN (Particle Flow Network) architecture. The input jets are detector-simulated. The AUC tops out at around 0.80. This model can be trained/validated/tested on more data (up to 900,000 jets in Colab), but we use 220,000 jets total so we can compare it directly to the CNN. Here, we use 165,000 jets to train, 22,000 jets to validate, and and 33,000 jets to test."
      ]
    },
    {
      "cell_type": "code",
      "metadata": {
        "id": "2spgYY-azxMn",
        "colab_type": "code",
        "outputId": "19ba8ad8-b646-4cd4-e293-ae0b9d2e36a6",
        "colab": {
          "base_uri": "https://localhost:8080/",
          "height": 1000
        }
      },
      "source": [
        "\"\"\"An example involving Particle Flow Networks (PFNs), which were \n",
        "introduced in [1810.05165](https://arxiv.org/abs/1810.05165). The \n",
        "[`PFN`](../docs/archs/#pfn) class is used to construct the \n",
        "network architecture. The output of the example is a plot of the \n",
        "ROC curves obtained by the PFN as well as the jet mass and \n",
        "constituent multiplicity observables.\n",
        "\"\"\"\n",
        "\n",
        "# standard library imports\n",
        "from __future__ import absolute_import, division, print_function\n",
        "\n",
        "# standard numerical library imports\n",
        "import numpy as np\n",
        "\n",
        "# energyflow imports\n",
        "import energyflow as ef\n",
        "from energyflow.archs import PFN\n",
        "from energyflow.datasets import qg_jets\n",
        "from energyflow.utils import data_split, remap_pids, to_categorical\n",
        "\n",
        "# attempt to import sklearn\n",
        "try:\n",
        "    from sklearn.metrics import roc_auc_score, roc_curve\n",
        "except:\n",
        "    print('please install scikit-learn in order to make ROC curves')\n",
        "    roc_curve = False\n",
        "\n",
        "# attempt to import matplotlib\n",
        "try:\n",
        "    import matplotlib.pyplot as plt\n",
        "except:\n",
        "    print('please install matplotlib in order to make plots')\n",
        "    plt = False\n",
        "\n",
        "################################### SETTINGS ###################################\n",
        "# the commented values correspond to those in 1810.05165\n",
        "###############################################################################\n",
        "\n",
        "# data controls, can go up to 2000000 for full dataset\n",
        "train, val, test = 165000, 22000, 33000\n",
        "# train, val, test = 1000000, 200000, 200000\n",
        "use_pids = True\n",
        "\n",
        "# network architecture parameters\n",
        "Phi_sizes, F_sizes = (100, 100, 128), (100, 100, 100)\n",
        "# Phi_sizes, F_sizes = (100, 100, 256), (100, 100, 100)\n",
        "\n",
        "# network training parameters\n",
        "num_epoch = 20\n",
        "batch_size = 500\n",
        "\n",
        "################################################################################\n",
        "\n",
        "# load data\n",
        "specs = ['375 <= corr_jet_pts <= 425', 'abs_jet_eta < 1.9', 'quality >= 2']\n",
        "amount = 0.1\n",
        "sim = ef.mod.load(*specs, dataset='sim', amount=amount)\n",
        "\n",
        "array_lengths = []\n",
        "for i in range(len(sim.particles)):\n",
        "    array_lengths.append(len(sim.particles[i]))\n",
        "\n",
        "jet_array = np.zeros((len(sim.particles),160,6))\n",
        "for i in range(len(sim.particles)):\n",
        "    for j in range(160):\n",
        "        for k in range(6):\n",
        "            try:\n",
        "                jet_array[i,j,k] = sim.particles[i][j][k]\n",
        "            except IndexError:\n",
        "                jet_array[i,j,k] = 0\n",
        "\n",
        "labels = []\n",
        "for i in range(len(sim.hard_pids)):\n",
        "    if sim.hard_pids[i] == 21:\n",
        "        labels.append(0)\n",
        "    else:\n",
        "        labels.append(1)\n",
        "label_array = np.asarray(labels)\n",
        "\n",
        "X = jet_array[:220000,:,:4]\n",
        "y = label_array[:220000]\n",
        "\n",
        "# convert labels to categorical\n",
        "Y = to_categorical(y, num_classes=2)\n",
        "\n",
        "print('Loaded quark and gluon jets')\n",
        "\n",
        "# preprocess by centering jets and normalizing pts\n",
        "for x in X:\n",
        "    mask = x[:,0] > 0\n",
        "    yphi_avg = np.average(x[mask,1:3], weights=x[mask,0], axis=0)\n",
        "    x[mask,1:3] -= yphi_avg\n",
        "    x[mask,0] /= x[:,0].sum()\n",
        "\n",
        "# handle particle id channel\n",
        "if use_pids:\n",
        "    remap_pids(X, pid_i=3)\n",
        "else:\n",
        "    X = X[:,:,:3]\n",
        "\n",
        "print('Finished preprocessing')\n",
        "\n",
        "# do train/val/test split \n",
        "(X_train, X_val, X_test,\n",
        " Y_train, Y_val, Y_test) = data_split(X, Y, val=val, test=test)\n",
        "\n",
        "print('Done train/val/test split')\n",
        "print('Model summary:')\n",
        "\n",
        "# build architecture\n",
        "pfn = PFN(input_dim=X.shape[-1], Phi_sizes=Phi_sizes, F_sizes=F_sizes)\n",
        "\n",
        "# train model\n",
        "pfn.fit(X_train, Y_train,\n",
        "          epochs=num_epoch,\n",
        "          batch_size=batch_size,\n",
        "          validation_data=(X_val, Y_val),\n",
        "          verbose=1)\n",
        "\n",
        "# get predictions on test data\n",
        "preds = pfn.predict(X_test, batch_size=1000)\n",
        "\n",
        "# get ROC curve if we have sklearn\n",
        "if roc_curve:\n",
        "    pfn_fp, pfn_tp, threshs = roc_curve(Y_test[:,1], preds[:,1])\n",
        "\n",
        "    # get area under the ROC curve\n",
        "    auc = roc_auc_score(Y_test[:,1], preds[:,1])\n",
        "    print()\n",
        "    print('PFN AUC:', auc)\n",
        "    print()\n",
        "\n",
        "    # make ROC curve plot if we have matplotlib\n",
        "    if plt:\n",
        "\n",
        "        # get multiplicity and mass for comparison\n",
        "        masses = np.asarray([ef.ms_from_p4s(ef.p4s_from_ptyphims(x).sum(axis=0)) for x in X])\n",
        "        mults = np.asarray([np.count_nonzero(x[:,0]) for x in X])\n",
        "        mass_fp, mass_tp, threshs = roc_curve(Y[:,1], -masses)\n",
        "        mult_fp, mult_tp, threshs = roc_curve(Y[:,1], -mults)\n",
        "\n",
        "        # some nicer plot settings \n",
        "        plt.rcParams['figure.figsize'] = (4,4)\n",
        "        plt.rcParams['font.family'] = 'serif'\n",
        "        plt.rcParams['figure.autolayout'] = True\n",
        "\n",
        "        # plot the ROC curves\n",
        "        plt.plot(pfn_tp, 1-pfn_fp, '-', color='black', label='PFN')\n",
        "        plt.plot(mass_tp, 1-mass_fp, '-', color='blue', label='Jet Mass')\n",
        "        plt.plot(mult_tp, 1-mult_fp, '-', color='red', label='Multiplicity')\n",
        "\n",
        "        # axes labels\n",
        "        plt.xlabel('Quark Jet Efficiency')\n",
        "        plt.ylabel('Gluon Jet Rejection')\n",
        "\n",
        "        # axes limits\n",
        "        plt.xlim(0, 1)\n",
        "        plt.ylim(0, 1)\n",
        "\n",
        "        # make legend and show plot\n",
        "        plt.legend(loc='lower left', frameon=False)\n",
        "        plt.show()"
      ],
      "execution_count": 4,
      "outputs": [
        {
          "output_type": "stream",
          "text": [
            "Using TensorFlow backend.\n"
          ],
          "name": "stderr"
        },
        {
          "output_type": "display_data",
          "data": {
            "text/html": [
              "<p style=\"color: red;\">\n",
              "The default version of TensorFlow in Colab will soon switch to TensorFlow 2.x.<br>\n",
              "We recommend you <a href=\"https://www.tensorflow.org/guide/migrate\" target=\"_blank\">upgrade</a> now \n",
              "or ensure your notebook will continue to use TensorFlow 1.x via the <code>%tensorflow_version 1.x</code> magic:\n",
              "<a href=\"https://colab.research.google.com/notebooks/tensorflow_version.ipynb\" target=\"_blank\">more info</a>.</p>\n"
            ],
            "text/plain": [
              "<IPython.core.display.HTML object>"
            ]
          },
          "metadata": {
            "tags": []
          }
        },
        {
          "output_type": "stream",
          "text": [
            "Downloading SIM170_Jet300_pT375-infGeV_0_compressed.h5 from https://zenodo.org/record/3341500/files/SIM170_Jet300_pT375-infGeV_0_compressed.h5?download=1 to /root/.energyflow/datasets/CMS2011AJets/SIM170_Jet300_pT375-infGeV\n",
            "Downloading SIM300_Jet300_pT375-infGeV_0_compressed.h5 from https://zenodo.org/record/3341498/files/SIM300_Jet300_pT375-infGeV_0_compressed.h5?download=1 to /root/.energyflow/datasets/CMS2011AJets/SIM300_Jet300_pT375-infGeV\n",
            "Downloading SIM300_Jet300_pT375-infGeV_1_compressed.h5 from https://zenodo.org/record/3341498/files/SIM300_Jet300_pT375-infGeV_1_compressed.h5?download=1 to /root/.energyflow/datasets/CMS2011AJets/SIM300_Jet300_pT375-infGeV\n",
            "Downloading SIM300_Jet300_pT375-infGeV_2_compressed.h5 from https://zenodo.org/record/3341498/files/SIM300_Jet300_pT375-infGeV_2_compressed.h5?download=1 to /root/.energyflow/datasets/CMS2011AJets/SIM300_Jet300_pT375-infGeV\n",
            "Downloading SIM470_Jet300_pT375-infGeV_0_compressed.h5 from https://zenodo.org/record/3341419/files/SIM470_Jet300_pT375-infGeV_0_compressed.h5?download=1 to /root/.energyflow/datasets/CMS2011AJets/SIM470_Jet300_pT375-infGeV\n",
            "Downloading SIM470_Jet300_pT375-infGeV_1_compressed.h5 from https://zenodo.org/record/3341419/files/SIM470_Jet300_pT375-infGeV_1_compressed.h5?download=1 to /root/.energyflow/datasets/CMS2011AJets/SIM470_Jet300_pT375-infGeV\n",
            "Downloading SIM470_Jet300_pT375-infGeV_2_compressed.h5 from https://zenodo.org/record/3341419/files/SIM470_Jet300_pT375-infGeV_2_compressed.h5?download=1 to /root/.energyflow/datasets/CMS2011AJets/SIM470_Jet300_pT375-infGeV\n",
            "Downloading SIM470_Jet300_pT375-infGeV_3_compressed.h5 from https://zenodo.org/record/3341419/files/SIM470_Jet300_pT375-infGeV_3_compressed.h5?download=1 to /root/.energyflow/datasets/CMS2011AJets/SIM470_Jet300_pT375-infGeV\n",
            "Downloading SIM470_Jet300_pT375-infGeV_4_compressed.h5 from https://zenodo.org/record/3341419/files/SIM470_Jet300_pT375-infGeV_4_compressed.h5?download=1 to /root/.energyflow/datasets/CMS2011AJets/SIM470_Jet300_pT375-infGeV\n",
            "Downloading SIM470_Jet300_pT375-infGeV_5_compressed.h5 from https://zenodo.org/record/3341419/files/SIM470_Jet300_pT375-infGeV_5_compressed.h5?download=1 to /root/.energyflow/datasets/CMS2011AJets/SIM470_Jet300_pT375-infGeV\n",
            "Downloading SIM470_Jet300_pT375-infGeV_6_compressed.h5 from https://zenodo.org/record/3341419/files/SIM470_Jet300_pT375-infGeV_6_compressed.h5?download=1 to /root/.energyflow/datasets/CMS2011AJets/SIM470_Jet300_pT375-infGeV\n",
            "Downloading SIM470_Jet300_pT375-infGeV_7_compressed.h5 from https://zenodo.org/record/3341419/files/SIM470_Jet300_pT375-infGeV_7_compressed.h5?download=1 to /root/.energyflow/datasets/CMS2011AJets/SIM470_Jet300_pT375-infGeV\n",
            "Downloading SIM600_Jet300_pT375-infGeV_0_compressed.h5 from https://zenodo.org/record/3364139/files/SIM600_Jet300_pT375-infGeV_0_compressed.h5?download=1 to /root/.energyflow/datasets/CMS2011AJets/SIM600_Jet300_pT375-infGeV\n",
            "Downloading SIM600_Jet300_pT375-infGeV_1_compressed.h5 from https://zenodo.org/record/3364139/files/SIM600_Jet300_pT375-infGeV_1_compressed.h5?download=1 to /root/.energyflow/datasets/CMS2011AJets/SIM600_Jet300_pT375-infGeV\n",
            "Downloading SIM600_Jet300_pT375-infGeV_2_compressed.h5 from https://zenodo.org/record/3364139/files/SIM600_Jet300_pT375-infGeV_2_compressed.h5?download=1 to /root/.energyflow/datasets/CMS2011AJets/SIM600_Jet300_pT375-infGeV\n",
            "Downloading SIM600_Jet300_pT375-infGeV_3_compressed.h5 from https://zenodo.org/record/3364139/files/SIM600_Jet300_pT375-infGeV_3_compressed.h5?download=1 to /root/.energyflow/datasets/CMS2011AJets/SIM600_Jet300_pT375-infGeV\n",
            "Downloading SIM600_Jet300_pT375-infGeV_4_compressed.h5 from https://zenodo.org/record/3364139/files/SIM600_Jet300_pT375-infGeV_4_compressed.h5?download=1 to /root/.energyflow/datasets/CMS2011AJets/SIM600_Jet300_pT375-infGeV\n",
            "Downloading SIM600_Jet300_pT375-infGeV_5_compressed.h5 from https://zenodo.org/record/3364139/files/SIM600_Jet300_pT375-infGeV_5_compressed.h5?download=1 to /root/.energyflow/datasets/CMS2011AJets/SIM600_Jet300_pT375-infGeV\n",
            "Downloading SIM600_Jet300_pT375-infGeV_6_compressed.h5 from https://zenodo.org/record/3364139/files/SIM600_Jet300_pT375-infGeV_6_compressed.h5?download=1 to /root/.energyflow/datasets/CMS2011AJets/SIM600_Jet300_pT375-infGeV\n",
            "Downloading SIM600_Jet300_pT375-infGeV_7_compressed.h5 from https://zenodo.org/record/3364139/files/SIM600_Jet300_pT375-infGeV_7_compressed.h5?download=1 to /root/.energyflow/datasets/CMS2011AJets/SIM600_Jet300_pT375-infGeV\n",
            "Downloading SIM800_Jet300_pT375-infGeV_0_compressed.h5 from https://zenodo.org/record/3341413/files/SIM800_Jet300_pT375-infGeV_0_compressed.h5?download=1 to /root/.energyflow/datasets/CMS2011AJets/SIM800_Jet300_pT375-infGeV\n",
            "Downloading SIM800_Jet300_pT375-infGeV_1_compressed.h5 from https://zenodo.org/record/3341413/files/SIM800_Jet300_pT375-infGeV_1_compressed.h5?download=1 to /root/.energyflow/datasets/CMS2011AJets/SIM800_Jet300_pT375-infGeV\n",
            "Downloading SIM800_Jet300_pT375-infGeV_2_compressed.h5 from https://zenodo.org/record/3341413/files/SIM800_Jet300_pT375-infGeV_2_compressed.h5?download=1 to /root/.energyflow/datasets/CMS2011AJets/SIM800_Jet300_pT375-infGeV\n",
            "Downloading SIM800_Jet300_pT375-infGeV_3_compressed.h5 from https://zenodo.org/record/3341413/files/SIM800_Jet300_pT375-infGeV_3_compressed.h5?download=1 to /root/.energyflow/datasets/CMS2011AJets/SIM800_Jet300_pT375-infGeV\n",
            "Downloading SIM800_Jet300_pT375-infGeV_4_compressed.h5 from https://zenodo.org/record/3341413/files/SIM800_Jet300_pT375-infGeV_4_compressed.h5?download=1 to /root/.energyflow/datasets/CMS2011AJets/SIM800_Jet300_pT375-infGeV\n",
            "Downloading SIM800_Jet300_pT375-infGeV_5_compressed.h5 from https://zenodo.org/record/3341413/files/SIM800_Jet300_pT375-infGeV_5_compressed.h5?download=1 to /root/.energyflow/datasets/CMS2011AJets/SIM800_Jet300_pT375-infGeV\n",
            "Downloading SIM800_Jet300_pT375-infGeV_6_compressed.h5 from https://zenodo.org/record/3341413/files/SIM800_Jet300_pT375-infGeV_6_compressed.h5?download=1 to /root/.energyflow/datasets/CMS2011AJets/SIM800_Jet300_pT375-infGeV\n",
            "Downloading SIM800_Jet300_pT375-infGeV_7_compressed.h5 from https://zenodo.org/record/3341413/files/SIM800_Jet300_pT375-infGeV_7_compressed.h5?download=1 to /root/.energyflow/datasets/CMS2011AJets/SIM800_Jet300_pT375-infGeV\n",
            "Downloading SIM1000_Jet300_pT375-infGeV_0_compressed.h5 from https://zenodo.org/record/3341502/files/SIM1000_Jet300_pT375-infGeV_0_compressed.h5?download=1 to /root/.energyflow/datasets/CMS2011AJets/SIM1000_Jet300_pT375-infGeV\n",
            "Downloading SIM1000_Jet300_pT375-infGeV_1_compressed.h5 from https://zenodo.org/record/3341502/files/SIM1000_Jet300_pT375-infGeV_1_compressed.h5?download=1 to /root/.energyflow/datasets/CMS2011AJets/SIM1000_Jet300_pT375-infGeV\n",
            "Downloading SIM1000_Jet300_pT375-infGeV_2_compressed.h5 from https://zenodo.org/record/3341502/files/SIM1000_Jet300_pT375-infGeV_2_compressed.h5?download=1 to /root/.energyflow/datasets/CMS2011AJets/SIM1000_Jet300_pT375-infGeV\n",
            "Downloading SIM1000_Jet300_pT375-infGeV_3_compressed.h5 from https://zenodo.org/record/3341502/files/SIM1000_Jet300_pT375-infGeV_3_compressed.h5?download=1 to /root/.energyflow/datasets/CMS2011AJets/SIM1000_Jet300_pT375-infGeV\n",
            "Downloading SIM1400_Jet300_pT375-infGeV_0_compressed.h5 from https://zenodo.org/record/3341770/files/SIM1400_Jet300_pT375-infGeV_0_compressed.h5?download=1 to /root/.energyflow/datasets/CMS2011AJets/SIM1400_Jet300_pT375-infGeV\n",
            "Downloading SIM1400_Jet300_pT375-infGeV_1_compressed.h5 from https://zenodo.org/record/3341770/files/SIM1400_Jet300_pT375-infGeV_1_compressed.h5?download=1 to /root/.energyflow/datasets/CMS2011AJets/SIM1400_Jet300_pT375-infGeV\n",
            "Downloading SIM1400_Jet300_pT375-infGeV_2_compressed.h5 from https://zenodo.org/record/3341770/files/SIM1400_Jet300_pT375-infGeV_2_compressed.h5?download=1 to /root/.energyflow/datasets/CMS2011AJets/SIM1400_Jet300_pT375-infGeV\n",
            "Downloading SIM1400_Jet300_pT375-infGeV_3_compressed.h5 from https://zenodo.org/record/3341770/files/SIM1400_Jet300_pT375-infGeV_3_compressed.h5?download=1 to /root/.energyflow/datasets/CMS2011AJets/SIM1400_Jet300_pT375-infGeV\n",
            "Downloading SIM1800_Jet300_pT375-infGeV_0_compressed.h5 from https://zenodo.org/record/3341772/files/SIM1800_Jet300_pT375-infGeV_0_compressed.h5?download=1 to /root/.energyflow/datasets/CMS2011AJets/SIM1800_Jet300_pT375-infGeV\n",
            "Downloading SIM1800_Jet300_pT375-infGeV_1_compressed.h5 from https://zenodo.org/record/3341772/files/SIM1800_Jet300_pT375-infGeV_1_compressed.h5?download=1 to /root/.energyflow/datasets/CMS2011AJets/SIM1800_Jet300_pT375-infGeV\n",
            "Loaded quark and gluon jets\n",
            "Finished preprocessing\n",
            "Done train/val/test split\n",
            "Model summary:\n",
            "WARNING:tensorflow:From /usr/local/lib/python3.6/dist-packages/keras/backend/tensorflow_backend.py:541: The name tf.placeholder is deprecated. Please use tf.compat.v1.placeholder instead.\n",
            "\n",
            "WARNING:tensorflow:From /usr/local/lib/python3.6/dist-packages/keras/backend/tensorflow_backend.py:66: The name tf.get_default_graph is deprecated. Please use tf.compat.v1.get_default_graph instead.\n",
            "\n",
            "WARNING:tensorflow:From /usr/local/lib/python3.6/dist-packages/keras/backend/tensorflow_backend.py:4432: The name tf.random_uniform is deprecated. Please use tf.random.uniform instead.\n",
            "\n",
            "WARNING:tensorflow:From /usr/local/lib/python3.6/dist-packages/keras/optimizers.py:793: The name tf.train.Optimizer is deprecated. Please use tf.compat.v1.train.Optimizer instead.\n",
            "\n",
            "WARNING:tensorflow:From /usr/local/lib/python3.6/dist-packages/keras/backend/tensorflow_backend.py:3576: The name tf.log is deprecated. Please use tf.math.log instead.\n",
            "\n",
            "Model: \"model_1\"\n",
            "__________________________________________________________________________________________________\n",
            "Layer (type)                    Output Shape         Param #     Connected to                     \n",
            "==================================================================================================\n",
            "input (InputLayer)              (None, None, 4)      0                                            \n",
            "__________________________________________________________________________________________________\n",
            "tdist_0 (TimeDistributed)       (None, None, 100)    500         input[0][0]                      \n",
            "__________________________________________________________________________________________________\n",
            "activation_1 (Activation)       (None, None, 100)    0           tdist_0[0][0]                    \n",
            "__________________________________________________________________________________________________\n",
            "tdist_1 (TimeDistributed)       (None, None, 100)    10100       activation_1[0][0]               \n",
            "__________________________________________________________________________________________________\n",
            "activation_2 (Activation)       (None, None, 100)    0           tdist_1[0][0]                    \n",
            "__________________________________________________________________________________________________\n",
            "tdist_2 (TimeDistributed)       (None, None, 128)    12928       activation_2[0][0]               \n",
            "__________________________________________________________________________________________________\n",
            "mask (Lambda)                   (None, None)         0           input[0][0]                      \n",
            "__________________________________________________________________________________________________\n",
            "activation_3 (Activation)       (None, None, 128)    0           tdist_2[0][0]                    \n",
            "__________________________________________________________________________________________________\n",
            "sum (Dot)                       (None, 128)          0           mask[0][0]                       \n",
            "                                                                 activation_3[0][0]               \n",
            "__________________________________________________________________________________________________\n",
            "dense_0 (Dense)                 (None, 100)          12900       sum[0][0]                        \n",
            "__________________________________________________________________________________________________\n",
            "activation_4 (Activation)       (None, 100)          0           dense_0[0][0]                    \n",
            "__________________________________________________________________________________________________\n",
            "dense_1 (Dense)                 (None, 100)          10100       activation_4[0][0]               \n",
            "__________________________________________________________________________________________________\n",
            "activation_5 (Activation)       (None, 100)          0           dense_1[0][0]                    \n",
            "__________________________________________________________________________________________________\n",
            "dense_2 (Dense)                 (None, 100)          10100       activation_5[0][0]               \n",
            "__________________________________________________________________________________________________\n",
            "activation_6 (Activation)       (None, 100)          0           dense_2[0][0]                    \n",
            "__________________________________________________________________________________________________\n",
            "output (Dense)                  (None, 2)            202         activation_6[0][0]               \n",
            "__________________________________________________________________________________________________\n",
            "activation_7 (Activation)       (None, 2)            0           output[0][0]                     \n",
            "==================================================================================================\n",
            "Total params: 56,830\n",
            "Trainable params: 56,830\n",
            "Non-trainable params: 0\n",
            "__________________________________________________________________________________________________\n",
            "WARNING:tensorflow:From /usr/local/lib/python3.6/dist-packages/tensorflow_core/python/ops/math_grad.py:1424: where (from tensorflow.python.ops.array_ops) is deprecated and will be removed in a future version.\n",
            "Instructions for updating:\n",
            "Use tf.where in 2.0, which has the same broadcast rule as np.where\n",
            "WARNING:tensorflow:From /usr/local/lib/python3.6/dist-packages/keras/backend/tensorflow_backend.py:1033: The name tf.assign_add is deprecated. Please use tf.compat.v1.assign_add instead.\n",
            "\n",
            "WARNING:tensorflow:From /usr/local/lib/python3.6/dist-packages/keras/backend/tensorflow_backend.py:1020: The name tf.assign is deprecated. Please use tf.compat.v1.assign instead.\n",
            "\n",
            "WARNING:tensorflow:From /usr/local/lib/python3.6/dist-packages/keras/backend/tensorflow_backend.py:3005: The name tf.Session is deprecated. Please use tf.compat.v1.Session instead.\n",
            "\n",
            "Train on 165000 samples, validate on 22000 samples\n",
            "Epoch 1/20\n",
            "WARNING:tensorflow:From /usr/local/lib/python3.6/dist-packages/keras/backend/tensorflow_backend.py:190: The name tf.get_default_session is deprecated. Please use tf.compat.v1.get_default_session instead.\n",
            "\n",
            "WARNING:tensorflow:From /usr/local/lib/python3.6/dist-packages/keras/backend/tensorflow_backend.py:197: The name tf.ConfigProto is deprecated. Please use tf.compat.v1.ConfigProto instead.\n",
            "\n",
            "WARNING:tensorflow:From /usr/local/lib/python3.6/dist-packages/keras/backend/tensorflow_backend.py:207: The name tf.global_variables is deprecated. Please use tf.compat.v1.global_variables instead.\n",
            "\n",
            "WARNING:tensorflow:From /usr/local/lib/python3.6/dist-packages/keras/backend/tensorflow_backend.py:216: The name tf.is_variable_initialized is deprecated. Please use tf.compat.v1.is_variable_initialized instead.\n",
            "\n",
            "WARNING:tensorflow:From /usr/local/lib/python3.6/dist-packages/keras/backend/tensorflow_backend.py:223: The name tf.variables_initializer is deprecated. Please use tf.compat.v1.variables_initializer instead.\n",
            "\n",
            "165000/165000 [==============================] - 14s 87us/step - loss: 0.6228 - acc: 0.6730 - val_loss: 0.5587 - val_acc: 0.7055\n",
            "Epoch 2/20\n",
            "165000/165000 [==============================] - 4s 26us/step - loss: 0.5618 - acc: 0.7046 - val_loss: 0.5547 - val_acc: 0.7092\n",
            "Epoch 3/20\n",
            "165000/165000 [==============================] - 4s 26us/step - loss: 0.5580 - acc: 0.7083 - val_loss: 0.5549 - val_acc: 0.7079\n",
            "Epoch 4/20\n",
            "165000/165000 [==============================] - 4s 27us/step - loss: 0.5561 - acc: 0.7105 - val_loss: 0.5535 - val_acc: 0.7104\n",
            "Epoch 5/20\n",
            "165000/165000 [==============================] - 4s 26us/step - loss: 0.5551 - acc: 0.7117 - val_loss: 0.5581 - val_acc: 0.7060\n",
            "Epoch 6/20\n",
            "165000/165000 [==============================] - 4s 26us/step - loss: 0.5535 - acc: 0.7127 - val_loss: 0.5517 - val_acc: 0.7123\n",
            "Epoch 7/20\n",
            "165000/165000 [==============================] - 4s 27us/step - loss: 0.5519 - acc: 0.7142 - val_loss: 0.5577 - val_acc: 0.7050\n",
            "Epoch 8/20\n",
            "165000/165000 [==============================] - 4s 26us/step - loss: 0.5512 - acc: 0.7148 - val_loss: 0.5535 - val_acc: 0.7111\n",
            "Epoch 9/20\n",
            "165000/165000 [==============================] - 4s 26us/step - loss: 0.5507 - acc: 0.7154 - val_loss: 0.5508 - val_acc: 0.7132\n",
            "Epoch 10/20\n",
            "165000/165000 [==============================] - 4s 26us/step - loss: 0.5494 - acc: 0.7164 - val_loss: 0.5480 - val_acc: 0.7141\n",
            "Epoch 11/20\n",
            "165000/165000 [==============================] - 4s 26us/step - loss: 0.5482 - acc: 0.7174 - val_loss: 0.5478 - val_acc: 0.7147\n",
            "Epoch 12/20\n",
            "165000/165000 [==============================] - 4s 26us/step - loss: 0.5485 - acc: 0.7175 - val_loss: 0.5490 - val_acc: 0.7154\n",
            "Epoch 13/20\n",
            "165000/165000 [==============================] - 4s 26us/step - loss: 0.5464 - acc: 0.7183 - val_loss: 0.5523 - val_acc: 0.7116\n",
            "Epoch 14/20\n",
            "165000/165000 [==============================] - 4s 26us/step - loss: 0.5467 - acc: 0.7186 - val_loss: 0.5444 - val_acc: 0.7183\n",
            "Epoch 15/20\n",
            "165000/165000 [==============================] - 4s 27us/step - loss: 0.5454 - acc: 0.7189 - val_loss: 0.5485 - val_acc: 0.7148\n",
            "Epoch 16/20\n",
            "165000/165000 [==============================] - 4s 26us/step - loss: 0.5450 - acc: 0.7201 - val_loss: 0.5446 - val_acc: 0.7207\n",
            "Epoch 17/20\n",
            "165000/165000 [==============================] - 4s 26us/step - loss: 0.5440 - acc: 0.7208 - val_loss: 0.5443 - val_acc: 0.7197\n",
            "Epoch 18/20\n",
            "165000/165000 [==============================] - 4s 27us/step - loss: 0.5433 - acc: 0.7211 - val_loss: 0.5425 - val_acc: 0.7220\n",
            "Epoch 19/20\n",
            "165000/165000 [==============================] - 4s 26us/step - loss: 0.5427 - acc: 0.7221 - val_loss: 0.5454 - val_acc: 0.7218\n",
            "Epoch 20/20\n",
            "165000/165000 [==============================] - 4s 26us/step - loss: 0.5420 - acc: 0.7219 - val_loss: 0.5414 - val_acc: 0.7227\n",
            "\n",
            "PFN AUC: 0.7948461660698591\n",
            "\n"
          ],
          "name": "stdout"
        },
        {
          "output_type": "display_data",
          "data": {
            "image/png": "[encoded data removed]",
            "text/plain": [
              "<Figure size 288x288 with 1 Axes>"
            ]
          },
          "metadata": {
            "tags": []
          }
        }
      ]
    }
  ]
}