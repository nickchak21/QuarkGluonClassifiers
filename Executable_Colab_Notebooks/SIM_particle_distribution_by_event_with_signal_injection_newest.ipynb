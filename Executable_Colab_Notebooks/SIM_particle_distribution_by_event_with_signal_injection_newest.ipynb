{
 "cells": [
  {
   "cell_type": "markdown",
   "metadata": {
    "colab_type": "text",
    "id": "DRWcir9gQvSw"
   },
   "source": [
    "Installing the energyflow and h5py packages in the Colab environment"
   ]
  },
  {
   "cell_type": "code",
   "execution_count": 1,
   "metadata": {
    "colab": {
     "base_uri": "https://localhost:8080/",
     "height": 289
    },
    "colab_type": "code",
    "id": "EDQHdFMzRKws",
    "outputId": "0c771fee-0d40-4982-c155-b792cbc3c52a"
   },
   "outputs": [
    {
     "name": "stdout",
     "output_type": "stream",
     "text": [
      "Defaulting to user installation because normal site-packages is not writeable\n",
      "Requirement already satisfied: energyflow in ./.local/lib/python3.5/site-packages (1.0.2)\n",
      "Requirement already satisfied: six>=1.10.0 in /usr/local/lib/python3.5/dist-packages (from energyflow) (1.14.0)\n",
      "Requirement already satisfied: numpy>=1.14.0 in /usr/local/lib/python3.5/dist-packages (from energyflow) (1.18.1)\n",
      "Requirement already satisfied: h5py>=2.9.0 in /usr/local/lib/python3.5/dist-packages (from energyflow) (2.10.0)\n",
      "Defaulting to user installation because normal site-packages is not writeable\n",
      "Requirement already satisfied: h5py in /usr/local/lib/python3.5/dist-packages (2.10.0)\n",
      "Requirement already satisfied: numpy>=1.7 in /usr/local/lib/python3.5/dist-packages (from h5py) (1.18.1)\n",
      "Requirement already satisfied: six in /usr/local/lib/python3.5/dist-packages (from h5py) (1.14.0)\n"
     ]
    }
   ],
   "source": [
    "!pip install energyflow\n",
    "!pip install h5py"
   ]
  },
  {
   "cell_type": "markdown",
   "metadata": {
    "colab_type": "text",
    "id": "ZkXnXmYRQ39U"
   },
   "source": [
    "Installing POT (Python Optimal Transform) package"
   ]
  },
  {
   "cell_type": "code",
   "execution_count": 2,
   "metadata": {
    "colab": {
     "base_uri": "https://localhost:8080/",
     "height": 153
    },
    "colab_type": "code",
    "id": "1r3rd5lMSYiH",
    "outputId": "3bef316c-1b13-4fdf-a55e-e8495f4c1ac8"
   },
   "outputs": [
    {
     "name": "stdout",
     "output_type": "stream",
     "text": [
      "Defaulting to user installation because normal site-packages is not writeable\n",
      "Requirement already satisfied: POT in ./.local/lib/python3.5/site-packages (0.6.0)\n",
      "Requirement already satisfied: scipy in /usr/local/lib/python3.5/dist-packages (from POT) (1.4.1)\n",
      "Requirement already satisfied: cython in ./.local/lib/python3.5/site-packages (from POT) (0.29.15)\n",
      "Requirement already satisfied: numpy in /usr/local/lib/python3.5/dist-packages (from POT) (1.18.1)\n"
     ]
    }
   ],
   "source": [
    "!pip install POT"
   ]
  },
  {
   "cell_type": "markdown",
   "metadata": {
    "colab_type": "text",
    "id": "6v70Mc5xH4G-"
   },
   "source": [
    "Import all necessary packages"
   ]
  },
  {
   "cell_type": "code",
   "execution_count": 3,
   "metadata": {
    "colab": {
     "base_uri": "https://localhost:8080/",
     "height": 34
    },
    "colab_type": "code",
    "id": "Hvf25N8fGqfv",
    "outputId": "d14a8116-ac42-42ee-9e9d-e766d748b364"
   },
   "outputs": [
    {
     "name": "stderr",
     "output_type": "stream",
     "text": [
      "Using TensorFlow backend.\n"
     ]
    }
   ],
   "source": [
    "# standard library imports\n",
    "from __future__ import absolute_import, division, print_function\n",
    "\n",
    "# standard numerical library imports\n",
    "import numpy as np\n",
    "\n",
    "# energyflow imports\n",
    "import energyflow as ef\n",
    "from energyflow.archs import PFN\n",
    "from energyflow.datasets import qg_jets\n",
    "from energyflow.utils import data_split, remap_pids, to_categorical\n",
    "\n",
    "# attempt to import sklearn\n",
    "try:\n",
    "    from sklearn.metrics import roc_auc_score, roc_curve\n",
    "except:\n",
    "    print('please install scikit-learn in order to make ROC curves')\n",
    "    roc_curve = False\n",
    "\n",
    "# attempt to import matplotlib\n",
    "try:\n",
    "    import matplotlib.pyplot as plt\n",
    "except:\n",
    "    print('please install matplotlib in order to make plots')\n",
    "    plt = False"
   ]
  },
  {
   "cell_type": "markdown",
   "metadata": {
    "colab_type": "text",
    "id": "EHknI8JqGrFC"
   },
   "source": [
    "Load particle distribution from SIM dataset"
   ]
  },
  {
   "cell_type": "code",
   "execution_count": 4,
   "metadata": {
    "colab": {
     "base_uri": "https://localhost:8080/",
     "height": 1000
    },
    "colab_type": "code",
    "id": "jneN4tyrG4CS",
    "outputId": "7150467b-b029-4025-f5ac-3e7b9b241e6a"
   },
   "outputs": [
    {
     "name": "stdout",
     "output_type": "stream",
     "text": [
      "Number of jets:  504909\n",
      "Max:  143.2047119\n",
      "Min:  3.663904428\n"
     ]
    }
   ],
   "source": [
    "# load data\n",
    "specs = ['375 <= corr_jet_pts <= 425', 'abs_jet_eta < 1.9', 'quality >= 2']\n",
    "amount = 0.2\n",
    "sim = ef.mod.load(*specs, dataset='sim', amount=amount)\n",
    "print(\"Number of jets: \", len(sim))\n",
    "\n",
    "print(\"Max: \", np.amax(sim.jet_ms))\n",
    "print(\"Min: \", np.amin(sim.jet_ms))"
   ]
  },
  {
   "cell_type": "code",
   "execution_count": 5,
   "metadata": {
    "colab": {
     "base_uri": "https://localhost:8080/",
     "height": 232
    },
    "colab_type": "code",
    "id": "BaaEEAkAyx6L",
    "outputId": "db69b857-8693-4801-82b2-dc9cf562600e"
   },
   "outputs": [
    {
     "name": "stdout",
     "output_type": "stream",
     "text": [
      "442886\n",
      "1\n"
     ]
    }
   ],
   "source": [
    "#print(sim.evns)\n",
    "#print(sim.rns)\n",
    "sim_numbers = set(sim.evns)\n",
    "run_numbers = set(sim.rns)\n",
    "#print(sim_numbers)\n",
    "#print(run_numbers) #don't need to sort by run number, since they're all the same\n",
    "print(len(sim_numbers))\n",
    "print(len(run_numbers))"
   ]
  },
  {
   "cell_type": "code",
   "execution_count": 6,
   "metadata": {
    "colab": {
     "base_uri": "https://localhost:8080/",
     "height": 34
    },
    "colab_type": "code",
    "id": "9ymHbt5ZBONV",
    "outputId": "bc33e640-2d3f-47aa-af8e-6cf24feaa346"
   },
   "outputs": [
    {
     "name": "stdout",
     "output_type": "stream",
     "text": [
      "5091631\n"
     ]
    }
   ],
   "source": [
    "print(sim.evns[2])"
   ]
  },
  {
   "cell_type": "code",
   "execution_count": 7,
   "metadata": {
    "colab": {
     "base_uri": "https://localhost:8080/",
     "height": 34
    },
    "colab_type": "code",
    "id": "aDwm3qPoD--y",
    "outputId": "b28f3a83-d04e-4b38-9b44-239a846a38b4"
   },
   "outputs": [
    {
     "data": {
      "text/plain": [
       "1"
      ]
     },
     "execution_count": 7,
     "metadata": {},
     "output_type": "execute_result"
    }
   ],
   "source": [
    "len(sim.particles[sim.jets_i[:,sim.evn]==5091631])"
   ]
  },
  {
   "cell_type": "markdown",
   "metadata": {
    "colab_type": "text",
    "id": "Pl7ptrukE48Y"
   },
   "source": [
    "Group by events and generate Cartesian coordinate 4 vectors to calculate mass. Also get information on whether particle is a quark or gluon."
   ]
  },
  {
   "cell_type": "code",
   "execution_count": 8,
   "metadata": {},
   "outputs": [],
   "source": [
    "from time import process_time"
   ]
  },
  {
   "cell_type": "code",
   "execution_count": 9,
   "metadata": {
    "colab": {},
    "colab_type": "code",
    "id": "wXOmEgTRIL_a"
   },
   "outputs": [
    {
     "name": "stdout",
     "output_type": "stream",
     "text": [
      "Elapsed time during the whole program in seconds: 2414.5676390880003\n"
     ]
    }
   ],
   "source": [
    "t1_start = process_time() \n",
    "\n",
    "event_list = []\n",
    "\n",
    "event_pts = []\n",
    "event_etas = []\n",
    "event_phis = []\n",
    "event_ms = []\n",
    "\n",
    "for evn_num in sim_numbers:\n",
    "    event_list.append(np.asarray(sim.particles[sim.jets_i[:,sim.evn]==evn_num])) #Try grabbing indices maybe? instead of copying data\n",
    "\n",
    "    event_pts.append(np.asarray(sim.jet_pts[sim.jets_i[:,sim.evn]==evn_num]))\n",
    "    event_etas.append(np.asarray(sim.jet_etas[sim.jets_i[:,sim.evn]==evn_num]))\n",
    "    event_phis.append(np.asarray(sim.jet_phis[sim.jets_i[:,sim.evn]==evn_num]))\n",
    "    event_ms.append(np.asarray(sim.jet_ms[sim.jets_i[:,sim.evn]==evn_num]))\n",
    "    \n",
    "t1_stop = process_time()\n",
    "\n",
    "print(\"Elapsed time during the whole program in seconds:\", t1_stop-t1_start)"
   ]
  },
  {
   "cell_type": "code",
   "execution_count": 10,
   "metadata": {},
   "outputs": [],
   "source": [
    "event_jet_labels = []\n",
    "for evn_num in sim_numbers:\n",
    "    event_jet_labels.append(np.asarray(sim.hard_pids[sim.jets_i[:,sim.evn]==evn_num]))"
   ]
  },
  {
   "cell_type": "code",
   "execution_count": 11,
   "metadata": {
    "colab": {
     "base_uri": "https://localhost:8080/",
     "height": 34
    },
    "colab_type": "code",
    "id": "C2AqeJwJ8fhf",
    "outputId": "cf1367e9-dc39-4493-aa00-b5c03d180b0c"
   },
   "outputs": [
    {
     "data": {
      "text/plain": [
       "442886"
      ]
     },
     "execution_count": 11,
     "metadata": {},
     "output_type": "execute_result"
    }
   ],
   "source": [
    "len(event_list)"
   ]
  },
  {
   "cell_type": "code",
   "execution_count": 12,
   "metadata": {
    "colab": {
     "base_uri": "https://localhost:8080/",
     "height": 85
    },
    "colab_type": "code",
    "id": "IS2cWSU08hvE",
    "outputId": "19fab36a-5d19-43ea-dfdf-7c33e6cf5a86"
   },
   "outputs": [
    {
     "name": "stdout",
     "output_type": "stream",
     "text": [
      "442886\n",
      "442886\n",
      "442886\n",
      "442886\n"
     ]
    }
   ],
   "source": [
    "print(len(event_pts))\n",
    "print(len(event_etas))\n",
    "print(len(event_phis))\n",
    "print(len(event_ms))"
   ]
  },
  {
   "cell_type": "code",
   "execution_count": 13,
   "metadata": {},
   "outputs": [
    {
     "name": "stdout",
     "output_type": "stream",
     "text": [
      "4\n"
     ]
    }
   ],
   "source": [
    "max_jets_in_event = max([len(event_pts[i]) for i in range(len(event_pts))])\n",
    "print(max_jets_in_event)"
   ]
  },
  {
   "cell_type": "code",
   "execution_count": 14,
   "metadata": {},
   "outputs": [],
   "source": [
    "#New code for compiling 4-vectors\n",
    "\n",
    "event_stats = []\n",
    "\n",
    "for i in range(len(event_pts)):\n",
    "    event_stats.append([])\n",
    "    \n",
    "    for j in range(len(event_pts[i])):\n",
    "        ptyphims = []\n",
    "        ptyphims.append(event_pts[i][j])\n",
    "        ptyphims.append(event_etas[i][j])\n",
    "        ptyphims.append(event_phis[i][j])\n",
    "        ptyphims.append(event_ms[i][j])\n",
    "        p4s = ef.p4s_from_ptyphims(np.array(ptyphims))\n",
    "        \n",
    "        event_stats[i].append(p4s.tolist())"
   ]
  },
  {
   "cell_type": "code",
   "execution_count": 15,
   "metadata": {
    "colab": {
     "base_uri": "https://localhost:8080/",
     "height": 34
    },
    "colab_type": "code",
    "id": "td7FZEuNLWpj",
    "outputId": "6aa35c3e-b21c-4043-d9d4-b7050185f11c"
   },
   "outputs": [
    {
     "data": {
      "text/plain": [
       "442886"
      ]
     },
     "execution_count": 15,
     "metadata": {},
     "output_type": "execute_result"
    }
   ],
   "source": [
    "len(event_stats)"
   ]
  },
  {
   "cell_type": "markdown",
   "metadata": {
    "colab_type": "text",
    "id": "pGM6_OBfE04m"
   },
   "source": [
    "Select events with only 2 jets in them"
   ]
  },
  {
   "cell_type": "code",
   "execution_count": 16,
   "metadata": {
    "colab": {},
    "colab_type": "code",
    "id": "J_WouV7hKr_z"
   },
   "outputs": [],
   "source": [
    "event_list_2 = []\n",
    "indexes = []\n",
    "i = 0\n",
    "for evn in event_list:\n",
    "    if len(evn) == 2:\n",
    "      event_list_2.append(evn)\n",
    "      indexes.append(i)\n",
    "    i += 1\n",
    "event_stats_2 = [event_stats[j] for j in indexes]"
   ]
  },
  {
   "cell_type": "code",
   "execution_count": 17,
   "metadata": {},
   "outputs": [],
   "source": [
    "event_jet_labels_2 = [event_jet_labels[j] for j in indexes]"
   ]
  },
  {
   "cell_type": "code",
   "execution_count": 18,
   "metadata": {
    "colab": {
     "base_uri": "https://localhost:8080/",
     "height": 51
    },
    "colab_type": "code",
    "id": "jdL4Q35RHoiz",
    "outputId": "45e5816c-7c66-4a7b-ecf5-7d1b55bb5b76"
   },
   "outputs": [
    {
     "name": "stdout",
     "output_type": "stream",
     "text": [
      "58108\n",
      "58108\n"
     ]
    }
   ],
   "source": [
    "print(len(event_list_2))\n",
    "print(len(event_stats_2))"
   ]
  },
  {
   "cell_type": "code",
   "execution_count": 19,
   "metadata": {
    "colab": {
     "base_uri": "https://localhost:8080/",
     "height": 68
    },
    "colab_type": "code",
    "id": "fDTHnhdX9rDF",
    "outputId": "9b350695-4452-4509-e6ff-8c6abd845f7b"
   },
   "outputs": [
    {
     "name": "stdout",
     "output_type": "stream",
     "text": [
      "58108\n",
      "2\n",
      "4\n"
     ]
    }
   ],
   "source": [
    "print(len(event_stats_2))\n",
    "print(len(event_stats_2[0]))\n",
    "print(len(event_stats_2[0][0]))"
   ]
  },
  {
   "cell_type": "markdown",
   "metadata": {
    "colab_type": "text",
    "id": "8B0nbpbQbyTK"
   },
   "source": [
    "Find event masses by combining 4 vectors"
   ]
  },
  {
   "cell_type": "code",
   "execution_count": 20,
   "metadata": {
    "colab": {},
    "colab_type": "code",
    "id": "1KH9ctvs9ENK"
   },
   "outputs": [],
   "source": [
    "event_stats_added_2 = []\n",
    "for i in range(len(event_stats_2)):\n",
    "    event_1 = event_stats_2[i][0][0] + event_stats_2[i][1][0]\n",
    "    event_2 = event_stats_2[i][0][1] + event_stats_2[i][1][1]\n",
    "    event_3 = event_stats_2[i][0][2] + event_stats_2[i][1][2]\n",
    "    event_4 = event_stats_2[i][0][3] + event_stats_2[i][1][3]\n",
    "    event = [event_1, event_2, event_3, event_4]\n",
    "    event_stats_added_2.append(event)"
   ]
  },
  {
   "cell_type": "code",
   "execution_count": 21,
   "metadata": {
    "colab": {},
    "colab_type": "code",
    "id": "Xt23FAMv4m-7"
   },
   "outputs": [],
   "source": [
    "sum_mass_events_2 = []\n",
    "for event_4_vector in event_stats_added_2:\n",
    "    event_4_list = list(event_4_vector)\n",
    "    event_4_array = np.array(event_4_list)\n",
    "    event_mass = ef.ms_from_p4s(event_4_array)\n",
    "    sum_mass_events_2.append(event_mass)"
   ]
  },
  {
   "cell_type": "code",
   "execution_count": 22,
   "metadata": {
    "colab": {
     "base_uri": "https://localhost:8080/",
     "height": 51
    },
    "colab_type": "code",
    "id": "nCoy03fBb0bf",
    "outputId": "1490d22e-3f3f-4804-ff9d-2942f51272eb"
   },
   "outputs": [
    {
     "name": "stdout",
     "output_type": "stream",
     "text": [
      "Max Event Mass:  2624.0850265252584\n",
      "Min Event Mass:  64.67496843735614\n"
     ]
    }
   ],
   "source": [
    "max_event_mass = max(sum_mass_events_2)\n",
    "min_event_mass = min(sum_mass_events_2)\n",
    "\n",
    "print(\"Max Event Mass: \", max_event_mass)\n",
    "print(\"Min Event Mass: \", min_event_mass)"
   ]
  },
  {
   "cell_type": "code",
   "execution_count": 23,
   "metadata": {},
   "outputs": [
    {
     "data": {
      "image/png": "[encoded data removed]",
      "text/plain": [
       "<Figure size 432x288 with 1 Axes>"
      ]
     },
     "metadata": {
      "needs_background": "light"
     },
     "output_type": "display_data"
    }
   ],
   "source": [
    "plt.hist(sum_mass_events_2, bins = 15)\n",
    "plt.show()"
   ]
  },
  {
   "cell_type": "code",
   "execution_count": 24,
   "metadata": {},
   "outputs": [
    {
     "name": "stdout",
     "output_type": "stream",
     "text": [
      "[869.713037023758, -563.6786008465779, 505.56088099719614, -422.9569077101105]\n",
      "[961.1580333695374, 744.1343451967591, -180.81725915428285, -577.1646759604872]\n",
      "[923.062383525554, 509.7100280250164, 567.567924804797, 514.923338613902]\n",
      "[1257.0093140192248, -334.0737155299654, -677.2828312122451, -1002.2312729304804]\n"
     ]
    }
   ],
   "source": [
    "event_masses = np.array(sum_mass_events_2)\n",
    "indices_sorted_evmass = np.argsort(event_masses)\n",
    "print(event_stats_added_2[indices_sorted_evmass[0]])\n",
    "print(event_stats_added_2[indices_sorted_evmass[1]])\n",
    "print(event_stats_added_2[indices_sorted_evmass[2]])\n",
    "print(event_stats_added_2[indices_sorted_evmass[3]])"
   ]
  },
  {
   "cell_type": "code",
   "execution_count": 25,
   "metadata": {},
   "outputs": [
    {
     "name": "stdout",
     "output_type": "stream",
     "text": [
      "[[437.009698042418, -290.0675146550482, 260.4171129231645, -195.43038031928234], [432.70333898134004, -273.6110861915297, 245.1437680740316, -227.52652739082814]]\n",
      "[[467.01302026107464, 359.42149700435135, -102.52371772016315, -278.6863771017111], [494.14501310846276, 384.71284819240776, -78.2935414341197, -298.4782988587761]]\n",
      "[[486.59952305094697, 263.579348764004, 293.5337324589645, 282.98962164927246], [436.46286047460706, 246.13067926101238, 274.0341923458326, 231.93371696462958]]\n",
      "[[676.2980362978869, -179.03591515087132, -350.58092842769224, -548.9729756892984], [580.711277721338, -155.03780037909408, -326.70190278455294, -453.2582972411819]]\n"
     ]
    }
   ],
   "source": [
    "print(event_stats_2[indices_sorted_evmass[0]])\n",
    "print(event_stats_2[indices_sorted_evmass[1]])\n",
    "print(event_stats_2[indices_sorted_evmass[2]])\n",
    "print(event_stats_2[indices_sorted_evmass[3]])"
   ]
  },
  {
   "cell_type": "markdown",
   "metadata": {
    "colab_type": "text",
    "id": "qjUVQF5oe8cK"
   },
   "source": [
    "Divide events into mass bins - each bin is equally sized in terms of the range of masses"
   ]
  },
  {
   "cell_type": "code",
   "execution_count": 45,
   "metadata": {
    "colab": {},
    "colab_type": "code",
    "id": "F0SKSFYsKDpb"
   },
   "outputs": [],
   "source": [
    "index_bin_1 = []\n",
    "index_bin_2 = []\n",
    "index_bin_3 = []\n",
    "index_bin_4 = [] \n",
    "index_bin_5 = []\n",
    "index_bin_6 = []\n",
    "\n",
    "i = 0\n",
    "for event_mass in sum_mass_events_2:\n",
    "    if event_mass > 64.67 and event_mass <= 700:\n",
    "        index_bin_1.append(i)\n",
    "    elif event_mass > 700 and event_mass <= 800:\n",
    "        index_bin_2.append(i)\n",
    "    elif event_mass > 800 and event_mass <= 900:\n",
    "        index_bin_3.append(i)\n",
    "    elif event_mass > 900 and event_mass <= 1000:\n",
    "        index_bin_4.append(i)\n",
    "    elif event_mass > 1000 and event_mass <= 1264.67:\n",
    "        index_bin_5.append(i)\n",
    "    elif event_mass > 1264.67 and event_mass <= 2624.1:\n",
    "        index_bin_6.append(i)\n",
    "        \n",
    "    i += 1\n",
    "\n",
    "event_mass_bin1 = [event_list_2[j] for j in index_bin_1]\n",
    "event_mass_bin2 = [event_list_2[j] for j in index_bin_2]\n",
    "event_mass_bin3 = [event_list_2[j] for j in index_bin_3]\n",
    "event_mass_bin4 = [event_list_2[j] for j in index_bin_4]\n",
    "event_mass_bin5 = [event_list_2[j] for j in index_bin_5]\n",
    "event_mass_bin6 = [event_list_2[j] for j in index_bin_6]"
   ]
  },
  {
   "cell_type": "markdown",
   "metadata": {
    "colab_type": "text",
    "id": "efUhXQu1fyv2"
   },
   "source": [
    "Check size of each mass bin"
   ]
  },
  {
   "cell_type": "code",
   "execution_count": 46,
   "metadata": {
    "colab": {
     "base_uri": "https://localhost:8080/",
     "height": 102
    },
    "colab_type": "code",
    "id": "cdY6Z9oAOcmH",
    "outputId": "0f3e4754-7de2-4e11-b474-9ef078dccc45"
   },
   "outputs": [
    {
     "name": "stdout",
     "output_type": "stream",
     "text": [
      "3892\n",
      "15565\n",
      "17040\n",
      "8021\n",
      "9009\n",
      "4581\n"
     ]
    }
   ],
   "source": [
    "print(len(event_mass_bin1))\n",
    "print(len(event_mass_bin2))\n",
    "print(len(event_mass_bin3))\n",
    "print(len(event_mass_bin4))\n",
    "print(len(event_mass_bin5))\n",
    "print(len(event_mass_bin6))"
   ]
  },
  {
   "cell_type": "code",
   "execution_count": 47,
   "metadata": {
    "colab": {},
    "colab_type": "code",
    "id": "UAVYNYQFu0zW"
   },
   "outputs": [],
   "source": [
    "jet_mass_bin1 = []\n",
    "jet_mass_bin2 = []\n",
    "jet_mass_bin3 = []\n",
    "jet_mass_bin4 = []\n",
    "jet_mass_bin5 = []\n",
    "jet_mass_bin6 = []\n",
    "\n",
    "for event in event_mass_bin1:\n",
    "    for jet in event:\n",
    "        jet_mass_bin1.append(jet)\n",
    "\n",
    "for event in event_mass_bin2:\n",
    "    for jet in event:\n",
    "        jet_mass_bin2.append(jet)\n",
    "\n",
    "for event in event_mass_bin3:\n",
    "    for jet in event:\n",
    "        jet_mass_bin3.append(jet)\n",
    "\n",
    "for event in event_mass_bin4:\n",
    "    for jet in event:\n",
    "        jet_mass_bin4.append(jet)\n",
    "\n",
    "for event in event_mass_bin5:\n",
    "    for jet in event:\n",
    "        jet_mass_bin5.append(jet)\n",
    "        \n",
    "for event in event_mass_bin6:\n",
    "    for jet in event:\n",
    "        jet_mass_bin6.append(jet)"
   ]
  },
  {
   "cell_type": "markdown",
   "metadata": {
    "colab_type": "text",
    "id": "qryNQwNuf3gg"
   },
   "source": [
    "Find out max number of particles for the jets in each mass bin"
   ]
  },
  {
   "cell_type": "code",
   "execution_count": 48,
   "metadata": {
    "colab": {
     "base_uri": "https://localhost:8080/",
     "height": 102
    },
    "colab_type": "code",
    "id": "2cwPHFlaSGFQ",
    "outputId": "e2f858ba-6312-4b4c-dfcd-93d924ab3e4f"
   },
   "outputs": [
    {
     "name": "stdout",
     "output_type": "stream",
     "text": [
      "118\n",
      "124\n",
      "133\n",
      "130\n",
      "129\n",
      "127\n"
     ]
    }
   ],
   "source": [
    "array_lengths = []\n",
    "for i in range(len(jet_mass_bin1)):\n",
    "    array_lengths.append(len(jet_mass_bin1[i]))\n",
    "print(max(array_lengths))\n",
    "\n",
    "array_lengths = []\n",
    "for i in range(len(jet_mass_bin2)):\n",
    "    array_lengths.append(len(jet_mass_bin2[i]))\n",
    "print(max(array_lengths))\n",
    "\n",
    "array_lengths = []\n",
    "for i in range(len(jet_mass_bin3)):\n",
    "    array_lengths.append(len(jet_mass_bin3[i]))\n",
    "print(max(array_lengths))\n",
    "\n",
    "array_lengths = []\n",
    "for i in range(len(jet_mass_bin4)):\n",
    "    array_lengths.append(len(jet_mass_bin4[i]))\n",
    "print(max(array_lengths))\n",
    "\n",
    "array_lengths = []\n",
    "for i in range(len(jet_mass_bin5)):\n",
    "    array_lengths.append(len(jet_mass_bin5[i]))\n",
    "print(max(array_lengths))\n",
    "\n",
    "array_lengths = []\n",
    "for i in range(len(jet_mass_bin6)):\n",
    "    array_lengths.append(len(jet_mass_bin6[i]))\n",
    "print(max(array_lengths))"
   ]
  },
  {
   "cell_type": "markdown",
   "metadata": {
    "colab_type": "text",
    "id": "IilSV9Nfg-kR"
   },
   "source": [
    "Pad each of the jet arrays with 0s to create a contiguous array with max_particles = 160. To run this, do two at a time and calculate the AUC, otherwise you will run out of RAM."
   ]
  },
  {
   "cell_type": "code",
   "execution_count": 49,
   "metadata": {
    "colab": {
     "base_uri": "https://localhost:8080/",
     "height": 88
    },
    "colab_type": "code",
    "id": "iFMfyxExXsPR",
    "outputId": "fcf90ebf-8814-4b05-ff7a-7330f2e2e6d4"
   },
   "outputs": [
    {
     "name": "stdout",
     "output_type": "stream",
     "text": [
      "Mass bin 1 done\n",
      "Mass bin 2 done\n",
      "Mass bin 3 done\n",
      "Mass bin 4 done\n",
      "Mass bin 5 done\n",
      "Mass bin 6 done\n"
     ]
    }
   ],
   "source": [
    "jet_array_1 = np.zeros((len(jet_mass_bin1),160,6))\n",
    "for i in range(len(jet_mass_bin1)):\n",
    "    for j in range(160):\n",
    "        for k in range(6):\n",
    "            try:\n",
    "                jet_array_1[i,j,k] = jet_mass_bin1[i][j][k]\n",
    "            except IndexError:\n",
    "                jet_array_1[i,j,k] = 0\n",
    "print(\"Mass bin 1 done\")\n",
    "\n",
    "\n",
    "jet_array_2 = np.zeros((len(jet_mass_bin2),160,6))\n",
    "for i in range(len(jet_mass_bin2)):\n",
    "    for j in range(160):\n",
    "        for k in range(6):\n",
    "            try:\n",
    "                jet_array_2[i,j,k] = jet_mass_bin2[i][j][k]\n",
    "            except IndexError:\n",
    "                jet_array_2[i,j,k] = 0\n",
    "print(\"Mass bin 2 done\")\n",
    "\n",
    "\n",
    "jet_array_3 = np.zeros((len(jet_mass_bin3),160,6))\n",
    "for i in range(len(jet_mass_bin3)):\n",
    "    for j in range(160):\n",
    "        for k in range(6):\n",
    "            try:\n",
    "                jet_array_3[i,j,k] = jet_mass_bin3[i][j][k]\n",
    "            except IndexError:\n",
    "                jet_array_3[i,j,k] = 0\n",
    "print(\"Mass bin 3 done\")\n",
    "\n",
    "\n",
    "jet_array_4 = np.zeros((len(jet_mass_bin4),160,6))\n",
    "for i in range(len(jet_mass_bin4)):\n",
    "    for j in range(160):\n",
    "        for k in range(6):\n",
    "            try:\n",
    "                jet_array_4[i,j,k] = jet_mass_bin4[i][j][k]\n",
    "            except IndexError:\n",
    "                jet_array_4[i,j,k] = 0\n",
    "print(\"Mass bin 4 done\")\n",
    "\n",
    "\n",
    "jet_array_5 = np.zeros((len(jet_mass_bin5),160,6))\n",
    "for i in range(len(jet_mass_bin5)):\n",
    "    for j in range(160):\n",
    "        for k in range(6):\n",
    "            try:\n",
    "                jet_array_5[i,j,k] = jet_mass_bin5[i][j][k]\n",
    "            except IndexError:\n",
    "                jet_array_5[i,j,k] = 0\n",
    "print(\"Mass bin 5 done\")\n",
    "\n",
    "jet_array_6 = np.zeros((len(jet_mass_bin6),160,6))\n",
    "for i in range(len(jet_mass_bin6)):\n",
    "    for j in range(160):\n",
    "        for k in range(6):\n",
    "            try:\n",
    "                jet_array_6[i,j,k] = jet_mass_bin6[i][j][k]\n",
    "            except IndexError:\n",
    "                jet_array_6[i,j,k] = 0\n",
    "print(\"Mass bin 6 done\")"
   ]
  },
  {
   "cell_type": "code",
   "execution_count": 50,
   "metadata": {
    "colab": {
     "base_uri": "https://localhost:8080/",
     "height": 34
    },
    "colab_type": "code",
    "id": "vJuRRBhuDXin",
    "outputId": "f394286d-4278-4c13-db90-31dac595ffba"
   },
   "outputs": [
    {
     "data": {
      "text/plain": [
       "7784"
      ]
     },
     "execution_count": 50,
     "metadata": {},
     "output_type": "execute_result"
    }
   ],
   "source": [
    "len(jet_array_1)"
   ]
  },
  {
   "cell_type": "code",
   "execution_count": 51,
   "metadata": {
    "colab": {
     "base_uri": "https://localhost:8080/",
     "height": 34
    },
    "colab_type": "code",
    "id": "dbd9Sah6I_sj",
    "outputId": "071bfc8d-bb2a-43fc-e626-d66002317ae4"
   },
   "outputs": [
    {
     "data": {
      "text/plain": [
       "31130"
      ]
     },
     "execution_count": 51,
     "metadata": {},
     "output_type": "execute_result"
    }
   ],
   "source": [
    "len(jet_array_2)"
   ]
  },
  {
   "cell_type": "markdown",
   "metadata": {
    "colab_type": "text",
    "id": "AGfplTNXhzzc"
   },
   "source": [
    "Create datasets out of mass bins 1 and 2 to feed into PFN (Particle Flow Network) machine learning model"
   ]
  },
  {
   "cell_type": "code",
   "execution_count": 33,
   "metadata": {
    "colab": {},
    "colab_type": "code",
    "id": "3i4b4cooIpJT"
   },
   "outputs": [],
   "source": [
    "#Bins 1 and 2\n",
    "X = np.concatenate([jet_array_1, jet_array_2])[:,:,:4]\n",
    "y = np.concatenate([np.ones(len(jet_array_1)), np.zeros(len(jet_array_2))])\n",
    "#del jet_array_1, jet_array_2"
   ]
  },
  {
   "cell_type": "code",
   "execution_count": 34,
   "metadata": {},
   "outputs": [
    {
     "data": {
      "text/plain": [
       "(38914, 160, 4)"
      ]
     },
     "execution_count": 34,
     "metadata": {},
     "output_type": "execute_result"
    }
   ],
   "source": [
    "X.shape"
   ]
  },
  {
   "cell_type": "markdown",
   "metadata": {
    "colab_type": "text",
    "id": "54auazZYjRhv"
   },
   "source": [
    "Run PFN model on mass bins 1 and 2 to see how well model can distinguish between jets in those bins."
   ]
  },
  {
   "cell_type": "code",
   "execution_count": 35,
   "metadata": {
    "colab": {
     "base_uri": "https://localhost:8080/",
     "height": 1000
    },
    "colab_type": "code",
    "id": "3Ima3_Jpm2Yc",
    "outputId": "02d3a51a-54fc-42e4-ca25-fbe4e37af2d4"
   },
   "outputs": [
    {
     "name": "stdout",
     "output_type": "stream",
     "text": [
      "Loaded quark and gluon jets\n",
      "Finished preprocessing\n",
      "Done train/val/test split\n",
      "Model summary:\n",
      "WARNING:tensorflow:From /usr/local/lib/python3.5/dist-packages/tensorflow_core/python/ops/resource_variable_ops.py:1630: calling BaseResourceVariable.__init__ (from tensorflow.python.ops.resource_variable_ops) with constraint is deprecated and will be removed in a future version.\n",
      "Instructions for updating:\n",
      "If using Keras pass *_constraint arguments to layers.\n",
      "Model: \"model_1\"\n",
      "__________________________________________________________________________________________________\n",
      "Layer (type)                    Output Shape         Param #     Connected to                     \n",
      "==================================================================================================\n",
      "input (InputLayer)              (None, None, 4)      0                                            \n",
      "__________________________________________________________________________________________________\n",
      "tdist_0 (TimeDistributed)       (None, None, 100)    500         input[0][0]                      \n",
      "__________________________________________________________________________________________________\n",
      "activation_1 (Activation)       (None, None, 100)    0           tdist_0[0][0]                    \n",
      "__________________________________________________________________________________________________\n",
      "tdist_1 (TimeDistributed)       (None, None, 100)    10100       activation_1[0][0]               \n",
      "__________________________________________________________________________________________________\n",
      "activation_2 (Activation)       (None, None, 100)    0           tdist_1[0][0]                    \n",
      "__________________________________________________________________________________________________\n",
      "tdist_2 (TimeDistributed)       (None, None, 128)    12928       activation_2[0][0]               \n",
      "__________________________________________________________________________________________________\n",
      "mask (Lambda)                   (None, None)         0           input[0][0]                      \n",
      "__________________________________________________________________________________________________\n",
      "activation_3 (Activation)       (None, None, 128)    0           tdist_2[0][0]                    \n",
      "__________________________________________________________________________________________________\n",
      "sum (Dot)                       (None, 128)          0           mask[0][0]                       \n",
      "                                                                 activation_3[0][0]               \n",
      "__________________________________________________________________________________________________\n",
      "dense_0 (Dense)                 (None, 100)          12900       sum[0][0]                        \n",
      "__________________________________________________________________________________________________\n",
      "activation_4 (Activation)       (None, 100)          0           dense_0[0][0]                    \n",
      "__________________________________________________________________________________________________\n",
      "dense_1 (Dense)                 (None, 100)          10100       activation_4[0][0]               \n",
      "__________________________________________________________________________________________________\n",
      "activation_5 (Activation)       (None, 100)          0           dense_1[0][0]                    \n",
      "__________________________________________________________________________________________________\n",
      "dense_2 (Dense)                 (None, 100)          10100       activation_5[0][0]               \n",
      "__________________________________________________________________________________________________\n",
      "activation_6 (Activation)       (None, 100)          0           dense_2[0][0]                    \n",
      "__________________________________________________________________________________________________\n",
      "output (Dense)                  (None, 2)            202         activation_6[0][0]               \n",
      "__________________________________________________________________________________________________\n",
      "activation_7 (Activation)       (None, 2)            0           output[0][0]                     \n",
      "==================================================================================================\n",
      "Total params: 56,830\n",
      "Trainable params: 56,830\n",
      "Non-trainable params: 0\n",
      "__________________________________________________________________________________________________\n",
      "WARNING:tensorflow:From /usr/local/lib/python3.5/dist-packages/keras/backend/tensorflow_backend.py:422: The name tf.global_variables is deprecated. Please use tf.compat.v1.global_variables instead.\n",
      "\n",
      "Train on 20000 samples, validate on 15914 samples\n",
      "Epoch 1/10\n",
      "20000/20000 [==============================] - 3s 144us/step - loss: 1.0375 - acc: 0.7261 - val_loss: 0.5383 - val_acc: 0.7992\n",
      "Epoch 2/10\n",
      "20000/20000 [==============================] - 1s 71us/step - loss: 0.5145 - acc: 0.8001 - val_loss: 0.5048 - val_acc: 0.7992\n",
      "Epoch 3/10\n",
      "20000/20000 [==============================] - 1s 71us/step - loss: 0.5027 - acc: 0.7999 - val_loss: 0.4987 - val_acc: 0.7994\n",
      "Epoch 4/10\n",
      "20000/20000 [==============================] - 1s 71us/step - loss: 0.5033 - acc: 0.7997 - val_loss: 0.5019 - val_acc: 0.7992\n",
      "Epoch 5/10\n",
      "20000/20000 [==============================] - 1s 71us/step - loss: 0.5005 - acc: 0.7999 - val_loss: 0.5009 - val_acc: 0.7992\n",
      "Epoch 6/10\n",
      "20000/20000 [==============================] - 1s 71us/step - loss: 0.5066 - acc: 0.7995 - val_loss: 0.5023 - val_acc: 0.7992\n",
      "Epoch 7/10\n",
      "20000/20000 [==============================] - 1s 71us/step - loss: 0.5079 - acc: 0.7999 - val_loss: 0.5166 - val_acc: 0.7992\n",
      "Epoch 8/10\n",
      "20000/20000 [==============================] - 1s 71us/step - loss: 0.5094 - acc: 0.7990 - val_loss: 0.5061 - val_acc: 0.7992\n",
      "Epoch 9/10\n",
      "20000/20000 [==============================] - 1s 71us/step - loss: 0.4996 - acc: 0.8001 - val_loss: 0.5046 - val_acc: 0.7992\n",
      "Epoch 10/10\n",
      "20000/20000 [==============================] - 1s 71us/step - loss: 0.4989 - acc: 0.7998 - val_loss: 0.5001 - val_acc: 0.7992\n",
      "\n",
      "PFN AUC: 0.5528524238280166\n",
      "\n"
     ]
    },
    {
     "name": "stderr",
     "output_type": "stream",
     "text": [
      "/usr/local/lib/python3.5/dist-packages/matplotlib/figure.py:2369: UserWarning: This figure includes Axes that are not compatible with tight_layout, so results might be incorrect.\n",
      "  warnings.warn(\"This figure includes Axes that are not compatible \"\n"
     ]
    },
    {
     "data": {
      "image/png": "[encoded data removed]",
      "text/plain": [
       "<Figure size 288x288 with 1 Axes>"
      ]
     },
     "metadata": {
      "needs_background": "light"
     },
     "output_type": "display_data"
    }
   ],
   "source": [
    "#Bins 1 and 2\n",
    "################################### SETTINGS ###################################\n",
    "# the commented values correspond to those in 1810.05165\n",
    "###############################################################################\n",
    "\n",
    "# data controls, can go up to 2000000 for full dataset\n",
    "train, val, test = 20000, 15914, 3000\n",
    "# train, val, test = 1000000, 200000, 200000\n",
    "use_pids = True\n",
    "\n",
    "# network architecture parameters\n",
    "Phi_sizes, F_sizes = (100, 100, 128), (100, 100, 100)\n",
    "# Phi_sizes, F_sizes = (100, 100, 256), (100, 100, 100)\n",
    "\n",
    "# network training parameters\n",
    "num_epoch = 10\n",
    "batch_size = 500\n",
    "\n",
    "################################################################################\n",
    "\n",
    "# convert labels to categorical\n",
    "Y = to_categorical(y, num_classes=2)\n",
    "\n",
    "print('Loaded quark and gluon jets')\n",
    "\n",
    "# preprocess by centering jets and normalizing pts\n",
    "for x in X:\n",
    "    mask = x[:,0] > 0\n",
    "    yphi_avg = np.average(x[mask,1:3], weights=x[mask,0], axis=0)\n",
    "    x[mask,1:3] -= yphi_avg\n",
    "    x[mask,0] /= x[:,0].sum()\n",
    "\n",
    "# handle particle id channel\n",
    "if use_pids:\n",
    "    remap_pids(X, pid_i=3)\n",
    "else:\n",
    "    X = X[:,:,:3]\n",
    "\n",
    "print('Finished preprocessing')\n",
    "\n",
    "# do train/val/test split \n",
    "(X_train, X_val, X_test,\n",
    " Y_train, Y_val, Y_test) = data_split(X, Y, val=val, test=test)\n",
    "\n",
    "print('Done train/val/test split')\n",
    "print('Model summary:')\n",
    "\n",
    "# build architecture\n",
    "pfn = PFN(input_dim=X.shape[-1], Phi_sizes=Phi_sizes, F_sizes=F_sizes)\n",
    "\n",
    "# train model\n",
    "pfn.fit(X_train, Y_train,\n",
    "          epochs=num_epoch,\n",
    "          batch_size=batch_size,\n",
    "          validation_data=(X_val, Y_val),\n",
    "          verbose=1)\n",
    "\n",
    "# get predictions on test data\n",
    "preds = pfn.predict(X_test, batch_size=1000)\n",
    "\n",
    "# get ROC curve if we have sklearn\n",
    "if roc_curve:\n",
    "    pfn_fp, pfn_tp, threshs = roc_curve(Y_test[:,1], preds[:,1])\n",
    "\n",
    "    # get area under the ROC curve\n",
    "    auc = roc_auc_score(Y_test[:,1], preds[:,1])\n",
    "    print()\n",
    "    print('PFN AUC:', auc)\n",
    "    print()\n",
    "\n",
    "    # make ROC curve plot if we have matplotlib\n",
    "    if plt:\n",
    "\n",
    "        # get multiplicity and mass for comparison\n",
    "        masses = np.asarray([ef.ms_from_p4s(ef.p4s_from_ptyphims(x).sum(axis=0)) for x in X])\n",
    "        mults = np.asarray([np.count_nonzero(x[:,0]) for x in X])\n",
    "        mass_fp, mass_tp, threshs = roc_curve(Y[:,1], -masses)\n",
    "        mult_fp, mult_tp, threshs = roc_curve(Y[:,1], -mults)\n",
    "\n",
    "        # some nicer plot settings \n",
    "        plt.rcParams['figure.figsize'] = (4,4)\n",
    "        plt.rcParams['font.family'] = 'serif'\n",
    "        plt.rcParams['figure.autolayout'] = True\n",
    "\n",
    "        # plot the ROC curves\n",
    "        plt.plot(pfn_tp, 1-pfn_fp, '-', color='black', label='PFN')\n",
    "        plt.plot(mass_tp, 1-mass_fp, '-', color='blue', label='Jet Mass')\n",
    "        plt.plot(mult_tp, 1-mult_fp, '-', color='red', label='Multiplicity')\n",
    "\n",
    "        # axes labels\n",
    "        plt.xlabel('Quark Jet Efficiency')\n",
    "        plt.ylabel('Gluon Jet Rejection')\n",
    "\n",
    "        # axes limits\n",
    "        plt.xlim(0, 1)\n",
    "        plt.ylim(0, 1)\n",
    "\n",
    "        # make legend and show plot\n",
    "        plt.legend(loc='lower left', frameon=False)\n",
    "        plt.show()"
   ]
  },
  {
   "cell_type": "markdown",
   "metadata": {
    "colab_type": "text",
    "id": "4av8lgT2kVMt"
   },
   "source": [
    "Create datasets out of mass bins 2 and 3 to feed into PFN (Particle Flow Network) machine learning model"
   ]
  },
  {
   "cell_type": "code",
   "execution_count": 36,
   "metadata": {
    "colab": {},
    "colab_type": "code",
    "id": "0RO62yIahNQX"
   },
   "outputs": [],
   "source": [
    "#Bins 2 and 3\n",
    "X = np.concatenate([jet_array_2, jet_array_3])[:,:,:4]\n",
    "y = np.concatenate([np.ones(len(jet_array_2)), np.zeros(len(jet_array_3))])\n",
    "#del jet_array_2, jet_array_3"
   ]
  },
  {
   "cell_type": "code",
   "execution_count": 37,
   "metadata": {},
   "outputs": [
    {
     "data": {
      "text/plain": [
       "(65210, 160, 4)"
      ]
     },
     "execution_count": 37,
     "metadata": {},
     "output_type": "execute_result"
    }
   ],
   "source": [
    "X.shape"
   ]
  },
  {
   "cell_type": "markdown",
   "metadata": {
    "colab_type": "text",
    "id": "M0PTl1xOk35t"
   },
   "source": [
    "Run PFN model on mass bins 2 and 3 to see how well model can distinguish between jets in those bins."
   ]
  },
  {
   "cell_type": "code",
   "execution_count": 38,
   "metadata": {
    "colab": {
     "base_uri": "https://localhost:8080/",
     "height": 1000
    },
    "colab_type": "code",
    "id": "2spgYY-azxMn",
    "outputId": "e96cf2c3-734a-409f-adde-4a1cd74e8403"
   },
   "outputs": [
    {
     "name": "stdout",
     "output_type": "stream",
     "text": [
      "Loaded quark and gluon jets\n",
      "Finished preprocessing\n",
      "Done train/val/test split\n",
      "Model summary:\n",
      "Model: \"model_2\"\n",
      "__________________________________________________________________________________________________\n",
      "Layer (type)                    Output Shape         Param #     Connected to                     \n",
      "==================================================================================================\n",
      "input (InputLayer)              (None, None, 4)      0                                            \n",
      "__________________________________________________________________________________________________\n",
      "tdist_0 (TimeDistributed)       (None, None, 100)    500         input[0][0]                      \n",
      "__________________________________________________________________________________________________\n",
      "activation_8 (Activation)       (None, None, 100)    0           tdist_0[0][0]                    \n",
      "__________________________________________________________________________________________________\n",
      "tdist_1 (TimeDistributed)       (None, None, 100)    10100       activation_8[0][0]               \n",
      "__________________________________________________________________________________________________\n",
      "activation_9 (Activation)       (None, None, 100)    0           tdist_1[0][0]                    \n",
      "__________________________________________________________________________________________________\n",
      "tdist_2 (TimeDistributed)       (None, None, 128)    12928       activation_9[0][0]               \n",
      "__________________________________________________________________________________________________\n",
      "mask (Lambda)                   (None, None)         0           input[0][0]                      \n",
      "__________________________________________________________________________________________________\n",
      "activation_10 (Activation)      (None, None, 128)    0           tdist_2[0][0]                    \n",
      "__________________________________________________________________________________________________\n",
      "sum (Dot)                       (None, 128)          0           mask[0][0]                       \n",
      "                                                                 activation_10[0][0]              \n",
      "__________________________________________________________________________________________________\n",
      "dense_0 (Dense)                 (None, 100)          12900       sum[0][0]                        \n",
      "__________________________________________________________________________________________________\n",
      "activation_11 (Activation)      (None, 100)          0           dense_0[0][0]                    \n",
      "__________________________________________________________________________________________________\n",
      "dense_1 (Dense)                 (None, 100)          10100       activation_11[0][0]              \n",
      "__________________________________________________________________________________________________\n",
      "activation_12 (Activation)      (None, 100)          0           dense_1[0][0]                    \n",
      "__________________________________________________________________________________________________\n",
      "dense_2 (Dense)                 (None, 100)          10100       activation_12[0][0]              \n",
      "__________________________________________________________________________________________________\n",
      "activation_13 (Activation)      (None, 100)          0           dense_2[0][0]                    \n",
      "__________________________________________________________________________________________________\n",
      "output (Dense)                  (None, 2)            202         activation_13[0][0]              \n",
      "__________________________________________________________________________________________________\n",
      "activation_14 (Activation)      (None, 2)            0           output[0][0]                     \n",
      "==================================================================================================\n",
      "Total params: 56,830\n",
      "Trainable params: 56,830\n",
      "Non-trainable params: 0\n",
      "__________________________________________________________________________________________________\n",
      "Train on 20000 samples, validate on 42210 samples\n",
      "Epoch 1/10\n",
      "20000/20000 [==============================] - 2s 112us/step - loss: 0.7991 - acc: 0.5073 - val_loss: 0.6940 - val_acc: 0.5112\n",
      "Epoch 2/10\n",
      "20000/20000 [==============================] - 2s 97us/step - loss: 0.6978 - acc: 0.5088 - val_loss: 0.6925 - val_acc: 0.5140\n",
      "Epoch 3/10\n",
      "20000/20000 [==============================] - 2s 97us/step - loss: 0.6950 - acc: 0.5175 - val_loss: 0.6926 - val_acc: 0.5112\n",
      "Epoch 4/10\n",
      "20000/20000 [==============================] - 2s 97us/step - loss: 0.6973 - acc: 0.5124 - val_loss: 0.6932 - val_acc: 0.5074\n",
      "Epoch 5/10\n",
      "20000/20000 [==============================] - 2s 97us/step - loss: 0.6948 - acc: 0.5163 - val_loss: 0.6926 - val_acc: 0.5146\n",
      "Epoch 6/10\n",
      "20000/20000 [==============================] - 2s 97us/step - loss: 0.6971 - acc: 0.5125 - val_loss: 0.7013 - val_acc: 0.5213\n",
      "Epoch 7/10\n",
      "20000/20000 [==============================] - 2s 97us/step - loss: 0.6981 - acc: 0.5087 - val_loss: 0.6991 - val_acc: 0.4849\n",
      "Epoch 8/10\n",
      "20000/20000 [==============================] - 2s 97us/step - loss: 0.6925 - acc: 0.5205 - val_loss: 0.6942 - val_acc: 0.5003\n",
      "Epoch 9/10\n",
      "20000/20000 [==============================] - 2s 97us/step - loss: 0.6972 - acc: 0.5134 - val_loss: 0.6943 - val_acc: 0.4968\n",
      "Epoch 10/10\n",
      "20000/20000 [==============================] - 2s 97us/step - loss: 0.6973 - acc: 0.5159 - val_loss: 0.7054 - val_acc: 0.5215\n",
      "\n",
      "PFN AUC: 0.5276576049388548\n",
      "\n"
     ]
    },
    {
     "name": "stderr",
     "output_type": "stream",
     "text": [
      "/usr/local/lib/python3.5/dist-packages/matplotlib/figure.py:2369: UserWarning: This figure includes Axes that are not compatible with tight_layout, so results might be incorrect.\n",
      "  warnings.warn(\"This figure includes Axes that are not compatible \"\n"
     ]
    },
    {
     "data": {
      "image/png": "[encoded data removed]",
      "text/plain": [
       "<Figure size 288x288 with 1 Axes>"
      ]
     },
     "metadata": {
      "needs_background": "light"
     },
     "output_type": "display_data"
    }
   ],
   "source": [
    "#Bins 2 and 3\n",
    "################################### SETTINGS ###################################\n",
    "# the commented values correspond to those in 1810.05165\n",
    "###############################################################################\n",
    "\n",
    "# data controls, can go up to 2000000 for full dataset\n",
    "train, val, test = 20000, 42210, 3000\n",
    "# train, val, test = 1000000, 200000, 200000\n",
    "use_pids = True\n",
    "\n",
    "# network architecture parameters\n",
    "Phi_sizes, F_sizes = (100, 100, 128), (100, 100, 100)\n",
    "# Phi_sizes, F_sizes = (100, 100, 256), (100, 100, 100)\n",
    "\n",
    "# network training parameters\n",
    "num_epoch = 10\n",
    "batch_size = 500\n",
    "\n",
    "################################################################################\n",
    "\n",
    "# convert labels to categorical\n",
    "Y = to_categorical(y, num_classes=2)\n",
    "\n",
    "print('Loaded quark and gluon jets')\n",
    "\n",
    "# preprocess by centering jets and normalizing pts\n",
    "for x in X:\n",
    "    mask = x[:,0] > 0\n",
    "    yphi_avg = np.average(x[mask,1:3], weights=x[mask,0], axis=0)\n",
    "    x[mask,1:3] -= yphi_avg\n",
    "    x[mask,0] /= x[:,0].sum()\n",
    "\n",
    "# handle particle id channel\n",
    "if use_pids:\n",
    "    remap_pids(X, pid_i=3)\n",
    "else:\n",
    "    X = X[:,:,:3]\n",
    "\n",
    "print('Finished preprocessing')\n",
    "\n",
    "# do train/val/test split \n",
    "(X_train, X_val, X_test,\n",
    " Y_train, Y_val, Y_test) = data_split(X, Y, val=val, test=test)\n",
    "\n",
    "print('Done train/val/test split')\n",
    "print('Model summary:')\n",
    "\n",
    "# build architecture\n",
    "pfn = PFN(input_dim=X.shape[-1], Phi_sizes=Phi_sizes, F_sizes=F_sizes)\n",
    "\n",
    "# train model\n",
    "pfn.fit(X_train, Y_train,\n",
    "          epochs=num_epoch,\n",
    "          batch_size=batch_size,\n",
    "          validation_data=(X_val, Y_val),\n",
    "          verbose=1)\n",
    "\n",
    "# get predictions on test data\n",
    "preds = pfn.predict(X_test, batch_size=1000)\n",
    "\n",
    "# get ROC curve if we have sklearn\n",
    "if roc_curve:\n",
    "    pfn_fp, pfn_tp, threshs = roc_curve(Y_test[:,1], preds[:,1])\n",
    "\n",
    "    # get area under the ROC curve\n",
    "    auc = roc_auc_score(Y_test[:,1], preds[:,1])\n",
    "    print()\n",
    "    print('PFN AUC:', auc)\n",
    "    print()\n",
    "\n",
    "    # make ROC curve plot if we have matplotlib\n",
    "    if plt:\n",
    "\n",
    "        # get multiplicity and mass for comparison\n",
    "        masses = np.asarray([ef.ms_from_p4s(ef.p4s_from_ptyphims(x).sum(axis=0)) for x in X])\n",
    "        mults = np.asarray([np.count_nonzero(x[:,0]) for x in X])\n",
    "        mass_fp, mass_tp, threshs = roc_curve(Y[:,1], -masses)\n",
    "        mult_fp, mult_tp, threshs = roc_curve(Y[:,1], -mults)\n",
    "\n",
    "        # some nicer plot settings \n",
    "        plt.rcParams['figure.figsize'] = (4,4)\n",
    "        plt.rcParams['font.family'] = 'serif'\n",
    "        plt.rcParams['figure.autolayout'] = True\n",
    "\n",
    "        # plot the ROC curves\n",
    "        plt.plot(pfn_tp, 1-pfn_fp, '-', color='black', label='PFN')\n",
    "        plt.plot(mass_tp, 1-mass_fp, '-', color='blue', label='Jet Mass')\n",
    "        plt.plot(mult_tp, 1-mult_fp, '-', color='red', label='Multiplicity')\n",
    "\n",
    "        # axes labels\n",
    "        plt.xlabel('Quark Jet Efficiency')\n",
    "        plt.ylabel('Gluon Jet Rejection')\n",
    "\n",
    "        # axes limits\n",
    "        plt.xlim(0, 1)\n",
    "        plt.ylim(0, 1)\n",
    "\n",
    "        # make legend and show plot\n",
    "        plt.legend(loc='lower left', frameon=False)\n",
    "        plt.show()"
   ]
  },
  {
   "cell_type": "markdown",
   "metadata": {
    "colab_type": "text",
    "id": "86FL92hFkZcA"
   },
   "source": [
    "Create datasets out of mass bins 3 and 4 to feed into PFN (Particle Flow Network) machine learning model"
   ]
  },
  {
   "cell_type": "code",
   "execution_count": 39,
   "metadata": {
    "colab": {},
    "colab_type": "code",
    "id": "DropiTFwe45R"
   },
   "outputs": [],
   "source": [
    "#Bins 3 and 4\n",
    "X = np.concatenate([jet_array_3, jet_array_4])[:,:,:4]\n",
    "y = np.concatenate([np.ones(len(jet_array_3)), np.zeros(len(jet_array_4))])\n",
    "#del jet_array_3, jet_array_4"
   ]
  },
  {
   "cell_type": "code",
   "execution_count": 40,
   "metadata": {},
   "outputs": [
    {
     "data": {
      "text/plain": [
       "(50122, 160, 4)"
      ]
     },
     "execution_count": 40,
     "metadata": {},
     "output_type": "execute_result"
    }
   ],
   "source": [
    "X.shape"
   ]
  },
  {
   "cell_type": "markdown",
   "metadata": {
    "colab_type": "text",
    "id": "zTHegdmEk6t9"
   },
   "source": [
    "Run PFN model on mass bins 3 and 4 to see how well model can distinguish between jets in those bins."
   ]
  },
  {
   "cell_type": "code",
   "execution_count": 41,
   "metadata": {
    "colab": {
     "base_uri": "https://localhost:8080/",
     "height": 1000
    },
    "colab_type": "code",
    "id": "dhYt6CVJss5y",
    "outputId": "e9712633-9dc0-472a-fedf-446f1bd7e3a7"
   },
   "outputs": [
    {
     "name": "stdout",
     "output_type": "stream",
     "text": [
      "Loaded quark and gluon jets\n",
      "Finished preprocessing\n",
      "Done train/val/test split\n",
      "Model summary:\n",
      "Model: \"model_3\"\n",
      "__________________________________________________________________________________________________\n",
      "Layer (type)                    Output Shape         Param #     Connected to                     \n",
      "==================================================================================================\n",
      "input (InputLayer)              (None, None, 4)      0                                            \n",
      "__________________________________________________________________________________________________\n",
      "tdist_0 (TimeDistributed)       (None, None, 100)    500         input[0][0]                      \n",
      "__________________________________________________________________________________________________\n",
      "activation_15 (Activation)      (None, None, 100)    0           tdist_0[0][0]                    \n",
      "__________________________________________________________________________________________________\n",
      "tdist_1 (TimeDistributed)       (None, None, 100)    10100       activation_15[0][0]              \n",
      "__________________________________________________________________________________________________\n",
      "activation_16 (Activation)      (None, None, 100)    0           tdist_1[0][0]                    \n",
      "__________________________________________________________________________________________________\n",
      "tdist_2 (TimeDistributed)       (None, None, 128)    12928       activation_16[0][0]              \n",
      "__________________________________________________________________________________________________\n",
      "mask (Lambda)                   (None, None)         0           input[0][0]                      \n",
      "__________________________________________________________________________________________________\n",
      "activation_17 (Activation)      (None, None, 128)    0           tdist_2[0][0]                    \n",
      "__________________________________________________________________________________________________\n",
      "sum (Dot)                       (None, 128)          0           mask[0][0]                       \n",
      "                                                                 activation_17[0][0]              \n",
      "__________________________________________________________________________________________________\n",
      "dense_0 (Dense)                 (None, 100)          12900       sum[0][0]                        \n",
      "__________________________________________________________________________________________________\n",
      "activation_18 (Activation)      (None, 100)          0           dense_0[0][0]                    \n",
      "__________________________________________________________________________________________________\n",
      "dense_1 (Dense)                 (None, 100)          10100       activation_18[0][0]              \n",
      "__________________________________________________________________________________________________\n",
      "activation_19 (Activation)      (None, 100)          0           dense_1[0][0]                    \n",
      "__________________________________________________________________________________________________\n",
      "dense_2 (Dense)                 (None, 100)          10100       activation_19[0][0]              \n",
      "__________________________________________________________________________________________________\n",
      "activation_20 (Activation)      (None, 100)          0           dense_2[0][0]                    \n",
      "__________________________________________________________________________________________________\n",
      "output (Dense)                  (None, 2)            202         activation_20[0][0]              \n",
      "__________________________________________________________________________________________________\n",
      "activation_21 (Activation)      (None, 2)            0           output[0][0]                     \n",
      "==================================================================================================\n",
      "Total params: 56,830\n",
      "Trainable params: 56,830\n",
      "Non-trainable params: 0\n",
      "__________________________________________________________________________________________________\n",
      "Train on 20000 samples, validate on 27122 samples\n",
      "Epoch 1/10\n",
      "20000/20000 [==============================] - 2s 106us/step - loss: 0.8488 - acc: 0.6188 - val_loss: 0.6422 - val_acc: 0.6796\n",
      "Epoch 2/10\n",
      "20000/20000 [==============================] - 2s 82us/step - loss: 0.6336 - acc: 0.6804 - val_loss: 0.6304 - val_acc: 0.6796\n",
      "Epoch 3/10\n",
      "20000/20000 [==============================] - 2s 82us/step - loss: 0.6299 - acc: 0.6797 - val_loss: 0.6309 - val_acc: 0.6796\n",
      "Epoch 4/10\n",
      "20000/20000 [==============================] - 2s 82us/step - loss: 0.6299 - acc: 0.6797 - val_loss: 0.6287 - val_acc: 0.6796\n",
      "Epoch 5/10\n",
      "20000/20000 [==============================] - 2s 82us/step - loss: 0.6295 - acc: 0.6800 - val_loss: 0.6363 - val_acc: 0.6765\n",
      "Epoch 6/10\n",
      "20000/20000 [==============================] - 2s 82us/step - loss: 0.6329 - acc: 0.6799 - val_loss: 0.6306 - val_acc: 0.6797\n",
      "Epoch 7/10\n",
      "20000/20000 [==============================] - 2s 82us/step - loss: 0.6305 - acc: 0.6802 - val_loss: 0.6290 - val_acc: 0.6796\n",
      "Epoch 8/10\n",
      "20000/20000 [==============================] - 2s 82us/step - loss: 0.6279 - acc: 0.6804 - val_loss: 0.6301 - val_acc: 0.6798\n",
      "Epoch 9/10\n",
      "20000/20000 [==============================] - 2s 82us/step - loss: 0.6275 - acc: 0.6801 - val_loss: 0.6280 - val_acc: 0.6796\n",
      "Epoch 10/10\n",
      "20000/20000 [==============================] - 2s 82us/step - loss: 0.6270 - acc: 0.6804 - val_loss: 0.6303 - val_acc: 0.6793\n",
      "\n",
      "PFN AUC: 0.5113474040803704\n",
      "\n"
     ]
    },
    {
     "name": "stderr",
     "output_type": "stream",
     "text": [
      "/usr/local/lib/python3.5/dist-packages/matplotlib/figure.py:2369: UserWarning: This figure includes Axes that are not compatible with tight_layout, so results might be incorrect.\n",
      "  warnings.warn(\"This figure includes Axes that are not compatible \"\n"
     ]
    },
    {
     "data": {
      "image/png": "[encoded data removed]",
      "text/plain": [
       "<Figure size 288x288 with 1 Axes>"
      ]
     },
     "metadata": {
      "needs_background": "light"
     },
     "output_type": "display_data"
    }
   ],
   "source": [
    "#Bins 3 and 4\n",
    "################################### SETTINGS ###################################\n",
    "# the commented values correspond to those in 1810.05165\n",
    "###############################################################################\n",
    "\n",
    "# data controls, can go up to 2000000 for full dataset\n",
    "train, val, test = 20000, 27122, 3000\n",
    "# train, val, test = 1000000, 200000, 200000\n",
    "use_pids = True\n",
    "\n",
    "# network architecture parameters\n",
    "Phi_sizes, F_sizes = (100, 100, 128), (100, 100, 100)\n",
    "# Phi_sizes, F_sizes = (100, 100, 256), (100, 100, 100)\n",
    "\n",
    "# network training parameters\n",
    "num_epoch = 10\n",
    "batch_size = 500\n",
    "\n",
    "################################################################################\n",
    "\n",
    "# convert labels to categorical\n",
    "Y = to_categorical(y, num_classes=2)\n",
    "\n",
    "print('Loaded quark and gluon jets')\n",
    "\n",
    "# preprocess by centering jets and normalizing pts\n",
    "for x in X:\n",
    "    mask = x[:,0] > 0\n",
    "    yphi_avg = np.average(x[mask,1:3], weights=x[mask,0], axis=0)\n",
    "    x[mask,1:3] -= yphi_avg\n",
    "    x[mask,0] /= x[:,0].sum()\n",
    "\n",
    "# handle particle id channel\n",
    "if use_pids:\n",
    "    remap_pids(X, pid_i=3)\n",
    "else:\n",
    "    X = X[:,:,:3]\n",
    "\n",
    "print('Finished preprocessing')\n",
    "\n",
    "# do train/val/test split \n",
    "(X_train, X_val, X_test,\n",
    " Y_train, Y_val, Y_test) = data_split(X, Y, val=val, test=test)\n",
    "\n",
    "print('Done train/val/test split')\n",
    "print('Model summary:')\n",
    "\n",
    "# build architecture\n",
    "pfn = PFN(input_dim=X.shape[-1], Phi_sizes=Phi_sizes, F_sizes=F_sizes)\n",
    "\n",
    "# train model\n",
    "pfn.fit(X_train, Y_train,\n",
    "          epochs=num_epoch,\n",
    "          batch_size=batch_size,\n",
    "          validation_data=(X_val, Y_val),\n",
    "          verbose=1)\n",
    "\n",
    "# get predictions on test data\n",
    "preds = pfn.predict(X_test, batch_size=1000)\n",
    "\n",
    "# get ROC curve if we have sklearn\n",
    "if roc_curve:\n",
    "    pfn_fp, pfn_tp, threshs = roc_curve(Y_test[:,1], preds[:,1])\n",
    "\n",
    "    # get area under the ROC curve\n",
    "    auc = roc_auc_score(Y_test[:,1], preds[:,1])\n",
    "    print()\n",
    "    print('PFN AUC:', auc)\n",
    "    print()\n",
    "\n",
    "    # make ROC curve plot if we have matplotlib\n",
    "    if plt:\n",
    "\n",
    "        # get multiplicity and mass for comparison\n",
    "        masses = np.asarray([ef.ms_from_p4s(ef.p4s_from_ptyphims(x).sum(axis=0)) for x in X])\n",
    "        mults = np.asarray([np.count_nonzero(x[:,0]) for x in X])\n",
    "        mass_fp, mass_tp, threshs = roc_curve(Y[:,1], -masses)\n",
    "        mult_fp, mult_tp, threshs = roc_curve(Y[:,1], -mults)\n",
    "\n",
    "        # some nicer plot settings \n",
    "        plt.rcParams['figure.figsize'] = (4,4)\n",
    "        plt.rcParams['font.family'] = 'serif'\n",
    "        plt.rcParams['figure.autolayout'] = True\n",
    "\n",
    "        # plot the ROC curves\n",
    "        plt.plot(pfn_tp, 1-pfn_fp, '-', color='black', label='PFN')\n",
    "        plt.plot(mass_tp, 1-mass_fp, '-', color='blue', label='Jet Mass')\n",
    "        plt.plot(mult_tp, 1-mult_fp, '-', color='red', label='Multiplicity')\n",
    "\n",
    "        # axes labels\n",
    "        plt.xlabel('Quark Jet Efficiency')\n",
    "        plt.ylabel('Gluon Jet Rejection')\n",
    "\n",
    "        # axes limits\n",
    "        plt.xlim(0, 1)\n",
    "        plt.ylim(0, 1)\n",
    "\n",
    "        # make legend and show plot\n",
    "        plt.legend(loc='lower left', frameon=False)\n",
    "        plt.show()"
   ]
  },
  {
   "cell_type": "code",
   "execution_count": 42,
   "metadata": {},
   "outputs": [],
   "source": [
    "#Bins 4 and 5\n",
    "X = np.concatenate([jet_array_4, jet_array_5])[:,:,:4]\n",
    "y = np.concatenate([np.ones(len(jet_array_4)), np.zeros(len(jet_array_5))])\n",
    "#del jet_array_3, jet_array_4"
   ]
  },
  {
   "cell_type": "code",
   "execution_count": 43,
   "metadata": {},
   "outputs": [
    {
     "data": {
      "text/plain": [
       "(34060, 160, 4)"
      ]
     },
     "execution_count": 43,
     "metadata": {},
     "output_type": "execute_result"
    }
   ],
   "source": [
    "X.shape"
   ]
  },
  {
   "cell_type": "code",
   "execution_count": 44,
   "metadata": {},
   "outputs": [
    {
     "name": "stdout",
     "output_type": "stream",
     "text": [
      "Loaded quark and gluon jets\n",
      "Finished preprocessing\n",
      "Done train/val/test split\n",
      "Model summary:\n",
      "Model: \"model_4\"\n",
      "__________________________________________________________________________________________________\n",
      "Layer (type)                    Output Shape         Param #     Connected to                     \n",
      "==================================================================================================\n",
      "input (InputLayer)              (None, None, 4)      0                                            \n",
      "__________________________________________________________________________________________________\n",
      "tdist_0 (TimeDistributed)       (None, None, 100)    500         input[0][0]                      \n",
      "__________________________________________________________________________________________________\n",
      "activation_22 (Activation)      (None, None, 100)    0           tdist_0[0][0]                    \n",
      "__________________________________________________________________________________________________\n",
      "tdist_1 (TimeDistributed)       (None, None, 100)    10100       activation_22[0][0]              \n",
      "__________________________________________________________________________________________________\n",
      "activation_23 (Activation)      (None, None, 100)    0           tdist_1[0][0]                    \n",
      "__________________________________________________________________________________________________\n",
      "tdist_2 (TimeDistributed)       (None, None, 128)    12928       activation_23[0][0]              \n",
      "__________________________________________________________________________________________________\n",
      "mask (Lambda)                   (None, None)         0           input[0][0]                      \n",
      "__________________________________________________________________________________________________\n",
      "activation_24 (Activation)      (None, None, 128)    0           tdist_2[0][0]                    \n",
      "__________________________________________________________________________________________________\n",
      "sum (Dot)                       (None, 128)          0           mask[0][0]                       \n",
      "                                                                 activation_24[0][0]              \n",
      "__________________________________________________________________________________________________\n",
      "dense_0 (Dense)                 (None, 100)          12900       sum[0][0]                        \n",
      "__________________________________________________________________________________________________\n",
      "activation_25 (Activation)      (None, 100)          0           dense_0[0][0]                    \n",
      "__________________________________________________________________________________________________\n",
      "dense_1 (Dense)                 (None, 100)          10100       activation_25[0][0]              \n",
      "__________________________________________________________________________________________________\n",
      "activation_26 (Activation)      (None, 100)          0           dense_1[0][0]                    \n",
      "__________________________________________________________________________________________________\n",
      "dense_2 (Dense)                 (None, 100)          10100       activation_26[0][0]              \n",
      "__________________________________________________________________________________________________\n",
      "activation_27 (Activation)      (None, 100)          0           dense_2[0][0]                    \n",
      "__________________________________________________________________________________________________\n",
      "output (Dense)                  (None, 2)            202         activation_27[0][0]              \n",
      "__________________________________________________________________________________________________\n",
      "activation_28 (Activation)      (None, 2)            0           output[0][0]                     \n",
      "==================================================================================================\n",
      "Total params: 56,830\n",
      "Trainable params: 56,830\n",
      "Non-trainable params: 0\n",
      "__________________________________________________________________________________________________\n",
      "Train on 20000 samples, validate on 11060 samples\n",
      "Epoch 1/10\n",
      "20000/20000 [==============================] - 2s 87us/step - loss: 0.8943 - acc: 0.5091 - val_loss: 0.6958 - val_acc: 0.5287\n",
      "Epoch 2/10\n",
      "20000/20000 [==============================] - 1s 68us/step - loss: 0.6979 - acc: 0.5153 - val_loss: 0.6908 - val_acc: 0.5300\n",
      "Epoch 3/10\n",
      "20000/20000 [==============================] - 1s 68us/step - loss: 0.6947 - acc: 0.5217 - val_loss: 0.7068 - val_acc: 0.5311\n",
      "Epoch 4/10\n",
      "20000/20000 [==============================] - 1s 68us/step - loss: 0.7024 - acc: 0.5166 - val_loss: 0.6919 - val_acc: 0.5316\n",
      "Epoch 5/10\n",
      "20000/20000 [==============================] - 1s 68us/step - loss: 0.6917 - acc: 0.5282 - val_loss: 0.6901 - val_acc: 0.5296\n",
      "Epoch 6/10\n",
      "20000/20000 [==============================] - 1s 67us/step - loss: 0.6901 - acc: 0.5341 - val_loss: 0.6928 - val_acc: 0.5175\n",
      "Epoch 7/10\n",
      "20000/20000 [==============================] - 1s 66us/step - loss: 0.6985 - acc: 0.5193 - val_loss: 0.6906 - val_acc: 0.5325\n",
      "Epoch 8/10\n",
      "20000/20000 [==============================] - 1s 66us/step - loss: 0.6957 - acc: 0.5225 - val_loss: 0.6988 - val_acc: 0.5330\n",
      "Epoch 9/10\n",
      "20000/20000 [==============================] - 1s 66us/step - loss: 0.6941 - acc: 0.5247 - val_loss: 0.6913 - val_acc: 0.5278\n",
      "Epoch 10/10\n",
      "20000/20000 [==============================] - 1s 66us/step - loss: 0.6899 - acc: 0.5360 - val_loss: 0.6912 - val_acc: 0.5334\n",
      "\n",
      "PFN AUC: 0.5289271077883486\n",
      "\n"
     ]
    },
    {
     "name": "stderr",
     "output_type": "stream",
     "text": [
      "/usr/local/lib/python3.5/dist-packages/matplotlib/figure.py:2369: UserWarning: This figure includes Axes that are not compatible with tight_layout, so results might be incorrect.\n",
      "  warnings.warn(\"This figure includes Axes that are not compatible \"\n"
     ]
    },
    {
     "data": {
      "image/png": "[encoded data removed]",
      "text/plain": [
       "<Figure size 288x288 with 1 Axes>"
      ]
     },
     "metadata": {
      "needs_background": "light"
     },
     "output_type": "display_data"
    }
   ],
   "source": [
    "#Bins 4 and 5\n",
    "################################### SETTINGS ###################################\n",
    "# the commented values correspond to those in 1810.05165\n",
    "###############################################################################\n",
    "\n",
    "# data controls, can go up to 2000000 for full dataset\n",
    "train, val, test = 20000, 11060, 3000\n",
    "# train, val, test = 1000000, 200000, 200000\n",
    "use_pids = True\n",
    "\n",
    "# network architecture parameters\n",
    "Phi_sizes, F_sizes = (100, 100, 128), (100, 100, 100)\n",
    "# Phi_sizes, F_sizes = (100, 100, 256), (100, 100, 100)\n",
    "\n",
    "# network training parameters\n",
    "num_epoch = 10\n",
    "batch_size = 500\n",
    "\n",
    "################################################################################\n",
    "\n",
    "# convert labels to categorical\n",
    "Y = to_categorical(y, num_classes=2)\n",
    "\n",
    "print('Loaded quark and gluon jets')\n",
    "\n",
    "# preprocess by centering jets and normalizing pts\n",
    "for x in X:\n",
    "    mask = x[:,0] > 0\n",
    "    yphi_avg = np.average(x[mask,1:3], weights=x[mask,0], axis=0)\n",
    "    x[mask,1:3] -= yphi_avg\n",
    "    x[mask,0] /= x[:,0].sum()\n",
    "\n",
    "# handle particle id channel\n",
    "if use_pids:\n",
    "    remap_pids(X, pid_i=3)\n",
    "else:\n",
    "    X = X[:,:,:3]\n",
    "\n",
    "print('Finished preprocessing')\n",
    "\n",
    "# do train/val/test split \n",
    "(X_train, X_val, X_test,\n",
    " Y_train, Y_val, Y_test) = data_split(X, Y, val=val, test=test)\n",
    "\n",
    "print('Done train/val/test split')\n",
    "print('Model summary:')\n",
    "\n",
    "# build architecture\n",
    "pfn = PFN(input_dim=X.shape[-1], Phi_sizes=Phi_sizes, F_sizes=F_sizes)\n",
    "\n",
    "# train model\n",
    "pfn.fit(X_train, Y_train,\n",
    "          epochs=num_epoch,\n",
    "          batch_size=batch_size,\n",
    "          validation_data=(X_val, Y_val),\n",
    "          verbose=1)\n",
    "\n",
    "# get predictions on test data\n",
    "preds = pfn.predict(X_test, batch_size=1000)\n",
    "\n",
    "# get ROC curve if we have sklearn\n",
    "if roc_curve:\n",
    "    pfn_fp, pfn_tp, threshs = roc_curve(Y_test[:,1], preds[:,1])\n",
    "\n",
    "    # get area under the ROC curve\n",
    "    auc = roc_auc_score(Y_test[:,1], preds[:,1])\n",
    "    print()\n",
    "    print('PFN AUC:', auc)\n",
    "    print()\n",
    "\n",
    "    # make ROC curve plot if we have matplotlib\n",
    "    if plt:\n",
    "\n",
    "        # get multiplicity and mass for comparison\n",
    "        masses = np.asarray([ef.ms_from_p4s(ef.p4s_from_ptyphims(x).sum(axis=0)) for x in X])\n",
    "        mults = np.asarray([np.count_nonzero(x[:,0]) for x in X])\n",
    "        mass_fp, mass_tp, threshs = roc_curve(Y[:,1], -masses)\n",
    "        mult_fp, mult_tp, threshs = roc_curve(Y[:,1], -mults)\n",
    "\n",
    "        # some nicer plot settings \n",
    "        plt.rcParams['figure.figsize'] = (4,4)\n",
    "        plt.rcParams['font.family'] = 'serif'\n",
    "        plt.rcParams['figure.autolayout'] = True\n",
    "\n",
    "        # plot the ROC curves\n",
    "        plt.plot(pfn_tp, 1-pfn_fp, '-', color='black', label='PFN')\n",
    "        plt.plot(mass_tp, 1-mass_fp, '-', color='blue', label='Jet Mass')\n",
    "        plt.plot(mult_tp, 1-mult_fp, '-', color='red', label='Multiplicity')\n",
    "\n",
    "        # axes labels\n",
    "        plt.xlabel('Quark Jet Efficiency')\n",
    "        plt.ylabel('Gluon Jet Rejection')\n",
    "\n",
    "        # axes limits\n",
    "        plt.xlim(0, 1)\n",
    "        plt.ylim(0, 1)\n",
    "\n",
    "        # make legend and show plot\n",
    "        plt.legend(loc='lower left', frameon=False)\n",
    "        plt.show()"
   ]
  },
  {
   "cell_type": "code",
   "execution_count": 45,
   "metadata": {},
   "outputs": [],
   "source": [
    "#Bins 5 and 6\n",
    "X = np.concatenate([jet_array_5, jet_array_6])[:,:,:4]\n",
    "y = np.concatenate([np.ones(len(jet_array_5)), np.zeros(len(jet_array_6))])\n",
    "#del jet_array_3, jet_array_4"
   ]
  },
  {
   "cell_type": "code",
   "execution_count": 46,
   "metadata": {},
   "outputs": [
    {
     "data": {
      "text/plain": [
       "(27180, 160, 4)"
      ]
     },
     "execution_count": 46,
     "metadata": {},
     "output_type": "execute_result"
    }
   ],
   "source": [
    "X.shape"
   ]
  },
  {
   "cell_type": "code",
   "execution_count": 47,
   "metadata": {},
   "outputs": [
    {
     "name": "stdout",
     "output_type": "stream",
     "text": [
      "Loaded quark and gluon jets\n",
      "Finished preprocessing\n",
      "Done train/val/test split\n",
      "Model summary:\n",
      "Model: \"model_5\"\n",
      "__________________________________________________________________________________________________\n",
      "Layer (type)                    Output Shape         Param #     Connected to                     \n",
      "==================================================================================================\n",
      "input (InputLayer)              (None, None, 4)      0                                            \n",
      "__________________________________________________________________________________________________\n",
      "tdist_0 (TimeDistributed)       (None, None, 100)    500         input[0][0]                      \n",
      "__________________________________________________________________________________________________\n",
      "activation_29 (Activation)      (None, None, 100)    0           tdist_0[0][0]                    \n",
      "__________________________________________________________________________________________________\n",
      "tdist_1 (TimeDistributed)       (None, None, 100)    10100       activation_29[0][0]              \n",
      "__________________________________________________________________________________________________\n",
      "activation_30 (Activation)      (None, None, 100)    0           tdist_1[0][0]                    \n",
      "__________________________________________________________________________________________________\n",
      "tdist_2 (TimeDistributed)       (None, None, 128)    12928       activation_30[0][0]              \n",
      "__________________________________________________________________________________________________\n",
      "mask (Lambda)                   (None, None)         0           input[0][0]                      \n",
      "__________________________________________________________________________________________________\n",
      "activation_31 (Activation)      (None, None, 128)    0           tdist_2[0][0]                    \n",
      "__________________________________________________________________________________________________\n",
      "sum (Dot)                       (None, 128)          0           mask[0][0]                       \n",
      "                                                                 activation_31[0][0]              \n",
      "__________________________________________________________________________________________________\n",
      "dense_0 (Dense)                 (None, 100)          12900       sum[0][0]                        \n",
      "__________________________________________________________________________________________________\n",
      "activation_32 (Activation)      (None, 100)          0           dense_0[0][0]                    \n",
      "__________________________________________________________________________________________________\n",
      "dense_1 (Dense)                 (None, 100)          10100       activation_32[0][0]              \n",
      "__________________________________________________________________________________________________\n",
      "activation_33 (Activation)      (None, 100)          0           dense_1[0][0]                    \n",
      "__________________________________________________________________________________________________\n",
      "dense_2 (Dense)                 (None, 100)          10100       activation_33[0][0]              \n",
      "__________________________________________________________________________________________________\n",
      "activation_34 (Activation)      (None, 100)          0           dense_2[0][0]                    \n",
      "__________________________________________________________________________________________________\n",
      "output (Dense)                  (None, 2)            202         activation_34[0][0]              \n",
      "__________________________________________________________________________________________________\n",
      "activation_35 (Activation)      (None, 2)            0           output[0][0]                     \n",
      "==================================================================================================\n",
      "Total params: 56,830\n",
      "Trainable params: 56,830\n",
      "Non-trainable params: 0\n",
      "__________________________________________________________________________________________________\n",
      "Train on 20000 samples, validate on 4180 samples\n",
      "Epoch 1/10\n",
      "20000/20000 [==============================] - 2s 84us/step - loss: 0.9290 - acc: 0.6048 - val_loss: 0.6484 - val_acc: 0.6644\n",
      "Epoch 2/10\n",
      "20000/20000 [==============================] - 1s 58us/step - loss: 0.6406 - acc: 0.6612 - val_loss: 0.6368 - val_acc: 0.6610\n",
      "Epoch 3/10\n",
      "20000/20000 [==============================] - 1s 58us/step - loss: 0.6366 - acc: 0.6619 - val_loss: 0.6370 - val_acc: 0.6612\n",
      "Epoch 4/10\n",
      "20000/20000 [==============================] - 1s 59us/step - loss: 0.6453 - acc: 0.6560 - val_loss: 0.6364 - val_acc: 0.6593\n",
      "Epoch 5/10\n",
      "20000/20000 [==============================] - 1s 59us/step - loss: 0.6373 - acc: 0.6597 - val_loss: 0.6402 - val_acc: 0.6524\n",
      "Epoch 6/10\n",
      "20000/20000 [==============================] - 1s 59us/step - loss: 0.6483 - acc: 0.6532 - val_loss: 0.6353 - val_acc: 0.6641\n",
      "Epoch 7/10\n",
      "20000/20000 [==============================] - 1s 59us/step - loss: 0.6398 - acc: 0.6582 - val_loss: 0.6407 - val_acc: 0.6641\n",
      "Epoch 8/10\n",
      "20000/20000 [==============================] - 1s 59us/step - loss: 0.6340 - acc: 0.6619 - val_loss: 0.6422 - val_acc: 0.6644\n",
      "Epoch 9/10\n",
      "20000/20000 [==============================] - 1s 59us/step - loss: 0.6347 - acc: 0.6617 - val_loss: 0.6391 - val_acc: 0.6567\n",
      "Epoch 10/10\n",
      "20000/20000 [==============================] - 1s 59us/step - loss: 0.6346 - acc: 0.6610 - val_loss: 0.6437 - val_acc: 0.6644\n",
      "\n",
      "PFN AUC: 0.5672755844129\n",
      "\n"
     ]
    },
    {
     "name": "stderr",
     "output_type": "stream",
     "text": [
      "/usr/local/lib/python3.5/dist-packages/matplotlib/figure.py:2369: UserWarning: This figure includes Axes that are not compatible with tight_layout, so results might be incorrect.\n",
      "  warnings.warn(\"This figure includes Axes that are not compatible \"\n"
     ]
    },
    {
     "data": {
      "image/png": "[encoded data removed]",
      "text/plain": [
       "<Figure size 288x288 with 1 Axes>"
      ]
     },
     "metadata": {
      "needs_background": "light"
     },
     "output_type": "display_data"
    }
   ],
   "source": [
    "#Bins 5 and 6\n",
    "################################### SETTINGS ###################################\n",
    "# the commented values correspond to those in 1810.05165\n",
    "###############################################################################\n",
    "\n",
    "# data controls, can go up to 2000000 for full dataset\n",
    "train, val, test = 20000, 4180, 3000\n",
    "# train, val, test = 1000000, 200000, 200000\n",
    "use_pids = True\n",
    "\n",
    "# network architecture parameters\n",
    "Phi_sizes, F_sizes = (100, 100, 128), (100, 100, 100)\n",
    "# Phi_sizes, F_sizes = (100, 100, 256), (100, 100, 100)\n",
    "\n",
    "# network training parameters\n",
    "num_epoch = 10\n",
    "batch_size = 500\n",
    "\n",
    "################################################################################\n",
    "\n",
    "# convert labels to categorical\n",
    "Y = to_categorical(y, num_classes=2)\n",
    "\n",
    "print('Loaded quark and gluon jets')\n",
    "\n",
    "# preprocess by centering jets and normalizing pts\n",
    "for x in X:\n",
    "    mask = x[:,0] > 0\n",
    "    yphi_avg = np.average(x[mask,1:3], weights=x[mask,0], axis=0)\n",
    "    x[mask,1:3] -= yphi_avg\n",
    "    x[mask,0] /= x[:,0].sum()\n",
    "\n",
    "# handle particle id channel\n",
    "if use_pids:\n",
    "    remap_pids(X, pid_i=3)\n",
    "else:\n",
    "    X = X[:,:,:3]\n",
    "\n",
    "print('Finished preprocessing')\n",
    "\n",
    "# do train/val/test split \n",
    "(X_train, X_val, X_test,\n",
    " Y_train, Y_val, Y_test) = data_split(X, Y, val=val, test=test)\n",
    "\n",
    "print('Done train/val/test split')\n",
    "print('Model summary:')\n",
    "\n",
    "# build architecture\n",
    "pfn = PFN(input_dim=X.shape[-1], Phi_sizes=Phi_sizes, F_sizes=F_sizes)\n",
    "\n",
    "# train model\n",
    "pfn.fit(X_train, Y_train,\n",
    "          epochs=num_epoch,\n",
    "          batch_size=batch_size,\n",
    "          validation_data=(X_val, Y_val),\n",
    "          verbose=1)\n",
    "\n",
    "# get predictions on test data\n",
    "preds = pfn.predict(X_test, batch_size=1000)\n",
    "\n",
    "# get ROC curve if we have sklearn\n",
    "if roc_curve:\n",
    "    pfn_fp, pfn_tp, threshs = roc_curve(Y_test[:,1], preds[:,1])\n",
    "\n",
    "    # get area under the ROC curve\n",
    "    auc = roc_auc_score(Y_test[:,1], preds[:,1])\n",
    "    print()\n",
    "    print('PFN AUC:', auc)\n",
    "    print()\n",
    "\n",
    "    # make ROC curve plot if we have matplotlib\n",
    "    if plt:\n",
    "\n",
    "        # get multiplicity and mass for comparison\n",
    "        masses = np.asarray([ef.ms_from_p4s(ef.p4s_from_ptyphims(x).sum(axis=0)) for x in X])\n",
    "        mults = np.asarray([np.count_nonzero(x[:,0]) for x in X])\n",
    "        mass_fp, mass_tp, threshs = roc_curve(Y[:,1], -masses)\n",
    "        mult_fp, mult_tp, threshs = roc_curve(Y[:,1], -mults)\n",
    "\n",
    "        # some nicer plot settings \n",
    "        plt.rcParams['figure.figsize'] = (4,4)\n",
    "        plt.rcParams['font.family'] = 'serif'\n",
    "        plt.rcParams['figure.autolayout'] = True\n",
    "\n",
    "        # plot the ROC curves\n",
    "        plt.plot(pfn_tp, 1-pfn_fp, '-', color='black', label='PFN')\n",
    "        plt.plot(mass_tp, 1-mass_fp, '-', color='blue', label='Jet Mass')\n",
    "        plt.plot(mult_tp, 1-mult_fp, '-', color='red', label='Multiplicity')\n",
    "\n",
    "        # axes labels\n",
    "        plt.xlabel('Quark Jet Efficiency')\n",
    "        plt.ylabel('Gluon Jet Rejection')\n",
    "\n",
    "        # axes limits\n",
    "        plt.xlim(0, 1)\n",
    "        plt.ylim(0, 1)\n",
    "\n",
    "        # make legend and show plot\n",
    "        plt.legend(loc='lower left', frameon=False)\n",
    "        plt.show()"
   ]
  },
  {
   "cell_type": "markdown",
   "metadata": {
    "colab_type": "text",
    "id": "vkItZ3ZUPUu6"
   },
   "source": [
    "AUC plot"
   ]
  },
  {
   "cell_type": "code",
   "execution_count": 51,
   "metadata": {
    "colab": {
     "base_uri": "https://localhost:8080/",
     "height": 297
    },
    "colab_type": "code",
    "id": "9JTa2Y_wPTl4",
    "outputId": "246bf11c-59e5-4c66-d865-a2685072f2cf"
   },
   "outputs": [
    {
     "data": {
      "image/png": "[encoded data removed]",
      "text/plain": [
       "<Figure size 288x288 with 1 Axes>"
      ]
     },
     "metadata": {
      "needs_background": "light"
     },
     "output_type": "display_data"
    }
   ],
   "source": [
    "plt.plot([1, 2, 3, 4, 5], [0.5532831179580651, 0.5206707364879795, 0.5045980551536546, 0.5180404659050826, 0.5602227513238003], \"r--o\")\n",
    "plt.axis([0, 6, 0.5, 0.58])\n",
    "plt.xlabel('Bin')\n",
    "plt.ylabel('AUC')\n",
    "plt.show()"
   ]
  },
  {
   "cell_type": "markdown",
   "metadata": {},
   "source": [
    "**Signal Injection**"
   ]
  },
  {
   "cell_type": "markdown",
   "metadata": {},
   "source": [
    "Pull events with 2 gluons"
   ]
  },
  {
   "cell_type": "code",
   "execution_count": 30,
   "metadata": {},
   "outputs": [],
   "source": [
    "indexes_gluon_events = []\n",
    "\n",
    "index = 0\n",
    "for event in event_jet_labels_2:\n",
    "    if event[0] == 21 and event[1] == 21:\n",
    "        indexes_gluon_events.append(index)\n",
    "    index += 1\n",
    "\n",
    "event_list_2_gluons = [event_list_2[j] for j in indexes_gluon_events]\n",
    "sum_mass_events_2_gluons = [sum_mass_events_2[j] for j in indexes_gluon_events]"
   ]
  },
  {
   "cell_type": "code",
   "execution_count": 31,
   "metadata": {},
   "outputs": [
    {
     "name": "stdout",
     "output_type": "stream",
     "text": [
      "8650\n",
      "8650\n"
     ]
    }
   ],
   "source": [
    "print(len(event_list_2_gluons))\n",
    "print(len(sum_mass_events_2_gluons))"
   ]
  },
  {
   "cell_type": "markdown",
   "metadata": {},
   "source": [
    "Sort into mass bins"
   ]
  },
  {
   "cell_type": "code",
   "execution_count": 32,
   "metadata": {},
   "outputs": [],
   "source": [
    "index_bin_1_gluon = []\n",
    "index_bin_2_gluon = []\n",
    "index_bin_3_gluon = []\n",
    "index_bin_4_gluon = [] \n",
    "index_bin_5_gluon = []\n",
    "index_bin_6_gluon = []\n",
    "\n",
    "i = 0\n",
    "for event_mass in sum_mass_events_2_gluons:\n",
    "    if event_mass > 64.67 and event_mass <= 700:\n",
    "        index_bin_1_gluon.append(i)\n",
    "    elif event_mass > 700 and event_mass <= 800:\n",
    "        index_bin_2_gluon.append(i)\n",
    "    elif event_mass > 800 and event_mass <= 900:\n",
    "        index_bin_3_gluon.append(i)\n",
    "    elif event_mass > 900 and event_mass <= 1000:\n",
    "        index_bin_4_gluon.append(i)\n",
    "    elif event_mass > 1000 and event_mass <= 1264.67:\n",
    "        index_bin_5_gluon.append(i)\n",
    "    elif event_mass > 1264.67 and event_mass <= 2624.1:\n",
    "        index_bin_6_gluon.append(i)\n",
    "        \n",
    "    i += 1"
   ]
  },
  {
   "cell_type": "code",
   "execution_count": 33,
   "metadata": {},
   "outputs": [
    {
     "name": "stdout",
     "output_type": "stream",
     "text": [
      "865\n",
      "2683\n",
      "2784\n",
      "1091\n",
      "966\n",
      "261\n"
     ]
    }
   ],
   "source": [
    "print(len(index_bin_1_gluon))\n",
    "print(len(index_bin_2_gluon))\n",
    "print(len(index_bin_3_gluon))\n",
    "print(len(index_bin_4_gluon))\n",
    "print(len(index_bin_5_gluon))\n",
    "print(len(index_bin_6_gluon))"
   ]
  },
  {
   "cell_type": "markdown",
   "metadata": {},
   "source": [
    "Grab all events from mass bin 3, insert into mass bins we already have"
   ]
  },
  {
   "cell_type": "code",
   "execution_count": 34,
   "metadata": {},
   "outputs": [],
   "source": [
    "events_bin3_gluons = [event_list_2_gluons[j] for j in index_bin_3_gluon]"
   ]
  },
  {
   "cell_type": "code",
   "execution_count": 35,
   "metadata": {},
   "outputs": [
    {
     "data": {
      "text/plain": [
       "2784"
      ]
     },
     "execution_count": 35,
     "metadata": {},
     "output_type": "execute_result"
    }
   ],
   "source": [
    "len(events_bin3_gluons)"
   ]
  },
  {
   "cell_type": "code",
   "execution_count": 36,
   "metadata": {},
   "outputs": [],
   "source": [
    "events_bin3_gluons_array = np.array(events_bin3_gluons)"
   ]
  },
  {
   "cell_type": "code",
   "execution_count": 37,
   "metadata": {},
   "outputs": [
    {
     "data": {
      "text/plain": [
       "(2784, 2)"
      ]
     },
     "execution_count": 37,
     "metadata": {},
     "output_type": "execute_result"
    }
   ],
   "source": [
    "events_bin3_gluons_array.shape"
   ]
  },
  {
   "cell_type": "code",
   "execution_count": 38,
   "metadata": {},
   "outputs": [],
   "source": [
    "jet_bin3_gluons = []\n",
    "for event in events_bin3_gluons:\n",
    "    for jet in event:\n",
    "        jet_bin3_gluons.append(jet)"
   ]
  },
  {
   "cell_type": "code",
   "execution_count": 39,
   "metadata": {},
   "outputs": [
    {
     "data": {
      "text/plain": [
       "5568"
      ]
     },
     "execution_count": 39,
     "metadata": {},
     "output_type": "execute_result"
    }
   ],
   "source": [
    "len(jet_bin3_gluons)"
   ]
  },
  {
   "cell_type": "code",
   "execution_count": 110,
   "metadata": {},
   "outputs": [],
   "source": [
    "for jet in jet_bin3_gluons:\n",
    "    jet_mass_bin3.append(jet)"
   ]
  },
  {
   "cell_type": "code",
   "execution_count": 111,
   "metadata": {},
   "outputs": [
    {
     "data": {
      "text/plain": [
       "39648"
      ]
     },
     "execution_count": 111,
     "metadata": {},
     "output_type": "execute_result"
    }
   ],
   "source": [
    "len(jet_mass_bin3)"
   ]
  },
  {
   "cell_type": "code",
   "execution_count": 112,
   "metadata": {},
   "outputs": [],
   "source": [
    "jet_mass_bin3 = list(jet_mass_bin3)"
   ]
  },
  {
   "cell_type": "code",
   "execution_count": 113,
   "metadata": {},
   "outputs": [
    {
     "name": "stdout",
     "output_type": "stream",
     "text": [
      "Mass bin 3 done\n"
     ]
    }
   ],
   "source": [
    "jet_array_3 = np.zeros((len(jet_mass_bin3),160,6))\n",
    "for i in range(len(jet_mass_bin3)):\n",
    "    for j in range(160):\n",
    "        for k in range(6):\n",
    "            try:\n",
    "                jet_array_3[i,j,k] = jet_mass_bin3[i][j][k]\n",
    "            except IndexError:\n",
    "                jet_array_3[i,j,k] = 0\n",
    "print(\"Mass bin 3 done\")"
   ]
  },
  {
   "cell_type": "markdown",
   "metadata": {},
   "source": [
    "Run PFN model"
   ]
  },
  {
   "cell_type": "code",
   "execution_count": 127,
   "metadata": {},
   "outputs": [],
   "source": [
    "#Bins 2 and 3\n",
    "X = np.concatenate([jet_array_2, jet_array_3])[:,:,:4]\n",
    "y = np.concatenate([np.ones(len(jet_array_2)), np.zeros(len(jet_array_3))])"
   ]
  },
  {
   "cell_type": "code",
   "execution_count": 128,
   "metadata": {},
   "outputs": [
    {
     "data": {
      "text/plain": [
       "(70778, 160, 4)"
      ]
     },
     "execution_count": 128,
     "metadata": {},
     "output_type": "execute_result"
    }
   ],
   "source": [
    "X.shape"
   ]
  },
  {
   "cell_type": "code",
   "execution_count": 129,
   "metadata": {},
   "outputs": [
    {
     "name": "stdout",
     "output_type": "stream",
     "text": [
      "Loaded quark and gluon jets\n",
      "Finished preprocessing\n",
      "Done train/val/test split\n",
      "Model summary:\n",
      "Model: \"model_11\"\n",
      "__________________________________________________________________________________________________\n",
      "Layer (type)                    Output Shape         Param #     Connected to                     \n",
      "==================================================================================================\n",
      "input (InputLayer)              (None, None, 4)      0                                            \n",
      "__________________________________________________________________________________________________\n",
      "tdist_0 (TimeDistributed)       (None, None, 100)    500         input[0][0]                      \n",
      "__________________________________________________________________________________________________\n",
      "activation_71 (Activation)      (None, None, 100)    0           tdist_0[0][0]                    \n",
      "__________________________________________________________________________________________________\n",
      "tdist_1 (TimeDistributed)       (None, None, 100)    10100       activation_71[0][0]              \n",
      "__________________________________________________________________________________________________\n",
      "activation_72 (Activation)      (None, None, 100)    0           tdist_1[0][0]                    \n",
      "__________________________________________________________________________________________________\n",
      "tdist_2 (TimeDistributed)       (None, None, 128)    12928       activation_72[0][0]              \n",
      "__________________________________________________________________________________________________\n",
      "mask (Lambda)                   (None, None)         0           input[0][0]                      \n",
      "__________________________________________________________________________________________________\n",
      "activation_73 (Activation)      (None, None, 128)    0           tdist_2[0][0]                    \n",
      "__________________________________________________________________________________________________\n",
      "sum (Dot)                       (None, 128)          0           mask[0][0]                       \n",
      "                                                                 activation_73[0][0]              \n",
      "__________________________________________________________________________________________________\n",
      "dense_0 (Dense)                 (None, 100)          12900       sum[0][0]                        \n",
      "__________________________________________________________________________________________________\n",
      "activation_74 (Activation)      (None, 100)          0           dense_0[0][0]                    \n",
      "__________________________________________________________________________________________________\n",
      "dense_1 (Dense)                 (None, 100)          10100       activation_74[0][0]              \n",
      "__________________________________________________________________________________________________\n",
      "activation_75 (Activation)      (None, 100)          0           dense_1[0][0]                    \n",
      "__________________________________________________________________________________________________\n",
      "dense_2 (Dense)                 (None, 100)          10100       activation_75[0][0]              \n",
      "__________________________________________________________________________________________________\n",
      "activation_76 (Activation)      (None, 100)          0           dense_2[0][0]                    \n",
      "__________________________________________________________________________________________________\n",
      "output (Dense)                  (None, 2)            202         activation_76[0][0]              \n",
      "__________________________________________________________________________________________________\n",
      "activation_77 (Activation)      (None, 2)            0           output[0][0]                     \n",
      "==================================================================================================\n",
      "Total params: 56,830\n",
      "Trainable params: 56,830\n",
      "Non-trainable params: 0\n",
      "__________________________________________________________________________________________________\n",
      "Train on 20000 samples, validate on 47778 samples\n",
      "Epoch 1/10\n",
      "20000/20000 [==============================] - 3s 143us/step - loss: 0.8923 - acc: 0.5337 - val_loss: 0.6875 - val_acc: 0.5606\n",
      "Epoch 2/10\n",
      "20000/20000 [==============================] - 2s 107us/step - loss: 0.6879 - acc: 0.5517 - val_loss: 0.6841 - val_acc: 0.5591\n",
      "Epoch 3/10\n",
      "20000/20000 [==============================] - 2s 106us/step - loss: 0.6879 - acc: 0.5499 - val_loss: 0.6952 - val_acc: 0.5602\n",
      "Epoch 4/10\n",
      "20000/20000 [==============================] - 2s 106us/step - loss: 0.6885 - acc: 0.5468 - val_loss: 0.6842 - val_acc: 0.5581\n",
      "Epoch 5/10\n",
      "20000/20000 [==============================] - 2s 106us/step - loss: 0.6873 - acc: 0.5504 - val_loss: 0.7002 - val_acc: 0.4587\n",
      "Epoch 6/10\n",
      "20000/20000 [==============================] - 2s 107us/step - loss: 0.6896 - acc: 0.5398 - val_loss: 0.6843 - val_acc: 0.5601\n",
      "Epoch 7/10\n",
      "20000/20000 [==============================] - 2s 106us/step - loss: 0.6861 - acc: 0.5543 - val_loss: 0.6894 - val_acc: 0.5605\n",
      "Epoch 8/10\n",
      "20000/20000 [==============================] - 2s 107us/step - loss: 0.6888 - acc: 0.5497 - val_loss: 0.6863 - val_acc: 0.5550\n",
      "Epoch 9/10\n",
      "20000/20000 [==============================] - 2s 106us/step - loss: 0.6870 - acc: 0.5509 - val_loss: 0.6837 - val_acc: 0.5597\n",
      "Epoch 10/10\n",
      "20000/20000 [==============================] - 2s 106us/step - loss: 0.6842 - acc: 0.5594 - val_loss: 0.6843 - val_acc: 0.5607\n",
      "\n",
      "PFN AUC: 0.542236688931837\n",
      "\n"
     ]
    },
    {
     "name": "stderr",
     "output_type": "stream",
     "text": [
      "/usr/local/lib/python3.5/dist-packages/matplotlib/figure.py:2369: UserWarning: This figure includes Axes that are not compatible with tight_layout, so results might be incorrect.\n",
      "  warnings.warn(\"This figure includes Axes that are not compatible \"\n"
     ]
    },
    {
     "data": {
      "image/png": "[encoded data removed]",
      "text/plain": [
       "<Figure size 288x288 with 1 Axes>"
      ]
     },
     "metadata": {
      "needs_background": "light"
     },
     "output_type": "display_data"
    }
   ],
   "source": [
    "#Bins 2 and 3\n",
    "################################### SETTINGS ###################################\n",
    "# the commented values correspond to those in 1810.05165\n",
    "###############################################################################\n",
    "\n",
    "# data controls, can go up to 2000000 for full dataset\n",
    "train, val, test = 20000, 47778, 3000\n",
    "# train, val, test = 1000000, 200000, 200000\n",
    "use_pids = True\n",
    "\n",
    "# network architecture parameters\n",
    "Phi_sizes, F_sizes = (100, 100, 128), (100, 100, 100)\n",
    "# Phi_sizes, F_sizes = (100, 100, 256), (100, 100, 100)\n",
    "\n",
    "# network training parameters\n",
    "num_epoch = 10\n",
    "batch_size = 500\n",
    "\n",
    "################################################################################\n",
    "\n",
    "# convert labels to categorical\n",
    "Y = to_categorical(y, num_classes=2)\n",
    "\n",
    "print('Loaded quark and gluon jets')\n",
    "\n",
    "# preprocess by centering jets and normalizing pts\n",
    "for x in X:\n",
    "    mask = x[:,0] > 0\n",
    "    yphi_avg = np.average(x[mask,1:3], weights=x[mask,0], axis=0)\n",
    "    x[mask,1:3] -= yphi_avg\n",
    "    x[mask,0] /= x[:,0].sum()\n",
    "\n",
    "# handle particle id channel\n",
    "if use_pids:\n",
    "    remap_pids(X, pid_i=3)\n",
    "else:\n",
    "    X = X[:,:,:3]\n",
    "\n",
    "print('Finished preprocessing')\n",
    "\n",
    "# do train/val/test split \n",
    "(X_train, X_val, X_test,\n",
    " Y_train, Y_val, Y_test) = data_split(X, Y, val=val, test=test)\n",
    "\n",
    "print('Done train/val/test split')\n",
    "print('Model summary:')\n",
    "\n",
    "# build architecture\n",
    "pfn = PFN(input_dim=X.shape[-1], Phi_sizes=Phi_sizes, F_sizes=F_sizes)\n",
    "\n",
    "# train model\n",
    "pfn.fit(X_train, Y_train,\n",
    "          epochs=num_epoch,\n",
    "          batch_size=batch_size,\n",
    "          validation_data=(X_val, Y_val),\n",
    "          verbose=1)\n",
    "\n",
    "# get predictions on test data\n",
    "preds = pfn.predict(X_test, batch_size=1000)\n",
    "\n",
    "# get ROC curve if we have sklearn\n",
    "if roc_curve:\n",
    "    pfn_fp, pfn_tp, threshs = roc_curve(Y_test[:,1], preds[:,1])\n",
    "\n",
    "    # get area under the ROC curve\n",
    "    auc = roc_auc_score(Y_test[:,1], preds[:,1])\n",
    "    print()\n",
    "    print('PFN AUC:', auc)\n",
    "    print()\n",
    "\n",
    "    # make ROC curve plot if we have matplotlib\n",
    "    if plt:\n",
    "\n",
    "        # get multiplicity and mass for comparison\n",
    "        masses = np.asarray([ef.ms_from_p4s(ef.p4s_from_ptyphims(x).sum(axis=0)) for x in X])\n",
    "        mults = np.asarray([np.count_nonzero(x[:,0]) for x in X])\n",
    "        mass_fp, mass_tp, threshs = roc_curve(Y[:,1], -masses)\n",
    "        mult_fp, mult_tp, threshs = roc_curve(Y[:,1], -mults)\n",
    "\n",
    "        # some nicer plot settings \n",
    "        plt.rcParams['figure.figsize'] = (4,4)\n",
    "        plt.rcParams['font.family'] = 'serif'\n",
    "        plt.rcParams['figure.autolayout'] = True\n",
    "\n",
    "        # plot the ROC curves\n",
    "        plt.plot(pfn_tp, 1-pfn_fp, '-', color='black', label='PFN')\n",
    "        plt.plot(mass_tp, 1-mass_fp, '-', color='blue', label='Jet Mass')\n",
    "        plt.plot(mult_tp, 1-mult_fp, '-', color='red', label='Multiplicity')\n",
    "\n",
    "        # axes labels\n",
    "        plt.xlabel('Quark Jet Efficiency')\n",
    "        plt.ylabel('Gluon Jet Rejection')\n",
    "\n",
    "        # axes limits\n",
    "        plt.xlim(0, 1)\n",
    "        plt.ylim(0, 1)\n",
    "\n",
    "        # make legend and show plot\n",
    "        plt.legend(loc='lower left', frameon=False)\n",
    "        plt.show()"
   ]
  },
  {
   "cell_type": "code",
   "execution_count": 130,
   "metadata": {},
   "outputs": [],
   "source": [
    "#Bins 3 and 4\n",
    "X = np.concatenate([jet_array_3, jet_array_4])[:,:,:4]\n",
    "y = np.concatenate([np.ones(len(jet_array_3)), np.zeros(len(jet_array_4))])"
   ]
  },
  {
   "cell_type": "code",
   "execution_count": 131,
   "metadata": {},
   "outputs": [
    {
     "data": {
      "text/plain": [
       "(55690, 160, 4)"
      ]
     },
     "execution_count": 131,
     "metadata": {},
     "output_type": "execute_result"
    }
   ],
   "source": [
    "X.shape"
   ]
  },
  {
   "cell_type": "code",
   "execution_count": 132,
   "metadata": {},
   "outputs": [
    {
     "name": "stdout",
     "output_type": "stream",
     "text": [
      "Loaded quark and gluon jets\n",
      "Finished preprocessing\n",
      "Done train/val/test split\n",
      "Model summary:\n",
      "Model: \"model_12\"\n",
      "__________________________________________________________________________________________________\n",
      "Layer (type)                    Output Shape         Param #     Connected to                     \n",
      "==================================================================================================\n",
      "input (InputLayer)              (None, None, 4)      0                                            \n",
      "__________________________________________________________________________________________________\n",
      "tdist_0 (TimeDistributed)       (None, None, 100)    500         input[0][0]                      \n",
      "__________________________________________________________________________________________________\n",
      "activation_78 (Activation)      (None, None, 100)    0           tdist_0[0][0]                    \n",
      "__________________________________________________________________________________________________\n",
      "tdist_1 (TimeDistributed)       (None, None, 100)    10100       activation_78[0][0]              \n",
      "__________________________________________________________________________________________________\n",
      "activation_79 (Activation)      (None, None, 100)    0           tdist_1[0][0]                    \n",
      "__________________________________________________________________________________________________\n",
      "tdist_2 (TimeDistributed)       (None, None, 128)    12928       activation_79[0][0]              \n",
      "__________________________________________________________________________________________________\n",
      "mask (Lambda)                   (None, None)         0           input[0][0]                      \n",
      "__________________________________________________________________________________________________\n",
      "activation_80 (Activation)      (None, None, 128)    0           tdist_2[0][0]                    \n",
      "__________________________________________________________________________________________________\n",
      "sum (Dot)                       (None, 128)          0           mask[0][0]                       \n",
      "                                                                 activation_80[0][0]              \n",
      "__________________________________________________________________________________________________\n",
      "dense_0 (Dense)                 (None, 100)          12900       sum[0][0]                        \n",
      "__________________________________________________________________________________________________\n",
      "activation_81 (Activation)      (None, 100)          0           dense_0[0][0]                    \n",
      "__________________________________________________________________________________________________\n",
      "dense_1 (Dense)                 (None, 100)          10100       activation_81[0][0]              \n",
      "__________________________________________________________________________________________________\n",
      "activation_82 (Activation)      (None, 100)          0           dense_1[0][0]                    \n",
      "__________________________________________________________________________________________________\n",
      "dense_2 (Dense)                 (None, 100)          10100       activation_82[0][0]              \n",
      "__________________________________________________________________________________________________\n",
      "activation_83 (Activation)      (None, 100)          0           dense_2[0][0]                    \n",
      "__________________________________________________________________________________________________\n",
      "output (Dense)                  (None, 2)            202         activation_83[0][0]              \n",
      "__________________________________________________________________________________________________\n",
      "activation_84 (Activation)      (None, 2)            0           output[0][0]                     \n",
      "==================================================================================================\n",
      "Total params: 56,830\n",
      "Trainable params: 56,830\n",
      "Non-trainable params: 0\n",
      "__________________________________________________________________________________________________\n",
      "Train on 20000 samples, validate on 32690 samples\n",
      "Epoch 1/10\n",
      "20000/20000 [==============================] - 3s 128us/step - loss: 0.8706 - acc: 0.6569 - val_loss: 0.6132 - val_acc: 0.7097\n",
      "Epoch 2/10\n",
      "20000/20000 [==============================] - 2s 90us/step - loss: 0.6123 - acc: 0.7157 - val_loss: 0.6064 - val_acc: 0.7098\n",
      "Epoch 3/10\n",
      "20000/20000 [==============================] - 2s 90us/step - loss: 0.6037 - acc: 0.7162 - val_loss: 0.6104 - val_acc: 0.7098\n",
      "Epoch 4/10\n",
      "20000/20000 [==============================] - 2s 90us/step - loss: 0.5992 - acc: 0.7162 - val_loss: 0.6063 - val_acc: 0.7098\n",
      "Epoch 5/10\n",
      "20000/20000 [==============================] - 2s 90us/step - loss: 0.5997 - acc: 0.7161 - val_loss: 0.6083 - val_acc: 0.7098\n",
      "Epoch 6/10\n",
      "20000/20000 [==============================] - 2s 90us/step - loss: 0.5987 - acc: 0.7163 - val_loss: 0.6033 - val_acc: 0.7096\n",
      "Epoch 7/10\n",
      "20000/20000 [==============================] - 2s 90us/step - loss: 0.6109 - acc: 0.7142 - val_loss: 0.6099 - val_acc: 0.7097\n",
      "Epoch 8/10\n",
      "20000/20000 [==============================] - 2s 90us/step - loss: 0.6046 - acc: 0.7161 - val_loss: 0.6030 - val_acc: 0.7098\n",
      "Epoch 9/10\n",
      "20000/20000 [==============================] - 2s 92us/step - loss: 0.5977 - acc: 0.7163 - val_loss: 0.6052 - val_acc: 0.7098\n",
      "Epoch 10/10\n",
      "20000/20000 [==============================] - 2s 93us/step - loss: 0.6004 - acc: 0.7164 - val_loss: 0.6069 - val_acc: 0.7098\n",
      "\n",
      "PFN AUC: 0.5146024911628694\n",
      "\n"
     ]
    },
    {
     "name": "stderr",
     "output_type": "stream",
     "text": [
      "/usr/local/lib/python3.5/dist-packages/matplotlib/figure.py:2369: UserWarning: This figure includes Axes that are not compatible with tight_layout, so results might be incorrect.\n",
      "  warnings.warn(\"This figure includes Axes that are not compatible \"\n"
     ]
    },
    {
     "data": {
      "image/png": "[encoded data removed]",
      "text/plain": [
       "<Figure size 288x288 with 1 Axes>"
      ]
     },
     "metadata": {
      "needs_background": "light"
     },
     "output_type": "display_data"
    }
   ],
   "source": [
    "#Bins 3 and 4\n",
    "################################### SETTINGS ###################################\n",
    "# the commented values correspond to those in 1810.05165\n",
    "###############################################################################\n",
    "\n",
    "# data controls, can go up to 2000000 for full dataset\n",
    "train, val, test = 20000, 32690, 3000\n",
    "# train, val, test = 1000000, 200000, 200000\n",
    "use_pids = True\n",
    "\n",
    "# network architecture parameters\n",
    "Phi_sizes, F_sizes = (100, 100, 128), (100, 100, 100)\n",
    "# Phi_sizes, F_sizes = (100, 100, 256), (100, 100, 100)\n",
    "\n",
    "# network training parameters\n",
    "num_epoch = 10\n",
    "batch_size = 500\n",
    "\n",
    "################################################################################\n",
    "\n",
    "# convert labels to categorical\n",
    "Y = to_categorical(y, num_classes=2)\n",
    "\n",
    "print('Loaded quark and gluon jets')\n",
    "\n",
    "# preprocess by centering jets and normalizing pts\n",
    "for x in X:\n",
    "    mask = x[:,0] > 0\n",
    "    yphi_avg = np.average(x[mask,1:3], weights=x[mask,0], axis=0)\n",
    "    x[mask,1:3] -= yphi_avg\n",
    "    x[mask,0] /= x[:,0].sum()\n",
    "\n",
    "# handle particle id channel\n",
    "if use_pids:\n",
    "    remap_pids(X, pid_i=3)\n",
    "else:\n",
    "    X = X[:,:,:3]\n",
    "\n",
    "print('Finished preprocessing')\n",
    "\n",
    "# do train/val/test split \n",
    "(X_train, X_val, X_test,\n",
    " Y_train, Y_val, Y_test) = data_split(X, Y, val=val, test=test)\n",
    "\n",
    "print('Done train/val/test split')\n",
    "print('Model summary:')\n",
    "\n",
    "# build architecture\n",
    "pfn = PFN(input_dim=X.shape[-1], Phi_sizes=Phi_sizes, F_sizes=F_sizes)\n",
    "\n",
    "# train model\n",
    "pfn.fit(X_train, Y_train,\n",
    "          epochs=num_epoch,\n",
    "          batch_size=batch_size,\n",
    "          validation_data=(X_val, Y_val),\n",
    "          verbose=1)\n",
    "\n",
    "# get predictions on test data\n",
    "preds = pfn.predict(X_test, batch_size=1000)\n",
    "\n",
    "# get ROC curve if we have sklearn\n",
    "if roc_curve:\n",
    "    pfn_fp, pfn_tp, threshs = roc_curve(Y_test[:,1], preds[:,1])\n",
    "\n",
    "    # get area under the ROC curve\n",
    "    auc = roc_auc_score(Y_test[:,1], preds[:,1])\n",
    "    print()\n",
    "    print('PFN AUC:', auc)\n",
    "    print()\n",
    "\n",
    "    # make ROC curve plot if we have matplotlib\n",
    "    if plt:\n",
    "\n",
    "        # get multiplicity and mass for comparison\n",
    "        masses = np.asarray([ef.ms_from_p4s(ef.p4s_from_ptyphims(x).sum(axis=0)) for x in X])\n",
    "        mults = np.asarray([np.count_nonzero(x[:,0]) for x in X])\n",
    "        mass_fp, mass_tp, threshs = roc_curve(Y[:,1], -masses)\n",
    "        mult_fp, mult_tp, threshs = roc_curve(Y[:,1], -mults)\n",
    "\n",
    "        # some nicer plot settings \n",
    "        plt.rcParams['figure.figsize'] = (4,4)\n",
    "        plt.rcParams['font.family'] = 'serif'\n",
    "        plt.rcParams['figure.autolayout'] = True\n",
    "\n",
    "        # plot the ROC curves\n",
    "        plt.plot(pfn_tp, 1-pfn_fp, '-', color='black', label='PFN')\n",
    "        plt.plot(mass_tp, 1-mass_fp, '-', color='blue', label='Jet Mass')\n",
    "        plt.plot(mult_tp, 1-mult_fp, '-', color='red', label='Multiplicity')\n",
    "\n",
    "        # axes labels\n",
    "        plt.xlabel('Quark Jet Efficiency')\n",
    "        plt.ylabel('Gluon Jet Rejection')\n",
    "\n",
    "        # axes limits\n",
    "        plt.xlim(0, 1)\n",
    "        plt.ylim(0, 1)\n",
    "\n",
    "        # make legend and show plot\n",
    "        plt.legend(loc='lower left', frameon=False)\n",
    "        plt.show()"
   ]
  },
  {
   "cell_type": "markdown",
   "metadata": {},
   "source": [
    "Bins 2-3: w/o signal: 0.5206707364879795, w/ signal added once: 0.542236688931837\n",
    "\n",
    "Bins 3-4: w/o signal: 0.5045980551536546, w/ signal added once: 0.5146024911628694"
   ]
  },
  {
   "cell_type": "markdown",
   "metadata": {},
   "source": [
    "Try adding signal twice"
   ]
  },
  {
   "cell_type": "code",
   "execution_count": 133,
   "metadata": {},
   "outputs": [],
   "source": [
    "for jet in jet_bin3_gluons:\n",
    "    jet_mass_bin3.append(jet)"
   ]
  },
  {
   "cell_type": "code",
   "execution_count": 134,
   "metadata": {},
   "outputs": [
    {
     "data": {
      "text/plain": [
       "45216"
      ]
     },
     "execution_count": 134,
     "metadata": {},
     "output_type": "execute_result"
    }
   ],
   "source": [
    "len(jet_mass_bin3)"
   ]
  },
  {
   "cell_type": "code",
   "execution_count": 135,
   "metadata": {},
   "outputs": [],
   "source": [
    "jet_mass_bin3 = list(jet_mass_bin3)"
   ]
  },
  {
   "cell_type": "code",
   "execution_count": 136,
   "metadata": {},
   "outputs": [
    {
     "name": "stdout",
     "output_type": "stream",
     "text": [
      "Mass bin 3 done\n"
     ]
    }
   ],
   "source": [
    "jet_array_3 = np.zeros((len(jet_mass_bin3),160,6))\n",
    "for i in range(len(jet_mass_bin3)):\n",
    "    for j in range(160):\n",
    "        for k in range(6):\n",
    "            try:\n",
    "                jet_array_3[i,j,k] = jet_mass_bin3[i][j][k]\n",
    "            except IndexError:\n",
    "                jet_array_3[i,j,k] = 0\n",
    "print(\"Mass bin 3 done\")"
   ]
  },
  {
   "cell_type": "code",
   "execution_count": 137,
   "metadata": {},
   "outputs": [],
   "source": [
    "#Bins 2 and 3\n",
    "X = np.concatenate([jet_array_2, jet_array_3])[:,:,:4]\n",
    "y = np.concatenate([np.ones(len(jet_array_2)), np.zeros(len(jet_array_3))])"
   ]
  },
  {
   "cell_type": "code",
   "execution_count": 138,
   "metadata": {},
   "outputs": [
    {
     "data": {
      "text/plain": [
       "(76346, 160, 4)"
      ]
     },
     "execution_count": 138,
     "metadata": {},
     "output_type": "execute_result"
    }
   ],
   "source": [
    "X.shape"
   ]
  },
  {
   "cell_type": "code",
   "execution_count": 139,
   "metadata": {},
   "outputs": [
    {
     "name": "stdout",
     "output_type": "stream",
     "text": [
      "Loaded quark and gluon jets\n",
      "Finished preprocessing\n",
      "Done train/val/test split\n",
      "Model summary:\n",
      "Model: \"model_13\"\n",
      "__________________________________________________________________________________________________\n",
      "Layer (type)                    Output Shape         Param #     Connected to                     \n",
      "==================================================================================================\n",
      "input (InputLayer)              (None, None, 4)      0                                            \n",
      "__________________________________________________________________________________________________\n",
      "tdist_0 (TimeDistributed)       (None, None, 100)    500         input[0][0]                      \n",
      "__________________________________________________________________________________________________\n",
      "activation_85 (Activation)      (None, None, 100)    0           tdist_0[0][0]                    \n",
      "__________________________________________________________________________________________________\n",
      "tdist_1 (TimeDistributed)       (None, None, 100)    10100       activation_85[0][0]              \n",
      "__________________________________________________________________________________________________\n",
      "activation_86 (Activation)      (None, None, 100)    0           tdist_1[0][0]                    \n",
      "__________________________________________________________________________________________________\n",
      "tdist_2 (TimeDistributed)       (None, None, 128)    12928       activation_86[0][0]              \n",
      "__________________________________________________________________________________________________\n",
      "mask (Lambda)                   (None, None)         0           input[0][0]                      \n",
      "__________________________________________________________________________________________________\n",
      "activation_87 (Activation)      (None, None, 128)    0           tdist_2[0][0]                    \n",
      "__________________________________________________________________________________________________\n",
      "sum (Dot)                       (None, 128)          0           mask[0][0]                       \n",
      "                                                                 activation_87[0][0]              \n",
      "__________________________________________________________________________________________________\n",
      "dense_0 (Dense)                 (None, 100)          12900       sum[0][0]                        \n",
      "__________________________________________________________________________________________________\n",
      "activation_88 (Activation)      (None, 100)          0           dense_0[0][0]                    \n",
      "__________________________________________________________________________________________________\n",
      "dense_1 (Dense)                 (None, 100)          10100       activation_88[0][0]              \n",
      "__________________________________________________________________________________________________\n",
      "activation_89 (Activation)      (None, 100)          0           dense_1[0][0]                    \n",
      "__________________________________________________________________________________________________\n",
      "dense_2 (Dense)                 (None, 100)          10100       activation_89[0][0]              \n",
      "__________________________________________________________________________________________________\n",
      "activation_90 (Activation)      (None, 100)          0           dense_2[0][0]                    \n",
      "__________________________________________________________________________________________________\n",
      "output (Dense)                  (None, 2)            202         activation_90[0][0]              \n",
      "__________________________________________________________________________________________________\n",
      "activation_91 (Activation)      (None, 2)            0           output[0][0]                     \n",
      "==================================================================================================\n",
      "Total params: 56,830\n",
      "Trainable params: 56,830\n",
      "Non-trainable params: 0\n",
      "__________________________________________________________________________________________________\n",
      "Train on 20000 samples, validate on 53346 samples\n",
      "Epoch 1/10\n",
      "20000/20000 [==============================] - 3s 154us/step - loss: 0.7485 - acc: 0.5633 - val_loss: 0.6814 - val_acc: 0.5854\n",
      "Epoch 2/10\n",
      "20000/20000 [==============================] - 2s 112us/step - loss: 0.6788 - acc: 0.5865 - val_loss: 0.6944 - val_acc: 0.4977\n",
      "Epoch 3/10\n",
      "20000/20000 [==============================] - 2s 112us/step - loss: 0.6805 - acc: 0.5791 - val_loss: 0.6715 - val_acc: 0.5948\n",
      "Epoch 4/10\n",
      "20000/20000 [==============================] - 2s 113us/step - loss: 0.6817 - acc: 0.5700 - val_loss: 0.6715 - val_acc: 0.5948\n",
      "Epoch 5/10\n",
      "20000/20000 [==============================] - 2s 112us/step - loss: 0.6813 - acc: 0.5762 - val_loss: 0.6754 - val_acc: 0.5946\n",
      "Epoch 6/10\n",
      "20000/20000 [==============================] - 2s 112us/step - loss: 0.6789 - acc: 0.5845 - val_loss: 0.6750 - val_acc: 0.5911\n",
      "Epoch 7/10\n",
      "20000/20000 [==============================] - 2s 112us/step - loss: 0.6757 - acc: 0.5865 - val_loss: 0.6775 - val_acc: 0.5914\n",
      "Epoch 8/10\n",
      "20000/20000 [==============================] - 2s 112us/step - loss: 0.6751 - acc: 0.5880 - val_loss: 0.6717 - val_acc: 0.5946\n",
      "Epoch 9/10\n",
      "20000/20000 [==============================] - 2s 112us/step - loss: 0.6748 - acc: 0.5881 - val_loss: 0.6737 - val_acc: 0.5918\n",
      "Epoch 10/10\n",
      "20000/20000 [==============================] - 2s 112us/step - loss: 0.6751 - acc: 0.5860 - val_loss: 0.6740 - val_acc: 0.5952\n",
      "\n",
      "PFN AUC: 0.5616150265480542\n",
      "\n"
     ]
    },
    {
     "name": "stderr",
     "output_type": "stream",
     "text": [
      "/usr/local/lib/python3.5/dist-packages/matplotlib/figure.py:2369: UserWarning: This figure includes Axes that are not compatible with tight_layout, so results might be incorrect.\n",
      "  warnings.warn(\"This figure includes Axes that are not compatible \"\n"
     ]
    },
    {
     "data": {
      "image/png": "[encoded data removed]",
      "text/plain": [
       "<Figure size 288x288 with 1 Axes>"
      ]
     },
     "metadata": {
      "needs_background": "light"
     },
     "output_type": "display_data"
    }
   ],
   "source": [
    "#Bins 2 and 3\n",
    "################################### SETTINGS ###################################\n",
    "# the commented values correspond to those in 1810.05165\n",
    "###############################################################################\n",
    "\n",
    "# data controls, can go up to 2000000 for full dataset\n",
    "train, val, test = 20000, 53346, 3000\n",
    "# train, val, test = 1000000, 200000, 200000\n",
    "use_pids = True\n",
    "\n",
    "# network architecture parameters\n",
    "Phi_sizes, F_sizes = (100, 100, 128), (100, 100, 100)\n",
    "# Phi_sizes, F_sizes = (100, 100, 256), (100, 100, 100)\n",
    "\n",
    "# network training parameters\n",
    "num_epoch = 10\n",
    "batch_size = 500\n",
    "\n",
    "################################################################################\n",
    "\n",
    "# convert labels to categorical\n",
    "Y = to_categorical(y, num_classes=2)\n",
    "\n",
    "print('Loaded quark and gluon jets')\n",
    "\n",
    "# preprocess by centering jets and normalizing pts\n",
    "for x in X:\n",
    "    mask = x[:,0] > 0\n",
    "    yphi_avg = np.average(x[mask,1:3], weights=x[mask,0], axis=0)\n",
    "    x[mask,1:3] -= yphi_avg\n",
    "    x[mask,0] /= x[:,0].sum()\n",
    "\n",
    "# handle particle id channel\n",
    "if use_pids:\n",
    "    remap_pids(X, pid_i=3)\n",
    "else:\n",
    "    X = X[:,:,:3]\n",
    "\n",
    "print('Finished preprocessing')\n",
    "\n",
    "# do train/val/test split \n",
    "(X_train, X_val, X_test,\n",
    " Y_train, Y_val, Y_test) = data_split(X, Y, val=val, test=test)\n",
    "\n",
    "print('Done train/val/test split')\n",
    "print('Model summary:')\n",
    "\n",
    "# build architecture\n",
    "pfn = PFN(input_dim=X.shape[-1], Phi_sizes=Phi_sizes, F_sizes=F_sizes)\n",
    "\n",
    "# train model\n",
    "pfn.fit(X_train, Y_train,\n",
    "          epochs=num_epoch,\n",
    "          batch_size=batch_size,\n",
    "          validation_data=(X_val, Y_val),\n",
    "          verbose=1)\n",
    "\n",
    "# get predictions on test data\n",
    "preds = pfn.predict(X_test, batch_size=1000)\n",
    "\n",
    "# get ROC curve if we have sklearn\n",
    "if roc_curve:\n",
    "    pfn_fp, pfn_tp, threshs = roc_curve(Y_test[:,1], preds[:,1])\n",
    "\n",
    "    # get area under the ROC curve\n",
    "    auc = roc_auc_score(Y_test[:,1], preds[:,1])\n",
    "    print()\n",
    "    print('PFN AUC:', auc)\n",
    "    print()\n",
    "\n",
    "    # make ROC curve plot if we have matplotlib\n",
    "    if plt:\n",
    "\n",
    "        # get multiplicity and mass for comparison\n",
    "        masses = np.asarray([ef.ms_from_p4s(ef.p4s_from_ptyphims(x).sum(axis=0)) for x in X])\n",
    "        mults = np.asarray([np.count_nonzero(x[:,0]) for x in X])\n",
    "        mass_fp, mass_tp, threshs = roc_curve(Y[:,1], -masses)\n",
    "        mult_fp, mult_tp, threshs = roc_curve(Y[:,1], -mults)\n",
    "\n",
    "        # some nicer plot settings \n",
    "        plt.rcParams['figure.figsize'] = (4,4)\n",
    "        plt.rcParams['font.family'] = 'serif'\n",
    "        plt.rcParams['figure.autolayout'] = True\n",
    "\n",
    "        # plot the ROC curves\n",
    "        plt.plot(pfn_tp, 1-pfn_fp, '-', color='black', label='PFN')\n",
    "        plt.plot(mass_tp, 1-mass_fp, '-', color='blue', label='Jet Mass')\n",
    "        plt.plot(mult_tp, 1-mult_fp, '-', color='red', label='Multiplicity')\n",
    "\n",
    "        # axes labels\n",
    "        plt.xlabel('Quark Jet Efficiency')\n",
    "        plt.ylabel('Gluon Jet Rejection')\n",
    "\n",
    "        # axes limits\n",
    "        plt.xlim(0, 1)\n",
    "        plt.ylim(0, 1)\n",
    "\n",
    "        # make legend and show plot\n",
    "        plt.legend(loc='lower left', frameon=False)\n",
    "        plt.show()"
   ]
  },
  {
   "cell_type": "code",
   "execution_count": 140,
   "metadata": {},
   "outputs": [],
   "source": [
    "#Bins 3 and 4\n",
    "X = np.concatenate([jet_array_3, jet_array_4])[:,:,:4]\n",
    "y = np.concatenate([np.ones(len(jet_array_3)), np.zeros(len(jet_array_4))])"
   ]
  },
  {
   "cell_type": "code",
   "execution_count": 141,
   "metadata": {},
   "outputs": [
    {
     "data": {
      "text/plain": [
       "(61258, 160, 4)"
      ]
     },
     "execution_count": 141,
     "metadata": {},
     "output_type": "execute_result"
    }
   ],
   "source": [
    "X.shape"
   ]
  },
  {
   "cell_type": "code",
   "execution_count": 142,
   "metadata": {},
   "outputs": [
    {
     "name": "stdout",
     "output_type": "stream",
     "text": [
      "Loaded quark and gluon jets\n",
      "Finished preprocessing\n",
      "Done train/val/test split\n",
      "Model summary:\n",
      "Model: \"model_14\"\n",
      "__________________________________________________________________________________________________\n",
      "Layer (type)                    Output Shape         Param #     Connected to                     \n",
      "==================================================================================================\n",
      "input (InputLayer)              (None, None, 4)      0                                            \n",
      "__________________________________________________________________________________________________\n",
      "tdist_0 (TimeDistributed)       (None, None, 100)    500         input[0][0]                      \n",
      "__________________________________________________________________________________________________\n",
      "activation_92 (Activation)      (None, None, 100)    0           tdist_0[0][0]                    \n",
      "__________________________________________________________________________________________________\n",
      "tdist_1 (TimeDistributed)       (None, None, 100)    10100       activation_92[0][0]              \n",
      "__________________________________________________________________________________________________\n",
      "activation_93 (Activation)      (None, None, 100)    0           tdist_1[0][0]                    \n",
      "__________________________________________________________________________________________________\n",
      "tdist_2 (TimeDistributed)       (None, None, 128)    12928       activation_93[0][0]              \n",
      "__________________________________________________________________________________________________\n",
      "mask (Lambda)                   (None, None)         0           input[0][0]                      \n",
      "__________________________________________________________________________________________________\n",
      "activation_94 (Activation)      (None, None, 128)    0           tdist_2[0][0]                    \n",
      "__________________________________________________________________________________________________\n",
      "sum (Dot)                       (None, 128)          0           mask[0][0]                       \n",
      "                                                                 activation_94[0][0]              \n",
      "__________________________________________________________________________________________________\n",
      "dense_0 (Dense)                 (None, 100)          12900       sum[0][0]                        \n",
      "__________________________________________________________________________________________________\n",
      "activation_95 (Activation)      (None, 100)          0           dense_0[0][0]                    \n",
      "__________________________________________________________________________________________________\n",
      "dense_1 (Dense)                 (None, 100)          10100       activation_95[0][0]              \n",
      "__________________________________________________________________________________________________\n",
      "activation_96 (Activation)      (None, 100)          0           dense_1[0][0]                    \n",
      "__________________________________________________________________________________________________\n",
      "dense_2 (Dense)                 (None, 100)          10100       activation_96[0][0]              \n",
      "__________________________________________________________________________________________________\n",
      "activation_97 (Activation)      (None, 100)          0           dense_2[0][0]                    \n",
      "__________________________________________________________________________________________________\n",
      "output (Dense)                  (None, 2)            202         activation_97[0][0]              \n",
      "__________________________________________________________________________________________________\n",
      "activation_98 (Activation)      (None, 2)            0           output[0][0]                     \n",
      "==================================================================================================\n",
      "Total params: 56,830\n",
      "Trainable params: 56,830\n",
      "Non-trainable params: 0\n",
      "__________________________________________________________________________________________________\n",
      "Train on 20000 samples, validate on 38258 samples\n",
      "Epoch 1/10\n",
      "20000/20000 [==============================] - 3s 143us/step - loss: 0.6955 - acc: 0.7084 - val_loss: 0.5802 - val_acc: 0.7384\n",
      "Epoch 2/10\n",
      "20000/20000 [==============================] - 2s 97us/step - loss: 0.5828 - acc: 0.7376 - val_loss: 0.5789 - val_acc: 0.7384\n",
      "Epoch 3/10\n",
      "20000/20000 [==============================] - 2s 97us/step - loss: 0.5884 - acc: 0.7376 - val_loss: 0.5762 - val_acc: 0.7384\n",
      "Epoch 4/10\n",
      "20000/20000 [==============================] - 2s 97us/step - loss: 0.5851 - acc: 0.7375 - val_loss: 0.5816 - val_acc: 0.7384\n",
      "Epoch 5/10\n",
      "20000/20000 [==============================] - 2s 97us/step - loss: 0.5782 - acc: 0.7377 - val_loss: 0.5789 - val_acc: 0.7384\n",
      "Epoch 6/10\n",
      "20000/20000 [==============================] - 2s 97us/step - loss: 0.5806 - acc: 0.7376 - val_loss: 0.5745 - val_acc: 0.7384\n",
      "Epoch 7/10\n",
      "20000/20000 [==============================] - 2s 97us/step - loss: 0.5761 - acc: 0.7377 - val_loss: 0.5742 - val_acc: 0.7384\n",
      "Epoch 8/10\n",
      "20000/20000 [==============================] - 2s 97us/step - loss: 0.5745 - acc: 0.7376 - val_loss: 0.5778 - val_acc: 0.7384\n",
      "Epoch 9/10\n",
      "20000/20000 [==============================] - 2s 97us/step - loss: 0.5790 - acc: 0.7376 - val_loss: 0.5769 - val_acc: 0.7384\n",
      "Epoch 10/10\n",
      "20000/20000 [==============================] - 2s 97us/step - loss: 0.5741 - acc: 0.7376 - val_loss: 0.5745 - val_acc: 0.7384\n",
      "\n",
      "PFN AUC: 0.5395342067292096\n",
      "\n"
     ]
    },
    {
     "name": "stderr",
     "output_type": "stream",
     "text": [
      "/usr/local/lib/python3.5/dist-packages/matplotlib/figure.py:2369: UserWarning: This figure includes Axes that are not compatible with tight_layout, so results might be incorrect.\n",
      "  warnings.warn(\"This figure includes Axes that are not compatible \"\n"
     ]
    },
    {
     "data": {
      "image/png": "[encoded data removed]",
      "text/plain": [
       "<Figure size 288x288 with 1 Axes>"
      ]
     },
     "metadata": {
      "needs_background": "light"
     },
     "output_type": "display_data"
    }
   ],
   "source": [
    "#Bins 3 and 4\n",
    "################################### SETTINGS ###################################\n",
    "# the commented values correspond to those in 1810.05165\n",
    "###############################################################################\n",
    "\n",
    "# data controls, can go up to 2000000 for full dataset\n",
    "train, val, test = 20000, 38258, 3000\n",
    "# train, val, test = 1000000, 200000, 200000\n",
    "use_pids = True\n",
    "\n",
    "# network architecture parameters\n",
    "Phi_sizes, F_sizes = (100, 100, 128), (100, 100, 100)\n",
    "# Phi_sizes, F_sizes = (100, 100, 256), (100, 100, 100)\n",
    "\n",
    "# network training parameters\n",
    "num_epoch = 10\n",
    "batch_size = 500\n",
    "\n",
    "################################################################################\n",
    "\n",
    "# convert labels to categorical\n",
    "Y = to_categorical(y, num_classes=2)\n",
    "\n",
    "print('Loaded quark and gluon jets')\n",
    "\n",
    "# preprocess by centering jets and normalizing pts\n",
    "for x in X:\n",
    "    mask = x[:,0] > 0\n",
    "    yphi_avg = np.average(x[mask,1:3], weights=x[mask,0], axis=0)\n",
    "    x[mask,1:3] -= yphi_avg\n",
    "    x[mask,0] /= x[:,0].sum()\n",
    "\n",
    "# handle particle id channel\n",
    "if use_pids:\n",
    "    remap_pids(X, pid_i=3)\n",
    "else:\n",
    "    X = X[:,:,:3]\n",
    "\n",
    "print('Finished preprocessing')\n",
    "\n",
    "# do train/val/test split \n",
    "(X_train, X_val, X_test,\n",
    " Y_train, Y_val, Y_test) = data_split(X, Y, val=val, test=test)\n",
    "\n",
    "print('Done train/val/test split')\n",
    "print('Model summary:')\n",
    "\n",
    "# build architecture\n",
    "pfn = PFN(input_dim=X.shape[-1], Phi_sizes=Phi_sizes, F_sizes=F_sizes)\n",
    "\n",
    "# train model\n",
    "pfn.fit(X_train, Y_train,\n",
    "          epochs=num_epoch,\n",
    "          batch_size=batch_size,\n",
    "          validation_data=(X_val, Y_val),\n",
    "          verbose=1)\n",
    "\n",
    "# get predictions on test data\n",
    "preds = pfn.predict(X_test, batch_size=1000)\n",
    "\n",
    "# get ROC curve if we have sklearn\n",
    "if roc_curve:\n",
    "    pfn_fp, pfn_tp, threshs = roc_curve(Y_test[:,1], preds[:,1])\n",
    "\n",
    "    # get area under the ROC curve\n",
    "    auc = roc_auc_score(Y_test[:,1], preds[:,1])\n",
    "    print()\n",
    "    print('PFN AUC:', auc)\n",
    "    print()\n",
    "\n",
    "    # make ROC curve plot if we have matplotlib\n",
    "    if plt:\n",
    "\n",
    "        # get multiplicity and mass for comparison\n",
    "        masses = np.asarray([ef.ms_from_p4s(ef.p4s_from_ptyphims(x).sum(axis=0)) for x in X])\n",
    "        mults = np.asarray([np.count_nonzero(x[:,0]) for x in X])\n",
    "        mass_fp, mass_tp, threshs = roc_curve(Y[:,1], -masses)\n",
    "        mult_fp, mult_tp, threshs = roc_curve(Y[:,1], -mults)\n",
    "\n",
    "        # some nicer plot settings \n",
    "        plt.rcParams['figure.figsize'] = (4,4)\n",
    "        plt.rcParams['font.family'] = 'serif'\n",
    "        plt.rcParams['figure.autolayout'] = True\n",
    "\n",
    "        # plot the ROC curves\n",
    "        plt.plot(pfn_tp, 1-pfn_fp, '-', color='black', label='PFN')\n",
    "        plt.plot(mass_tp, 1-mass_fp, '-', color='blue', label='Jet Mass')\n",
    "        plt.plot(mult_tp, 1-mult_fp, '-', color='red', label='Multiplicity')\n",
    "\n",
    "        # axes labels\n",
    "        plt.xlabel('Quark Jet Efficiency')\n",
    "        plt.ylabel('Gluon Jet Rejection')\n",
    "\n",
    "        # axes limits\n",
    "        plt.xlim(0, 1)\n",
    "        plt.ylim(0, 1)\n",
    "\n",
    "        # make legend and show plot\n",
    "        plt.legend(loc='lower left', frameon=False)\n",
    "        plt.show()"
   ]
  },
  {
   "cell_type": "markdown",
   "metadata": {},
   "source": [
    "Bins 2-3: w/o signal: 0.5206707364879795, w/ signal added twice: 0.5616150265480542\n",
    "\n",
    "Bins 3-4: w/o signal: 0.5045980551536546, w/ signal added twice: 0.5395342067292096"
   ]
  },
  {
   "cell_type": "markdown",
   "metadata": {},
   "source": [
    "Try adding signal 4 times"
   ]
  },
  {
   "cell_type": "code",
   "execution_count": 143,
   "metadata": {},
   "outputs": [],
   "source": [
    "for jet in jet_bin3_gluons:\n",
    "    jet_mass_bin3.append(jet)\n",
    "    \n",
    "for jet in jet_bin3_gluons:\n",
    "    jet_mass_bin3.append(jet)"
   ]
  },
  {
   "cell_type": "code",
   "execution_count": 144,
   "metadata": {},
   "outputs": [
    {
     "data": {
      "text/plain": [
       "56352"
      ]
     },
     "execution_count": 144,
     "metadata": {},
     "output_type": "execute_result"
    }
   ],
   "source": [
    "len(jet_mass_bin3)"
   ]
  },
  {
   "cell_type": "code",
   "execution_count": 145,
   "metadata": {},
   "outputs": [],
   "source": [
    "jet_mass_bin3 = list(jet_mass_bin3)"
   ]
  },
  {
   "cell_type": "code",
   "execution_count": 146,
   "metadata": {},
   "outputs": [
    {
     "name": "stdout",
     "output_type": "stream",
     "text": [
      "Mass bin 3 done\n"
     ]
    }
   ],
   "source": [
    "jet_array_3 = np.zeros((len(jet_mass_bin3),160,6))\n",
    "for i in range(len(jet_mass_bin3)):\n",
    "    for j in range(160):\n",
    "        for k in range(6):\n",
    "            try:\n",
    "                jet_array_3[i,j,k] = jet_mass_bin3[i][j][k]\n",
    "            except IndexError:\n",
    "                jet_array_3[i,j,k] = 0\n",
    "print(\"Mass bin 3 done\")"
   ]
  },
  {
   "cell_type": "code",
   "execution_count": 147,
   "metadata": {},
   "outputs": [],
   "source": [
    "#Bins 2 and 3\n",
    "X = np.concatenate([jet_array_2, jet_array_3])[:,:,:4]\n",
    "y = np.concatenate([np.ones(len(jet_array_2)), np.zeros(len(jet_array_3))])"
   ]
  },
  {
   "cell_type": "code",
   "execution_count": 148,
   "metadata": {},
   "outputs": [
    {
     "data": {
      "text/plain": [
       "(87482, 160, 4)"
      ]
     },
     "execution_count": 148,
     "metadata": {},
     "output_type": "execute_result"
    }
   ],
   "source": [
    "X.shape"
   ]
  },
  {
   "cell_type": "code",
   "execution_count": 149,
   "metadata": {},
   "outputs": [
    {
     "name": "stdout",
     "output_type": "stream",
     "text": [
      "Loaded quark and gluon jets\n",
      "Finished preprocessing\n",
      "Done train/val/test split\n",
      "Model summary:\n",
      "Model: \"model_15\"\n",
      "__________________________________________________________________________________________________\n",
      "Layer (type)                    Output Shape         Param #     Connected to                     \n",
      "==================================================================================================\n",
      "input (InputLayer)              (None, None, 4)      0                                            \n",
      "__________________________________________________________________________________________________\n",
      "tdist_0 (TimeDistributed)       (None, None, 100)    500         input[0][0]                      \n",
      "__________________________________________________________________________________________________\n",
      "activation_99 (Activation)      (None, None, 100)    0           tdist_0[0][0]                    \n",
      "__________________________________________________________________________________________________\n",
      "tdist_1 (TimeDistributed)       (None, None, 100)    10100       activation_99[0][0]              \n",
      "__________________________________________________________________________________________________\n",
      "activation_100 (Activation)     (None, None, 100)    0           tdist_1[0][0]                    \n",
      "__________________________________________________________________________________________________\n",
      "tdist_2 (TimeDistributed)       (None, None, 128)    12928       activation_100[0][0]             \n",
      "__________________________________________________________________________________________________\n",
      "mask (Lambda)                   (None, None)         0           input[0][0]                      \n",
      "__________________________________________________________________________________________________\n",
      "activation_101 (Activation)     (None, None, 128)    0           tdist_2[0][0]                    \n",
      "__________________________________________________________________________________________________\n",
      "sum (Dot)                       (None, 128)          0           mask[0][0]                       \n",
      "                                                                 activation_101[0][0]             \n",
      "__________________________________________________________________________________________________\n",
      "dense_0 (Dense)                 (None, 100)          12900       sum[0][0]                        \n",
      "__________________________________________________________________________________________________\n",
      "activation_102 (Activation)     (None, 100)          0           dense_0[0][0]                    \n",
      "__________________________________________________________________________________________________\n",
      "dense_1 (Dense)                 (None, 100)          10100       activation_102[0][0]             \n",
      "__________________________________________________________________________________________________\n",
      "activation_103 (Activation)     (None, 100)          0           dense_1[0][0]                    \n",
      "__________________________________________________________________________________________________\n",
      "dense_2 (Dense)                 (None, 100)          10100       activation_103[0][0]             \n",
      "__________________________________________________________________________________________________\n",
      "activation_104 (Activation)     (None, 100)          0           dense_2[0][0]                    \n",
      "__________________________________________________________________________________________________\n",
      "output (Dense)                  (None, 2)            202         activation_104[0][0]             \n",
      "__________________________________________________________________________________________________\n",
      "activation_105 (Activation)     (None, 2)            0           output[0][0]                     \n",
      "==================================================================================================\n",
      "Total params: 56,830\n",
      "Trainable params: 56,830\n",
      "Non-trainable params: 0\n",
      "__________________________________________________________________________________________________\n",
      "Train on 20000 samples, validate on 64482 samples\n",
      "Epoch 1/10\n",
      "20000/20000 [==============================] - 3s 171us/step - loss: 2.2457 - acc: 0.5655 - val_loss: 0.6874 - val_acc: 0.5445\n",
      "Epoch 2/10\n",
      "20000/20000 [==============================] - 3s 125us/step - loss: 0.6508 - acc: 0.6394 - val_loss: 0.6472 - val_acc: 0.6445\n",
      "Epoch 3/10\n",
      "20000/20000 [==============================] - 3s 127us/step - loss: 0.6484 - acc: 0.6431 - val_loss: 0.6473 - val_acc: 0.6445\n",
      "Epoch 4/10\n",
      "20000/20000 [==============================] - 3s 125us/step - loss: 0.6454 - acc: 0.6446 - val_loss: 0.6446 - val_acc: 0.6443\n",
      "Epoch 5/10\n",
      "20000/20000 [==============================] - 3s 125us/step - loss: 0.6456 - acc: 0.6435 - val_loss: 0.6476 - val_acc: 0.6442\n",
      "Epoch 6/10\n",
      "20000/20000 [==============================] - 3s 125us/step - loss: 0.6464 - acc: 0.6446 - val_loss: 0.6459 - val_acc: 0.6446\n",
      "Epoch 7/10\n",
      "20000/20000 [==============================] - 3s 125us/step - loss: 0.6450 - acc: 0.6432 - val_loss: 0.6461 - val_acc: 0.6428\n",
      "Epoch 8/10\n",
      "20000/20000 [==============================] - 3s 126us/step - loss: 0.6497 - acc: 0.6431 - val_loss: 0.6467 - val_acc: 0.6443\n",
      "Epoch 9/10\n",
      "20000/20000 [==============================] - 3s 125us/step - loss: 0.6440 - acc: 0.6435 - val_loss: 0.6556 - val_acc: 0.6444\n",
      "Epoch 10/10\n",
      "20000/20000 [==============================] - 3s 125us/step - loss: 0.6448 - acc: 0.6435 - val_loss: 0.6458 - val_acc: 0.6444\n",
      "\n",
      "PFN AUC: 0.572027105093788\n",
      "\n"
     ]
    },
    {
     "name": "stderr",
     "output_type": "stream",
     "text": [
      "/usr/local/lib/python3.5/dist-packages/matplotlib/figure.py:2369: UserWarning: This figure includes Axes that are not compatible with tight_layout, so results might be incorrect.\n",
      "  warnings.warn(\"This figure includes Axes that are not compatible \"\n"
     ]
    },
    {
     "data": {
      "image/png": "[encoded data removed]",
      "text/plain": [
       "<Figure size 288x288 with 1 Axes>"
      ]
     },
     "metadata": {
      "needs_background": "light"
     },
     "output_type": "display_data"
    }
   ],
   "source": [
    "#Bins 2 and 3\n",
    "################################### SETTINGS ###################################\n",
    "# the commented values correspond to those in 1810.05165\n",
    "###############################################################################\n",
    "\n",
    "# data controls, can go up to 2000000 for full dataset\n",
    "train, val, test = 20000, 64482, 3000\n",
    "# train, val, test = 1000000, 200000, 200000\n",
    "use_pids = True\n",
    "\n",
    "# network architecture parameters\n",
    "Phi_sizes, F_sizes = (100, 100, 128), (100, 100, 100)\n",
    "# Phi_sizes, F_sizes = (100, 100, 256), (100, 100, 100)\n",
    "\n",
    "# network training parameters\n",
    "num_epoch = 10\n",
    "batch_size = 500\n",
    "\n",
    "################################################################################\n",
    "\n",
    "# convert labels to categorical\n",
    "Y = to_categorical(y, num_classes=2)\n",
    "\n",
    "print('Loaded quark and gluon jets')\n",
    "\n",
    "# preprocess by centering jets and normalizing pts\n",
    "for x in X:\n",
    "    mask = x[:,0] > 0\n",
    "    yphi_avg = np.average(x[mask,1:3], weights=x[mask,0], axis=0)\n",
    "    x[mask,1:3] -= yphi_avg\n",
    "    x[mask,0] /= x[:,0].sum()\n",
    "\n",
    "# handle particle id channel\n",
    "if use_pids:\n",
    "    remap_pids(X, pid_i=3)\n",
    "else:\n",
    "    X = X[:,:,:3]\n",
    "\n",
    "print('Finished preprocessing')\n",
    "\n",
    "# do train/val/test split \n",
    "(X_train, X_val, X_test,\n",
    " Y_train, Y_val, Y_test) = data_split(X, Y, val=val, test=test)\n",
    "\n",
    "print('Done train/val/test split')\n",
    "print('Model summary:')\n",
    "\n",
    "# build architecture\n",
    "pfn = PFN(input_dim=X.shape[-1], Phi_sizes=Phi_sizes, F_sizes=F_sizes)\n",
    "\n",
    "# train model\n",
    "pfn.fit(X_train, Y_train,\n",
    "          epochs=num_epoch,\n",
    "          batch_size=batch_size,\n",
    "          validation_data=(X_val, Y_val),\n",
    "          verbose=1)\n",
    "\n",
    "# get predictions on test data\n",
    "preds = pfn.predict(X_test, batch_size=1000)\n",
    "\n",
    "# get ROC curve if we have sklearn\n",
    "if roc_curve:\n",
    "    pfn_fp, pfn_tp, threshs = roc_curve(Y_test[:,1], preds[:,1])\n",
    "\n",
    "    # get area under the ROC curve\n",
    "    auc = roc_auc_score(Y_test[:,1], preds[:,1])\n",
    "    print()\n",
    "    print('PFN AUC:', auc)\n",
    "    print()\n",
    "\n",
    "    # make ROC curve plot if we have matplotlib\n",
    "    if plt:\n",
    "\n",
    "        # get multiplicity and mass for comparison\n",
    "        masses = np.asarray([ef.ms_from_p4s(ef.p4s_from_ptyphims(x).sum(axis=0)) for x in X])\n",
    "        mults = np.asarray([np.count_nonzero(x[:,0]) for x in X])\n",
    "        mass_fp, mass_tp, threshs = roc_curve(Y[:,1], -masses)\n",
    "        mult_fp, mult_tp, threshs = roc_curve(Y[:,1], -mults)\n",
    "\n",
    "        # some nicer plot settings \n",
    "        plt.rcParams['figure.figsize'] = (4,4)\n",
    "        plt.rcParams['font.family'] = 'serif'\n",
    "        plt.rcParams['figure.autolayout'] = True\n",
    "\n",
    "        # plot the ROC curves\n",
    "        plt.plot(pfn_tp, 1-pfn_fp, '-', color='black', label='PFN')\n",
    "        plt.plot(mass_tp, 1-mass_fp, '-', color='blue', label='Jet Mass')\n",
    "        plt.plot(mult_tp, 1-mult_fp, '-', color='red', label='Multiplicity')\n",
    "\n",
    "        # axes labels\n",
    "        plt.xlabel('Quark Jet Efficiency')\n",
    "        plt.ylabel('Gluon Jet Rejection')\n",
    "\n",
    "        # axes limits\n",
    "        plt.xlim(0, 1)\n",
    "        plt.ylim(0, 1)\n",
    "\n",
    "        # make legend and show plot\n",
    "        plt.legend(loc='lower left', frameon=False)\n",
    "        plt.show()"
   ]
  },
  {
   "cell_type": "code",
   "execution_count": 150,
   "metadata": {},
   "outputs": [],
   "source": [
    "#Bins 3 and 4\n",
    "X = np.concatenate([jet_array_3, jet_array_4])[:,:,:4]\n",
    "y = np.concatenate([np.ones(len(jet_array_3)), np.zeros(len(jet_array_4))])"
   ]
  },
  {
   "cell_type": "code",
   "execution_count": 151,
   "metadata": {},
   "outputs": [
    {
     "data": {
      "text/plain": [
       "(72394, 160, 4)"
      ]
     },
     "execution_count": 151,
     "metadata": {},
     "output_type": "execute_result"
    }
   ],
   "source": [
    "X.shape"
   ]
  },
  {
   "cell_type": "code",
   "execution_count": 152,
   "metadata": {},
   "outputs": [
    {
     "name": "stdout",
     "output_type": "stream",
     "text": [
      "Loaded quark and gluon jets\n",
      "Finished preprocessing\n",
      "Done train/val/test split\n",
      "Model summary:\n",
      "Model: \"model_16\"\n",
      "__________________________________________________________________________________________________\n",
      "Layer (type)                    Output Shape         Param #     Connected to                     \n",
      "==================================================================================================\n",
      "input (InputLayer)              (None, None, 4)      0                                            \n",
      "__________________________________________________________________________________________________\n",
      "tdist_0 (TimeDistributed)       (None, None, 100)    500         input[0][0]                      \n",
      "__________________________________________________________________________________________________\n",
      "activation_106 (Activation)     (None, None, 100)    0           tdist_0[0][0]                    \n",
      "__________________________________________________________________________________________________\n",
      "tdist_1 (TimeDistributed)       (None, None, 100)    10100       activation_106[0][0]             \n",
      "__________________________________________________________________________________________________\n",
      "activation_107 (Activation)     (None, None, 100)    0           tdist_1[0][0]                    \n",
      "__________________________________________________________________________________________________\n",
      "tdist_2 (TimeDistributed)       (None, None, 128)    12928       activation_107[0][0]             \n",
      "__________________________________________________________________________________________________\n",
      "mask (Lambda)                   (None, None)         0           input[0][0]                      \n",
      "__________________________________________________________________________________________________\n",
      "activation_108 (Activation)     (None, None, 128)    0           tdist_2[0][0]                    \n",
      "__________________________________________________________________________________________________\n",
      "sum (Dot)                       (None, 128)          0           mask[0][0]                       \n",
      "                                                                 activation_108[0][0]             \n",
      "__________________________________________________________________________________________________\n",
      "dense_0 (Dense)                 (None, 100)          12900       sum[0][0]                        \n",
      "__________________________________________________________________________________________________\n",
      "activation_109 (Activation)     (None, 100)          0           dense_0[0][0]                    \n",
      "__________________________________________________________________________________________________\n",
      "dense_1 (Dense)                 (None, 100)          10100       activation_109[0][0]             \n",
      "__________________________________________________________________________________________________\n",
      "activation_110 (Activation)     (None, 100)          0           dense_1[0][0]                    \n",
      "__________________________________________________________________________________________________\n",
      "dense_2 (Dense)                 (None, 100)          10100       activation_110[0][0]             \n",
      "__________________________________________________________________________________________________\n",
      "activation_111 (Activation)     (None, 100)          0           dense_2[0][0]                    \n",
      "__________________________________________________________________________________________________\n",
      "output (Dense)                  (None, 2)            202         activation_111[0][0]             \n",
      "__________________________________________________________________________________________________\n",
      "activation_112 (Activation)     (None, 2)            0           output[0][0]                     \n",
      "==================================================================================================\n",
      "Total params: 56,830\n",
      "Trainable params: 56,830\n",
      "Non-trainable params: 0\n",
      "__________________________________________________________________________________________________\n",
      "Train on 20000 samples, validate on 49394 samples\n",
      "Epoch 1/10\n",
      "20000/20000 [==============================] - 3s 156us/step - loss: 0.7851 - acc: 0.7365 - val_loss: 0.5351 - val_acc: 0.7809\n",
      "Epoch 2/10\n",
      "20000/20000 [==============================] - 2s 110us/step - loss: 0.5394 - acc: 0.7726 - val_loss: 0.5265 - val_acc: 0.7809\n",
      "Epoch 3/10\n",
      "20000/20000 [==============================] - 2s 110us/step - loss: 0.5396 - acc: 0.7726 - val_loss: 0.5422 - val_acc: 0.7806\n",
      "Epoch 4/10\n",
      "20000/20000 [==============================] - 2s 110us/step - loss: 0.5394 - acc: 0.7725 - val_loss: 0.5282 - val_acc: 0.7809\n",
      "Epoch 5/10\n",
      "20000/20000 [==============================] - 2s 109us/step - loss: 0.5363 - acc: 0.7727 - val_loss: 0.5281 - val_acc: 0.7809\n",
      "Epoch 6/10\n",
      "20000/20000 [==============================] - 2s 110us/step - loss: 0.5340 - acc: 0.7727 - val_loss: 0.5346 - val_acc: 0.7807\n",
      "Epoch 7/10\n",
      "20000/20000 [==============================] - 2s 109us/step - loss: 0.5370 - acc: 0.7725 - val_loss: 0.5469 - val_acc: 0.7795\n",
      "Epoch 8/10\n",
      "20000/20000 [==============================] - 2s 110us/step - loss: 0.5417 - acc: 0.7725 - val_loss: 0.5287 - val_acc: 0.7809\n",
      "Epoch 9/10\n",
      "20000/20000 [==============================] - 2s 110us/step - loss: 0.5356 - acc: 0.7727 - val_loss: 0.5233 - val_acc: 0.7809\n",
      "Epoch 10/10\n",
      "20000/20000 [==============================] - 2s 110us/step - loss: 0.5364 - acc: 0.7727 - val_loss: 0.5240 - val_acc: 0.7809\n",
      "\n",
      "PFN AUC: 0.5553809216418196\n",
      "\n"
     ]
    },
    {
     "name": "stderr",
     "output_type": "stream",
     "text": [
      "/usr/local/lib/python3.5/dist-packages/matplotlib/figure.py:2369: UserWarning: This figure includes Axes that are not compatible with tight_layout, so results might be incorrect.\n",
      "  warnings.warn(\"This figure includes Axes that are not compatible \"\n"
     ]
    },
    {
     "data": {
      "image/png": "[encoded data removed]",
      "text/plain": [
       "<Figure size 288x288 with 1 Axes>"
      ]
     },
     "metadata": {
      "needs_background": "light"
     },
     "output_type": "display_data"
    }
   ],
   "source": [
    "#Bins 3 and 4\n",
    "################################### SETTINGS ###################################\n",
    "# the commented values correspond to those in 1810.05165\n",
    "###############################################################################\n",
    "\n",
    "# data controls, can go up to 2000000 for full dataset\n",
    "train, val, test = 20000, 49394, 3000\n",
    "# train, val, test = 1000000, 200000, 200000\n",
    "use_pids = True\n",
    "\n",
    "# network architecture parameters\n",
    "Phi_sizes, F_sizes = (100, 100, 128), (100, 100, 100)\n",
    "# Phi_sizes, F_sizes = (100, 100, 256), (100, 100, 100)\n",
    "\n",
    "# network training parameters\n",
    "num_epoch = 10\n",
    "batch_size = 500\n",
    "\n",
    "################################################################################\n",
    "\n",
    "# convert labels to categorical\n",
    "Y = to_categorical(y, num_classes=2)\n",
    "\n",
    "print('Loaded quark and gluon jets')\n",
    "\n",
    "# preprocess by centering jets and normalizing pts\n",
    "for x in X:\n",
    "    mask = x[:,0] > 0\n",
    "    yphi_avg = np.average(x[mask,1:3], weights=x[mask,0], axis=0)\n",
    "    x[mask,1:3] -= yphi_avg\n",
    "    x[mask,0] /= x[:,0].sum()\n",
    "\n",
    "# handle particle id channel\n",
    "if use_pids:\n",
    "    remap_pids(X, pid_i=3)\n",
    "else:\n",
    "    X = X[:,:,:3]\n",
    "\n",
    "print('Finished preprocessing')\n",
    "\n",
    "# do train/val/test split \n",
    "(X_train, X_val, X_test,\n",
    " Y_train, Y_val, Y_test) = data_split(X, Y, val=val, test=test)\n",
    "\n",
    "print('Done train/val/test split')\n",
    "print('Model summary:')\n",
    "\n",
    "# build architecture\n",
    "pfn = PFN(input_dim=X.shape[-1], Phi_sizes=Phi_sizes, F_sizes=F_sizes)\n",
    "\n",
    "# train model\n",
    "pfn.fit(X_train, Y_train,\n",
    "          epochs=num_epoch,\n",
    "          batch_size=batch_size,\n",
    "          validation_data=(X_val, Y_val),\n",
    "          verbose=1)\n",
    "\n",
    "# get predictions on test data\n",
    "preds = pfn.predict(X_test, batch_size=1000)\n",
    "\n",
    "# get ROC curve if we have sklearn\n",
    "if roc_curve:\n",
    "    pfn_fp, pfn_tp, threshs = roc_curve(Y_test[:,1], preds[:,1])\n",
    "\n",
    "    # get area under the ROC curve\n",
    "    auc = roc_auc_score(Y_test[:,1], preds[:,1])\n",
    "    print()\n",
    "    print('PFN AUC:', auc)\n",
    "    print()\n",
    "\n",
    "    # make ROC curve plot if we have matplotlib\n",
    "    if plt:\n",
    "\n",
    "        # get multiplicity and mass for comparison\n",
    "        masses = np.asarray([ef.ms_from_p4s(ef.p4s_from_ptyphims(x).sum(axis=0)) for x in X])\n",
    "        mults = np.asarray([np.count_nonzero(x[:,0]) for x in X])\n",
    "        mass_fp, mass_tp, threshs = roc_curve(Y[:,1], -masses)\n",
    "        mult_fp, mult_tp, threshs = roc_curve(Y[:,1], -mults)\n",
    "\n",
    "        # some nicer plot settings \n",
    "        plt.rcParams['figure.figsize'] = (4,4)\n",
    "        plt.rcParams['font.family'] = 'serif'\n",
    "        plt.rcParams['figure.autolayout'] = True\n",
    "\n",
    "        # plot the ROC curves\n",
    "        plt.plot(pfn_tp, 1-pfn_fp, '-', color='black', label='PFN')\n",
    "        plt.plot(mass_tp, 1-mass_fp, '-', color='blue', label='Jet Mass')\n",
    "        plt.plot(mult_tp, 1-mult_fp, '-', color='red', label='Multiplicity')\n",
    "\n",
    "        # axes labels\n",
    "        plt.xlabel('Quark Jet Efficiency')\n",
    "        plt.ylabel('Gluon Jet Rejection')\n",
    "\n",
    "        # axes limits\n",
    "        plt.xlim(0, 1)\n",
    "        plt.ylim(0, 1)\n",
    "\n",
    "        # make legend and show plot\n",
    "        plt.legend(loc='lower left', frameon=False)\n",
    "        plt.show()"
   ]
  },
  {
   "cell_type": "markdown",
   "metadata": {},
   "source": [
    "Bins 2-3: w/o signal: 0.5206707364879795, w/ signal added 4 times: 0.572027105093788\n",
    "\n",
    "Bins 3-4: w/o signal: 0.5045980551536546, w/ signal added 4 times: 0.5553809216418196"
   ]
  },
  {
   "cell_type": "markdown",
   "metadata": {},
   "source": [
    "Try adding signal 16 times for good measure"
   ]
  },
  {
   "cell_type": "code",
   "execution_count": 153,
   "metadata": {},
   "outputs": [],
   "source": [
    "for i in range(12):  \n",
    "    for jet in jet_bin3_gluons:\n",
    "        jet_mass_bin3.append(jet)"
   ]
  },
  {
   "cell_type": "code",
   "execution_count": 154,
   "metadata": {},
   "outputs": [
    {
     "data": {
      "text/plain": [
       "123168"
      ]
     },
     "execution_count": 154,
     "metadata": {},
     "output_type": "execute_result"
    }
   ],
   "source": [
    "len(jet_mass_bin3)"
   ]
  },
  {
   "cell_type": "code",
   "execution_count": 155,
   "metadata": {},
   "outputs": [],
   "source": [
    "jet_mass_bin3 = list(jet_mass_bin3)"
   ]
  },
  {
   "cell_type": "code",
   "execution_count": 156,
   "metadata": {},
   "outputs": [
    {
     "name": "stdout",
     "output_type": "stream",
     "text": [
      "Mass bin 3 done\n"
     ]
    }
   ],
   "source": [
    "jet_array_3 = np.zeros((len(jet_mass_bin3),160,6))\n",
    "for i in range(len(jet_mass_bin3)):\n",
    "    for j in range(160):\n",
    "        for k in range(6):\n",
    "            try:\n",
    "                jet_array_3[i,j,k] = jet_mass_bin3[i][j][k]\n",
    "            except IndexError:\n",
    "                jet_array_3[i,j,k] = 0\n",
    "print(\"Mass bin 3 done\")"
   ]
  },
  {
   "cell_type": "code",
   "execution_count": 157,
   "metadata": {},
   "outputs": [],
   "source": [
    "#Bins 2 and 3\n",
    "X = np.concatenate([jet_array_2, jet_array_3])[:,:,:4]\n",
    "y = np.concatenate([np.ones(len(jet_array_2)), np.zeros(len(jet_array_3))])"
   ]
  },
  {
   "cell_type": "code",
   "execution_count": 158,
   "metadata": {},
   "outputs": [
    {
     "data": {
      "text/plain": [
       "(154298, 160, 4)"
      ]
     },
     "execution_count": 158,
     "metadata": {},
     "output_type": "execute_result"
    }
   ],
   "source": [
    "X.shape"
   ]
  },
  {
   "cell_type": "code",
   "execution_count": 159,
   "metadata": {},
   "outputs": [
    {
     "name": "stdout",
     "output_type": "stream",
     "text": [
      "Loaded quark and gluon jets\n",
      "Finished preprocessing\n",
      "Done train/val/test split\n",
      "Model summary:\n",
      "Model: \"model_17\"\n",
      "__________________________________________________________________________________________________\n",
      "Layer (type)                    Output Shape         Param #     Connected to                     \n",
      "==================================================================================================\n",
      "input (InputLayer)              (None, None, 4)      0                                            \n",
      "__________________________________________________________________________________________________\n",
      "tdist_0 (TimeDistributed)       (None, None, 100)    500         input[0][0]                      \n",
      "__________________________________________________________________________________________________\n",
      "activation_113 (Activation)     (None, None, 100)    0           tdist_0[0][0]                    \n",
      "__________________________________________________________________________________________________\n",
      "tdist_1 (TimeDistributed)       (None, None, 100)    10100       activation_113[0][0]             \n",
      "__________________________________________________________________________________________________\n",
      "activation_114 (Activation)     (None, None, 100)    0           tdist_1[0][0]                    \n",
      "__________________________________________________________________________________________________\n",
      "tdist_2 (TimeDistributed)       (None, None, 128)    12928       activation_114[0][0]             \n",
      "__________________________________________________________________________________________________\n",
      "mask (Lambda)                   (None, None)         0           input[0][0]                      \n",
      "__________________________________________________________________________________________________\n",
      "activation_115 (Activation)     (None, None, 128)    0           tdist_2[0][0]                    \n",
      "__________________________________________________________________________________________________\n",
      "sum (Dot)                       (None, 128)          0           mask[0][0]                       \n",
      "                                                                 activation_115[0][0]             \n",
      "__________________________________________________________________________________________________\n",
      "dense_0 (Dense)                 (None, 100)          12900       sum[0][0]                        \n",
      "__________________________________________________________________________________________________\n",
      "activation_116 (Activation)     (None, 100)          0           dense_0[0][0]                    \n",
      "__________________________________________________________________________________________________\n",
      "dense_1 (Dense)                 (None, 100)          10100       activation_116[0][0]             \n",
      "__________________________________________________________________________________________________\n",
      "activation_117 (Activation)     (None, 100)          0           dense_1[0][0]                    \n",
      "__________________________________________________________________________________________________\n",
      "dense_2 (Dense)                 (None, 100)          10100       activation_117[0][0]             \n",
      "__________________________________________________________________________________________________\n",
      "activation_118 (Activation)     (None, 100)          0           dense_2[0][0]                    \n",
      "__________________________________________________________________________________________________\n",
      "output (Dense)                  (None, 2)            202         activation_118[0][0]             \n",
      "__________________________________________________________________________________________________\n",
      "activation_119 (Activation)     (None, 2)            0           output[0][0]                     \n",
      "==================================================================================================\n",
      "Total params: 56,830\n",
      "Trainable params: 56,830\n",
      "Non-trainable params: 0\n",
      "__________________________________________________________________________________________________\n",
      "Train on 20000 samples, validate on 131298 samples\n",
      "Epoch 1/10\n",
      "20000/20000 [==============================] - 5s 248us/step - loss: 1.0661 - acc: 0.7515 - val_loss: 0.5262 - val_acc: 0.7973\n",
      "Epoch 2/10\n",
      "20000/20000 [==============================] - 4s 199us/step - loss: 0.4915 - acc: 0.8041 - val_loss: 0.4948 - val_acc: 0.7973\n",
      "Epoch 3/10\n",
      "20000/20000 [==============================] - 4s 200us/step - loss: 0.4842 - acc: 0.8043 - val_loss: 0.5095 - val_acc: 0.7973\n",
      "Epoch 4/10\n",
      "20000/20000 [==============================] - 4s 200us/step - loss: 0.4836 - acc: 0.8043 - val_loss: 0.4898 - val_acc: 0.7973\n",
      "Epoch 5/10\n",
      "20000/20000 [==============================] - 4s 200us/step - loss: 0.4871 - acc: 0.8043 - val_loss: 0.4925 - val_acc: 0.7973\n",
      "Epoch 6/10\n",
      "20000/20000 [==============================] - 4s 199us/step - loss: 0.4818 - acc: 0.8043 - val_loss: 0.4946 - val_acc: 0.7973\n",
      "Epoch 7/10\n",
      "20000/20000 [==============================] - 4s 200us/step - loss: 0.4801 - acc: 0.8043 - val_loss: 0.4876 - val_acc: 0.7973\n",
      "Epoch 8/10\n",
      "20000/20000 [==============================] - 4s 200us/step - loss: 0.4787 - acc: 0.8043 - val_loss: 0.4909 - val_acc: 0.7973\n",
      "Epoch 9/10\n",
      "20000/20000 [==============================] - 4s 200us/step - loss: 0.4836 - acc: 0.8044 - val_loss: 0.4891 - val_acc: 0.7973\n",
      "Epoch 10/10\n",
      "20000/20000 [==============================] - 4s 199us/step - loss: 0.4796 - acc: 0.8043 - val_loss: 0.4919 - val_acc: 0.7973\n",
      "\n",
      "PFN AUC: 0.6217232871512621\n",
      "\n"
     ]
    },
    {
     "name": "stderr",
     "output_type": "stream",
     "text": [
      "/usr/local/lib/python3.5/dist-packages/matplotlib/figure.py:2369: UserWarning: This figure includes Axes that are not compatible with tight_layout, so results might be incorrect.\n",
      "  warnings.warn(\"This figure includes Axes that are not compatible \"\n"
     ]
    },
    {
     "data": {
      "image/png": "[encoded data removed]",
      "text/plain": [
       "<Figure size 288x288 with 1 Axes>"
      ]
     },
     "metadata": {
      "needs_background": "light"
     },
     "output_type": "display_data"
    }
   ],
   "source": [
    "#Bins 2 and 3\n",
    "################################### SETTINGS ###################################\n",
    "# the commented values correspond to those in 1810.05165\n",
    "###############################################################################\n",
    "\n",
    "# data controls, can go up to 2000000 for full dataset\n",
    "train, val, test = 20000, 131298, 3000\n",
    "# train, val, test = 1000000, 200000, 200000\n",
    "use_pids = True\n",
    "\n",
    "# network architecture parameters\n",
    "Phi_sizes, F_sizes = (100, 100, 128), (100, 100, 100)\n",
    "# Phi_sizes, F_sizes = (100, 100, 256), (100, 100, 100)\n",
    "\n",
    "# network training parameters\n",
    "num_epoch = 10\n",
    "batch_size = 500\n",
    "\n",
    "################################################################################\n",
    "\n",
    "# convert labels to categorical\n",
    "Y = to_categorical(y, num_classes=2)\n",
    "\n",
    "print('Loaded quark and gluon jets')\n",
    "\n",
    "# preprocess by centering jets and normalizing pts\n",
    "for x in X:\n",
    "    mask = x[:,0] > 0\n",
    "    yphi_avg = np.average(x[mask,1:3], weights=x[mask,0], axis=0)\n",
    "    x[mask,1:3] -= yphi_avg\n",
    "    x[mask,0] /= x[:,0].sum()\n",
    "\n",
    "# handle particle id channel\n",
    "if use_pids:\n",
    "    remap_pids(X, pid_i=3)\n",
    "else:\n",
    "    X = X[:,:,:3]\n",
    "\n",
    "print('Finished preprocessing')\n",
    "\n",
    "# do train/val/test split \n",
    "(X_train, X_val, X_test,\n",
    " Y_train, Y_val, Y_test) = data_split(X, Y, val=val, test=test)\n",
    "\n",
    "print('Done train/val/test split')\n",
    "print('Model summary:')\n",
    "\n",
    "# build architecture\n",
    "pfn = PFN(input_dim=X.shape[-1], Phi_sizes=Phi_sizes, F_sizes=F_sizes)\n",
    "\n",
    "# train model\n",
    "pfn.fit(X_train, Y_train,\n",
    "          epochs=num_epoch,\n",
    "          batch_size=batch_size,\n",
    "          validation_data=(X_val, Y_val),\n",
    "          verbose=1)\n",
    "\n",
    "# get predictions on test data\n",
    "preds = pfn.predict(X_test, batch_size=1000)\n",
    "\n",
    "# get ROC curve if we have sklearn\n",
    "if roc_curve:\n",
    "    pfn_fp, pfn_tp, threshs = roc_curve(Y_test[:,1], preds[:,1])\n",
    "\n",
    "    # get area under the ROC curve\n",
    "    auc = roc_auc_score(Y_test[:,1], preds[:,1])\n",
    "    print()\n",
    "    print('PFN AUC:', auc)\n",
    "    print()\n",
    "\n",
    "    # make ROC curve plot if we have matplotlib\n",
    "    if plt:\n",
    "\n",
    "        # get multiplicity and mass for comparison\n",
    "        masses = np.asarray([ef.ms_from_p4s(ef.p4s_from_ptyphims(x).sum(axis=0)) for x in X])\n",
    "        mults = np.asarray([np.count_nonzero(x[:,0]) for x in X])\n",
    "        mass_fp, mass_tp, threshs = roc_curve(Y[:,1], -masses)\n",
    "        mult_fp, mult_tp, threshs = roc_curve(Y[:,1], -mults)\n",
    "\n",
    "        # some nicer plot settings \n",
    "        plt.rcParams['figure.figsize'] = (4,4)\n",
    "        plt.rcParams['font.family'] = 'serif'\n",
    "        plt.rcParams['figure.autolayout'] = True\n",
    "\n",
    "        # plot the ROC curves\n",
    "        plt.plot(pfn_tp, 1-pfn_fp, '-', color='black', label='PFN')\n",
    "        plt.plot(mass_tp, 1-mass_fp, '-', color='blue', label='Jet Mass')\n",
    "        plt.plot(mult_tp, 1-mult_fp, '-', color='red', label='Multiplicity')\n",
    "\n",
    "        # axes labels\n",
    "        plt.xlabel('Quark Jet Efficiency')\n",
    "        plt.ylabel('Gluon Jet Rejection')\n",
    "\n",
    "        # axes limits\n",
    "        plt.xlim(0, 1)\n",
    "        plt.ylim(0, 1)\n",
    "\n",
    "        # make legend and show plot\n",
    "        plt.legend(loc='lower left', frameon=False)\n",
    "        plt.show()"
   ]
  },
  {
   "cell_type": "code",
   "execution_count": 160,
   "metadata": {},
   "outputs": [],
   "source": [
    "#Bins 3 and 4\n",
    "X = np.concatenate([jet_array_3, jet_array_4])[:,:,:4]\n",
    "y = np.concatenate([np.ones(len(jet_array_3)), np.zeros(len(jet_array_4))])"
   ]
  },
  {
   "cell_type": "code",
   "execution_count": 161,
   "metadata": {},
   "outputs": [
    {
     "data": {
      "text/plain": [
       "(139210, 160, 4)"
      ]
     },
     "execution_count": 161,
     "metadata": {},
     "output_type": "execute_result"
    }
   ],
   "source": [
    "X.shape"
   ]
  },
  {
   "cell_type": "code",
   "execution_count": 163,
   "metadata": {},
   "outputs": [
    {
     "name": "stdout",
     "output_type": "stream",
     "text": [
      "Loaded quark and gluon jets\n",
      "Finished preprocessing\n",
      "Done train/val/test split\n",
      "Model summary:\n",
      "Model: \"model_18\"\n",
      "__________________________________________________________________________________________________\n",
      "Layer (type)                    Output Shape         Param #     Connected to                     \n",
      "==================================================================================================\n",
      "input (InputLayer)              (None, None, 4)      0                                            \n",
      "__________________________________________________________________________________________________\n",
      "tdist_0 (TimeDistributed)       (None, None, 100)    500         input[0][0]                      \n",
      "__________________________________________________________________________________________________\n",
      "activation_120 (Activation)     (None, None, 100)    0           tdist_0[0][0]                    \n",
      "__________________________________________________________________________________________________\n",
      "tdist_1 (TimeDistributed)       (None, None, 100)    10100       activation_120[0][0]             \n",
      "__________________________________________________________________________________________________\n",
      "activation_121 (Activation)     (None, None, 100)    0           tdist_1[0][0]                    \n",
      "__________________________________________________________________________________________________\n",
      "tdist_2 (TimeDistributed)       (None, None, 128)    12928       activation_121[0][0]             \n",
      "__________________________________________________________________________________________________\n",
      "mask (Lambda)                   (None, None)         0           input[0][0]                      \n",
      "__________________________________________________________________________________________________\n",
      "activation_122 (Activation)     (None, None, 128)    0           tdist_2[0][0]                    \n",
      "__________________________________________________________________________________________________\n",
      "sum (Dot)                       (None, 128)          0           mask[0][0]                       \n",
      "                                                                 activation_122[0][0]             \n",
      "__________________________________________________________________________________________________\n",
      "dense_0 (Dense)                 (None, 100)          12900       sum[0][0]                        \n",
      "__________________________________________________________________________________________________\n",
      "activation_123 (Activation)     (None, 100)          0           dense_0[0][0]                    \n",
      "__________________________________________________________________________________________________\n",
      "dense_1 (Dense)                 (None, 100)          10100       activation_123[0][0]             \n",
      "__________________________________________________________________________________________________\n",
      "activation_124 (Activation)     (None, 100)          0           dense_1[0][0]                    \n",
      "__________________________________________________________________________________________________\n",
      "dense_2 (Dense)                 (None, 100)          10100       activation_124[0][0]             \n",
      "__________________________________________________________________________________________________\n",
      "activation_125 (Activation)     (None, 100)          0           dense_2[0][0]                    \n",
      "__________________________________________________________________________________________________\n",
      "output (Dense)                  (None, 2)            202         activation_125[0][0]             \n",
      "__________________________________________________________________________________________________\n",
      "activation_126 (Activation)     (None, 2)            0           output[0][0]                     \n",
      "==================================================================================================\n",
      "Total params: 56,830\n",
      "Trainable params: 56,830\n",
      "Non-trainable params: 0\n",
      "__________________________________________________________________________________________________\n",
      "Train on 20000 samples, validate on 116210 samples\n",
      "Epoch 1/10\n",
      "20000/20000 [==============================] - 5s 233us/step - loss: 0.4221 - acc: 0.8780 - val_loss: 0.3941 - val_acc: 0.8848\n",
      "Epoch 2/10\n",
      "20000/20000 [==============================] - 4s 183us/step - loss: 0.3646 - acc: 0.8850 - val_loss: 0.3575 - val_acc: 0.8848\n",
      "Epoch 3/10\n",
      "20000/20000 [==============================] - 4s 184us/step - loss: 0.3559 - acc: 0.8850 - val_loss: 0.3619 - val_acc: 0.8848\n",
      "Epoch 4/10\n",
      "20000/20000 [==============================] - 4s 183us/step - loss: 0.3516 - acc: 0.8850 - val_loss: 0.3500 - val_acc: 0.8848\n",
      "Epoch 5/10\n",
      "20000/20000 [==============================] - 4s 184us/step - loss: 0.3506 - acc: 0.8850 - val_loss: 0.3497 - val_acc: 0.8848\n",
      "Epoch 6/10\n",
      "20000/20000 [==============================] - 4s 189us/step - loss: 0.3502 - acc: 0.8850 - val_loss: 0.3558 - val_acc: 0.8848\n",
      "Epoch 7/10\n",
      "20000/20000 [==============================] - 4s 189us/step - loss: 0.3535 - acc: 0.8850 - val_loss: 0.3510 - val_acc: 0.8848\n",
      "Epoch 8/10\n",
      "20000/20000 [==============================] - 4s 185us/step - loss: 0.3514 - acc: 0.8850 - val_loss: 0.3639 - val_acc: 0.8848\n",
      "Epoch 9/10\n",
      "20000/20000 [==============================] - 4s 183us/step - loss: 0.3497 - acc: 0.8850 - val_loss: 0.3561 - val_acc: 0.8848\n",
      "Epoch 10/10\n",
      "20000/20000 [==============================] - 4s 183us/step - loss: 0.3498 - acc: 0.8850 - val_loss: 0.3494 - val_acc: 0.8848\n",
      "\n",
      "PFN AUC: 0.6057613996710156\n",
      "\n"
     ]
    },
    {
     "name": "stderr",
     "output_type": "stream",
     "text": [
      "/usr/local/lib/python3.5/dist-packages/matplotlib/figure.py:2369: UserWarning: This figure includes Axes that are not compatible with tight_layout, so results might be incorrect.\n",
      "  warnings.warn(\"This figure includes Axes that are not compatible \"\n"
     ]
    },
    {
     "data": {
      "image/png": "[encoded data removed]",
      "text/plain": [
       "<Figure size 288x288 with 1 Axes>"
      ]
     },
     "metadata": {
      "needs_background": "light"
     },
     "output_type": "display_data"
    }
   ],
   "source": [
    "#Bins 3 and 4\n",
    "################################### SETTINGS ###################################\n",
    "# the commented values correspond to those in 1810.05165\n",
    "###############################################################################\n",
    "\n",
    "# data controls, can go up to 2000000 for full dataset\n",
    "train, val, test = 20000, 116210, 3000\n",
    "# train, val, test = 1000000, 200000, 200000\n",
    "use_pids = True\n",
    "\n",
    "# network architecture parameters\n",
    "Phi_sizes, F_sizes = (100, 100, 128), (100, 100, 100)\n",
    "# Phi_sizes, F_sizes = (100, 100, 256), (100, 100, 100)\n",
    "\n",
    "# network training parameters\n",
    "num_epoch = 10\n",
    "batch_size = 500\n",
    "\n",
    "################################################################################\n",
    "\n",
    "# convert labels to categorical\n",
    "Y = to_categorical(y, num_classes=2)\n",
    "\n",
    "print('Loaded quark and gluon jets')\n",
    "\n",
    "# preprocess by centering jets and normalizing pts\n",
    "for x in X:\n",
    "    mask = x[:,0] > 0\n",
    "    yphi_avg = np.average(x[mask,1:3], weights=x[mask,0], axis=0)\n",
    "    x[mask,1:3] -= yphi_avg\n",
    "    x[mask,0] /= x[:,0].sum()\n",
    "\n",
    "# handle particle id channel\n",
    "if use_pids:\n",
    "    remap_pids(X, pid_i=3)\n",
    "else:\n",
    "    X = X[:,:,:3]\n",
    "\n",
    "print('Finished preprocessing')\n",
    "\n",
    "# do train/val/test split \n",
    "(X_train, X_val, X_test,\n",
    " Y_train, Y_val, Y_test) = data_split(X, Y, val=val, test=test)\n",
    "\n",
    "print('Done train/val/test split')\n",
    "print('Model summary:')\n",
    "\n",
    "# build architecture\n",
    "pfn = PFN(input_dim=X.shape[-1], Phi_sizes=Phi_sizes, F_sizes=F_sizes)\n",
    "\n",
    "# train model\n",
    "pfn.fit(X_train, Y_train,\n",
    "          epochs=num_epoch,\n",
    "          batch_size=batch_size,\n",
    "          validation_data=(X_val, Y_val),\n",
    "          verbose=1)\n",
    "\n",
    "# get predictions on test data\n",
    "preds = pfn.predict(X_test, batch_size=1000)\n",
    "\n",
    "# get ROC curve if we have sklearn\n",
    "if roc_curve:\n",
    "    pfn_fp, pfn_tp, threshs = roc_curve(Y_test[:,1], preds[:,1])\n",
    "\n",
    "    # get area under the ROC curve\n",
    "    auc = roc_auc_score(Y_test[:,1], preds[:,1])\n",
    "    print()\n",
    "    print('PFN AUC:', auc)\n",
    "    print()\n",
    "\n",
    "    # make ROC curve plot if we have matplotlib\n",
    "    if plt:\n",
    "\n",
    "        # get multiplicity and mass for comparison\n",
    "        masses = np.asarray([ef.ms_from_p4s(ef.p4s_from_ptyphims(x).sum(axis=0)) for x in X])\n",
    "        mults = np.asarray([np.count_nonzero(x[:,0]) for x in X])\n",
    "        mass_fp, mass_tp, threshs = roc_curve(Y[:,1], -masses)\n",
    "        mult_fp, mult_tp, threshs = roc_curve(Y[:,1], -mults)\n",
    "\n",
    "        # some nicer plot settings \n",
    "        plt.rcParams['figure.figsize'] = (4,4)\n",
    "        plt.rcParams['font.family'] = 'serif'\n",
    "        plt.rcParams['figure.autolayout'] = True\n",
    "\n",
    "        # plot the ROC curves\n",
    "        plt.plot(pfn_tp, 1-pfn_fp, '-', color='black', label='PFN')\n",
    "        plt.plot(mass_tp, 1-mass_fp, '-', color='blue', label='Jet Mass')\n",
    "        plt.plot(mult_tp, 1-mult_fp, '-', color='red', label='Multiplicity')\n",
    "\n",
    "        # axes labels\n",
    "        plt.xlabel('Quark Jet Efficiency')\n",
    "        plt.ylabel('Gluon Jet Rejection')\n",
    "\n",
    "        # axes limits\n",
    "        plt.xlim(0, 1)\n",
    "        plt.ylim(0, 1)\n",
    "\n",
    "        # make legend and show plot\n",
    "        plt.legend(loc='lower left', frameon=False)\n",
    "        plt.show()"
   ]
  },
  {
   "cell_type": "markdown",
   "metadata": {},
   "source": [
    "Bins 2-3: w/o signal: 0.5206707364879795, w/ signal added 16 times: 0.6217232871512621\n",
    "\n",
    "Bins 3-4: w/o signal: 0.5045980551536546, w/ signal added 16 times: 0.6057613996710156"
   ]
  },
  {
   "cell_type": "markdown",
   "metadata": {},
   "source": [
    "Therefore, as we have a larger signal injection, we see a larger effect on AUC. These effects are apparent even when we add 5568 jets, although they only change the AUC by 0.01-0.02. Let's see how small of an effect this method can detect, starting with 2000 jets"
   ]
  },
  {
   "cell_type": "code",
   "execution_count": 69,
   "metadata": {},
   "outputs": [],
   "source": [
    "jet_mass_bin3 = []"
   ]
  },
  {
   "cell_type": "code",
   "execution_count": 70,
   "metadata": {},
   "outputs": [],
   "source": [
    "for event in event_mass_bin3:\n",
    "    for jet in event:\n",
    "        jet_mass_bin3.append(jet)"
   ]
  },
  {
   "cell_type": "code",
   "execution_count": 71,
   "metadata": {},
   "outputs": [],
   "source": [
    "for i in range(0, 1000):\n",
    "    jet_mass_bin3.append(jet_bin3_gluons[i])"
   ]
  },
  {
   "cell_type": "code",
   "execution_count": 72,
   "metadata": {},
   "outputs": [
    {
     "data": {
      "text/plain": [
       "35080"
      ]
     },
     "execution_count": 72,
     "metadata": {},
     "output_type": "execute_result"
    }
   ],
   "source": [
    "len(jet_mass_bin3)"
   ]
  },
  {
   "cell_type": "code",
   "execution_count": 73,
   "metadata": {},
   "outputs": [],
   "source": [
    "jet_mass_bin3 = list(jet_mass_bin3)"
   ]
  },
  {
   "cell_type": "code",
   "execution_count": 74,
   "metadata": {},
   "outputs": [
    {
     "name": "stdout",
     "output_type": "stream",
     "text": [
      "Mass bin 3 done\n"
     ]
    }
   ],
   "source": [
    "jet_array_3 = np.zeros((len(jet_mass_bin3),160,6))\n",
    "for i in range(len(jet_mass_bin3)):\n",
    "    for j in range(160):\n",
    "        for k in range(6):\n",
    "            try:\n",
    "                jet_array_3[i,j,k] = jet_mass_bin3[i][j][k]\n",
    "            except IndexError:\n",
    "                jet_array_3[i,j,k] = 0\n",
    "print(\"Mass bin 3 done\")"
   ]
  },
  {
   "cell_type": "code",
   "execution_count": 75,
   "metadata": {},
   "outputs": [],
   "source": [
    "#Bins 2 and 3\n",
    "X = np.concatenate([jet_array_2, jet_array_3])[:,:,:4]\n",
    "y = np.concatenate([np.ones(len(jet_array_2)), np.zeros(len(jet_array_3))])"
   ]
  },
  {
   "cell_type": "code",
   "execution_count": 76,
   "metadata": {},
   "outputs": [
    {
     "data": {
      "text/plain": [
       "(66210, 160, 4)"
      ]
     },
     "execution_count": 76,
     "metadata": {},
     "output_type": "execute_result"
    }
   ],
   "source": [
    "X.shape"
   ]
  },
  {
   "cell_type": "code",
   "execution_count": 77,
   "metadata": {},
   "outputs": [
    {
     "name": "stdout",
     "output_type": "stream",
     "text": [
      "Loaded quark and gluon jets\n",
      "Finished preprocessing\n",
      "Done train/val/test split\n",
      "Model summary:\n",
      "Model: \"model_3\"\n",
      "__________________________________________________________________________________________________\n",
      "Layer (type)                    Output Shape         Param #     Connected to                     \n",
      "==================================================================================================\n",
      "input (InputLayer)              (None, None, 4)      0                                            \n",
      "__________________________________________________________________________________________________\n",
      "tdist_0 (TimeDistributed)       (None, None, 100)    500         input[0][0]                      \n",
      "__________________________________________________________________________________________________\n",
      "activation_15 (Activation)      (None, None, 100)    0           tdist_0[0][0]                    \n",
      "__________________________________________________________________________________________________\n",
      "tdist_1 (TimeDistributed)       (None, None, 100)    10100       activation_15[0][0]              \n",
      "__________________________________________________________________________________________________\n",
      "activation_16 (Activation)      (None, None, 100)    0           tdist_1[0][0]                    \n",
      "__________________________________________________________________________________________________\n",
      "tdist_2 (TimeDistributed)       (None, None, 128)    12928       activation_16[0][0]              \n",
      "__________________________________________________________________________________________________\n",
      "mask (Lambda)                   (None, None)         0           input[0][0]                      \n",
      "__________________________________________________________________________________________________\n",
      "activation_17 (Activation)      (None, None, 128)    0           tdist_2[0][0]                    \n",
      "__________________________________________________________________________________________________\n",
      "sum (Dot)                       (None, 128)          0           mask[0][0]                       \n",
      "                                                                 activation_17[0][0]              \n",
      "__________________________________________________________________________________________________\n",
      "dense_0 (Dense)                 (None, 100)          12900       sum[0][0]                        \n",
      "__________________________________________________________________________________________________\n",
      "activation_18 (Activation)      (None, 100)          0           dense_0[0][0]                    \n",
      "__________________________________________________________________________________________________\n",
      "dense_1 (Dense)                 (None, 100)          10100       activation_18[0][0]              \n",
      "__________________________________________________________________________________________________\n",
      "activation_19 (Activation)      (None, 100)          0           dense_1[0][0]                    \n",
      "__________________________________________________________________________________________________\n",
      "dense_2 (Dense)                 (None, 100)          10100       activation_19[0][0]              \n",
      "__________________________________________________________________________________________________\n",
      "activation_20 (Activation)      (None, 100)          0           dense_2[0][0]                    \n",
      "__________________________________________________________________________________________________\n",
      "output (Dense)                  (None, 2)            202         activation_20[0][0]              \n",
      "__________________________________________________________________________________________________\n",
      "activation_21 (Activation)      (None, 2)            0           output[0][0]                     \n",
      "==================================================================================================\n",
      "Total params: 56,830\n",
      "Trainable params: 56,830\n",
      "Non-trainable params: 0\n",
      "__________________________________________________________________________________________________\n",
      "Train on 19000 samples, validate on 44210 samples\n",
      "Epoch 1/10\n",
      "19000/19000 [==============================] - 2s 126us/step - loss: 0.8392 - acc: 0.5079 - val_loss: 0.6936 - val_acc: 0.5295\n",
      "Epoch 2/10\n",
      "19000/19000 [==============================] - 2s 103us/step - loss: 0.6963 - acc: 0.5183 - val_loss: 0.6914 - val_acc: 0.5246\n",
      "Epoch 3/10\n",
      "19000/19000 [==============================] - 2s 102us/step - loss: 0.6915 - acc: 0.5262 - val_loss: 0.7028 - val_acc: 0.5306\n",
      "Epoch 4/10\n",
      "19000/19000 [==============================] - 2s 103us/step - loss: 0.6928 - acc: 0.5238 - val_loss: 0.6965 - val_acc: 0.5304\n",
      "Epoch 5/10\n",
      "19000/19000 [==============================] - 2s 103us/step - loss: 0.6932 - acc: 0.5243 - val_loss: 0.6956 - val_acc: 0.5301\n",
      "Epoch 6/10\n",
      "19000/19000 [==============================] - 2s 102us/step - loss: 0.6950 - acc: 0.5217 - val_loss: 0.7294 - val_acc: 0.4699\n",
      "Epoch 7/10\n",
      "19000/19000 [==============================] - 2s 103us/step - loss: 0.6965 - acc: 0.5212 - val_loss: 0.6929 - val_acc: 0.5152\n",
      "Epoch 8/10\n",
      "19000/19000 [==============================] - 2s 102us/step - loss: 0.6934 - acc: 0.5313 - val_loss: 0.7188 - val_acc: 0.4701\n",
      "Epoch 9/10\n",
      "19000/19000 [==============================] - 2s 102us/step - loss: 0.6932 - acc: 0.5252 - val_loss: 0.6925 - val_acc: 0.5315\n",
      "Epoch 10/10\n",
      "19000/19000 [==============================] - 2s 103us/step - loss: 0.6890 - acc: 0.5315 - val_loss: 0.6912 - val_acc: 0.5266\n",
      "\n",
      "PFN AUC: 0.5143020292326508\n",
      "\n"
     ]
    },
    {
     "name": "stderr",
     "output_type": "stream",
     "text": [
      "/usr/local/lib/python3.5/dist-packages/matplotlib/figure.py:2369: UserWarning: This figure includes Axes that are not compatible with tight_layout, so results might be incorrect.\n",
      "  warnings.warn(\"This figure includes Axes that are not compatible \"\n"
     ]
    },
    {
     "data": {
      "image/png": "[encoded data removed]",
      "text/plain": [
       "<Figure size 288x288 with 1 Axes>"
      ]
     },
     "metadata": {
      "needs_background": "light"
     },
     "output_type": "display_data"
    }
   ],
   "source": [
    "#Bins 2 and 3\n",
    "################################### SETTINGS ###################################\n",
    "# the commented values correspond to those in 1810.05165\n",
    "###############################################################################\n",
    "\n",
    "# data controls, can go up to 2000000 for full dataset\n",
    "train, val, test = 20000, 44210, 3000\n",
    "# train, val, test = 1000000, 200000, 200000\n",
    "use_pids = True\n",
    "\n",
    "# network architecture parameters\n",
    "Phi_sizes, F_sizes = (100, 100, 128), (100, 100, 100)\n",
    "# Phi_sizes, F_sizes = (100, 100, 256), (100, 100, 100)\n",
    "\n",
    "# network training parameters\n",
    "num_epoch = 10\n",
    "batch_size = 500\n",
    "\n",
    "################################################################################\n",
    "\n",
    "# convert labels to categorical\n",
    "Y = to_categorical(y, num_classes=2)\n",
    "\n",
    "print('Loaded quark and gluon jets')\n",
    "\n",
    "# preprocess by centering jets and normalizing pts\n",
    "for x in X:\n",
    "    mask = x[:,0] > 0\n",
    "    yphi_avg = np.average(x[mask,1:3], weights=x[mask,0], axis=0)\n",
    "    x[mask,1:3] -= yphi_avg\n",
    "    x[mask,0] /= x[:,0].sum()\n",
    "\n",
    "# handle particle id channel\n",
    "if use_pids:\n",
    "    remap_pids(X, pid_i=3)\n",
    "else:\n",
    "    X = X[:,:,:3]\n",
    "\n",
    "print('Finished preprocessing')\n",
    "\n",
    "# do train/val/test split \n",
    "(X_train, X_val, X_test,\n",
    " Y_train, Y_val, Y_test) = data_split(X, Y, val=val, test=test)\n",
    "\n",
    "print('Done train/val/test split')\n",
    "print('Model summary:')\n",
    "\n",
    "# build architecture\n",
    "pfn = PFN(input_dim=X.shape[-1], Phi_sizes=Phi_sizes, F_sizes=F_sizes)\n",
    "\n",
    "# train model\n",
    "pfn.fit(X_train, Y_train,\n",
    "          epochs=num_epoch,\n",
    "          batch_size=batch_size,\n",
    "          validation_data=(X_val, Y_val),\n",
    "          verbose=1)\n",
    "\n",
    "# get predictions on test data\n",
    "preds = pfn.predict(X_test, batch_size=1000)\n",
    "\n",
    "# get ROC curve if we have sklearn\n",
    "if roc_curve:\n",
    "    pfn_fp, pfn_tp, threshs = roc_curve(Y_test[:,1], preds[:,1])\n",
    "\n",
    "    # get area under the ROC curve\n",
    "    auc = roc_auc_score(Y_test[:,1], preds[:,1])\n",
    "    print()\n",
    "    print('PFN AUC:', auc)\n",
    "    print()\n",
    "\n",
    "    # make ROC curve plot if we have matplotlib\n",
    "    if plt:\n",
    "\n",
    "        # get multiplicity and mass for comparison\n",
    "        masses = np.asarray([ef.ms_from_p4s(ef.p4s_from_ptyphims(x).sum(axis=0)) for x in X])\n",
    "        mults = np.asarray([np.count_nonzero(x[:,0]) for x in X])\n",
    "        mass_fp, mass_tp, threshs = roc_curve(Y[:,1], -masses)\n",
    "        mult_fp, mult_tp, threshs = roc_curve(Y[:,1], -mults)\n",
    "\n",
    "        # some nicer plot settings \n",
    "        plt.rcParams['figure.figsize'] = (4,4)\n",
    "        plt.rcParams['font.family'] = 'serif'\n",
    "        plt.rcParams['figure.autolayout'] = True\n",
    "\n",
    "        # plot the ROC curves\n",
    "        plt.plot(pfn_tp, 1-pfn_fp, '-', color='black', label='PFN')\n",
    "        plt.plot(mass_tp, 1-mass_fp, '-', color='blue', label='Jet Mass')\n",
    "        plt.plot(mult_tp, 1-mult_fp, '-', color='red', label='Multiplicity')\n",
    "\n",
    "        # axes labels\n",
    "        plt.xlabel('Quark Jet Efficiency')\n",
    "        plt.ylabel('Gluon Jet Rejection')\n",
    "\n",
    "        # axes limits\n",
    "        plt.xlim(0, 1)\n",
    "        plt.ylim(0, 1)\n",
    "\n",
    "        # make legend and show plot\n",
    "        plt.legend(loc='lower left', frameon=False)\n",
    "        plt.show()"
   ]
  },
  {
   "cell_type": "code",
   "execution_count": 78,
   "metadata": {},
   "outputs": [],
   "source": [
    "#Bins 3 and 4\n",
    "X = np.concatenate([jet_array_3, jet_array_4])[:,:,:4]\n",
    "y = np.concatenate([np.ones(len(jet_array_3)), np.zeros(len(jet_array_4))])"
   ]
  },
  {
   "cell_type": "code",
   "execution_count": 79,
   "metadata": {},
   "outputs": [
    {
     "data": {
      "text/plain": [
       "(51122, 160, 4)"
      ]
     },
     "execution_count": 79,
     "metadata": {},
     "output_type": "execute_result"
    }
   ],
   "source": [
    "X.shape"
   ]
  },
  {
   "cell_type": "code",
   "execution_count": 80,
   "metadata": {},
   "outputs": [
    {
     "name": "stdout",
     "output_type": "stream",
     "text": [
      "Loaded quark and gluon jets\n",
      "Finished preprocessing\n",
      "Done train/val/test split\n",
      "Model summary:\n",
      "Model: \"model_4\"\n",
      "__________________________________________________________________________________________________\n",
      "Layer (type)                    Output Shape         Param #     Connected to                     \n",
      "==================================================================================================\n",
      "input (InputLayer)              (None, None, 4)      0                                            \n",
      "__________________________________________________________________________________________________\n",
      "tdist_0 (TimeDistributed)       (None, None, 100)    500         input[0][0]                      \n",
      "__________________________________________________________________________________________________\n",
      "activation_22 (Activation)      (None, None, 100)    0           tdist_0[0][0]                    \n",
      "__________________________________________________________________________________________________\n",
      "tdist_1 (TimeDistributed)       (None, None, 100)    10100       activation_22[0][0]              \n",
      "__________________________________________________________________________________________________\n",
      "activation_23 (Activation)      (None, None, 100)    0           tdist_1[0][0]                    \n",
      "__________________________________________________________________________________________________\n",
      "tdist_2 (TimeDistributed)       (None, None, 128)    12928       activation_23[0][0]              \n",
      "__________________________________________________________________________________________________\n",
      "mask (Lambda)                   (None, None)         0           input[0][0]                      \n",
      "__________________________________________________________________________________________________\n",
      "activation_24 (Activation)      (None, None, 128)    0           tdist_2[0][0]                    \n",
      "__________________________________________________________________________________________________\n",
      "sum (Dot)                       (None, 128)          0           mask[0][0]                       \n",
      "                                                                 activation_24[0][0]              \n",
      "__________________________________________________________________________________________________\n",
      "dense_0 (Dense)                 (None, 100)          12900       sum[0][0]                        \n",
      "__________________________________________________________________________________________________\n",
      "activation_25 (Activation)      (None, 100)          0           dense_0[0][0]                    \n",
      "__________________________________________________________________________________________________\n",
      "dense_1 (Dense)                 (None, 100)          10100       activation_25[0][0]              \n",
      "__________________________________________________________________________________________________\n",
      "activation_26 (Activation)      (None, 100)          0           dense_1[0][0]                    \n",
      "__________________________________________________________________________________________________\n",
      "dense_2 (Dense)                 (None, 100)          10100       activation_26[0][0]              \n",
      "__________________________________________________________________________________________________\n",
      "activation_27 (Activation)      (None, 100)          0           dense_2[0][0]                    \n",
      "__________________________________________________________________________________________________\n",
      "output (Dense)                  (None, 2)            202         activation_27[0][0]              \n",
      "__________________________________________________________________________________________________\n",
      "activation_28 (Activation)      (None, 2)            0           output[0][0]                     \n",
      "==================================================================================================\n",
      "Total params: 56,830\n",
      "Trainable params: 56,830\n",
      "Non-trainable params: 0\n",
      "__________________________________________________________________________________________________\n",
      "Train on 19000 samples, validate on 29122 samples\n",
      "Epoch 1/10\n",
      "19000/19000 [==============================] - 2s 112us/step - loss: 1.0124 - acc: 0.6257 - val_loss: 0.6355 - val_acc: 0.6897\n",
      "Epoch 2/10\n",
      "19000/19000 [==============================] - 2s 86us/step - loss: 0.6505 - acc: 0.6698 - val_loss: 0.6430 - val_acc: 0.6897\n",
      "Epoch 3/10\n",
      "19000/19000 [==============================] - 2s 86us/step - loss: 0.6442 - acc: 0.6744 - val_loss: 0.6570 - val_acc: 0.6460\n",
      "Epoch 4/10\n",
      "19000/19000 [==============================] - 2s 86us/step - loss: 0.6334 - acc: 0.6794 - val_loss: 0.6228 - val_acc: 0.6891\n",
      "Epoch 5/10\n",
      "19000/19000 [==============================] - 2s 86us/step - loss: 0.6285 - acc: 0.6817 - val_loss: 0.6219 - val_acc: 0.6897\n",
      "Epoch 6/10\n",
      "19000/19000 [==============================] - 2s 86us/step - loss: 0.6289 - acc: 0.6814 - val_loss: 0.6213 - val_acc: 0.6897\n",
      "Epoch 7/10\n",
      "19000/19000 [==============================] - 2s 86us/step - loss: 0.6293 - acc: 0.6816 - val_loss: 0.6257 - val_acc: 0.6876\n",
      "Epoch 8/10\n",
      "19000/19000 [==============================] - 2s 86us/step - loss: 0.6289 - acc: 0.6808 - val_loss: 0.6307 - val_acc: 0.6843\n",
      "Epoch 9/10\n",
      "19000/19000 [==============================] - 2s 86us/step - loss: 0.6327 - acc: 0.6799 - val_loss: 0.6323 - val_acc: 0.6897\n",
      "Epoch 10/10\n",
      "19000/19000 [==============================] - 2s 86us/step - loss: 0.6267 - acc: 0.6813 - val_loss: 0.6247 - val_acc: 0.6880\n",
      "\n",
      "PFN AUC: 0.5220066150236874\n",
      "\n"
     ]
    },
    {
     "name": "stderr",
     "output_type": "stream",
     "text": [
      "/usr/local/lib/python3.5/dist-packages/matplotlib/figure.py:2369: UserWarning: This figure includes Axes that are not compatible with tight_layout, so results might be incorrect.\n",
      "  warnings.warn(\"This figure includes Axes that are not compatible \"\n"
     ]
    },
    {
     "data": {
      "image/png": "[encoded data removed]",
      "text/plain": [
       "<Figure size 288x288 with 1 Axes>"
      ]
     },
     "metadata": {
      "needs_background": "light"
     },
     "output_type": "display_data"
    }
   ],
   "source": [
    "#Bins 3 and 4\n",
    "################################### SETTINGS ###################################\n",
    "# the commented values correspond to those in 1810.05165\n",
    "###############################################################################\n",
    "\n",
    "# data controls, can go up to 2000000 for full dataset\n",
    "train, val, test = 20000, 29122, 3000\n",
    "# train, val, test = 1000000, 200000, 200000\n",
    "use_pids = True\n",
    "\n",
    "# network architecture parameters\n",
    "Phi_sizes, F_sizes = (100, 100, 128), (100, 100, 100)\n",
    "# Phi_sizes, F_sizes = (100, 100, 256), (100, 100, 100)\n",
    "\n",
    "# network training parameters\n",
    "num_epoch = 10\n",
    "batch_size = 500\n",
    "\n",
    "################################################################################\n",
    "\n",
    "# convert labels to categorical\n",
    "Y = to_categorical(y, num_classes=2)\n",
    "\n",
    "print('Loaded quark and gluon jets')\n",
    "\n",
    "# preprocess by centering jets and normalizing pts\n",
    "for x in X:\n",
    "    mask = x[:,0] > 0\n",
    "    yphi_avg = np.average(x[mask,1:3], weights=x[mask,0], axis=0)\n",
    "    x[mask,1:3] -= yphi_avg\n",
    "    x[mask,0] /= x[:,0].sum()\n",
    "\n",
    "# handle particle id channel\n",
    "if use_pids:\n",
    "    remap_pids(X, pid_i=3)\n",
    "else:\n",
    "    X = X[:,:,:3]\n",
    "\n",
    "print('Finished preprocessing')\n",
    "\n",
    "# do train/val/test split \n",
    "(X_train, X_val, X_test,\n",
    " Y_train, Y_val, Y_test) = data_split(X, Y, val=val, test=test)\n",
    "\n",
    "print('Done train/val/test split')\n",
    "print('Model summary:')\n",
    "\n",
    "# build architecture\n",
    "pfn = PFN(input_dim=X.shape[-1], Phi_sizes=Phi_sizes, F_sizes=F_sizes)\n",
    "\n",
    "# train model\n",
    "pfn.fit(X_train, Y_train,\n",
    "          epochs=num_epoch,\n",
    "          batch_size=batch_size,\n",
    "          validation_data=(X_val, Y_val),\n",
    "          verbose=1)\n",
    "\n",
    "# get predictions on test data\n",
    "preds = pfn.predict(X_test, batch_size=1000)\n",
    "\n",
    "# get ROC curve if we have sklearn\n",
    "if roc_curve:\n",
    "    pfn_fp, pfn_tp, threshs = roc_curve(Y_test[:,1], preds[:,1])\n",
    "\n",
    "    # get area under the ROC curve\n",
    "    auc = roc_auc_score(Y_test[:,1], preds[:,1])\n",
    "    print()\n",
    "    print('PFN AUC:', auc)\n",
    "    print()\n",
    "\n",
    "    # make ROC curve plot if we have matplotlib\n",
    "    if plt:\n",
    "\n",
    "        # get multiplicity and mass for comparison\n",
    "        masses = np.asarray([ef.ms_from_p4s(ef.p4s_from_ptyphims(x).sum(axis=0)) for x in X])\n",
    "        mults = np.asarray([np.count_nonzero(x[:,0]) for x in X])\n",
    "        mass_fp, mass_tp, threshs = roc_curve(Y[:,1], -masses)\n",
    "        mult_fp, mult_tp, threshs = roc_curve(Y[:,1], -mults)\n",
    "\n",
    "        # some nicer plot settings \n",
    "        plt.rcParams['figure.figsize'] = (4,4)\n",
    "        plt.rcParams['font.family'] = 'serif'\n",
    "        plt.rcParams['figure.autolayout'] = True\n",
    "\n",
    "        # plot the ROC curves\n",
    "        plt.plot(pfn_tp, 1-pfn_fp, '-', color='black', label='PFN')\n",
    "        plt.plot(mass_tp, 1-mass_fp, '-', color='blue', label='Jet Mass')\n",
    "        plt.plot(mult_tp, 1-mult_fp, '-', color='red', label='Multiplicity')\n",
    "\n",
    "        # axes labels\n",
    "        plt.xlabel('Quark Jet Efficiency')\n",
    "        plt.ylabel('Gluon Jet Rejection')\n",
    "\n",
    "        # axes limits\n",
    "        plt.xlim(0, 1)\n",
    "        plt.ylim(0, 1)\n",
    "\n",
    "        # make legend and show plot\n",
    "        plt.legend(loc='lower left', frameon=False)\n",
    "        plt.show()"
   ]
  },
  {
   "cell_type": "markdown",
   "metadata": {},
   "source": [
    "Bins 2-3: w/o signal: 0.5206707364879795, w/ 2000 jets added: 0.5226851985377354\n",
    "\n",
    "Bins 3-4: w/o signal: 0.5045980551536546, w/ 2000 jets added: 0.5130110290457349\n",
    "\n",
    "\n",
    "Bins 2-3: w/o signal: 0.5206707364879795, w/ 1000 jets added: 0.5143020292326508\n",
    "\n",
    "Bins 3-4: w/o signal: 0.5045980551536546, w/ 1000 jets added: 0.5220066150236874"
   ]
  },
  {
   "cell_type": "markdown",
   "metadata": {},
   "source": [
    "**Summary of results**\n",
    "\n",
    "AUC Scores with signal injection\n",
    "\n",
    "| Bins used   | No signal | 1000 jet signal | 2000 jet signal | 5568 jet signal | 11136 jet signal | 22272 jet signal | 89088 jet signal |\n",
    "| ----------- | ----------- | ----------- | ----------- | ----------- | ----------- | ----------- | ----------- |\n",
    "| 2-3      | 0.52067 | 0.51430 | 0.52269 | 0.54224 | 0.56162 | 0.57203 | 0.62172 |\n",
    "| 3-4   | 0.50460 | 0.52201 | 0.51301 | 0.51460 | 0.53953 | 0.55538 | 0.60576 |\n",
    "\n"
   ]
  },
  {
   "cell_type": "code",
   "execution_count": null,
   "metadata": {},
   "outputs": [],
   "source": []
  }
 ],
 "metadata": {
  "accelerator": "GPU",
  "colab": {
   "machine_shape": "hm",
   "name": "SIM_particle_distribution_by_event.ipynb",
   "provenance": []
  },
  "kernelspec": {
   "display_name": "Python 3",
   "language": "python",
   "name": "python3"
  },
  "language_info": {
   "codemirror_mode": {
    "name": "ipython",
    "version": 3
   },
   "file_extension": ".py",
   "mimetype": "text/x-python",
   "name": "python",
   "nbconvert_exporter": "python",
   "pygments_lexer": "ipython3",
   "version": "3.5.3"
  }
 },
 "nbformat": 4,
 "nbformat_minor": 4
}
