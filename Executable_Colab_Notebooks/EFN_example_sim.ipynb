{
  "nbformat": 4,
  "nbformat_minor": 0,
  "metadata": {
    "colab": {
      "name": "EFN_example_sim.ipynb",
      "provenance": [],
      "include_colab_link": true
    },
    "kernelspec": {
      "name": "python3",
      "display_name": "Python 3"
    },
    "accelerator": "GPU"
  },
  "cells": [
    {
      "cell_type": "markdown",
      "metadata": {
        "id": "view-in-github",
        "colab_type": "text"
      },
      "source": [
        "<a href=\"https://colab.research.google.com/github/nickchak21/QuarkGluonClassifiers/blob/master/Executable_Colab_Notebooks/EFN_example_sim.ipynb\" target=\"_parent\"><img src=\"https://colab.research.google.com/assets/colab-badge.svg\" alt=\"Open In Colab\"/></a>"
      ]
    },
    {
      "cell_type": "code",
      "metadata": {
        "id": "EDQHdFMzRKws",
        "colab_type": "code",
        "outputId": "50bd6e50-607a-4eee-9683-abbae881d511",
        "colab": {
          "base_uri": "https://localhost:8080/",
          "height": 136
        }
      },
      "source": [
        "!pip install energyflow\n",
        "!pip install h5py"
      ],
      "execution_count": 59,
      "outputs": [
        {
          "output_type": "stream",
          "text": [
            "Requirement already satisfied: energyflow in /usr/local/lib/python3.6/dist-packages (1.0.2)\n",
            "Requirement already satisfied: h5py>=2.9.0 in /usr/local/lib/python3.6/dist-packages (from energyflow) (2.10.0)\n",
            "Requirement already satisfied: numpy>=1.14.0 in /usr/local/lib/python3.6/dist-packages (from energyflow) (1.17.5)\n",
            "Requirement already satisfied: six>=1.10.0 in /usr/local/lib/python3.6/dist-packages (from energyflow) (1.12.0)\n",
            "Requirement already satisfied: h5py in /usr/local/lib/python3.6/dist-packages (2.10.0)\n",
            "Requirement already satisfied: numpy>=1.7 in /usr/local/lib/python3.6/dist-packages (from h5py) (1.17.5)\n",
            "Requirement already satisfied: six in /usr/local/lib/python3.6/dist-packages (from h5py) (1.12.0)\n"
          ],
          "name": "stdout"
        }
      ]
    },
    {
      "cell_type": "code",
      "metadata": {
        "id": "jCY1hm8xSJyX",
        "colab_type": "code",
        "outputId": "7a75fb9e-b701-42b2-d02d-33bed15c77ec",
        "colab": {
          "base_uri": "https://localhost:8080/",
          "height": 34
        }
      },
      "source": [
        "!python --version"
      ],
      "execution_count": 60,
      "outputs": [
        {
          "output_type": "stream",
          "text": [
            "Python 3.6.9\n"
          ],
          "name": "stdout"
        }
      ]
    },
    {
      "cell_type": "code",
      "metadata": {
        "id": "1r3rd5lMSYiH",
        "colab_type": "code",
        "outputId": "e311390c-854c-4709-e61e-d63d0953db2f",
        "colab": {
          "base_uri": "https://localhost:8080/",
          "height": 85
        }
      },
      "source": [
        "!pip install POT"
      ],
      "execution_count": 61,
      "outputs": [
        {
          "output_type": "stream",
          "text": [
            "Requirement already satisfied: POT in /usr/local/lib/python3.6/dist-packages (0.6.0)\n",
            "Requirement already satisfied: cython in /usr/local/lib/python3.6/dist-packages (from POT) (0.29.14)\n",
            "Requirement already satisfied: numpy in /usr/local/lib/python3.6/dist-packages (from POT) (1.17.5)\n",
            "Requirement already satisfied: scipy in /usr/local/lib/python3.6/dist-packages (from POT) (1.4.1)\n"
          ],
          "name": "stdout"
        }
      ]
    },
    {
      "cell_type": "code",
      "metadata": {
        "id": "jjupFyDlShn7",
        "colab_type": "code",
        "outputId": "3d58c162-ea95-4fc4-db5b-1e4e0e4c41c7",
        "colab": {
          "base_uri": "https://localhost:8080/",
          "height": 153
        }
      },
      "source": [
        "!python -c \"import energyflow; energyflow.utils.get_examples()\""
      ],
      "execution_count": 62,
      "outputs": [
        {
          "output_type": "stream",
          "text": [
            "\n",
            "Summary of examples:\n",
            "pfn_example.py exists at /root/.energyflow/examples\n",
            "dnn_example.py exists at /root/.energyflow/examples\n",
            "efn_example.py exists at /root/.energyflow/examples\n",
            "efp_example.py exists at /root/.energyflow/examples\n",
            "cnn_example.py exists at /root/.energyflow/examples\n",
            "\n"
          ],
          "name": "stdout"
        }
      ]
    },
    {
      "cell_type": "code",
      "metadata": {
        "id": "Xq1-lrLmGjhp",
        "colab_type": "code",
        "colab": {}
      },
      "source": [
        "# standard library imports\n",
        "from __future__ import absolute_import, division, print_function\n",
        "\n",
        "# standard numerical library imports\n",
        "import numpy as np\n",
        "\n",
        "# energyflow imports\n",
        "import energyflow as ef\n",
        "from energyflow.archs import EFN\n",
        "from energyflow.datasets import qg_jets\n",
        "from energyflow.utils import data_split, to_categorical\n",
        "\n",
        "# attempt to import sklearn\n",
        "try:\n",
        "    from sklearn.metrics import roc_auc_score, roc_curve\n",
        "except:\n",
        "    print('please install scikit-learn in order to make ROC curves')\n",
        "    roc_curve = False\n",
        "\n",
        "# attempt to import matplotlib\n",
        "try:\n",
        "    import matplotlib.pyplot as plt\n",
        "except:\n",
        "    print('please install matplotlib in order to make plots')\n",
        "    plt = False"
      ],
      "execution_count": 0,
      "outputs": []
    },
    {
      "cell_type": "code",
      "metadata": {
        "id": "xIaLmGRTaoZ2",
        "colab_type": "code",
        "colab": {
          "base_uri": "https://localhost:8080/",
          "height": 428
        },
        "outputId": "436ef668-d036-4279-84d0-aa4a279edd18"
      },
      "source": [
        "#load data\n",
        "specs = ['375 <= corr_jet_pts <= 425', 'abs_jet_eta < 1.9', 'quality >= 2']\n",
        "amount = 0.1\n",
        "sim = ef.mod.load(*specs, dataset='sim', amount=amount)"
      ],
      "execution_count": 41,
      "outputs": [
        {
          "output_type": "stream",
          "text": [
            "Downloading SIM470_Jet300_pT375-infGeV_6_compressed.h5 from https://zenodo.org/record/3341419/files/SIM470_Jet300_pT375-infGeV_6_compressed.h5?download=1 to /root/.energyflow/datasets/CMS2011AJets/SIM470_Jet300_pT375-infGeV\n",
            "Downloading SIM470_Jet300_pT375-infGeV_7_compressed.h5 from https://zenodo.org/record/3341419/files/SIM470_Jet300_pT375-infGeV_7_compressed.h5?download=1 to /root/.energyflow/datasets/CMS2011AJets/SIM470_Jet300_pT375-infGeV\n",
            "Downloading SIM600_Jet300_pT375-infGeV_1_compressed.h5 from https://zenodo.org/record/3364139/files/SIM600_Jet300_pT375-infGeV_1_compressed.h5?download=1 to /root/.energyflow/datasets/CMS2011AJets/SIM600_Jet300_pT375-infGeV\n",
            "Downloading SIM600_Jet300_pT375-infGeV_2_compressed.h5 from https://zenodo.org/record/3364139/files/SIM600_Jet300_pT375-infGeV_2_compressed.h5?download=1 to /root/.energyflow/datasets/CMS2011AJets/SIM600_Jet300_pT375-infGeV\n",
            "Downloading SIM600_Jet300_pT375-infGeV_3_compressed.h5 from https://zenodo.org/record/3364139/files/SIM600_Jet300_pT375-infGeV_3_compressed.h5?download=1 to /root/.energyflow/datasets/CMS2011AJets/SIM600_Jet300_pT375-infGeV\n",
            "Downloading SIM600_Jet300_pT375-infGeV_4_compressed.h5 from https://zenodo.org/record/3364139/files/SIM600_Jet300_pT375-infGeV_4_compressed.h5?download=1 to /root/.energyflow/datasets/CMS2011AJets/SIM600_Jet300_pT375-infGeV\n",
            "Downloading SIM600_Jet300_pT375-infGeV_5_compressed.h5 from https://zenodo.org/record/3364139/files/SIM600_Jet300_pT375-infGeV_5_compressed.h5?download=1 to /root/.energyflow/datasets/CMS2011AJets/SIM600_Jet300_pT375-infGeV\n",
            "Downloading SIM600_Jet300_pT375-infGeV_6_compressed.h5 from https://zenodo.org/record/3364139/files/SIM600_Jet300_pT375-infGeV_6_compressed.h5?download=1 to /root/.energyflow/datasets/CMS2011AJets/SIM600_Jet300_pT375-infGeV\n",
            "Downloading SIM600_Jet300_pT375-infGeV_7_compressed.h5 from https://zenodo.org/record/3364139/files/SIM600_Jet300_pT375-infGeV_7_compressed.h5?download=1 to /root/.energyflow/datasets/CMS2011AJets/SIM600_Jet300_pT375-infGeV\n",
            "Downloading SIM800_Jet300_pT375-infGeV_1_compressed.h5 from https://zenodo.org/record/3341413/files/SIM800_Jet300_pT375-infGeV_1_compressed.h5?download=1 to /root/.energyflow/datasets/CMS2011AJets/SIM800_Jet300_pT375-infGeV\n",
            "Downloading SIM800_Jet300_pT375-infGeV_2_compressed.h5 from https://zenodo.org/record/3341413/files/SIM800_Jet300_pT375-infGeV_2_compressed.h5?download=1 to /root/.energyflow/datasets/CMS2011AJets/SIM800_Jet300_pT375-infGeV\n",
            "Downloading SIM800_Jet300_pT375-infGeV_3_compressed.h5 from https://zenodo.org/record/3341413/files/SIM800_Jet300_pT375-infGeV_3_compressed.h5?download=1 to /root/.energyflow/datasets/CMS2011AJets/SIM800_Jet300_pT375-infGeV\n",
            "Downloading SIM800_Jet300_pT375-infGeV_4_compressed.h5 from https://zenodo.org/record/3341413/files/SIM800_Jet300_pT375-infGeV_4_compressed.h5?download=1 to /root/.energyflow/datasets/CMS2011AJets/SIM800_Jet300_pT375-infGeV\n",
            "Downloading SIM800_Jet300_pT375-infGeV_5_compressed.h5 from https://zenodo.org/record/3341413/files/SIM800_Jet300_pT375-infGeV_5_compressed.h5?download=1 to /root/.energyflow/datasets/CMS2011AJets/SIM800_Jet300_pT375-infGeV\n",
            "Downloading SIM800_Jet300_pT375-infGeV_6_compressed.h5 from https://zenodo.org/record/3341413/files/SIM800_Jet300_pT375-infGeV_6_compressed.h5?download=1 to /root/.energyflow/datasets/CMS2011AJets/SIM800_Jet300_pT375-infGeV\n",
            "Downloading SIM800_Jet300_pT375-infGeV_7_compressed.h5 from https://zenodo.org/record/3341413/files/SIM800_Jet300_pT375-infGeV_7_compressed.h5?download=1 to /root/.energyflow/datasets/CMS2011AJets/SIM800_Jet300_pT375-infGeV\n",
            "Downloading SIM1000_Jet300_pT375-infGeV_1_compressed.h5 from https://zenodo.org/record/3341502/files/SIM1000_Jet300_pT375-infGeV_1_compressed.h5?download=1 to /root/.energyflow/datasets/CMS2011AJets/SIM1000_Jet300_pT375-infGeV\n",
            "Downloading SIM1000_Jet300_pT375-infGeV_2_compressed.h5 from https://zenodo.org/record/3341502/files/SIM1000_Jet300_pT375-infGeV_2_compressed.h5?download=1 to /root/.energyflow/datasets/CMS2011AJets/SIM1000_Jet300_pT375-infGeV\n",
            "Downloading SIM1000_Jet300_pT375-infGeV_3_compressed.h5 from https://zenodo.org/record/3341502/files/SIM1000_Jet300_pT375-infGeV_3_compressed.h5?download=1 to /root/.energyflow/datasets/CMS2011AJets/SIM1000_Jet300_pT375-infGeV\n",
            "Downloading SIM1400_Jet300_pT375-infGeV_1_compressed.h5 from https://zenodo.org/record/3341770/files/SIM1400_Jet300_pT375-infGeV_1_compressed.h5?download=1 to /root/.energyflow/datasets/CMS2011AJets/SIM1400_Jet300_pT375-infGeV\n",
            "Downloading SIM1400_Jet300_pT375-infGeV_2_compressed.h5 from https://zenodo.org/record/3341770/files/SIM1400_Jet300_pT375-infGeV_2_compressed.h5?download=1 to /root/.energyflow/datasets/CMS2011AJets/SIM1400_Jet300_pT375-infGeV\n",
            "Downloading SIM1400_Jet300_pT375-infGeV_3_compressed.h5 from https://zenodo.org/record/3341770/files/SIM1400_Jet300_pT375-infGeV_3_compressed.h5?download=1 to /root/.energyflow/datasets/CMS2011AJets/SIM1400_Jet300_pT375-infGeV\n",
            "Downloading SIM1800_Jet300_pT375-infGeV_1_compressed.h5 from https://zenodo.org/record/3341772/files/SIM1800_Jet300_pT375-infGeV_1_compressed.h5?download=1 to /root/.energyflow/datasets/CMS2011AJets/SIM1800_Jet300_pT375-infGeV\n"
          ],
          "name": "stdout"
        }
      ]
    },
    {
      "cell_type": "code",
      "metadata": {
        "id": "hD_fGSt4LWIV",
        "colab_type": "code",
        "outputId": "4c9c3257-64a4-42cf-98e8-b603e24eb1bf",
        "colab": {
          "base_uri": "https://localhost:8080/",
          "height": 68
        }
      },
      "source": [
        "print(len(sim.particles))\n",
        "print(len(sim.particles[0]))\n",
        "print(len(sim.particles[0][0]))"
      ],
      "execution_count": 42,
      "outputs": [
        {
          "output_type": "stream",
          "text": [
            "294363\n",
            "36\n",
            "6\n"
          ],
          "name": "stdout"
        }
      ]
    },
    {
      "cell_type": "code",
      "metadata": {
        "id": "l9YNvqSTO5Yc",
        "colab_type": "code",
        "outputId": "3b0a7538-5a76-43cb-ff2a-21f06ec3e398",
        "colab": {
          "base_uri": "https://localhost:8080/",
          "height": 34
        }
      },
      "source": [
        "len(sim.particles[1])"
      ],
      "execution_count": 43,
      "outputs": [
        {
          "output_type": "execute_result",
          "data": {
            "text/plain": [
              "77"
            ]
          },
          "metadata": {
            "tags": []
          },
          "execution_count": 43
        }
      ]
    },
    {
      "cell_type": "code",
      "metadata": {
        "id": "Q8vcplvmOznI",
        "colab_type": "code",
        "outputId": "f791219a-4866-42e3-e8d5-f16b4a5ce61c",
        "colab": {
          "base_uri": "https://localhost:8080/",
          "height": 34
        }
      },
      "source": [
        "len(sim.particles[2])"
      ],
      "execution_count": 44,
      "outputs": [
        {
          "output_type": "execute_result",
          "data": {
            "text/plain": [
              "20"
            ]
          },
          "metadata": {
            "tags": []
          },
          "execution_count": 44
        }
      ]
    },
    {
      "cell_type": "code",
      "metadata": {
        "id": "rfxCa_VOPvrV",
        "colab_type": "code",
        "outputId": "6073143e-b5b4-4d6c-efaa-c4ee8c5d19ff",
        "colab": {
          "base_uri": "https://localhost:8080/",
          "height": 215
        }
      },
      "source": [
        "array_lengths = []\n",
        "for i in range(294363):\n",
        "    array_lengths.append(len(sim.particles[i]))\n",
        "print(max(array_lengths))"
      ],
      "execution_count": 1,
      "outputs": [
        {
          "output_type": "error",
          "ename": "NameError",
          "evalue": "ignored",
          "traceback": [
            "\u001b[0;31m---------------------------------------------------------------------------\u001b[0m",
            "\u001b[0;31mNameError\u001b[0m                                 Traceback (most recent call last)",
            "\u001b[0;32m<ipython-input-1-f0cf6a886b68>\u001b[0m in \u001b[0;36m<module>\u001b[0;34m()\u001b[0m\n\u001b[1;32m      1\u001b[0m \u001b[0marray_lengths\u001b[0m \u001b[0;34m=\u001b[0m \u001b[0;34m[\u001b[0m\u001b[0;34m]\u001b[0m\u001b[0;34m\u001b[0m\u001b[0;34m\u001b[0m\u001b[0m\n\u001b[1;32m      2\u001b[0m \u001b[0;32mfor\u001b[0m \u001b[0mi\u001b[0m \u001b[0;32min\u001b[0m \u001b[0mrange\u001b[0m\u001b[0;34m(\u001b[0m\u001b[0;36m294363\u001b[0m\u001b[0;34m)\u001b[0m\u001b[0;34m:\u001b[0m\u001b[0;34m\u001b[0m\u001b[0;34m\u001b[0m\u001b[0m\n\u001b[0;32m----> 3\u001b[0;31m     \u001b[0marray_lengths\u001b[0m\u001b[0;34m.\u001b[0m\u001b[0mappend\u001b[0m\u001b[0;34m(\u001b[0m\u001b[0mlen\u001b[0m\u001b[0;34m(\u001b[0m\u001b[0msim\u001b[0m\u001b[0;34m.\u001b[0m\u001b[0mparticles\u001b[0m\u001b[0;34m[\u001b[0m\u001b[0mi\u001b[0m\u001b[0;34m]\u001b[0m\u001b[0;34m)\u001b[0m\u001b[0;34m)\u001b[0m\u001b[0;34m\u001b[0m\u001b[0;34m\u001b[0m\u001b[0m\n\u001b[0m\u001b[1;32m      4\u001b[0m \u001b[0mprint\u001b[0m\u001b[0;34m(\u001b[0m\u001b[0mmax\u001b[0m\u001b[0;34m(\u001b[0m\u001b[0marray_lengths\u001b[0m\u001b[0;34m)\u001b[0m\u001b[0;34m)\u001b[0m\u001b[0;34m\u001b[0m\u001b[0;34m\u001b[0m\u001b[0m\n",
            "\u001b[0;31mNameError\u001b[0m: name 'sim' is not defined"
          ]
        }
      ]
    },
    {
      "cell_type": "code",
      "metadata": {
        "id": "rCpuA3qHMX9k",
        "colab_type": "code",
        "colab": {}
      },
      "source": [
        "jet_array = np.zeros((294363,160,6))\n",
        "for i in range(294363):\n",
        "    for j in range(160):\n",
        "        for k in range(6):\n",
        "            try:\n",
        "                jet_array[i,j,k] = sim.particles[i][j][k]\n",
        "            except IndexError:\n",
        "                jet_array[i,j,k] = 0"
      ],
      "execution_count": 0,
      "outputs": []
    },
    {
      "cell_type": "code",
      "metadata": {
        "id": "HGgQMm0eRnug",
        "colab_type": "code",
        "colab": {
          "base_uri": "https://localhost:8080/",
          "height": 34
        },
        "outputId": "c9ea396a-b323-4cd8-d161-62e8e5f6393a"
      },
      "source": [
        "jet_array.shape"
      ],
      "execution_count": 54,
      "outputs": [
        {
          "output_type": "execute_result",
          "data": {
            "text/plain": [
              "(294363, 160, 6)"
            ]
          },
          "metadata": {
            "tags": []
          },
          "execution_count": 54
        }
      ]
    },
    {
      "cell_type": "code",
      "metadata": {
        "id": "0rwWDC8ChvCM",
        "colab_type": "code",
        "colab": {
          "base_uri": "https://localhost:8080/",
          "height": 34
        },
        "outputId": "3d09925d-8df2-4046-d73d-715277259bab"
      },
      "source": [
        "len(sim.hard_pids)"
      ],
      "execution_count": 58,
      "outputs": [
        {
          "output_type": "execute_result",
          "data": {
            "text/plain": [
              "294363"
            ]
          },
          "metadata": {
            "tags": []
          },
          "execution_count": 58
        }
      ]
    },
    {
      "cell_type": "code",
      "metadata": {
        "id": "lFNRn1f6RxaP",
        "colab_type": "code",
        "colab": {}
      },
      "source": [
        "labels = []\n",
        "for i in range(len(sim.hard_pids)):\n",
        "    if sim.hard_pids[i] == 21:\n",
        "        labels.append(0)\n",
        "    else:\n",
        "        labels.append(1)\n",
        "label_array = np.asarray(labels)"
      ],
      "execution_count": 0,
      "outputs": []
    },
    {
      "cell_type": "code",
      "metadata": {
        "id": "YTy6yehNYxDf",
        "colab_type": "code",
        "colab": {}
      },
      "source": [
        "################################### SETTINGS ##################################\n",
        "# the commented values correspond to those in 1810.05165\n",
        "###############################################################################\n",
        "\n",
        "# data controls, can go up to 2000000 total for full dataset\n",
        "train, val, test = 220772, 29436, 44155\n",
        "# train, val, test = 1000000, 200000, 200000\n",
        "\n",
        "# network architecture parameters\n",
        "Phi_sizes, F_sizes = (100, 100, 128), (100, 100, 100)\n",
        "# Phi_sizes, F_sizes = (100, 100, 256), (100, 100, 100)\n",
        "\n",
        "# network training parameters\n",
        "num_epoch = 25\n",
        "batch_size = 500"
      ],
      "execution_count": 0,
      "outputs": []
    },
    {
      "cell_type": "code",
      "metadata": {
        "id": "l5y1GQzDYKVA",
        "colab_type": "code",
        "colab": {}
      },
      "source": [
        "X = jet_array\n",
        "y = label_array"
      ],
      "execution_count": 0,
      "outputs": []
    },
    {
      "cell_type": "code",
      "metadata": {
        "id": "vHptuOGSn3EK",
        "colab_type": "code",
        "colab": {
          "base_uri": "https://localhost:8080/",
          "height": 51
        },
        "outputId": "c77c2227-ffb0-45b0-9135-772ac7e6dbbe"
      },
      "source": [
        "print(len(X))\n",
        "print(len(y))"
      ],
      "execution_count": 71,
      "outputs": [
        {
          "output_type": "stream",
          "text": [
            "294363\n",
            "294363\n"
          ],
          "name": "stdout"
        }
      ]
    },
    {
      "cell_type": "code",
      "metadata": {
        "id": "OR4MgbunYS5h",
        "colab_type": "code",
        "colab": {
          "base_uri": "https://localhost:8080/",
          "height": 1000
        },
        "outputId": "eaea0724-ab60-418a-e265-a472c06c70eb"
      },
      "source": [
        "# ignore pid information\n",
        "X = X[:,:,:3]\n",
        "\n",
        "# convert labels to categorical\n",
        "Y = to_categorical(y, num_classes=2)\n",
        "\n",
        "print('Loaded quark and gluon jets')\n",
        "\n",
        "# preprocess by centering jets and normalizing pts\n",
        "for x in X:\n",
        "    mask = x[:,0] > 0\n",
        "    yphi_avg = np.average(x[mask,1:3], weights=x[mask,0], axis=0)\n",
        "    x[mask,1:3] -= yphi_avg\n",
        "    x[mask,0] /= x[:,0].sum()\n",
        "\n",
        "print('Finished preprocessing')\n",
        "\n",
        "# do train/val/test split \n",
        "(z_train, z_val, z_test, \n",
        " p_train, p_val, p_test,\n",
        " Y_train, Y_val, Y_test) = data_split(X[:,:,0], X[:,:,1:], Y, val=val, test=test)\n",
        "\n",
        "print('Done train/val/test split')\n",
        "print('Model summary:')\n",
        "\n",
        "# build architecture\n",
        "efn = EFN(input_dim=2, Phi_sizes=Phi_sizes, F_sizes=F_sizes)\n",
        "\n",
        "# train model\n",
        "efn.fit([z_train, p_train], Y_train,\n",
        "          epochs=num_epoch,\n",
        "          batch_size=batch_size,\n",
        "          validation_data=([z_val, p_val], Y_val),\n",
        "          verbose=1)\n",
        "\n",
        "# get predictions on test data\n",
        "preds = efn.predict([z_test, p_test], batch_size=1000)\n",
        "\n",
        "# get ROC curve if we have sklearn\n",
        "if roc_curve:\n",
        "    efn_fp, efn_tp, threshs = roc_curve(Y_test[:,1], preds[:,1])\n",
        "\n",
        "    # get area under the ROC curve\n",
        "    auc = roc_auc_score(Y_test[:,1], preds[:,1])\n",
        "    print()\n",
        "    print('EFN AUC:', auc)\n",
        "    print()\n",
        "\n",
        "    # make ROC curve and filter plot if we have matplotlib\n",
        "    if plt:\n",
        "\n",
        "        # some nicer plot settings \n",
        "        plt.rcParams['font.family'] = 'serif'\n",
        "        plt.rcParams['figure.autolayout'] = True\n",
        "\n",
        "        fig, axes = plt.subplots(1, 2, figsize=(8,4))\n",
        "\n",
        "        ######################### ROC Curve Plot #########################\n",
        "\n",
        "        # get multiplicity and mass for comparison\n",
        "        masses = np.asarray([ef.ms_from_p4s(ef.p4s_from_ptyphims(x).sum(axis=0)) for x in X])\n",
        "        mults = np.asarray([np.count_nonzero(x[:,0]) for x in X])\n",
        "        mass_fp, mass_tp, threshs = roc_curve(Y[:,1], -masses)\n",
        "        mult_fp, mult_tp, threshs = roc_curve(Y[:,1], -mults)\n",
        "\n",
        "        # plot the ROC curves\n",
        "        axes[0].plot(efn_tp, 1-efn_fp, '-', color='black', label='EFN')\n",
        "        axes[0].plot(mass_tp, 1-mass_fp, '-', color='blue', label='Jet Mass')\n",
        "        axes[0].plot(mult_tp, 1-mult_fp, '-', color='red', label='Multiplicity')\n",
        "\n",
        "        # axes labels\n",
        "        axes[0].set_xlabel('Quark Jet Efficiency')\n",
        "        axes[0].set_ylabel('Gluon Jet Rejection')\n",
        "\n",
        "        # axes limits\n",
        "        axes[0].set_xlim(0, 1)\n",
        "        axes[0].set_ylim(0, 1)\n",
        "\n",
        "        # make legend and show plot\n",
        "        axes[0].legend(loc='lower left', frameon=False)\n",
        "\n",
        "        ######################### Filter Plot #########################\n",
        "\n",
        "        # plot settings\n",
        "        R, n = 0.4, 100\n",
        "        colors = ['Reds', 'Oranges', 'Greens', 'Blues', 'Purples', 'Greys']\n",
        "        grads = np.linspace(0.45, 0.55, 4)\n",
        "\n",
        "        # evaluate filters\n",
        "        X, Y, Z = efn.eval_filters(R, n=n)\n",
        "\n",
        "        # plot filters\n",
        "        for i,z in enumerate(Z):\n",
        "            axes[1].contourf(X, Y, z/np.max(z), grads, cmap=colors[i%len(colors)])\n",
        "        \n",
        "        axes[1].set_xticks(np.linspace(-R, R, 5))\n",
        "        axes[1].set_yticks(np.linspace(-R, R, 5))\n",
        "        axes[1].set_xticklabels(['-R', '-R/2', '0', 'R/2', 'R'])\n",
        "        axes[1].set_yticklabels(['-R', '-R/2', '0', 'R/2', 'R'])\n",
        "        axes[1].set_xlabel('Translated Rapidity y')\n",
        "        axes[1].set_ylabel('Translated Azimuthal Angle phi')\n",
        "        axes[1].set_title('Energy Flow Network Latent Space', fontdict={'fontsize': 10})\n",
        "    \n",
        "        plt.show()"
      ],
      "execution_count": 72,
      "outputs": [
        {
          "output_type": "stream",
          "text": [
            "Loaded quark and gluon jets\n",
            "Finished preprocessing\n",
            "Done train/val/test split\n",
            "Model summary:\n",
            "Model: \"model_3\"\n",
            "__________________________________________________________________________________________________\n",
            "Layer (type)                    Output Shape         Param #     Connected to                     \n",
            "==================================================================================================\n",
            "phats_input (InputLayer)        (None, None, 2)      0                                            \n",
            "__________________________________________________________________________________________________\n",
            "tdist_0 (TimeDistributed)       (None, None, 100)    300         phats_input[0][0]                \n",
            "__________________________________________________________________________________________________\n",
            "activation_15 (Activation)      (None, None, 100)    0           tdist_0[0][0]                    \n",
            "__________________________________________________________________________________________________\n",
            "tdist_1 (TimeDistributed)       (None, None, 100)    10100       activation_15[0][0]              \n",
            "__________________________________________________________________________________________________\n",
            "activation_16 (Activation)      (None, None, 100)    0           tdist_1[0][0]                    \n",
            "__________________________________________________________________________________________________\n",
            "zs_input (InputLayer)           (None, None)         0                                            \n",
            "__________________________________________________________________________________________________\n",
            "tdist_2 (TimeDistributed)       (None, None, 128)    12928       activation_16[0][0]              \n",
            "__________________________________________________________________________________________________\n",
            "mask (Lambda)                   (None, None)         0           zs_input[0][0]                   \n",
            "__________________________________________________________________________________________________\n",
            "activation_17 (Activation)      (None, None, 128)    0           tdist_2[0][0]                    \n",
            "__________________________________________________________________________________________________\n",
            "sum (Dot)                       (None, 128)          0           mask[0][0]                       \n",
            "                                                                 activation_17[0][0]              \n",
            "__________________________________________________________________________________________________\n",
            "dense_0 (Dense)                 (None, 100)          12900       sum[0][0]                        \n",
            "__________________________________________________________________________________________________\n",
            "activation_18 (Activation)      (None, 100)          0           dense_0[0][0]                    \n",
            "__________________________________________________________________________________________________\n",
            "dense_1 (Dense)                 (None, 100)          10100       activation_18[0][0]              \n",
            "__________________________________________________________________________________________________\n",
            "activation_19 (Activation)      (None, 100)          0           dense_1[0][0]                    \n",
            "__________________________________________________________________________________________________\n",
            "dense_2 (Dense)                 (None, 100)          10100       activation_19[0][0]              \n",
            "__________________________________________________________________________________________________\n",
            "activation_20 (Activation)      (None, 100)          0           dense_2[0][0]                    \n",
            "__________________________________________________________________________________________________\n",
            "output (Dense)                  (None, 2)            202         activation_20[0][0]              \n",
            "__________________________________________________________________________________________________\n",
            "activation_21 (Activation)      (None, 2)            0           output[0][0]                     \n",
            "==================================================================================================\n",
            "Total params: 56,630\n",
            "Trainable params: 56,630\n",
            "Non-trainable params: 0\n",
            "__________________________________________________________________________________________________\n",
            "Train on 220772 samples, validate on 29436 samples\n",
            "Epoch 1/25\n",
            "220772/220772 [==============================] - 14s 64us/step - loss: 0.6236 - acc: 0.6378 - val_loss: 0.6128 - val_acc: 0.6526\n",
            "Epoch 2/25\n",
            "220772/220772 [==============================] - 13s 61us/step - loss: 0.6092 - acc: 0.6553 - val_loss: 0.6058 - val_acc: 0.6584\n",
            "Epoch 3/25\n",
            "220772/220772 [==============================] - 13s 61us/step - loss: 0.6037 - acc: 0.6621 - val_loss: 0.6010 - val_acc: 0.6642\n",
            "Epoch 4/25\n",
            "220772/220772 [==============================] - 13s 61us/step - loss: 0.6008 - acc: 0.6660 - val_loss: 0.5986 - val_acc: 0.6672\n",
            "Epoch 5/25\n",
            "220772/220772 [==============================] - 13s 60us/step - loss: 0.5985 - acc: 0.6683 - val_loss: 0.5975 - val_acc: 0.6690\n",
            "Epoch 6/25\n",
            "220772/220772 [==============================] - 13s 61us/step - loss: 0.5975 - acc: 0.6700 - val_loss: 0.5949 - val_acc: 0.6725\n",
            "Epoch 7/25\n",
            "220772/220772 [==============================] - 13s 61us/step - loss: 0.5957 - acc: 0.6725 - val_loss: 0.5977 - val_acc: 0.6739\n",
            "Epoch 8/25\n",
            "220772/220772 [==============================] - 14s 63us/step - loss: 0.5948 - acc: 0.6732 - val_loss: 0.5961 - val_acc: 0.6729\n",
            "Epoch 9/25\n",
            "220772/220772 [==============================] - 14s 63us/step - loss: 0.5930 - acc: 0.6753 - val_loss: 0.5940 - val_acc: 0.6752\n",
            "Epoch 10/25\n",
            "220772/220772 [==============================] - 14s 62us/step - loss: 0.5923 - acc: 0.6759 - val_loss: 0.5953 - val_acc: 0.6749\n",
            "Epoch 11/25\n",
            "220772/220772 [==============================] - 13s 61us/step - loss: 0.5920 - acc: 0.6754 - val_loss: 0.5929 - val_acc: 0.6760\n",
            "Epoch 12/25\n",
            "220772/220772 [==============================] - 13s 60us/step - loss: 0.5909 - acc: 0.6778 - val_loss: 0.5923 - val_acc: 0.6762\n",
            "Epoch 13/25\n",
            "220772/220772 [==============================] - 14s 61us/step - loss: 0.5907 - acc: 0.6772 - val_loss: 0.5935 - val_acc: 0.6759\n",
            "Epoch 14/25\n",
            "220772/220772 [==============================] - 14s 62us/step - loss: 0.5900 - acc: 0.6790 - val_loss: 0.5896 - val_acc: 0.6798\n",
            "Epoch 15/25\n",
            "220772/220772 [==============================] - 14s 62us/step - loss: 0.5891 - acc: 0.6797 - val_loss: 0.5895 - val_acc: 0.6786\n",
            "Epoch 16/25\n",
            "220772/220772 [==============================] - 14s 63us/step - loss: 0.5883 - acc: 0.6814 - val_loss: 0.5887 - val_acc: 0.6803\n",
            "Epoch 17/25\n",
            "220772/220772 [==============================] - 13s 60us/step - loss: 0.5876 - acc: 0.6815 - val_loss: 0.5876 - val_acc: 0.6820\n",
            "Epoch 18/25\n",
            "220772/220772 [==============================] - 13s 60us/step - loss: 0.5874 - acc: 0.6821 - val_loss: 0.5884 - val_acc: 0.6806\n",
            "Epoch 19/25\n",
            "220772/220772 [==============================] - 13s 60us/step - loss: 0.5866 - acc: 0.6828 - val_loss: 0.5890 - val_acc: 0.6815\n",
            "Epoch 20/25\n",
            "220772/220772 [==============================] - 13s 60us/step - loss: 0.5859 - acc: 0.6829 - val_loss: 0.5897 - val_acc: 0.6784\n",
            "Epoch 21/25\n",
            "220772/220772 [==============================] - 13s 60us/step - loss: 0.5852 - acc: 0.6837 - val_loss: 0.5911 - val_acc: 0.6765\n",
            "Epoch 22/25\n",
            "220772/220772 [==============================] - 13s 60us/step - loss: 0.5851 - acc: 0.6834 - val_loss: 0.5869 - val_acc: 0.6807\n",
            "Epoch 23/25\n",
            "220772/220772 [==============================] - 13s 60us/step - loss: 0.5841 - acc: 0.6845 - val_loss: 0.5874 - val_acc: 0.6807\n",
            "Epoch 24/25\n",
            "220772/220772 [==============================] - 13s 61us/step - loss: 0.5838 - acc: 0.6855 - val_loss: 0.5864 - val_acc: 0.6835\n",
            "Epoch 25/25\n",
            "220772/220772 [==============================] - 13s 60us/step - loss: 0.5835 - acc: 0.6848 - val_loss: 0.5852 - val_acc: 0.6823\n",
            "\n",
            "EFN AUC: 0.7485396249355626\n",
            "\n"
          ],
          "name": "stdout"
        },
        {
          "output_type": "display_data",
          "data": {
            "image/png": "[encoded data removed]",
            "text/plain": [
              "<Figure size 576x288 with 2 Axes>"
            ]
          },
          "metadata": {
            "tags": []
          }
        }
      ]
    },
    {
      "cell_type": "code",
      "metadata": {
        "id": "2spgYY-azxMn",
        "colab_type": "code",
        "outputId": "54440942-7e97-4256-d21b-6b6f27c47c8a",
        "colab": {
          "base_uri": "https://localhost:8080/",
          "height": 34
        }
      },
      "source": [
        "%%writefile /root/.energyflow/examples/efn_example.py\n",
        "\"\"\"An example involving Energy Flow Networks (EFNs), which were introduced\n",
        "in [1810.05165](https://arxiv.org/abs/1810.05165). The [`EFN`](../docs/\n",
        "archs/#efn) class is used to construct the network architecture. The output\n",
        "of the example is a plot of the ROC curves obtained by the EFN as well as\n",
        "the jet mass and constituent multiplicity observables.\n",
        "\"\"\"\n",
        "\n",
        "# standard library imports\n",
        "from __future__ import absolute_import, division, print_function\n",
        "\n",
        "# standard numerical library imports\n",
        "import numpy as np\n",
        "\n",
        "# energyflow imports\n",
        "import energyflow as ef\n",
        "from energyflow.archs import EFN\n",
        "from energyflow.datasets import qg_jets\n",
        "from energyflow.utils import data_split, to_categorical\n",
        "\n",
        "# attempt to import sklearn\n",
        "try:\n",
        "    from sklearn.metrics import roc_auc_score, roc_curve\n",
        "except:\n",
        "    print('please install scikit-learn in order to make ROC curves')\n",
        "    roc_curve = False\n",
        "\n",
        "# attempt to import matplotlib\n",
        "try:\n",
        "    import matplotlib.pyplot as plt\n",
        "except:\n",
        "    print('please install matploltib in order to make plots')\n",
        "    plt = False\n",
        "\n",
        "################################### SETTINGS ##################################\n",
        "# the commented values correspond to those in 1810.05165\n",
        "###############################################################################\n",
        "\n",
        "# data controls, can go up to 2000000 total for full dataset\n",
        "train, val, test = 375000, 50000, 75000\n",
        "# train, val, test = 1000000, 200000, 200000\n",
        "\n",
        "# network architecture parameters\n",
        "Phi_sizes, F_sizes = (100, 100, 128), (100, 100, 100)\n",
        "# Phi_sizes, F_sizes = (100, 100, 256), (100, 100, 100)\n",
        "\n",
        "# network training parameters\n",
        "num_epoch = 35\n",
        "batch_size = 500\n",
        "\n",
        "###############################################################################\n",
        "\n",
        "# load data\n",
        "specs = ['375 <= corr_jet_pts <= 425', 'abs_jet_eta < 1.9', 'quality >= 2']\n",
        "amount = 0.00001\n",
        "sim = ef.mod.load(*specs, dataset='sim', amount=amount)\n",
        "\n",
        "print('Loaded data')\n",
        "\n",
        "Gs = sim.particles[sim.jets_i[:,sim.hard_pid]==21]\n",
        "\n",
        "# preprocess by centering jets and normalizing pts\n",
        "for x in Gs:\n",
        "    mask = x[:,0] > 0\n",
        "    yphi_avg = np.average(x[mask,1:3], weights=x[mask,0], axis=0)\n",
        "    x[mask,1:3] -= yphi_avg\n",
        "    x[mask,0] /= x[:,0].sum()\n",
        "\n",
        "Qs = sim.particles[sim.jets_i[:,sim.hard_pid]!=21]\n",
        "\n",
        "# preprocess by centering jets and normalizing pts\n",
        "for x in Qs:\n",
        "    mask = x[:,0] > 0\n",
        "    yphi_avg = np.average(x[mask,1:3], weights=x[mask,0], axis=0)\n",
        "    x[mask,1:3] -= yphi_avg\n",
        "    x[mask,0] /= x[:,0].sum()\n",
        "\n",
        "\n",
        "X = np.concatenate([Gs, Qs])\n",
        "y = np.concatenate([np.zeros(len(Gs)), np.ones(len(Qs))])\n",
        "\n",
        "# convert labels to categorical\n",
        "Y = to_categorical(y, num_classes=2)\n",
        "\n",
        "(z_train, z_val, z_test, \n",
        " p_train, p_val, p_test,\n",
        " Y_train, Y_val, Y_test) = data_split(X[:,:,0], X[:,:,1:], Y, val=val, test=test)\n",
        "\n",
        "print('Done train/val/test split')\n",
        "print('Model summary:')\n",
        "\n",
        "# build architecture\n",
        "efn = EFN(input_dim=2, Phi_sizes=Phi_sizes, F_sizes=F_sizes)\n",
        "\n",
        "# train model\n",
        "efn.fit([z_train, p_train], Y_train,\n",
        "          epochs=num_epoch,\n",
        "          batch_size=batch_size,\n",
        "          validation_data=([z_val, p_val], Y_val),\n",
        "          verbose=1)\n",
        "\n",
        "# get predictions on test data\n",
        "preds = efn.predict([z_test, p_test], batch_size=1000)\n",
        "\n",
        "# get ROC curve if we have sklearn\n",
        "if roc_curve:\n",
        "    efn_fp, efn_tp, threshs = roc_curve(Y_test[:,1], preds[:,1])\n",
        "\n",
        "    # get area under the ROC curve\n",
        "    auc = roc_auc_score(Y_test[:,1], preds[:,1])\n",
        "    print()\n",
        "    print('EFN AUC:', auc)\n",
        "    print()\n",
        "\n",
        "    # make ROC curve and filter plot if we have matplotlib\n",
        "    if plt:\n",
        "\n",
        "        # some nicer plot settings \n",
        "        plt.rcParams['font.family'] = 'serif'\n",
        "        plt.rcParams['figure.autolayout'] = True\n",
        "\n",
        "        fig, axes = plt.subplots(1, 2, figsize=(8,4))\n",
        "\n",
        "        ######################### ROC Curve Plot #########################\n",
        "\n",
        "        # get multiplicity and mass for comparison\n",
        "        masses = np.asarray([ef.ms_from_p4s(ef.p4s_from_ptyphims(x).sum(axis=0)) for x in X])\n",
        "        mults = np.asarray([np.count_nonzero(x[:,0]) for x in X])\n",
        "        mass_fp, mass_tp, threshs = roc_curve(Y[:,1], -masses)\n",
        "        mult_fp, mult_tp, threshs = roc_curve(Y[:,1], -mults)\n",
        "\n",
        "        # plot the ROC curves\n",
        "        axes[0].plot(efn_tp, 1-efn_fp, '-', color='black', label='EFN')\n",
        "        axes[0].plot(mass_tp, 1-mass_fp, '-', color='blue', label='Jet Mass')\n",
        "        axes[0].plot(mult_tp, 1-mult_fp, '-', color='red', label='Multiplicity')\n",
        "\n",
        "        # axes labels\n",
        "        axes[0].set_xlabel('Quark Jet Efficiency')\n",
        "        axes[0].set_ylabel('Gluon Jet Rejection')\n",
        "\n",
        "        # axes limits\n",
        "        axes[0].set_xlim(0, 1)\n",
        "        axes[0].set_ylim(0, 1)\n",
        "\n",
        "        # make legend and show plot\n",
        "        axes[0].legend(loc='lower left', frameon=False)\n",
        "\n",
        "        ######################### Filter Plot #########################\n",
        "\n",
        "        # plot settings\n",
        "        R, n = 0.4, 100\n",
        "        colors = ['Reds', 'Oranges', 'Greens', 'Blues', 'Purples', 'Greys']\n",
        "        grads = np.linspace(0.45, 0.55, 4)\n",
        "\n",
        "        # evaluate filters\n",
        "        X, Y, Z = efn.eval_filters(R, n=n)\n",
        "\n",
        "        # plot filters\n",
        "        for i,z in enumerate(Z):\n",
        "            axes[1].contourf(X, Y, z/np.max(z), grads, cmap=colors[i%len(colors)])\n",
        "        \n",
        "        axes[1].set_xticks(np.linspace(-R, R, 5))\n",
        "        axes[1].set_yticks(np.linspace(-R, R, 5))\n",
        "        axes[1].set_xticklabels(['-R', '-R/2', '0', 'R/2', 'R'])\n",
        "        axes[1].set_yticklabels(['-R', '-R/2', '0', 'R/2', 'R'])\n",
        "        axes[1].set_xlabel('Translated Rapidity y')\n",
        "        axes[1].set_ylabel('Translated Azimuthal Angle phi')\n",
        "        axes[1].set_title('Energy Flow Network Latent Space', fontdict={'fontsize': 10})\n",
        "    \n",
        "        plt.show()"
      ],
      "execution_count": 0,
      "outputs": [
        {
          "output_type": "stream",
          "text": [
            "Overwriting /root/.energyflow/examples/efn_example.py\n"
          ],
          "name": "stdout"
        }
      ]
    },
    {
      "cell_type": "code",
      "metadata": {
        "id": "Lq8SY4RuSl6B",
        "colab_type": "code",
        "outputId": "e5a9cdc0-6bca-4e2e-cf97-2df470344ee8",
        "colab": {
          "base_uri": "https://localhost:8080/",
          "height": 119
        }
      },
      "source": [
        "!python /root/.energyflow/examples/efn_example.py"
      ],
      "execution_count": 0,
      "outputs": [
        {
          "output_type": "stream",
          "text": [
            "Using TensorFlow backend.\n",
            "Loaded data\n",
            "Traceback (most recent call last):\n",
            "  File \"/root/.energyflow/examples/efn_example.py\", line 86, in <module>\n",
            "    Y_train, Y_val, Y_test) = data_split(X[:,:,0], X[:,:,1:], Y, val=val, test=test)\n",
            "IndexError: too many indices for array\n"
          ],
          "name": "stdout"
        }
      ]
    },
    {
      "cell_type": "code",
      "metadata": {
        "id": "uC94Fk3kqAo5",
        "colab_type": "code",
        "colab": {}
      },
      "source": [
        ""
      ],
      "execution_count": 0,
      "outputs": []
    }
  ]
}