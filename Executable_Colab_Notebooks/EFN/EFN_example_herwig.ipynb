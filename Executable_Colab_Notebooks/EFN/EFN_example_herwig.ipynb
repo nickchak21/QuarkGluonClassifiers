{
  "nbformat": 4,
  "nbformat_minor": 0,
  "metadata": {
    "colab": {
      "name": "EFN_example_herwig.ipynb",
      "provenance": [],
      "include_colab_link": true
    },
    "kernelspec": {
      "name": "python3",
      "display_name": "Python 3"
    },
    "accelerator": "GPU"
  },
  "cells": [
    {
      "cell_type": "markdown",
      "metadata": {
        "id": "view-in-github",
        "colab_type": "text"
      },
      "source": [
        "<a href=\"https://colab.research.google.com/github/nickchak21/QuarkGluonClassifiers/blob/master/Executable_Colab_Notebooks/EFN/EFN_example_herwig.ipynb\" target=\"_parent\"><img src=\"https://colab.research.google.com/assets/colab-badge.svg\" alt=\"Open In Colab\"/></a>"
      ]
    },
    {
      "cell_type": "markdown",
      "metadata": {
        "id": "USjCWuIBv7Fg",
        "colab_type": "text"
      },
      "source": [
        "Installing the energyflow and h5py packages in the Colab environment"
      ]
    },
    {
      "cell_type": "code",
      "metadata": {
        "id": "EDQHdFMzRKws",
        "colab_type": "code",
        "outputId": "6d704412-5658-43e4-8c3d-dd363c597fa4",
        "colab": {
          "base_uri": "https://localhost:8080/",
          "height": 136
        }
      },
      "source": [
        "!pip install energyflow\n",
        "!pip install h5py"
      ],
      "execution_count": 1,
      "outputs": [
        {
          "output_type": "stream",
          "text": [
            "Requirement already satisfied: energyflow in /usr/local/lib/python3.6/dist-packages (1.0.2)\n",
            "Requirement already satisfied: h5py>=2.9.0 in /usr/local/lib/python3.6/dist-packages (from energyflow) (2.10.0)\n",
            "Requirement already satisfied: numpy>=1.14.0 in /usr/local/lib/python3.6/dist-packages (from energyflow) (1.17.5)\n",
            "Requirement already satisfied: six>=1.10.0 in /usr/local/lib/python3.6/dist-packages (from energyflow) (1.12.0)\n",
            "Requirement already satisfied: h5py in /usr/local/lib/python3.6/dist-packages (2.10.0)\n",
            "Requirement already satisfied: numpy>=1.7 in /usr/local/lib/python3.6/dist-packages (from h5py) (1.17.5)\n",
            "Requirement already satisfied: six in /usr/local/lib/python3.6/dist-packages (from h5py) (1.12.0)\n"
          ],
          "name": "stdout"
        }
      ]
    },
    {
      "cell_type": "markdown",
      "metadata": {
        "id": "V5ZGsnsqv96A",
        "colab_type": "text"
      },
      "source": [
        "Checking the version of Python (should be Python 3.6)"
      ]
    },
    {
      "cell_type": "code",
      "metadata": {
        "id": "jCY1hm8xSJyX",
        "colab_type": "code",
        "outputId": "312e63f8-85cc-447b-fd1d-efcf089a0628",
        "colab": {
          "base_uri": "https://localhost:8080/",
          "height": 34
        }
      },
      "source": [
        "!python --version"
      ],
      "execution_count": 2,
      "outputs": [
        {
          "output_type": "stream",
          "text": [
            "Python 3.6.9\n"
          ],
          "name": "stdout"
        }
      ]
    },
    {
      "cell_type": "markdown",
      "metadata": {
        "id": "uajnvw1bwBYX",
        "colab_type": "text"
      },
      "source": [
        "Installing POT (Python Optimal Transport) package"
      ]
    },
    {
      "cell_type": "code",
      "metadata": {
        "id": "1r3rd5lMSYiH",
        "colab_type": "code",
        "outputId": "c5564e85-07f0-45e5-cd54-1da0add01301",
        "colab": {
          "base_uri": "https://localhost:8080/",
          "height": 85
        }
      },
      "source": [
        "!pip install POT"
      ],
      "execution_count": 3,
      "outputs": [
        {
          "output_type": "stream",
          "text": [
            "Requirement already satisfied: POT in /usr/local/lib/python3.6/dist-packages (0.6.0)\n",
            "Requirement already satisfied: numpy in /usr/local/lib/python3.6/dist-packages (from POT) (1.17.5)\n",
            "Requirement already satisfied: scipy in /usr/local/lib/python3.6/dist-packages (from POT) (1.4.1)\n",
            "Requirement already satisfied: cython in /usr/local/lib/python3.6/dist-packages (from POT) (0.29.14)\n"
          ],
          "name": "stdout"
        }
      ]
    },
    {
      "cell_type": "code",
      "metadata": {
        "id": "QN7MEamowNef",
        "colab_type": "code",
        "colab": {
          "base_uri": "https://localhost:8080/",
          "height": 102
        },
        "outputId": "5450ee86-aaeb-465b-d87c-495b5d37f996"
      },
      "source": [
        "%tensorflow_version 1.x #specifies that we want to use TensorFlow 1 (the default on Colab is going to switch soon)"
      ],
      "execution_count": 4,
      "outputs": [
        {
          "output_type": "stream",
          "text": [
            "`%tensorflow_version` only switches the major version: `1.x` or `2.x`.\n",
            "You set: `1.x #specifies that we want to use TensorFlow 1 (the default on Colab is going to switch soon)`. This will be interpreted as: `1.x`.\n",
            "\n",
            "\n",
            "TensorFlow 1.x selected.\n"
          ],
          "name": "stdout"
        }
      ]
    },
    {
      "cell_type": "markdown",
      "metadata": {
        "id": "lmPEP7x_wEp9",
        "colab_type": "text"
      },
      "source": [
        "The following code runs a quark gluon classifier using a EFN (Energy Flow Network) architecture. The input jets are Herwig-generated. The AUC tops out at around 0.81. This model can be trained/validated/tested on more data (up to 500,000 jets in Colab), but we use 220,000 jets total so we can compare it directly to the CNN. Here, we use 165,000 jets to train, 22,000 jets to validate, and and 33,000 jets to test."
      ]
    },
    {
      "cell_type": "code",
      "metadata": {
        "id": "2spgYY-azxMn",
        "colab_type": "code",
        "outputId": "0694e39e-465e-47e3-c25e-061aef5345b1",
        "colab": {
          "base_uri": "https://localhost:8080/",
          "height": 1000
        }
      },
      "source": [
        "\"\"\"An example involving Energy Flow Networks (EFNs), which were introduced\n",
        "in [1810.05165](https://arxiv.org/abs/1810.05165). The [`EFN`](../docs/\n",
        "archs/#efn) class is used to construct the network architecture. The output\n",
        "of the example is a plot of the ROC curves obtained by the EFN as well as\n",
        "the jet mass and constituent multiplicity observables.\n",
        "\"\"\"\n",
        "\n",
        "# standard library imports\n",
        "from __future__ import absolute_import, division, print_function\n",
        "\n",
        "# standard numerical library imports\n",
        "import numpy as np\n",
        "\n",
        "# energyflow imports\n",
        "import energyflow as ef\n",
        "from energyflow.archs import EFN\n",
        "from energyflow.datasets import qg_jets\n",
        "from energyflow.utils import data_split, to_categorical\n",
        "\n",
        "# attempt to import sklearn\n",
        "try:\n",
        "    from sklearn.metrics import roc_auc_score, roc_curve\n",
        "except:\n",
        "    print('please install scikit-learn in order to make ROC curves')\n",
        "    roc_curve = False\n",
        "\n",
        "# attempt to import matplotlib\n",
        "try:\n",
        "    import matplotlib.pyplot as plt\n",
        "except:\n",
        "    print('please install matploltib in order to make plots')\n",
        "    plt = False\n",
        "\n",
        "################################### SETTINGS ##################################\n",
        "# the commented values correspond to those in 1810.05165\n",
        "###############################################################################\n",
        "\n",
        "# data controls, can go up to 2000000 total for full dataset\n",
        "train, val, test = 165000, 22000, 33000\n",
        "# train, val, test = 1000000, 200000, 200000\n",
        "\n",
        "# network architecture parameters\n",
        "Phi_sizes, F_sizes = (100, 100, 128), (100, 100, 100)\n",
        "# Phi_sizes, F_sizes = (100, 100, 256), (100, 100, 100)\n",
        "\n",
        "# network training parameters\n",
        "num_epoch = 30\n",
        "batch_size = 500\n",
        "\n",
        "###############################################################################\n",
        "\n",
        "# load data\n",
        "X, y = qg_jets.load(train + val + test, generator='herwig')\n",
        "\n",
        "# ignore pid information\n",
        "X = X[:,:,:3]\n",
        "\n",
        "# convert labels to categorical\n",
        "Y = to_categorical(y, num_classes=2)\n",
        "\n",
        "print('Loaded quark and gluon jets')\n",
        "\n",
        "# preprocess by centering jets and normalizing pts\n",
        "for x in X:\n",
        "    mask = x[:,0] > 0\n",
        "    yphi_avg = np.average(x[mask,1:3], weights=x[mask,0], axis=0)\n",
        "    x[mask,1:3] -= yphi_avg\n",
        "    x[mask,0] /= x[:,0].sum()\n",
        "\n",
        "print('Finished preprocessing')\n",
        "\n",
        "# do train/val/test split \n",
        "(z_train, z_val, z_test, \n",
        " p_train, p_val, p_test,\n",
        " Y_train, Y_val, Y_test) = data_split(X[:,:,0], X[:,:,1:], Y, val=val, test=test)\n",
        "\n",
        "print('Done train/val/test split')\n",
        "print('Model summary:')\n",
        "\n",
        "# build architecture\n",
        "efn = EFN(input_dim=2, Phi_sizes=Phi_sizes, F_sizes=F_sizes)\n",
        "\n",
        "# train model\n",
        "efn.fit([z_train, p_train], Y_train,\n",
        "          epochs=num_epoch,\n",
        "          batch_size=batch_size,\n",
        "          validation_data=([z_val, p_val], Y_val),\n",
        "          verbose=1)\n",
        "\n",
        "# get predictions on test data\n",
        "preds = efn.predict([z_test, p_test], batch_size=1000)\n",
        "\n",
        "# get ROC curve if we have sklearn\n",
        "if roc_curve:\n",
        "    efn_fp, efn_tp, threshs = roc_curve(Y_test[:,1], preds[:,1])\n",
        "\n",
        "    # get area under the ROC curve\n",
        "    auc = roc_auc_score(Y_test[:,1], preds[:,1])\n",
        "    print()\n",
        "    print('EFN AUC:', auc)\n",
        "    print()\n",
        "\n",
        "    # make ROC curve and filter plot if we have matplotlib\n",
        "    if plt:\n",
        "\n",
        "        # some nicer plot settings \n",
        "        plt.rcParams['font.family'] = 'serif'\n",
        "        plt.rcParams['figure.autolayout'] = True\n",
        "\n",
        "        fig, axes = plt.subplots(1, 2, figsize=(8,4))\n",
        "\n",
        "        ######################### ROC Curve Plot #########################\n",
        "\n",
        "        # get multiplicity and mass for comparison\n",
        "        masses = np.asarray([ef.ms_from_p4s(ef.p4s_from_ptyphims(x).sum(axis=0)) for x in X])\n",
        "        mults = np.asarray([np.count_nonzero(x[:,0]) for x in X])\n",
        "        mass_fp, mass_tp, threshs = roc_curve(Y[:,1], -masses)\n",
        "        mult_fp, mult_tp, threshs = roc_curve(Y[:,1], -mults)\n",
        "\n",
        "        # plot the ROC curves\n",
        "        axes[0].plot(efn_tp, 1-efn_fp, '-', color='black', label='EFN')\n",
        "        axes[0].plot(mass_tp, 1-mass_fp, '-', color='blue', label='Jet Mass')\n",
        "        axes[0].plot(mult_tp, 1-mult_fp, '-', color='red', label='Multiplicity')\n",
        "\n",
        "        # axes labels\n",
        "        axes[0].set_xlabel('Quark Jet Efficiency')\n",
        "        axes[0].set_ylabel('Gluon Jet Rejection')\n",
        "\n",
        "        # axes limits\n",
        "        axes[0].set_xlim(0, 1)\n",
        "        axes[0].set_ylim(0, 1)\n",
        "\n",
        "        # make legend and show plot\n",
        "        axes[0].legend(loc='lower left', frameon=False)\n",
        "\n",
        "        ######################### Filter Plot #########################\n",
        "\n",
        "        # plot settings\n",
        "        R, n = 0.4, 100\n",
        "        colors = ['Reds', 'Oranges', 'Greens', 'Blues', 'Purples', 'Greys']\n",
        "        grads = np.linspace(0.45, 0.55, 4)\n",
        "\n",
        "        # evaluate filters\n",
        "        X, Y, Z = efn.eval_filters(R, n=n)\n",
        "\n",
        "        # plot filters\n",
        "        for i,z in enumerate(Z):\n",
        "            axes[1].contourf(X, Y, z/np.max(z), grads, cmap=colors[i%len(colors)])\n",
        "        \n",
        "        axes[1].set_xticks(np.linspace(-R, R, 5))\n",
        "        axes[1].set_yticks(np.linspace(-R, R, 5))\n",
        "        axes[1].set_xticklabels(['-R', '-R/2', '0', 'R/2', 'R'])\n",
        "        axes[1].set_yticklabels(['-R', '-R/2', '0', 'R/2', 'R'])\n",
        "        axes[1].set_xlabel('Translated Rapidity y')\n",
        "        axes[1].set_ylabel('Translated Azimuthal Angle phi')\n",
        "        axes[1].set_title('Energy Flow Network Latent Space', fontdict={'fontsize': 10})\n",
        "    \n",
        "        plt.show()"
      ],
      "execution_count": 5,
      "outputs": [
        {
          "output_type": "stream",
          "text": [
            "Using TensorFlow backend.\n"
          ],
          "name": "stderr"
        },
        {
          "output_type": "stream",
          "text": [
            "Loaded quark and gluon jets\n",
            "Finished preprocessing\n",
            "Done train/val/test split\n",
            "Model summary:\n",
            "WARNING:tensorflow:From /usr/local/lib/python3.6/dist-packages/keras/backend/tensorflow_backend.py:541: The name tf.placeholder is deprecated. Please use tf.compat.v1.placeholder instead.\n",
            "\n",
            "WARNING:tensorflow:From /usr/local/lib/python3.6/dist-packages/keras/backend/tensorflow_backend.py:66: The name tf.get_default_graph is deprecated. Please use tf.compat.v1.get_default_graph instead.\n",
            "\n",
            "WARNING:tensorflow:From /usr/local/lib/python3.6/dist-packages/keras/backend/tensorflow_backend.py:4432: The name tf.random_uniform is deprecated. Please use tf.random.uniform instead.\n",
            "\n",
            "WARNING:tensorflow:From /usr/local/lib/python3.6/dist-packages/keras/optimizers.py:793: The name tf.train.Optimizer is deprecated. Please use tf.compat.v1.train.Optimizer instead.\n",
            "\n",
            "WARNING:tensorflow:From /usr/local/lib/python3.6/dist-packages/keras/backend/tensorflow_backend.py:3576: The name tf.log is deprecated. Please use tf.math.log instead.\n",
            "\n",
            "Model: \"model_1\"\n",
            "__________________________________________________________________________________________________\n",
            "Layer (type)                    Output Shape         Param #     Connected to                     \n",
            "==================================================================================================\n",
            "phats_input (InputLayer)        (None, None, 2)      0                                            \n",
            "__________________________________________________________________________________________________\n",
            "tdist_0 (TimeDistributed)       (None, None, 100)    300         phats_input[0][0]                \n",
            "__________________________________________________________________________________________________\n",
            "activation_1 (Activation)       (None, None, 100)    0           tdist_0[0][0]                    \n",
            "__________________________________________________________________________________________________\n",
            "tdist_1 (TimeDistributed)       (None, None, 100)    10100       activation_1[0][0]               \n",
            "__________________________________________________________________________________________________\n",
            "activation_2 (Activation)       (None, None, 100)    0           tdist_1[0][0]                    \n",
            "__________________________________________________________________________________________________\n",
            "zs_input (InputLayer)           (None, None)         0                                            \n",
            "__________________________________________________________________________________________________\n",
            "tdist_2 (TimeDistributed)       (None, None, 128)    12928       activation_2[0][0]               \n",
            "__________________________________________________________________________________________________\n",
            "mask (Lambda)                   (None, None)         0           zs_input[0][0]                   \n",
            "__________________________________________________________________________________________________\n",
            "activation_3 (Activation)       (None, None, 128)    0           tdist_2[0][0]                    \n",
            "__________________________________________________________________________________________________\n",
            "sum (Dot)                       (None, 128)          0           mask[0][0]                       \n",
            "                                                                 activation_3[0][0]               \n",
            "__________________________________________________________________________________________________\n",
            "dense_0 (Dense)                 (None, 100)          12900       sum[0][0]                        \n",
            "__________________________________________________________________________________________________\n",
            "activation_4 (Activation)       (None, 100)          0           dense_0[0][0]                    \n",
            "__________________________________________________________________________________________________\n",
            "dense_1 (Dense)                 (None, 100)          10100       activation_4[0][0]               \n",
            "__________________________________________________________________________________________________\n",
            "activation_5 (Activation)       (None, 100)          0           dense_1[0][0]                    \n",
            "__________________________________________________________________________________________________\n",
            "dense_2 (Dense)                 (None, 100)          10100       activation_5[0][0]               \n",
            "__________________________________________________________________________________________________\n",
            "activation_6 (Activation)       (None, 100)          0           dense_2[0][0]                    \n",
            "__________________________________________________________________________________________________\n",
            "output (Dense)                  (None, 2)            202         activation_6[0][0]               \n",
            "__________________________________________________________________________________________________\n",
            "activation_7 (Activation)       (None, 2)            0           output[0][0]                     \n",
            "==================================================================================================\n",
            "Total params: 56,630\n",
            "Trainable params: 56,630\n",
            "Non-trainable params: 0\n",
            "__________________________________________________________________________________________________\n",
            "WARNING:tensorflow:From /usr/local/lib/python3.6/dist-packages/tensorflow_core/python/ops/math_grad.py:1424: where (from tensorflow.python.ops.array_ops) is deprecated and will be removed in a future version.\n",
            "Instructions for updating:\n",
            "Use tf.where in 2.0, which has the same broadcast rule as np.where\n",
            "WARNING:tensorflow:From /usr/local/lib/python3.6/dist-packages/keras/backend/tensorflow_backend.py:1033: The name tf.assign_add is deprecated. Please use tf.compat.v1.assign_add instead.\n",
            "\n",
            "WARNING:tensorflow:From /usr/local/lib/python3.6/dist-packages/keras/backend/tensorflow_backend.py:1020: The name tf.assign is deprecated. Please use tf.compat.v1.assign instead.\n",
            "\n",
            "WARNING:tensorflow:From /usr/local/lib/python3.6/dist-packages/keras/backend/tensorflow_backend.py:3005: The name tf.Session is deprecated. Please use tf.compat.v1.Session instead.\n",
            "\n",
            "Train on 165000 samples, validate on 22000 samples\n",
            "Epoch 1/30\n",
            "WARNING:tensorflow:From /usr/local/lib/python3.6/dist-packages/keras/backend/tensorflow_backend.py:190: The name tf.get_default_session is deprecated. Please use tf.compat.v1.get_default_session instead.\n",
            "\n",
            "WARNING:tensorflow:From /usr/local/lib/python3.6/dist-packages/keras/backend/tensorflow_backend.py:197: The name tf.ConfigProto is deprecated. Please use tf.compat.v1.ConfigProto instead.\n",
            "\n",
            "WARNING:tensorflow:From /usr/local/lib/python3.6/dist-packages/keras/backend/tensorflow_backend.py:207: The name tf.global_variables is deprecated. Please use tf.compat.v1.global_variables instead.\n",
            "\n",
            "WARNING:tensorflow:From /usr/local/lib/python3.6/dist-packages/keras/backend/tensorflow_backend.py:216: The name tf.is_variable_initialized is deprecated. Please use tf.compat.v1.is_variable_initialized instead.\n",
            "\n",
            "WARNING:tensorflow:From /usr/local/lib/python3.6/dist-packages/keras/backend/tensorflow_backend.py:223: The name tf.variables_initializer is deprecated. Please use tf.compat.v1.variables_initializer instead.\n",
            "\n",
            "165000/165000 [==============================] - 5s 29us/step - loss: 0.6025 - acc: 0.6706 - val_loss: 0.5836 - val_acc: 0.6831\n",
            "Epoch 2/30\n",
            "165000/165000 [==============================] - 4s 22us/step - loss: 0.5703 - acc: 0.7025 - val_loss: 0.5609 - val_acc: 0.7125\n",
            "Epoch 3/30\n",
            "165000/165000 [==============================] - 4s 22us/step - loss: 0.5589 - acc: 0.7137 - val_loss: 0.5610 - val_acc: 0.7167\n",
            "Epoch 4/30\n",
            "165000/165000 [==============================] - 4s 22us/step - loss: 0.5574 - acc: 0.7163 - val_loss: 0.5557 - val_acc: 0.7202\n",
            "Epoch 5/30\n",
            "165000/165000 [==============================] - 4s 22us/step - loss: 0.5550 - acc: 0.7178 - val_loss: 0.5496 - val_acc: 0.7248\n",
            "Epoch 6/30\n",
            "165000/165000 [==============================] - 4s 22us/step - loss: 0.5527 - acc: 0.7195 - val_loss: 0.5496 - val_acc: 0.7247\n",
            "Epoch 7/30\n",
            "165000/165000 [==============================] - 4s 22us/step - loss: 0.5515 - acc: 0.7208 - val_loss: 0.5465 - val_acc: 0.7287\n",
            "Epoch 8/30\n",
            "165000/165000 [==============================] - 4s 22us/step - loss: 0.5503 - acc: 0.7215 - val_loss: 0.5464 - val_acc: 0.7262\n",
            "Epoch 9/30\n",
            "165000/165000 [==============================] - 4s 23us/step - loss: 0.5492 - acc: 0.7222 - val_loss: 0.5519 - val_acc: 0.7222\n",
            "Epoch 10/30\n",
            "165000/165000 [==============================] - 4s 22us/step - loss: 0.5487 - acc: 0.7227 - val_loss: 0.5451 - val_acc: 0.7314\n",
            "Epoch 11/30\n",
            "165000/165000 [==============================] - 4s 22us/step - loss: 0.5469 - acc: 0.7247 - val_loss: 0.5477 - val_acc: 0.7287\n",
            "Epoch 12/30\n",
            "165000/165000 [==============================] - 4s 22us/step - loss: 0.5460 - acc: 0.7256 - val_loss: 0.5463 - val_acc: 0.7250\n",
            "Epoch 13/30\n",
            "165000/165000 [==============================] - 4s 23us/step - loss: 0.5445 - acc: 0.7263 - val_loss: 0.5432 - val_acc: 0.7295\n",
            "Epoch 14/30\n",
            "165000/165000 [==============================] - 4s 22us/step - loss: 0.5431 - acc: 0.7277 - val_loss: 0.5392 - val_acc: 0.7323\n",
            "Epoch 15/30\n",
            "165000/165000 [==============================] - 4s 22us/step - loss: 0.5412 - acc: 0.7285 - val_loss: 0.5417 - val_acc: 0.7307\n",
            "Epoch 16/30\n",
            "165000/165000 [==============================] - 4s 22us/step - loss: 0.5399 - acc: 0.7294 - val_loss: 0.5386 - val_acc: 0.7332\n",
            "Epoch 17/30\n",
            "165000/165000 [==============================] - 4s 23us/step - loss: 0.5387 - acc: 0.7302 - val_loss: 0.5383 - val_acc: 0.7319\n",
            "Epoch 18/30\n",
            "165000/165000 [==============================] - 4s 22us/step - loss: 0.5388 - acc: 0.7305 - val_loss: 0.5393 - val_acc: 0.7332\n",
            "Epoch 19/30\n",
            "165000/165000 [==============================] - 4s 22us/step - loss: 0.5375 - acc: 0.7318 - val_loss: 0.5388 - val_acc: 0.7352\n",
            "Epoch 20/30\n",
            "165000/165000 [==============================] - 4s 22us/step - loss: 0.5366 - acc: 0.7325 - val_loss: 0.5372 - val_acc: 0.7312\n",
            "Epoch 21/30\n",
            "165000/165000 [==============================] - 4s 22us/step - loss: 0.5363 - acc: 0.7322 - val_loss: 0.5374 - val_acc: 0.7340\n",
            "Epoch 22/30\n",
            "165000/165000 [==============================] - 4s 22us/step - loss: 0.5362 - acc: 0.7326 - val_loss: 0.5378 - val_acc: 0.7346\n",
            "Epoch 23/30\n",
            "165000/165000 [==============================] - 4s 22us/step - loss: 0.5350 - acc: 0.7331 - val_loss: 0.5348 - val_acc: 0.7351\n",
            "Epoch 24/30\n",
            "165000/165000 [==============================] - 4s 22us/step - loss: 0.5346 - acc: 0.7336 - val_loss: 0.5372 - val_acc: 0.7347\n",
            "Epoch 25/30\n",
            "165000/165000 [==============================] - 4s 22us/step - loss: 0.5340 - acc: 0.7346 - val_loss: 0.5358 - val_acc: 0.7362\n",
            "Epoch 26/30\n",
            "165000/165000 [==============================] - 4s 23us/step - loss: 0.5343 - acc: 0.7354 - val_loss: 0.5363 - val_acc: 0.7341\n",
            "Epoch 27/30\n",
            "165000/165000 [==============================] - 4s 22us/step - loss: 0.5331 - acc: 0.7345 - val_loss: 0.5335 - val_acc: 0.7367\n",
            "Epoch 28/30\n",
            "165000/165000 [==============================] - 4s 22us/step - loss: 0.5328 - acc: 0.7354 - val_loss: 0.5340 - val_acc: 0.7360\n",
            "Epoch 29/30\n",
            "165000/165000 [==============================] - 4s 22us/step - loss: 0.5330 - acc: 0.7349 - val_loss: 0.5350 - val_acc: 0.7347\n",
            "Epoch 30/30\n",
            "165000/165000 [==============================] - 4s 22us/step - loss: 0.5320 - acc: 0.7365 - val_loss: 0.5341 - val_acc: 0.7366\n",
            "\n",
            "EFN AUC: 0.8046811532032515\n",
            "\n"
          ],
          "name": "stdout"
        },
        {
          "output_type": "display_data",
          "data": {
            "image/png": "[encoded data removed]",
            "text/plain": [
              "<Figure size 576x288 with 2 Axes>"
            ]
          },
          "metadata": {
            "tags": []
          }
        }
      ]
    }
  ]
}