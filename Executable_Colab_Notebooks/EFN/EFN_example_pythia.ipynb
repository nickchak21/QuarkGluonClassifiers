{
  "nbformat": 4,
  "nbformat_minor": 0,
  "metadata": {
    "colab": {
      "name": "EFN_example_pythia.ipynb",
      "provenance": [],
      "include_colab_link": true
    },
    "kernelspec": {
      "name": "python3",
      "display_name": "Python 3"
    },
    "accelerator": "GPU"
  },
  "cells": [
    {
      "cell_type": "markdown",
      "metadata": {
        "id": "view-in-github",
        "colab_type": "text"
      },
      "source": [
        "<a href=\"https://colab.research.google.com/github/nickchak21/QuarkGluonClassifiers/blob/master/Executable_Colab_Notebooks/EFN/EFN_example_pythia.ipynb\" target=\"_parent\"><img src=\"https://colab.research.google.com/assets/colab-badge.svg\" alt=\"Open In Colab\"/></a>"
      ]
    },
    {
      "cell_type": "markdown",
      "metadata": {
        "id": "GXyZm4FNtT2P",
        "colab_type": "text"
      },
      "source": [
        "Installing the energyflow and h5py packages in the Colab environment"
      ]
    },
    {
      "cell_type": "code",
      "metadata": {
        "id": "EDQHdFMzRKws",
        "colab_type": "code",
        "outputId": "618399af-be7a-4501-dd0c-d6b6b2307b1b",
        "colab": {
          "base_uri": "https://localhost:8080/",
          "height": 289
        }
      },
      "source": [
        "!pip install energyflow\n",
        "!pip install h5py"
      ],
      "execution_count": 1,
      "outputs": [
        {
          "output_type": "stream",
          "text": [
            "Collecting energyflow\n",
            "\u001b[?25l  Downloading https://files.pythonhosted.org/packages/ae/45/acf4909dfffb6e5712f14f8ca4f3708fafea36b348854e0a5e38860bfda7/EnergyFlow-1.0.2-py2.py3-none-any.whl (688kB)\n",
            "\r\u001b[K     |▌                               | 10kB 23.5MB/s eta 0:00:01\r\u001b[K     |█                               | 20kB 30.6MB/s eta 0:00:01\r\u001b[K     |█▍                              | 30kB 36.0MB/s eta 0:00:01\r\u001b[K     |██                              | 40kB 40.0MB/s eta 0:00:01\r\u001b[K     |██▍                             | 51kB 36.1MB/s eta 0:00:01\r\u001b[K     |██▉                             | 61kB 38.7MB/s eta 0:00:01\r\u001b[K     |███▎                            | 71kB 31.7MB/s eta 0:00:01\r\u001b[K     |███▉                            | 81kB 30.0MB/s eta 0:00:01\r\u001b[K     |████▎                           | 92kB 31.8MB/s eta 0:00:01\r\u001b[K     |████▊                           | 102kB 33.1MB/s eta 0:00:01\r\u001b[K     |█████▎                          | 112kB 33.1MB/s eta 0:00:01\r\u001b[K     |█████▊                          | 122kB 33.1MB/s eta 0:00:01\r\u001b[K     |██████▏                         | 133kB 33.1MB/s eta 0:00:01\r\u001b[K     |██████▋                         | 143kB 33.1MB/s eta 0:00:01\r\u001b[K     |███████▏                        | 153kB 33.1MB/s eta 0:00:01\r\u001b[K     |███████▋                        | 163kB 33.1MB/s eta 0:00:01\r\u001b[K     |████████                        | 174kB 33.1MB/s eta 0:00:01\r\u001b[K     |████████▋                       | 184kB 33.1MB/s eta 0:00:01\r\u001b[K     |█████████                       | 194kB 33.1MB/s eta 0:00:01\r\u001b[K     |█████████▌                      | 204kB 33.1MB/s eta 0:00:01\r\u001b[K     |██████████                      | 215kB 33.1MB/s eta 0:00:01\r\u001b[K     |██████████▌                     | 225kB 33.1MB/s eta 0:00:01\r\u001b[K     |███████████                     | 235kB 33.1MB/s eta 0:00:01\r\u001b[K     |███████████▍                    | 245kB 33.1MB/s eta 0:00:01\r\u001b[K     |████████████                    | 256kB 33.1MB/s eta 0:00:01\r\u001b[K     |████████████▍                   | 266kB 33.1MB/s eta 0:00:01\r\u001b[K     |████████████▉                   | 276kB 33.1MB/s eta 0:00:01\r\u001b[K     |█████████████▎                  | 286kB 33.1MB/s eta 0:00:01\r\u001b[K     |█████████████▉                  | 296kB 33.1MB/s eta 0:00:01\r\u001b[K     |██████████████▎                 | 307kB 33.1MB/s eta 0:00:01\r\u001b[K     |██████████████▊                 | 317kB 33.1MB/s eta 0:00:01\r\u001b[K     |███████████████▎                | 327kB 33.1MB/s eta 0:00:01\r\u001b[K     |███████████████▊                | 337kB 33.1MB/s eta 0:00:01\r\u001b[K     |████████████████▏               | 348kB 33.1MB/s eta 0:00:01\r\u001b[K     |████████████████▋               | 358kB 33.1MB/s eta 0:00:01\r\u001b[K     |█████████████████▏              | 368kB 33.1MB/s eta 0:00:01\r\u001b[K     |█████████████████▋              | 378kB 33.1MB/s eta 0:00:01\r\u001b[K     |██████████████████              | 389kB 33.1MB/s eta 0:00:01\r\u001b[K     |██████████████████▋             | 399kB 33.1MB/s eta 0:00:01\r\u001b[K     |███████████████████             | 409kB 33.1MB/s eta 0:00:01\r\u001b[K     |███████████████████▌            | 419kB 33.1MB/s eta 0:00:01\r\u001b[K     |████████████████████            | 430kB 33.1MB/s eta 0:00:01\r\u001b[K     |████████████████████▌           | 440kB 33.1MB/s eta 0:00:01\r\u001b[K     |█████████████████████           | 450kB 33.1MB/s eta 0:00:01\r\u001b[K     |█████████████████████▍          | 460kB 33.1MB/s eta 0:00:01\r\u001b[K     |██████████████████████          | 471kB 33.1MB/s eta 0:00:01\r\u001b[K     |██████████████████████▍         | 481kB 33.1MB/s eta 0:00:01\r\u001b[K     |██████████████████████▉         | 491kB 33.1MB/s eta 0:00:01\r\u001b[K     |███████████████████████▎        | 501kB 33.1MB/s eta 0:00:01\r\u001b[K     |███████████████████████▉        | 512kB 33.1MB/s eta 0:00:01\r\u001b[K     |████████████████████████▎       | 522kB 33.1MB/s eta 0:00:01\r\u001b[K     |████████████████████████▊       | 532kB 33.1MB/s eta 0:00:01\r\u001b[K     |█████████████████████████▎      | 542kB 33.1MB/s eta 0:00:01\r\u001b[K     |█████████████████████████▊      | 552kB 33.1MB/s eta 0:00:01\r\u001b[K     |██████████████████████████▏     | 563kB 33.1MB/s eta 0:00:01\r\u001b[K     |██████████████████████████▋     | 573kB 33.1MB/s eta 0:00:01\r\u001b[K     |███████████████████████████▏    | 583kB 33.1MB/s eta 0:00:01\r\u001b[K     |███████████████████████████▋    | 593kB 33.1MB/s eta 0:00:01\r\u001b[K     |████████████████████████████    | 604kB 33.1MB/s eta 0:00:01\r\u001b[K     |████████████████████████████▋   | 614kB 33.1MB/s eta 0:00:01\r\u001b[K     |█████████████████████████████   | 624kB 33.1MB/s eta 0:00:01\r\u001b[K     |█████████████████████████████▌  | 634kB 33.1MB/s eta 0:00:01\r\u001b[K     |██████████████████████████████  | 645kB 33.1MB/s eta 0:00:01\r\u001b[K     |██████████████████████████████▌ | 655kB 33.1MB/s eta 0:00:01\r\u001b[K     |███████████████████████████████ | 665kB 33.1MB/s eta 0:00:01\r\u001b[K     |███████████████████████████████▍| 675kB 33.1MB/s eta 0:00:01\r\u001b[K     |████████████████████████████████| 686kB 33.1MB/s eta 0:00:01\r\u001b[K     |████████████████████████████████| 696kB 33.1MB/s \n",
            "\u001b[?25hRequirement already satisfied: six>=1.10.0 in /usr/local/lib/python3.6/dist-packages (from energyflow) (1.12.0)\n",
            "Collecting h5py>=2.9.0\n",
            "\u001b[?25l  Downloading https://files.pythonhosted.org/packages/60/06/cafdd44889200e5438b897388f3075b52a8ef01f28a17366d91de0fa2d05/h5py-2.10.0-cp36-cp36m-manylinux1_x86_64.whl (2.9MB)\n",
            "\u001b[K     |████████████████████████████████| 2.9MB 54.7MB/s \n",
            "\u001b[?25hRequirement already satisfied: numpy>=1.14.0 in /usr/local/lib/python3.6/dist-packages (from energyflow) (1.17.5)\n",
            "Installing collected packages: h5py, energyflow\n",
            "  Found existing installation: h5py 2.8.0\n",
            "    Uninstalling h5py-2.8.0:\n",
            "      Successfully uninstalled h5py-2.8.0\n",
            "Successfully installed energyflow-1.0.2 h5py-2.10.0\n",
            "Requirement already satisfied: h5py in /usr/local/lib/python3.6/dist-packages (2.10.0)\n",
            "Requirement already satisfied: numpy>=1.7 in /usr/local/lib/python3.6/dist-packages (from h5py) (1.17.5)\n",
            "Requirement already satisfied: six in /usr/local/lib/python3.6/dist-packages (from h5py) (1.12.0)\n"
          ],
          "name": "stdout"
        }
      ]
    },
    {
      "cell_type": "markdown",
      "metadata": {
        "id": "1ir2ZBxqtWsf",
        "colab_type": "text"
      },
      "source": [
        "Checking the version of Python (should be Python 3.6)"
      ]
    },
    {
      "cell_type": "code",
      "metadata": {
        "id": "jCY1hm8xSJyX",
        "colab_type": "code",
        "outputId": "07afe412-8f80-4166-d713-371bedc904f8",
        "colab": {
          "base_uri": "https://localhost:8080/",
          "height": 34
        }
      },
      "source": [
        "!python --version"
      ],
      "execution_count": 2,
      "outputs": [
        {
          "output_type": "stream",
          "text": [
            "Python 3.6.9\n"
          ],
          "name": "stdout"
        }
      ]
    },
    {
      "cell_type": "markdown",
      "metadata": {
        "id": "n-Ei3slwtZyU",
        "colab_type": "text"
      },
      "source": [
        "Installing POT (Python Optimal Transport) package"
      ]
    },
    {
      "cell_type": "code",
      "metadata": {
        "id": "1r3rd5lMSYiH",
        "colab_type": "code",
        "outputId": "df0c45b2-1bd6-47df-9f1d-3b4c8cf95510",
        "colab": {
          "base_uri": "https://localhost:8080/",
          "height": 153
        }
      },
      "source": [
        "!pip install POT"
      ],
      "execution_count": 3,
      "outputs": [
        {
          "output_type": "stream",
          "text": [
            "Collecting POT\n",
            "\u001b[?25l  Downloading https://files.pythonhosted.org/packages/15/36/07d3c0960a590b88b81fa1837e666cc7479b90c7e9fd1063024ce9331122/POT-0.6.0-cp36-cp36m-manylinux1_x86_64.whl (305kB)\n",
            "\r\u001b[K     |█                               | 10kB 27.1MB/s eta 0:00:01\r\u001b[K     |██▏                             | 20kB 35.1MB/s eta 0:00:01\r\u001b[K     |███▏                            | 30kB 39.9MB/s eta 0:00:01\r\u001b[K     |████▎                           | 40kB 45.0MB/s eta 0:00:01\r\u001b[K     |█████▍                          | 51kB 18.1MB/s eta 0:00:01\r\u001b[K     |██████▍                         | 61kB 16.9MB/s eta 0:00:01\r\u001b[K     |███████▌                        | 71kB 15.8MB/s eta 0:00:01\r\u001b[K     |████████▋                       | 81kB 15.4MB/s eta 0:00:01\r\u001b[K     |█████████▋                      | 92kB 15.4MB/s eta 0:00:01\r\u001b[K     |██████████▊                     | 102kB 14.9MB/s eta 0:00:01\r\u001b[K     |███████████▉                    | 112kB 14.9MB/s eta 0:00:01\r\u001b[K     |████████████▉                   | 122kB 14.9MB/s eta 0:00:01\r\u001b[K     |██████████████                  | 133kB 14.9MB/s eta 0:00:01\r\u001b[K     |███████████████                 | 143kB 14.9MB/s eta 0:00:01\r\u001b[K     |████████████████                | 153kB 14.9MB/s eta 0:00:01\r\u001b[K     |█████████████████▏              | 163kB 14.9MB/s eta 0:00:01\r\u001b[K     |██████████████████▎             | 174kB 14.9MB/s eta 0:00:01\r\u001b[K     |███████████████████▎            | 184kB 14.9MB/s eta 0:00:01\r\u001b[K     |████████████████████▍           | 194kB 14.9MB/s eta 0:00:01\r\u001b[K     |█████████████████████▍          | 204kB 14.9MB/s eta 0:00:01\r\u001b[K     |██████████████████████▌         | 215kB 14.9MB/s eta 0:00:01\r\u001b[K     |███████████████████████▋        | 225kB 14.9MB/s eta 0:00:01\r\u001b[K     |████████████████████████▋       | 235kB 14.9MB/s eta 0:00:01\r\u001b[K     |█████████████████████████▊      | 245kB 14.9MB/s eta 0:00:01\r\u001b[K     |██████████████████████████▉     | 256kB 14.9MB/s eta 0:00:01\r\u001b[K     |███████████████████████████▉    | 266kB 14.9MB/s eta 0:00:01\r\u001b[K     |█████████████████████████████   | 276kB 14.9MB/s eta 0:00:01\r\u001b[K     |██████████████████████████████  | 286kB 14.9MB/s eta 0:00:01\r\u001b[K     |███████████████████████████████ | 296kB 14.9MB/s eta 0:00:01\r\u001b[K     |████████████████████████████████| 307kB 14.9MB/s \n",
            "\u001b[?25hRequirement already satisfied: scipy in /usr/local/lib/python3.6/dist-packages (from POT) (1.4.1)\n",
            "Requirement already satisfied: numpy in /usr/local/lib/python3.6/dist-packages (from POT) (1.17.5)\n",
            "Requirement already satisfied: cython in /usr/local/lib/python3.6/dist-packages (from POT) (0.29.14)\n",
            "Installing collected packages: POT\n",
            "Successfully installed POT-0.6.0\n"
          ],
          "name": "stdout"
        }
      ]
    },
    {
      "cell_type": "code",
      "metadata": {
        "id": "TUjxXh_vuhEQ",
        "colab_type": "code",
        "colab": {}
      },
      "source": [
        "%tensorflow_version 1.x #specifies that we want to use TensorFlow 1 (the default on Colab is going to switch soon)"
      ],
      "execution_count": 0,
      "outputs": []
    },
    {
      "cell_type": "markdown",
      "metadata": {
        "id": "sIsmSjAouBeu",
        "colab_type": "text"
      },
      "source": [
        "The following code runs a quark gluon classifier using a EFN (Energy Flow Network) architecture. The input jets are Pythia-generated. The AUC tops out at around 0.87. This model can be trained/validated/tested on more data (up to 500,000 jets in Colab), but we use 220,000 jets total so we can compare it directly to the CNN. Here, we use 165,000 jets to train, 22,000 jets to validate, and and 33,000 jets to test."
      ]
    },
    {
      "cell_type": "code",
      "metadata": {
        "id": "2spgYY-azxMn",
        "colab_type": "code",
        "outputId": "e8470d58-81e5-40e0-cc53-63eff804191d",
        "colab": {
          "base_uri": "https://localhost:8080/",
          "height": 1000
        }
      },
      "source": [
        "\"\"\"An example involving Energy Flow Networks (EFNs), which were introduced\n",
        "in [1810.05165](https://arxiv.org/abs/1810.05165). The [`EFN`](../docs/\n",
        "archs/#efn) class is used to construct the network architecture. The output\n",
        "of the example is a plot of the ROC curves obtained by the EFN as well as\n",
        "the jet mass and constituent multiplicity observables.\n",
        "\"\"\"\n",
        "\n",
        "# standard library imports\n",
        "from __future__ import absolute_import, division, print_function\n",
        "\n",
        "# standard numerical library imports\n",
        "import numpy as np\n",
        "\n",
        "# energyflow imports\n",
        "import energyflow as ef\n",
        "from energyflow.archs import EFN\n",
        "from energyflow.datasets import qg_jets\n",
        "from energyflow.utils import data_split, to_categorical\n",
        "\n",
        "# attempt to import sklearn\n",
        "try:\n",
        "    from sklearn.metrics import roc_auc_score, roc_curve\n",
        "except:\n",
        "    print('please install scikit-learn in order to make ROC curves')\n",
        "    roc_curve = False\n",
        "\n",
        "# attempt to import matplotlib\n",
        "try:\n",
        "    import matplotlib.pyplot as plt\n",
        "except:\n",
        "    print('please install matploltib in order to make plots')\n",
        "    plt = False\n",
        "\n",
        "################################### SETTINGS ##################################\n",
        "# the commented values correspond to those in 1810.05165\n",
        "###############################################################################\n",
        "\n",
        "# data controls, can go up to 2000000 total for full dataset\n",
        "train, val, test = 165000, 22000, 33000\n",
        "# train, val, test = 1000000, 200000, 200000\n",
        "\n",
        "# network architecture parameters\n",
        "Phi_sizes, F_sizes = (100, 100, 128), (100, 100, 100)\n",
        "# Phi_sizes, F_sizes = (100, 100, 256), (100, 100, 100)\n",
        "\n",
        "# network training parameters\n",
        "num_epoch = 30\n",
        "batch_size = 500\n",
        "\n",
        "###############################################################################\n",
        "\n",
        "# load data\n",
        "X, y = qg_jets.load(train + val + test)\n",
        "\n",
        "# ignore pid information\n",
        "X = X[:,:,:3]\n",
        "\n",
        "# convert labels to categorical\n",
        "Y = to_categorical(y, num_classes=2)\n",
        "\n",
        "print('Loaded quark and gluon jets')\n",
        "\n",
        "# preprocess by centering jets and normalizing pts\n",
        "for x in X:\n",
        "    mask = x[:,0] > 0\n",
        "    yphi_avg = np.average(x[mask,1:3], weights=x[mask,0], axis=0)\n",
        "    x[mask,1:3] -= yphi_avg\n",
        "    x[mask,0] /= x[:,0].sum()\n",
        "\n",
        "print('Finished preprocessing')\n",
        "\n",
        "# do train/val/test split \n",
        "(z_train, z_val, z_test, \n",
        " p_train, p_val, p_test,\n",
        " Y_train, Y_val, Y_test) = data_split(X[:,:,0], X[:,:,1:], Y, val=val, test=test)\n",
        "\n",
        "print('Done train/val/test split')\n",
        "print('Model summary:')\n",
        "\n",
        "# build architecture\n",
        "efn = EFN(input_dim=2, Phi_sizes=Phi_sizes, F_sizes=F_sizes)\n",
        "\n",
        "# train model\n",
        "efn.fit([z_train, p_train], Y_train,\n",
        "          epochs=num_epoch,\n",
        "          batch_size=batch_size,\n",
        "          validation_data=([z_val, p_val], Y_val),\n",
        "          verbose=1)\n",
        "\n",
        "# get predictions on test data\n",
        "preds = efn.predict([z_test, p_test], batch_size=1000)\n",
        "\n",
        "# get ROC curve if we have sklearn\n",
        "if roc_curve:\n",
        "    efn_fp, efn_tp, threshs = roc_curve(Y_test[:,1], preds[:,1])\n",
        "\n",
        "    # get area under the ROC curve\n",
        "    auc = roc_auc_score(Y_test[:,1], preds[:,1])\n",
        "    print()\n",
        "    print('EFN AUC:', auc)\n",
        "    print()\n",
        "\n",
        "    # make ROC curve and filter plot if we have matplotlib\n",
        "    if plt:\n",
        "\n",
        "        # some nicer plot settings \n",
        "        plt.rcParams['font.family'] = 'serif'\n",
        "        plt.rcParams['figure.autolayout'] = True\n",
        "\n",
        "        fig, axes = plt.subplots(1, 2, figsize=(8,4))\n",
        "\n",
        "        ######################### ROC Curve Plot #########################\n",
        "\n",
        "        # get multiplicity and mass for comparison\n",
        "        masses = np.asarray([ef.ms_from_p4s(ef.p4s_from_ptyphims(x).sum(axis=0)) for x in X])\n",
        "        mults = np.asarray([np.count_nonzero(x[:,0]) for x in X])\n",
        "        mass_fp, mass_tp, threshs = roc_curve(Y[:,1], -masses)\n",
        "        mult_fp, mult_tp, threshs = roc_curve(Y[:,1], -mults)\n",
        "\n",
        "        # plot the ROC curves\n",
        "        axes[0].plot(efn_tp, 1-efn_fp, '-', color='black', label='EFN')\n",
        "        axes[0].plot(mass_tp, 1-mass_fp, '-', color='blue', label='Jet Mass')\n",
        "        axes[0].plot(mult_tp, 1-mult_fp, '-', color='red', label='Multiplicity')\n",
        "\n",
        "        # axes labels\n",
        "        axes[0].set_xlabel('Quark Jet Efficiency')\n",
        "        axes[0].set_ylabel('Gluon Jet Rejection')\n",
        "\n",
        "        # axes limits\n",
        "        axes[0].set_xlim(0, 1)\n",
        "        axes[0].set_ylim(0, 1)\n",
        "\n",
        "        # make legend and show plot\n",
        "        axes[0].legend(loc='lower left', frameon=False)\n",
        "\n",
        "        ######################### Filter Plot #########################\n",
        "\n",
        "        # plot settings\n",
        "        R, n = 0.4, 100\n",
        "        colors = ['Reds', 'Oranges', 'Greens', 'Blues', 'Purples', 'Greys']\n",
        "        grads = np.linspace(0.45, 0.55, 4)\n",
        "\n",
        "        # evaluate filters\n",
        "        X, Y, Z = efn.eval_filters(R, n=n)\n",
        "\n",
        "        # plot filters\n",
        "        for i,z in enumerate(Z):\n",
        "            axes[1].contourf(X, Y, z/np.max(z), grads, cmap=colors[i%len(colors)])\n",
        "        \n",
        "        axes[1].set_xticks(np.linspace(-R, R, 5))\n",
        "        axes[1].set_yticks(np.linspace(-R, R, 5))\n",
        "        axes[1].set_xticklabels(['-R', '-R/2', '0', 'R/2', 'R'])\n",
        "        axes[1].set_yticklabels(['-R', '-R/2', '0', 'R/2', 'R'])\n",
        "        axes[1].set_xlabel('Translated Rapidity y')\n",
        "        axes[1].set_ylabel('Translated Azimuthal Angle phi')\n",
        "        axes[1].set_title('Energy Flow Network Latent Space', fontdict={'fontsize': 10})\n",
        "    \n",
        "        plt.show()"
      ],
      "execution_count": 4,
      "outputs": [
        {
          "output_type": "stream",
          "text": [
            "Using TensorFlow backend.\n"
          ],
          "name": "stderr"
        },
        {
          "output_type": "display_data",
          "data": {
            "text/html": [
              "<p style=\"color: red;\">\n",
              "The default version of TensorFlow in Colab will soon switch to TensorFlow 2.x.<br>\n",
              "We recommend you <a href=\"https://www.tensorflow.org/guide/migrate\" target=\"_blank\">upgrade</a> now \n",
              "or ensure your notebook will continue to use TensorFlow 1.x via the <code>%tensorflow_version 1.x</code> magic:\n",
              "<a href=\"https://colab.research.google.com/notebooks/tensorflow_version.ipynb\" target=\"_blank\">more info</a>.</p>\n"
            ],
            "text/plain": [
              "<IPython.core.display.HTML object>"
            ]
          },
          "metadata": {
            "tags": []
          }
        },
        {
          "output_type": "stream",
          "text": [
            "Downloading QG_jets.npz from https://www.dropbox.com/s/fclsl7pukcpobsb/QG_jets.npz?dl=1 to /root/.energyflow/datasets\n",
            "Downloading QG_jets_1.npz from https://www.dropbox.com/s/ztzd1a6lkmgovuy/QG_jets_1.npz?dl=1 to /root/.energyflow/datasets\n",
            "Downloading QG_jets_2.npz from https://www.dropbox.com/s/jzgc9e786tbk1m5/QG_jets_2.npz?dl=1 to /root/.energyflow/datasets\n",
            "Loaded quark and gluon jets\n",
            "Finished preprocessing\n",
            "Done train/val/test split\n",
            "Model summary:\n",
            "WARNING:tensorflow:From /usr/local/lib/python3.6/dist-packages/keras/backend/tensorflow_backend.py:541: The name tf.placeholder is deprecated. Please use tf.compat.v1.placeholder instead.\n",
            "\n",
            "WARNING:tensorflow:From /usr/local/lib/python3.6/dist-packages/keras/backend/tensorflow_backend.py:66: The name tf.get_default_graph is deprecated. Please use tf.compat.v1.get_default_graph instead.\n",
            "\n",
            "WARNING:tensorflow:From /usr/local/lib/python3.6/dist-packages/keras/backend/tensorflow_backend.py:4432: The name tf.random_uniform is deprecated. Please use tf.random.uniform instead.\n",
            "\n",
            "WARNING:tensorflow:From /usr/local/lib/python3.6/dist-packages/keras/optimizers.py:793: The name tf.train.Optimizer is deprecated. Please use tf.compat.v1.train.Optimizer instead.\n",
            "\n",
            "WARNING:tensorflow:From /usr/local/lib/python3.6/dist-packages/keras/backend/tensorflow_backend.py:3576: The name tf.log is deprecated. Please use tf.math.log instead.\n",
            "\n",
            "Model: \"model_1\"\n",
            "__________________________________________________________________________________________________\n",
            "Layer (type)                    Output Shape         Param #     Connected to                     \n",
            "==================================================================================================\n",
            "phats_input (InputLayer)        (None, None, 2)      0                                            \n",
            "__________________________________________________________________________________________________\n",
            "tdist_0 (TimeDistributed)       (None, None, 100)    300         phats_input[0][0]                \n",
            "__________________________________________________________________________________________________\n",
            "activation_1 (Activation)       (None, None, 100)    0           tdist_0[0][0]                    \n",
            "__________________________________________________________________________________________________\n",
            "tdist_1 (TimeDistributed)       (None, None, 100)    10100       activation_1[0][0]               \n",
            "__________________________________________________________________________________________________\n",
            "activation_2 (Activation)       (None, None, 100)    0           tdist_1[0][0]                    \n",
            "__________________________________________________________________________________________________\n",
            "zs_input (InputLayer)           (None, None)         0                                            \n",
            "__________________________________________________________________________________________________\n",
            "tdist_2 (TimeDistributed)       (None, None, 128)    12928       activation_2[0][0]               \n",
            "__________________________________________________________________________________________________\n",
            "mask (Lambda)                   (None, None)         0           zs_input[0][0]                   \n",
            "__________________________________________________________________________________________________\n",
            "activation_3 (Activation)       (None, None, 128)    0           tdist_2[0][0]                    \n",
            "__________________________________________________________________________________________________\n",
            "sum (Dot)                       (None, 128)          0           mask[0][0]                       \n",
            "                                                                 activation_3[0][0]               \n",
            "__________________________________________________________________________________________________\n",
            "dense_0 (Dense)                 (None, 100)          12900       sum[0][0]                        \n",
            "__________________________________________________________________________________________________\n",
            "activation_4 (Activation)       (None, 100)          0           dense_0[0][0]                    \n",
            "__________________________________________________________________________________________________\n",
            "dense_1 (Dense)                 (None, 100)          10100       activation_4[0][0]               \n",
            "__________________________________________________________________________________________________\n",
            "activation_5 (Activation)       (None, 100)          0           dense_1[0][0]                    \n",
            "__________________________________________________________________________________________________\n",
            "dense_2 (Dense)                 (None, 100)          10100       activation_5[0][0]               \n",
            "__________________________________________________________________________________________________\n",
            "activation_6 (Activation)       (None, 100)          0           dense_2[0][0]                    \n",
            "__________________________________________________________________________________________________\n",
            "output (Dense)                  (None, 2)            202         activation_6[0][0]               \n",
            "__________________________________________________________________________________________________\n",
            "activation_7 (Activation)       (None, 2)            0           output[0][0]                     \n",
            "==================================================================================================\n",
            "Total params: 56,630\n",
            "Trainable params: 56,630\n",
            "Non-trainable params: 0\n",
            "__________________________________________________________________________________________________\n",
            "WARNING:tensorflow:From /usr/local/lib/python3.6/dist-packages/tensorflow_core/python/ops/math_grad.py:1424: where (from tensorflow.python.ops.array_ops) is deprecated and will be removed in a future version.\n",
            "Instructions for updating:\n",
            "Use tf.where in 2.0, which has the same broadcast rule as np.where\n",
            "WARNING:tensorflow:From /usr/local/lib/python3.6/dist-packages/keras/backend/tensorflow_backend.py:1033: The name tf.assign_add is deprecated. Please use tf.compat.v1.assign_add instead.\n",
            "\n",
            "WARNING:tensorflow:From /usr/local/lib/python3.6/dist-packages/keras/backend/tensorflow_backend.py:1020: The name tf.assign is deprecated. Please use tf.compat.v1.assign instead.\n",
            "\n",
            "WARNING:tensorflow:From /usr/local/lib/python3.6/dist-packages/keras/backend/tensorflow_backend.py:3005: The name tf.Session is deprecated. Please use tf.compat.v1.Session instead.\n",
            "\n",
            "Train on 165000 samples, validate on 22000 samples\n",
            "Epoch 1/30\n",
            "WARNING:tensorflow:From /usr/local/lib/python3.6/dist-packages/keras/backend/tensorflow_backend.py:190: The name tf.get_default_session is deprecated. Please use tf.compat.v1.get_default_session instead.\n",
            "\n",
            "WARNING:tensorflow:From /usr/local/lib/python3.6/dist-packages/keras/backend/tensorflow_backend.py:197: The name tf.ConfigProto is deprecated. Please use tf.compat.v1.ConfigProto instead.\n",
            "\n",
            "WARNING:tensorflow:From /usr/local/lib/python3.6/dist-packages/keras/backend/tensorflow_backend.py:207: The name tf.global_variables is deprecated. Please use tf.compat.v1.global_variables instead.\n",
            "\n",
            "WARNING:tensorflow:From /usr/local/lib/python3.6/dist-packages/keras/backend/tensorflow_backend.py:216: The name tf.is_variable_initialized is deprecated. Please use tf.compat.v1.is_variable_initialized instead.\n",
            "\n",
            "WARNING:tensorflow:From /usr/local/lib/python3.6/dist-packages/keras/backend/tensorflow_backend.py:223: The name tf.variables_initializer is deprecated. Please use tf.compat.v1.variables_initializer instead.\n",
            "\n",
            "165000/165000 [==============================] - 14s 85us/step - loss: 0.5524 - acc: 0.7188 - val_loss: 0.5114 - val_acc: 0.7547\n",
            "Epoch 2/30\n",
            "165000/165000 [==============================] - 4s 24us/step - loss: 0.5033 - acc: 0.7577 - val_loss: 0.5016 - val_acc: 0.7555\n",
            "Epoch 3/30\n",
            "165000/165000 [==============================] - 4s 24us/step - loss: 0.4946 - acc: 0.7638 - val_loss: 0.4919 - val_acc: 0.7642\n",
            "Epoch 4/30\n",
            "165000/165000 [==============================] - 4s 24us/step - loss: 0.4903 - acc: 0.7667 - val_loss: 0.4893 - val_acc: 0.7670\n",
            "Epoch 5/30\n",
            "165000/165000 [==============================] - 4s 24us/step - loss: 0.4851 - acc: 0.7715 - val_loss: 0.4830 - val_acc: 0.7725\n",
            "Epoch 6/30\n",
            "165000/165000 [==============================] - 4s 24us/step - loss: 0.4799 - acc: 0.7739 - val_loss: 0.4787 - val_acc: 0.7757\n",
            "Epoch 7/30\n",
            "165000/165000 [==============================] - 4s 24us/step - loss: 0.4774 - acc: 0.7767 - val_loss: 0.4721 - val_acc: 0.7785\n",
            "Epoch 8/30\n",
            "165000/165000 [==============================] - 4s 24us/step - loss: 0.4728 - acc: 0.7786 - val_loss: 0.4673 - val_acc: 0.7841\n",
            "Epoch 9/30\n",
            "165000/165000 [==============================] - 4s 24us/step - loss: 0.4710 - acc: 0.7801 - val_loss: 0.4707 - val_acc: 0.7821\n",
            "Epoch 10/30\n",
            "165000/165000 [==============================] - 4s 24us/step - loss: 0.4685 - acc: 0.7814 - val_loss: 0.4667 - val_acc: 0.7824\n",
            "Epoch 11/30\n",
            "165000/165000 [==============================] - 4s 24us/step - loss: 0.4661 - acc: 0.7830 - val_loss: 0.4634 - val_acc: 0.7857\n",
            "Epoch 12/30\n",
            "165000/165000 [==============================] - 4s 24us/step - loss: 0.4641 - acc: 0.7846 - val_loss: 0.4622 - val_acc: 0.7850\n",
            "Epoch 13/30\n",
            "165000/165000 [==============================] - 4s 24us/step - loss: 0.4635 - acc: 0.7853 - val_loss: 0.4625 - val_acc: 0.7854\n",
            "Epoch 14/30\n",
            "165000/165000 [==============================] - 4s 24us/step - loss: 0.4612 - acc: 0.7872 - val_loss: 0.4687 - val_acc: 0.7827\n",
            "Epoch 15/30\n",
            "165000/165000 [==============================] - 4s 24us/step - loss: 0.4597 - acc: 0.7878 - val_loss: 0.4609 - val_acc: 0.7879\n",
            "Epoch 16/30\n",
            "165000/165000 [==============================] - 4s 24us/step - loss: 0.4586 - acc: 0.7878 - val_loss: 0.4624 - val_acc: 0.7867\n",
            "Epoch 17/30\n",
            "165000/165000 [==============================] - 4s 24us/step - loss: 0.4582 - acc: 0.7882 - val_loss: 0.4571 - val_acc: 0.7912\n",
            "Epoch 18/30\n",
            "165000/165000 [==============================] - 4s 24us/step - loss: 0.4565 - acc: 0.7898 - val_loss: 0.4588 - val_acc: 0.7908\n",
            "Epoch 19/30\n",
            "165000/165000 [==============================] - 4s 24us/step - loss: 0.4556 - acc: 0.7900 - val_loss: 0.4550 - val_acc: 0.7915\n",
            "Epoch 20/30\n",
            "165000/165000 [==============================] - 4s 24us/step - loss: 0.4544 - acc: 0.7908 - val_loss: 0.4547 - val_acc: 0.7920\n",
            "Epoch 21/30\n",
            "165000/165000 [==============================] - 4s 24us/step - loss: 0.4535 - acc: 0.7912 - val_loss: 0.4572 - val_acc: 0.7910\n",
            "Epoch 22/30\n",
            "165000/165000 [==============================] - 4s 24us/step - loss: 0.4521 - acc: 0.7924 - val_loss: 0.4550 - val_acc: 0.7914\n",
            "Epoch 23/30\n",
            "165000/165000 [==============================] - 4s 24us/step - loss: 0.4506 - acc: 0.7932 - val_loss: 0.4560 - val_acc: 0.7930\n",
            "Epoch 24/30\n",
            "165000/165000 [==============================] - 4s 24us/step - loss: 0.4500 - acc: 0.7945 - val_loss: 0.4527 - val_acc: 0.7942\n",
            "Epoch 25/30\n",
            "165000/165000 [==============================] - 4s 24us/step - loss: 0.4485 - acc: 0.7946 - val_loss: 0.4512 - val_acc: 0.7940\n",
            "Epoch 26/30\n",
            "165000/165000 [==============================] - 4s 24us/step - loss: 0.4484 - acc: 0.7953 - val_loss: 0.4531 - val_acc: 0.7944\n",
            "Epoch 27/30\n",
            "165000/165000 [==============================] - 4s 24us/step - loss: 0.4472 - acc: 0.7962 - val_loss: 0.4507 - val_acc: 0.7935\n",
            "Epoch 28/30\n",
            "165000/165000 [==============================] - 4s 24us/step - loss: 0.4465 - acc: 0.7955 - val_loss: 0.4514 - val_acc: 0.7938\n",
            "Epoch 29/30\n",
            "165000/165000 [==============================] - 4s 24us/step - loss: 0.4458 - acc: 0.7964 - val_loss: 0.4504 - val_acc: 0.7949\n",
            "Epoch 30/30\n",
            "165000/165000 [==============================] - 4s 24us/step - loss: 0.4448 - acc: 0.7980 - val_loss: 0.4512 - val_acc: 0.7941\n",
            "\n",
            "EFN AUC: 0.8677444603831928\n",
            "\n"
          ],
          "name": "stdout"
        },
        {
          "output_type": "display_data",
          "data": {
            "image/png": "[encoded data removed]",
            "text/plain": [
              "<Figure size 576x288 with 2 Axes>"
            ]
          },
          "metadata": {
            "tags": []
          }
        }
      ]
    }
  ]
}