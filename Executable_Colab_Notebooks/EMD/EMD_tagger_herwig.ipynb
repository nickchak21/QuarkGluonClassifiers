{
  "nbformat": 4,
  "nbformat_minor": 0,
  "metadata": {
    "colab": {
      "name": "EMD_tagger_herwig.ipynb",
      "provenance": [],
      "include_colab_link": true
    },
    "kernelspec": {
      "name": "python3",
      "display_name": "Python 3"
    },
    "accelerator": "GPU"
  },
  "cells": [
    {
      "cell_type": "markdown",
      "metadata": {
        "id": "view-in-github",
        "colab_type": "text"
      },
      "source": [
        "<a href=\"https://colab.research.google.com/github/nickchak21/QuarkGluonClassifiers/blob/master/Executable_Colab_Notebooks/EMD/EMD_tagger_herwig.ipynb\" target=\"_parent\"><img src=\"https://colab.research.google.com/assets/colab-badge.svg\" alt=\"Open In Colab\"/></a>"
      ]
    },
    {
      "cell_type": "markdown",
      "metadata": {
        "id": "gvkExqeYGvkn",
        "colab_type": "text"
      },
      "source": [
        "Installing the energyflow and h5py packages in the Colab environment"
      ]
    },
    {
      "cell_type": "code",
      "metadata": {
        "id": "EDQHdFMzRKws",
        "colab_type": "code",
        "outputId": "8586d608-6afd-45fe-c902-4d17c2da5fe8",
        "colab": {
          "base_uri": "https://localhost:8080/",
          "height": 289
        }
      },
      "source": [
        "!pip install energyflow\n",
        "!pip install h5py"
      ],
      "execution_count": 1,
      "outputs": [
        {
          "output_type": "stream",
          "text": [
            "Collecting energyflow\n",
            "\u001b[?25l  Downloading https://files.pythonhosted.org/packages/ae/45/acf4909dfffb6e5712f14f8ca4f3708fafea36b348854e0a5e38860bfda7/EnergyFlow-1.0.2-py2.py3-none-any.whl (688kB)\n",
            "\u001b[K     |████████████████████████████████| 696kB 4.8MB/s \n",
            "\u001b[?25hRequirement already satisfied: six>=1.10.0 in /usr/local/lib/python3.6/dist-packages (from energyflow) (1.12.0)\n",
            "Requirement already satisfied: numpy>=1.14.0 in /usr/local/lib/python3.6/dist-packages (from energyflow) (1.17.5)\n",
            "Collecting h5py>=2.9.0\n",
            "\u001b[?25l  Downloading https://files.pythonhosted.org/packages/60/06/cafdd44889200e5438b897388f3075b52a8ef01f28a17366d91de0fa2d05/h5py-2.10.0-cp36-cp36m-manylinux1_x86_64.whl (2.9MB)\n",
            "\u001b[K     |████████████████████████████████| 2.9MB 46.1MB/s \n",
            "\u001b[?25hInstalling collected packages: h5py, energyflow\n",
            "  Found existing installation: h5py 2.8.0\n",
            "    Uninstalling h5py-2.8.0:\n",
            "      Successfully uninstalled h5py-2.8.0\n",
            "Successfully installed energyflow-1.0.2 h5py-2.10.0\n",
            "Requirement already satisfied: h5py in /usr/local/lib/python3.6/dist-packages (2.10.0)\n",
            "Requirement already satisfied: six in /usr/local/lib/python3.6/dist-packages (from h5py) (1.12.0)\n",
            "Requirement already satisfied: numpy>=1.7 in /usr/local/lib/python3.6/dist-packages (from h5py) (1.17.5)\n"
          ],
          "name": "stdout"
        }
      ]
    },
    {
      "cell_type": "markdown",
      "metadata": {
        "id": "GwYvHj0EG1_D",
        "colab_type": "text"
      },
      "source": [
        "Checking the version of Python (should be Python 3.6)"
      ]
    },
    {
      "cell_type": "code",
      "metadata": {
        "id": "jCY1hm8xSJyX",
        "colab_type": "code",
        "outputId": "65e556d3-a91e-40a7-c8bb-50fd25d8f45b",
        "colab": {
          "base_uri": "https://localhost:8080/",
          "height": 34
        }
      },
      "source": [
        "!python --version"
      ],
      "execution_count": 2,
      "outputs": [
        {
          "output_type": "stream",
          "text": [
            "Python 3.6.9\n"
          ],
          "name": "stdout"
        }
      ]
    },
    {
      "cell_type": "markdown",
      "metadata": {
        "id": "jL7ZDlqrG7_f",
        "colab_type": "text"
      },
      "source": [
        "Installing POT (Python Optimal Transport) package"
      ]
    },
    {
      "cell_type": "code",
      "metadata": {
        "id": "1r3rd5lMSYiH",
        "colab_type": "code",
        "outputId": "afa36e62-6104-4814-e3a9-8e80ce1763f2",
        "colab": {
          "base_uri": "https://localhost:8080/",
          "height": 153
        }
      },
      "source": [
        "!pip install POT"
      ],
      "execution_count": 3,
      "outputs": [
        {
          "output_type": "stream",
          "text": [
            "Collecting POT\n",
            "\u001b[?25l  Downloading https://files.pythonhosted.org/packages/15/36/07d3c0960a590b88b81fa1837e666cc7479b90c7e9fd1063024ce9331122/POT-0.6.0-cp36-cp36m-manylinux1_x86_64.whl (305kB)\n",
            "\r\u001b[K     |█                               | 10kB 27.0MB/s eta 0:00:01\r\u001b[K     |██▏                             | 20kB 2.9MB/s eta 0:00:01\r\u001b[K     |███▏                            | 30kB 3.7MB/s eta 0:00:01\r\u001b[K     |████▎                           | 40kB 2.8MB/s eta 0:00:01\r\u001b[K     |█████▍                          | 51kB 3.2MB/s eta 0:00:01\r\u001b[K     |██████▍                         | 61kB 3.8MB/s eta 0:00:01\r\u001b[K     |███████▌                        | 71kB 4.2MB/s eta 0:00:01\r\u001b[K     |████████▋                       | 81kB 4.3MB/s eta 0:00:01\r\u001b[K     |█████████▋                      | 92kB 4.8MB/s eta 0:00:01\r\u001b[K     |██████████▊                     | 102kB 4.6MB/s eta 0:00:01\r\u001b[K     |███████████▉                    | 112kB 4.6MB/s eta 0:00:01\r\u001b[K     |████████████▉                   | 122kB 4.6MB/s eta 0:00:01\r\u001b[K     |██████████████                  | 133kB 4.6MB/s eta 0:00:01\r\u001b[K     |███████████████                 | 143kB 4.6MB/s eta 0:00:01\r\u001b[K     |████████████████                | 153kB 4.6MB/s eta 0:00:01\r\u001b[K     |█████████████████▏              | 163kB 4.6MB/s eta 0:00:01\r\u001b[K     |██████████████████▎             | 174kB 4.6MB/s eta 0:00:01\r\u001b[K     |███████████████████▎            | 184kB 4.6MB/s eta 0:00:01\r\u001b[K     |████████████████████▍           | 194kB 4.6MB/s eta 0:00:01\r\u001b[K     |█████████████████████▍          | 204kB 4.6MB/s eta 0:00:01\r\u001b[K     |██████████████████████▌         | 215kB 4.6MB/s eta 0:00:01\r\u001b[K     |███████████████████████▋        | 225kB 4.6MB/s eta 0:00:01\r\u001b[K     |████████████████████████▋       | 235kB 4.6MB/s eta 0:00:01\r\u001b[K     |█████████████████████████▊      | 245kB 4.6MB/s eta 0:00:01\r\u001b[K     |██████████████████████████▉     | 256kB 4.6MB/s eta 0:00:01\r\u001b[K     |███████████████████████████▉    | 266kB 4.6MB/s eta 0:00:01\r\u001b[K     |█████████████████████████████   | 276kB 4.6MB/s eta 0:00:01\r\u001b[K     |██████████████████████████████  | 286kB 4.6MB/s eta 0:00:01\r\u001b[K     |███████████████████████████████ | 296kB 4.6MB/s eta 0:00:01\r\u001b[K     |████████████████████████████████| 307kB 4.6MB/s \n",
            "\u001b[?25hRequirement already satisfied: scipy in /usr/local/lib/python3.6/dist-packages (from POT) (1.4.1)\n",
            "Requirement already satisfied: numpy in /usr/local/lib/python3.6/dist-packages (from POT) (1.17.5)\n",
            "Requirement already satisfied: cython in /usr/local/lib/python3.6/dist-packages (from POT) (0.29.14)\n",
            "Installing collected packages: POT\n",
            "Successfully installed POT-0.6.0\n"
          ],
          "name": "stdout"
        }
      ]
    },
    {
      "cell_type": "markdown",
      "metadata": {
        "id": "B9UhUZX5MI9c",
        "colab_type": "text"
      },
      "source": [
        "The following code runs a quark gluon classifier using a EMD (Energy Mover's Distance) tagger. The input jets are Pythia-generated. The AUC tops out at around 0.81. This model loads 200 candidate jets and 4000 known jets. The candidate jets are evaluated by calculating each EMD to the known jets, then selecting the n closest jets. Then, if quark-originating jets are more present among the n closest jets, the candidate is classified as a quark. Vice versa for gluons."
      ]
    },
    {
      "cell_type": "code",
      "metadata": {
        "id": "Lq8SY4RuSl6B",
        "colab_type": "code",
        "colab": {}
      },
      "source": [
        "import numpy as np\n",
        "%matplotlib inline\n",
        "import matplotlib \n",
        "import matplotlib.pyplot as plt\n",
        "\n",
        "from energyflow.emd import emd, emds\n",
        "from energyflow.datasets import qg_jets\n",
        "from energyflow.utils import sum_ptyphipids\n",
        "import ot\n",
        "\n",
        "from sklearn.metrics import roc_auc_score, roc_curve\n",
        "from ot.lp import emd_c, check_result\n",
        "from scipy.spatial.distance import _distance_wrap"
      ],
      "execution_count": 0,
      "outputs": []
    },
    {
      "cell_type": "code",
      "metadata": {
        "id": "eJbr1j15S0QC",
        "colab_type": "code",
        "colab": {}
      },
      "source": [
        "# data controls.\n",
        "# we will use the n nearest neighbors in the \"electorate\" to vote on what kind of jet each candidate is.\n",
        "candidates, electorate = 200, 2000"
      ],
      "execution_count": 0,
      "outputs": []
    },
    {
      "cell_type": "code",
      "metadata": {
        "id": "Yltn1nBIS2YG",
        "colab_type": "code",
        "outputId": "87772e10-512e-4bfe-8d17-e819dc4fb16a",
        "colab": {
          "base_uri": "https://localhost:8080/",
          "height": 34
        }
      },
      "source": [
        "# load quark and gluon jets from Pythia. We want candidates + electorate of *each.*\n",
        "# Quarks are labeled \"1\" in this dataset, gluons are \"0\"\n",
        "\n",
        "# Shapes of jet,label are: (num_data,max_num_particles,4) and (num_data).\n",
        "# coordinates are:  (pt,y,phi,pid)\n",
        "# pad=False makes array of objects, not numbers.\n",
        "# Load extrajets to be sure we get enough of each type.\n",
        "extrajets = candidates\n",
        "jets,labels = qg_jets.load(2*(candidates + electorate + extrajets), generator='herwig', pad=False)\n",
        "maxevts = candidates+electorate\n",
        "nprint = int(maxevts*maxevts/10)\n",
        "\n",
        "# the jet radius for these jets\n",
        "jetR = 0.4"
      ],
      "execution_count": 6,
      "outputs": [
        {
          "output_type": "stream",
          "text": [
            "Downloading QG_jets_herwig_0.npz from https://www.dropbox.com/s/xizexr2tjq2bm59/QG_jets_herwig_0.npz?dl=1 to /root/.energyflow/datasets\n"
          ],
          "name": "stdout"
        }
      ]
    },
    {
      "cell_type": "code",
      "metadata": {
        "id": "eVP-MmUsS9i0",
        "colab_type": "code",
        "outputId": "8f1d8317-2680-4825-8ae0-a4c69e2061d3",
        "colab": {
          "base_uri": "https://localhost:8080/",
          "height": 34
        }
      },
      "source": [
        "#normalizing jets and center pts\n",
        "Gs = []\n",
        "Qs = []\n",
        "\n",
        "for arr,events in [(Gs, jets[labels==0]), (Qs, jets[labels==1])]:\n",
        "    for i,x in enumerate(events):\n",
        "        if i >= maxevts:  break\n",
        "        # ignore padded particles (not used) and remove particle id information(:3)\n",
        "        x = x[x[:,0] > 0,:3]\n",
        "        # center jet according to pt-centroid\n",
        "        yphi_avg = np.average(x[:,1:3], weights=x[:,0], axis=0)\n",
        "        x[:,1:3] -= yphi_avg\n",
        "        # mask out any particles farther than R=0.4 away from center (rare)\n",
        "        x = x[np.linalg.norm(x[:,1:3], axis=1) <= jetR]\n",
        "        # add to list\n",
        "        arr.append(x)\n",
        "        pass #evts\n",
        "    pass #gluonquark\n",
        "\n",
        "#amount of items in quark and gluon sets\n",
        "len(Gs), len(Qs)"
      ],
      "execution_count": 7,
      "outputs": [
        {
          "output_type": "execute_result",
          "data": {
            "text/plain": [
              "(2200, 2200)"
            ]
          },
          "metadata": {
            "tags": []
          },
          "execution_count": 7
        }
      ]
    },
    {
      "cell_type": "code",
      "metadata": {
        "id": "eLsLvijZTWqc",
        "colab_type": "code",
        "outputId": "af11fc11-a377-45bb-9b04-7a31ee427ddb",
        "colab": {
          "base_uri": "https://localhost:8080/",
          "height": 34
        }
      },
      "source": [
        "#constituent/electorate list. These particles will \"vote\" on whether candidate is quark or gluon\n",
        "constituentList = Gs[candidates:]+Qs[candidates:]\n",
        "len(constituentList)"
      ],
      "execution_count": 8,
      "outputs": [
        {
          "output_type": "execute_result",
          "data": {
            "text/plain": [
              "4000"
            ]
          },
          "metadata": {
            "tags": []
          },
          "execution_count": 8
        }
      ]
    },
    {
      "cell_type": "code",
      "metadata": {
        "id": "cO0QCIuATa6M",
        "colab_type": "code",
        "outputId": "d301d6ee-b1b9-4915-c159-b1d45c95adf8",
        "colab": {
          "base_uri": "https://localhost:8080/",
          "height": 153
        }
      },
      "source": [
        "#array of distances of gluon candidate from all constituents. shape is (candidates,constituents)\n",
        "costM_g  = emds(Gs[0:candidates], constituentList, R=jetR, norm=True, verbose=1, n_jobs=4, print_every=nprint)\n",
        "#ditto for quarks.\n",
        "costM_q  = emds(Qs[0:candidates], constituentList, R=jetR, norm=True, verbose=1, n_jobs=4, print_every=nprint)"
      ],
      "execution_count": 9,
      "outputs": [
        {
          "output_type": "stream",
          "text": [
            "Processed 4200 events for asymmetric EMD computation in 0.099s\n",
            "Using 4 worker processes:\n",
            "  Computed 484000 EMDs, 60.50% done in 98.09s\n",
            "  Computed 800000 EMDs, 100.00% done in 163.16s\n",
            "Processed 4200 events for asymmetric EMD computation in 0.039s\n",
            "Using 4 worker processes:\n",
            "  Computed 484000 EMDs, 60.50% done in 69.65s\n",
            "  Computed 800000 EMDs, 100.00% done in 111.82s\n"
          ],
          "name": "stdout"
        }
      ]
    },
    {
      "cell_type": "code",
      "metadata": {
        "id": "7lRaSxHPTjgm",
        "colab_type": "code",
        "colab": {}
      },
      "source": [
        "#returns the sorted list indices of costM_g and costM_q\n",
        "indicesG=np.argsort(costM_g)\n",
        "indicesQ=np.argsort(costM_q)"
      ],
      "execution_count": 0,
      "outputs": []
    },
    {
      "cell_type": "code",
      "metadata": {
        "id": "KZyECp4HTkjw",
        "colab_type": "code",
        "colab": {}
      },
      "source": [
        "#generates predictions for particles using 10 closest jets (according to EMD)\n",
        "h_Gten_array = []\n",
        "h_Qten_array = []\n",
        "h_Gtwt_array = []\n",
        "h_Qtwt_array = []\n",
        "\n",
        "nVoters = 10\n",
        "for i in range(candidates): h_Gten_array.append(sum(indicesG[i,:nVoters] < electorate)/nVoters)\n",
        "for i in range(candidates): h_Qten_array.append(sum(indicesQ[i,:nVoters] < electorate)/nVoters)\n",
        "nVoters = 20\n",
        "for i in range(candidates): h_Gtwt_array.append(sum(indicesG[i,:nVoters] < electorate)/nVoters)  \n",
        "for i in range(candidates): h_Qtwt_array.append(sum(indicesQ[i,:nVoters] < electorate)/nVoters)"
      ],
      "execution_count": 0,
      "outputs": []
    },
    {
      "cell_type": "code",
      "metadata": {
        "id": "6wCFbn07TpTq",
        "colab_type": "code",
        "colab": {}
      },
      "source": [
        "#calculates AUC score for classification using 10 closest jets\n",
        "\n",
        "h_Gten_nparray = np.asarray(h_Gten_array)\n",
        "h_Qten_nparray = np.asarray(h_Qten_array)\n",
        "h_Gtwt_nparray = np.asarray(h_Gtwt_array)\n",
        "h_Qtwt_nparray = np.asarray(h_Qtwt_array)\n",
        "\n",
        "true_y_g = np.ones(200)\n",
        "true_y_q = np.zeros(200)\n",
        "\n",
        "true_values = np.concatenate([true_y_g, true_y_q])\n",
        "\n",
        "ten_predicted = np.concatenate([h_Gten_nparray, h_Qten_nparray])\n",
        "emd_auc_10 = roc_auc_score(y_true=true_values, y_score=ten_predicted)"
      ],
      "execution_count": 0,
      "outputs": []
    },
    {
      "cell_type": "code",
      "metadata": {
        "id": "ikISnOF4T0pD",
        "colab_type": "code",
        "outputId": "ea532b81-5be3-4239-de01-212e3d268d77",
        "colab": {
          "base_uri": "https://localhost:8080/",
          "height": 34
        }
      },
      "source": [
        "#print AUC score for 10 closest jets\n",
        "print(\"EMD AUC 10 voters: \", emd_auc_10)"
      ],
      "execution_count": 13,
      "outputs": [
        {
          "output_type": "stream",
          "text": [
            "EMD AUC 10 voters:  0.7783625000000001\n"
          ],
          "name": "stdout"
        }
      ]
    },
    {
      "cell_type": "code",
      "metadata": {
        "id": "uSOi5Uo0T2Sw",
        "colab_type": "code",
        "outputId": "250bbd22-c2dd-4326-e015-b218cd201566",
        "colab": {
          "base_uri": "https://localhost:8080/",
          "height": 34
        }
      },
      "source": [
        "#print AUC score for 20 closest jets\n",
        "twt_predicted = np.concatenate([h_Gtwt_nparray, h_Qtwt_nparray])\n",
        "emd_auc_20 = roc_auc_score(y_true=true_values, y_score=twt_predicted)\n",
        "print(\"EMD AUC 20 voters: \", emd_auc_20)"
      ],
      "execution_count": 14,
      "outputs": [
        {
          "output_type": "stream",
          "text": [
            "EMD AUC 20 voters:  0.7871875\n"
          ],
          "name": "stdout"
        }
      ]
    },
    {
      "cell_type": "markdown",
      "metadata": {
        "id": "5d5h-MoMRBVB",
        "colab_type": "text"
      },
      "source": [
        "Testing out different numbers of voters to find an optimum"
      ]
    },
    {
      "cell_type": "code",
      "metadata": {
        "id": "jF0ILwsYVaiR",
        "colab_type": "code",
        "colab": {}
      },
      "source": [
        "h_G_array = []\n",
        "h_Q_array = []\n",
        "emd_list = []"
      ],
      "execution_count": 0,
      "outputs": []
    },
    {
      "cell_type": "code",
      "metadata": {
        "id": "JUBSDd2HNyjY",
        "colab_type": "code",
        "colab": {}
      },
      "source": [
        "#generates list of AUC for nVoters ranging from 10 - 199\n",
        "for nVoters in range(10,200):\n",
        "    for i in range(candidates): h_G_array.append(sum(indicesG[i,:nVoters] < electorate)/nVoters)\n",
        "    for i in range(candidates): h_Q_array.append(sum(indicesQ[i,:nVoters] < electorate)/nVoters)\n",
        "    h_G_nparray = np.asarray(h_G_array)\n",
        "    h_Q_nparray = np.asarray(h_Q_array)\n",
        "    predicted = np.concatenate([h_G_nparray, h_Q_nparray])\n",
        "    emd_auc = roc_auc_score(y_true=true_values, y_score=predicted)\n",
        "    emd_list.append(emd_auc)\n",
        "    h_G_array = []\n",
        "    h_Q_array = []\n",
        "\n",
        "emd_auc_array = np.asarray(emd_list)"
      ],
      "execution_count": 0,
      "outputs": []
    },
    {
      "cell_type": "code",
      "metadata": {
        "id": "0O3gTz4DN0YR",
        "colab_type": "code",
        "outputId": "9a9ab48d-c0cc-48de-db87-5da1ea0655eb",
        "colab": {
          "base_uri": "https://localhost:8080/",
          "height": 493
        }
      },
      "source": [
        "#print the AUC array\n",
        "print(emd_auc_array)"
      ],
      "execution_count": 17,
      "outputs": [
        {
          "output_type": "stream",
          "text": [
            "[0.7783625 0.780725  0.784475  0.782925  0.781575  0.7837625 0.7847125\n",
            " 0.779675  0.7827625 0.7851625 0.7871875 0.782075  0.7847625 0.784875\n",
            " 0.7866625 0.7891625 0.7892    0.793875  0.794925  0.79785   0.795975\n",
            " 0.79475   0.7921125 0.7919875 0.7914    0.791325  0.792375  0.7959625\n",
            " 0.7990125 0.7993625 0.799375  0.8009    0.79925   0.798975  0.797025\n",
            " 0.7984125 0.798825  0.80015   0.7990125 0.798275  0.79705   0.795925\n",
            " 0.7962375 0.79805   0.79855   0.7974125 0.7981375 0.796825  0.795925\n",
            " 0.7973    0.7985375 0.79985   0.7984875 0.798175  0.798175  0.798525\n",
            " 0.7972125 0.7971125 0.7966375 0.7976375 0.7972875 0.79795   0.7966625\n",
            " 0.7955375 0.7958375 0.7953125 0.7957125 0.7952375 0.794275  0.7943125\n",
            " 0.795525  0.796925  0.797075  0.7960375 0.7967625 0.7982125 0.7982625\n",
            " 0.7983375 0.7980125 0.7993875 0.7999375 0.7996125 0.800025  0.8016\n",
            " 0.8027375 0.8040875 0.8035    0.804625  0.80355   0.8041625 0.8050625\n",
            " 0.8051875 0.80595   0.8058    0.80635   0.8062    0.80655   0.807375\n",
            " 0.8084375 0.8094    0.809425  0.80985   0.8101875 0.810125  0.8098\n",
            " 0.8097375 0.81025   0.810075  0.8102625 0.8096    0.8092125 0.8102\n",
            " 0.8094125 0.808625  0.8092875 0.808425  0.8075875 0.807075  0.8072875\n",
            " 0.8068    0.8067    0.806175  0.80665   0.806025  0.8061125 0.8068625\n",
            " 0.806725  0.806075  0.80665   0.806625  0.807025  0.806975  0.807325\n",
            " 0.80755   0.8078    0.8072625 0.807625  0.8078    0.8077125 0.8079\n",
            " 0.8080625 0.8076875 0.8071375 0.806675  0.8064375 0.805975  0.8055125\n",
            " 0.8038125 0.804075  0.804675  0.80415   0.8049125 0.805725  0.8050625\n",
            " 0.8040875 0.8038375 0.803875  0.80425   0.803575  0.8033875 0.80315\n",
            " 0.8037375 0.804275  0.804175  0.8035625 0.8016875 0.8017375 0.802475\n",
            " 0.8027    0.803575  0.803825  0.8034875 0.803175  0.803425  0.8028875\n",
            " 0.8027625 0.8033125 0.8045125 0.803725  0.8044875 0.8039625 0.803875\n",
            " 0.8036625 0.8034875 0.8038625 0.8038    0.80465   0.8051125 0.8048375\n",
            " 0.8051625]\n"
          ],
          "name": "stdout"
        }
      ]
    },
    {
      "cell_type": "code",
      "metadata": {
        "id": "hoK9KB3zN2MD",
        "colab_type": "code",
        "outputId": "830aeca8-c841-407d-e997-ba3711c3f710",
        "colab": {
          "base_uri": "https://localhost:8080/",
          "height": 297
        }
      },
      "source": [
        "#graph the EMD AUC score with respect to the number of voters used\n",
        "number_voters = np.arange(10,200)\n",
        "if plt:\n",
        "    # some nicer plot settings\n",
        "    plt.rcParams['figure.figsize'] = (4,4)\n",
        "    plt.rcParams['font.family'] = 'serif'\n",
        "    plt.rcParams['figure.autolayout'] = True\n",
        "\n",
        "    # plot the ROC curves\n",
        "    plt.plot(number_voters, emd_auc_array, '-', color='black')\n",
        "\n",
        "     # axes labels\n",
        "    plt.xlabel('Number of Voters')\n",
        "    plt.ylabel('EMD AUC score')\n",
        "\n",
        "    # axes limits\n",
        "    plt.xlim(0, 210)\n",
        "    plt.ylim(0.775, 0.815)\n",
        "\n",
        "    plt.show()"
      ],
      "execution_count": 21,
      "outputs": [
        {
          "output_type": "display_data",
          "data": {
            "image/png": "[encoded data removed]",
            "text/plain": [
              "<Figure size 288x288 with 1 Axes>"
            ]
          },
          "metadata": {
            "tags": []
          }
        }
      ]
    },
    {
      "cell_type": "code",
      "metadata": {
        "id": "VSAHVqV8PCER",
        "colab_type": "code",
        "outputId": "59bd5a44-f1a7-49b2-bfc7-46d8b6ca564d",
        "colab": {
          "base_uri": "https://localhost:8080/",
          "height": 34
        }
      },
      "source": [
        "#print maximum AUC\n",
        "max_auc = np.amax(emd_auc_array)\n",
        "print(max_auc)"
      ],
      "execution_count": 19,
      "outputs": [
        {
          "output_type": "stream",
          "text": [
            "0.8102625\n"
          ],
          "name": "stdout"
        }
      ]
    },
    {
      "cell_type": "code",
      "metadata": {
        "id": "7zwlDDT8PFqT",
        "colab_type": "code",
        "outputId": "7e6975ff-6ec3-49e2-a0fb-3cfd5ce3f88c",
        "colab": {
          "base_uri": "https://localhost:8080/",
          "height": 34
        }
      },
      "source": [
        "#print the optimal number of voters that maximizes the AUC\n",
        "opt_voters = np.argmax(emd_auc_array) + 10 #since we started with 10 voters\n",
        "print(opt_voters)"
      ],
      "execution_count": 20,
      "outputs": [
        {
          "output_type": "stream",
          "text": [
            "118\n"
          ],
          "name": "stdout"
        }
      ]
    }
  ]
}