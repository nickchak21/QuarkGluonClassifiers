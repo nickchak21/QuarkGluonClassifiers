{
  "nbformat": 4,
  "nbformat_minor": 0,
  "metadata": {
    "colab": {
      "name": "EMD_tagger_pythia.ipynb",
      "provenance": [],
      "include_colab_link": true
    },
    "kernelspec": {
      "name": "python3",
      "display_name": "Python 3"
    },
    "accelerator": "GPU"
  },
  "cells": [
    {
      "cell_type": "markdown",
      "metadata": {
        "id": "view-in-github",
        "colab_type": "text"
      },
      "source": [
        "<a href=\"https://colab.research.google.com/github/nickchak21/QuarkGluonClassifiers/blob/master/Executable_Colab_Notebooks/EMD/EMD_tagger_pythia.ipynb\" target=\"_parent\"><img src=\"https://colab.research.google.com/assets/colab-badge.svg\" alt=\"Open In Colab\"/></a>"
      ]
    },
    {
      "cell_type": "markdown",
      "metadata": {
        "id": "gvkExqeYGvkn",
        "colab_type": "text"
      },
      "source": [
        "Installing the energyflow and h5py packages in the Colab environment"
      ]
    },
    {
      "cell_type": "code",
      "metadata": {
        "id": "EDQHdFMzRKws",
        "colab_type": "code",
        "outputId": "83a3e796-1953-46bd-ecbc-1526f8ff19ee",
        "colab": {
          "base_uri": "https://localhost:8080/",
          "height": 289
        }
      },
      "source": [
        "!pip install energyflow\n",
        "!pip install h5py"
      ],
      "execution_count": 1,
      "outputs": [
        {
          "output_type": "stream",
          "text": [
            "Collecting energyflow\n",
            "\u001b[?25l  Downloading https://files.pythonhosted.org/packages/ae/45/acf4909dfffb6e5712f14f8ca4f3708fafea36b348854e0a5e38860bfda7/EnergyFlow-1.0.2-py2.py3-none-any.whl (688kB)\n",
            "\r\u001b[K     |▌                               | 10kB 31.2MB/s eta 0:00:01\r\u001b[K     |█                               | 20kB 33.0MB/s eta 0:00:01\r\u001b[K     |█▍                              | 30kB 38.8MB/s eta 0:00:01\r\u001b[K     |██                              | 40kB 38.8MB/s eta 0:00:01\r\u001b[K     |██▍                             | 51kB 38.6MB/s eta 0:00:01\r\u001b[K     |██▉                             | 61kB 38.7MB/s eta 0:00:01\r\u001b[K     |███▎                            | 71kB 37.2MB/s eta 0:00:01\r\u001b[K     |███▉                            | 81kB 36.2MB/s eta 0:00:01\r\u001b[K     |████▎                           | 92kB 36.4MB/s eta 0:00:01\r\u001b[K     |████▊                           | 102kB 36.9MB/s eta 0:00:01\r\u001b[K     |█████▎                          | 112kB 36.9MB/s eta 0:00:01\r\u001b[K     |█████▊                          | 122kB 36.9MB/s eta 0:00:01\r\u001b[K     |██████▏                         | 133kB 36.9MB/s eta 0:00:01\r\u001b[K     |██████▋                         | 143kB 36.9MB/s eta 0:00:01\r\u001b[K     |███████▏                        | 153kB 36.9MB/s eta 0:00:01\r\u001b[K     |███████▋                        | 163kB 36.9MB/s eta 0:00:01\r\u001b[K     |████████                        | 174kB 36.9MB/s eta 0:00:01\r\u001b[K     |████████▋                       | 184kB 36.9MB/s eta 0:00:01\r\u001b[K     |█████████                       | 194kB 36.9MB/s eta 0:00:01\r\u001b[K     |█████████▌                      | 204kB 36.9MB/s eta 0:00:01\r\u001b[K     |██████████                      | 215kB 36.9MB/s eta 0:00:01\r\u001b[K     |██████████▌                     | 225kB 36.9MB/s eta 0:00:01\r\u001b[K     |███████████                     | 235kB 36.9MB/s eta 0:00:01\r\u001b[K     |███████████▍                    | 245kB 36.9MB/s eta 0:00:01\r\u001b[K     |████████████                    | 256kB 36.9MB/s eta 0:00:01\r\u001b[K     |████████████▍                   | 266kB 36.9MB/s eta 0:00:01\r\u001b[K     |████████████▉                   | 276kB 36.9MB/s eta 0:00:01\r\u001b[K     |█████████████▎                  | 286kB 36.9MB/s eta 0:00:01\r\u001b[K     |█████████████▉                  | 296kB 36.9MB/s eta 0:00:01\r\u001b[K     |██████████████▎                 | 307kB 36.9MB/s eta 0:00:01\r\u001b[K     |██████████████▊                 | 317kB 36.9MB/s eta 0:00:01\r\u001b[K     |███████████████▎                | 327kB 36.9MB/s eta 0:00:01\r\u001b[K     |███████████████▊                | 337kB 36.9MB/s eta 0:00:01\r\u001b[K     |████████████████▏               | 348kB 36.9MB/s eta 0:00:01\r\u001b[K     |████████████████▋               | 358kB 36.9MB/s eta 0:00:01\r\u001b[K     |█████████████████▏              | 368kB 36.9MB/s eta 0:00:01\r\u001b[K     |█████████████████▋              | 378kB 36.9MB/s eta 0:00:01\r\u001b[K     |██████████████████              | 389kB 36.9MB/s eta 0:00:01\r\u001b[K     |██████████████████▋             | 399kB 36.9MB/s eta 0:00:01\r\u001b[K     |███████████████████             | 409kB 36.9MB/s eta 0:00:01\r\u001b[K     |███████████████████▌            | 419kB 36.9MB/s eta 0:00:01\r\u001b[K     |████████████████████            | 430kB 36.9MB/s eta 0:00:01\r\u001b[K     |████████████████████▌           | 440kB 36.9MB/s eta 0:00:01\r\u001b[K     |█████████████████████           | 450kB 36.9MB/s eta 0:00:01\r\u001b[K     |█████████████████████▍          | 460kB 36.9MB/s eta 0:00:01\r\u001b[K     |██████████████████████          | 471kB 36.9MB/s eta 0:00:01\r\u001b[K     |██████████████████████▍         | 481kB 36.9MB/s eta 0:00:01\r\u001b[K     |██████████████████████▉         | 491kB 36.9MB/s eta 0:00:01\r\u001b[K     |███████████████████████▎        | 501kB 36.9MB/s eta 0:00:01\r\u001b[K     |███████████████████████▉        | 512kB 36.9MB/s eta 0:00:01\r\u001b[K     |████████████████████████▎       | 522kB 36.9MB/s eta 0:00:01\r\u001b[K     |████████████████████████▊       | 532kB 36.9MB/s eta 0:00:01\r\u001b[K     |█████████████████████████▎      | 542kB 36.9MB/s eta 0:00:01\r\u001b[K     |█████████████████████████▊      | 552kB 36.9MB/s eta 0:00:01\r\u001b[K     |██████████████████████████▏     | 563kB 36.9MB/s eta 0:00:01\r\u001b[K     |██████████████████████████▋     | 573kB 36.9MB/s eta 0:00:01\r\u001b[K     |███████████████████████████▏    | 583kB 36.9MB/s eta 0:00:01\r\u001b[K     |███████████████████████████▋    | 593kB 36.9MB/s eta 0:00:01\r\u001b[K     |████████████████████████████    | 604kB 36.9MB/s eta 0:00:01\r\u001b[K     |████████████████████████████▋   | 614kB 36.9MB/s eta 0:00:01\r\u001b[K     |█████████████████████████████   | 624kB 36.9MB/s eta 0:00:01\r\u001b[K     |█████████████████████████████▌  | 634kB 36.9MB/s eta 0:00:01\r\u001b[K     |██████████████████████████████  | 645kB 36.9MB/s eta 0:00:01\r\u001b[K     |██████████████████████████████▌ | 655kB 36.9MB/s eta 0:00:01\r\u001b[K     |███████████████████████████████ | 665kB 36.9MB/s eta 0:00:01\r\u001b[K     |███████████████████████████████▍| 675kB 36.9MB/s eta 0:00:01\r\u001b[K     |████████████████████████████████| 686kB 36.9MB/s eta 0:00:01\r\u001b[K     |████████████████████████████████| 696kB 36.9MB/s \n",
            "\u001b[?25hRequirement already satisfied: six>=1.10.0 in /usr/local/lib/python3.6/dist-packages (from energyflow) (1.12.0)\n",
            "Collecting h5py>=2.9.0\n",
            "\u001b[?25l  Downloading https://files.pythonhosted.org/packages/60/06/cafdd44889200e5438b897388f3075b52a8ef01f28a17366d91de0fa2d05/h5py-2.10.0-cp36-cp36m-manylinux1_x86_64.whl (2.9MB)\n",
            "\r\u001b[K     |▏                               | 10kB 37.9MB/s eta 0:00:01\r\u001b[K     |▎                               | 20kB 49.3MB/s eta 0:00:01\r\u001b[K     |▍                               | 30kB 57.6MB/s eta 0:00:01\r\u001b[K     |▌                               | 40kB 63.6MB/s eta 0:00:01\r\u001b[K     |▋                               | 51kB 66.9MB/s eta 0:00:01\r\u001b[K     |▊                               | 61kB 65.6MB/s eta 0:00:01\r\u001b[K     |▉                               | 71kB 66.0MB/s eta 0:00:01\r\u001b[K     |█                               | 81kB 68.5MB/s eta 0:00:01\r\u001b[K     |█                               | 92kB 71.1MB/s eta 0:00:01\r\u001b[K     |█▏                              | 102kB 73.4MB/s eta 0:00:01\r\u001b[K     |█▎                              | 112kB 73.4MB/s eta 0:00:01\r\u001b[K     |█▍                              | 122kB 73.4MB/s eta 0:00:01\r\u001b[K     |█▌                              | 133kB 73.4MB/s eta 0:00:01\r\u001b[K     |█▋                              | 143kB 73.4MB/s eta 0:00:01\r\u001b[K     |█▊                              | 153kB 73.4MB/s eta 0:00:01\r\u001b[K     |█▉                              | 163kB 73.4MB/s eta 0:00:01\r\u001b[K     |██                              | 174kB 73.4MB/s eta 0:00:01\r\u001b[K     |██                              | 184kB 73.4MB/s eta 0:00:01\r\u001b[K     |██▏                             | 194kB 73.4MB/s eta 0:00:01\r\u001b[K     |██▎                             | 204kB 73.4MB/s eta 0:00:01\r\u001b[K     |██▍                             | 215kB 73.4MB/s eta 0:00:01\r\u001b[K     |██▌                             | 225kB 73.4MB/s eta 0:00:01\r\u001b[K     |██▋                             | 235kB 73.4MB/s eta 0:00:01\r\u001b[K     |██▊                             | 245kB 73.4MB/s eta 0:00:01\r\u001b[K     |██▉                             | 256kB 73.4MB/s eta 0:00:01\r\u001b[K     |███                             | 266kB 73.4MB/s eta 0:00:01\r\u001b[K     |███                             | 276kB 73.4MB/s eta 0:00:01\r\u001b[K     |███▏                            | 286kB 73.4MB/s eta 0:00:01\r\u001b[K     |███▎                            | 296kB 73.4MB/s eta 0:00:01\r\u001b[K     |███▍                            | 307kB 73.4MB/s eta 0:00:01\r\u001b[K     |███▌                            | 317kB 73.4MB/s eta 0:00:01\r\u001b[K     |███▋                            | 327kB 73.4MB/s eta 0:00:01\r\u001b[K     |███▊                            | 337kB 73.4MB/s eta 0:00:01\r\u001b[K     |███▉                            | 348kB 73.4MB/s eta 0:00:01\r\u001b[K     |████                            | 358kB 73.4MB/s eta 0:00:01\r\u001b[K     |████                            | 368kB 73.4MB/s eta 0:00:01\r\u001b[K     |████▎                           | 378kB 73.4MB/s eta 0:00:01\r\u001b[K     |████▍                           | 389kB 73.4MB/s eta 0:00:01\r\u001b[K     |████▌                           | 399kB 73.4MB/s eta 0:00:01\r\u001b[K     |████▋                           | 409kB 73.4MB/s eta 0:00:01\r\u001b[K     |████▊                           | 419kB 73.4MB/s eta 0:00:01\r\u001b[K     |████▉                           | 430kB 73.4MB/s eta 0:00:01\r\u001b[K     |█████                           | 440kB 73.4MB/s eta 0:00:01\r\u001b[K     |█████                           | 450kB 73.4MB/s eta 0:00:01\r\u001b[K     |█████▏                          | 460kB 73.4MB/s eta 0:00:01\r\u001b[K     |█████▎                          | 471kB 73.4MB/s eta 0:00:01\r\u001b[K     |█████▍                          | 481kB 73.4MB/s eta 0:00:01\r\u001b[K     |█████▌                          | 491kB 73.4MB/s eta 0:00:01\r\u001b[K     |█████▋                          | 501kB 73.4MB/s eta 0:00:01\r\u001b[K     |█████▊                          | 512kB 73.4MB/s eta 0:00:01\r\u001b[K     |█████▉                          | 522kB 73.4MB/s eta 0:00:01\r\u001b[K     |██████                          | 532kB 73.4MB/s eta 0:00:01\r\u001b[K     |██████                          | 542kB 73.4MB/s eta 0:00:01\r\u001b[K     |██████▏                         | 552kB 73.4MB/s eta 0:00:01\r\u001b[K     |██████▎                         | 563kB 73.4MB/s eta 0:00:01\r\u001b[K     |██████▍                         | 573kB 73.4MB/s eta 0:00:01\r\u001b[K     |██████▌                         | 583kB 73.4MB/s eta 0:00:01\r\u001b[K     |██████▋                         | 593kB 73.4MB/s eta 0:00:01\r\u001b[K     |██████▊                         | 604kB 73.4MB/s eta 0:00:01\r\u001b[K     |██████▉                         | 614kB 73.4MB/s eta 0:00:01\r\u001b[K     |███████                         | 624kB 73.4MB/s eta 0:00:01\r\u001b[K     |███████                         | 634kB 73.4MB/s eta 0:00:01\r\u001b[K     |███████▏                        | 645kB 73.4MB/s eta 0:00:01\r\u001b[K     |███████▎                        | 655kB 73.4MB/s eta 0:00:01\r\u001b[K     |███████▍                        | 665kB 73.4MB/s eta 0:00:01\r\u001b[K     |███████▌                        | 675kB 73.4MB/s eta 0:00:01\r\u001b[K     |███████▋                        | 686kB 73.4MB/s eta 0:00:01\r\u001b[K     |███████▊                        | 696kB 73.4MB/s eta 0:00:01\r\u001b[K     |███████▉                        | 706kB 73.4MB/s eta 0:00:01\r\u001b[K     |████████                        | 716kB 73.4MB/s eta 0:00:01\r\u001b[K     |████████                        | 727kB 73.4MB/s eta 0:00:01\r\u001b[K     |████████▏                       | 737kB 73.4MB/s eta 0:00:01\r\u001b[K     |████████▎                       | 747kB 73.4MB/s eta 0:00:01\r\u001b[K     |████████▌                       | 757kB 73.4MB/s eta 0:00:01\r\u001b[K     |████████▋                       | 768kB 73.4MB/s eta 0:00:01\r\u001b[K     |████████▊                       | 778kB 73.4MB/s eta 0:00:01\r\u001b[K     |████████▉                       | 788kB 73.4MB/s eta 0:00:01\r\u001b[K     |█████████                       | 798kB 73.4MB/s eta 0:00:01\r\u001b[K     |█████████                       | 808kB 73.4MB/s eta 0:00:01\r\u001b[K     |█████████▏                      | 819kB 73.4MB/s eta 0:00:01\r\u001b[K     |█████████▎                      | 829kB 73.4MB/s eta 0:00:01\r\u001b[K     |█████████▍                      | 839kB 73.4MB/s eta 0:00:01\r\u001b[K     |█████████▌                      | 849kB 73.4MB/s eta 0:00:01\r\u001b[K     |█████████▋                      | 860kB 73.4MB/s eta 0:00:01\r\u001b[K     |█████████▊                      | 870kB 73.4MB/s eta 0:00:01\r\u001b[K     |█████████▉                      | 880kB 73.4MB/s eta 0:00:01\r\u001b[K     |██████████                      | 890kB 73.4MB/s eta 0:00:01\r\u001b[K     |██████████                      | 901kB 73.4MB/s eta 0:00:01\r\u001b[K     |██████████▏                     | 911kB 73.4MB/s eta 0:00:01\r\u001b[K     |██████████▎                     | 921kB 73.4MB/s eta 0:00:01\r\u001b[K     |██████████▍                     | 931kB 73.4MB/s eta 0:00:01\r\u001b[K     |██████████▌                     | 942kB 73.4MB/s eta 0:00:01\r\u001b[K     |██████████▋                     | 952kB 73.4MB/s eta 0:00:01\r\u001b[K     |██████████▊                     | 962kB 73.4MB/s eta 0:00:01\r\u001b[K     |██████████▉                     | 972kB 73.4MB/s eta 0:00:01\r\u001b[K     |███████████                     | 983kB 73.4MB/s eta 0:00:01\r\u001b[K     |███████████                     | 993kB 73.4MB/s eta 0:00:01\r\u001b[K     |███████████▏                    | 1.0MB 73.4MB/s eta 0:00:01\r\u001b[K     |███████████▎                    | 1.0MB 73.4MB/s eta 0:00:01\r\u001b[K     |███████████▍                    | 1.0MB 73.4MB/s eta 0:00:01\r\u001b[K     |███████████▌                    | 1.0MB 73.4MB/s eta 0:00:01\r\u001b[K     |███████████▋                    | 1.0MB 73.4MB/s eta 0:00:01\r\u001b[K     |███████████▊                    | 1.1MB 73.4MB/s eta 0:00:01\r\u001b[K     |███████████▉                    | 1.1MB 73.4MB/s eta 0:00:01\r\u001b[K     |████████████                    | 1.1MB 73.4MB/s eta 0:00:01\r\u001b[K     |████████████                    | 1.1MB 73.4MB/s eta 0:00:01\r\u001b[K     |████████████▏                   | 1.1MB 73.4MB/s eta 0:00:01\r\u001b[K     |████████████▎                   | 1.1MB 73.4MB/s eta 0:00:01\r\u001b[K     |████████████▍                   | 1.1MB 73.4MB/s eta 0:00:01\r\u001b[K     |████████████▋                   | 1.1MB 73.4MB/s eta 0:00:01\r\u001b[K     |████████████▊                   | 1.1MB 73.4MB/s eta 0:00:01\r\u001b[K     |████████████▉                   | 1.1MB 73.4MB/s eta 0:00:01\r\u001b[K     |█████████████                   | 1.2MB 73.4MB/s eta 0:00:01\r\u001b[K     |█████████████                   | 1.2MB 73.4MB/s eta 0:00:01\r\u001b[K     |█████████████▏                  | 1.2MB 73.4MB/s eta 0:00:01\r\u001b[K     |█████████████▎                  | 1.2MB 73.4MB/s eta 0:00:01\r\u001b[K     |█████████████▍                  | 1.2MB 73.4MB/s eta 0:00:01\r\u001b[K     |█████████████▌                  | 1.2MB 73.4MB/s eta 0:00:01\r\u001b[K     |█████████████▋                  | 1.2MB 73.4MB/s eta 0:00:01\r\u001b[K     |█████████████▊                  | 1.2MB 73.4MB/s eta 0:00:01\r\u001b[K     |█████████████▉                  | 1.2MB 73.4MB/s eta 0:00:01\r\u001b[K     |██████████████                  | 1.2MB 73.4MB/s eta 0:00:01\r\u001b[K     |██████████████                  | 1.3MB 73.4MB/s eta 0:00:01\r\u001b[K     |██████████████▏                 | 1.3MB 73.4MB/s eta 0:00:01\r\u001b[K     |██████████████▎                 | 1.3MB 73.4MB/s eta 0:00:01\r\u001b[K     |██████████████▍                 | 1.3MB 73.4MB/s eta 0:00:01\r\u001b[K     |██████████████▌                 | 1.3MB 73.4MB/s eta 0:00:01\r\u001b[K     |██████████████▋                 | 1.3MB 73.4MB/s eta 0:00:01\r\u001b[K     |██████████████▊                 | 1.3MB 73.4MB/s eta 0:00:01\r\u001b[K     |██████████████▉                 | 1.3MB 73.4MB/s eta 0:00:01\r\u001b[K     |███████████████                 | 1.3MB 73.4MB/s eta 0:00:01\r\u001b[K     |███████████████                 | 1.4MB 73.4MB/s eta 0:00:01\r\u001b[K     |███████████████▏                | 1.4MB 73.4MB/s eta 0:00:01\r\u001b[K     |███████████████▎                | 1.4MB 73.4MB/s eta 0:00:01\r\u001b[K     |███████████████▍                | 1.4MB 73.4MB/s eta 0:00:01\r\u001b[K     |███████████████▌                | 1.4MB 73.4MB/s eta 0:00:01\r\u001b[K     |███████████████▋                | 1.4MB 73.4MB/s eta 0:00:01\r\u001b[K     |███████████████▊                | 1.4MB 73.4MB/s eta 0:00:01\r\u001b[K     |███████████████▉                | 1.4MB 73.4MB/s eta 0:00:01\r\u001b[K     |████████████████                | 1.4MB 73.4MB/s eta 0:00:01\r\u001b[K     |████████████████                | 1.4MB 73.4MB/s eta 0:00:01\r\u001b[K     |████████████████▏               | 1.5MB 73.4MB/s eta 0:00:01\r\u001b[K     |████████████████▎               | 1.5MB 73.4MB/s eta 0:00:01\r\u001b[K     |████████████████▍               | 1.5MB 73.4MB/s eta 0:00:01\r\u001b[K     |████████████████▌               | 1.5MB 73.4MB/s eta 0:00:01\r\u001b[K     |████████████████▋               | 1.5MB 73.4MB/s eta 0:00:01\r\u001b[K     |████████████████▉               | 1.5MB 73.4MB/s eta 0:00:01\r\u001b[K     |█████████████████               | 1.5MB 73.4MB/s eta 0:00:01\r\u001b[K     |█████████████████               | 1.5MB 73.4MB/s eta 0:00:01\r\u001b[K     |█████████████████▏              | 1.5MB 73.4MB/s eta 0:00:01\r\u001b[K     |█████████████████▎              | 1.5MB 73.4MB/s eta 0:00:01\r\u001b[K     |█████████████████▍              | 1.6MB 73.4MB/s eta 0:00:01\r\u001b[K     |█████████████████▌              | 1.6MB 73.4MB/s eta 0:00:01\r\u001b[K     |█████████████████▋              | 1.6MB 73.4MB/s eta 0:00:01\r\u001b[K     |█████████████████▊              | 1.6MB 73.4MB/s eta 0:00:01\r\u001b[K     |█████████████████▉              | 1.6MB 73.4MB/s eta 0:00:01\r\u001b[K     |██████████████████              | 1.6MB 73.4MB/s eta 0:00:01\r\u001b[K     |██████████████████              | 1.6MB 73.4MB/s eta 0:00:01\r\u001b[K     |██████████████████▏             | 1.6MB 73.4MB/s eta 0:00:01\r\u001b[K     |██████████████████▎             | 1.6MB 73.4MB/s eta 0:00:01\r\u001b[K     |██████████████████▍             | 1.6MB 73.4MB/s eta 0:00:01\r\u001b[K     |██████████████████▌             | 1.7MB 73.4MB/s eta 0:00:01\r\u001b[K     |██████████████████▋             | 1.7MB 73.4MB/s eta 0:00:01\r\u001b[K     |██████████████████▊             | 1.7MB 73.4MB/s eta 0:00:01\r\u001b[K     |██████████████████▉             | 1.7MB 73.4MB/s eta 0:00:01\r\u001b[K     |███████████████████             | 1.7MB 73.4MB/s eta 0:00:01\r\u001b[K     |███████████████████             | 1.7MB 73.4MB/s eta 0:00:01\r\u001b[K     |███████████████████▏            | 1.7MB 73.4MB/s eta 0:00:01\r\u001b[K     |███████████████████▎            | 1.7MB 73.4MB/s eta 0:00:01\r\u001b[K     |███████████████████▍            | 1.7MB 73.4MB/s eta 0:00:01\r\u001b[K     |███████████████████▌            | 1.8MB 73.4MB/s eta 0:00:01\r\u001b[K     |███████████████████▋            | 1.8MB 73.4MB/s eta 0:00:01\r\u001b[K     |███████████████████▊            | 1.8MB 73.4MB/s eta 0:00:01\r\u001b[K     |███████████████████▉            | 1.8MB 73.4MB/s eta 0:00:01\r\u001b[K     |████████████████████            | 1.8MB 73.4MB/s eta 0:00:01\r\u001b[K     |████████████████████            | 1.8MB 73.4MB/s eta 0:00:01\r\u001b[K     |████████████████████▏           | 1.8MB 73.4MB/s eta 0:00:01\r\u001b[K     |████████████████████▎           | 1.8MB 73.4MB/s eta 0:00:01\r\u001b[K     |████████████████████▍           | 1.8MB 73.4MB/s eta 0:00:01\r\u001b[K     |████████████████████▌           | 1.8MB 73.4MB/s eta 0:00:01\r\u001b[K     |████████████████████▋           | 1.9MB 73.4MB/s eta 0:00:01\r\u001b[K     |████████████████████▊           | 1.9MB 73.4MB/s eta 0:00:01\r\u001b[K     |█████████████████████           | 1.9MB 73.4MB/s eta 0:00:01\r\u001b[K     |█████████████████████           | 1.9MB 73.4MB/s eta 0:00:01\r\u001b[K     |█████████████████████▏          | 1.9MB 73.4MB/s eta 0:00:01\r\u001b[K     |█████████████████████▎          | 1.9MB 73.4MB/s eta 0:00:01\r\u001b[K     |█████████████████████▍          | 1.9MB 73.4MB/s eta 0:00:01\r\u001b[K     |█████████████████████▌          | 1.9MB 73.4MB/s eta 0:00:01\r\u001b[K     |█████████████████████▋          | 1.9MB 73.4MB/s eta 0:00:01\r\u001b[K     |█████████████████████▊          | 1.9MB 73.4MB/s eta 0:00:01\r\u001b[K     |█████████████████████▉          | 2.0MB 73.4MB/s eta 0:00:01\r\u001b[K     |██████████████████████          | 2.0MB 73.4MB/s eta 0:00:01\r\u001b[K     |██████████████████████          | 2.0MB 73.4MB/s eta 0:00:01\r\u001b[K     |██████████████████████▏         | 2.0MB 73.4MB/s eta 0:00:01\r\u001b[K     |██████████████████████▎         | 2.0MB 73.4MB/s eta 0:00:01\r\u001b[K     |██████████████████████▍         | 2.0MB 73.4MB/s eta 0:00:01\r\u001b[K     |██████████████████████▌         | 2.0MB 73.4MB/s eta 0:00:01\r\u001b[K     |██████████████████████▋         | 2.0MB 73.4MB/s eta 0:00:01\r\u001b[K     |██████████████████████▊         | 2.0MB 73.4MB/s eta 0:00:01\r\u001b[K     |██████████████████████▉         | 2.0MB 73.4MB/s eta 0:00:01\r\u001b[K     |███████████████████████         | 2.1MB 73.4MB/s eta 0:00:01\r\u001b[K     |███████████████████████         | 2.1MB 73.4MB/s eta 0:00:01\r\u001b[K     |███████████████████████▏        | 2.1MB 73.4MB/s eta 0:00:01\r\u001b[K     |███████████████████████▎        | 2.1MB 73.4MB/s eta 0:00:01\r\u001b[K     |███████████████████████▍        | 2.1MB 73.4MB/s eta 0:00:01\r\u001b[K     |███████████████████████▌        | 2.1MB 73.4MB/s eta 0:00:01\r\u001b[K     |███████████████████████▋        | 2.1MB 73.4MB/s eta 0:00:01\r\u001b[K     |███████████████████████▊        | 2.1MB 73.4MB/s eta 0:00:01\r\u001b[K     |███████████████████████▉        | 2.1MB 73.4MB/s eta 0:00:01\r\u001b[K     |████████████████████████        | 2.2MB 73.4MB/s eta 0:00:01\r\u001b[K     |████████████████████████        | 2.2MB 73.4MB/s eta 0:00:01\r\u001b[K     |████████████████████████▏       | 2.2MB 73.4MB/s eta 0:00:01\r\u001b[K     |████████████████████████▎       | 2.2MB 73.4MB/s eta 0:00:01\r\u001b[K     |████████████████████████▍       | 2.2MB 73.4MB/s eta 0:00:01\r\u001b[K     |████████████████████████▌       | 2.2MB 73.4MB/s eta 0:00:01\r\u001b[K     |████████████████████████▋       | 2.2MB 73.4MB/s eta 0:00:01\r\u001b[K     |████████████████████████▊       | 2.2MB 73.4MB/s eta 0:00:01\r\u001b[K     |████████████████████████▉       | 2.2MB 73.4MB/s eta 0:00:01\r\u001b[K     |█████████████████████████       | 2.2MB 73.4MB/s eta 0:00:01\r\u001b[K     |█████████████████████████▏      | 2.3MB 73.4MB/s eta 0:00:01\r\u001b[K     |█████████████████████████▎      | 2.3MB 73.4MB/s eta 0:00:01\r\u001b[K     |█████████████████████████▍      | 2.3MB 73.4MB/s eta 0:00:01\r\u001b[K     |█████████████████████████▌      | 2.3MB 73.4MB/s eta 0:00:01\r\u001b[K     |█████████████████████████▋      | 2.3MB 73.4MB/s eta 0:00:01\r\u001b[K     |█████████████████████████▊      | 2.3MB 73.4MB/s eta 0:00:01\r\u001b[K     |█████████████████████████▉      | 2.3MB 73.4MB/s eta 0:00:01\r\u001b[K     |██████████████████████████      | 2.3MB 73.4MB/s eta 0:00:01\r\u001b[K     |██████████████████████████      | 2.3MB 73.4MB/s eta 0:00:01\r\u001b[K     |██████████████████████████▏     | 2.3MB 73.4MB/s eta 0:00:01\r\u001b[K     |██████████████████████████▎     | 2.4MB 73.4MB/s eta 0:00:01\r\u001b[K     |██████████████████████████▍     | 2.4MB 73.4MB/s eta 0:00:01\r\u001b[K     |██████████████████████████▌     | 2.4MB 73.4MB/s eta 0:00:01\r\u001b[K     |██████████████████████████▋     | 2.4MB 73.4MB/s eta 0:00:01\r\u001b[K     |██████████████████████████▊     | 2.4MB 73.4MB/s eta 0:00:01\r\u001b[K     |██████████████████████████▉     | 2.4MB 73.4MB/s eta 0:00:01\r\u001b[K     |███████████████████████████     | 2.4MB 73.4MB/s eta 0:00:01\r\u001b[K     |███████████████████████████     | 2.4MB 73.4MB/s eta 0:00:01\r\u001b[K     |███████████████████████████▏    | 2.4MB 73.4MB/s eta 0:00:01\r\u001b[K     |███████████████████████████▎    | 2.4MB 73.4MB/s eta 0:00:01\r\u001b[K     |███████████████████████████▍    | 2.5MB 73.4MB/s eta 0:00:01\r\u001b[K     |███████████████████████████▌    | 2.5MB 73.4MB/s eta 0:00:01\r\u001b[K     |███████████████████████████▋    | 2.5MB 73.4MB/s eta 0:00:01\r\u001b[K     |███████████████████████████▊    | 2.5MB 73.4MB/s eta 0:00:01\r\u001b[K     |███████████████████████████▉    | 2.5MB 73.4MB/s eta 0:00:01\r\u001b[K     |████████████████████████████    | 2.5MB 73.4MB/s eta 0:00:01\r\u001b[K     |████████████████████████████    | 2.5MB 73.4MB/s eta 0:00:01\r\u001b[K     |████████████████████████████▏   | 2.5MB 73.4MB/s eta 0:00:01\r\u001b[K     |████████████████████████████▎   | 2.5MB 73.4MB/s eta 0:00:01\r\u001b[K     |████████████████████████████▍   | 2.5MB 73.4MB/s eta 0:00:01\r\u001b[K     |████████████████████████████▌   | 2.6MB 73.4MB/s eta 0:00:01\r\u001b[K     |████████████████████████████▋   | 2.6MB 73.4MB/s eta 0:00:01\r\u001b[K     |████████████████████████████▊   | 2.6MB 73.4MB/s eta 0:00:01\r\u001b[K     |████████████████████████████▉   | 2.6MB 73.4MB/s eta 0:00:01\r\u001b[K     |█████████████████████████████   | 2.6MB 73.4MB/s eta 0:00:01\r\u001b[K     |█████████████████████████████   | 2.6MB 73.4MB/s eta 0:00:01\r\u001b[K     |█████████████████████████████▎  | 2.6MB 73.4MB/s eta 0:00:01\r\u001b[K     |█████████████████████████████▍  | 2.6MB 73.4MB/s eta 0:00:01\r\u001b[K     |█████████████████████████████▌  | 2.6MB 73.4MB/s eta 0:00:01\r\u001b[K     |█████████████████████████████▋  | 2.7MB 73.4MB/s eta 0:00:01\r\u001b[K     |█████████████████████████████▊  | 2.7MB 73.4MB/s eta 0:00:01\r\u001b[K     |█████████████████████████████▉  | 2.7MB 73.4MB/s eta 0:00:01\r\u001b[K     |██████████████████████████████  | 2.7MB 73.4MB/s eta 0:00:01\r\u001b[K     |██████████████████████████████  | 2.7MB 73.4MB/s eta 0:00:01\r\u001b[K     |██████████████████████████████▏ | 2.7MB 73.4MB/s eta 0:00:01\r\u001b[K     |██████████████████████████████▎ | 2.7MB 73.4MB/s eta 0:00:01\r\u001b[K     |██████████████████████████████▍ | 2.7MB 73.4MB/s eta 0:00:01\r\u001b[K     |██████████████████████████████▌ | 2.7MB 73.4MB/s eta 0:00:01\r\u001b[K     |██████████████████████████████▋ | 2.7MB 73.4MB/s eta 0:00:01\r\u001b[K     |██████████████████████████████▊ | 2.8MB 73.4MB/s eta 0:00:01\r\u001b[K     |██████████████████████████████▉ | 2.8MB 73.4MB/s eta 0:00:01\r\u001b[K     |███████████████████████████████ | 2.8MB 73.4MB/s eta 0:00:01\r\u001b[K     |███████████████████████████████ | 2.8MB 73.4MB/s eta 0:00:01\r\u001b[K     |███████████████████████████████▏| 2.8MB 73.4MB/s eta 0:00:01\r\u001b[K     |███████████████████████████████▎| 2.8MB 73.4MB/s eta 0:00:01\r\u001b[K     |███████████████████████████████▍| 2.8MB 73.4MB/s eta 0:00:01\r\u001b[K     |███████████████████████████████▌| 2.8MB 73.4MB/s eta 0:00:01\r\u001b[K     |███████████████████████████████▋| 2.8MB 73.4MB/s eta 0:00:01\r\u001b[K     |███████████████████████████████▊| 2.8MB 73.4MB/s eta 0:00:01\r\u001b[K     |███████████████████████████████▉| 2.9MB 73.4MB/s eta 0:00:01\r\u001b[K     |████████████████████████████████| 2.9MB 73.4MB/s eta 0:00:01\r\u001b[K     |████████████████████████████████| 2.9MB 73.4MB/s \n",
            "\u001b[?25hRequirement already satisfied: numpy>=1.14.0 in /usr/local/lib/python3.6/dist-packages (from energyflow) (1.17.5)\n",
            "Installing collected packages: h5py, energyflow\n",
            "  Found existing installation: h5py 2.8.0\n",
            "    Uninstalling h5py-2.8.0:\n",
            "      Successfully uninstalled h5py-2.8.0\n",
            "Successfully installed energyflow-1.0.2 h5py-2.10.0\n",
            "Requirement already satisfied: h5py in /usr/local/lib/python3.6/dist-packages (2.10.0)\n",
            "Requirement already satisfied: numpy>=1.7 in /usr/local/lib/python3.6/dist-packages (from h5py) (1.17.5)\n",
            "Requirement already satisfied: six in /usr/local/lib/python3.6/dist-packages (from h5py) (1.12.0)\n"
          ],
          "name": "stdout"
        }
      ]
    },
    {
      "cell_type": "markdown",
      "metadata": {
        "id": "GwYvHj0EG1_D",
        "colab_type": "text"
      },
      "source": [
        "Checking the version of Python (should be Python 3.6)"
      ]
    },
    {
      "cell_type": "code",
      "metadata": {
        "id": "jCY1hm8xSJyX",
        "colab_type": "code",
        "outputId": "09912482-6d7c-40de-aefb-a313a82b6a28",
        "colab": {
          "base_uri": "https://localhost:8080/",
          "height": 34
        }
      },
      "source": [
        "!python --version"
      ],
      "execution_count": 2,
      "outputs": [
        {
          "output_type": "stream",
          "text": [
            "Python 3.6.9\n"
          ],
          "name": "stdout"
        }
      ]
    },
    {
      "cell_type": "markdown",
      "metadata": {
        "id": "jL7ZDlqrG7_f",
        "colab_type": "text"
      },
      "source": [
        "Installing POT (Python Optimal Transport) package"
      ]
    },
    {
      "cell_type": "code",
      "metadata": {
        "id": "1r3rd5lMSYiH",
        "colab_type": "code",
        "outputId": "ead7cf85-951b-4f6a-b7ee-14f0862450b6",
        "colab": {
          "base_uri": "https://localhost:8080/",
          "height": 153
        }
      },
      "source": [
        "!pip install POT"
      ],
      "execution_count": 3,
      "outputs": [
        {
          "output_type": "stream",
          "text": [
            "Collecting POT\n",
            "\u001b[?25l  Downloading https://files.pythonhosted.org/packages/15/36/07d3c0960a590b88b81fa1837e666cc7479b90c7e9fd1063024ce9331122/POT-0.6.0-cp36-cp36m-manylinux1_x86_64.whl (305kB)\n",
            "\r\u001b[K     |█                               | 10kB 28.1MB/s eta 0:00:01\r\u001b[K     |██▏                             | 20kB 30.5MB/s eta 0:00:01\r\u001b[K     |███▏                            | 30kB 35.8MB/s eta 0:00:01\r\u001b[K     |████▎                           | 40kB 40.0MB/s eta 0:00:01\r\u001b[K     |█████▍                          | 51kB 20.9MB/s eta 0:00:01\r\u001b[K     |██████▍                         | 61kB 17.2MB/s eta 0:00:01\r\u001b[K     |███████▌                        | 71kB 15.3MB/s eta 0:00:01\r\u001b[K     |████████▋                       | 81kB 15.0MB/s eta 0:00:01\r\u001b[K     |█████████▋                      | 92kB 15.6MB/s eta 0:00:01\r\u001b[K     |██████████▊                     | 102kB 15.3MB/s eta 0:00:01\r\u001b[K     |███████████▉                    | 112kB 15.3MB/s eta 0:00:01\r\u001b[K     |████████████▉                   | 122kB 15.3MB/s eta 0:00:01\r\u001b[K     |██████████████                  | 133kB 15.3MB/s eta 0:00:01\r\u001b[K     |███████████████                 | 143kB 15.3MB/s eta 0:00:01\r\u001b[K     |████████████████                | 153kB 15.3MB/s eta 0:00:01\r\u001b[K     |█████████████████▏              | 163kB 15.3MB/s eta 0:00:01\r\u001b[K     |██████████████████▎             | 174kB 15.3MB/s eta 0:00:01\r\u001b[K     |███████████████████▎            | 184kB 15.3MB/s eta 0:00:01\r\u001b[K     |████████████████████▍           | 194kB 15.3MB/s eta 0:00:01\r\u001b[K     |█████████████████████▍          | 204kB 15.3MB/s eta 0:00:01\r\u001b[K     |██████████████████████▌         | 215kB 15.3MB/s eta 0:00:01\r\u001b[K     |███████████████████████▋        | 225kB 15.3MB/s eta 0:00:01\r\u001b[K     |████████████████████████▋       | 235kB 15.3MB/s eta 0:00:01\r\u001b[K     |█████████████████████████▊      | 245kB 15.3MB/s eta 0:00:01\r\u001b[K     |██████████████████████████▉     | 256kB 15.3MB/s eta 0:00:01\r\u001b[K     |███████████████████████████▉    | 266kB 15.3MB/s eta 0:00:01\r\u001b[K     |█████████████████████████████   | 276kB 15.3MB/s eta 0:00:01\r\u001b[K     |██████████████████████████████  | 286kB 15.3MB/s eta 0:00:01\r\u001b[K     |███████████████████████████████ | 296kB 15.3MB/s eta 0:00:01\r\u001b[K     |████████████████████████████████| 307kB 15.3MB/s \n",
            "\u001b[?25hRequirement already satisfied: numpy in /usr/local/lib/python3.6/dist-packages (from POT) (1.17.5)\n",
            "Requirement already satisfied: cython in /usr/local/lib/python3.6/dist-packages (from POT) (0.29.14)\n",
            "Requirement already satisfied: scipy in /usr/local/lib/python3.6/dist-packages (from POT) (1.4.1)\n",
            "Installing collected packages: POT\n",
            "Successfully installed POT-0.6.0\n"
          ],
          "name": "stdout"
        }
      ]
    },
    {
      "cell_type": "markdown",
      "metadata": {
        "id": "B9UhUZX5MI9c",
        "colab_type": "text"
      },
      "source": [
        "The following code runs a quark gluon classifier using a EMD (Energy Mover's Distance) tagger. The input jets are Pythia-generated. The AUC tops out at around 0.76. This model loads 200 candidate jets and 4000 known jets. The candidate jets are evaluated by calculating each EMD to the known jets, then selecting the n closest jets. Then, if quark-originating jets are more present among the n closest jets, the candidate is classified as a quark. Vice versa for gluons."
      ]
    },
    {
      "cell_type": "code",
      "metadata": {
        "id": "Lq8SY4RuSl6B",
        "colab_type": "code",
        "colab": {}
      },
      "source": [
        "import numpy as np\n",
        "%matplotlib inline\n",
        "import matplotlib \n",
        "import matplotlib.pyplot as plt\n",
        "\n",
        "from energyflow.emd import emd, emds\n",
        "from energyflow.datasets import qg_jets\n",
        "from energyflow.utils import sum_ptyphipids\n",
        "import ot\n",
        "\n",
        "from sklearn.metrics import roc_auc_score, roc_curve\n",
        "from ot.lp import emd_c, check_result\n",
        "from scipy.spatial.distance import _distance_wrap"
      ],
      "execution_count": 0,
      "outputs": []
    },
    {
      "cell_type": "code",
      "metadata": {
        "id": "eJbr1j15S0QC",
        "colab_type": "code",
        "colab": {}
      },
      "source": [
        "# data controls.\n",
        "# we will use the n nearest neighbors in the \"electorate\" to vote on what kind of jet each candidate is.\n",
        "candidates, electorate = 200, 2000"
      ],
      "execution_count": 0,
      "outputs": []
    },
    {
      "cell_type": "code",
      "metadata": {
        "id": "Yltn1nBIS2YG",
        "colab_type": "code",
        "outputId": "ca17f315-4f96-4597-cc3a-7ff10eb4ba75",
        "colab": {
          "base_uri": "https://localhost:8080/",
          "height": 34
        }
      },
      "source": [
        "# load quark and gluon jets from Pythia. We want candidates + electorate of *each.*\n",
        "# Quarks are labeled \"1\" in this dataset, gluons are \"0\"\n",
        "\n",
        "# Shapes of jet,label are: (num_data,max_num_particles,4) and (num_data).\n",
        "# coordinates are:  (pt,y,phi,pid)\n",
        "# pad=False makes array of objects, not numbers.\n",
        "# Load extrajets to be sure we get enough of each type.\n",
        "extrajets = candidates\n",
        "jets,labels = qg_jets.load(2*(candidates + electorate + extrajets), generator='pythia', pad=False)\n",
        "maxevts = candidates+electorate\n",
        "nprint = int(maxevts*maxevts/10)\n",
        "\n",
        "# the jet radius for these jets\n",
        "jetR = 0.4"
      ],
      "execution_count": 6,
      "outputs": [
        {
          "output_type": "stream",
          "text": [
            "Downloading QG_jets.npz from https://www.dropbox.com/s/fclsl7pukcpobsb/QG_jets.npz?dl=1 to /root/.energyflow/datasets\n"
          ],
          "name": "stdout"
        }
      ]
    },
    {
      "cell_type": "code",
      "metadata": {
        "id": "eVP-MmUsS9i0",
        "colab_type": "code",
        "outputId": "84f6d00e-a88c-4a57-e376-1140cdb529d8",
        "colab": {
          "base_uri": "https://localhost:8080/",
          "height": 34
        }
      },
      "source": [
        "#normalizing jets and center pts\n",
        "Gs = []\n",
        "Qs = []\n",
        "\n",
        "for arr,events in [(Gs, jets[labels==0]), (Qs, jets[labels==1])]:\n",
        "    for i,x in enumerate(events):\n",
        "        if i >= maxevts:  break\n",
        "        # ignore padded particles (not used) and remove particle id information(:3)\n",
        "        x = x[x[:,0] > 0,:3]\n",
        "        # center jet according to pt-centroid\n",
        "        yphi_avg = np.average(x[:,1:3], weights=x[:,0], axis=0)\n",
        "        x[:,1:3] -= yphi_avg\n",
        "        # mask out any particles farther than R=0.4 away from center (rare)\n",
        "        x = x[np.linalg.norm(x[:,1:3], axis=1) <= jetR]\n",
        "        # add to list\n",
        "        arr.append(x)\n",
        "        pass #evts\n",
        "    pass #gluonquark\n",
        "\n",
        "#amount of items in quark and gluon sets\n",
        "len(Gs), len(Qs)"
      ],
      "execution_count": 7,
      "outputs": [
        {
          "output_type": "execute_result",
          "data": {
            "text/plain": [
              "(2200, 2200)"
            ]
          },
          "metadata": {
            "tags": []
          },
          "execution_count": 7
        }
      ]
    },
    {
      "cell_type": "code",
      "metadata": {
        "id": "eLsLvijZTWqc",
        "colab_type": "code",
        "outputId": "3bae9e7b-58a1-4d0d-f928-74f5ff94e27d",
        "colab": {
          "base_uri": "https://localhost:8080/",
          "height": 34
        }
      },
      "source": [
        "#constituent/electorate list. These particles will \"vote\" on whether candidate is quark or gluon\n",
        "constituentList = Gs[candidates:]+Qs[candidates:]\n",
        "len(constituentList)"
      ],
      "execution_count": 8,
      "outputs": [
        {
          "output_type": "execute_result",
          "data": {
            "text/plain": [
              "4000"
            ]
          },
          "metadata": {
            "tags": []
          },
          "execution_count": 8
        }
      ]
    },
    {
      "cell_type": "code",
      "metadata": {
        "id": "cO0QCIuATa6M",
        "colab_type": "code",
        "outputId": "acebafec-7231-441e-c5be-43c8590ef7a8",
        "colab": {
          "base_uri": "https://localhost:8080/",
          "height": 153
        }
      },
      "source": [
        "#array of distances of gluon candidate from all constituents. shape is (candidates,constituents)\n",
        "costM_g  = emds(Gs[0:candidates], constituentList, R=jetR, norm=True, verbose=1, n_jobs=4, print_every=nprint)\n",
        "#ditto for quarks.\n",
        "costM_q  = emds(Qs[0:candidates], constituentList, R=jetR, norm=True, verbose=1, n_jobs=4, print_every=nprint)"
      ],
      "execution_count": 9,
      "outputs": [
        {
          "output_type": "stream",
          "text": [
            "Processed 4200 events for asymmetric EMD computation in 0.097s\n",
            "Using 4 worker processes:\n",
            "  Computed 484000 EMDs, 60.50% done in 105.05s\n",
            "  Computed 800000 EMDs, 100.00% done in 178.46s\n",
            "Processed 4200 events for asymmetric EMD computation in 0.043s\n",
            "Using 4 worker processes:\n",
            "  Computed 484000 EMDs, 60.50% done in 69.08s\n",
            "  Computed 800000 EMDs, 100.00% done in 113.73s\n"
          ],
          "name": "stdout"
        }
      ]
    },
    {
      "cell_type": "code",
      "metadata": {
        "id": "7lRaSxHPTjgm",
        "colab_type": "code",
        "colab": {}
      },
      "source": [
        "#returns the sorted list indices of costM_g and costM_q\n",
        "indicesG=np.argsort(costM_g)\n",
        "indicesQ=np.argsort(costM_q)"
      ],
      "execution_count": 0,
      "outputs": []
    },
    {
      "cell_type": "code",
      "metadata": {
        "id": "KZyECp4HTkjw",
        "colab_type": "code",
        "colab": {}
      },
      "source": [
        "#generates predictions for particles using 10 closest jets (according to EMD)\n",
        "h_Gten_array = []\n",
        "h_Qten_array = []\n",
        "h_Gtwt_array = []\n",
        "h_Qtwt_array = []\n",
        "\n",
        "nVoters = 10\n",
        "for i in range(candidates): h_Gten_array.append(sum(indicesG[i,:nVoters] < electorate)/nVoters)\n",
        "for i in range(candidates): h_Qten_array.append(sum(indicesQ[i,:nVoters] < electorate)/nVoters)\n",
        "nVoters = 20\n",
        "for i in range(candidates): h_Gtwt_array.append(sum(indicesG[i,:nVoters] < electorate)/nVoters)  \n",
        "for i in range(candidates): h_Qtwt_array.append(sum(indicesQ[i,:nVoters] < electorate)/nVoters)"
      ],
      "execution_count": 0,
      "outputs": []
    },
    {
      "cell_type": "code",
      "metadata": {
        "id": "6wCFbn07TpTq",
        "colab_type": "code",
        "colab": {}
      },
      "source": [
        "#calculates AUC score for classification using 10 closest jets\n",
        "\n",
        "h_Gten_nparray = np.asarray(h_Gten_array)\n",
        "h_Qten_nparray = np.asarray(h_Qten_array)\n",
        "h_Gtwt_nparray = np.asarray(h_Gtwt_array)\n",
        "h_Qtwt_nparray = np.asarray(h_Qtwt_array)\n",
        "\n",
        "true_y_g = np.ones(200)\n",
        "true_y_q = np.zeros(200)\n",
        "\n",
        "true_values = np.concatenate([true_y_g, true_y_q])\n",
        "\n",
        "ten_predicted = np.concatenate([h_Gten_nparray, h_Qten_nparray])\n",
        "emd_auc_10 = roc_auc_score(y_true=true_values, y_score=ten_predicted)"
      ],
      "execution_count": 0,
      "outputs": []
    },
    {
      "cell_type": "code",
      "metadata": {
        "id": "ikISnOF4T0pD",
        "colab_type": "code",
        "outputId": "76d573e2-1b22-453d-bad1-8f40d950d713",
        "colab": {
          "base_uri": "https://localhost:8080/",
          "height": 34
        }
      },
      "source": [
        "#print AUC score for 10 closest jets\n",
        "print(\"EMD AUC 10 voters: \", emd_auc_10)"
      ],
      "execution_count": 13,
      "outputs": [
        {
          "output_type": "stream",
          "text": [
            "EMD AUC 10 voters:  0.8192999999999999\n"
          ],
          "name": "stdout"
        }
      ]
    },
    {
      "cell_type": "code",
      "metadata": {
        "id": "uSOi5Uo0T2Sw",
        "colab_type": "code",
        "outputId": "a40f6974-ba73-43c5-c7db-9d26033152b8",
        "colab": {
          "base_uri": "https://localhost:8080/",
          "height": 34
        }
      },
      "source": [
        "#print AUC score for 20 closest jets\n",
        "twt_predicted = np.concatenate([h_Gtwt_nparray, h_Qtwt_nparray])\n",
        "emd_auc_20 = roc_auc_score(y_true=true_values, y_score=twt_predicted)\n",
        "print(\"EMD AUC 20 voters: \", emd_auc_20)"
      ],
      "execution_count": 14,
      "outputs": [
        {
          "output_type": "stream",
          "text": [
            "EMD AUC 20 voters:  0.8374375000000001\n"
          ],
          "name": "stdout"
        }
      ]
    },
    {
      "cell_type": "markdown",
      "metadata": {
        "id": "5d5h-MoMRBVB",
        "colab_type": "text"
      },
      "source": [
        "Testing out different numbers of voters to find an optimum"
      ]
    },
    {
      "cell_type": "code",
      "metadata": {
        "id": "jF0ILwsYVaiR",
        "colab_type": "code",
        "colab": {}
      },
      "source": [
        "h_G_array = []\n",
        "h_Q_array = []\n",
        "emd_list = []"
      ],
      "execution_count": 0,
      "outputs": []
    },
    {
      "cell_type": "code",
      "metadata": {
        "id": "JUBSDd2HNyjY",
        "colab_type": "code",
        "colab": {}
      },
      "source": [
        "#generates list of AUC for nVoters ranging from 10 - 199\n",
        "for nVoters in range(10,200):\n",
        "    for i in range(candidates): h_G_array.append(sum(indicesG[i,:nVoters] < electorate)/nVoters)\n",
        "    for i in range(candidates): h_Q_array.append(sum(indicesQ[i,:nVoters] < electorate)/nVoters)\n",
        "    h_G_nparray = np.asarray(h_G_array)\n",
        "    h_Q_nparray = np.asarray(h_Q_array)\n",
        "    predicted = np.concatenate([h_G_nparray, h_Q_nparray])\n",
        "    emd_auc = roc_auc_score(y_true=true_values, y_score=predicted)\n",
        "    emd_list.append(emd_auc)\n",
        "    h_G_array = []\n",
        "    h_Q_array = []\n",
        "\n",
        "emd_auc_array = np.asarray(emd_list)"
      ],
      "execution_count": 0,
      "outputs": []
    },
    {
      "cell_type": "code",
      "metadata": {
        "id": "0O3gTz4DN0YR",
        "colab_type": "code",
        "outputId": "61de3238-3bd0-4c5e-e51e-18e2dfba83e7",
        "colab": {
          "base_uri": "https://localhost:8080/",
          "height": 493
        }
      },
      "source": [
        "#print the AUC array\n",
        "print(emd_auc_array)"
      ],
      "execution_count": 17,
      "outputs": [
        {
          "output_type": "stream",
          "text": [
            "[0.8193    0.8169125 0.8259375 0.833875  0.836525  0.8396625 0.84435\n",
            " 0.8410875 0.8411    0.8383125 0.8374375 0.8383875 0.840825  0.842075\n",
            " 0.84075   0.8397875 0.8398    0.8415875 0.84205   0.843075  0.8439875\n",
            " 0.8432625 0.8437375 0.84405   0.8468875 0.8449625 0.8460125 0.844875\n",
            " 0.847     0.848425  0.84855   0.848025  0.8465875 0.8475625 0.8446\n",
            " 0.8439125 0.8452    0.8436375 0.8428    0.84235   0.8435    0.8429375\n",
            " 0.8416375 0.8426625 0.84245   0.8417875 0.843775  0.8446125 0.84395\n",
            " 0.84295   0.842425  0.840275  0.8425125 0.84255   0.8425    0.842475\n",
            " 0.843325  0.8425375 0.8416875 0.8423125 0.8432875 0.8439375 0.8430375\n",
            " 0.843075  0.843325  0.84345   0.8435375 0.8431    0.8428    0.844125\n",
            " 0.8434625 0.8431625 0.8432    0.8434    0.8439375 0.8428125 0.8428625\n",
            " 0.84335   0.8427125 0.8429375 0.8428    0.842625  0.842375  0.8427875\n",
            " 0.8423    0.8423125 0.8425125 0.8417625 0.8408375 0.84085   0.8408625\n",
            " 0.840425  0.8404375 0.8417125 0.8410375 0.8405625 0.8401    0.8394875\n",
            " 0.8389    0.83895   0.8394625 0.839575  0.8401875 0.840875  0.8402375\n",
            " 0.84075   0.8405375 0.839575  0.8393625 0.8381875 0.838775  0.83975\n",
            " 0.83965   0.8395    0.8394    0.8394    0.838875  0.83835   0.838075\n",
            " 0.839     0.839625  0.8392625 0.838975  0.8382875 0.837875  0.8386\n",
            " 0.838825  0.8381    0.83795   0.837925  0.836725  0.836175  0.83555\n",
            " 0.835675  0.83515   0.8351    0.835325  0.8351625 0.8351625 0.83515\n",
            " 0.83475   0.8346375 0.8345    0.8349375 0.8345375 0.835325  0.8348875\n",
            " 0.83515   0.8349125 0.8345625 0.8344875 0.8341875 0.8340375 0.83325\n",
            " 0.833725  0.8343    0.8348625 0.8351    0.834375  0.8341375 0.833925\n",
            " 0.83325   0.83315   0.832675  0.832875  0.8331    0.8329375 0.833475\n",
            " 0.832925  0.8324125 0.832375  0.83205   0.8314625 0.831475  0.831925\n",
            " 0.8314625 0.8318125 0.831675  0.83125   0.8309875 0.8310125 0.8307\n",
            " 0.8309    0.8306    0.830025  0.8305    0.8310875 0.8312625 0.831175\n",
            " 0.83085  ]\n"
          ],
          "name": "stdout"
        }
      ]
    },
    {
      "cell_type": "code",
      "metadata": {
        "id": "hoK9KB3zN2MD",
        "colab_type": "code",
        "outputId": "d9f444e3-cc74-48f2-f977-7a0eb2549b71",
        "colab": {
          "base_uri": "https://localhost:8080/",
          "height": 297
        }
      },
      "source": [
        "#graph the EMD AUC score with respect to the number of voters used\n",
        "number_voters = np.arange(10,200)\n",
        "if plt:\n",
        "    # some nicer plot settings\n",
        "    plt.rcParams['figure.figsize'] = (4,4)\n",
        "    plt.rcParams['font.family'] = 'serif'\n",
        "    plt.rcParams['figure.autolayout'] = True\n",
        "\n",
        "    # plot the ROC curves\n",
        "    plt.plot(number_voters, emd_auc_array, '-', color='black')\n",
        "\n",
        "     # axes labels\n",
        "    plt.xlabel('Number of Voters')\n",
        "    plt.ylabel('EMD AUC score')\n",
        "\n",
        "    # axes limits\n",
        "    plt.xlim(0, 210)\n",
        "    plt.ylim(0.81, 0.85)\n",
        "\n",
        "    plt.show()"
      ],
      "execution_count": 18,
      "outputs": [
        {
          "output_type": "display_data",
          "data": {
            "image/png": "[encoded data removed]",
            "text/plain": [
              "<Figure size 288x288 with 1 Axes>"
            ]
          },
          "metadata": {
            "tags": []
          }
        }
      ]
    },
    {
      "cell_type": "code",
      "metadata": {
        "id": "VSAHVqV8PCER",
        "colab_type": "code",
        "outputId": "fdf51d1d-9c96-4a62-cb2d-28cac49016dc",
        "colab": {
          "base_uri": "https://localhost:8080/",
          "height": 34
        }
      },
      "source": [
        "#print maximum AUC\n",
        "max_auc = np.amax(emd_auc_array)\n",
        "print(max_auc)"
      ],
      "execution_count": 19,
      "outputs": [
        {
          "output_type": "stream",
          "text": [
            "0.84855\n"
          ],
          "name": "stdout"
        }
      ]
    },
    {
      "cell_type": "code",
      "metadata": {
        "id": "7zwlDDT8PFqT",
        "colab_type": "code",
        "outputId": "ccd532c9-2b57-4d47-d069-91cc63434eb3",
        "colab": {
          "base_uri": "https://localhost:8080/",
          "height": 34
        }
      },
      "source": [
        "#print the optimal number of voters that maximizes the AUC\n",
        "opt_voters = np.argmax(emd_auc_array) + 10 #since we started with 10 voters\n",
        "print(opt_voters)"
      ],
      "execution_count": 20,
      "outputs": [
        {
          "output_type": "stream",
          "text": [
            "40\n"
          ],
          "name": "stdout"
        }
      ]
    }
  ]
}