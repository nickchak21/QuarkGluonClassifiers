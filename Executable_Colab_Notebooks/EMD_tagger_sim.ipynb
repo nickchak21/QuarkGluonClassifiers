{
  "nbformat": 4,
  "nbformat_minor": 0,
  "metadata": {
    "colab": {
      "name": "EMD_tagger_sim.ipynb",
      "provenance": [],
      "include_colab_link": true
    },
    "kernelspec": {
      "name": "python3",
      "display_name": "Python 3"
    },
    "accelerator": "GPU"
  },
  "cells": [
    {
      "cell_type": "markdown",
      "metadata": {
        "id": "view-in-github",
        "colab_type": "text"
      },
      "source": [
        "<a href=\"https://colab.research.google.com/github/nickchak21/QuarkGluonClassifiers/blob/master/Executable_Colab_Notebooks/EMD_tagger_sim.ipynb\" target=\"_parent\"><img src=\"https://colab.research.google.com/assets/colab-badge.svg\" alt=\"Open In Colab\"/></a>"
      ]
    },
    {
      "cell_type": "code",
      "metadata": {
        "id": "EDQHdFMzRKws",
        "colab_type": "code",
        "outputId": "15dce77b-584b-41ea-bd1f-7140e31ec941",
        "colab": {
          "base_uri": "https://localhost:8080/",
          "height": 289
        }
      },
      "source": [
        "!pip install energyflow\n",
        "!pip install h5py"
      ],
      "execution_count": 1,
      "outputs": [
        {
          "output_type": "stream",
          "text": [
            "Collecting energyflow\n",
            "\u001b[?25l  Downloading https://files.pythonhosted.org/packages/35/ba/f598bafbde78553b962dc1f693ef95365cc752ddbdb448856858093579eb/EnergyFlow-1.0.0-py2.py3-none-any.whl (679kB)\n",
            "\u001b[K     |████████████████████████████████| 686kB 2.9MB/s \n",
            "\u001b[?25hRequirement already satisfied: six>=1.10.0 in /usr/local/lib/python3.6/dist-packages (from energyflow) (1.12.0)\n",
            "Requirement already satisfied: numpy>=1.14.0 in /usr/local/lib/python3.6/dist-packages (from energyflow) (1.17.4)\n",
            "Collecting h5py>=2.9.0\n",
            "\u001b[?25l  Downloading https://files.pythonhosted.org/packages/60/06/cafdd44889200e5438b897388f3075b52a8ef01f28a17366d91de0fa2d05/h5py-2.10.0-cp36-cp36m-manylinux1_x86_64.whl (2.9MB)\n",
            "\u001b[K     |████████████████████████████████| 2.9MB 45.4MB/s \n",
            "\u001b[?25hInstalling collected packages: h5py, energyflow\n",
            "  Found existing installation: h5py 2.8.0\n",
            "    Uninstalling h5py-2.8.0:\n",
            "      Successfully uninstalled h5py-2.8.0\n",
            "Successfully installed energyflow-1.0.0 h5py-2.10.0\n",
            "Requirement already satisfied: h5py in /usr/local/lib/python3.6/dist-packages (2.10.0)\n",
            "Requirement already satisfied: numpy>=1.7 in /usr/local/lib/python3.6/dist-packages (from h5py) (1.17.4)\n",
            "Requirement already satisfied: six in /usr/local/lib/python3.6/dist-packages (from h5py) (1.12.0)\n"
          ],
          "name": "stdout"
        }
      ]
    },
    {
      "cell_type": "code",
      "metadata": {
        "id": "jCY1hm8xSJyX",
        "colab_type": "code",
        "outputId": "864ace08-c028-4538-f0f1-a60bd6e5f304",
        "colab": {
          "base_uri": "https://localhost:8080/",
          "height": 34
        }
      },
      "source": [
        "!python --version"
      ],
      "execution_count": 2,
      "outputs": [
        {
          "output_type": "stream",
          "text": [
            "Python 3.6.8\n"
          ],
          "name": "stdout"
        }
      ]
    },
    {
      "cell_type": "code",
      "metadata": {
        "id": "1r3rd5lMSYiH",
        "colab_type": "code",
        "outputId": "e524c6ed-849c-4e90-cc27-78dffb0ae29a",
        "colab": {
          "base_uri": "https://localhost:8080/",
          "height": 153
        }
      },
      "source": [
        "!pip install POT"
      ],
      "execution_count": 3,
      "outputs": [
        {
          "output_type": "stream",
          "text": [
            "Collecting POT\n",
            "\u001b[?25l  Downloading https://files.pythonhosted.org/packages/15/36/07d3c0960a590b88b81fa1837e666cc7479b90c7e9fd1063024ce9331122/POT-0.6.0-cp36-cp36m-manylinux1_x86_64.whl (305kB)\n",
            "\r\u001b[K     |█                               | 10kB 27.0MB/s eta 0:00:01\r\u001b[K     |██▏                             | 20kB 1.7MB/s eta 0:00:01\r\u001b[K     |███▏                            | 30kB 2.4MB/s eta 0:00:01\r\u001b[K     |████▎                           | 40kB 1.6MB/s eta 0:00:01\r\u001b[K     |█████▍                          | 51kB 2.0MB/s eta 0:00:01\r\u001b[K     |██████▍                         | 61kB 2.4MB/s eta 0:00:01\r\u001b[K     |███████▌                        | 71kB 2.8MB/s eta 0:00:01\r\u001b[K     |████████▋                       | 81kB 3.1MB/s eta 0:00:01\r\u001b[K     |█████████▋                      | 92kB 3.5MB/s eta 0:00:01\r\u001b[K     |██████████▊                     | 102kB 2.7MB/s eta 0:00:01\r\u001b[K     |███████████▉                    | 112kB 2.7MB/s eta 0:00:01\r\u001b[K     |████████████▉                   | 122kB 2.7MB/s eta 0:00:01\r\u001b[K     |██████████████                  | 133kB 2.7MB/s eta 0:00:01\r\u001b[K     |███████████████                 | 143kB 2.7MB/s eta 0:00:01\r\u001b[K     |████████████████                | 153kB 2.7MB/s eta 0:00:01\r\u001b[K     |█████████████████▏              | 163kB 2.7MB/s eta 0:00:01\r\u001b[K     |██████████████████▎             | 174kB 2.7MB/s eta 0:00:01\r\u001b[K     |███████████████████▎            | 184kB 2.7MB/s eta 0:00:01\r\u001b[K     |████████████████████▍           | 194kB 2.7MB/s eta 0:00:01\r\u001b[K     |█████████████████████▍          | 204kB 2.7MB/s eta 0:00:01\r\u001b[K     |██████████████████████▌         | 215kB 2.7MB/s eta 0:00:01\r\u001b[K     |███████████████████████▋        | 225kB 2.7MB/s eta 0:00:01\r\u001b[K     |████████████████████████▋       | 235kB 2.7MB/s eta 0:00:01\r\u001b[K     |█████████████████████████▊      | 245kB 2.7MB/s eta 0:00:01\r\u001b[K     |██████████████████████████▉     | 256kB 2.7MB/s eta 0:00:01\r\u001b[K     |███████████████████████████▉    | 266kB 2.7MB/s eta 0:00:01\r\u001b[K     |█████████████████████████████   | 276kB 2.7MB/s eta 0:00:01\r\u001b[K     |██████████████████████████████  | 286kB 2.7MB/s eta 0:00:01\r\u001b[K     |███████████████████████████████ | 296kB 2.7MB/s eta 0:00:01\r\u001b[K     |████████████████████████████████| 307kB 2.7MB/s \n",
            "\u001b[?25hRequirement already satisfied: scipy in /usr/local/lib/python3.6/dist-packages (from POT) (1.3.2)\n",
            "Requirement already satisfied: cython in /usr/local/lib/python3.6/dist-packages (from POT) (0.29.14)\n",
            "Requirement already satisfied: numpy in /usr/local/lib/python3.6/dist-packages (from POT) (1.17.4)\n",
            "Installing collected packages: POT\n",
            "Successfully installed POT-0.6.0\n"
          ],
          "name": "stdout"
        }
      ]
    },
    {
      "cell_type": "code",
      "metadata": {
        "id": "Lq8SY4RuSl6B",
        "colab_type": "code",
        "colab": {}
      },
      "source": [
        "import numpy as np\n",
        "%matplotlib inline\n",
        "import matplotlib \n",
        "import matplotlib.pyplot as plt\n",
        "import energyflow as ef\n",
        "\n",
        "\n",
        "#%jsroot on\n",
        "from energyflow.emd import emd, emds\n",
        "from energyflow.datasets import qg_jets\n",
        "from energyflow.utils import sum_ptyphipids\n",
        "import ot"
      ],
      "execution_count": 0,
      "outputs": []
    },
    {
      "cell_type": "code",
      "metadata": {
        "id": "AsZ5pCeySv1R",
        "colab_type": "code",
        "colab": {}
      },
      "source": [
        "from sklearn.metrics import roc_auc_score, roc_curve"
      ],
      "execution_count": 0,
      "outputs": []
    },
    {
      "cell_type": "code",
      "metadata": {
        "id": "bqbx22qtSx86",
        "colab_type": "code",
        "colab": {}
      },
      "source": [
        "from ot.lp import emd_c, check_result\n",
        "from scipy.spatial.distance import _distance_wrap"
      ],
      "execution_count": 0,
      "outputs": []
    },
    {
      "cell_type": "code",
      "metadata": {
        "id": "eJbr1j15S0QC",
        "colab_type": "code",
        "colab": {}
      },
      "source": [
        "# data controls.\n",
        "# we will use the n nearest neighbors in the \"electorate\" to vote on what kind of jet each candidate is.\n",
        "candidates, electorate = 200, 2000"
      ],
      "execution_count": 0,
      "outputs": []
    },
    {
      "cell_type": "code",
      "metadata": {
        "id": "Yltn1nBIS2YG",
        "colab_type": "code",
        "colab": {
          "base_uri": "https://localhost:8080/",
          "height": 173
        },
        "outputId": "ecc66274-6cd4-403c-dfd8-1239d57b1efe"
      },
      "source": [
        "# load quark and gluon jets from simulation. We want candidates + electorate of *each.*\n",
        "#It takes FOREVER to download these jets. Probably because the simulation gives us more data about the jets.\n",
        "specs = ['375 <= corr_jet_pts <= 425', 'abs_jet_eta < 1.9', 'quality >= 2']\n",
        "amount = 0.00001\n",
        "extrajets = candidates\n",
        "sim = ef.mod.load(*specs, dataset='sim', amount=amount)\n",
        "maxevts = candidates+electorate\n",
        "nprint = int(maxevts*maxevts/10)\n",
        "\n",
        "# the jet radius for these jets\n",
        "jetR = 0.4"
      ],
      "execution_count": 8,
      "outputs": [
        {
          "output_type": "stream",
          "text": [
            "Downloading SIM170_Jet300_pT375-infGeV_0_compressed.h5 from https://zenodo.org/record/3341500/files/SIM170_Jet300_pT375-infGeV_0_compressed.h5?download=1 to /root/.energyflow/datasets/CMS2011AJets/SIM170_Jet300_pT375-infGeV\n",
            "Downloading SIM300_Jet300_pT375-infGeV_0_compressed.h5 from https://zenodo.org/record/3341498/files/SIM300_Jet300_pT375-infGeV_0_compressed.h5?download=1 to /root/.energyflow/datasets/CMS2011AJets/SIM300_Jet300_pT375-infGeV\n",
            "Downloading SIM470_Jet300_pT375-infGeV_0_compressed.h5 from https://zenodo.org/record/3341419/files/SIM470_Jet300_pT375-infGeV_0_compressed.h5?download=1 to /root/.energyflow/datasets/CMS2011AJets/SIM470_Jet300_pT375-infGeV\n",
            "Downloading SIM600_Jet300_pT375-infGeV_0_compressed.h5 from https://zenodo.org/record/3364139/files/SIM600_Jet300_pT375-infGeV_0_compressed.h5?download=1 to /root/.energyflow/datasets/CMS2011AJets/SIM600_Jet300_pT375-infGeV\n",
            "Downloading SIM800_Jet300_pT375-infGeV_0_compressed.h5 from https://zenodo.org/record/3341413/files/SIM800_Jet300_pT375-infGeV_0_compressed.h5?download=1 to /root/.energyflow/datasets/CMS2011AJets/SIM800_Jet300_pT375-infGeV\n",
            "Downloading SIM1000_Jet300_pT375-infGeV_0_compressed.h5 from https://zenodo.org/record/3341502/files/SIM1000_Jet300_pT375-infGeV_0_compressed.h5?download=1 to /root/.energyflow/datasets/CMS2011AJets/SIM1000_Jet300_pT375-infGeV\n",
            "Downloading SIM1400_Jet300_pT375-infGeV_0_compressed.h5 from https://zenodo.org/record/3341770/files/SIM1400_Jet300_pT375-infGeV_0_compressed.h5?download=1 to /root/.energyflow/datasets/CMS2011AJets/SIM1400_Jet300_pT375-infGeV\n",
            "Downloading SIM1800_Jet300_pT375-infGeV_0_compressed.h5 from https://zenodo.org/record/3341772/files/SIM1800_Jet300_pT375-infGeV_0_compressed.h5?download=1 to /root/.energyflow/datasets/CMS2011AJets/SIM1800_Jet300_pT375-infGeV\n"
          ],
          "name": "stdout"
        }
      ]
    },
    {
      "cell_type": "code",
      "metadata": {
        "id": "ACFt8SYCVpME",
        "colab_type": "code",
        "outputId": "51be787b-4288-4bef-b8ba-15713763bbad",
        "colab": {
          "base_uri": "https://localhost:8080/",
          "height": 34
        }
      },
      "source": [
        "observe_array=sim.particles[sim.jets_i[:,sim.hard_pid]==21]\n",
        "print(observe_array.shape)"
      ],
      "execution_count": 0,
      "outputs": [
        {
          "output_type": "stream",
          "text": [
            "(38479,)\n"
          ],
          "name": "stdout"
        }
      ]
    },
    {
      "cell_type": "code",
      "metadata": {
        "id": "SIhMe8SMaFPI",
        "colab_type": "code",
        "colab": {}
      },
      "source": [
        "#Gs = (sim.particles[sim.jets_i[:,sim.hard_pid]==21])[0:maxevts]\n",
        "#Qs = (sim.particles[sim.jets_i[:,sim.hard_pid]!=21])[0:maxevts]"
      ],
      "execution_count": 0,
      "outputs": []
    },
    {
      "cell_type": "code",
      "metadata": {
        "id": "kbonp41MaXrI",
        "colab_type": "code",
        "outputId": "f216270c-08f7-42c3-d5df-aa7d5c173347",
        "colab": {
          "base_uri": "https://localhost:8080/",
          "height": 51
        }
      },
      "source": [
        "print(len(Gs), len(Qs))\n",
        "print(len(Gs[0]), len(Qs[0]))"
      ],
      "execution_count": 0,
      "outputs": [
        {
          "output_type": "stream",
          "text": [
            "2200 2200\n",
            "36 20\n"
          ],
          "name": "stdout"
        }
      ]
    },
    {
      "cell_type": "code",
      "metadata": {
        "id": "XTRsSeCHdJA7",
        "colab_type": "code",
        "outputId": "6c213efc-3f53-46d1-aeff-1c27bba65aae",
        "colab": {
          "base_uri": "https://localhost:8080/",
          "height": 34
        }
      },
      "source": [
        "Gs.shape, Qs.shape"
      ],
      "execution_count": 0,
      "outputs": [
        {
          "output_type": "execute_result",
          "data": {
            "text/plain": [
              "((2200,), (2200,))"
            ]
          },
          "metadata": {
            "tags": []
          },
          "execution_count": 18
        }
      ]
    },
    {
      "cell_type": "code",
      "metadata": {
        "id": "eVP-MmUsS9i0",
        "colab_type": "code",
        "outputId": "3ff7e41f-10c7-4adb-f2c2-2268f3857ef2",
        "colab": {
          "base_uri": "https://localhost:8080/",
          "height": 34
        }
      },
      "source": [
        "Gs = []\n",
        "Qs = []\n",
        "\n",
        "for arr,events in [(Gs, sim.particles[sim.jets_i[:,sim.hard_pid]==21]), (Qs, sim.particles[sim.jets_i[:,sim.hard_pid]!=21])]:\n",
        "    for i,x in enumerate(events):\n",
        "        if i >= maxevts:  break\n",
        "        # ignore padded particles (not used) and remove particle id information(:3)\n",
        "        x = x[x[:,0] > 0,:3]\n",
        "        # center jet according to pt-centroid\n",
        "        yphi_avg = np.average(x[:,1:3], weights=x[:,0], axis=0)\n",
        "        x[:,1:3] -= yphi_avg\n",
        "        # mask out any particles farther than R=0.4 away from center (rare)\n",
        "        x = x[np.linalg.norm(x[:,1:3], axis=1) <= jetR]\n",
        "        # add to list\n",
        "        arr.append(x)\n",
        "        pass #evts\n",
        "    pass #gluonquark\n",
        "\n",
        "len(Gs), len(Qs)"
      ],
      "execution_count": 10,
      "outputs": [
        {
          "output_type": "execute_result",
          "data": {
            "text/plain": [
              "(2200, 2200)"
            ]
          },
          "metadata": {
            "tags": []
          },
          "execution_count": 10
        }
      ]
    },
    {
      "cell_type": "code",
      "metadata": {
        "id": "jnjAeztqEqT8",
        "colab_type": "code",
        "outputId": "7b1fd3a6-77f9-43cc-dd9e-b5649857dcae",
        "colab": {
          "base_uri": "https://localhost:8080/",
          "height": 34
        }
      },
      "source": [
        "print(Gs[candidates:].shape)"
      ],
      "execution_count": 0,
      "outputs": [
        {
          "output_type": "stream",
          "text": [
            "(2000,)\n"
          ],
          "name": "stdout"
        }
      ]
    },
    {
      "cell_type": "code",
      "metadata": {
        "id": "eLsLvijZTWqc",
        "colab_type": "code",
        "outputId": "76be1cf2-27da-4cfc-ae58-e8e2ae2189f9",
        "colab": {
          "base_uri": "https://localhost:8080/",
          "height": 34
        }
      },
      "source": [
        "constituentList = Gs[candidates:]+Qs[candidates:]\n",
        "len(constituentList)"
      ],
      "execution_count": 11,
      "outputs": [
        {
          "output_type": "execute_result",
          "data": {
            "text/plain": [
              "4000"
            ]
          },
          "metadata": {
            "tags": []
          },
          "execution_count": 11
        }
      ]
    },
    {
      "cell_type": "code",
      "metadata": {
        "id": "cO0QCIuATa6M",
        "colab_type": "code",
        "outputId": "184407ea-f7f0-4a5b-aaba-3ac648290b84",
        "colab": {
          "base_uri": "https://localhost:8080/",
          "height": 153
        }
      },
      "source": [
        "#array of distances of gluon candidate from all constituents. shape is (candidates,constituents)\n",
        "costM_g  = emds(Gs[0:candidates], constituentList, R=jetR, norm=True, verbose=1, n_jobs=4, print_every=nprint)\n",
        "#ditto for quarks.\n",
        "costM_q  = emds(Qs[0:candidates], constituentList, R=jetR, norm=True, verbose=1, n_jobs=4, print_every=nprint)"
      ],
      "execution_count": 12,
      "outputs": [
        {
          "output_type": "stream",
          "text": [
            "Processed 4200 events for asymmetric EMD computation in 0.091s\n",
            "Using 4 worker processes:\n",
            "  Computed 484000 EMDs, 60.50% done in 92.11s\n",
            "  Computed 800000 EMDs, 100.00% done in 148.52s\n",
            "Processed 4200 events for asymmetric EMD computation in 0.063s\n",
            "Using 4 worker processes:\n",
            "  Computed 484000 EMDs, 60.50% done in 67.26s\n",
            "  Computed 800000 EMDs, 100.00% done in 109.76s\n"
          ],
          "name": "stdout"
        }
      ]
    },
    {
      "cell_type": "code",
      "metadata": {
        "id": "7lRaSxHPTjgm",
        "colab_type": "code",
        "outputId": "32ec6943-2cb9-47cc-bd61-b1497df75ee3",
        "colab": {
          "base_uri": "https://localhost:8080/",
          "height": 153
        }
      },
      "source": [
        "indicesG=np.argsort(costM_g)\n",
        "indicesQ=np.argsort(costM_q)\n",
        "print(indicesG.shape)\n",
        "print(indicesG)"
      ],
      "execution_count": 13,
      "outputs": [
        {
          "output_type": "stream",
          "text": [
            "(200, 4000)\n",
            "[[2763  757 3336 ... 1341 1316 1190]\n",
            " [ 762 1250 1200 ... 2428 1341 1190]\n",
            " [ 664 1063 2703 ... 3781 3068 2364]\n",
            " ...\n",
            " [ 613  544 3357 ... 3121 3472  844]\n",
            " [ 890 2706  207 ... 1458 1482 1190]\n",
            " [2565 3077 3829 ... 1204  844 1190]]\n"
          ],
          "name": "stdout"
        }
      ]
    },
    {
      "cell_type": "code",
      "metadata": {
        "id": "KZyECp4HTkjw",
        "colab_type": "code",
        "colab": {}
      },
      "source": [
        "h_Gten_array = []\n",
        "h_Qten_array = []\n",
        "h_Gtwt_array = []\n",
        "h_Qtwt_array = []\n",
        "\n",
        "nVoters = 10\n",
        "for i in range(candidates): h_Gten_array.append(sum(indicesG[i,:nVoters] < electorate)/nVoters)\n",
        "for i in range(candidates): h_Qten_array.append(sum(indicesQ[i,:nVoters] < electorate)/nVoters)\n",
        "nVoters = 20\n",
        "for i in range(candidates): h_Gtwt_array.append(sum(indicesG[i,:nVoters] < electorate)/nVoters)  \n",
        "for i in range(candidates): h_Qtwt_array.append(sum(indicesQ[i,:nVoters] < electorate)/nVoters)"
      ],
      "execution_count": 0,
      "outputs": []
    },
    {
      "cell_type": "code",
      "metadata": {
        "id": "6wCFbn07TpTq",
        "colab_type": "code",
        "outputId": "443b4b03-3917-480b-9a4d-1b59b30217b6",
        "colab": {
          "base_uri": "https://localhost:8080/",
          "height": 71
        }
      },
      "source": [
        "print(h_Gten_array)\n",
        "print(h_Qten_array)"
      ],
      "execution_count": 15,
      "outputs": [
        {
          "output_type": "stream",
          "text": [
            "[0.2, 0.8, 0.5, 0.6, 0.5, 0.4, 0.7, 0.7, 1.0, 0.4, 0.4, 0.4, 0.5, 0.2, 0.7, 0.2, 0.9, 0.3, 0.4, 0.9, 0.6, 0.2, 0.8, 0.9, 0.6, 0.0, 0.2, 0.8, 0.5, 0.8, 0.9, 0.5, 0.7, 0.8, 0.6, 0.9, 0.1, 0.1, 0.8, 0.6, 0.7, 0.9, 0.6, 0.7, 0.2, 0.9, 0.7, 1.0, 0.8, 0.6, 0.5, 0.6, 0.3, 0.7, 0.6, 0.6, 0.8, 0.6, 0.9, 0.9, 0.8, 0.7, 0.9, 0.5, 0.8, 0.6, 0.6, 0.6, 0.6, 0.5, 0.2, 0.5, 0.7, 0.6, 0.8, 0.7, 0.6, 0.5, 0.9, 0.9, 0.7, 0.6, 0.6, 0.6, 0.7, 1.0, 0.0, 0.1, 0.6, 0.3, 0.9, 0.8, 0.8, 0.8, 0.6, 0.5, 1.0, 0.8, 0.8, 1.0, 0.7, 0.1, 0.5, 0.7, 0.6, 0.6, 0.7, 0.3, 0.3, 0.8, 0.7, 0.8, 0.5, 0.8, 0.6, 0.9, 0.1, 0.4, 0.6, 0.9, 0.5, 0.7, 0.6, 0.6, 0.4, 0.9, 0.7, 0.9, 0.7, 0.6, 0.0, 0.1, 0.7, 0.6, 0.5, 0.3, 0.6, 0.6, 0.6, 0.3, 0.5, 0.4, 0.5, 0.6, 0.5, 0.5, 0.8, 0.5, 0.3, 0.4, 0.4, 0.4, 0.8, 0.0, 0.0, 0.7, 0.5, 0.6, 0.6, 0.8, 0.9, 0.0, 0.6, 0.7, 0.9, 0.7, 0.2, 0.9, 0.6, 0.7, 0.4, 0.6, 0.9, 0.7, 0.2, 0.6, 0.7, 0.8, 0.8, 0.4, 0.7, 0.6, 0.9, 0.8, 0.6, 0.7, 0.8, 0.5, 0.2, 0.2, 0.8, 0.7, 0.7, 0.5, 0.5, 0.3, 0.8, 0.6, 0.6, 0.2]\n",
            "[0.0, 0.3, 0.6, 0.0, 0.8, 0.6, 0.7, 0.3, 0.2, 0.1, 0.6, 0.1, 0.0, 0.2, 0.8, 0.0, 0.2, 0.1, 0.4, 0.4, 0.6, 0.7, 0.0, 0.4, 0.4, 0.1, 0.0, 0.2, 0.5, 0.1, 0.1, 0.6, 0.3, 0.6, 0.1, 0.2, 0.3, 0.7, 0.9, 0.2, 0.2, 0.1, 0.0, 0.8, 0.0, 0.1, 0.7, 0.2, 0.3, 0.3, 0.0, 0.3, 0.1, 0.1, 0.4, 0.8, 0.6, 0.0, 0.3, 0.5, 0.2, 0.4, 0.2, 0.0, 0.2, 0.6, 0.4, 0.2, 0.1, 0.3, 0.0, 0.6, 0.4, 0.7, 0.7, 0.1, 0.4, 0.2, 0.7, 0.1, 0.6, 0.6, 0.0, 0.4, 0.6, 0.2, 0.1, 0.6, 0.3, 0.1, 0.1, 0.6, 0.7, 0.3, 0.2, 0.1, 0.0, 0.1, 0.0, 0.1, 0.0, 0.3, 0.5, 0.7, 0.9, 0.0, 0.2, 0.3, 1.0, 0.1, 0.4, 0.5, 0.3, 0.1, 0.3, 0.0, 0.1, 0.6, 0.9, 0.0, 0.0, 0.5, 0.5, 0.5, 0.7, 0.4, 0.0, 0.7, 0.9, 0.6, 0.3, 0.6, 0.0, 0.6, 0.9, 0.2, 0.2, 0.2, 0.4, 0.1, 0.2, 0.6, 0.1, 0.6, 0.4, 0.0, 0.4, 0.1, 0.7, 0.8, 0.1, 0.5, 0.5, 0.1, 0.2, 0.3, 0.4, 0.3, 0.7, 0.5, 0.6, 0.0, 0.7, 0.2, 0.6, 0.3, 0.1, 0.9, 0.0, 0.8, 0.7, 0.0, 0.4, 0.9, 0.1, 0.0, 0.7, 0.5, 0.3, 0.0, 0.0, 0.4, 0.8, 0.0, 0.3, 0.0, 0.1, 0.0, 0.7, 0.0, 0.1, 0.2, 0.2, 0.0, 0.4, 0.0, 0.0, 0.3, 0.6, 0.2]\n"
          ],
          "name": "stdout"
        }
      ]
    },
    {
      "cell_type": "code",
      "metadata": {
        "id": "TuU6J3DsTwc2",
        "colab_type": "code",
        "colab": {}
      },
      "source": [
        "h_Gten_nparray = np.asarray(h_Gten_array)\n",
        "h_Qten_nparray = np.asarray(h_Qten_array)\n",
        "h_Gtwt_nparray = np.asarray(h_Gtwt_array)\n",
        "h_Qtwt_nparray = np.asarray(h_Qtwt_array)"
      ],
      "execution_count": 0,
      "outputs": []
    },
    {
      "cell_type": "code",
      "metadata": {
        "id": "Y3UohtVoTyh_",
        "colab_type": "code",
        "colab": {}
      },
      "source": [
        "true_y_g = np.ones(200)\n",
        "true_y_q = np.zeros(200)\n",
        "\n",
        "true_values = np.concatenate([true_y_g, true_y_q])\n",
        "\n",
        "ten_predicted = np.concatenate([h_Gten_nparray, h_Qten_nparray])\n",
        "emd_auc_10 = roc_auc_score(y_true=true_values, y_score=ten_predicted)"
      ],
      "execution_count": 0,
      "outputs": []
    },
    {
      "cell_type": "code",
      "metadata": {
        "id": "ikISnOF4T0pD",
        "colab_type": "code",
        "outputId": "9ef2182e-f5dc-436c-c4c7-db12dc39acd1",
        "colab": {
          "base_uri": "https://localhost:8080/",
          "height": 34
        }
      },
      "source": [
        "print(\"EMD AUC 10 voters: \", emd_auc_10)"
      ],
      "execution_count": 18,
      "outputs": [
        {
          "output_type": "stream",
          "text": [
            "EMD AUC 10 voters:  0.7555625\n"
          ],
          "name": "stdout"
        }
      ]
    },
    {
      "cell_type": "code",
      "metadata": {
        "id": "uSOi5Uo0T2Sw",
        "colab_type": "code",
        "outputId": "288b60b1-5b15-462d-f6a8-b9ec9b3c411f",
        "colab": {
          "base_uri": "https://localhost:8080/",
          "height": 34
        }
      },
      "source": [
        "twt_predicted = np.concatenate([h_Gtwt_nparray, h_Qtwt_nparray])\n",
        "emd_auc_20 = roc_auc_score(y_true=true_values, y_score=twt_predicted)\n",
        "print(\"EMD AUC 20 voters: \", emd_auc_20)"
      ],
      "execution_count": 19,
      "outputs": [
        {
          "output_type": "stream",
          "text": [
            "EMD AUC 20 voters:  0.7684499999999999\n"
          ],
          "name": "stdout"
        }
      ]
    },
    {
      "cell_type": "code",
      "metadata": {
        "id": "jF0ILwsYVaiR",
        "colab_type": "code",
        "colab": {}
      },
      "source": [
        "h_G_array = []\n",
        "h_Q_array = []\n",
        "emd_list = []"
      ],
      "execution_count": 0,
      "outputs": []
    },
    {
      "cell_type": "markdown",
      "metadata": {
        "id": "5d5h-MoMRBVB",
        "colab_type": "text"
      },
      "source": [
        "Testing out different numbers of voters to find an optimum"
      ]
    },
    {
      "cell_type": "code",
      "metadata": {
        "id": "JUBSDd2HNyjY",
        "colab_type": "code",
        "colab": {}
      },
      "source": [
        "for nVoters in range(10,200):\n",
        "    for i in range(candidates): h_G_array.append(sum(indicesG[i,:nVoters] < electorate)/nVoters)\n",
        "    for i in range(candidates): h_Q_array.append(sum(indicesQ[i,:nVoters] < electorate)/nVoters)\n",
        "    h_G_nparray = np.asarray(h_G_array)\n",
        "    h_Q_nparray = np.asarray(h_Q_array)\n",
        "    predicted = np.concatenate([h_G_nparray, h_Q_nparray])\n",
        "    emd_auc = roc_auc_score(y_true=true_values, y_score=predicted)\n",
        "    emd_list.append(emd_auc)\n",
        "    h_G_array = []\n",
        "    h_Q_array = []\n",
        "\n",
        "emd_auc_array = np.asarray(emd_list)"
      ],
      "execution_count": 0,
      "outputs": []
    },
    {
      "cell_type": "code",
      "metadata": {
        "id": "0O3gTz4DN0YR",
        "colab_type": "code",
        "outputId": "c92ffedc-8cd0-4471-945e-a0e1c354e629",
        "colab": {
          "base_uri": "https://localhost:8080/",
          "height": 493
        }
      },
      "source": [
        "print(emd_auc_array)"
      ],
      "execution_count": 22,
      "outputs": [
        {
          "output_type": "stream",
          "text": [
            "[0.7555625 0.7547625 0.7528125 0.753775  0.759125  0.7577    0.763725\n",
            " 0.768125  0.766575  0.768875  0.76845   0.770625  0.7720625 0.77365\n",
            " 0.7746375 0.773225  0.774     0.7748875 0.774075  0.777625  0.778875\n",
            " 0.77835   0.7774375 0.7782125 0.7782875 0.7784375 0.7762125 0.77815\n",
            " 0.7779375 0.7778125 0.7777    0.7759    0.7748875 0.776275  0.7754\n",
            " 0.7761625 0.7758375 0.7772875 0.776925  0.7748375 0.77565   0.7774875\n",
            " 0.7787375 0.7765625 0.7768    0.77545   0.7747875 0.774925  0.7727375\n",
            " 0.7725375 0.7745125 0.7733625 0.7733375 0.7740375 0.77305   0.774525\n",
            " 0.7743375 0.771875  0.773     0.7734    0.773725  0.77395   0.774025\n",
            " 0.7731    0.7754    0.776425  0.7775375 0.7788    0.7780625 0.7773375\n",
            " 0.7764375 0.7765    0.776675  0.776625  0.7757    0.7766375 0.775675\n",
            " 0.776075  0.776625  0.7771875 0.77635   0.776925  0.777475  0.777425\n",
            " 0.7779375 0.7778125 0.7777625 0.777275  0.777775  0.777175  0.7762875\n",
            " 0.7763125 0.775525  0.77535   0.775     0.776525  0.7757375 0.7768875\n",
            " 0.7772625 0.7777125 0.7779    0.77805   0.777575  0.77755   0.77745\n",
            " 0.777575  0.7776375 0.778925  0.7787375 0.7786375 0.7788625 0.7790875\n",
            " 0.778875  0.7792    0.778025  0.777725  0.7775625 0.7776625 0.7773875\n",
            " 0.7780375 0.7770875 0.776475  0.7752875 0.7746125 0.775075  0.7744875\n",
            " 0.7741875 0.773925  0.7734    0.77295   0.7734875 0.7738125 0.7736625\n",
            " 0.7731    0.7728375 0.773275  0.7726    0.77285   0.772075  0.7710125\n",
            " 0.7718125 0.7718125 0.771425  0.7704125 0.7697375 0.7695875 0.7704\n",
            " 0.770025  0.77055   0.770075  0.770125  0.7710875 0.7709125 0.77045\n",
            " 0.7704625 0.7701875 0.7702    0.7696875 0.769425  0.7691125 0.7697375\n",
            " 0.769625  0.7699    0.7697625 0.7695875 0.7699875 0.7703375 0.7697375\n",
            " 0.769125  0.7690375 0.76855   0.7689625 0.768575  0.768375  0.768575\n",
            " 0.7677625 0.768     0.767925  0.7671875 0.7669375 0.7665875 0.7664375\n",
            " 0.76645   0.7654625 0.7654375 0.7650125 0.765375  0.765125  0.764725\n",
            " 0.7651875]\n"
          ],
          "name": "stdout"
        }
      ]
    },
    {
      "cell_type": "code",
      "metadata": {
        "id": "hoK9KB3zN2MD",
        "colab_type": "code",
        "outputId": "98ca5f0c-6154-4db0-ae4f-3fdb3b43b633",
        "colab": {
          "base_uri": "https://localhost:8080/",
          "height": 297
        }
      },
      "source": [
        "number_voters = np.arange(10,200)\n",
        "if plt:\n",
        "    # some nicer plot settings\n",
        "    plt.rcParams['figure.figsize'] = (4,4)\n",
        "    plt.rcParams['font.family'] = 'serif'\n",
        "    plt.rcParams['figure.autolayout'] = True\n",
        "\n",
        "    # plot the ROC curves\n",
        "    plt.plot(number_voters, emd_auc_array, '-', color='black')\n",
        "\n",
        "     # axes labels\n",
        "    plt.xlabel('Number of Voters')\n",
        "    plt.ylabel('EMD AUC score')\n",
        "\n",
        "    # axes limits\n",
        "    plt.xlim(0, 210)\n",
        "    plt.ylim(0.750, 0.800)\n",
        "\n",
        "    plt.show()"
      ],
      "execution_count": 26,
      "outputs": [
        {
          "output_type": "display_data",
          "data": {
            "image/png": "[encoded data removed]",
            "text/plain": [
              "<Figure size 288x288 with 1 Axes>"
            ]
          },
          "metadata": {
            "tags": []
          }
        }
      ]
    },
    {
      "cell_type": "code",
      "metadata": {
        "id": "VSAHVqV8PCER",
        "colab_type": "code",
        "outputId": "be19bf6c-4a39-4547-d63a-7bfcea910f8e",
        "colab": {
          "base_uri": "https://localhost:8080/",
          "height": 34
        }
      },
      "source": [
        "max_auc = np.amax(emd_auc_array)\n",
        "print(max_auc)"
      ],
      "execution_count": 24,
      "outputs": [
        {
          "output_type": "stream",
          "text": [
            "0.7791999999999999\n"
          ],
          "name": "stdout"
        }
      ]
    },
    {
      "cell_type": "code",
      "metadata": {
        "id": "7zwlDDT8PFqT",
        "colab_type": "code",
        "outputId": "c17dadf8-6a66-4783-be58-2c3de735c5fb",
        "colab": {
          "base_uri": "https://localhost:8080/",
          "height": 34
        }
      },
      "source": [
        "opt_voters = np.argmax(emd_auc_array) + 10 #since we started with 10 voters\n",
        "print(opt_voters)"
      ],
      "execution_count": 25,
      "outputs": [
        {
          "output_type": "stream",
          "text": [
            "123\n"
          ],
          "name": "stdout"
        }
      ]
    },
    {
      "cell_type": "code",
      "metadata": {
        "id": "uWQtmGcETqT0",
        "colab_type": "code",
        "colab": {}
      },
      "source": [
        ""
      ],
      "execution_count": 0,
      "outputs": []
    }
  ]
}