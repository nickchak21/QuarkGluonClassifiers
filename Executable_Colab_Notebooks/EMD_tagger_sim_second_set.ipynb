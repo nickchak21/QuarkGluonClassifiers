{
  "nbformat": 4,
  "nbformat_minor": 0,
  "metadata": {
    "colab": {
      "name": "EMD_tagger_sim_second_set.ipynb",
      "provenance": [],
      "include_colab_link": true
    },
    "kernelspec": {
      "name": "python3",
      "display_name": "Python 3"
    },
    "accelerator": "GPU"
  },
  "cells": [
    {
      "cell_type": "markdown",
      "metadata": {
        "id": "view-in-github",
        "colab_type": "text"
      },
      "source": [
        "<a href=\"https://colab.research.google.com/github/nickchak21/QuarkGluonClassifiers/blob/master/Executable_Colab_Notebooks/EMD_tagger_sim_second_set.ipynb\" target=\"_parent\"><img src=\"https://colab.research.google.com/assets/colab-badge.svg\" alt=\"Open In Colab\"/></a>"
      ]
    },
    {
      "cell_type": "code",
      "metadata": {
        "id": "EDQHdFMzRKws",
        "colab_type": "code",
        "outputId": "bc2044a1-2895-4619-c8fb-99684d13b74f",
        "colab": {
          "base_uri": "https://localhost:8080/",
          "height": 289
        }
      },
      "source": [
        "!pip install energyflow\n",
        "!pip install h5py"
      ],
      "execution_count": 1,
      "outputs": [
        {
          "output_type": "stream",
          "text": [
            "Collecting energyflow\n",
            "\u001b[?25l  Downloading https://files.pythonhosted.org/packages/35/ba/f598bafbde78553b962dc1f693ef95365cc752ddbdb448856858093579eb/EnergyFlow-1.0.0-py2.py3-none-any.whl (679kB)\n",
            "\u001b[K     |████████████████████████████████| 686kB 6.5MB/s \n",
            "\u001b[?25hRequirement already satisfied: numpy>=1.14.0 in /usr/local/lib/python3.6/dist-packages (from energyflow) (1.17.4)\n",
            "Requirement already satisfied: six>=1.10.0 in /usr/local/lib/python3.6/dist-packages (from energyflow) (1.12.0)\n",
            "Collecting h5py>=2.9.0\n",
            "\u001b[?25l  Downloading https://files.pythonhosted.org/packages/60/06/cafdd44889200e5438b897388f3075b52a8ef01f28a17366d91de0fa2d05/h5py-2.10.0-cp36-cp36m-manylinux1_x86_64.whl (2.9MB)\n",
            "\u001b[K     |████████████████████████████████| 2.9MB 48.6MB/s \n",
            "\u001b[?25hInstalling collected packages: h5py, energyflow\n",
            "  Found existing installation: h5py 2.8.0\n",
            "    Uninstalling h5py-2.8.0:\n",
            "      Successfully uninstalled h5py-2.8.0\n",
            "Successfully installed energyflow-1.0.0 h5py-2.10.0\n",
            "Requirement already satisfied: h5py in /usr/local/lib/python3.6/dist-packages (2.10.0)\n",
            "Requirement already satisfied: numpy>=1.7 in /usr/local/lib/python3.6/dist-packages (from h5py) (1.17.4)\n",
            "Requirement already satisfied: six in /usr/local/lib/python3.6/dist-packages (from h5py) (1.12.0)\n"
          ],
          "name": "stdout"
        }
      ]
    },
    {
      "cell_type": "code",
      "metadata": {
        "id": "jCY1hm8xSJyX",
        "colab_type": "code",
        "outputId": "45344e02-6b38-42cb-a106-da948d11ff6d",
        "colab": {
          "base_uri": "https://localhost:8080/",
          "height": 34
        }
      },
      "source": [
        "!python --version"
      ],
      "execution_count": 2,
      "outputs": [
        {
          "output_type": "stream",
          "text": [
            "Python 3.6.8\n"
          ],
          "name": "stdout"
        }
      ]
    },
    {
      "cell_type": "code",
      "metadata": {
        "id": "1r3rd5lMSYiH",
        "colab_type": "code",
        "outputId": "24cb3653-10b5-4b91-b86c-aec8353828d2",
        "colab": {
          "base_uri": "https://localhost:8080/",
          "height": 153
        }
      },
      "source": [
        "!pip install POT"
      ],
      "execution_count": 3,
      "outputs": [
        {
          "output_type": "stream",
          "text": [
            "Collecting POT\n",
            "\u001b[?25l  Downloading https://files.pythonhosted.org/packages/15/36/07d3c0960a590b88b81fa1837e666cc7479b90c7e9fd1063024ce9331122/POT-0.6.0-cp36-cp36m-manylinux1_x86_64.whl (305kB)\n",
            "\r\u001b[K     |█                               | 10kB 18.5MB/s eta 0:00:01\r\u001b[K     |██▏                             | 20kB 4.5MB/s eta 0:00:01\r\u001b[K     |███▏                            | 30kB 6.3MB/s eta 0:00:01\r\u001b[K     |████▎                           | 40kB 7.9MB/s eta 0:00:01\r\u001b[K     |█████▍                          | 51kB 5.1MB/s eta 0:00:01\r\u001b[K     |██████▍                         | 61kB 6.0MB/s eta 0:00:01\r\u001b[K     |███████▌                        | 71kB 6.5MB/s eta 0:00:01\r\u001b[K     |████████▋                       | 81kB 7.3MB/s eta 0:00:01\r\u001b[K     |█████████▋                      | 92kB 8.0MB/s eta 0:00:01\r\u001b[K     |██████████▊                     | 102kB 6.7MB/s eta 0:00:01\r\u001b[K     |███████████▉                    | 112kB 6.7MB/s eta 0:00:01\r\u001b[K     |████████████▉                   | 122kB 6.7MB/s eta 0:00:01\r\u001b[K     |██████████████                  | 133kB 6.7MB/s eta 0:00:01\r\u001b[K     |███████████████                 | 143kB 6.7MB/s eta 0:00:01\r\u001b[K     |████████████████                | 153kB 6.7MB/s eta 0:00:01\r\u001b[K     |█████████████████▏              | 163kB 6.7MB/s eta 0:00:01\r\u001b[K     |██████████████████▎             | 174kB 6.7MB/s eta 0:00:01\r\u001b[K     |███████████████████▎            | 184kB 6.7MB/s eta 0:00:01\r\u001b[K     |████████████████████▍           | 194kB 6.7MB/s eta 0:00:01\r\u001b[K     |█████████████████████▍          | 204kB 6.7MB/s eta 0:00:01\r\u001b[K     |██████████████████████▌         | 215kB 6.7MB/s eta 0:00:01\r\u001b[K     |███████████████████████▋        | 225kB 6.7MB/s eta 0:00:01\r\u001b[K     |████████████████████████▋       | 235kB 6.7MB/s eta 0:00:01\r\u001b[K     |█████████████████████████▊      | 245kB 6.7MB/s eta 0:00:01\r\u001b[K     |██████████████████████████▉     | 256kB 6.7MB/s eta 0:00:01\r\u001b[K     |███████████████████████████▉    | 266kB 6.7MB/s eta 0:00:01\r\u001b[K     |█████████████████████████████   | 276kB 6.7MB/s eta 0:00:01\r\u001b[K     |██████████████████████████████  | 286kB 6.7MB/s eta 0:00:01\r\u001b[K     |███████████████████████████████ | 296kB 6.7MB/s eta 0:00:01\r\u001b[K     |████████████████████████████████| 307kB 6.7MB/s \n",
            "\u001b[?25hRequirement already satisfied: numpy in /usr/local/lib/python3.6/dist-packages (from POT) (1.17.4)\n",
            "Requirement already satisfied: scipy in /usr/local/lib/python3.6/dist-packages (from POT) (1.3.2)\n",
            "Requirement already satisfied: cython in /usr/local/lib/python3.6/dist-packages (from POT) (0.29.14)\n",
            "Installing collected packages: POT\n",
            "Successfully installed POT-0.6.0\n"
          ],
          "name": "stdout"
        }
      ]
    },
    {
      "cell_type": "code",
      "metadata": {
        "id": "Lq8SY4RuSl6B",
        "colab_type": "code",
        "colab": {}
      },
      "source": [
        "import numpy as np\n",
        "%matplotlib inline\n",
        "import matplotlib \n",
        "import matplotlib.pyplot as plt\n",
        "import energyflow as ef\n",
        "\n",
        "\n",
        "#%jsroot on\n",
        "from energyflow.emd import emd, emds\n",
        "from energyflow.datasets import qg_jets\n",
        "from energyflow.utils import sum_ptyphipids\n",
        "import ot"
      ],
      "execution_count": 0,
      "outputs": []
    },
    {
      "cell_type": "code",
      "metadata": {
        "id": "AsZ5pCeySv1R",
        "colab_type": "code",
        "colab": {}
      },
      "source": [
        "from sklearn.metrics import roc_auc_score, roc_curve"
      ],
      "execution_count": 0,
      "outputs": []
    },
    {
      "cell_type": "code",
      "metadata": {
        "id": "bqbx22qtSx86",
        "colab_type": "code",
        "colab": {}
      },
      "source": [
        "from ot.lp import emd_c, check_result\n",
        "from scipy.spatial.distance import _distance_wrap"
      ],
      "execution_count": 0,
      "outputs": []
    },
    {
      "cell_type": "code",
      "metadata": {
        "id": "eJbr1j15S0QC",
        "colab_type": "code",
        "colab": {}
      },
      "source": [
        "# data controls.\n",
        "# we will use the n nearest neighbors in the \"electorate\" to vote on what kind of jet each candidate is.\n",
        "candidates, electorate = 200, 2000"
      ],
      "execution_count": 0,
      "outputs": []
    },
    {
      "cell_type": "code",
      "metadata": {
        "id": "Yltn1nBIS2YG",
        "colab_type": "code",
        "outputId": "3f035708-0bac-4b14-b772-1d6199600477",
        "colab": {
          "base_uri": "https://localhost:8080/",
          "height": 173
        }
      },
      "source": [
        "# load quark and gluon jets from simulation. We want candidates + electorate of *each.*\n",
        "#It takes FOREVER to download these jets. Probably because the simulation gives us more data about the jets.\n",
        "specs = ['375 <= corr_jet_pts <= 425', 'abs_jet_eta < 1.9', 'quality >= 2']\n",
        "amount = 0.00001\n",
        "extrajets = candidates\n",
        "sim = ef.mod.load(*specs, dataset='sim', amount=amount)\n",
        "maxevts = candidates+electorate\n",
        "nprint = int(maxevts*maxevts/10)\n",
        "\n",
        "# the jet radius for these jets\n",
        "jetR = 0.4"
      ],
      "execution_count": 8,
      "outputs": [
        {
          "output_type": "stream",
          "text": [
            "Downloading SIM170_Jet300_pT375-infGeV_0_compressed.h5 from https://zenodo.org/record/3341500/files/SIM170_Jet300_pT375-infGeV_0_compressed.h5?download=1 to /root/.energyflow/datasets/CMS2011AJets/SIM170_Jet300_pT375-infGeV\n",
            "Downloading SIM300_Jet300_pT375-infGeV_0_compressed.h5 from https://zenodo.org/record/3341498/files/SIM300_Jet300_pT375-infGeV_0_compressed.h5?download=1 to /root/.energyflow/datasets/CMS2011AJets/SIM300_Jet300_pT375-infGeV\n",
            "Downloading SIM470_Jet300_pT375-infGeV_0_compressed.h5 from https://zenodo.org/record/3341419/files/SIM470_Jet300_pT375-infGeV_0_compressed.h5?download=1 to /root/.energyflow/datasets/CMS2011AJets/SIM470_Jet300_pT375-infGeV\n",
            "Downloading SIM600_Jet300_pT375-infGeV_0_compressed.h5 from https://zenodo.org/record/3364139/files/SIM600_Jet300_pT375-infGeV_0_compressed.h5?download=1 to /root/.energyflow/datasets/CMS2011AJets/SIM600_Jet300_pT375-infGeV\n",
            "Downloading SIM800_Jet300_pT375-infGeV_0_compressed.h5 from https://zenodo.org/record/3341413/files/SIM800_Jet300_pT375-infGeV_0_compressed.h5?download=1 to /root/.energyflow/datasets/CMS2011AJets/SIM800_Jet300_pT375-infGeV\n",
            "Downloading SIM1000_Jet300_pT375-infGeV_0_compressed.h5 from https://zenodo.org/record/3341502/files/SIM1000_Jet300_pT375-infGeV_0_compressed.h5?download=1 to /root/.energyflow/datasets/CMS2011AJets/SIM1000_Jet300_pT375-infGeV\n",
            "Downloading SIM1400_Jet300_pT375-infGeV_0_compressed.h5 from https://zenodo.org/record/3341770/files/SIM1400_Jet300_pT375-infGeV_0_compressed.h5?download=1 to /root/.energyflow/datasets/CMS2011AJets/SIM1400_Jet300_pT375-infGeV\n",
            "Downloading SIM1800_Jet300_pT375-infGeV_0_compressed.h5 from https://zenodo.org/record/3341772/files/SIM1800_Jet300_pT375-infGeV_0_compressed.h5?download=1 to /root/.energyflow/datasets/CMS2011AJets/SIM1800_Jet300_pT375-infGeV\n"
          ],
          "name": "stdout"
        }
      ]
    },
    {
      "cell_type": "code",
      "metadata": {
        "id": "eVP-MmUsS9i0",
        "colab_type": "code",
        "outputId": "60243901-2c39-49e4-c4dc-c7f25cc87e22",
        "colab": {
          "base_uri": "https://localhost:8080/",
          "height": 34
        }
      },
      "source": [
        "Gs = []\n",
        "Qs = []\n",
        "\n",
        "for arr,events in [(Gs, sim.particles[sim.jets_i[:,sim.hard_pid]==21][maxevts:]), (Qs, sim.particles[sim.jets_i[:,sim.hard_pid]!=21][maxevts:])]:\n",
        "    i = 2200\n",
        "    for x in events:\n",
        "        if i >= maxevts+2200:  break\n",
        "        # ignore padded particles (not used) and remove particle id information(:3)\n",
        "        x = x[x[:,0] > 0,:3]\n",
        "        # center jet according to pt-centroid\n",
        "        yphi_avg = np.average(x[:,1:3], weights=x[:,0], axis=0)\n",
        "        x[:,1:3] -= yphi_avg\n",
        "        # mask out any particles farther than R=0.4 away from center (rare)\n",
        "        x = x[np.linalg.norm(x[:,1:3], axis=1) <= jetR]\n",
        "        # add to list\n",
        "        arr.append(x)\n",
        "        pass #evts\n",
        "        i+=1\n",
        "    pass #gluonquark\n",
        "\n",
        "len(Gs), len(Qs)"
      ],
      "execution_count": 24,
      "outputs": [
        {
          "output_type": "execute_result",
          "data": {
            "text/plain": [
              "(2200, 2200)"
            ]
          },
          "metadata": {
            "tags": []
          },
          "execution_count": 24
        }
      ]
    },
    {
      "cell_type": "code",
      "metadata": {
        "id": "eLsLvijZTWqc",
        "colab_type": "code",
        "outputId": "1d20accf-48fa-47eb-db8d-afb8960cce80",
        "colab": {
          "base_uri": "https://localhost:8080/",
          "height": 34
        }
      },
      "source": [
        "constituentList = Gs[candidates:]+Qs[candidates:]\n",
        "len(constituentList)"
      ],
      "execution_count": 25,
      "outputs": [
        {
          "output_type": "execute_result",
          "data": {
            "text/plain": [
              "4000"
            ]
          },
          "metadata": {
            "tags": []
          },
          "execution_count": 25
        }
      ]
    },
    {
      "cell_type": "code",
      "metadata": {
        "id": "cO0QCIuATa6M",
        "colab_type": "code",
        "outputId": "9784b8c7-f377-4905-afa3-364162e40f83",
        "colab": {
          "base_uri": "https://localhost:8080/",
          "height": 153
        }
      },
      "source": [
        "#array of distances of gluon candidate from all constituents. shape is (candidates,constituents)\n",
        "costM_g  = emds(Gs[0:candidates], constituentList, R=jetR, norm=True, verbose=1, n_jobs=4, print_every=nprint)\n",
        "#ditto for quarks.\n",
        "costM_q  = emds(Qs[0:candidates], constituentList, R=jetR, norm=True, verbose=1, n_jobs=4, print_every=nprint)"
      ],
      "execution_count": 26,
      "outputs": [
        {
          "output_type": "stream",
          "text": [
            "Processed 4200 events for asymmetric EMD computation in 0.076s\n",
            "Using 4 worker processes:\n",
            "  Computed 484000 EMDs, 60.50% done in 92.62s\n",
            "  Computed 800000 EMDs, 100.00% done in 150.44s\n",
            "Processed 4200 events for asymmetric EMD computation in 0.070s\n",
            "Using 4 worker processes:\n",
            "  Computed 484000 EMDs, 60.50% done in 68.84s\n",
            "  Computed 800000 EMDs, 100.00% done in 116.28s\n"
          ],
          "name": "stdout"
        }
      ]
    },
    {
      "cell_type": "code",
      "metadata": {
        "id": "7lRaSxHPTjgm",
        "colab_type": "code",
        "colab": {}
      },
      "source": [
        "indicesG=np.argsort(costM_g)\n",
        "indicesQ=np.argsort(costM_q)"
      ],
      "execution_count": 0,
      "outputs": []
    },
    {
      "cell_type": "code",
      "metadata": {
        "id": "KZyECp4HTkjw",
        "colab_type": "code",
        "colab": {}
      },
      "source": [
        "h_Gten_array = []\n",
        "h_Qten_array = []\n",
        "h_Gtwt_array = []\n",
        "h_Qtwt_array = []\n",
        "\n",
        "nVoters = 10\n",
        "for i in range(candidates): h_Gten_array.append(sum(indicesG[i,:nVoters] < electorate)/nVoters)\n",
        "for i in range(candidates): h_Qten_array.append(sum(indicesQ[i,:nVoters] < electorate)/nVoters)\n",
        "nVoters = 20\n",
        "for i in range(candidates): h_Gtwt_array.append(sum(indicesG[i,:nVoters] < electorate)/nVoters)  \n",
        "for i in range(candidates): h_Qtwt_array.append(sum(indicesQ[i,:nVoters] < electorate)/nVoters)"
      ],
      "execution_count": 0,
      "outputs": []
    },
    {
      "cell_type": "code",
      "metadata": {
        "id": "6wCFbn07TpTq",
        "colab_type": "code",
        "outputId": "efff0725-8569-4636-8b56-00f09ceccddb",
        "colab": {
          "base_uri": "https://localhost:8080/",
          "height": 71
        }
      },
      "source": [
        "print(h_Gten_array)\n",
        "print(h_Qten_array)"
      ],
      "execution_count": 29,
      "outputs": [
        {
          "output_type": "stream",
          "text": [
            "[0.7, 0.9, 0.6, 0.4, 0.1, 0.8, 0.7, 0.3, 0.0, 0.8, 0.6, 0.9, 0.5, 0.7, 0.6, 0.9, 0.1, 0.6, 0.4, 0.5, 0.7, 0.2, 0.4, 0.2, 0.3, 0.1, 0.7, 0.6, 0.7, 0.5, 0.2, 0.6, 0.4, 0.8, 0.2, 0.7, 0.7, 1.0, 0.6, 0.5, 0.2, 0.9, 0.7, 0.0, 0.9, 0.6, 0.7, 0.6, 0.8, 0.6, 0.3, 0.5, 0.5, 0.5, 0.4, 0.8, 0.4, 0.1, 0.8, 0.6, 0.3, 0.8, 0.6, 0.2, 0.1, 0.9, 0.5, 0.9, 0.9, 0.3, 0.7, 0.7, 0.2, 0.7, 0.9, 0.6, 0.6, 0.7, 0.5, 0.7, 0.8, 0.7, 0.8, 0.6, 0.3, 0.5, 0.6, 0.6, 0.0, 0.6, 0.9, 0.1, 0.7, 0.6, 0.6, 0.7, 0.6, 0.0, 0.6, 0.8, 0.6, 0.3, 0.6, 0.5, 0.5, 0.7, 0.7, 0.6, 0.7, 0.7, 0.7, 0.3, 0.7, 0.6, 0.6, 0.3, 0.8, 0.3, 0.6, 0.6, 0.1, 0.6, 0.5, 0.4, 0.5, 0.5, 0.9, 0.9, 0.7, 0.5, 0.2, 0.6, 0.6, 0.7, 0.6, 0.8, 0.7, 0.7, 0.6, 0.4, 0.6, 0.9, 0.7, 0.3, 0.6, 0.6, 0.5, 0.4, 0.8, 0.8, 0.2, 0.6, 0.6, 0.7, 0.4, 0.1, 0.7, 0.7, 0.8, 0.6, 0.6, 0.4, 0.6, 0.8, 0.8, 0.3, 0.8, 0.3, 0.1, 0.7, 0.4, 0.4, 0.5, 0.3, 0.7, 0.5, 0.4, 0.9, 0.8, 0.5, 0.3, 0.5, 0.7, 0.0, 0.5, 0.6, 0.7, 0.7, 1.0, 0.4, 0.5, 0.2, 0.4, 0.6, 0.6, 0.4, 0.4, 0.0, 0.7, 0.0]\n",
            "[0.3, 0.0, 1.0, 0.6, 0.2, 0.3, 0.4, 0.1, 0.4, 0.0, 0.2, 0.6, 0.8, 0.8, 0.2, 0.2, 0.6, 0.3, 0.0, 0.0, 0.2, 0.2, 0.3, 0.6, 0.5, 0.3, 0.7, 0.3, 0.4, 0.9, 0.0, 0.2, 0.1, 0.6, 0.0, 0.7, 0.7, 0.1, 0.1, 0.4, 0.4, 0.2, 0.2, 0.5, 0.3, 0.1, 0.6, 0.4, 0.2, 0.4, 0.0, 0.1, 0.0, 0.6, 0.6, 0.4, 0.3, 0.6, 0.0, 0.3, 0.1, 0.5, 0.1, 0.7, 0.4, 0.6, 0.5, 0.2, 0.4, 0.6, 0.4, 0.7, 0.6, 0.4, 0.3, 0.8, 0.4, 0.0, 0.9, 0.2, 0.0, 0.1, 0.0, 0.0, 0.8, 0.2, 0.5, 0.3, 0.3, 0.1, 0.4, 0.4, 0.8, 0.4, 0.3, 0.0, 0.3, 0.1, 0.9, 0.0, 0.2, 0.9, 0.0, 0.5, 0.0, 0.1, 0.1, 0.0, 0.5, 0.6, 0.1, 0.4, 0.5, 0.3, 0.7, 0.3, 0.4, 0.4, 0.0, 0.3, 0.3, 0.9, 0.4, 0.5, 0.3, 0.2, 0.5, 0.6, 0.6, 0.4, 0.8, 0.2, 0.3, 0.0, 0.5, 0.3, 0.4, 0.8, 0.1, 1.0, 0.8, 0.3, 0.3, 0.7, 0.7, 0.1, 0.0, 0.0, 0.7, 0.4, 0.5, 0.4, 0.4, 0.3, 0.0, 0.2, 0.8, 0.0, 0.3, 0.8, 0.9, 0.1, 0.2, 0.2, 1.0, 0.7, 0.6, 0.5, 0.0, 0.6, 0.6, 0.0, 0.4, 0.0, 0.6, 0.6, 0.7, 0.1, 0.9, 0.3, 0.3, 0.3, 0.8, 0.5, 0.1, 0.6, 0.7, 0.6, 0.4, 0.0, 0.5, 0.1, 0.1, 0.8, 0.0, 0.8, 0.3, 0.4, 0.5, 0.0]\n"
          ],
          "name": "stdout"
        }
      ]
    },
    {
      "cell_type": "code",
      "metadata": {
        "id": "TuU6J3DsTwc2",
        "colab_type": "code",
        "colab": {}
      },
      "source": [
        "h_Gten_nparray = np.asarray(h_Gten_array)\n",
        "h_Qten_nparray = np.asarray(h_Qten_array)\n",
        "h_Gtwt_nparray = np.asarray(h_Gtwt_array)\n",
        "h_Qtwt_nparray = np.asarray(h_Qtwt_array)"
      ],
      "execution_count": 0,
      "outputs": []
    },
    {
      "cell_type": "code",
      "metadata": {
        "id": "Y3UohtVoTyh_",
        "colab_type": "code",
        "colab": {}
      },
      "source": [
        "true_y_g = np.ones(200)\n",
        "true_y_q = np.zeros(200)\n",
        "\n",
        "true_values = np.concatenate([true_y_g, true_y_q])\n",
        "\n",
        "ten_predicted = np.concatenate([h_Gten_nparray, h_Qten_nparray])\n",
        "emd_auc_10 = roc_auc_score(y_true=true_values, y_score=ten_predicted)"
      ],
      "execution_count": 0,
      "outputs": []
    },
    {
      "cell_type": "code",
      "metadata": {
        "id": "ikISnOF4T0pD",
        "colab_type": "code",
        "outputId": "9c3ea198-cc7a-4fda-92bf-864f14fc8329",
        "colab": {
          "base_uri": "https://localhost:8080/",
          "height": 34
        }
      },
      "source": [
        "print(\"EMD AUC 10 voters: \", emd_auc_10)"
      ],
      "execution_count": 32,
      "outputs": [
        {
          "output_type": "stream",
          "text": [
            "EMD AUC 10 voters:  0.6875375\n"
          ],
          "name": "stdout"
        }
      ]
    },
    {
      "cell_type": "code",
      "metadata": {
        "id": "uSOi5Uo0T2Sw",
        "colab_type": "code",
        "outputId": "ba861447-7641-4cfd-eecf-1bf410e6a83d",
        "colab": {
          "base_uri": "https://localhost:8080/",
          "height": 34
        }
      },
      "source": [
        "twt_predicted = np.concatenate([h_Gtwt_nparray, h_Qtwt_nparray])\n",
        "emd_auc_20 = roc_auc_score(y_true=true_values, y_score=twt_predicted)\n",
        "print(\"EMD AUC 20 voters: \", emd_auc_20)"
      ],
      "execution_count": 33,
      "outputs": [
        {
          "output_type": "stream",
          "text": [
            "EMD AUC 20 voters:  0.703225\n"
          ],
          "name": "stdout"
        }
      ]
    },
    {
      "cell_type": "code",
      "metadata": {
        "id": "jF0ILwsYVaiR",
        "colab_type": "code",
        "colab": {}
      },
      "source": [
        "h_G_array = []\n",
        "h_Q_array = []\n",
        "emd_list = []"
      ],
      "execution_count": 0,
      "outputs": []
    },
    {
      "cell_type": "markdown",
      "metadata": {
        "id": "5d5h-MoMRBVB",
        "colab_type": "text"
      },
      "source": [
        "Testing out different numbers of voters to find an optimum"
      ]
    },
    {
      "cell_type": "code",
      "metadata": {
        "id": "JUBSDd2HNyjY",
        "colab_type": "code",
        "colab": {}
      },
      "source": [
        "for nVoters in range(10,200):\n",
        "    for i in range(candidates): h_G_array.append(sum(indicesG[i,:nVoters] < electorate)/nVoters)\n",
        "    for i in range(candidates): h_Q_array.append(sum(indicesQ[i,:nVoters] < electorate)/nVoters)\n",
        "    h_G_nparray = np.asarray(h_G_array)\n",
        "    h_Q_nparray = np.asarray(h_Q_array)\n",
        "    predicted = np.concatenate([h_G_nparray, h_Q_nparray])\n",
        "    emd_auc = roc_auc_score(y_true=true_values, y_score=predicted)\n",
        "    emd_list.append(emd_auc)\n",
        "    h_G_array = []\n",
        "    h_Q_array = []\n",
        "\n",
        "emd_auc_array = np.asarray(emd_list)"
      ],
      "execution_count": 0,
      "outputs": []
    },
    {
      "cell_type": "code",
      "metadata": {
        "id": "0O3gTz4DN0YR",
        "colab_type": "code",
        "outputId": "cb02ba23-7ef2-4eae-a996-a44425c08685",
        "colab": {
          "base_uri": "https://localhost:8080/",
          "height": 493
        }
      },
      "source": [
        "print(emd_auc_array)"
      ],
      "execution_count": 36,
      "outputs": [
        {
          "output_type": "stream",
          "text": [
            "[0.6875375 0.6878625 0.6909    0.6960625 0.694575  0.6986375 0.7017\n",
            " 0.7001375 0.705625  0.7034625 0.703225  0.70595   0.7036875 0.7033125\n",
            " 0.7011    0.703975  0.703125  0.7056375 0.7083125 0.7093625 0.7134625\n",
            " 0.7160625 0.7205125 0.72045   0.7203375 0.7198875 0.7183375 0.719\n",
            " 0.7196375 0.718375  0.7175125 0.7175625 0.71695   0.7178625 0.71915\n",
            " 0.7185375 0.7191375 0.7203625 0.719975  0.719975  0.71855   0.719125\n",
            " 0.7194625 0.7205875 0.7198375 0.7193    0.7175875 0.7162    0.717225\n",
            " 0.71705   0.7173375 0.717525  0.716725  0.7160875 0.7145125 0.7162375\n",
            " 0.7175375 0.71735   0.717375  0.71615   0.7162375 0.7160875 0.716175\n",
            " 0.7153    0.714775  0.713425  0.7106625 0.7089875 0.70845   0.7085\n",
            " 0.7078875 0.708     0.7088375 0.707775  0.7072125 0.7072125 0.7084375\n",
            " 0.708375  0.7078375 0.7075375 0.7072125 0.70705   0.7072625 0.7082875\n",
            " 0.7093375 0.7100875 0.7089625 0.7087    0.7091125 0.7071875 0.7066125\n",
            " 0.70725   0.7085375 0.707975  0.7072375 0.7066125 0.70745   0.7080375\n",
            " 0.7087    0.7093625 0.7089875 0.7096375 0.7096125 0.7104375 0.710325\n",
            " 0.70985   0.7100625 0.7105    0.709325  0.707825  0.70705   0.707275\n",
            " 0.7070125 0.70825   0.70875   0.7083875 0.709125  0.7098125 0.710425\n",
            " 0.710775  0.7104625 0.70995   0.709375  0.7101625 0.7091125 0.708525\n",
            " 0.709     0.7086875 0.708975  0.7087    0.7096    0.707875  0.7074875\n",
            " 0.7070875 0.7077125 0.708025  0.7073625 0.7076375 0.7087375 0.709325\n",
            " 0.7094125 0.709375  0.7095625 0.7100125 0.709075  0.7095125 0.7091875\n",
            " 0.7088375 0.7081125 0.707925  0.707125  0.70765   0.7086625 0.708075\n",
            " 0.7092875 0.7089375 0.7083625 0.7090625 0.7097375 0.7101125 0.710125\n",
            " 0.710325  0.71075   0.71015   0.7092875 0.710375  0.7109375 0.7103875\n",
            " 0.709575  0.7091375 0.7097875 0.709775  0.7098375 0.7082875 0.707925\n",
            " 0.707925  0.708125  0.7081    0.7085875 0.70865   0.70925   0.7090625\n",
            " 0.7093625 0.7093625 0.710225  0.7098    0.7091125 0.709075  0.708975\n",
            " 0.70875  ]\n"
          ],
          "name": "stdout"
        }
      ]
    },
    {
      "cell_type": "code",
      "metadata": {
        "id": "hoK9KB3zN2MD",
        "colab_type": "code",
        "outputId": "4811f4bb-ae91-413d-ee87-b102ff2dbfb3",
        "colab": {
          "base_uri": "https://localhost:8080/",
          "height": 297
        }
      },
      "source": [
        "number_voters = np.arange(10,200)\n",
        "if plt:\n",
        "    # some nicer plot settings\n",
        "    plt.rcParams['figure.figsize'] = (4,4)\n",
        "    plt.rcParams['font.family'] = 'serif'\n",
        "    plt.rcParams['figure.autolayout'] = True\n",
        "\n",
        "    # plot the ROC curves\n",
        "    plt.plot(number_voters, emd_auc_array, '-', color='black')\n",
        "\n",
        "     # axes labels\n",
        "    plt.xlabel('Number of Voters')\n",
        "    plt.ylabel('EMD AUC score')\n",
        "\n",
        "    # axes limits\n",
        "    plt.xlim(0, 210)\n",
        "    plt.ylim(0.680, 0.800)\n",
        "\n",
        "    plt.show()"
      ],
      "execution_count": 39,
      "outputs": [
        {
          "output_type": "display_data",
          "data": {
            "image/png": "[encoded data removed]",
            "text/plain": [
              "<Figure size 288x288 with 1 Axes>"
            ]
          },
          "metadata": {
            "tags": []
          }
        }
      ]
    },
    {
      "cell_type": "code",
      "metadata": {
        "id": "VSAHVqV8PCER",
        "colab_type": "code",
        "outputId": "83b097ff-b22d-4ebb-d0a1-ae9533a1b357",
        "colab": {
          "base_uri": "https://localhost:8080/",
          "height": 34
        }
      },
      "source": [
        "max_auc = np.amax(emd_auc_array)\n",
        "print(max_auc)"
      ],
      "execution_count": 37,
      "outputs": [
        {
          "output_type": "stream",
          "text": [
            "0.7205875\n"
          ],
          "name": "stdout"
        }
      ]
    },
    {
      "cell_type": "code",
      "metadata": {
        "id": "7zwlDDT8PFqT",
        "colab_type": "code",
        "outputId": "4257a1bf-d377-4c56-83c3-f7b524f125d5",
        "colab": {
          "base_uri": "https://localhost:8080/",
          "height": 34
        }
      },
      "source": [
        "opt_voters = np.argmax(emd_auc_array) + 10 #since we started with 10 voters\n",
        "print(opt_voters)"
      ],
      "execution_count": 38,
      "outputs": [
        {
          "output_type": "stream",
          "text": [
            "53\n"
          ],
          "name": "stdout"
        }
      ]
    },
    {
      "cell_type": "code",
      "metadata": {
        "id": "uWQtmGcETqT0",
        "colab_type": "code",
        "colab": {}
      },
      "source": [
        ""
      ],
      "execution_count": 0,
      "outputs": []
    }
  ]
}