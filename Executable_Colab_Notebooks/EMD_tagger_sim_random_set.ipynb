{
  "nbformat": 4,
  "nbformat_minor": 0,
  "metadata": {
    "colab": {
      "name": "EMD_tagger_sim_random_set.ipynb",
      "provenance": [],
      "include_colab_link": true
    },
    "kernelspec": {
      "name": "python3",
      "display_name": "Python 3"
    },
    "accelerator": "GPU"
  },
  "cells": [
    {
      "cell_type": "markdown",
      "metadata": {
        "id": "view-in-github",
        "colab_type": "text"
      },
      "source": [
        "<a href=\"https://colab.research.google.com/github/nickchak21/QuarkGluonClassifiers/blob/master/Executable_Colab_Notebooks/EMD_tagger_sim_random_set.ipynb\" target=\"_parent\"><img src=\"https://colab.research.google.com/assets/colab-badge.svg\" alt=\"Open In Colab\"/></a>"
      ]
    },
    {
      "cell_type": "code",
      "metadata": {
        "id": "EDQHdFMzRKws",
        "colab_type": "code",
        "outputId": "89e9fd50-bf85-4148-b32b-b442d845ad1d",
        "colab": {
          "base_uri": "https://localhost:8080/",
          "height": 289
        }
      },
      "source": [
        "!pip install energyflow\n",
        "!pip install h5py"
      ],
      "execution_count": 1,
      "outputs": [
        {
          "output_type": "stream",
          "text": [
            "Collecting energyflow\n",
            "\u001b[?25l  Downloading https://files.pythonhosted.org/packages/ae/45/acf4909dfffb6e5712f14f8ca4f3708fafea36b348854e0a5e38860bfda7/EnergyFlow-1.0.2-py2.py3-none-any.whl (688kB)\n",
            "\r\u001b[K     |▌                               | 10kB 19.1MB/s eta 0:00:01\r\u001b[K     |█                               | 20kB 2.2MB/s eta 0:00:01\r\u001b[K     |█▍                              | 30kB 3.2MB/s eta 0:00:01\r\u001b[K     |██                              | 40kB 2.1MB/s eta 0:00:01\r\u001b[K     |██▍                             | 51kB 2.6MB/s eta 0:00:01\r\u001b[K     |██▉                             | 61kB 3.1MB/s eta 0:00:01\r\u001b[K     |███▎                            | 71kB 3.6MB/s eta 0:00:01\r\u001b[K     |███▉                            | 81kB 4.0MB/s eta 0:00:01\r\u001b[K     |████▎                           | 92kB 4.5MB/s eta 0:00:01\r\u001b[K     |████▊                           | 102kB 3.4MB/s eta 0:00:01\r\u001b[K     |█████▎                          | 112kB 3.4MB/s eta 0:00:01\r\u001b[K     |█████▊                          | 122kB 3.4MB/s eta 0:00:01\r\u001b[K     |██████▏                         | 133kB 3.4MB/s eta 0:00:01\r\u001b[K     |██████▋                         | 143kB 3.4MB/s eta 0:00:01\r\u001b[K     |███████▏                        | 153kB 3.4MB/s eta 0:00:01\r\u001b[K     |███████▋                        | 163kB 3.4MB/s eta 0:00:01\r\u001b[K     |████████                        | 174kB 3.4MB/s eta 0:00:01\r\u001b[K     |████████▋                       | 184kB 3.4MB/s eta 0:00:01\r\u001b[K     |█████████                       | 194kB 3.4MB/s eta 0:00:01\r\u001b[K     |█████████▌                      | 204kB 3.4MB/s eta 0:00:01\r\u001b[K     |██████████                      | 215kB 3.4MB/s eta 0:00:01\r\u001b[K     |██████████▌                     | 225kB 3.4MB/s eta 0:00:01\r\u001b[K     |███████████                     | 235kB 3.4MB/s eta 0:00:01\r\u001b[K     |███████████▍                    | 245kB 3.4MB/s eta 0:00:01\r\u001b[K     |████████████                    | 256kB 3.4MB/s eta 0:00:01\r\u001b[K     |████████████▍                   | 266kB 3.4MB/s eta 0:00:01\r\u001b[K     |████████████▉                   | 276kB 3.4MB/s eta 0:00:01\r\u001b[K     |█████████████▎                  | 286kB 3.4MB/s eta 0:00:01\r\u001b[K     |█████████████▉                  | 296kB 3.4MB/s eta 0:00:01\r\u001b[K     |██████████████▎                 | 307kB 3.4MB/s eta 0:00:01\r\u001b[K     |██████████████▊                 | 317kB 3.4MB/s eta 0:00:01\r\u001b[K     |███████████████▎                | 327kB 3.4MB/s eta 0:00:01\r\u001b[K     |███████████████▊                | 337kB 3.4MB/s eta 0:00:01\r\u001b[K     |████████████████▏               | 348kB 3.4MB/s eta 0:00:01\r\u001b[K     |████████████████▋               | 358kB 3.4MB/s eta 0:00:01\r\u001b[K     |█████████████████▏              | 368kB 3.4MB/s eta 0:00:01\r\u001b[K     |█████████████████▋              | 378kB 3.4MB/s eta 0:00:01\r\u001b[K     |██████████████████              | 389kB 3.4MB/s eta 0:00:01\r\u001b[K     |██████████████████▋             | 399kB 3.4MB/s eta 0:00:01\r\u001b[K     |███████████████████             | 409kB 3.4MB/s eta 0:00:01\r\u001b[K     |███████████████████▌            | 419kB 3.4MB/s eta 0:00:01\r\u001b[K     |████████████████████            | 430kB 3.4MB/s eta 0:00:01\r\u001b[K     |████████████████████▌           | 440kB 3.4MB/s eta 0:00:01\r\u001b[K     |█████████████████████           | 450kB 3.4MB/s eta 0:00:01\r\u001b[K     |█████████████████████▍          | 460kB 3.4MB/s eta 0:00:01\r\u001b[K     |██████████████████████          | 471kB 3.4MB/s eta 0:00:01\r\u001b[K     |██████████████████████▍         | 481kB 3.4MB/s eta 0:00:01\r\u001b[K     |██████████████████████▉         | 491kB 3.4MB/s eta 0:00:01\r\u001b[K     |███████████████████████▎        | 501kB 3.4MB/s eta 0:00:01\r\u001b[K     |███████████████████████▉        | 512kB 3.4MB/s eta 0:00:01\r\u001b[K     |████████████████████████▎       | 522kB 3.4MB/s eta 0:00:01\r\u001b[K     |████████████████████████▊       | 532kB 3.4MB/s eta 0:00:01\r\u001b[K     |█████████████████████████▎      | 542kB 3.4MB/s eta 0:00:01\r\u001b[K     |█████████████████████████▊      | 552kB 3.4MB/s eta 0:00:01\r\u001b[K     |██████████████████████████▏     | 563kB 3.4MB/s eta 0:00:01\r\u001b[K     |██████████████████████████▋     | 573kB 3.4MB/s eta 0:00:01\r\u001b[K     |███████████████████████████▏    | 583kB 3.4MB/s eta 0:00:01\r\u001b[K     |███████████████████████████▋    | 593kB 3.4MB/s eta 0:00:01\r\u001b[K     |████████████████████████████    | 604kB 3.4MB/s eta 0:00:01\r\u001b[K     |████████████████████████████▋   | 614kB 3.4MB/s eta 0:00:01\r\u001b[K     |█████████████████████████████   | 624kB 3.4MB/s eta 0:00:01\r\u001b[K     |█████████████████████████████▌  | 634kB 3.4MB/s eta 0:00:01\r\u001b[K     |██████████████████████████████  | 645kB 3.4MB/s eta 0:00:01\r\u001b[K     |██████████████████████████████▌ | 655kB 3.4MB/s eta 0:00:01\r\u001b[K     |███████████████████████████████ | 665kB 3.4MB/s eta 0:00:01\r\u001b[K     |███████████████████████████████▍| 675kB 3.4MB/s eta 0:00:01\r\u001b[K     |████████████████████████████████| 686kB 3.4MB/s eta 0:00:01\r\u001b[K     |████████████████████████████████| 696kB 3.4MB/s \n",
            "\u001b[?25hRequirement already satisfied: six>=1.10.0 in /usr/local/lib/python3.6/dist-packages (from energyflow) (1.12.0)\n",
            "Requirement already satisfied: numpy>=1.14.0 in /usr/local/lib/python3.6/dist-packages (from energyflow) (1.17.4)\n",
            "Collecting h5py>=2.9.0\n",
            "\u001b[?25l  Downloading https://files.pythonhosted.org/packages/60/06/cafdd44889200e5438b897388f3075b52a8ef01f28a17366d91de0fa2d05/h5py-2.10.0-cp36-cp36m-manylinux1_x86_64.whl (2.9MB)\n",
            "\u001b[K     |████████████████████████████████| 2.9MB 39.3MB/s \n",
            "\u001b[?25hInstalling collected packages: h5py, energyflow\n",
            "  Found existing installation: h5py 2.8.0\n",
            "    Uninstalling h5py-2.8.0:\n",
            "      Successfully uninstalled h5py-2.8.0\n",
            "Successfully installed energyflow-1.0.2 h5py-2.10.0\n",
            "Requirement already satisfied: h5py in /usr/local/lib/python3.6/dist-packages (2.10.0)\n",
            "Requirement already satisfied: numpy>=1.7 in /usr/local/lib/python3.6/dist-packages (from h5py) (1.17.4)\n",
            "Requirement already satisfied: six in /usr/local/lib/python3.6/dist-packages (from h5py) (1.12.0)\n"
          ],
          "name": "stdout"
        }
      ]
    },
    {
      "cell_type": "code",
      "metadata": {
        "id": "jCY1hm8xSJyX",
        "colab_type": "code",
        "outputId": "aff126df-d010-49a5-e267-e340c6d7b913",
        "colab": {
          "base_uri": "https://localhost:8080/",
          "height": 34
        }
      },
      "source": [
        "!python --version"
      ],
      "execution_count": 2,
      "outputs": [
        {
          "output_type": "stream",
          "text": [
            "Python 3.6.8\n"
          ],
          "name": "stdout"
        }
      ]
    },
    {
      "cell_type": "code",
      "metadata": {
        "id": "1r3rd5lMSYiH",
        "colab_type": "code",
        "outputId": "28764b99-aed8-4059-9db5-92bf3c85266c",
        "colab": {
          "base_uri": "https://localhost:8080/",
          "height": 153
        }
      },
      "source": [
        "!pip install POT"
      ],
      "execution_count": 3,
      "outputs": [
        {
          "output_type": "stream",
          "text": [
            "Collecting POT\n",
            "\u001b[?25l  Downloading https://files.pythonhosted.org/packages/15/36/07d3c0960a590b88b81fa1837e666cc7479b90c7e9fd1063024ce9331122/POT-0.6.0-cp36-cp36m-manylinux1_x86_64.whl (305kB)\n",
            "\r\u001b[K     |█                               | 10kB 15.8MB/s eta 0:00:01\r\u001b[K     |██▏                             | 20kB 2.2MB/s eta 0:00:01\r\u001b[K     |███▏                            | 30kB 3.2MB/s eta 0:00:01\r\u001b[K     |████▎                           | 40kB 2.1MB/s eta 0:00:01\r\u001b[K     |█████▍                          | 51kB 2.6MB/s eta 0:00:01\r\u001b[K     |██████▍                         | 61kB 3.1MB/s eta 0:00:01\r\u001b[K     |███████▌                        | 71kB 3.5MB/s eta 0:00:01\r\u001b[K     |████████▋                       | 81kB 4.0MB/s eta 0:00:01\r\u001b[K     |█████████▋                      | 92kB 4.4MB/s eta 0:00:01\r\u001b[K     |██████████▊                     | 102kB 2.3MB/s eta 0:00:01\r\u001b[K     |███████████▉                    | 112kB 2.3MB/s eta 0:00:01\r\u001b[K     |████████████▉                   | 122kB 2.3MB/s eta 0:00:01\r\u001b[K     |██████████████                  | 133kB 2.3MB/s eta 0:00:01\r\u001b[K     |███████████████                 | 143kB 2.3MB/s eta 0:00:01\r\u001b[K     |████████████████                | 153kB 2.3MB/s eta 0:00:01\r\u001b[K     |█████████████████▏              | 163kB 2.3MB/s eta 0:00:01\r\u001b[K     |██████████████████▎             | 174kB 2.3MB/s eta 0:00:01\r\u001b[K     |███████████████████▎            | 184kB 2.3MB/s eta 0:00:01\r\u001b[K     |████████████████████▍           | 194kB 2.3MB/s eta 0:00:01\r\u001b[K     |█████████████████████▍          | 204kB 2.3MB/s eta 0:00:01\r\u001b[K     |██████████████████████▌         | 215kB 2.3MB/s eta 0:00:01\r\u001b[K     |███████████████████████▋        | 225kB 2.3MB/s eta 0:00:01\r\u001b[K     |████████████████████████▋       | 235kB 2.3MB/s eta 0:00:01\r\u001b[K     |█████████████████████████▊      | 245kB 2.3MB/s eta 0:00:01\r\u001b[K     |██████████████████████████▉     | 256kB 2.3MB/s eta 0:00:01\r\u001b[K     |███████████████████████████▉    | 266kB 2.3MB/s eta 0:00:01\r\u001b[K     |█████████████████████████████   | 276kB 2.3MB/s eta 0:00:01\r\u001b[K     |██████████████████████████████  | 286kB 2.3MB/s eta 0:00:01\r\u001b[K     |███████████████████████████████ | 296kB 2.3MB/s eta 0:00:01\r\u001b[K     |████████████████████████████████| 307kB 2.3MB/s \n",
            "\u001b[?25hRequirement already satisfied: scipy in /usr/local/lib/python3.6/dist-packages (from POT) (1.3.2)\n",
            "Requirement already satisfied: numpy in /usr/local/lib/python3.6/dist-packages (from POT) (1.17.4)\n",
            "Requirement already satisfied: cython in /usr/local/lib/python3.6/dist-packages (from POT) (0.29.14)\n",
            "Installing collected packages: POT\n",
            "Successfully installed POT-0.6.0\n"
          ],
          "name": "stdout"
        }
      ]
    },
    {
      "cell_type": "code",
      "metadata": {
        "id": "Lq8SY4RuSl6B",
        "colab_type": "code",
        "colab": {}
      },
      "source": [
        "import numpy as np\n",
        "%matplotlib inline\n",
        "import matplotlib \n",
        "import matplotlib.pyplot as plt\n",
        "import energyflow as ef\n",
        "\n",
        "\n",
        "#%jsroot on\n",
        "from energyflow.emd import emd, emds\n",
        "from energyflow.datasets import qg_jets\n",
        "from energyflow.utils import sum_ptyphipids\n",
        "import ot"
      ],
      "execution_count": 0,
      "outputs": []
    },
    {
      "cell_type": "code",
      "metadata": {
        "id": "AsZ5pCeySv1R",
        "colab_type": "code",
        "colab": {}
      },
      "source": [
        "from sklearn.metrics import roc_auc_score, roc_curve"
      ],
      "execution_count": 0,
      "outputs": []
    },
    {
      "cell_type": "code",
      "metadata": {
        "id": "bqbx22qtSx86",
        "colab_type": "code",
        "colab": {}
      },
      "source": [
        "from ot.lp import emd_c, check_result\n",
        "from scipy.spatial.distance import _distance_wrap"
      ],
      "execution_count": 0,
      "outputs": []
    },
    {
      "cell_type": "code",
      "metadata": {
        "id": "eJbr1j15S0QC",
        "colab_type": "code",
        "colab": {}
      },
      "source": [
        "# data controls.\n",
        "# we will use the n nearest neighbors in the \"electorate\" to vote on what kind of jet each candidate is.\n",
        "candidates, electorate = 200, 2000"
      ],
      "execution_count": 0,
      "outputs": []
    },
    {
      "cell_type": "code",
      "metadata": {
        "id": "Yltn1nBIS2YG",
        "colab_type": "code",
        "outputId": "dd190c08-8ee9-4e4c-a46b-d6adb7d07a49",
        "colab": {
          "base_uri": "https://localhost:8080/",
          "height": 173
        }
      },
      "source": [
        "# load quark and gluon jets from simulation. We want candidates + electorate of *each.*\n",
        "#It takes FOREVER to download these jets. Probably because the simulation gives us more data about the jets.\n",
        "specs = ['375 <= corr_jet_pts <= 425', 'abs_jet_eta < 1.9', 'quality >= 2']\n",
        "amount = 0.00001\n",
        "extrajets = candidates\n",
        "sim = ef.mod.load(*specs, dataset='sim', amount=amount)\n",
        "maxevts = candidates+electorate\n",
        "nprint = int(maxevts*maxevts/10)\n",
        "\n",
        "# the jet radius for these jets\n",
        "jetR = 0.4"
      ],
      "execution_count": 8,
      "outputs": [
        {
          "output_type": "stream",
          "text": [
            "Downloading SIM170_Jet300_pT375-infGeV_0_compressed.h5 from https://zenodo.org/record/3341500/files/SIM170_Jet300_pT375-infGeV_0_compressed.h5?download=1 to /root/.energyflow/datasets/CMS2011AJets/SIM170_Jet300_pT375-infGeV\n",
            "Downloading SIM300_Jet300_pT375-infGeV_0_compressed.h5 from https://zenodo.org/record/3341498/files/SIM300_Jet300_pT375-infGeV_0_compressed.h5?download=1 to /root/.energyflow/datasets/CMS2011AJets/SIM300_Jet300_pT375-infGeV\n",
            "Downloading SIM470_Jet300_pT375-infGeV_0_compressed.h5 from https://zenodo.org/record/3341419/files/SIM470_Jet300_pT375-infGeV_0_compressed.h5?download=1 to /root/.energyflow/datasets/CMS2011AJets/SIM470_Jet300_pT375-infGeV\n",
            "Downloading SIM600_Jet300_pT375-infGeV_0_compressed.h5 from https://zenodo.org/record/3364139/files/SIM600_Jet300_pT375-infGeV_0_compressed.h5?download=1 to /root/.energyflow/datasets/CMS2011AJets/SIM600_Jet300_pT375-infGeV\n",
            "Downloading SIM800_Jet300_pT375-infGeV_0_compressed.h5 from https://zenodo.org/record/3341413/files/SIM800_Jet300_pT375-infGeV_0_compressed.h5?download=1 to /root/.energyflow/datasets/CMS2011AJets/SIM800_Jet300_pT375-infGeV\n",
            "Downloading SIM1000_Jet300_pT375-infGeV_0_compressed.h5 from https://zenodo.org/record/3341502/files/SIM1000_Jet300_pT375-infGeV_0_compressed.h5?download=1 to /root/.energyflow/datasets/CMS2011AJets/SIM1000_Jet300_pT375-infGeV\n",
            "Downloading SIM1400_Jet300_pT375-infGeV_0_compressed.h5 from https://zenodo.org/record/3341770/files/SIM1400_Jet300_pT375-infGeV_0_compressed.h5?download=1 to /root/.energyflow/datasets/CMS2011AJets/SIM1400_Jet300_pT375-infGeV\n",
            "Downloading SIM1800_Jet300_pT375-infGeV_0_compressed.h5 from https://zenodo.org/record/3341772/files/SIM1800_Jet300_pT375-infGeV_0_compressed.h5?download=1 to /root/.energyflow/datasets/CMS2011AJets/SIM1800_Jet300_pT375-infGeV\n"
          ],
          "name": "stdout"
        }
      ]
    },
    {
      "cell_type": "code",
      "metadata": {
        "id": "AR3LLbXklwa3",
        "colab_type": "code",
        "colab": {}
      },
      "source": [
        "import random"
      ],
      "execution_count": 0,
      "outputs": []
    },
    {
      "cell_type": "code",
      "metadata": {
        "id": "eVP-MmUsS9i0",
        "colab_type": "code",
        "outputId": "aa5055e6-abd0-4b61-c9af-a12887351bbb",
        "colab": {
          "base_uri": "https://localhost:8080/",
          "height": 34
        }
      },
      "source": [
        "Gs = []\n",
        "Qs = []\n",
        "\n",
        "for arr,events in [(Gs, sim.particles[sim.jets_i[:,sim.hard_pid]==21][random.sample(range(0, 38479), 2200)]), (Qs, sim.particles[sim.jets_i[:,sim.hard_pid]!=21][random.sample(range(0, 38479), 2200)])]:\n",
        "    for i,x in enumerate(events):\n",
        "        if i >= maxevts:  break\n",
        "        # ignore padded particles (not used) and remove particle id information(:3)\n",
        "        x = x[x[:,0] > 0,:3]\n",
        "        # center jet according to pt-centroid\n",
        "        yphi_avg = np.average(x[:,1:3], weights=x[:,0], axis=0)\n",
        "        x[:,1:3] -= yphi_avg\n",
        "        # mask out any particles farther than R=0.4 away from center (rare)\n",
        "        x = x[np.linalg.norm(x[:,1:3], axis=1) <= jetR]\n",
        "        # add to list\n",
        "        arr.append(x)\n",
        "        pass #evts\n",
        "    pass #gluonquark\n",
        "\n",
        "len(Gs), len(Qs)"
      ],
      "execution_count": 13,
      "outputs": [
        {
          "output_type": "execute_result",
          "data": {
            "text/plain": [
              "(2200, 2200)"
            ]
          },
          "metadata": {
            "tags": []
          },
          "execution_count": 13
        }
      ]
    },
    {
      "cell_type": "code",
      "metadata": {
        "id": "eLsLvijZTWqc",
        "colab_type": "code",
        "outputId": "982569bd-2231-4aeb-a219-ad88d36b342f",
        "colab": {
          "base_uri": "https://localhost:8080/",
          "height": 34
        }
      },
      "source": [
        "constituentList = Gs[candidates:]+Qs[candidates:]\n",
        "len(constituentList)"
      ],
      "execution_count": 14,
      "outputs": [
        {
          "output_type": "execute_result",
          "data": {
            "text/plain": [
              "4000"
            ]
          },
          "metadata": {
            "tags": []
          },
          "execution_count": 14
        }
      ]
    },
    {
      "cell_type": "code",
      "metadata": {
        "id": "cO0QCIuATa6M",
        "colab_type": "code",
        "outputId": "8c1dc34e-c9ef-46fd-fb49-027219ecb5e6",
        "colab": {
          "base_uri": "https://localhost:8080/",
          "height": 153
        }
      },
      "source": [
        "#array of distances of gluon candidate from all constituents. shape is (candidates,constituents)\n",
        "costM_g  = emds(Gs[0:candidates], constituentList, R=jetR, norm=True, verbose=1, n_jobs=4, print_every=nprint)\n",
        "#ditto for quarks.\n",
        "costM_q  = emds(Qs[0:candidates], constituentList, R=jetR, norm=True, verbose=1, n_jobs=4, print_every=nprint)"
      ],
      "execution_count": 15,
      "outputs": [
        {
          "output_type": "stream",
          "text": [
            "Processed 4200 events for asymmetric EMD computation in 0.091s\n",
            "Using 4 worker processes:\n",
            "  Computed 484000 EMDs, 60.50% done in 100.34s\n",
            "  Computed 800000 EMDs, 100.00% done in 163.48s\n",
            "Processed 4200 events for asymmetric EMD computation in 0.072s\n",
            "Using 4 worker processes:\n",
            "  Computed 484000 EMDs, 60.50% done in 70.75s\n",
            "  Computed 800000 EMDs, 100.00% done in 119.34s\n"
          ],
          "name": "stdout"
        }
      ]
    },
    {
      "cell_type": "code",
      "metadata": {
        "id": "7lRaSxHPTjgm",
        "colab_type": "code",
        "colab": {}
      },
      "source": [
        "indicesG=np.argsort(costM_g)\n",
        "indicesQ=np.argsort(costM_q)"
      ],
      "execution_count": 0,
      "outputs": []
    },
    {
      "cell_type": "code",
      "metadata": {
        "id": "KZyECp4HTkjw",
        "colab_type": "code",
        "colab": {}
      },
      "source": [
        "h_Gten_array = []\n",
        "h_Qten_array = []\n",
        "h_Gtwt_array = []\n",
        "h_Qtwt_array = []\n",
        "\n",
        "nVoters = 10\n",
        "for i in range(candidates): h_Gten_array.append(sum(indicesG[i,:nVoters] < electorate)/nVoters)\n",
        "for i in range(candidates): h_Qten_array.append(sum(indicesQ[i,:nVoters] < electorate)/nVoters)\n",
        "nVoters = 20\n",
        "for i in range(candidates): h_Gtwt_array.append(sum(indicesG[i,:nVoters] < electorate)/nVoters)  \n",
        "for i in range(candidates): h_Qtwt_array.append(sum(indicesQ[i,:nVoters] < electorate)/nVoters)"
      ],
      "execution_count": 0,
      "outputs": []
    },
    {
      "cell_type": "code",
      "metadata": {
        "id": "6wCFbn07TpTq",
        "colab_type": "code",
        "outputId": "da5692fa-a2bb-440d-e7d3-7653648fffc5",
        "colab": {
          "base_uri": "https://localhost:8080/",
          "height": 71
        }
      },
      "source": [
        "print(h_Gten_array)\n",
        "print(h_Qten_array)"
      ],
      "execution_count": 18,
      "outputs": [
        {
          "output_type": "stream",
          "text": [
            "[0.7, 0.7, 0.3, 0.1, 0.8, 0.9, 0.8, 0.3, 0.1, 0.5, 0.3, 1.0, 0.8, 0.4, 0.8, 0.1, 0.4, 0.4, 0.4, 0.6, 0.5, 0.4, 0.8, 0.8, 0.3, 0.5, 0.7, 0.2, 0.5, 0.7, 0.6, 0.5, 0.7, 0.6, 0.5, 0.7, 0.6, 0.8, 0.8, 0.7, 0.7, 0.3, 0.7, 0.8, 0.8, 0.6, 0.6, 1.0, 0.4, 0.8, 0.7, 0.8, 0.9, 0.9, 0.6, 0.6, 0.6, 0.4, 0.2, 0.9, 0.4, 0.9, 0.8, 0.8, 0.2, 1.0, 0.9, 0.6, 0.6, 0.5, 0.9, 0.4, 0.6, 0.7, 0.5, 0.4, 0.7, 0.6, 0.8, 0.1, 0.5, 0.6, 0.4, 0.8, 0.7, 0.3, 0.6, 0.5, 0.4, 0.6, 0.2, 0.7, 0.7, 0.9, 0.5, 0.6, 0.3, 0.5, 0.9, 0.6, 0.7, 0.2, 0.7, 0.6, 0.6, 0.5, 0.5, 0.5, 0.4, 0.5, 0.0, 0.8, 0.7, 0.6, 0.7, 0.1, 0.8, 0.5, 1.0, 0.8, 0.5, 0.5, 0.2, 0.8, 0.5, 0.5, 0.0, 0.8, 0.9, 0.4, 0.4, 0.6, 0.4, 0.8, 0.8, 0.7, 0.4, 0.8, 0.7, 0.6, 0.3, 0.9, 0.5, 0.7, 0.7, 0.9, 0.8, 0.3, 0.6, 0.3, 0.4, 0.8, 0.6, 0.2, 0.5, 0.7, 0.4, 0.4, 0.8, 0.2, 0.8, 0.7, 0.3, 0.3, 0.3, 0.6, 0.5, 0.5, 0.4, 0.8, 0.8, 0.7, 0.6, 0.8, 0.5, 0.4, 0.3, 1.0, 0.7, 0.5, 0.9, 0.7, 0.9, 0.6, 0.8, 0.5, 0.6, 0.7, 0.6, 0.7, 0.6, 0.7, 0.5, 0.6, 0.7, 0.1, 0.5, 0.5, 0.7, 0.7]\n",
            "[0.1, 0.6, 0.0, 0.3, 0.0, 0.3, 0.0, 0.4, 0.3, 0.4, 0.5, 0.0, 0.2, 0.0, 0.1, 0.3, 0.1, 0.7, 0.0, 0.3, 0.6, 0.0, 0.2, 0.7, 0.4, 0.7, 0.0, 0.6, 0.9, 0.7, 0.2, 0.4, 0.3, 0.6, 0.4, 0.8, 0.0, 0.7, 0.4, 0.2, 0.2, 0.0, 0.7, 0.1, 0.1, 0.1, 0.8, 0.1, 0.8, 0.3, 0.1, 0.3, 0.2, 0.2, 0.5, 0.7, 0.2, 0.5, 0.0, 0.2, 0.3, 0.2, 0.8, 0.0, 0.2, 0.1, 0.0, 0.7, 0.5, 0.0, 0.0, 0.5, 0.8, 0.8, 0.7, 0.2, 0.5, 0.7, 0.5, 0.2, 0.3, 0.2, 0.0, 0.7, 0.8, 0.7, 0.2, 0.1, 0.0, 0.1, 0.2, 0.5, 0.1, 0.0, 0.4, 0.3, 0.3, 0.7, 0.2, 0.3, 0.0, 0.1, 0.4, 0.5, 0.3, 0.7, 0.6, 0.2, 0.0, 0.5, 0.5, 0.0, 0.6, 0.7, 0.0, 0.3, 0.0, 0.2, 0.4, 0.2, 0.5, 0.3, 0.5, 0.4, 0.0, 0.4, 0.1, 0.2, 0.5, 0.5, 0.9, 0.2, 0.1, 0.3, 0.6, 0.1, 0.1, 0.4, 0.5, 0.1, 0.1, 0.2, 0.1, 0.2, 0.7, 0.5, 0.4, 0.8, 0.7, 0.3, 0.2, 0.3, 0.6, 0.2, 0.4, 0.3, 0.9, 0.9, 0.1, 0.4, 0.3, 0.0, 0.5, 0.0, 0.5, 0.6, 0.6, 1.0, 0.1, 0.6, 0.6, 0.5, 0.0, 0.6, 0.1, 0.3, 0.1, 0.5, 0.3, 0.5, 0.1, 0.7, 0.2, 0.5, 0.4, 0.6, 0.8, 0.4, 0.6, 0.8, 0.3, 0.1, 0.2, 0.1, 0.2, 0.6, 0.2, 0.3, 0.4, 0.2]\n"
          ],
          "name": "stdout"
        }
      ]
    },
    {
      "cell_type": "code",
      "metadata": {
        "id": "TuU6J3DsTwc2",
        "colab_type": "code",
        "colab": {}
      },
      "source": [
        "h_Gten_nparray = np.asarray(h_Gten_array)\n",
        "h_Qten_nparray = np.asarray(h_Qten_array)\n",
        "h_Gtwt_nparray = np.asarray(h_Gtwt_array)\n",
        "h_Qtwt_nparray = np.asarray(h_Qtwt_array)"
      ],
      "execution_count": 0,
      "outputs": []
    },
    {
      "cell_type": "code",
      "metadata": {
        "id": "Y3UohtVoTyh_",
        "colab_type": "code",
        "colab": {}
      },
      "source": [
        "true_y_g = np.ones(200)\n",
        "true_y_q = np.zeros(200)\n",
        "\n",
        "true_values = np.concatenate([true_y_g, true_y_q])\n",
        "\n",
        "ten_predicted = np.concatenate([h_Gten_nparray, h_Qten_nparray])\n",
        "emd_auc_10 = roc_auc_score(y_true=true_values, y_score=ten_predicted)"
      ],
      "execution_count": 0,
      "outputs": []
    },
    {
      "cell_type": "code",
      "metadata": {
        "id": "ikISnOF4T0pD",
        "colab_type": "code",
        "outputId": "9bb6fc84-8ba1-4fd0-b7e8-546da3461a10",
        "colab": {
          "base_uri": "https://localhost:8080/",
          "height": 34
        }
      },
      "source": [
        "print(\"EMD AUC 10 voters: \", emd_auc_10)"
      ],
      "execution_count": 21,
      "outputs": [
        {
          "output_type": "stream",
          "text": [
            "EMD AUC 10 voters:  0.7510249999999999\n"
          ],
          "name": "stdout"
        }
      ]
    },
    {
      "cell_type": "code",
      "metadata": {
        "id": "uSOi5Uo0T2Sw",
        "colab_type": "code",
        "outputId": "4eb318d1-9b4e-400f-8618-9c3189f2be95",
        "colab": {
          "base_uri": "https://localhost:8080/",
          "height": 34
        }
      },
      "source": [
        "twt_predicted = np.concatenate([h_Gtwt_nparray, h_Qtwt_nparray])\n",
        "emd_auc_20 = roc_auc_score(y_true=true_values, y_score=twt_predicted)\n",
        "print(\"EMD AUC 20 voters: \", emd_auc_20)"
      ],
      "execution_count": 22,
      "outputs": [
        {
          "output_type": "stream",
          "text": [
            "EMD AUC 20 voters:  0.7521249999999999\n"
          ],
          "name": "stdout"
        }
      ]
    },
    {
      "cell_type": "markdown",
      "metadata": {
        "id": "5d5h-MoMRBVB",
        "colab_type": "text"
      },
      "source": [
        "Testing out different numbers of voters to find an optimum"
      ]
    },
    {
      "cell_type": "code",
      "metadata": {
        "id": "jF0ILwsYVaiR",
        "colab_type": "code",
        "colab": {}
      },
      "source": [
        "h_G_array = []\n",
        "h_Q_array = []\n",
        "emd_list = []"
      ],
      "execution_count": 0,
      "outputs": []
    },
    {
      "cell_type": "code",
      "metadata": {
        "id": "JUBSDd2HNyjY",
        "colab_type": "code",
        "colab": {}
      },
      "source": [
        "for nVoters in range(10,200):\n",
        "    for i in range(candidates): h_G_array.append(sum(indicesG[i,:nVoters] < electorate)/nVoters)\n",
        "    for i in range(candidates): h_Q_array.append(sum(indicesQ[i,:nVoters] < electorate)/nVoters)\n",
        "    h_G_nparray = np.asarray(h_G_array)\n",
        "    h_Q_nparray = np.asarray(h_Q_array)\n",
        "    predicted = np.concatenate([h_G_nparray, h_Q_nparray])\n",
        "    emd_auc = roc_auc_score(y_true=true_values, y_score=predicted)\n",
        "    emd_list.append(emd_auc)\n",
        "    h_G_array = []\n",
        "    h_Q_array = []\n",
        "\n",
        "emd_auc_array = np.asarray(emd_list)"
      ],
      "execution_count": 0,
      "outputs": []
    },
    {
      "cell_type": "code",
      "metadata": {
        "id": "0O3gTz4DN0YR",
        "colab_type": "code",
        "outputId": "8bf8f16f-faf8-467b-fa72-7c12d7170e5c",
        "colab": {
          "base_uri": "https://localhost:8080/",
          "height": 493
        }
      },
      "source": [
        "print(emd_auc_array)"
      ],
      "execution_count": 25,
      "outputs": [
        {
          "output_type": "stream",
          "text": [
            "[0.751025  0.745325  0.752175  0.7479125 0.7458    0.747475  0.7485125\n",
            " 0.749975  0.746125  0.75105   0.752125  0.7496125 0.7491    0.752225\n",
            " 0.7497625 0.755175  0.7557375 0.7547    0.7542375 0.755275  0.75785\n",
            " 0.7564625 0.7564125 0.75885   0.7609875 0.759875  0.761975  0.762925\n",
            " 0.7602375 0.7588375 0.7577875 0.7592375 0.7599125 0.7601    0.75905\n",
            " 0.760025  0.7611625 0.760875  0.7581625 0.759425  0.7615125 0.761125\n",
            " 0.7617375 0.7643875 0.7639    0.764425  0.7659625 0.7662375 0.7647375\n",
            " 0.7664875 0.7682125 0.768375  0.768325  0.7676375 0.7683625 0.7691375\n",
            " 0.769575  0.7706125 0.7705375 0.769025  0.768075  0.7696    0.768025\n",
            " 0.7688    0.76735   0.76825   0.7695125 0.7718625 0.7722875 0.7718875\n",
            " 0.7725625 0.771075  0.7701875 0.7697875 0.768975  0.770225  0.770425\n",
            " 0.76885   0.7680875 0.7667875 0.7674625 0.7675    0.76725   0.76715\n",
            " 0.7683625 0.7681875 0.7687375 0.7692    0.7684125 0.7680375 0.7682875\n",
            " 0.76905   0.7699625 0.7701    0.7696625 0.7689    0.768975  0.76865\n",
            " 0.769     0.769725  0.7685875 0.767975  0.7683875 0.7684375 0.769725\n",
            " 0.7694    0.769075  0.769175  0.7691125 0.76945   0.7688375 0.76825\n",
            " 0.7675625 0.7677    0.767425  0.7675875 0.7670375 0.767025  0.7671625\n",
            " 0.7672    0.7658    0.765975  0.7658625 0.7659375 0.7658625 0.7663625\n",
            " 0.7667125 0.7671125 0.766425  0.766425  0.7650625 0.764775  0.764825\n",
            " 0.764725  0.7648    0.7649875 0.7654875 0.765075  0.76465   0.764925\n",
            " 0.7645625 0.7650125 0.765525  0.765475  0.7661875 0.765325  0.7659125\n",
            " 0.7650625 0.76595   0.765575  0.7654625 0.765275  0.7649    0.7643375\n",
            " 0.764625  0.7654375 0.7653125 0.7653125 0.7655875 0.7656375 0.7657125\n",
            " 0.7649125 0.76475   0.764225  0.7643875 0.7643625 0.7641875 0.7639625\n",
            " 0.7641375 0.763825  0.7641875 0.764275  0.7639125 0.763675  0.7642625\n",
            " 0.76375   0.7639875 0.7649    0.7655625 0.765825  0.76565   0.7650875\n",
            " 0.7646875 0.76495   0.7651625 0.764925  0.76455   0.7647625 0.763975\n",
            " 0.7635375]\n"
          ],
          "name": "stdout"
        }
      ]
    },
    {
      "cell_type": "code",
      "metadata": {
        "id": "hoK9KB3zN2MD",
        "colab_type": "code",
        "outputId": "f9a10476-e08e-4cfd-c18d-c278b36a9a58",
        "colab": {
          "base_uri": "https://localhost:8080/",
          "height": 297
        }
      },
      "source": [
        "number_voters = np.arange(10,200)\n",
        "if plt:\n",
        "    # some nicer plot settings\n",
        "    plt.rcParams['figure.figsize'] = (4,4)\n",
        "    plt.rcParams['font.family'] = 'serif'\n",
        "    plt.rcParams['figure.autolayout'] = True\n",
        "\n",
        "    # plot the ROC curves\n",
        "    plt.plot(number_voters, emd_auc_array, '-', color='black')\n",
        "\n",
        "     # axes labels\n",
        "    plt.xlabel('Number of Voters')\n",
        "    plt.ylabel('EMD AUC score')\n",
        "\n",
        "    # axes limits\n",
        "    plt.xlim(0, 210)\n",
        "    plt.ylim(0.740, 0.780)\n",
        "\n",
        "    plt.show()"
      ],
      "execution_count": 28,
      "outputs": [
        {
          "output_type": "display_data",
          "data": {
            "image/png": "[encoded data removed]",
            "text/plain": [
              "<Figure size 288x288 with 1 Axes>"
            ]
          },
          "metadata": {
            "tags": []
          }
        }
      ]
    },
    {
      "cell_type": "code",
      "metadata": {
        "id": "VSAHVqV8PCER",
        "colab_type": "code",
        "outputId": "5363ccb3-b4f5-4132-f5ea-b1eb664ab384",
        "colab": {
          "base_uri": "https://localhost:8080/",
          "height": 34
        }
      },
      "source": [
        "max_auc = np.amax(emd_auc_array)\n",
        "print(max_auc)"
      ],
      "execution_count": 29,
      "outputs": [
        {
          "output_type": "stream",
          "text": [
            "0.7725624999999999\n"
          ],
          "name": "stdout"
        }
      ]
    },
    {
      "cell_type": "code",
      "metadata": {
        "id": "7zwlDDT8PFqT",
        "colab_type": "code",
        "outputId": "5f20159f-6156-44f3-e2af-3fd7aa5c5455",
        "colab": {
          "base_uri": "https://localhost:8080/",
          "height": 34
        }
      },
      "source": [
        "opt_voters = np.argmax(emd_auc_array) + 10 #since we started with 10 voters\n",
        "print(opt_voters)"
      ],
      "execution_count": 30,
      "outputs": [
        {
          "output_type": "stream",
          "text": [
            "80\n"
          ],
          "name": "stdout"
        }
      ]
    },
    {
      "cell_type": "code",
      "metadata": {
        "id": "LvdgR9YPnoDF",
        "colab_type": "code",
        "colab": {}
      },
      "source": [
        ""
      ],
      "execution_count": 0,
      "outputs": []
    }
  ]
}