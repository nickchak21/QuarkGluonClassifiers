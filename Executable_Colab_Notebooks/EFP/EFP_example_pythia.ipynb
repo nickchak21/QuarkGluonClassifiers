{
  "nbformat": 4,
  "nbformat_minor": 0,
  "metadata": {
    "colab": {
      "name": "EFP_example_pythia.ipynb",
      "provenance": [],
      "include_colab_link": true
    },
    "kernelspec": {
      "name": "python3",
      "display_name": "Python 3"
    },
    "accelerator": "GPU"
  },
  "cells": [
    {
      "cell_type": "markdown",
      "metadata": {
        "id": "view-in-github",
        "colab_type": "text"
      },
      "source": [
        "<a href=\"https://colab.research.google.com/github/nickchak21/QuarkGluonClassifiers/blob/master/Executable_Colab_Notebooks/EFP/EFP_example_pythia.ipynb\" target=\"_parent\"><img src=\"https://colab.research.google.com/assets/colab-badge.svg\" alt=\"Open In Colab\"/></a>"
      ]
    },
    {
      "cell_type": "markdown",
      "metadata": {
        "id": "VGeCyAZS_1Cn",
        "colab_type": "text"
      },
      "source": [
        "Installing the energyflow and h5py packages in the Colab environment"
      ]
    },
    {
      "cell_type": "code",
      "metadata": {
        "id": "EDQHdFMzRKws",
        "colab_type": "code",
        "outputId": "9f377df8-8b80-404a-9c64-7b81ed20e135",
        "colab": {
          "base_uri": "https://localhost:8080/",
          "height": 289
        }
      },
      "source": [
        "!pip install energyflow\n",
        "!pip install h5py"
      ],
      "execution_count": 1,
      "outputs": [
        {
          "output_type": "stream",
          "text": [
            "Collecting energyflow\n",
            "\u001b[?25l  Downloading https://files.pythonhosted.org/packages/ae/45/acf4909dfffb6e5712f14f8ca4f3708fafea36b348854e0a5e38860bfda7/EnergyFlow-1.0.2-py2.py3-none-any.whl (688kB)\n",
            "\r\u001b[K     |▌                               | 10kB 22.7MB/s eta 0:00:01\r\u001b[K     |█                               | 20kB 28.4MB/s eta 0:00:01\r\u001b[K     |█▍                              | 30kB 25.8MB/s eta 0:00:01\r\u001b[K     |██                              | 40kB 29.2MB/s eta 0:00:01\r\u001b[K     |██▍                             | 51kB 14.3MB/s eta 0:00:01\r\u001b[K     |██▉                             | 61kB 13.4MB/s eta 0:00:01\r\u001b[K     |███▎                            | 71kB 12.5MB/s eta 0:00:01\r\u001b[K     |███▉                            | 81kB 12.8MB/s eta 0:00:01\r\u001b[K     |████▎                           | 92kB 12.7MB/s eta 0:00:01\r\u001b[K     |████▊                           | 102kB 12.5MB/s eta 0:00:01\r\u001b[K     |█████▎                          | 112kB 12.5MB/s eta 0:00:01\r\u001b[K     |█████▊                          | 122kB 12.5MB/s eta 0:00:01\r\u001b[K     |██████▏                         | 133kB 12.5MB/s eta 0:00:01\r\u001b[K     |██████▋                         | 143kB 12.5MB/s eta 0:00:01\r\u001b[K     |███████▏                        | 153kB 12.5MB/s eta 0:00:01\r\u001b[K     |███████▋                        | 163kB 12.5MB/s eta 0:00:01\r\u001b[K     |████████                        | 174kB 12.5MB/s eta 0:00:01\r\u001b[K     |████████▋                       | 184kB 12.5MB/s eta 0:00:01\r\u001b[K     |█████████                       | 194kB 12.5MB/s eta 0:00:01\r\u001b[K     |█████████▌                      | 204kB 12.5MB/s eta 0:00:01\r\u001b[K     |██████████                      | 215kB 12.5MB/s eta 0:00:01\r\u001b[K     |██████████▌                     | 225kB 12.5MB/s eta 0:00:01\r\u001b[K     |███████████                     | 235kB 12.5MB/s eta 0:00:01\r\u001b[K     |███████████▍                    | 245kB 12.5MB/s eta 0:00:01\r\u001b[K     |████████████                    | 256kB 12.5MB/s eta 0:00:01\r\u001b[K     |████████████▍                   | 266kB 12.5MB/s eta 0:00:01\r\u001b[K     |████████████▉                   | 276kB 12.5MB/s eta 0:00:01\r\u001b[K     |█████████████▎                  | 286kB 12.5MB/s eta 0:00:01\r\u001b[K     |█████████████▉                  | 296kB 12.5MB/s eta 0:00:01\r\u001b[K     |██████████████▎                 | 307kB 12.5MB/s eta 0:00:01\r\u001b[K     |██████████████▊                 | 317kB 12.5MB/s eta 0:00:01\r\u001b[K     |███████████████▎                | 327kB 12.5MB/s eta 0:00:01\r\u001b[K     |███████████████▊                | 337kB 12.5MB/s eta 0:00:01\r\u001b[K     |████████████████▏               | 348kB 12.5MB/s eta 0:00:01\r\u001b[K     |████████████████▋               | 358kB 12.5MB/s eta 0:00:01\r\u001b[K     |█████████████████▏              | 368kB 12.5MB/s eta 0:00:01\r\u001b[K     |█████████████████▋              | 378kB 12.5MB/s eta 0:00:01\r\u001b[K     |██████████████████              | 389kB 12.5MB/s eta 0:00:01\r\u001b[K     |██████████████████▋             | 399kB 12.5MB/s eta 0:00:01\r\u001b[K     |███████████████████             | 409kB 12.5MB/s eta 0:00:01\r\u001b[K     |███████████████████▌            | 419kB 12.5MB/s eta 0:00:01\r\u001b[K     |████████████████████            | 430kB 12.5MB/s eta 0:00:01\r\u001b[K     |████████████████████▌           | 440kB 12.5MB/s eta 0:00:01\r\u001b[K     |█████████████████████           | 450kB 12.5MB/s eta 0:00:01\r\u001b[K     |█████████████████████▍          | 460kB 12.5MB/s eta 0:00:01\r\u001b[K     |██████████████████████          | 471kB 12.5MB/s eta 0:00:01\r\u001b[K     |██████████████████████▍         | 481kB 12.5MB/s eta 0:00:01\r\u001b[K     |██████████████████████▉         | 491kB 12.5MB/s eta 0:00:01\r\u001b[K     |███████████████████████▎        | 501kB 12.5MB/s eta 0:00:01\r\u001b[K     |███████████████████████▉        | 512kB 12.5MB/s eta 0:00:01\r\u001b[K     |████████████████████████▎       | 522kB 12.5MB/s eta 0:00:01\r\u001b[K     |████████████████████████▊       | 532kB 12.5MB/s eta 0:00:01\r\u001b[K     |█████████████████████████▎      | 542kB 12.5MB/s eta 0:00:01\r\u001b[K     |█████████████████████████▊      | 552kB 12.5MB/s eta 0:00:01\r\u001b[K     |██████████████████████████▏     | 563kB 12.5MB/s eta 0:00:01\r\u001b[K     |██████████████████████████▋     | 573kB 12.5MB/s eta 0:00:01\r\u001b[K     |███████████████████████████▏    | 583kB 12.5MB/s eta 0:00:01\r\u001b[K     |███████████████████████████▋    | 593kB 12.5MB/s eta 0:00:01\r\u001b[K     |████████████████████████████    | 604kB 12.5MB/s eta 0:00:01\r\u001b[K     |████████████████████████████▋   | 614kB 12.5MB/s eta 0:00:01\r\u001b[K     |█████████████████████████████   | 624kB 12.5MB/s eta 0:00:01\r\u001b[K     |█████████████████████████████▌  | 634kB 12.5MB/s eta 0:00:01\r\u001b[K     |██████████████████████████████  | 645kB 12.5MB/s eta 0:00:01\r\u001b[K     |██████████████████████████████▌ | 655kB 12.5MB/s eta 0:00:01\r\u001b[K     |███████████████████████████████ | 665kB 12.5MB/s eta 0:00:01\r\u001b[K     |███████████████████████████████▍| 675kB 12.5MB/s eta 0:00:01\r\u001b[K     |████████████████████████████████| 686kB 12.5MB/s eta 0:00:01\r\u001b[K     |████████████████████████████████| 696kB 12.5MB/s \n",
            "\u001b[?25hRequirement already satisfied: six>=1.10.0 in /usr/local/lib/python3.6/dist-packages (from energyflow) (1.12.0)\n",
            "Requirement already satisfied: numpy>=1.14.0 in /usr/local/lib/python3.6/dist-packages (from energyflow) (1.17.5)\n",
            "Collecting h5py>=2.9.0\n",
            "\u001b[?25l  Downloading https://files.pythonhosted.org/packages/60/06/cafdd44889200e5438b897388f3075b52a8ef01f28a17366d91de0fa2d05/h5py-2.10.0-cp36-cp36m-manylinux1_x86_64.whl (2.9MB)\n",
            "\u001b[K     |████████████████████████████████| 2.9MB 50.9MB/s \n",
            "\u001b[?25hInstalling collected packages: h5py, energyflow\n",
            "  Found existing installation: h5py 2.8.0\n",
            "    Uninstalling h5py-2.8.0:\n",
            "      Successfully uninstalled h5py-2.8.0\n",
            "Successfully installed energyflow-1.0.2 h5py-2.10.0\n",
            "Requirement already satisfied: h5py in /usr/local/lib/python3.6/dist-packages (2.10.0)\n",
            "Requirement already satisfied: six in /usr/local/lib/python3.6/dist-packages (from h5py) (1.12.0)\n",
            "Requirement already satisfied: numpy>=1.7 in /usr/local/lib/python3.6/dist-packages (from h5py) (1.17.5)\n"
          ],
          "name": "stdout"
        }
      ]
    },
    {
      "cell_type": "markdown",
      "metadata": {
        "id": "76Kv6FQg_5Wm",
        "colab_type": "text"
      },
      "source": [
        "Checking the version of Python (should be Python 3.6)"
      ]
    },
    {
      "cell_type": "code",
      "metadata": {
        "id": "jCY1hm8xSJyX",
        "colab_type": "code",
        "outputId": "f2af5fc3-72f7-4f13-c11c-985237354a6e",
        "colab": {
          "base_uri": "https://localhost:8080/",
          "height": 34
        }
      },
      "source": [
        "!python --version"
      ],
      "execution_count": 2,
      "outputs": [
        {
          "output_type": "stream",
          "text": [
            "Python 3.6.9\n"
          ],
          "name": "stdout"
        }
      ]
    },
    {
      "cell_type": "markdown",
      "metadata": {
        "id": "Chz4_GqR__T8",
        "colab_type": "text"
      },
      "source": [
        "Installing POT (Python Optimal Transform) package"
      ]
    },
    {
      "cell_type": "code",
      "metadata": {
        "id": "1r3rd5lMSYiH",
        "colab_type": "code",
        "outputId": "2e0680c9-ef96-420c-85ed-e2e6727ae84a",
        "colab": {
          "base_uri": "https://localhost:8080/",
          "height": 153
        }
      },
      "source": [
        "!pip install POT"
      ],
      "execution_count": 3,
      "outputs": [
        {
          "output_type": "stream",
          "text": [
            "Collecting POT\n",
            "\u001b[?25l  Downloading https://files.pythonhosted.org/packages/15/36/07d3c0960a590b88b81fa1837e666cc7479b90c7e9fd1063024ce9331122/POT-0.6.0-cp36-cp36m-manylinux1_x86_64.whl (305kB)\n",
            "\r\u001b[K     |█                               | 10kB 22.0MB/s eta 0:00:01\r\u001b[K     |██▏                             | 20kB 29.1MB/s eta 0:00:01\r\u001b[K     |███▏                            | 30kB 19.1MB/s eta 0:00:01\r\u001b[K     |████▎                           | 40kB 22.7MB/s eta 0:00:01\r\u001b[K     |█████▍                          | 51kB 13.5MB/s eta 0:00:01\r\u001b[K     |██████▍                         | 61kB 12.9MB/s eta 0:00:01\r\u001b[K     |███████▌                        | 71kB 12.7MB/s eta 0:00:01\r\u001b[K     |████████▋                       | 81kB 12.4MB/s eta 0:00:01\r\u001b[K     |█████████▋                      | 92kB 12.7MB/s eta 0:00:01\r\u001b[K     |██████████▊                     | 102kB 11.9MB/s eta 0:00:01\r\u001b[K     |███████████▉                    | 112kB 11.9MB/s eta 0:00:01\r\u001b[K     |████████████▉                   | 122kB 11.9MB/s eta 0:00:01\r\u001b[K     |██████████████                  | 133kB 11.9MB/s eta 0:00:01\r\u001b[K     |███████████████                 | 143kB 11.9MB/s eta 0:00:01\r\u001b[K     |████████████████                | 153kB 11.9MB/s eta 0:00:01\r\u001b[K     |█████████████████▏              | 163kB 11.9MB/s eta 0:00:01\r\u001b[K     |██████████████████▎             | 174kB 11.9MB/s eta 0:00:01\r\u001b[K     |███████████████████▎            | 184kB 11.9MB/s eta 0:00:01\r\u001b[K     |████████████████████▍           | 194kB 11.9MB/s eta 0:00:01\r\u001b[K     |█████████████████████▍          | 204kB 11.9MB/s eta 0:00:01\r\u001b[K     |██████████████████████▌         | 215kB 11.9MB/s eta 0:00:01\r\u001b[K     |███████████████████████▋        | 225kB 11.9MB/s eta 0:00:01\r\u001b[K     |████████████████████████▋       | 235kB 11.9MB/s eta 0:00:01\r\u001b[K     |█████████████████████████▊      | 245kB 11.9MB/s eta 0:00:01\r\u001b[K     |██████████████████████████▉     | 256kB 11.9MB/s eta 0:00:01\r\u001b[K     |███████████████████████████▉    | 266kB 11.9MB/s eta 0:00:01\r\u001b[K     |█████████████████████████████   | 276kB 11.9MB/s eta 0:00:01\r\u001b[K     |██████████████████████████████  | 286kB 11.9MB/s eta 0:00:01\r\u001b[K     |███████████████████████████████ | 296kB 11.9MB/s eta 0:00:01\r\u001b[K     |████████████████████████████████| 307kB 11.9MB/s \n",
            "\u001b[?25hRequirement already satisfied: cython in /usr/local/lib/python3.6/dist-packages (from POT) (0.29.14)\n",
            "Requirement already satisfied: numpy in /usr/local/lib/python3.6/dist-packages (from POT) (1.17.5)\n",
            "Requirement already satisfied: scipy in /usr/local/lib/python3.6/dist-packages (from POT) (1.4.1)\n",
            "Installing collected packages: POT\n",
            "Successfully installed POT-0.6.0\n"
          ],
          "name": "stdout"
        }
      ]
    },
    {
      "cell_type": "markdown",
      "metadata": {
        "id": "DD3iaOp0AOLX",
        "colab_type": "text"
      },
      "source": [
        "The following code runs a quark gluon classifier using a EFP (EnergyFlow Polynomial) architecture. The input jets are Pythia-generated. The AUC tops out at around 0.89. Training on more data would take too long, as the EFP calculation is not GPU-optimized. Currently, we use 32,000 jets to train and 8,000 jets to test."
      ]
    },
    {
      "cell_type": "code",
      "metadata": {
        "id": "2spgYY-azxMn",
        "colab_type": "code",
        "outputId": "d6638c0d-d0b0-4b15-9c1c-ca4e336aa318",
        "colab": {
          "base_uri": "https://localhost:8080/",
          "height": 751
        }
      },
      "source": [
        "\"\"\"An example involving Energy Flow Polynomials (EFPs) and a linear\n",
        "classifier (Fisher's Linear Discriminant by default). First, the \n",
        "[`EFPSet`](../docs/efp/#efpset) class is used to compute the EFPs\n",
        "up to the specified `dmax`, the default being `dmax=5`. Then linear\n",
        "classifiers are trained for different numbers of EFPs as input, \n",
        "determined by taking all EFPs up to degree `d` with `d` from `1` \n",
        "to `dmax`. The output of the example is a plot of the ROC curves\n",
        "for the classifiers with different numbers of EFP inputs.\n",
        "\"\"\"\n",
        "\n",
        "# standard library imports\n",
        "from __future__ import absolute_import, division, print_function\n",
        "\n",
        "# standard numerical library imports\n",
        "import numpy as np\n",
        "\n",
        "# energyflow imports\n",
        "import energyflow as ef\n",
        "from energyflow.archs import LinearClassifier\n",
        "from energyflow.datasets import qg_jets\n",
        "from energyflow.utils import data_split, standardize, to_categorical\n",
        "\n",
        "# attempt to import sklearn\n",
        "try:\n",
        "    from sklearn.metrics import roc_auc_score, roc_curve\n",
        "except:\n",
        "    print('please install scikit-learn in order to make ROC curves')\n",
        "    roc_curve = False\n",
        "\n",
        "# attempt to import matplotlib\n",
        "try:\n",
        "    import matplotlib.pyplot as plt\n",
        "except:\n",
        "    print('please install matploltib in order to make plots')\n",
        "    plt = False\n",
        "\n",
        "################################### SETTINGS ###################################\n",
        "\n",
        "# data controls\n",
        "num_data = 40000\n",
        "test_frac = 0.2\n",
        "\n",
        "# efp parameters\n",
        "dmax = 5\n",
        "measure = 'hadr'\n",
        "beta = 0.5\n",
        "\n",
        "# plotting\n",
        "colors = ['tab:red', 'tab:orange', 'tab:olive', 'tab:green', 'tab:blue']\n",
        "\n",
        "################################################################################\n",
        "\n",
        "# load data\n",
        "X, y = qg_jets.load(num_data)\n",
        "\n",
        "print('Loaded quark and gluon jets')\n",
        "\n",
        "# calculate EFPs\n",
        "print('Calculating d <= {} EFPs for {} jets... '.format(dmax, num_data), end='')\n",
        "efpset = ef.EFPSet(('d<=', dmax), measure='hadr', beta=beta)\n",
        "masked_X = [x[x[:,0] > 0] for x in X]\n",
        "X = efpset.batch_compute(masked_X)\n",
        "print('Done')\n",
        "\n",
        "# train models with different numbers of EFPs as input\n",
        "rocs = []\n",
        "for d in range(1, dmax+1):\n",
        "\n",
        "    # build architecture\n",
        "    model = LinearClassifier(linclass_type='lda')\n",
        "\n",
        "    # select EFPs with degree <= d\n",
        "    X_d = X[:,efpset.sel(('d<=', d))]\n",
        "\n",
        "    # do train/val/test split \n",
        "    (X_train, X_test, y_train, y_test) = data_split(X_d, y, val=0, test=test_frac)\n",
        "    print('Done train/val/test split')\n",
        "\n",
        "    # train model\n",
        "    model.fit(X_train, y_train)\n",
        "\n",
        "    # get predictions on test data\n",
        "    preds = model.predict(X_test)\n",
        "\n",
        "    # get ROC curve if we have sklearn\n",
        "    if roc_curve:\n",
        "        rocs.append(roc_curve(y_test, preds[:,1]))\n",
        "\n",
        "        # get area under the ROC curve\n",
        "        auc = roc_auc_score(y_test, preds[:,1])\n",
        "        print()\n",
        "        print('EFPs d <= {} AUC:'.format(d), auc)\n",
        "        print()\n",
        "\n",
        "# make ROC curve plot if we have matplotlib\n",
        "if plt:\n",
        "\n",
        "    # some nicer plot settings \n",
        "    plt.rcParams['figure.figsize'] = (4,4)\n",
        "    plt.rcParams['font.family'] = 'serif'\n",
        "    plt.rcParams['figure.autolayout'] = True\n",
        "\n",
        "    # iterate over the ROC curves and plot them\n",
        "    for i,d in enumerate(range(1, dmax+1)):\n",
        "        plt.plot(rocs[i][1], 1-rocs[i][0], '-', color=colors[i], \n",
        "                                                label='LDA: d <= {} EFPs'.format(d))\n",
        "\n",
        "    # axes labels\n",
        "    plt.xlabel('Quark Jet Efficiency')\n",
        "    plt.ylabel('Gluon Jet Rejection')\n",
        "\n",
        "    # axes limits\n",
        "    plt.xlim(0, 1)\n",
        "    plt.ylim(0, 1)\n",
        "\n",
        "    # make legend and show plot\n",
        "    plt.legend(loc='lower left', frameon=False)\n",
        "    plt.show()"
      ],
      "execution_count": 4,
      "outputs": [
        {
          "output_type": "stream",
          "text": [
            "Using TensorFlow backend.\n"
          ],
          "name": "stderr"
        },
        {
          "output_type": "display_data",
          "data": {
            "text/html": [
              "<p style=\"color: red;\">\n",
              "The default version of TensorFlow in Colab will soon switch to TensorFlow 2.x.<br>\n",
              "We recommend you <a href=\"https://www.tensorflow.org/guide/migrate\" target=\"_blank\">upgrade</a> now \n",
              "or ensure your notebook will continue to use TensorFlow 1.x via the <code>%tensorflow_version 1.x</code> magic:\n",
              "<a href=\"https://colab.research.google.com/notebooks/tensorflow_version.ipynb\" target=\"_blank\">more info</a>.</p>\n"
            ],
            "text/plain": [
              "<IPython.core.display.HTML object>"
            ]
          },
          "metadata": {
            "tags": []
          }
        },
        {
          "output_type": "stream",
          "text": [
            "Downloading QG_jets.npz from https://www.dropbox.com/s/fclsl7pukcpobsb/QG_jets.npz?dl=1 to /root/.energyflow/datasets\n",
            "Loaded quark and gluon jets\n",
            "Calculating d <= 5 EFPs for 40000 jets... Done\n",
            "Done train/val/test split\n",
            "\n",
            "EFPs d <= 1 AUC: 0.7867729814316986\n",
            "\n",
            "Done train/val/test split\n",
            "\n",
            "EFPs d <= 2 AUC: 0.8191114132800629\n",
            "\n",
            "Done train/val/test split\n",
            "\n",
            "EFPs d <= 3 AUC: 0.8598136518456763\n",
            "\n",
            "Done train/val/test split\n",
            "\n",
            "EFPs d <= 4 AUC: 0.8682256623738455\n",
            "\n",
            "Done train/val/test split\n",
            "\n",
            "EFPs d <= 5 AUC: 0.8821483073182342\n",
            "\n"
          ],
          "name": "stdout"
        },
        {
          "output_type": "display_data",
          "data": {
            "image/png": "[encoded data removed]",
            "text/plain": [
              "<Figure size 288x288 with 1 Axes>"
            ]
          },
          "metadata": {
            "tags": []
          }
        }
      ]
    }
  ]
}