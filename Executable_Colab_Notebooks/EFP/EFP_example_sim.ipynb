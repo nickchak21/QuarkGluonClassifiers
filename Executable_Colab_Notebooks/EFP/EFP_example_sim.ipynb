{
  "nbformat": 4,
  "nbformat_minor": 0,
  "metadata": {
    "colab": {
      "name": "EFP_example_sim.ipynb",
      "provenance": [],
      "include_colab_link": true
    },
    "kernelspec": {
      "name": "python3",
      "display_name": "Python 3"
    },
    "accelerator": "GPU"
  },
  "cells": [
    {
      "cell_type": "markdown",
      "metadata": {
        "id": "view-in-github",
        "colab_type": "text"
      },
      "source": [
        "<a href=\"https://colab.research.google.com/github/nickchak21/QuarkGluonClassifiers/blob/master/Executable_Colab_Notebooks/EFP/EFP_example_sim.ipynb\" target=\"_parent\"><img src=\"https://colab.research.google.com/assets/colab-badge.svg\" alt=\"Open In Colab\"/></a>"
      ]
    },
    {
      "cell_type": "markdown",
      "metadata": {
        "id": "wbECuXcYGIkz",
        "colab_type": "text"
      },
      "source": [
        "Installing the energyflow and h5py packages in the Colab environment"
      ]
    },
    {
      "cell_type": "code",
      "metadata": {
        "id": "EDQHdFMzRKws",
        "colab_type": "code",
        "outputId": "1c4228ca-90a6-4f5d-f2b9-be7bce70eb5f",
        "colab": {
          "base_uri": "https://localhost:8080/",
          "height": 289
        }
      },
      "source": [
        "!pip install energyflow\n",
        "!pip install h5py"
      ],
      "execution_count": 1,
      "outputs": [
        {
          "output_type": "stream",
          "text": [
            "Collecting energyflow\n",
            "\u001b[?25l  Downloading https://files.pythonhosted.org/packages/ae/45/acf4909dfffb6e5712f14f8ca4f3708fafea36b348854e0a5e38860bfda7/EnergyFlow-1.0.2-py2.py3-none-any.whl (688kB)\n",
            "\r\u001b[K     |▌                               | 10kB 17.5MB/s eta 0:00:01\r\u001b[K     |█                               | 20kB 25.4MB/s eta 0:00:01\r\u001b[K     |█▍                              | 30kB 29.9MB/s eta 0:00:01\r\u001b[K     |██                              | 40kB 32.4MB/s eta 0:00:01\r\u001b[K     |██▍                             | 51kB 35.6MB/s eta 0:00:01\r\u001b[K     |██▉                             | 61kB 38.0MB/s eta 0:00:01\r\u001b[K     |███▎                            | 71kB 39.0MB/s eta 0:00:01\r\u001b[K     |███▉                            | 81kB 40.0MB/s eta 0:00:01\r\u001b[K     |████▎                           | 92kB 40.9MB/s eta 0:00:01\r\u001b[K     |████▊                           | 102kB 42.1MB/s eta 0:00:01\r\u001b[K     |█████▎                          | 112kB 42.1MB/s eta 0:00:01\r\u001b[K     |█████▊                          | 122kB 42.1MB/s eta 0:00:01\r\u001b[K     |██████▏                         | 133kB 42.1MB/s eta 0:00:01\r\u001b[K     |██████▋                         | 143kB 42.1MB/s eta 0:00:01\r\u001b[K     |███████▏                        | 153kB 42.1MB/s eta 0:00:01\r\u001b[K     |███████▋                        | 163kB 42.1MB/s eta 0:00:01\r\u001b[K     |████████                        | 174kB 42.1MB/s eta 0:00:01\r\u001b[K     |████████▋                       | 184kB 42.1MB/s eta 0:00:01\r\u001b[K     |█████████                       | 194kB 42.1MB/s eta 0:00:01\r\u001b[K     |█████████▌                      | 204kB 42.1MB/s eta 0:00:01\r\u001b[K     |██████████                      | 215kB 42.1MB/s eta 0:00:01\r\u001b[K     |██████████▌                     | 225kB 42.1MB/s eta 0:00:01\r\u001b[K     |███████████                     | 235kB 42.1MB/s eta 0:00:01\r\u001b[K     |███████████▍                    | 245kB 42.1MB/s eta 0:00:01\r\u001b[K     |████████████                    | 256kB 42.1MB/s eta 0:00:01\r\u001b[K     |████████████▍                   | 266kB 42.1MB/s eta 0:00:01\r\u001b[K     |████████████▉                   | 276kB 42.1MB/s eta 0:00:01\r\u001b[K     |█████████████▎                  | 286kB 42.1MB/s eta 0:00:01\r\u001b[K     |█████████████▉                  | 296kB 42.1MB/s eta 0:00:01\r\u001b[K     |██████████████▎                 | 307kB 42.1MB/s eta 0:00:01\r\u001b[K     |██████████████▊                 | 317kB 42.1MB/s eta 0:00:01\r\u001b[K     |███████████████▎                | 327kB 42.1MB/s eta 0:00:01\r\u001b[K     |███████████████▊                | 337kB 42.1MB/s eta 0:00:01\r\u001b[K     |████████████████▏               | 348kB 42.1MB/s eta 0:00:01\r\u001b[K     |████████████████▋               | 358kB 42.1MB/s eta 0:00:01\r\u001b[K     |█████████████████▏              | 368kB 42.1MB/s eta 0:00:01\r\u001b[K     |█████████████████▋              | 378kB 42.1MB/s eta 0:00:01\r\u001b[K     |██████████████████              | 389kB 42.1MB/s eta 0:00:01\r\u001b[K     |██████████████████▋             | 399kB 42.1MB/s eta 0:00:01\r\u001b[K     |███████████████████             | 409kB 42.1MB/s eta 0:00:01\r\u001b[K     |███████████████████▌            | 419kB 42.1MB/s eta 0:00:01\r\u001b[K     |████████████████████            | 430kB 42.1MB/s eta 0:00:01\r\u001b[K     |████████████████████▌           | 440kB 42.1MB/s eta 0:00:01\r\u001b[K     |█████████████████████           | 450kB 42.1MB/s eta 0:00:01\r\u001b[K     |█████████████████████▍          | 460kB 42.1MB/s eta 0:00:01\r\u001b[K     |██████████████████████          | 471kB 42.1MB/s eta 0:00:01\r\u001b[K     |██████████████████████▍         | 481kB 42.1MB/s eta 0:00:01\r\u001b[K     |██████████████████████▉         | 491kB 42.1MB/s eta 0:00:01\r\u001b[K     |███████████████████████▎        | 501kB 42.1MB/s eta 0:00:01\r\u001b[K     |███████████████████████▉        | 512kB 42.1MB/s eta 0:00:01\r\u001b[K     |████████████████████████▎       | 522kB 42.1MB/s eta 0:00:01\r\u001b[K     |████████████████████████▊       | 532kB 42.1MB/s eta 0:00:01\r\u001b[K     |█████████████████████████▎      | 542kB 42.1MB/s eta 0:00:01\r\u001b[K     |█████████████████████████▊      | 552kB 42.1MB/s eta 0:00:01\r\u001b[K     |██████████████████████████▏     | 563kB 42.1MB/s eta 0:00:01\r\u001b[K     |██████████████████████████▋     | 573kB 42.1MB/s eta 0:00:01\r\u001b[K     |███████████████████████████▏    | 583kB 42.1MB/s eta 0:00:01\r\u001b[K     |███████████████████████████▋    | 593kB 42.1MB/s eta 0:00:01\r\u001b[K     |████████████████████████████    | 604kB 42.1MB/s eta 0:00:01\r\u001b[K     |████████████████████████████▋   | 614kB 42.1MB/s eta 0:00:01\r\u001b[K     |█████████████████████████████   | 624kB 42.1MB/s eta 0:00:01\r\u001b[K     |█████████████████████████████▌  | 634kB 42.1MB/s eta 0:00:01\r\u001b[K     |██████████████████████████████  | 645kB 42.1MB/s eta 0:00:01\r\u001b[K     |██████████████████████████████▌ | 655kB 42.1MB/s eta 0:00:01\r\u001b[K     |███████████████████████████████ | 665kB 42.1MB/s eta 0:00:01\r\u001b[K     |███████████████████████████████▍| 675kB 42.1MB/s eta 0:00:01\r\u001b[K     |████████████████████████████████| 686kB 42.1MB/s eta 0:00:01\r\u001b[K     |████████████████████████████████| 696kB 42.1MB/s \n",
            "\u001b[?25hRequirement already satisfied: numpy>=1.14.0 in /usr/local/lib/python3.6/dist-packages (from energyflow) (1.17.5)\n",
            "Collecting h5py>=2.9.0\n",
            "\u001b[?25l  Downloading https://files.pythonhosted.org/packages/60/06/cafdd44889200e5438b897388f3075b52a8ef01f28a17366d91de0fa2d05/h5py-2.10.0-cp36-cp36m-manylinux1_x86_64.whl (2.9MB)\n",
            "\u001b[K     |████████████████████████████████| 2.9MB 68.5MB/s \n",
            "\u001b[?25hRequirement already satisfied: six>=1.10.0 in /usr/local/lib/python3.6/dist-packages (from energyflow) (1.12.0)\n",
            "Installing collected packages: h5py, energyflow\n",
            "  Found existing installation: h5py 2.8.0\n",
            "    Uninstalling h5py-2.8.0:\n",
            "      Successfully uninstalled h5py-2.8.0\n",
            "Successfully installed energyflow-1.0.2 h5py-2.10.0\n",
            "Requirement already satisfied: h5py in /usr/local/lib/python3.6/dist-packages (2.10.0)\n",
            "Requirement already satisfied: numpy>=1.7 in /usr/local/lib/python3.6/dist-packages (from h5py) (1.17.5)\n",
            "Requirement already satisfied: six in /usr/local/lib/python3.6/dist-packages (from h5py) (1.12.0)\n"
          ],
          "name": "stdout"
        }
      ]
    },
    {
      "cell_type": "markdown",
      "metadata": {
        "id": "KYybfsFmGK-y",
        "colab_type": "text"
      },
      "source": [
        "Checking the version of Python (should be Python 3.6)"
      ]
    },
    {
      "cell_type": "code",
      "metadata": {
        "id": "jCY1hm8xSJyX",
        "colab_type": "code",
        "outputId": "3b5692fb-571b-4410-aff7-0eeac8fe50c8",
        "colab": {
          "base_uri": "https://localhost:8080/",
          "height": 34
        }
      },
      "source": [
        "!python --version"
      ],
      "execution_count": 2,
      "outputs": [
        {
          "output_type": "stream",
          "text": [
            "Python 3.6.9\n"
          ],
          "name": "stdout"
        }
      ]
    },
    {
      "cell_type": "markdown",
      "metadata": {
        "id": "HAdYNGN7GRGa",
        "colab_type": "text"
      },
      "source": [
        "Installing POT (Python Optimal Transform) package"
      ]
    },
    {
      "cell_type": "code",
      "metadata": {
        "id": "1r3rd5lMSYiH",
        "colab_type": "code",
        "outputId": "f6e20782-6164-498f-c35d-540942632270",
        "colab": {
          "base_uri": "https://localhost:8080/",
          "height": 85
        }
      },
      "source": [
        "!pip install POT"
      ],
      "execution_count": 3,
      "outputs": [
        {
          "output_type": "stream",
          "text": [
            "Requirement already satisfied: POT in /usr/local/lib/python3.6/dist-packages (0.6.0)\n",
            "Requirement already satisfied: cython in /usr/local/lib/python3.6/dist-packages (from POT) (0.29.14)\n",
            "Requirement already satisfied: numpy in /usr/local/lib/python3.6/dist-packages (from POT) (1.17.5)\n",
            "Requirement already satisfied: scipy in /usr/local/lib/python3.6/dist-packages (from POT) (1.4.1)\n"
          ],
          "name": "stdout"
        }
      ]
    },
    {
      "cell_type": "markdown",
      "metadata": {
        "id": "PLFeMhwfGdsj",
        "colab_type": "text"
      },
      "source": [
        "The following code runs a quark gluon classifier using a EFP (EnergyFlow Polynomial) architecture. The input jets are detector-simulated. The AUC tops out at around 0.79. Training on more data would take too long, as the EFP calculation is not GPU-optimized. Currently, we use 32,000 jets to train and 8,000 jets to test."
      ]
    },
    {
      "cell_type": "code",
      "metadata": {
        "id": "2spgYY-azxMn",
        "colab_type": "code",
        "outputId": "6177c152-61f9-41ae-c898-324dc5ecbff2",
        "colab": {
          "base_uri": "https://localhost:8080/",
          "height": 890
        }
      },
      "source": [
        "\"\"\"An example involving Energy Flow Polynomials (EFPs) and a linear\n",
        "classifier (Fisher's Linear Discriminant by default). First, the \n",
        "[`EFPSet`](../docs/efp/#efpset) class is used to compute the EFPs\n",
        "up to the specified `dmax`, the default being `dmax=5`. Then linear\n",
        "classifiers are trained for different numbers of EFPs as input, \n",
        "determined by taking all EFPs up to degree `d` with `d` from `1` \n",
        "to `dmax`. The output of the example is a plot of the ROC curves\n",
        "for the classifiers with different numbers of EFP inputs.\n",
        "\"\"\"\n",
        "\n",
        "# standard library imports\n",
        "from __future__ import absolute_import, division, print_function\n",
        "\n",
        "# standard numerical library imports\n",
        "import numpy as np\n",
        "\n",
        "# energyflow imports\n",
        "import energyflow as ef\n",
        "from energyflow.archs import LinearClassifier\n",
        "from energyflow.datasets import qg_jets\n",
        "from energyflow.utils import data_split, standardize, to_categorical\n",
        "\n",
        "# attempt to import sklearn\n",
        "try:\n",
        "    from sklearn.metrics import roc_auc_score, roc_curve\n",
        "except:\n",
        "    print('please install scikit-learn in order to make ROC curves')\n",
        "    roc_curve = False\n",
        "\n",
        "# attempt to import matplotlib\n",
        "try:\n",
        "    import matplotlib.pyplot as plt\n",
        "except:\n",
        "    print('please install matploltib in order to make plots')\n",
        "    plt = False\n",
        "\n",
        "################################### SETTINGS ###################################\n",
        "\n",
        "# data controls\n",
        "num_data = 40000\n",
        "test_frac = 0.2\n",
        "\n",
        "# efp parameters\n",
        "dmax = 5\n",
        "measure = 'hadr'\n",
        "beta = 0.5\n",
        "\n",
        "# plotting\n",
        "colors = ['tab:red', 'tab:orange', 'tab:olive', 'tab:green', 'tab:blue']\n",
        "\n",
        "################################################################################\n",
        "\n",
        "# load data\n",
        "specs = ['375 <= corr_jet_pts <= 425', 'abs_jet_eta < 1.9', 'quality >= 2']\n",
        "amount = 0.00001\n",
        "sim = ef.mod.load(*specs, dataset='sim', amount=amount)\n",
        "\n",
        "array_lengths = []\n",
        "for i in range(len(sim.particles)):\n",
        "    array_lengths.append(len(sim.particles[i]))\n",
        "\n",
        "jet_array = np.zeros((len(sim.particles),160,6))\n",
        "for i in range(len(sim.particles)):\n",
        "    for j in range(160):\n",
        "        for k in range(6):\n",
        "            try:\n",
        "                jet_array[i,j,k] = sim.particles[i][j][k]\n",
        "            except IndexError:\n",
        "                jet_array[i,j,k] = 0\n",
        "\n",
        "labels = []\n",
        "for i in range(len(sim.hard_pids)):\n",
        "    if sim.hard_pids[i] == 21:\n",
        "        labels.append(0)\n",
        "    else:\n",
        "        labels.append(1)\n",
        "label_array = np.asarray(labels)\n",
        "\n",
        "X = jet_array[:40000,:,:4]\n",
        "y = label_array[:40000]\n",
        "\n",
        "print('Loaded quark and gluon jets')\n",
        "\n",
        "# calculate EFPs\n",
        "print('Calculating d <= {} EFPs for {} jets... '.format(dmax, num_data), end='')\n",
        "efpset = ef.EFPSet(('d<=', dmax), measure='hadr', beta=beta)\n",
        "masked_X = [x[x[:,0] > 0] for x in X]\n",
        "X = efpset.batch_compute(masked_X)\n",
        "print('Done')\n",
        "\n",
        "# train models with different numbers of EFPs as input\n",
        "rocs = []\n",
        "for d in range(1, dmax+1):\n",
        "\n",
        "    # build architecture\n",
        "    model = LinearClassifier(linclass_type='lda')\n",
        "\n",
        "    # select EFPs with degree <= d\n",
        "    X_d = X[:,efpset.sel(('d<=', d))]\n",
        "\n",
        "    # do train/val/test split \n",
        "    (X_train, X_test, y_train, y_test) = data_split(X_d, y, val=0, test=test_frac)\n",
        "    print('Done train/val/test split')\n",
        "\n",
        "    # train model\n",
        "    model.fit(X_train, y_train)\n",
        "\n",
        "    # get predictions on test data\n",
        "    preds = model.predict(X_test)\n",
        "\n",
        "    # get ROC curve if we have sklearn\n",
        "    if roc_curve:\n",
        "        rocs.append(roc_curve(y_test, preds[:,1]))\n",
        "\n",
        "        # get area under the ROC curve\n",
        "        auc = roc_auc_score(y_test, preds[:,1])\n",
        "        print()\n",
        "        print('EFPs d <= {} AUC:'.format(d), auc)\n",
        "        print()\n",
        "\n",
        "# make ROC curve plot if we have matplotlib\n",
        "if plt:\n",
        "\n",
        "    # some nicer plot settings \n",
        "    plt.rcParams['figure.figsize'] = (4,4)\n",
        "    plt.rcParams['font.family'] = 'serif'\n",
        "    plt.rcParams['figure.autolayout'] = True\n",
        "\n",
        "    # iterate over the ROC curves and plot them\n",
        "    for i,d in enumerate(range(1, dmax+1)):\n",
        "        plt.plot(rocs[i][1], 1-rocs[i][0], '-', color=colors[i], \n",
        "                                                label='LDA: d <= {} EFPs'.format(d))\n",
        "\n",
        "    # axes labels\n",
        "    plt.xlabel('Quark Jet Efficiency')\n",
        "    plt.ylabel('Gluon Jet Rejection')\n",
        "\n",
        "    # axes limits\n",
        "    plt.xlim(0, 1)\n",
        "    plt.ylim(0, 1)\n",
        "\n",
        "    # make legend and show plot\n",
        "    plt.legend(loc='lower left', frameon=False)\n",
        "    plt.show()"
      ],
      "execution_count": 4,
      "outputs": [
        {
          "output_type": "stream",
          "text": [
            "Using TensorFlow backend.\n"
          ],
          "name": "stderr"
        },
        {
          "output_type": "display_data",
          "data": {
            "text/html": [
              "<p style=\"color: red;\">\n",
              "The default version of TensorFlow in Colab will soon switch to TensorFlow 2.x.<br>\n",
              "We recommend you <a href=\"https://www.tensorflow.org/guide/migrate\" target=\"_blank\">upgrade</a> now \n",
              "or ensure your notebook will continue to use TensorFlow 1.x via the <code>%tensorflow_version 1.x</code> magic:\n",
              "<a href=\"https://colab.research.google.com/notebooks/tensorflow_version.ipynb\" target=\"_blank\">more info</a>.</p>\n"
            ],
            "text/plain": [
              "<IPython.core.display.HTML object>"
            ]
          },
          "metadata": {
            "tags": []
          }
        },
        {
          "output_type": "stream",
          "text": [
            "Downloading SIM170_Jet300_pT375-infGeV_0_compressed.h5 from https://zenodo.org/record/3341500/files/SIM170_Jet300_pT375-infGeV_0_compressed.h5?download=1 to /root/.energyflow/datasets/CMS2011AJets/SIM170_Jet300_pT375-infGeV\n",
            "Downloading SIM300_Jet300_pT375-infGeV_0_compressed.h5 from https://zenodo.org/record/3341498/files/SIM300_Jet300_pT375-infGeV_0_compressed.h5?download=1 to /root/.energyflow/datasets/CMS2011AJets/SIM300_Jet300_pT375-infGeV\n",
            "Downloading SIM470_Jet300_pT375-infGeV_0_compressed.h5 from https://zenodo.org/record/3341419/files/SIM470_Jet300_pT375-infGeV_0_compressed.h5?download=1 to /root/.energyflow/datasets/CMS2011AJets/SIM470_Jet300_pT375-infGeV\n",
            "Downloading SIM600_Jet300_pT375-infGeV_0_compressed.h5 from https://zenodo.org/record/3364139/files/SIM600_Jet300_pT375-infGeV_0_compressed.h5?download=1 to /root/.energyflow/datasets/CMS2011AJets/SIM600_Jet300_pT375-infGeV\n",
            "Downloading SIM800_Jet300_pT375-infGeV_0_compressed.h5 from https://zenodo.org/record/3341413/files/SIM800_Jet300_pT375-infGeV_0_compressed.h5?download=1 to /root/.energyflow/datasets/CMS2011AJets/SIM800_Jet300_pT375-infGeV\n",
            "Downloading SIM1000_Jet300_pT375-infGeV_0_compressed.h5 from https://zenodo.org/record/3341502/files/SIM1000_Jet300_pT375-infGeV_0_compressed.h5?download=1 to /root/.energyflow/datasets/CMS2011AJets/SIM1000_Jet300_pT375-infGeV\n",
            "Downloading SIM1400_Jet300_pT375-infGeV_0_compressed.h5 from https://zenodo.org/record/3341770/files/SIM1400_Jet300_pT375-infGeV_0_compressed.h5?download=1 to /root/.energyflow/datasets/CMS2011AJets/SIM1400_Jet300_pT375-infGeV\n",
            "Downloading SIM1800_Jet300_pT375-infGeV_0_compressed.h5 from https://zenodo.org/record/3341772/files/SIM1800_Jet300_pT375-infGeV_0_compressed.h5?download=1 to /root/.energyflow/datasets/CMS2011AJets/SIM1800_Jet300_pT375-infGeV\n",
            "Loaded quark and gluon jets\n",
            "Calculating d <= 5 EFPs for 40000 jets... Done\n",
            "Done train/val/test split\n",
            "\n",
            "EFPs d <= 1 AUC: 0.737836641416753\n",
            "\n",
            "Done train/val/test split\n",
            "\n",
            "EFPs d <= 2 AUC: 0.7540033011870393\n",
            "\n",
            "Done train/val/test split\n",
            "\n",
            "EFPs d <= 3 AUC: 0.7767509532793895\n",
            "\n",
            "Done train/val/test split\n",
            "\n",
            "EFPs d <= 4 AUC: 0.7856276214134015\n",
            "\n",
            "Done train/val/test split\n",
            "\n",
            "EFPs d <= 5 AUC: 0.7855322209542625\n",
            "\n"
          ],
          "name": "stdout"
        },
        {
          "output_type": "display_data",
          "data": {
            "image/png": "[encoded data removed]",
            "text/plain": [
              "<Figure size 288x288 with 1 Axes>"
            ]
          },
          "metadata": {
            "tags": []
          }
        }
      ]
    }
  ]
}