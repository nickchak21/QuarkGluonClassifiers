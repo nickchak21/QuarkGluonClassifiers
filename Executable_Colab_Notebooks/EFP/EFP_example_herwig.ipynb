{
  "nbformat": 4,
  "nbformat_minor": 0,
  "metadata": {
    "colab": {
      "name": "EFP_example_herwig.ipynb",
      "provenance": [],
      "include_colab_link": true
    },
    "kernelspec": {
      "name": "python3",
      "display_name": "Python 3"
    },
    "accelerator": "GPU"
  },
  "cells": [
    {
      "cell_type": "markdown",
      "metadata": {
        "id": "view-in-github",
        "colab_type": "text"
      },
      "source": [
        "<a href=\"https://colab.research.google.com/github/nickchak21/QuarkGluonClassifiers/blob/master/Executable_Colab_Notebooks/EFP/EFP_example_herwig.ipynb\" target=\"_parent\"><img src=\"https://colab.research.google.com/assets/colab-badge.svg\" alt=\"Open In Colab\"/></a>"
      ]
    },
    {
      "cell_type": "markdown",
      "metadata": {
        "id": "1GWR0FHEDrvv",
        "colab_type": "text"
      },
      "source": [
        "Installing the energyflow and h5py packages in the Colab environment"
      ]
    },
    {
      "cell_type": "code",
      "metadata": {
        "id": "EDQHdFMzRKws",
        "colab_type": "code",
        "outputId": "05488d52-5d1f-4961-ebcd-00afc2fbe5d4",
        "colab": {
          "base_uri": "https://localhost:8080/",
          "height": 289
        }
      },
      "source": [
        "!pip install energyflow\n",
        "!pip install h5py"
      ],
      "execution_count": 1,
      "outputs": [
        {
          "output_type": "stream",
          "text": [
            "Collecting energyflow\n",
            "\u001b[?25l  Downloading https://files.pythonhosted.org/packages/ae/45/acf4909dfffb6e5712f14f8ca4f3708fafea36b348854e0a5e38860bfda7/EnergyFlow-1.0.2-py2.py3-none-any.whl (688kB)\n",
            "\u001b[K     |████████████████████████████████| 696kB 4.7MB/s \n",
            "\u001b[?25hCollecting h5py>=2.9.0\n",
            "\u001b[?25l  Downloading https://files.pythonhosted.org/packages/60/06/cafdd44889200e5438b897388f3075b52a8ef01f28a17366d91de0fa2d05/h5py-2.10.0-cp36-cp36m-manylinux1_x86_64.whl (2.9MB)\n",
            "\u001b[K     |████████████████████████████████| 2.9MB 20.9MB/s \n",
            "\u001b[?25hRequirement already satisfied: numpy>=1.14.0 in /usr/local/lib/python3.6/dist-packages (from energyflow) (1.17.5)\n",
            "Requirement already satisfied: six>=1.10.0 in /usr/local/lib/python3.6/dist-packages (from energyflow) (1.12.0)\n",
            "Installing collected packages: h5py, energyflow\n",
            "  Found existing installation: h5py 2.8.0\n",
            "    Uninstalling h5py-2.8.0:\n",
            "      Successfully uninstalled h5py-2.8.0\n",
            "Successfully installed energyflow-1.0.2 h5py-2.10.0\n",
            "Requirement already satisfied: h5py in /usr/local/lib/python3.6/dist-packages (2.10.0)\n",
            "Requirement already satisfied: numpy>=1.7 in /usr/local/lib/python3.6/dist-packages (from h5py) (1.17.5)\n",
            "Requirement already satisfied: six in /usr/local/lib/python3.6/dist-packages (from h5py) (1.12.0)\n"
          ],
          "name": "stdout"
        }
      ]
    },
    {
      "cell_type": "markdown",
      "metadata": {
        "id": "59_ofeSzDwmq",
        "colab_type": "text"
      },
      "source": [
        "Checking the version of Python (should be Python 3.6)"
      ]
    },
    {
      "cell_type": "code",
      "metadata": {
        "id": "jCY1hm8xSJyX",
        "colab_type": "code",
        "outputId": "35043811-7721-479e-aec4-8b0cd94cb261",
        "colab": {
          "base_uri": "https://localhost:8080/",
          "height": 34
        }
      },
      "source": [
        "!python --version"
      ],
      "execution_count": 2,
      "outputs": [
        {
          "output_type": "stream",
          "text": [
            "Python 3.6.9\n"
          ],
          "name": "stdout"
        }
      ]
    },
    {
      "cell_type": "markdown",
      "metadata": {
        "id": "wmwJlMrsD173",
        "colab_type": "text"
      },
      "source": [
        "Installing POT (Python Optimal Transform) package"
      ]
    },
    {
      "cell_type": "code",
      "metadata": {
        "id": "1r3rd5lMSYiH",
        "colab_type": "code",
        "outputId": "e6bc43b2-f49e-4f00-c251-d4c22bc6fa31",
        "colab": {
          "base_uri": "https://localhost:8080/",
          "height": 153
        }
      },
      "source": [
        "!pip install POT"
      ],
      "execution_count": 3,
      "outputs": [
        {
          "output_type": "stream",
          "text": [
            "Collecting POT\n",
            "\u001b[?25l  Downloading https://files.pythonhosted.org/packages/15/36/07d3c0960a590b88b81fa1837e666cc7479b90c7e9fd1063024ce9331122/POT-0.6.0-cp36-cp36m-manylinux1_x86_64.whl (305kB)\n",
            "\r\u001b[K     |█                               | 10kB 26.3MB/s eta 0:00:01\r\u001b[K     |██▏                             | 20kB 3.1MB/s eta 0:00:01\r\u001b[K     |███▏                            | 30kB 4.5MB/s eta 0:00:01\r\u001b[K     |████▎                           | 40kB 3.0MB/s eta 0:00:01\r\u001b[K     |█████▍                          | 51kB 3.7MB/s eta 0:00:01\r\u001b[K     |██████▍                         | 61kB 4.4MB/s eta 0:00:01\r\u001b[K     |███████▌                        | 71kB 5.1MB/s eta 0:00:01\r\u001b[K     |████████▋                       | 81kB 5.7MB/s eta 0:00:01\r\u001b[K     |█████████▋                      | 92kB 6.4MB/s eta 0:00:01\r\u001b[K     |██████████▊                     | 102kB 5.0MB/s eta 0:00:01\r\u001b[K     |███████████▉                    | 112kB 5.0MB/s eta 0:00:01\r\u001b[K     |████████████▉                   | 122kB 5.0MB/s eta 0:00:01\r\u001b[K     |██████████████                  | 133kB 5.0MB/s eta 0:00:01\r\u001b[K     |███████████████                 | 143kB 5.0MB/s eta 0:00:01\r\u001b[K     |████████████████                | 153kB 5.0MB/s eta 0:00:01\r\u001b[K     |█████████████████▏              | 163kB 5.0MB/s eta 0:00:01\r\u001b[K     |██████████████████▎             | 174kB 5.0MB/s eta 0:00:01\r\u001b[K     |███████████████████▎            | 184kB 5.0MB/s eta 0:00:01\r\u001b[K     |████████████████████▍           | 194kB 5.0MB/s eta 0:00:01\r\u001b[K     |█████████████████████▍          | 204kB 5.0MB/s eta 0:00:01\r\u001b[K     |██████████████████████▌         | 215kB 5.0MB/s eta 0:00:01\r\u001b[K     |███████████████████████▋        | 225kB 5.0MB/s eta 0:00:01\r\u001b[K     |████████████████████████▋       | 235kB 5.0MB/s eta 0:00:01\r\u001b[K     |█████████████████████████▊      | 245kB 5.0MB/s eta 0:00:01\r\u001b[K     |██████████████████████████▉     | 256kB 5.0MB/s eta 0:00:01\r\u001b[K     |███████████████████████████▉    | 266kB 5.0MB/s eta 0:00:01\r\u001b[K     |█████████████████████████████   | 276kB 5.0MB/s eta 0:00:01\r\u001b[K     |██████████████████████████████  | 286kB 5.0MB/s eta 0:00:01\r\u001b[K     |███████████████████████████████ | 296kB 5.0MB/s eta 0:00:01\r\u001b[K     |████████████████████████████████| 307kB 5.0MB/s \n",
            "\u001b[?25hRequirement already satisfied: cython in /usr/local/lib/python3.6/dist-packages (from POT) (0.29.14)\n",
            "Requirement already satisfied: numpy in /usr/local/lib/python3.6/dist-packages (from POT) (1.17.5)\n",
            "Requirement already satisfied: scipy in /usr/local/lib/python3.6/dist-packages (from POT) (1.4.1)\n",
            "Installing collected packages: POT\n",
            "Successfully installed POT-0.6.0\n"
          ],
          "name": "stdout"
        }
      ]
    },
    {
      "cell_type": "markdown",
      "metadata": {
        "id": "2swlYlO7D97x",
        "colab_type": "text"
      },
      "source": [
        "The following code runs a quark gluon classifier using a EFP (EnergyFlow Polynomial) architecture. The input jets are Herwig-generated. The AUC tops out at around 0.82. Training on more data would take too long, as the EFP calculation is not GPU-optimized. Currently, we use 32,000 jets to train and 8,000 jets to test."
      ]
    },
    {
      "cell_type": "code",
      "metadata": {
        "id": "2spgYY-azxMn",
        "colab_type": "code",
        "outputId": "c93af13b-087d-47e7-8050-53bc3463a7dc",
        "colab": {
          "base_uri": "https://localhost:8080/",
          "height": 751
        }
      },
      "source": [
        "\"\"\"An example involving Energy Flow Polynomials (EFPs) and a linear\n",
        "classifier (Fisher's Linear Discriminant by default). First, the \n",
        "[`EFPSet`](../docs/efp/#efpset) class is used to compute the EFPs\n",
        "up to the specified `dmax`, the default being `dmax=5`. Then linear\n",
        "classifiers are trained for different numbers of EFPs as input, \n",
        "determined by taking all EFPs up to degree `d` with `d` from `1` \n",
        "to `dmax`. The output of the example is a plot of the ROC curves\n",
        "for the classifiers with different numbers of EFP inputs.\n",
        "\"\"\"\n",
        "\n",
        "# standard library imports\n",
        "from __future__ import absolute_import, division, print_function\n",
        "\n",
        "# standard numerical library imports\n",
        "import numpy as np\n",
        "\n",
        "# energyflow imports\n",
        "import energyflow as ef\n",
        "from energyflow.archs import LinearClassifier\n",
        "from energyflow.datasets import qg_jets\n",
        "from energyflow.utils import data_split, standardize, to_categorical\n",
        "\n",
        "# attempt to import sklearn\n",
        "try:\n",
        "    from sklearn.metrics import roc_auc_score, roc_curve\n",
        "except:\n",
        "    print('please install scikit-learn in order to make ROC curves')\n",
        "    roc_curve = False\n",
        "\n",
        "# attempt to import matplotlib\n",
        "try:\n",
        "    import matplotlib.pyplot as plt\n",
        "except:\n",
        "    print('please install matploltib in order to make plots')\n",
        "    plt = False\n",
        "\n",
        "################################### SETTINGS ###################################\n",
        "\n",
        "# data controls\n",
        "num_data = 40000\n",
        "test_frac = 0.2\n",
        "\n",
        "# efp parameters\n",
        "dmax = 5\n",
        "measure = 'hadr'\n",
        "beta = 0.5\n",
        "\n",
        "# plotting\n",
        "colors = ['tab:red', 'tab:orange', 'tab:olive', 'tab:green', 'tab:blue']\n",
        "\n",
        "################################################################################\n",
        "\n",
        "# load data\n",
        "X, y = qg_jets.load(num_data=num_data, generator='herwig')\n",
        "\n",
        "print('Loaded quark and gluon jets')\n",
        "\n",
        "# calculate EFPs\n",
        "print('Calculating d <= {} EFPs for {} jets... '.format(dmax, num_data), end='')\n",
        "efpset = ef.EFPSet(('d<=', dmax), measure='hadr', beta=beta)\n",
        "masked_X = [x[x[:,0] > 0] for x in X]\n",
        "X = efpset.batch_compute(masked_X)\n",
        "print('Done')\n",
        "\n",
        "# train models with different numbers of EFPs as input\n",
        "rocs = []\n",
        "for d in range(1, dmax+1):\n",
        "\n",
        "    # build architecture\n",
        "    model = LinearClassifier(linclass_type='lda')\n",
        "\n",
        "    # select EFPs with degree <= d\n",
        "    X_d = X[:,efpset.sel(('d<=', d))]\n",
        "\n",
        "    # do train/val/test split \n",
        "    (X_train, X_test, y_train, y_test) = data_split(X_d, y, val=0, test=test_frac)\n",
        "    print('Done train/val/test split')\n",
        "\n",
        "    # train model\n",
        "    model.fit(X_train, y_train)\n",
        "\n",
        "    # get predictions on test data\n",
        "    preds = model.predict(X_test)\n",
        "\n",
        "    # get ROC curve if we have sklearn\n",
        "    if roc_curve:\n",
        "        rocs.append(roc_curve(y_test, preds[:,1]))\n",
        "\n",
        "        # get area under the ROC curve\n",
        "        auc = roc_auc_score(y_test, preds[:,1])\n",
        "        print()\n",
        "        print('EFPs d <= {} AUC:'.format(d), auc)\n",
        "        print()\n",
        "\n",
        "# make ROC curve plot if we have matplotlib\n",
        "if plt:\n",
        "\n",
        "    # some nicer plot settings \n",
        "    plt.rcParams['figure.figsize'] = (4,4)\n",
        "    plt.rcParams['font.family'] = 'serif'\n",
        "    plt.rcParams['figure.autolayout'] = True\n",
        "\n",
        "    # iterate over the ROC curves and plot them\n",
        "    for i,d in enumerate(range(1, dmax+1)):\n",
        "        plt.plot(rocs[i][1], 1-rocs[i][0], '-', color=colors[i], \n",
        "                                                label='LDA: d <= {} EFPs'.format(d))\n",
        "\n",
        "    # axes labels\n",
        "    plt.xlabel('Quark Jet Efficiency')\n",
        "    plt.ylabel('Gluon Jet Rejection')\n",
        "\n",
        "    # axes limits\n",
        "    plt.xlim(0, 1)\n",
        "    plt.ylim(0, 1)\n",
        "\n",
        "    # make legend and show plot\n",
        "    plt.legend(loc='lower left', frameon=False)\n",
        "    plt.show()"
      ],
      "execution_count": 4,
      "outputs": [
        {
          "output_type": "stream",
          "text": [
            "Using TensorFlow backend.\n"
          ],
          "name": "stderr"
        },
        {
          "output_type": "display_data",
          "data": {
            "text/html": [
              "<p style=\"color: red;\">\n",
              "The default version of TensorFlow in Colab will soon switch to TensorFlow 2.x.<br>\n",
              "We recommend you <a href=\"https://www.tensorflow.org/guide/migrate\" target=\"_blank\">upgrade</a> now \n",
              "or ensure your notebook will continue to use TensorFlow 1.x via the <code>%tensorflow_version 1.x</code> magic:\n",
              "<a href=\"https://colab.research.google.com/notebooks/tensorflow_version.ipynb\" target=\"_blank\">more info</a>.</p>\n"
            ],
            "text/plain": [
              "<IPython.core.display.HTML object>"
            ]
          },
          "metadata": {
            "tags": []
          }
        },
        {
          "output_type": "stream",
          "text": [
            "Downloading QG_jets_herwig_0.npz from https://www.dropbox.com/s/xizexr2tjq2bm59/QG_jets_herwig_0.npz?dl=1 to /root/.energyflow/datasets\n",
            "Loaded quark and gluon jets\n",
            "Calculating d <= 5 EFPs for 40000 jets... Done\n",
            "Done train/val/test split\n",
            "\n",
            "EFPs d <= 1 AUC: 0.7478230140470608\n",
            "\n",
            "Done train/val/test split\n",
            "\n",
            "EFPs d <= 2 AUC: 0.78363300687811\n",
            "\n",
            "Done train/val/test split\n",
            "\n",
            "EFPs d <= 3 AUC: 0.8124844843400898\n",
            "\n",
            "Done train/val/test split\n",
            "\n",
            "EFPs d <= 4 AUC: 0.8125732719538039\n",
            "\n",
            "Done train/val/test split\n",
            "\n",
            "EFPs d <= 5 AUC: 0.8158366459161478\n",
            "\n"
          ],
          "name": "stdout"
        },
        {
          "output_type": "display_data",
          "data": {
            "image/png": "[encoded data removed]",
            "text/plain": [
              "<Figure size 288x288 with 1 Axes>"
            ]
          },
          "metadata": {
            "tags": []
          }
        }
      ]
    }
  ]
}