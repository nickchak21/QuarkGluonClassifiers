{
  "nbformat": 4,
  "nbformat_minor": 0,
  "metadata": {
    "colab": {
      "name": "EFP_example_herwig.ipynb",
      "provenance": [],
      "include_colab_link": true
    },
    "kernelspec": {
      "name": "python3",
      "display_name": "Python 3"
    },
    "accelerator": "GPU"
  },
  "cells": [
    {
      "cell_type": "markdown",
      "metadata": {
        "id": "view-in-github",
        "colab_type": "text"
      },
      "source": [
        "<a href=\"https://colab.research.google.com/github/nickchak21/QuarkGluonClassifiers/blob/master/Executable_Colab_Notebooks/EFP_example_herwig.ipynb\" target=\"_parent\"><img src=\"https://colab.research.google.com/assets/colab-badge.svg\" alt=\"Open In Colab\"/></a>"
      ]
    },
    {
      "cell_type": "code",
      "metadata": {
        "id": "EDQHdFMzRKws",
        "colab_type": "code",
        "outputId": "92ae7102-4bb9-4447-915b-4e72b9c1d524",
        "colab": {
          "base_uri": "https://localhost:8080/",
          "height": 136
        }
      },
      "source": [
        "!pip install energyflow\n",
        "!pip install h5py"
      ],
      "execution_count": 1,
      "outputs": [
        {
          "output_type": "stream",
          "text": [
            "Requirement already satisfied: energyflow in /usr/local/lib/python3.6/dist-packages (1.0.0)\n",
            "Requirement already satisfied: six>=1.10.0 in /usr/local/lib/python3.6/dist-packages (from energyflow) (1.12.0)\n",
            "Requirement already satisfied: h5py>=2.9.0 in /usr/local/lib/python3.6/dist-packages (from energyflow) (2.10.0)\n",
            "Requirement already satisfied: numpy>=1.14.0 in /usr/local/lib/python3.6/dist-packages (from energyflow) (1.17.4)\n",
            "Requirement already satisfied: h5py in /usr/local/lib/python3.6/dist-packages (2.10.0)\n",
            "Requirement already satisfied: six in /usr/local/lib/python3.6/dist-packages (from h5py) (1.12.0)\n",
            "Requirement already satisfied: numpy>=1.7 in /usr/local/lib/python3.6/dist-packages (from h5py) (1.17.4)\n"
          ],
          "name": "stdout"
        }
      ]
    },
    {
      "cell_type": "code",
      "metadata": {
        "id": "jCY1hm8xSJyX",
        "colab_type": "code",
        "outputId": "eb3d3856-d325-49f4-eab1-4753791b072b",
        "colab": {
          "base_uri": "https://localhost:8080/",
          "height": 34
        }
      },
      "source": [
        "!python --version"
      ],
      "execution_count": 2,
      "outputs": [
        {
          "output_type": "stream",
          "text": [
            "Python 3.6.8\n"
          ],
          "name": "stdout"
        }
      ]
    },
    {
      "cell_type": "code",
      "metadata": {
        "id": "1r3rd5lMSYiH",
        "colab_type": "code",
        "outputId": "1793f9a7-768d-4dc2-eb26-898a60f9ef36",
        "colab": {
          "base_uri": "https://localhost:8080/",
          "height": 85
        }
      },
      "source": [
        "!pip install POT"
      ],
      "execution_count": 3,
      "outputs": [
        {
          "output_type": "stream",
          "text": [
            "Requirement already satisfied: POT in /usr/local/lib/python3.6/dist-packages (0.6.0)\n",
            "Requirement already satisfied: scipy in /usr/local/lib/python3.6/dist-packages (from POT) (1.3.2)\n",
            "Requirement already satisfied: cython in /usr/local/lib/python3.6/dist-packages (from POT) (0.29.14)\n",
            "Requirement already satisfied: numpy in /usr/local/lib/python3.6/dist-packages (from POT) (1.17.4)\n"
          ],
          "name": "stdout"
        }
      ]
    },
    {
      "cell_type": "code",
      "metadata": {
        "id": "jjupFyDlShn7",
        "colab_type": "code",
        "outputId": "d016d913-4f76-4c5c-ba24-479382d9227a",
        "colab": {
          "base_uri": "https://localhost:8080/",
          "height": 153
        }
      },
      "source": [
        "!python -c \"import energyflow; energyflow.utils.get_examples()\""
      ],
      "execution_count": 4,
      "outputs": [
        {
          "output_type": "stream",
          "text": [
            "\n",
            "Summary of examples:\n",
            "dnn_example.py exists at /root/.energyflow/examples\n",
            "efn_example.py exists at /root/.energyflow/examples\n",
            "efp_example.py exists at /root/.energyflow/examples\n",
            "pfn_example.py exists at /root/.energyflow/examples\n",
            "cnn_example.py exists at /root/.energyflow/examples\n",
            "\n"
          ],
          "name": "stdout"
        }
      ]
    },
    {
      "cell_type": "code",
      "metadata": {
        "id": "XW9kMlHCziA2",
        "colab_type": "code",
        "colab": {}
      },
      "source": [
        "%pycat /root/.energyflow/examples/efp_example.py"
      ],
      "execution_count": 0,
      "outputs": []
    },
    {
      "cell_type": "code",
      "metadata": {
        "id": "JDU3Ko0SzvJK",
        "colab_type": "code",
        "colab": {}
      },
      "source": [
        "rm /root/.energyflow/examples/efp_example.py"
      ],
      "execution_count": 0,
      "outputs": []
    },
    {
      "cell_type": "code",
      "metadata": {
        "id": "2spgYY-azxMn",
        "colab_type": "code",
        "outputId": "69f08b0e-c7b1-4f8a-a5a8-497d633af85f",
        "colab": {
          "base_uri": "https://localhost:8080/",
          "height": 34
        }
      },
      "source": [
        "%%writefile /root/.energyflow/examples/efp_example.py\n",
        "\"\"\"An example involving Energy Flow Polynomials (EFPs) and a linear\n",
        "classifier (Fisher's Linear Discriminant by default). First, the \n",
        "[`EFPSet`](../docs/efp/#efpset) class is used to compute the EFPs\n",
        "up to the specified `dmax`, the default being `dmax=5`. Then linear\n",
        "classifiers are trained for different numbers of EFPs as input, \n",
        "determined by taking all EFPs up to degree `d` with `d` from `1` \n",
        "to `dmax`. The output of the example is a plot of the ROC curves\n",
        "for the classifiers with different numbers of EFP inputs.\n",
        "\"\"\"\n",
        "\n",
        "# standard library imports\n",
        "from __future__ import absolute_import, division, print_function\n",
        "\n",
        "# standard numerical library imports\n",
        "import numpy as np\n",
        "\n",
        "# energyflow imports\n",
        "import energyflow as ef\n",
        "from energyflow.archs import LinearClassifier\n",
        "from energyflow.datasets import qg_jets\n",
        "from energyflow.utils import data_split, standardize, to_categorical\n",
        "\n",
        "# attempt to import sklearn\n",
        "try:\n",
        "    from sklearn.metrics import roc_auc_score, roc_curve\n",
        "except:\n",
        "    print('please install scikit-learn in order to make ROC curves')\n",
        "    roc_curve = False\n",
        "\n",
        "# attempt to import matplotlib\n",
        "try:\n",
        "    import matplotlib.pyplot as plt\n",
        "except:\n",
        "    print('please install matploltib in order to make plots')\n",
        "    plt = False\n",
        "\n",
        "################################### SETTINGS ###################################\n",
        "\n",
        "# data controls\n",
        "num_data = 20000\n",
        "test_frac = 0.2\n",
        "\n",
        "# efp parameters\n",
        "dmax = 5\n",
        "measure = 'hadr'\n",
        "beta = 0.5\n",
        "\n",
        "# plotting\n",
        "colors = ['tab:red', 'tab:orange', 'tab:olive', 'tab:green', 'tab:blue']\n",
        "\n",
        "################################################################################\n",
        "\n",
        "# load data\n",
        "X, y = qg_jets.load(num_data=num_data, generator='herwig')\n",
        "\n",
        "print('Loaded quark and gluon jets')\n",
        "\n",
        "# calculate EFPs\n",
        "print('Calculating d <= {} EFPs for {} jets... '.format(dmax, num_data), end='')\n",
        "efpset = ef.EFPSet(('d<=', dmax), measure='hadr', beta=beta)\n",
        "masked_X = [x[x[:,0] > 0] for x in X]\n",
        "X = efpset.batch_compute(masked_X)\n",
        "print('Done')\n",
        "\n",
        "# train models with different numbers of EFPs as input\n",
        "rocs = []\n",
        "for d in range(1, dmax+1):\n",
        "\n",
        "    # build architecture\n",
        "    model = LinearClassifier(linclass_type='lda')\n",
        "\n",
        "    # select EFPs with degree <= d\n",
        "    X_d = X[:,efpset.sel(('d<=', d))]\n",
        "\n",
        "    # do train/val/test split \n",
        "    (X_train, X_test, y_train, y_test) = data_split(X_d, y, val=0, test=test_frac)\n",
        "    print('Done train/val/test split')\n",
        "\n",
        "    # train model\n",
        "    model.fit(X_train, y_train)\n",
        "\n",
        "    # get predictions on test data\n",
        "    preds = model.predict(X_test)\n",
        "\n",
        "    # get ROC curve if we have sklearn\n",
        "    if roc_curve:\n",
        "        rocs.append(roc_curve(y_test, preds[:,1]))\n",
        "\n",
        "        # get area under the ROC curve\n",
        "        auc = roc_auc_score(y_test, preds[:,1])\n",
        "        print()\n",
        "        print('EFPs d <= {} AUC:'.format(d), auc)\n",
        "        print()\n",
        "\n",
        "# make ROC curve plot if we have matplotlib\n",
        "if plt:\n",
        "\n",
        "    # some nicer plot settings \n",
        "    plt.rcParams['figure.figsize'] = (4,4)\n",
        "    plt.rcParams['font.family'] = 'serif'\n",
        "    plt.rcParams['figure.autolayout'] = True\n",
        "\n",
        "    # iterate over the ROC curves and plot them\n",
        "    for i,d in enumerate(range(1, dmax+1)):\n",
        "        plt.plot(rocs[i][1], 1-rocs[i][0], '-', color=colors[i], \n",
        "                                                label='LDA: d <= {} EFPs'.format(d))\n",
        "\n",
        "    # axes labels\n",
        "    plt.xlabel('Quark Jet Efficiency')\n",
        "    plt.ylabel('Gluon Jet Rejection')\n",
        "\n",
        "    # axes limits\n",
        "    plt.xlim(0, 1)\n",
        "    plt.ylim(0, 1)\n",
        "\n",
        "    # make legend and show plot\n",
        "    plt.legend(loc='lower left', frameon=False)\n",
        "    plt.show()"
      ],
      "execution_count": 7,
      "outputs": [
        {
          "output_type": "stream",
          "text": [
            "Writing /root/.energyflow/examples/efp_example.py\n"
          ],
          "name": "stdout"
        }
      ]
    },
    {
      "cell_type": "code",
      "metadata": {
        "id": "Lq8SY4RuSl6B",
        "colab_type": "code",
        "outputId": "b762bd3d-fb42-4a11-8daa-fe93a15d1da7",
        "colab": {
          "base_uri": "https://localhost:8080/",
          "height": 425
        }
      },
      "source": [
        "!python /root/.energyflow/examples/efp_example.py"
      ],
      "execution_count": 8,
      "outputs": [
        {
          "output_type": "stream",
          "text": [
            "Using TensorFlow backend.\n",
            "Loaded quark and gluon jets\n",
            "Calculating d <= 5 EFPs for 20000 jets... Done\n",
            "Done train/val/test split\n",
            "\n",
            "EFPs d <= 1 AUC: 0.7552307589982707\n",
            "\n",
            "Done train/val/test split\n",
            "\n",
            "EFPs d <= 2 AUC: 0.7800405297372695\n",
            "\n",
            "Done train/val/test split\n",
            "\n",
            "EFPs d <= 3 AUC: 0.8161331574901088\n",
            "\n",
            "Done train/val/test split\n",
            "\n",
            "EFPs d <= 4 AUC: 0.8027408986723522\n",
            "\n",
            "Done train/val/test split\n",
            "\n",
            "EFPs d <= 5 AUC: 0.8237154861944778\n",
            "\n",
            "<Figure size 400x400 with 1 Axes>\n"
          ],
          "name": "stdout"
        }
      ]
    }
  ]
}