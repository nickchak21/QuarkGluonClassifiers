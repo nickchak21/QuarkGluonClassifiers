{
  "nbformat": 4,
  "nbformat_minor": 0,
  "metadata": {
    "colab": {
      "name": "SIM_particle_distribution_by_event.ipynb",
      "provenance": [],
      "machine_shape": "hm",
      "include_colab_link": true
    },
    "kernelspec": {
      "name": "python3",
      "display_name": "Python 3"
    },
    "accelerator": "GPU"
  },
  "cells": [
    {
      "cell_type": "markdown",
      "metadata": {
        "id": "view-in-github",
        "colab_type": "text"
      },
      "source": [
        "<a href=\"https://colab.research.google.com/github/nickchak21/QuarkGluonClassifiers/blob/master/Executable_Colab_Notebooks/SIM_particle_distribution_by_event.ipynb\" target=\"_parent\"><img src=\"https://colab.research.google.com/assets/colab-badge.svg\" alt=\"Open In Colab\"/></a>"
      ]
    },
    {
      "cell_type": "markdown",
      "metadata": {
        "id": "DRWcir9gQvSw",
        "colab_type": "text"
      },
      "source": [
        "Installing the energyflow and h5py packages in the Colab environment"
      ]
    },
    {
      "cell_type": "code",
      "metadata": {
        "id": "EDQHdFMzRKws",
        "colab_type": "code",
        "outputId": "e7865151-a1a5-4653-bbf1-9d16005d961f",
        "colab": {
          "base_uri": "https://localhost:8080/",
          "height": 289
        }
      },
      "source": [
        "!pip install energyflow\n",
        "!pip install h5py"
      ],
      "execution_count": 1,
      "outputs": [
        {
          "output_type": "stream",
          "text": [
            "Collecting energyflow\n",
            "\u001b[?25l  Downloading https://files.pythonhosted.org/packages/ae/45/acf4909dfffb6e5712f14f8ca4f3708fafea36b348854e0a5e38860bfda7/EnergyFlow-1.0.2-py2.py3-none-any.whl (688kB)\n",
            "\u001b[K     |████████████████████████████████| 696kB 2.8MB/s \n",
            "\u001b[?25hCollecting h5py>=2.9.0\n",
            "\u001b[?25l  Downloading https://files.pythonhosted.org/packages/60/06/cafdd44889200e5438b897388f3075b52a8ef01f28a17366d91de0fa2d05/h5py-2.10.0-cp36-cp36m-manylinux1_x86_64.whl (2.9MB)\n",
            "\u001b[K     |████████████████████████████████| 2.9MB 15.1MB/s \n",
            "\u001b[?25hRequirement already satisfied: six>=1.10.0 in /usr/local/lib/python3.6/dist-packages (from energyflow) (1.12.0)\n",
            "Requirement already satisfied: numpy>=1.14.0 in /usr/local/lib/python3.6/dist-packages (from energyflow) (1.17.5)\n",
            "Installing collected packages: h5py, energyflow\n",
            "  Found existing installation: h5py 2.8.0\n",
            "    Uninstalling h5py-2.8.0:\n",
            "      Successfully uninstalled h5py-2.8.0\n",
            "Successfully installed energyflow-1.0.2 h5py-2.10.0\n",
            "Requirement already satisfied: h5py in /usr/local/lib/python3.6/dist-packages (2.10.0)\n",
            "Requirement already satisfied: six in /usr/local/lib/python3.6/dist-packages (from h5py) (1.12.0)\n",
            "Requirement already satisfied: numpy>=1.7 in /usr/local/lib/python3.6/dist-packages (from h5py) (1.17.5)\n"
          ],
          "name": "stdout"
        }
      ]
    },
    {
      "cell_type": "markdown",
      "metadata": {
        "id": "J0wZtFAmQ0cg",
        "colab_type": "text"
      },
      "source": [
        "Checking the version of Python (should be Python 3.6)"
      ]
    },
    {
      "cell_type": "code",
      "metadata": {
        "id": "jCY1hm8xSJyX",
        "colab_type": "code",
        "outputId": "d8988ca8-7546-4bd1-b33e-65043934521b",
        "colab": {
          "base_uri": "https://localhost:8080/",
          "height": 34
        }
      },
      "source": [
        "!python --version"
      ],
      "execution_count": 2,
      "outputs": [
        {
          "output_type": "stream",
          "text": [
            "Python 3.6.9\n"
          ],
          "name": "stdout"
        }
      ]
    },
    {
      "cell_type": "markdown",
      "metadata": {
        "id": "ZkXnXmYRQ39U",
        "colab_type": "text"
      },
      "source": [
        "Installing POT (Python Optimal Transform) package"
      ]
    },
    {
      "cell_type": "code",
      "metadata": {
        "id": "1r3rd5lMSYiH",
        "colab_type": "code",
        "outputId": "b8ee6ff5-b89c-4221-ff64-47934d3cdeec",
        "colab": {
          "base_uri": "https://localhost:8080/",
          "height": 153
        }
      },
      "source": [
        "!pip install POT"
      ],
      "execution_count": 3,
      "outputs": [
        {
          "output_type": "stream",
          "text": [
            "Collecting POT\n",
            "\u001b[?25l  Downloading https://files.pythonhosted.org/packages/15/36/07d3c0960a590b88b81fa1837e666cc7479b90c7e9fd1063024ce9331122/POT-0.6.0-cp36-cp36m-manylinux1_x86_64.whl (305kB)\n",
            "\r\u001b[K     |█                               | 10kB 22.2MB/s eta 0:00:01\r\u001b[K     |██▏                             | 20kB 1.7MB/s eta 0:00:01\r\u001b[K     |███▏                            | 30kB 2.0MB/s eta 0:00:01\r\u001b[K     |████▎                           | 40kB 1.7MB/s eta 0:00:01\r\u001b[K     |█████▍                          | 51kB 1.9MB/s eta 0:00:01\r\u001b[K     |██████▍                         | 61kB 2.2MB/s eta 0:00:01\r\u001b[K     |███████▌                        | 71kB 2.4MB/s eta 0:00:01\r\u001b[K     |████████▋                       | 81kB 2.6MB/s eta 0:00:01\r\u001b[K     |█████████▋                      | 92kB 2.9MB/s eta 0:00:01\r\u001b[K     |██████████▊                     | 102kB 2.7MB/s eta 0:00:01\r\u001b[K     |███████████▉                    | 112kB 2.7MB/s eta 0:00:01\r\u001b[K     |████████████▉                   | 122kB 2.7MB/s eta 0:00:01\r\u001b[K     |██████████████                  | 133kB 2.7MB/s eta 0:00:01\r\u001b[K     |███████████████                 | 143kB 2.7MB/s eta 0:00:01\r\u001b[K     |████████████████                | 153kB 2.7MB/s eta 0:00:01\r\u001b[K     |█████████████████▏              | 163kB 2.7MB/s eta 0:00:01\r\u001b[K     |██████████████████▎             | 174kB 2.7MB/s eta 0:00:01\r\u001b[K     |███████████████████▎            | 184kB 2.7MB/s eta 0:00:01\r\u001b[K     |████████████████████▍           | 194kB 2.7MB/s eta 0:00:01\r\u001b[K     |█████████████████████▍          | 204kB 2.7MB/s eta 0:00:01\r\u001b[K     |██████████████████████▌         | 215kB 2.7MB/s eta 0:00:01\r\u001b[K     |███████████████████████▋        | 225kB 2.7MB/s eta 0:00:01\r\u001b[K     |████████████████████████▋       | 235kB 2.7MB/s eta 0:00:01\r\u001b[K     |█████████████████████████▊      | 245kB 2.7MB/s eta 0:00:01\r\u001b[K     |██████████████████████████▉     | 256kB 2.7MB/s eta 0:00:01\r\u001b[K     |███████████████████████████▉    | 266kB 2.7MB/s eta 0:00:01\r\u001b[K     |█████████████████████████████   | 276kB 2.7MB/s eta 0:00:01\r\u001b[K     |██████████████████████████████  | 286kB 2.7MB/s eta 0:00:01\r\u001b[K     |███████████████████████████████ | 296kB 2.7MB/s eta 0:00:01\r\u001b[K     |████████████████████████████████| 307kB 2.7MB/s \n",
            "\u001b[?25hRequirement already satisfied: numpy in /usr/local/lib/python3.6/dist-packages (from POT) (1.17.5)\n",
            "Requirement already satisfied: scipy in /usr/local/lib/python3.6/dist-packages (from POT) (1.4.1)\n",
            "Requirement already satisfied: cython in /usr/local/lib/python3.6/dist-packages (from POT) (0.29.14)\n",
            "Installing collected packages: POT\n",
            "Successfully installed POT-0.6.0\n"
          ],
          "name": "stdout"
        }
      ]
    },
    {
      "cell_type": "code",
      "metadata": {
        "id": "el6J6AycStE6",
        "colab_type": "code",
        "outputId": "f29a7c42-f357-42b2-fcfe-bb8bae4dedf0",
        "colab": {
          "base_uri": "https://localhost:8080/",
          "height": 102
        }
      },
      "source": [
        "%tensorflow_version 1.x #specifies that we want to use TensorFlow 1 (the default on Colab is going to switch soon)"
      ],
      "execution_count": 4,
      "outputs": [
        {
          "output_type": "stream",
          "text": [
            "`%tensorflow_version` only switches the major version: `1.x` or `2.x`.\n",
            "You set: `1.x #specifies that we want to use TensorFlow 1 (the default on Colab is going to switch soon)`. This will be interpreted as: `1.x`.\n",
            "\n",
            "\n",
            "TensorFlow 1.x selected.\n"
          ],
          "name": "stdout"
        }
      ]
    },
    {
      "cell_type": "markdown",
      "metadata": {
        "id": "6v70Mc5xH4G-",
        "colab_type": "text"
      },
      "source": [
        "Import all necessary packages"
      ]
    },
    {
      "cell_type": "code",
      "metadata": {
        "id": "Hvf25N8fGqfv",
        "colab_type": "code",
        "colab": {}
      },
      "source": [
        "# standard library imports\n",
        "from __future__ import absolute_import, division, print_function\n",
        "\n",
        "# standard numerical library imports\n",
        "import numpy as np\n",
        "\n",
        "# energyflow imports\n",
        "import energyflow as ef\n",
        "from energyflow.archs import PFN\n",
        "from energyflow.datasets import qg_jets\n",
        "from energyflow.utils import data_split, remap_pids, to_categorical\n",
        "\n",
        "# attempt to import sklearn\n",
        "try:\n",
        "    from sklearn.metrics import roc_auc_score, roc_curve\n",
        "except:\n",
        "    print('please install scikit-learn in order to make ROC curves')\n",
        "    roc_curve = False\n",
        "\n",
        "# attempt to import matplotlib\n",
        "try:\n",
        "    import matplotlib.pyplot as plt\n",
        "except:\n",
        "    print('please install matplotlib in order to make plots')\n",
        "    plt = False\n"
      ],
      "execution_count": 0,
      "outputs": []
    },
    {
      "cell_type": "markdown",
      "metadata": {
        "id": "EHknI8JqGrFC",
        "colab_type": "text"
      },
      "source": [
        "Load particle distribution from CMS Open Data"
      ]
    },
    {
      "cell_type": "code",
      "metadata": {
        "id": "jneN4tyrG4CS",
        "colab_type": "code",
        "outputId": "4f0b5ddf-e19f-45d5-f187-3b733a2a6f0c",
        "colab": {
          "base_uri": "https://localhost:8080/",
          "height": 1000
        }
      },
      "source": [
        "# load data\n",
        "specs = ['375 <= corr_jet_pts <= 425', 'abs_jet_eta < 1.9', 'quality >= 2']\n",
        "amount = 0.2\n",
        "sim = ef.mod.load(*specs, dataset='sim', amount=amount)\n",
        "print(\"Number of jets: \", len(sim))\n",
        "\n",
        "print(\"Max: \", np.amax(sim.jet_ms))\n",
        "print(\"Min: \", np.amin(sim.jet_ms))"
      ],
      "execution_count": 7,
      "outputs": [
        {
          "output_type": "stream",
          "text": [
            "Downloading SIM170_Jet300_pT375-infGeV_0_compressed.h5 from https://zenodo.org/record/3341500/files/SIM170_Jet300_pT375-infGeV_0_compressed.h5?download=1 to /root/.energyflow/datasets/CMS2011AJets/SIM170_Jet300_pT375-infGeV\n",
            "Downloading SIM300_Jet300_pT375-infGeV_0_compressed.h5 from https://zenodo.org/record/3341498/files/SIM300_Jet300_pT375-infGeV_0_compressed.h5?download=1 to /root/.energyflow/datasets/CMS2011AJets/SIM300_Jet300_pT375-infGeV\n",
            "Downloading SIM300_Jet300_pT375-infGeV_1_compressed.h5 from https://zenodo.org/record/3341498/files/SIM300_Jet300_pT375-infGeV_1_compressed.h5?download=1 to /root/.energyflow/datasets/CMS2011AJets/SIM300_Jet300_pT375-infGeV\n",
            "Downloading SIM300_Jet300_pT375-infGeV_2_compressed.h5 from https://zenodo.org/record/3341498/files/SIM300_Jet300_pT375-infGeV_2_compressed.h5?download=1 to /root/.energyflow/datasets/CMS2011AJets/SIM300_Jet300_pT375-infGeV\n",
            "Downloading SIM300_Jet300_pT375-infGeV_3_compressed.h5 from https://zenodo.org/record/3341498/files/SIM300_Jet300_pT375-infGeV_3_compressed.h5?download=1 to /root/.energyflow/datasets/CMS2011AJets/SIM300_Jet300_pT375-infGeV\n",
            "Downloading SIM300_Jet300_pT375-infGeV_4_compressed.h5 from https://zenodo.org/record/3341498/files/SIM300_Jet300_pT375-infGeV_4_compressed.h5?download=1 to /root/.energyflow/datasets/CMS2011AJets/SIM300_Jet300_pT375-infGeV\n",
            "Downloading SIM470_Jet300_pT375-infGeV_0_compressed.h5 from https://zenodo.org/record/3341419/files/SIM470_Jet300_pT375-infGeV_0_compressed.h5?download=1 to /root/.energyflow/datasets/CMS2011AJets/SIM470_Jet300_pT375-infGeV\n",
            "Downloading SIM470_Jet300_pT375-infGeV_1_compressed.h5 from https://zenodo.org/record/3341419/files/SIM470_Jet300_pT375-infGeV_1_compressed.h5?download=1 to /root/.energyflow/datasets/CMS2011AJets/SIM470_Jet300_pT375-infGeV\n",
            "Downloading SIM470_Jet300_pT375-infGeV_2_compressed.h5 from https://zenodo.org/record/3341419/files/SIM470_Jet300_pT375-infGeV_2_compressed.h5?download=1 to /root/.energyflow/datasets/CMS2011AJets/SIM470_Jet300_pT375-infGeV\n",
            "Downloading SIM470_Jet300_pT375-infGeV_3_compressed.h5 from https://zenodo.org/record/3341419/files/SIM470_Jet300_pT375-infGeV_3_compressed.h5?download=1 to /root/.energyflow/datasets/CMS2011AJets/SIM470_Jet300_pT375-infGeV\n",
            "Downloading SIM470_Jet300_pT375-infGeV_4_compressed.h5 from https://zenodo.org/record/3341419/files/SIM470_Jet300_pT375-infGeV_4_compressed.h5?download=1 to /root/.energyflow/datasets/CMS2011AJets/SIM470_Jet300_pT375-infGeV\n",
            "Downloading SIM470_Jet300_pT375-infGeV_5_compressed.h5 from https://zenodo.org/record/3341419/files/SIM470_Jet300_pT375-infGeV_5_compressed.h5?download=1 to /root/.energyflow/datasets/CMS2011AJets/SIM470_Jet300_pT375-infGeV\n",
            "Downloading SIM470_Jet300_pT375-infGeV_6_compressed.h5 from https://zenodo.org/record/3341419/files/SIM470_Jet300_pT375-infGeV_6_compressed.h5?download=1 to /root/.energyflow/datasets/CMS2011AJets/SIM470_Jet300_pT375-infGeV\n",
            "Downloading SIM470_Jet300_pT375-infGeV_7_compressed.h5 from https://zenodo.org/record/3341419/files/SIM470_Jet300_pT375-infGeV_7_compressed.h5?download=1 to /root/.energyflow/datasets/CMS2011AJets/SIM470_Jet300_pT375-infGeV\n",
            "Downloading SIM470_Jet300_pT375-infGeV_8_compressed.h5 from https://zenodo.org/record/3341419/files/SIM470_Jet300_pT375-infGeV_8_compressed.h5?download=1 to /root/.energyflow/datasets/CMS2011AJets/SIM470_Jet300_pT375-infGeV\n",
            "Downloading SIM470_Jet300_pT375-infGeV_9_compressed.h5 from https://zenodo.org/record/3341419/files/SIM470_Jet300_pT375-infGeV_9_compressed.h5?download=1 to /root/.energyflow/datasets/CMS2011AJets/SIM470_Jet300_pT375-infGeV\n",
            "Downloading SIM470_Jet300_pT375-infGeV_10_compressed.h5 from https://zenodo.org/record/3341419/files/SIM470_Jet300_pT375-infGeV_10_compressed.h5?download=1 to /root/.energyflow/datasets/CMS2011AJets/SIM470_Jet300_pT375-infGeV\n",
            "Downloading SIM470_Jet300_pT375-infGeV_11_compressed.h5 from https://zenodo.org/record/3341419/files/SIM470_Jet300_pT375-infGeV_11_compressed.h5?download=1 to /root/.energyflow/datasets/CMS2011AJets/SIM470_Jet300_pT375-infGeV\n",
            "Downloading SIM470_Jet300_pT375-infGeV_12_compressed.h5 from https://zenodo.org/record/3341419/files/SIM470_Jet300_pT375-infGeV_12_compressed.h5?download=1 to /root/.energyflow/datasets/CMS2011AJets/SIM470_Jet300_pT375-infGeV\n",
            "Downloading SIM470_Jet300_pT375-infGeV_13_compressed.h5 from https://zenodo.org/record/3341419/files/SIM470_Jet300_pT375-infGeV_13_compressed.h5?download=1 to /root/.energyflow/datasets/CMS2011AJets/SIM470_Jet300_pT375-infGeV\n",
            "Downloading SIM470_Jet300_pT375-infGeV_14_compressed.h5 from https://zenodo.org/record/3341419/files/SIM470_Jet300_pT375-infGeV_14_compressed.h5?download=1 to /root/.energyflow/datasets/CMS2011AJets/SIM470_Jet300_pT375-infGeV\n",
            "Downloading SIM600_Jet300_pT375-infGeV_0_compressed.h5 from https://zenodo.org/record/3364139/files/SIM600_Jet300_pT375-infGeV_0_compressed.h5?download=1 to /root/.energyflow/datasets/CMS2011AJets/SIM600_Jet300_pT375-infGeV\n",
            "Downloading SIM600_Jet300_pT375-infGeV_1_compressed.h5 from https://zenodo.org/record/3364139/files/SIM600_Jet300_pT375-infGeV_1_compressed.h5?download=1 to /root/.energyflow/datasets/CMS2011AJets/SIM600_Jet300_pT375-infGeV\n",
            "Downloading SIM600_Jet300_pT375-infGeV_2_compressed.h5 from https://zenodo.org/record/3364139/files/SIM600_Jet300_pT375-infGeV_2_compressed.h5?download=1 to /root/.energyflow/datasets/CMS2011AJets/SIM600_Jet300_pT375-infGeV\n",
            "Downloading SIM600_Jet300_pT375-infGeV_3_compressed.h5 from https://zenodo.org/record/3364139/files/SIM600_Jet300_pT375-infGeV_3_compressed.h5?download=1 to /root/.energyflow/datasets/CMS2011AJets/SIM600_Jet300_pT375-infGeV\n",
            "Downloading SIM600_Jet300_pT375-infGeV_4_compressed.h5 from https://zenodo.org/record/3364139/files/SIM600_Jet300_pT375-infGeV_4_compressed.h5?download=1 to /root/.energyflow/datasets/CMS2011AJets/SIM600_Jet300_pT375-infGeV\n",
            "Downloading SIM600_Jet300_pT375-infGeV_5_compressed.h5 from https://zenodo.org/record/3364139/files/SIM600_Jet300_pT375-infGeV_5_compressed.h5?download=1 to /root/.energyflow/datasets/CMS2011AJets/SIM600_Jet300_pT375-infGeV\n",
            "Downloading SIM600_Jet300_pT375-infGeV_6_compressed.h5 from https://zenodo.org/record/3364139/files/SIM600_Jet300_pT375-infGeV_6_compressed.h5?download=1 to /root/.energyflow/datasets/CMS2011AJets/SIM600_Jet300_pT375-infGeV\n",
            "Downloading SIM600_Jet300_pT375-infGeV_7_compressed.h5 from https://zenodo.org/record/3364139/files/SIM600_Jet300_pT375-infGeV_7_compressed.h5?download=1 to /root/.energyflow/datasets/CMS2011AJets/SIM600_Jet300_pT375-infGeV\n",
            "Downloading SIM600_Jet300_pT375-infGeV_8_compressed.h5 from https://zenodo.org/record/3364139/files/SIM600_Jet300_pT375-infGeV_8_compressed.h5?download=1 to /root/.energyflow/datasets/CMS2011AJets/SIM600_Jet300_pT375-infGeV\n",
            "Downloading SIM600_Jet300_pT375-infGeV_9_compressed.h5 from https://zenodo.org/record/3364139/files/SIM600_Jet300_pT375-infGeV_9_compressed.h5?download=1 to /root/.energyflow/datasets/CMS2011AJets/SIM600_Jet300_pT375-infGeV\n",
            "Downloading SIM600_Jet300_pT375-infGeV_10_compressed.h5 from https://zenodo.org/record/3364139/files/SIM600_Jet300_pT375-infGeV_10_compressed.h5?download=1 to /root/.energyflow/datasets/CMS2011AJets/SIM600_Jet300_pT375-infGeV\n",
            "Downloading SIM600_Jet300_pT375-infGeV_11_compressed.h5 from https://zenodo.org/record/3364139/files/SIM600_Jet300_pT375-infGeV_11_compressed.h5?download=1 to /root/.energyflow/datasets/CMS2011AJets/SIM600_Jet300_pT375-infGeV\n",
            "Downloading SIM600_Jet300_pT375-infGeV_12_compressed.h5 from https://zenodo.org/record/3364139/files/SIM600_Jet300_pT375-infGeV_12_compressed.h5?download=1 to /root/.energyflow/datasets/CMS2011AJets/SIM600_Jet300_pT375-infGeV\n",
            "Downloading SIM600_Jet300_pT375-infGeV_13_compressed.h5 from https://zenodo.org/record/3364139/files/SIM600_Jet300_pT375-infGeV_13_compressed.h5?download=1 to /root/.energyflow/datasets/CMS2011AJets/SIM600_Jet300_pT375-infGeV\n",
            "Downloading SIM600_Jet300_pT375-infGeV_14_compressed.h5 from https://zenodo.org/record/3364139/files/SIM600_Jet300_pT375-infGeV_14_compressed.h5?download=1 to /root/.energyflow/datasets/CMS2011AJets/SIM600_Jet300_pT375-infGeV\n",
            "Downloading SIM600_Jet300_pT375-infGeV_15_compressed.h5 from https://zenodo.org/record/3364139/files/SIM600_Jet300_pT375-infGeV_15_compressed.h5?download=1 to /root/.energyflow/datasets/CMS2011AJets/SIM600_Jet300_pT375-infGeV\n",
            "Downloading SIM800_Jet300_pT375-infGeV_0_compressed.h5 from https://zenodo.org/record/3341413/files/SIM800_Jet300_pT375-infGeV_0_compressed.h5?download=1 to /root/.energyflow/datasets/CMS2011AJets/SIM800_Jet300_pT375-infGeV\n",
            "Downloading SIM800_Jet300_pT375-infGeV_1_compressed.h5 from https://zenodo.org/record/3341413/files/SIM800_Jet300_pT375-infGeV_1_compressed.h5?download=1 to /root/.energyflow/datasets/CMS2011AJets/SIM800_Jet300_pT375-infGeV\n",
            "Downloading SIM800_Jet300_pT375-infGeV_2_compressed.h5 from https://zenodo.org/record/3341413/files/SIM800_Jet300_pT375-infGeV_2_compressed.h5?download=1 to /root/.energyflow/datasets/CMS2011AJets/SIM800_Jet300_pT375-infGeV\n",
            "Downloading SIM800_Jet300_pT375-infGeV_3_compressed.h5 from https://zenodo.org/record/3341413/files/SIM800_Jet300_pT375-infGeV_3_compressed.h5?download=1 to /root/.energyflow/datasets/CMS2011AJets/SIM800_Jet300_pT375-infGeV\n",
            "Downloading SIM800_Jet300_pT375-infGeV_4_compressed.h5 from https://zenodo.org/record/3341413/files/SIM800_Jet300_pT375-infGeV_4_compressed.h5?download=1 to /root/.energyflow/datasets/CMS2011AJets/SIM800_Jet300_pT375-infGeV\n",
            "Downloading SIM800_Jet300_pT375-infGeV_5_compressed.h5 from https://zenodo.org/record/3341413/files/SIM800_Jet300_pT375-infGeV_5_compressed.h5?download=1 to /root/.energyflow/datasets/CMS2011AJets/SIM800_Jet300_pT375-infGeV\n",
            "Downloading SIM800_Jet300_pT375-infGeV_6_compressed.h5 from https://zenodo.org/record/3341413/files/SIM800_Jet300_pT375-infGeV_6_compressed.h5?download=1 to /root/.energyflow/datasets/CMS2011AJets/SIM800_Jet300_pT375-infGeV\n",
            "Downloading SIM800_Jet300_pT375-infGeV_7_compressed.h5 from https://zenodo.org/record/3341413/files/SIM800_Jet300_pT375-infGeV_7_compressed.h5?download=1 to /root/.energyflow/datasets/CMS2011AJets/SIM800_Jet300_pT375-infGeV\n",
            "Downloading SIM800_Jet300_pT375-infGeV_8_compressed.h5 from https://zenodo.org/record/3341413/files/SIM800_Jet300_pT375-infGeV_8_compressed.h5?download=1 to /root/.energyflow/datasets/CMS2011AJets/SIM800_Jet300_pT375-infGeV\n",
            "Downloading SIM800_Jet300_pT375-infGeV_9_compressed.h5 from https://zenodo.org/record/3341413/files/SIM800_Jet300_pT375-infGeV_9_compressed.h5?download=1 to /root/.energyflow/datasets/CMS2011AJets/SIM800_Jet300_pT375-infGeV\n",
            "Downloading SIM800_Jet300_pT375-infGeV_10_compressed.h5 from https://zenodo.org/record/3341413/files/SIM800_Jet300_pT375-infGeV_10_compressed.h5?download=1 to /root/.energyflow/datasets/CMS2011AJets/SIM800_Jet300_pT375-infGeV\n",
            "Downloading SIM800_Jet300_pT375-infGeV_11_compressed.h5 from https://zenodo.org/record/3341413/files/SIM800_Jet300_pT375-infGeV_11_compressed.h5?download=1 to /root/.energyflow/datasets/CMS2011AJets/SIM800_Jet300_pT375-infGeV\n",
            "Downloading SIM800_Jet300_pT375-infGeV_12_compressed.h5 from https://zenodo.org/record/3341413/files/SIM800_Jet300_pT375-infGeV_12_compressed.h5?download=1 to /root/.energyflow/datasets/CMS2011AJets/SIM800_Jet300_pT375-infGeV\n",
            "Downloading SIM800_Jet300_pT375-infGeV_13_compressed.h5 from https://zenodo.org/record/3341413/files/SIM800_Jet300_pT375-infGeV_13_compressed.h5?download=1 to /root/.energyflow/datasets/CMS2011AJets/SIM800_Jet300_pT375-infGeV\n",
            "Downloading SIM800_Jet300_pT375-infGeV_14_compressed.h5 from https://zenodo.org/record/3341413/files/SIM800_Jet300_pT375-infGeV_14_compressed.h5?download=1 to /root/.energyflow/datasets/CMS2011AJets/SIM800_Jet300_pT375-infGeV\n",
            "Downloading SIM800_Jet300_pT375-infGeV_15_compressed.h5 from https://zenodo.org/record/3341413/files/SIM800_Jet300_pT375-infGeV_15_compressed.h5?download=1 to /root/.energyflow/datasets/CMS2011AJets/SIM800_Jet300_pT375-infGeV\n",
            "Downloading SIM1000_Jet300_pT375-infGeV_0_compressed.h5 from https://zenodo.org/record/3341502/files/SIM1000_Jet300_pT375-infGeV_0_compressed.h5?download=1 to /root/.energyflow/datasets/CMS2011AJets/SIM1000_Jet300_pT375-infGeV\n",
            "Downloading SIM1000_Jet300_pT375-infGeV_1_compressed.h5 from https://zenodo.org/record/3341502/files/SIM1000_Jet300_pT375-infGeV_1_compressed.h5?download=1 to /root/.energyflow/datasets/CMS2011AJets/SIM1000_Jet300_pT375-infGeV\n",
            "Downloading SIM1000_Jet300_pT375-infGeV_2_compressed.h5 from https://zenodo.org/record/3341502/files/SIM1000_Jet300_pT375-infGeV_2_compressed.h5?download=1 to /root/.energyflow/datasets/CMS2011AJets/SIM1000_Jet300_pT375-infGeV\n",
            "Downloading SIM1000_Jet300_pT375-infGeV_3_compressed.h5 from https://zenodo.org/record/3341502/files/SIM1000_Jet300_pT375-infGeV_3_compressed.h5?download=1 to /root/.energyflow/datasets/CMS2011AJets/SIM1000_Jet300_pT375-infGeV\n",
            "Downloading SIM1000_Jet300_pT375-infGeV_4_compressed.h5 from https://zenodo.org/record/3341502/files/SIM1000_Jet300_pT375-infGeV_4_compressed.h5?download=1 to /root/.energyflow/datasets/CMS2011AJets/SIM1000_Jet300_pT375-infGeV\n",
            "Downloading SIM1000_Jet300_pT375-infGeV_5_compressed.h5 from https://zenodo.org/record/3341502/files/SIM1000_Jet300_pT375-infGeV_5_compressed.h5?download=1 to /root/.energyflow/datasets/CMS2011AJets/SIM1000_Jet300_pT375-infGeV\n",
            "Downloading SIM1000_Jet300_pT375-infGeV_6_compressed.h5 from https://zenodo.org/record/3341502/files/SIM1000_Jet300_pT375-infGeV_6_compressed.h5?download=1 to /root/.energyflow/datasets/CMS2011AJets/SIM1000_Jet300_pT375-infGeV\n",
            "Downloading SIM1000_Jet300_pT375-infGeV_7_compressed.h5 from https://zenodo.org/record/3341502/files/SIM1000_Jet300_pT375-infGeV_7_compressed.h5?download=1 to /root/.energyflow/datasets/CMS2011AJets/SIM1000_Jet300_pT375-infGeV\n",
            "Downloading SIM1400_Jet300_pT375-infGeV_0_compressed.h5 from https://zenodo.org/record/3341770/files/SIM1400_Jet300_pT375-infGeV_0_compressed.h5?download=1 to /root/.energyflow/datasets/CMS2011AJets/SIM1400_Jet300_pT375-infGeV\n",
            "Downloading SIM1400_Jet300_pT375-infGeV_1_compressed.h5 from https://zenodo.org/record/3341770/files/SIM1400_Jet300_pT375-infGeV_1_compressed.h5?download=1 to /root/.energyflow/datasets/CMS2011AJets/SIM1400_Jet300_pT375-infGeV\n",
            "Downloading SIM1400_Jet300_pT375-infGeV_2_compressed.h5 from https://zenodo.org/record/3341770/files/SIM1400_Jet300_pT375-infGeV_2_compressed.h5?download=1 to /root/.energyflow/datasets/CMS2011AJets/SIM1400_Jet300_pT375-infGeV\n",
            "Downloading SIM1400_Jet300_pT375-infGeV_3_compressed.h5 from https://zenodo.org/record/3341770/files/SIM1400_Jet300_pT375-infGeV_3_compressed.h5?download=1 to /root/.energyflow/datasets/CMS2011AJets/SIM1400_Jet300_pT375-infGeV\n",
            "Downloading SIM1400_Jet300_pT375-infGeV_4_compressed.h5 from https://zenodo.org/record/3341770/files/SIM1400_Jet300_pT375-infGeV_4_compressed.h5?download=1 to /root/.energyflow/datasets/CMS2011AJets/SIM1400_Jet300_pT375-infGeV\n",
            "Downloading SIM1400_Jet300_pT375-infGeV_5_compressed.h5 from https://zenodo.org/record/3341770/files/SIM1400_Jet300_pT375-infGeV_5_compressed.h5?download=1 to /root/.energyflow/datasets/CMS2011AJets/SIM1400_Jet300_pT375-infGeV\n",
            "Downloading SIM1400_Jet300_pT375-infGeV_6_compressed.h5 from https://zenodo.org/record/3341770/files/SIM1400_Jet300_pT375-infGeV_6_compressed.h5?download=1 to /root/.energyflow/datasets/CMS2011AJets/SIM1400_Jet300_pT375-infGeV\n",
            "Downloading SIM1400_Jet300_pT375-infGeV_7_compressed.h5 from https://zenodo.org/record/3341770/files/SIM1400_Jet300_pT375-infGeV_7_compressed.h5?download=1 to /root/.energyflow/datasets/CMS2011AJets/SIM1400_Jet300_pT375-infGeV\n",
            "Downloading SIM1800_Jet300_pT375-infGeV_0_compressed.h5 from https://zenodo.org/record/3341772/files/SIM1800_Jet300_pT375-infGeV_0_compressed.h5?download=1 to /root/.energyflow/datasets/CMS2011AJets/SIM1800_Jet300_pT375-infGeV\n",
            "Downloading SIM1800_Jet300_pT375-infGeV_1_compressed.h5 from https://zenodo.org/record/3341772/files/SIM1800_Jet300_pT375-infGeV_1_compressed.h5?download=1 to /root/.energyflow/datasets/CMS2011AJets/SIM1800_Jet300_pT375-infGeV\n",
            "Downloading SIM1800_Jet300_pT375-infGeV_2_compressed.h5 from https://zenodo.org/record/3341772/files/SIM1800_Jet300_pT375-infGeV_2_compressed.h5?download=1 to /root/.energyflow/datasets/CMS2011AJets/SIM1800_Jet300_pT375-infGeV\n",
            "Downloading SIM1800_Jet300_pT375-infGeV_3_compressed.h5 from https://zenodo.org/record/3341772/files/SIM1800_Jet300_pT375-infGeV_3_compressed.h5?download=1 to /root/.energyflow/datasets/CMS2011AJets/SIM1800_Jet300_pT375-infGeV\n",
            "Number of jets:  504909\n",
            "Max:  143.2047119\n",
            "Min:  3.663904428\n"
          ],
          "name": "stdout"
        }
      ]
    },
    {
      "cell_type": "code",
      "metadata": {
        "id": "BaaEEAkAyx6L",
        "colab_type": "code",
        "outputId": "d3a3f1a5-268c-470d-85d4-2f29c71d8d4b",
        "colab": {
          "base_uri": "https://localhost:8080/",
          "height": 51
        }
      },
      "source": [
        "#print(sim.evns)\n",
        "#print(sim.rns)\n",
        "sim_numbers = set(sim.evns)\n",
        "run_numbers = set(sim.rns)\n",
        "#print(sim_numbers)\n",
        "#print(run_numbers) #don't need to sort by run number, since they're all the same\n",
        "print(len(sim_numbers))\n",
        "print(len(run_numbers))"
      ],
      "execution_count": 8,
      "outputs": [
        {
          "output_type": "stream",
          "text": [
            "442886\n",
            "1\n"
          ],
          "name": "stdout"
        }
      ]
    },
    {
      "cell_type": "code",
      "metadata": {
        "id": "9ymHbt5ZBONV",
        "colab_type": "code",
        "outputId": "ad1b338e-e238-4f5a-d9c6-7d577b391012",
        "colab": {
          "base_uri": "https://localhost:8080/",
          "height": 34
        }
      },
      "source": [
        "print(sim.evns[2])"
      ],
      "execution_count": 9,
      "outputs": [
        {
          "output_type": "stream",
          "text": [
            "5091631\n"
          ],
          "name": "stdout"
        }
      ]
    },
    {
      "cell_type": "code",
      "metadata": {
        "id": "aDwm3qPoD--y",
        "colab_type": "code",
        "outputId": "120e99e7-c47c-4428-bf3a-e53204d47fb9",
        "colab": {
          "base_uri": "https://localhost:8080/",
          "height": 34
        }
      },
      "source": [
        "len(sim.particles[sim.jets_i[:,sim.evn]==5091631])"
      ],
      "execution_count": 10,
      "outputs": [
        {
          "output_type": "execute_result",
          "data": {
            "text/plain": [
              "1"
            ]
          },
          "metadata": {
            "tags": []
          },
          "execution_count": 10
        }
      ]
    },
    {
      "cell_type": "markdown",
      "metadata": {
        "id": "Pl7ptrukE48Y",
        "colab_type": "text"
      },
      "source": [
        "Group by events"
      ]
    },
    {
      "cell_type": "code",
      "metadata": {
        "id": "wXOmEgTRIL_a",
        "colab_type": "code",
        "colab": {}
      },
      "source": [
        "event_list = []\n",
        "event_masses = []\n",
        "for evn_num in sim_numbers:\n",
        "    event_list.append(np.asarray(sim.particles[sim.jets_i[:,sim.evn]==evn_num]))\n",
        "    event_masses.append(np.asarray(sim.jet_ms[sim.jets_i[:,sim.evn]==evn_num]))"
      ],
      "execution_count": 0,
      "outputs": []
    },
    {
      "cell_type": "code",
      "metadata": {
        "id": "td7FZEuNLWpj",
        "colab_type": "code",
        "outputId": "1424e503-521d-4ac5-c841-3146ca3e0ef4",
        "colab": {
          "base_uri": "https://localhost:8080/",
          "height": 34
        }
      },
      "source": [
        "len(event_list)"
      ],
      "execution_count": 12,
      "outputs": [
        {
          "output_type": "execute_result",
          "data": {
            "text/plain": [
              "442886"
            ]
          },
          "metadata": {
            "tags": []
          },
          "execution_count": 12
        }
      ]
    },
    {
      "cell_type": "code",
      "metadata": {
        "id": "l0fTTUpAoIk_",
        "colab_type": "code",
        "colab": {
          "base_uri": "https://localhost:8080/",
          "height": 34
        },
        "outputId": "6a9201f0-3cb7-4176-b6cf-07a5f522a1fc"
      },
      "source": [
        "len(event_masses)"
      ],
      "execution_count": 13,
      "outputs": [
        {
          "output_type": "execute_result",
          "data": {
            "text/plain": [
              "442886"
            ]
          },
          "metadata": {
            "tags": []
          },
          "execution_count": 13
        }
      ]
    },
    {
      "cell_type": "markdown",
      "metadata": {
        "id": "pGM6_OBfE04m",
        "colab_type": "text"
      },
      "source": [
        "Select events with only 2 jets in them"
      ]
    },
    {
      "cell_type": "code",
      "metadata": {
        "id": "J_WouV7hKr_z",
        "colab_type": "code",
        "colab": {}
      },
      "source": [
        "event_list_2 = []\n",
        "indexes = []\n",
        "i = 0\n",
        "for evn in event_list:\n",
        "    if len(evn) == 2:\n",
        "      event_list_2.append(evn)\n",
        "      indexes.append(i)\n",
        "    i += 1\n",
        "event_masses_2 = [event_masses[j] for j in indexes]"
      ],
      "execution_count": 0,
      "outputs": []
    },
    {
      "cell_type": "code",
      "metadata": {
        "id": "jdL4Q35RHoiz",
        "colab_type": "code",
        "outputId": "b74d70c0-d4da-465c-cc5e-8bf327e2c80c",
        "colab": {
          "base_uri": "https://localhost:8080/",
          "height": 51
        }
      },
      "source": [
        "print(len(event_list_2))\n",
        "print(len(event_masses_2))"
      ],
      "execution_count": 15,
      "outputs": [
        {
          "output_type": "stream",
          "text": [
            "58108\n",
            "58108\n"
          ],
          "name": "stdout"
        }
      ]
    },
    {
      "cell_type": "markdown",
      "metadata": {
        "id": "8B0nbpbQbyTK",
        "colab_type": "text"
      },
      "source": [
        "Find min and max event mass"
      ]
    },
    {
      "cell_type": "code",
      "metadata": {
        "id": "nCoy03fBb0bf",
        "colab_type": "code",
        "colab": {
          "base_uri": "https://localhost:8080/",
          "height": 51
        },
        "outputId": "3160d1f2-3628-4aad-a51a-69b918322a0d"
      },
      "source": [
        "sum_mass_events_2 = [sum(event_masses[j]) for j in indexes]\n",
        "\n",
        "max_event_mass = max(sum_mass_events_2)\n",
        "min_event_mass = min(sum_mass_events_2)\n",
        "\n",
        "print(\"Max Event Mass: \", max_event_mass)\n",
        "print(\"Min Event Mass: \", min_event_mass)"
      ],
      "execution_count": 16,
      "outputs": [
        {
          "output_type": "stream",
          "text": [
            "Max Event Mass:  218.25624846\n",
            "Min Event Mass:  24.225721360999998\n"
          ],
          "name": "stdout"
        }
      ]
    },
    {
      "cell_type": "markdown",
      "metadata": {
        "id": "qjUVQF5oe8cK",
        "colab_type": "text"
      },
      "source": [
        "Divide events into mass bins - each bin is equally sized in terms of the range of masses"
      ]
    },
    {
      "cell_type": "code",
      "metadata": {
        "id": "F0SKSFYsKDpb",
        "colab_type": "code",
        "colab": {}
      },
      "source": [
        "index_bin_1 = []\n",
        "index_bin_2 = []\n",
        "index_bin_3 = []\n",
        "index_bin_4 = [] \n",
        "index_bin_5 = []\n",
        "\n",
        "i = 0\n",
        "for event_mass in sum_mass_events_2:\n",
        "    if event_mass > 24.2 and event_mass <= 60.9:\n",
        "        index_bin_1.append(i)\n",
        "    elif event_mass > 60.9 and event_mass <= 97.6:\n",
        "        index_bin_2.append(i)\n",
        "    elif event_mass > 97.6 and event_mass <= 134.4:\n",
        "        index_bin_3.append(i)\n",
        "    elif event_mass > 134.4 and event_mass <= 171.1:\n",
        "        index_bin_4.append(i)\n",
        "    elif event_mass > 171.1 and event_mass <= 219:\n",
        "        index_bin_5.append(i)\n",
        "\n",
        "    i += 1\n",
        "\n",
        "event_mass_bin1 = [event_list_2[j] for j in index_bin_1]\n",
        "event_mass_bin2 = [event_list_2[j] for j in index_bin_2]\n",
        "event_mass_bin3 = [event_list_2[j] for j in index_bin_3]\n",
        "event_mass_bin4 = [event_list_2[j] for j in index_bin_4]\n",
        "event_mass_bin5 = [event_list_2[j] for j in index_bin_5]"
      ],
      "execution_count": 0,
      "outputs": []
    },
    {
      "cell_type": "markdown",
      "metadata": {
        "id": "efUhXQu1fyv2",
        "colab_type": "text"
      },
      "source": [
        "Check size of each mass bin"
      ]
    },
    {
      "cell_type": "code",
      "metadata": {
        "id": "cdY6Z9oAOcmH",
        "colab_type": "code",
        "outputId": "0f3e4754-7de2-4e11-b474-9ef078dccc45",
        "colab": {
          "base_uri": "https://localhost:8080/",
          "height": 102
        }
      },
      "source": [
        "print(len(event_mass_bin1))\n",
        "print(len(event_mass_bin2))\n",
        "print(len(event_mass_bin3))\n",
        "print(len(event_mass_bin4))\n",
        "print(len(event_mass_bin5))"
      ],
      "execution_count": 18,
      "outputs": [
        {
          "output_type": "stream",
          "text": [
            "4463\n",
            "33384\n",
            "16842\n",
            "3175\n",
            "244\n"
          ],
          "name": "stdout"
        }
      ]
    },
    {
      "cell_type": "code",
      "metadata": {
        "id": "UAVYNYQFu0zW",
        "colab_type": "code",
        "colab": {}
      },
      "source": [
        "jet_mass_bin1 = []\n",
        "jet_mass_bin2 = []\n",
        "jet_mass_bin3 = []\n",
        "jet_mass_bin4 = []\n",
        "jet_mass_bin5 = []\n",
        "\n",
        "for event in event_mass_bin1:\n",
        "    for jet in event:\n",
        "        jet_mass_bin1.append(jet)\n",
        "\n",
        "for event in event_mass_bin2:\n",
        "    for jet in event:\n",
        "        jet_mass_bin2.append(jet)\n",
        "\n",
        "for event in event_mass_bin3:\n",
        "    for jet in event:\n",
        "        jet_mass_bin3.append(jet)\n",
        "\n",
        "for event in event_mass_bin4:\n",
        "    for jet in event:\n",
        "        jet_mass_bin4.append(jet)\n",
        "\n",
        "for event in event_mass_bin5:\n",
        "    for jet in event:\n",
        "        jet_mass_bin5.append(jet)"
      ],
      "execution_count": 0,
      "outputs": []
    },
    {
      "cell_type": "markdown",
      "metadata": {
        "id": "qryNQwNuf3gg",
        "colab_type": "text"
      },
      "source": [
        "Find out max number of particles for the jets in each mass bin"
      ]
    },
    {
      "cell_type": "code",
      "metadata": {
        "id": "2cwPHFlaSGFQ",
        "colab_type": "code",
        "outputId": "e2f858ba-6312-4b4c-dfcd-93d924ab3e4f",
        "colab": {
          "base_uri": "https://localhost:8080/",
          "height": 102
        }
      },
      "source": [
        "array_lengths = []\n",
        "for i in range(len(jet_mass_bin1)):\n",
        "    array_lengths.append(len(jet_mass_bin1[i]))\n",
        "print(max(array_lengths))\n",
        "\n",
        "array_lengths = []\n",
        "for i in range(len(jet_mass_bin2)):\n",
        "    array_lengths.append(len(jet_mass_bin2[i]))\n",
        "print(max(array_lengths))\n",
        "\n",
        "array_lengths = []\n",
        "for i in range(len(jet_mass_bin3)):\n",
        "    array_lengths.append(len(jet_mass_bin3[i]))\n",
        "print(max(array_lengths))\n",
        "\n",
        "array_lengths = []\n",
        "for i in range(len(jet_mass_bin4)):\n",
        "    array_lengths.append(len(jet_mass_bin4[i]))\n",
        "print(max(array_lengths))\n",
        "\n",
        "array_lengths = []\n",
        "for i in range(len(jet_mass_bin5)):\n",
        "    array_lengths.append(len(jet_mass_bin5[i]))\n",
        "print(max(array_lengths))"
      ],
      "execution_count": 20,
      "outputs": [
        {
          "output_type": "stream",
          "text": [
            "63\n",
            "111\n",
            "130\n",
            "133\n",
            "125\n"
          ],
          "name": "stdout"
        }
      ]
    },
    {
      "cell_type": "markdown",
      "metadata": {
        "id": "IilSV9Nfg-kR",
        "colab_type": "text"
      },
      "source": [
        "Pad each of the jet arrays with 0s to create a contiguous array with max_particles = 160. To run this in Colab, do two at a time and calculate the AUC, otherwise you will run out of RAM. If runtime crashes, click \"Get More RAM\" at the bottom and you will switch to a high RAM environment."
      ]
    },
    {
      "cell_type": "code",
      "metadata": {
        "id": "iFMfyxExXsPR",
        "colab_type": "code",
        "outputId": "fcf90ebf-8814-4b05-ff7a-7330f2e2e6d4",
        "colab": {
          "base_uri": "https://localhost:8080/",
          "height": 88
        }
      },
      "source": [
        "'''\n",
        "jet_array_1 = np.zeros((len(jet_mass_bin1),160,6))\n",
        "for i in range(len(jet_mass_bin1)):\n",
        "    for j in range(160):\n",
        "        for k in range(6):\n",
        "            try:\n",
        "                jet_array_1[i,j,k] = jet_mass_bin1[i][j][k]\n",
        "            except IndexError:\n",
        "                jet_array_1[i,j,k] = 0\n",
        "print(\"Mass bin 1 done\")\n",
        "\n",
        "\n",
        "jet_array_2 = np.zeros((len(jet_mass_bin2),160,6))\n",
        "for i in range(len(jet_mass_bin2)):\n",
        "    for j in range(160):\n",
        "        for k in range(6):\n",
        "            try:\n",
        "                jet_array_2[i,j,k] = jet_mass_bin2[i][j][k]\n",
        "            except IndexError:\n",
        "                jet_array_2[i,j,k] = 0\n",
        "print(\"Mass bin 2 done\")\n",
        "\n",
        "'''\n",
        "\n",
        "jet_array_3 = np.zeros((len(jet_mass_bin3),160,6))\n",
        "for i in range(len(jet_mass_bin3)):\n",
        "    for j in range(160):\n",
        "        for k in range(6):\n",
        "            try:\n",
        "                jet_array_3[i,j,k] = jet_mass_bin3[i][j][k]\n",
        "            except IndexError:\n",
        "                jet_array_3[i,j,k] = 0\n",
        "print(\"Mass bin 3 done\")\n",
        "\n",
        "\n",
        "jet_array_4 = np.zeros((len(jet_mass_bin4),160,6))\n",
        "for i in range(len(jet_mass_bin4)):\n",
        "    for j in range(160):\n",
        "        for k in range(6):\n",
        "            try:\n",
        "                jet_array_4[i,j,k] = jet_mass_bin4[i][j][k]\n",
        "            except IndexError:\n",
        "                jet_array_4[i,j,k] = 0\n",
        "print(\"Mass bin 4 done\")\n",
        "\n",
        "'''\n",
        "jet_array_5 = np.zeros((len(mass_bin_5),160,6))\n",
        "for i in range(len(mass_bin_5)):\n",
        "    for j in range(160):\n",
        "        for k in range(6):\n",
        "            try:\n",
        "                jet_array_5[i,j,k] = mass_bin_5[i][j][k]\n",
        "            except IndexError:\n",
        "                jet_array_5[i,j,k] = 0\n",
        "print(\"Mass bin 5 done\")\n",
        "\n",
        "jet_array_6 = np.zeros((len(mass_bin_6),160,6))\n",
        "for i in range(len(mass_bin_6)):\n",
        "    for j in range(160):\n",
        "        for k in range(6):\n",
        "            try:\n",
        "                jet_array_6[i,j,k] = mass_bin_6[i][j][k]\n",
        "            except IndexError:\n",
        "                jet_array_6[i,j,k] = 0\n",
        "print(\"Mass bin 6 done\")\n",
        "\n",
        "jet_array_7 = np.zeros((len(mass_bin_7),160,6))\n",
        "for i in range(len(mass_bin_7)):\n",
        "    for j in range(160):\n",
        "        for k in range(6):\n",
        "            try:\n",
        "                jet_array_7[i,j,k] = mass_bin_7[i][j][k]\n",
        "            except IndexError:\n",
        "                jet_array_7[i,j,k] = 0\n",
        "print(\"Mass bin 7 done\")\n",
        "\n",
        "jet_array_8 = np.zeros((len(mass_bin_8),160,6))\n",
        "for i in range(len(mass_bin_8)):\n",
        "    for j in range(160):\n",
        "        for k in range(6):\n",
        "            try:\n",
        "                jet_array_8[i,j,k] = mass_bin_8[i][j][k]\n",
        "            except IndexError:\n",
        "                jet_array_8[i,j,k] = 0\n",
        "print(\"Mass bin 8 done\")\n",
        "'''"
      ],
      "execution_count": 37,
      "outputs": [
        {
          "output_type": "stream",
          "text": [
            "Mass bin 3 done\n",
            "Mass bin 4 done\n"
          ],
          "name": "stdout"
        },
        {
          "output_type": "execute_result",
          "data": {
            "text/plain": [
              "'\\njet_array_5 = np.zeros((len(mass_bin_5),160,6))\\nfor i in range(len(mass_bin_5)):\\n    for j in range(160):\\n        for k in range(6):\\n            try:\\n                jet_array_5[i,j,k] = mass_bin_5[i][j][k]\\n            except IndexError:\\n                jet_array_5[i,j,k] = 0\\nprint(\"Mass bin 5 done\")\\n\\njet_array_6 = np.zeros((len(mass_bin_6),160,6))\\nfor i in range(len(mass_bin_6)):\\n    for j in range(160):\\n        for k in range(6):\\n            try:\\n                jet_array_6[i,j,k] = mass_bin_6[i][j][k]\\n            except IndexError:\\n                jet_array_6[i,j,k] = 0\\nprint(\"Mass bin 6 done\")\\n\\njet_array_7 = np.zeros((len(mass_bin_7),160,6))\\nfor i in range(len(mass_bin_7)):\\n    for j in range(160):\\n        for k in range(6):\\n            try:\\n                jet_array_7[i,j,k] = mass_bin_7[i][j][k]\\n            except IndexError:\\n                jet_array_7[i,j,k] = 0\\nprint(\"Mass bin 7 done\")\\n\\njet_array_8 = np.zeros((len(mass_bin_8),160,6))\\nfor i in range(len(mass_bin_8)):\\n    for j in range(160):\\n        for k in range(6):\\n            try:\\n                jet_array_8[i,j,k] = mass_bin_8[i][j][k]\\n            except IndexError:\\n                jet_array_8[i,j,k] = 0\\nprint(\"Mass bin 8 done\")\\n'"
            ]
          },
          "metadata": {
            "tags": []
          },
          "execution_count": 37
        }
      ]
    },
    {
      "cell_type": "code",
      "metadata": {
        "id": "vJuRRBhuDXin",
        "colab_type": "code",
        "colab": {
          "base_uri": "https://localhost:8080/",
          "height": 34
        },
        "outputId": "f394286d-4278-4c13-db90-31dac595ffba"
      },
      "source": [
        "len(jet_array_1)"
      ],
      "execution_count": 29,
      "outputs": [
        {
          "output_type": "execute_result",
          "data": {
            "text/plain": [
              "8926"
            ]
          },
          "metadata": {
            "tags": []
          },
          "execution_count": 29
        }
      ]
    },
    {
      "cell_type": "code",
      "metadata": {
        "id": "dbd9Sah6I_sj",
        "colab_type": "code",
        "colab": {
          "base_uri": "https://localhost:8080/",
          "height": 34
        },
        "outputId": "071bfc8d-bb2a-43fc-e626-d66002317ae4"
      },
      "source": [
        "len(jet_array_2)"
      ],
      "execution_count": 30,
      "outputs": [
        {
          "output_type": "execute_result",
          "data": {
            "text/plain": [
              "66768"
            ]
          },
          "metadata": {
            "tags": []
          },
          "execution_count": 30
        }
      ]
    },
    {
      "cell_type": "markdown",
      "metadata": {
        "id": "AGfplTNXhzzc",
        "colab_type": "text"
      },
      "source": [
        "Create datasets out of mass bins 1 and 2 to feed into PFN (Particle Flow Network) machine learning model"
      ]
    },
    {
      "cell_type": "code",
      "metadata": {
        "id": "3i4b4cooIpJT",
        "colab_type": "code",
        "colab": {}
      },
      "source": [
        "#Bins 1 and 2\n",
        "X = np.concatenate([jet_array_1, jet_array_2])[:,:,:4]\n",
        "y = np.concatenate([np.ones(len(jet_array_1)), np.zeros(len(jet_array_2))])\n",
        "#del jet_array_1, jet_array_2"
      ],
      "execution_count": 0,
      "outputs": []
    },
    {
      "cell_type": "markdown",
      "metadata": {
        "id": "54auazZYjRhv",
        "colab_type": "text"
      },
      "source": [
        "Run PFN model on mass bins 1 and 2 to see how well model can distinguish between jets in those bins."
      ]
    },
    {
      "cell_type": "code",
      "metadata": {
        "id": "3Ima3_Jpm2Yc",
        "colab_type": "code",
        "outputId": "02d3a51a-54fc-42e4-ca25-fbe4e37af2d4",
        "colab": {
          "base_uri": "https://localhost:8080/",
          "height": 1000
        }
      },
      "source": [
        "#Bins 1 and 2\n",
        "################################### SETTINGS ###################################\n",
        "# the commented values correspond to those in 1810.05165\n",
        "###############################################################################\n",
        "\n",
        "# data controls, can go up to 2000000 for full dataset\n",
        "train, val, test = 30000, 20000, 25694\n",
        "# train, val, test = 1000000, 200000, 200000\n",
        "use_pids = True\n",
        "\n",
        "# network architecture parameters\n",
        "Phi_sizes, F_sizes = (100, 100, 128), (100, 100, 100)\n",
        "# Phi_sizes, F_sizes = (100, 100, 256), (100, 100, 100)\n",
        "\n",
        "# network training parameters\n",
        "num_epoch = 20\n",
        "batch_size = 500\n",
        "\n",
        "################################################################################\n",
        "\n",
        "# convert labels to categorical\n",
        "Y = to_categorical(y, num_classes=2)\n",
        "\n",
        "print('Loaded quark and gluon jets')\n",
        "\n",
        "# preprocess by centering jets and normalizing pts\n",
        "for x in X:\n",
        "    mask = x[:,0] > 0\n",
        "    yphi_avg = np.average(x[mask,1:3], weights=x[mask,0], axis=0)\n",
        "    x[mask,1:3] -= yphi_avg\n",
        "    x[mask,0] /= x[:,0].sum()\n",
        "\n",
        "# handle particle id channel\n",
        "if use_pids:\n",
        "    remap_pids(X, pid_i=3)\n",
        "else:\n",
        "    X = X[:,:,:3]\n",
        "\n",
        "print('Finished preprocessing')\n",
        "\n",
        "# do train/val/test split \n",
        "(X_train, X_val, X_test,\n",
        " Y_train, Y_val, Y_test) = data_split(X, Y, val=val, test=test)\n",
        "\n",
        "print('Done train/val/test split')\n",
        "print('Model summary:')\n",
        "\n",
        "# build architecture\n",
        "pfn = PFN(input_dim=X.shape[-1], Phi_sizes=Phi_sizes, F_sizes=F_sizes)\n",
        "\n",
        "# train model\n",
        "pfn.fit(X_train, Y_train,\n",
        "          epochs=num_epoch,\n",
        "          batch_size=batch_size,\n",
        "          validation_data=(X_val, Y_val),\n",
        "          verbose=1)\n",
        "\n",
        "# get predictions on test data\n",
        "preds = pfn.predict(X_test, batch_size=1000)\n",
        "\n",
        "# get ROC curve if we have sklearn\n",
        "if roc_curve:\n",
        "    pfn_fp, pfn_tp, threshs = roc_curve(Y_test[:,1], preds[:,1])\n",
        "\n",
        "    # get area under the ROC curve\n",
        "    auc = roc_auc_score(Y_test[:,1], preds[:,1])\n",
        "    print()\n",
        "    print('PFN AUC:', auc)\n",
        "    print()\n",
        "\n",
        "    # make ROC curve plot if we have matplotlib\n",
        "    if plt:\n",
        "\n",
        "        # get multiplicity and mass for comparison\n",
        "        masses = np.asarray([ef.ms_from_p4s(ef.p4s_from_ptyphims(x).sum(axis=0)) for x in X])\n",
        "        mults = np.asarray([np.count_nonzero(x[:,0]) for x in X])\n",
        "        mass_fp, mass_tp, threshs = roc_curve(Y[:,1], -masses)\n",
        "        mult_fp, mult_tp, threshs = roc_curve(Y[:,1], -mults)\n",
        "\n",
        "        # some nicer plot settings \n",
        "        plt.rcParams['figure.figsize'] = (4,4)\n",
        "        plt.rcParams['font.family'] = 'serif'\n",
        "        plt.rcParams['figure.autolayout'] = True\n",
        "\n",
        "        # plot the ROC curves\n",
        "        plt.plot(pfn_tp, 1-pfn_fp, '-', color='black', label='PFN')\n",
        "        plt.plot(mass_tp, 1-mass_fp, '-', color='blue', label='Jet Mass')\n",
        "        plt.plot(mult_tp, 1-mult_fp, '-', color='red', label='Multiplicity')\n",
        "\n",
        "        # axes labels\n",
        "        plt.xlabel('Quark Jet Efficiency')\n",
        "        plt.ylabel('Gluon Jet Rejection')\n",
        "\n",
        "        # axes limits\n",
        "        plt.xlim(0, 1)\n",
        "        plt.ylim(0, 1)\n",
        "\n",
        "        # make legend and show plot\n",
        "        plt.legend(loc='lower left', frameon=False)\n",
        "        plt.show()"
      ],
      "execution_count": 32,
      "outputs": [
        {
          "output_type": "stream",
          "text": [
            "Loaded quark and gluon jets\n",
            "Finished preprocessing\n",
            "Done train/val/test split\n",
            "Model summary:\n",
            "WARNING:tensorflow:From /usr/local/lib/python3.6/dist-packages/keras/backend/tensorflow_backend.py:541: The name tf.placeholder is deprecated. Please use tf.compat.v1.placeholder instead.\n",
            "\n",
            "WARNING:tensorflow:From /usr/local/lib/python3.6/dist-packages/keras/backend/tensorflow_backend.py:66: The name tf.get_default_graph is deprecated. Please use tf.compat.v1.get_default_graph instead.\n",
            "\n",
            "WARNING:tensorflow:From /usr/local/lib/python3.6/dist-packages/keras/backend/tensorflow_backend.py:4432: The name tf.random_uniform is deprecated. Please use tf.random.uniform instead.\n",
            "\n",
            "WARNING:tensorflow:From /usr/local/lib/python3.6/dist-packages/keras/optimizers.py:793: The name tf.train.Optimizer is deprecated. Please use tf.compat.v1.train.Optimizer instead.\n",
            "\n",
            "WARNING:tensorflow:From /usr/local/lib/python3.6/dist-packages/keras/backend/tensorflow_backend.py:3576: The name tf.log is deprecated. Please use tf.math.log instead.\n",
            "\n",
            "Model: \"model_1\"\n",
            "__________________________________________________________________________________________________\n",
            "Layer (type)                    Output Shape         Param #     Connected to                     \n",
            "==================================================================================================\n",
            "input (InputLayer)              (None, None, 4)      0                                            \n",
            "__________________________________________________________________________________________________\n",
            "tdist_0 (TimeDistributed)       (None, None, 100)    500         input[0][0]                      \n",
            "__________________________________________________________________________________________________\n",
            "activation_1 (Activation)       (None, None, 100)    0           tdist_0[0][0]                    \n",
            "__________________________________________________________________________________________________\n",
            "tdist_1 (TimeDistributed)       (None, None, 100)    10100       activation_1[0][0]               \n",
            "__________________________________________________________________________________________________\n",
            "activation_2 (Activation)       (None, None, 100)    0           tdist_1[0][0]                    \n",
            "__________________________________________________________________________________________________\n",
            "tdist_2 (TimeDistributed)       (None, None, 128)    12928       activation_2[0][0]               \n",
            "__________________________________________________________________________________________________\n",
            "mask (Lambda)                   (None, None)         0           input[0][0]                      \n",
            "__________________________________________________________________________________________________\n",
            "activation_3 (Activation)       (None, None, 128)    0           tdist_2[0][0]                    \n",
            "__________________________________________________________________________________________________\n",
            "sum (Dot)                       (None, 128)          0           mask[0][0]                       \n",
            "                                                                 activation_3[0][0]               \n",
            "__________________________________________________________________________________________________\n",
            "dense_0 (Dense)                 (None, 100)          12900       sum[0][0]                        \n",
            "__________________________________________________________________________________________________\n",
            "activation_4 (Activation)       (None, 100)          0           dense_0[0][0]                    \n",
            "__________________________________________________________________________________________________\n",
            "dense_1 (Dense)                 (None, 100)          10100       activation_4[0][0]               \n",
            "__________________________________________________________________________________________________\n",
            "activation_5 (Activation)       (None, 100)          0           dense_1[0][0]                    \n",
            "__________________________________________________________________________________________________\n",
            "dense_2 (Dense)                 (None, 100)          10100       activation_5[0][0]               \n",
            "__________________________________________________________________________________________________\n",
            "activation_6 (Activation)       (None, 100)          0           dense_2[0][0]                    \n",
            "__________________________________________________________________________________________________\n",
            "output (Dense)                  (None, 2)            202         activation_6[0][0]               \n",
            "__________________________________________________________________________________________________\n",
            "activation_7 (Activation)       (None, 2)            0           output[0][0]                     \n",
            "==================================================================================================\n",
            "Total params: 56,830\n",
            "Trainable params: 56,830\n",
            "Non-trainable params: 0\n",
            "__________________________________________________________________________________________________\n",
            "WARNING:tensorflow:From /usr/local/lib/python3.6/dist-packages/tensorflow_core/python/ops/math_grad.py:1424: where (from tensorflow.python.ops.array_ops) is deprecated and will be removed in a future version.\n",
            "Instructions for updating:\n",
            "Use tf.where in 2.0, which has the same broadcast rule as np.where\n",
            "WARNING:tensorflow:From /usr/local/lib/python3.6/dist-packages/keras/backend/tensorflow_backend.py:1033: The name tf.assign_add is deprecated. Please use tf.compat.v1.assign_add instead.\n",
            "\n",
            "WARNING:tensorflow:From /usr/local/lib/python3.6/dist-packages/keras/backend/tensorflow_backend.py:1020: The name tf.assign is deprecated. Please use tf.compat.v1.assign instead.\n",
            "\n",
            "WARNING:tensorflow:From /usr/local/lib/python3.6/dist-packages/keras/backend/tensorflow_backend.py:3005: The name tf.Session is deprecated. Please use tf.compat.v1.Session instead.\n",
            "\n",
            "Train on 30000 samples, validate on 20000 samples\n",
            "Epoch 1/20\n",
            "WARNING:tensorflow:From /usr/local/lib/python3.6/dist-packages/keras/backend/tensorflow_backend.py:190: The name tf.get_default_session is deprecated. Please use tf.compat.v1.get_default_session instead.\n",
            "\n",
            "WARNING:tensorflow:From /usr/local/lib/python3.6/dist-packages/keras/backend/tensorflow_backend.py:197: The name tf.ConfigProto is deprecated. Please use tf.compat.v1.ConfigProto instead.\n",
            "\n",
            "WARNING:tensorflow:From /usr/local/lib/python3.6/dist-packages/keras/backend/tensorflow_backend.py:207: The name tf.global_variables is deprecated. Please use tf.compat.v1.global_variables instead.\n",
            "\n",
            "WARNING:tensorflow:From /usr/local/lib/python3.6/dist-packages/keras/backend/tensorflow_backend.py:216: The name tf.is_variable_initialized is deprecated. Please use tf.compat.v1.is_variable_initialized instead.\n",
            "\n",
            "WARNING:tensorflow:From /usr/local/lib/python3.6/dist-packages/keras/backend/tensorflow_backend.py:223: The name tf.variables_initializer is deprecated. Please use tf.compat.v1.variables_initializer instead.\n",
            "\n",
            "30000/30000 [==============================] - 11s 370us/step - loss: 0.4020 - acc: 0.8701 - val_loss: 0.2813 - val_acc: 0.8824\n",
            "Epoch 2/20\n",
            "30000/30000 [==============================] - 1s 30us/step - loss: 0.2805 - acc: 0.8863 - val_loss: 0.2966 - val_acc: 0.8848\n",
            "Epoch 3/20\n",
            "30000/30000 [==============================] - 1s 30us/step - loss: 0.2778 - acc: 0.8870 - val_loss: 0.2750 - val_acc: 0.8838\n",
            "Epoch 4/20\n",
            "30000/30000 [==============================] - 1s 30us/step - loss: 0.2739 - acc: 0.8864 - val_loss: 0.2769 - val_acc: 0.8838\n",
            "Epoch 5/20\n",
            "30000/30000 [==============================] - 1s 30us/step - loss: 0.2758 - acc: 0.8873 - val_loss: 0.2744 - val_acc: 0.8841\n",
            "Epoch 6/20\n",
            "30000/30000 [==============================] - 1s 30us/step - loss: 0.2757 - acc: 0.8864 - val_loss: 0.2791 - val_acc: 0.8834\n",
            "Epoch 7/20\n",
            "30000/30000 [==============================] - 1s 30us/step - loss: 0.2752 - acc: 0.8872 - val_loss: 0.2726 - val_acc: 0.8843\n",
            "Epoch 8/20\n",
            "30000/30000 [==============================] - 1s 29us/step - loss: 0.2716 - acc: 0.8877 - val_loss: 0.2721 - val_acc: 0.8837\n",
            "Epoch 9/20\n",
            "30000/30000 [==============================] - 1s 30us/step - loss: 0.2716 - acc: 0.8875 - val_loss: 0.2722 - val_acc: 0.8844\n",
            "Epoch 10/20\n",
            "30000/30000 [==============================] - 1s 30us/step - loss: 0.2711 - acc: 0.8877 - val_loss: 0.2756 - val_acc: 0.8850\n",
            "Epoch 11/20\n",
            "30000/30000 [==============================] - 1s 30us/step - loss: 0.2754 - acc: 0.8876 - val_loss: 0.2721 - val_acc: 0.8840\n",
            "Epoch 12/20\n",
            "30000/30000 [==============================] - 1s 30us/step - loss: 0.2705 - acc: 0.8877 - val_loss: 0.2713 - val_acc: 0.8844\n",
            "Epoch 13/20\n",
            "30000/30000 [==============================] - 1s 30us/step - loss: 0.2721 - acc: 0.8879 - val_loss: 0.2734 - val_acc: 0.8843\n",
            "Epoch 14/20\n",
            "30000/30000 [==============================] - 1s 30us/step - loss: 0.2720 - acc: 0.8877 - val_loss: 0.2711 - val_acc: 0.8850\n",
            "Epoch 15/20\n",
            "30000/30000 [==============================] - 1s 30us/step - loss: 0.2709 - acc: 0.8870 - val_loss: 0.2705 - val_acc: 0.8846\n",
            "Epoch 16/20\n",
            "30000/30000 [==============================] - 1s 30us/step - loss: 0.2698 - acc: 0.8870 - val_loss: 0.2730 - val_acc: 0.8832\n",
            "Epoch 17/20\n",
            "30000/30000 [==============================] - 1s 29us/step - loss: 0.2722 - acc: 0.8871 - val_loss: 0.2706 - val_acc: 0.8840\n",
            "Epoch 18/20\n",
            "30000/30000 [==============================] - 1s 29us/step - loss: 0.2704 - acc: 0.8874 - val_loss: 0.2715 - val_acc: 0.8838\n",
            "Epoch 19/20\n",
            "30000/30000 [==============================] - 1s 30us/step - loss: 0.2702 - acc: 0.8870 - val_loss: 0.2703 - val_acc: 0.8842\n",
            "Epoch 20/20\n",
            "30000/30000 [==============================] - 1s 30us/step - loss: 0.2704 - acc: 0.8878 - val_loss: 0.2768 - val_acc: 0.8839\n",
            "\n",
            "PFN AUC: 0.8540360091868698\n",
            "\n"
          ],
          "name": "stdout"
        },
        {
          "output_type": "display_data",
          "data": {
            "image/png": "[encoded data removed]",
            "text/plain": [
              "<Figure size 288x288 with 1 Axes>"
            ]
          },
          "metadata": {
            "tags": []
          }
        }
      ]
    },
    {
      "cell_type": "markdown",
      "metadata": {
        "id": "4av8lgT2kVMt",
        "colab_type": "text"
      },
      "source": [
        "Create datasets out of mass bins 2 and 3 to feed into PFN (Particle Flow Network) machine learning model"
      ]
    },
    {
      "cell_type": "code",
      "metadata": {
        "id": "0RO62yIahNQX",
        "colab_type": "code",
        "colab": {}
      },
      "source": [
        "#Bins 2 and 3\n",
        "X = np.concatenate([jet_array_2, jet_array_3])[:,:,:4]\n",
        "y = np.concatenate([np.ones(len(jet_array_2)), np.zeros(len(jet_array_3))])\n",
        "#del jet_array_2, jet_array_3"
      ],
      "execution_count": 0,
      "outputs": []
    },
    {
      "cell_type": "markdown",
      "metadata": {
        "id": "M0PTl1xOk35t",
        "colab_type": "text"
      },
      "source": [
        "Run PFN model on mass bins 2 and 3 to see how well model can distinguish between jets in those bins."
      ]
    },
    {
      "cell_type": "code",
      "metadata": {
        "id": "2spgYY-azxMn",
        "colab_type": "code",
        "outputId": "e96cf2c3-734a-409f-adde-4a1cd74e8403",
        "colab": {
          "base_uri": "https://localhost:8080/",
          "height": 1000
        }
      },
      "source": [
        "#Bins 2 and 3\n",
        "################################### SETTINGS ###################################\n",
        "# the commented values correspond to those in 1810.05165\n",
        "###############################################################################\n",
        "\n",
        "# data controls, can go up to 2000000 for full dataset\n",
        "train, val, test = 30000, 30000, 40452\n",
        "# train, val, test = 1000000, 200000, 200000\n",
        "use_pids = True\n",
        "\n",
        "# network architecture parameters\n",
        "Phi_sizes, F_sizes = (100, 100, 128), (100, 100, 100)\n",
        "# Phi_sizes, F_sizes = (100, 100, 256), (100, 100, 100)\n",
        "\n",
        "# network training parameters\n",
        "num_epoch = 20\n",
        "batch_size = 500\n",
        "\n",
        "################################################################################\n",
        "\n",
        "# convert labels to categorical\n",
        "Y = to_categorical(y, num_classes=2)\n",
        "\n",
        "print('Loaded quark and gluon jets')\n",
        "\n",
        "# preprocess by centering jets and normalizing pts\n",
        "for x in X:\n",
        "    mask = x[:,0] > 0\n",
        "    yphi_avg = np.average(x[mask,1:3], weights=x[mask,0], axis=0)\n",
        "    x[mask,1:3] -= yphi_avg\n",
        "    x[mask,0] /= x[:,0].sum()\n",
        "\n",
        "# handle particle id channel\n",
        "if use_pids:\n",
        "    remap_pids(X, pid_i=3)\n",
        "else:\n",
        "    X = X[:,:,:3]\n",
        "\n",
        "print('Finished preprocessing')\n",
        "\n",
        "# do train/val/test split \n",
        "(X_train, X_val, X_test,\n",
        " Y_train, Y_val, Y_test) = data_split(X, Y, val=val, test=test)\n",
        "\n",
        "print('Done train/val/test split')\n",
        "print('Model summary:')\n",
        "\n",
        "# build architecture\n",
        "pfn = PFN(input_dim=X.shape[-1], Phi_sizes=Phi_sizes, F_sizes=F_sizes)\n",
        "\n",
        "# train model\n",
        "pfn.fit(X_train, Y_train,\n",
        "          epochs=num_epoch,\n",
        "          batch_size=batch_size,\n",
        "          validation_data=(X_val, Y_val),\n",
        "          verbose=1)\n",
        "\n",
        "# get predictions on test data\n",
        "preds = pfn.predict(X_test, batch_size=1000)\n",
        "\n",
        "# get ROC curve if we have sklearn\n",
        "if roc_curve:\n",
        "    pfn_fp, pfn_tp, threshs = roc_curve(Y_test[:,1], preds[:,1])\n",
        "\n",
        "    # get area under the ROC curve\n",
        "    auc = roc_auc_score(Y_test[:,1], preds[:,1])\n",
        "    print()\n",
        "    print('PFN AUC:', auc)\n",
        "    print()\n",
        "\n",
        "    # make ROC curve plot if we have matplotlib\n",
        "    if plt:\n",
        "\n",
        "        # get multiplicity and mass for comparison\n",
        "        masses = np.asarray([ef.ms_from_p4s(ef.p4s_from_ptyphims(x).sum(axis=0)) for x in X])\n",
        "        mults = np.asarray([np.count_nonzero(x[:,0]) for x in X])\n",
        "        mass_fp, mass_tp, threshs = roc_curve(Y[:,1], -masses)\n",
        "        mult_fp, mult_tp, threshs = roc_curve(Y[:,1], -mults)\n",
        "\n",
        "        # some nicer plot settings \n",
        "        plt.rcParams['figure.figsize'] = (4,4)\n",
        "        plt.rcParams['font.family'] = 'serif'\n",
        "        plt.rcParams['figure.autolayout'] = True\n",
        "\n",
        "        # plot the ROC curves\n",
        "        plt.plot(pfn_tp, 1-pfn_fp, '-', color='black', label='PFN')\n",
        "        plt.plot(mass_tp, 1-mass_fp, '-', color='blue', label='Jet Mass')\n",
        "        plt.plot(mult_tp, 1-mult_fp, '-', color='red', label='Multiplicity')\n",
        "\n",
        "        # axes labels\n",
        "        plt.xlabel('Quark Jet Efficiency')\n",
        "        plt.ylabel('Gluon Jet Rejection')\n",
        "\n",
        "        # axes limits\n",
        "        plt.xlim(0, 1)\n",
        "        plt.ylim(0, 1)\n",
        "\n",
        "        # make legend and show plot\n",
        "        plt.legend(loc='lower left', frameon=False)\n",
        "        plt.show()"
      ],
      "execution_count": 36,
      "outputs": [
        {
          "output_type": "stream",
          "text": [
            "Loaded quark and gluon jets\n",
            "Finished preprocessing\n",
            "Done train/val/test split\n",
            "Model summary:\n",
            "Model: \"model_2\"\n",
            "__________________________________________________________________________________________________\n",
            "Layer (type)                    Output Shape         Param #     Connected to                     \n",
            "==================================================================================================\n",
            "input (InputLayer)              (None, None, 4)      0                                            \n",
            "__________________________________________________________________________________________________\n",
            "tdist_0 (TimeDistributed)       (None, None, 100)    500         input[0][0]                      \n",
            "__________________________________________________________________________________________________\n",
            "activation_8 (Activation)       (None, None, 100)    0           tdist_0[0][0]                    \n",
            "__________________________________________________________________________________________________\n",
            "tdist_1 (TimeDistributed)       (None, None, 100)    10100       activation_8[0][0]               \n",
            "__________________________________________________________________________________________________\n",
            "activation_9 (Activation)       (None, None, 100)    0           tdist_1[0][0]                    \n",
            "__________________________________________________________________________________________________\n",
            "tdist_2 (TimeDistributed)       (None, None, 128)    12928       activation_9[0][0]               \n",
            "__________________________________________________________________________________________________\n",
            "mask (Lambda)                   (None, None)         0           input[0][0]                      \n",
            "__________________________________________________________________________________________________\n",
            "activation_10 (Activation)      (None, None, 128)    0           tdist_2[0][0]                    \n",
            "__________________________________________________________________________________________________\n",
            "sum (Dot)                       (None, 128)          0           mask[0][0]                       \n",
            "                                                                 activation_10[0][0]              \n",
            "__________________________________________________________________________________________________\n",
            "dense_0 (Dense)                 (None, 100)          12900       sum[0][0]                        \n",
            "__________________________________________________________________________________________________\n",
            "activation_11 (Activation)      (None, 100)          0           dense_0[0][0]                    \n",
            "__________________________________________________________________________________________________\n",
            "dense_1 (Dense)                 (None, 100)          10100       activation_11[0][0]              \n",
            "__________________________________________________________________________________________________\n",
            "activation_12 (Activation)      (None, 100)          0           dense_1[0][0]                    \n",
            "__________________________________________________________________________________________________\n",
            "dense_2 (Dense)                 (None, 100)          10100       activation_12[0][0]              \n",
            "__________________________________________________________________________________________________\n",
            "activation_13 (Activation)      (None, 100)          0           dense_2[0][0]                    \n",
            "__________________________________________________________________________________________________\n",
            "output (Dense)                  (None, 2)            202         activation_13[0][0]              \n",
            "__________________________________________________________________________________________________\n",
            "activation_14 (Activation)      (None, 2)            0           output[0][0]                     \n",
            "==================================================================================================\n",
            "Total params: 56,830\n",
            "Trainable params: 56,830\n",
            "Non-trainable params: 0\n",
            "__________________________________________________________________________________________________\n",
            "Train on 30000 samples, validate on 30000 samples\n",
            "Epoch 1/20\n",
            "30000/30000 [==============================] - 2s 51us/step - loss: 0.8435 - acc: 0.6717 - val_loss: 0.5245 - val_acc: 0.7548\n",
            "Epoch 2/20\n",
            "30000/30000 [==============================] - 1s 33us/step - loss: 0.5210 - acc: 0.7561 - val_loss: 0.5149 - val_acc: 0.7614\n",
            "Epoch 3/20\n",
            "30000/30000 [==============================] - 1s 33us/step - loss: 0.5186 - acc: 0.7579 - val_loss: 0.5236 - val_acc: 0.7523\n",
            "Epoch 4/20\n",
            "30000/30000 [==============================] - 1s 33us/step - loss: 0.5131 - acc: 0.7603 - val_loss: 0.5130 - val_acc: 0.7627\n",
            "Epoch 5/20\n",
            "30000/30000 [==============================] - 1s 33us/step - loss: 0.5126 - acc: 0.7597 - val_loss: 0.5108 - val_acc: 0.7623\n",
            "Epoch 6/20\n",
            "30000/30000 [==============================] - 1s 33us/step - loss: 0.5125 - acc: 0.7609 - val_loss: 0.5092 - val_acc: 0.7656\n",
            "Epoch 7/20\n",
            "30000/30000 [==============================] - 1s 33us/step - loss: 0.5189 - acc: 0.7579 - val_loss: 0.5107 - val_acc: 0.7643\n",
            "Epoch 8/20\n",
            "30000/30000 [==============================] - 1s 33us/step - loss: 0.5171 - acc: 0.7589 - val_loss: 0.5115 - val_acc: 0.7627\n",
            "Epoch 9/20\n",
            "30000/30000 [==============================] - 1s 33us/step - loss: 0.5093 - acc: 0.7637 - val_loss: 0.5132 - val_acc: 0.7597\n",
            "Epoch 10/20\n",
            "30000/30000 [==============================] - 1s 33us/step - loss: 0.5105 - acc: 0.7644 - val_loss: 0.5308 - val_acc: 0.7495\n",
            "Epoch 11/20\n",
            "30000/30000 [==============================] - 1s 33us/step - loss: 0.5119 - acc: 0.7636 - val_loss: 0.5457 - val_acc: 0.7433\n",
            "Epoch 12/20\n",
            "30000/30000 [==============================] - 1s 33us/step - loss: 0.5094 - acc: 0.7634 - val_loss: 0.5144 - val_acc: 0.7626\n",
            "Epoch 13/20\n",
            "30000/30000 [==============================] - 1s 33us/step - loss: 0.5080 - acc: 0.7649 - val_loss: 0.5140 - val_acc: 0.7592\n",
            "Epoch 14/20\n",
            "30000/30000 [==============================] - 1s 33us/step - loss: 0.5054 - acc: 0.7651 - val_loss: 0.5062 - val_acc: 0.7657\n",
            "Epoch 15/20\n",
            "30000/30000 [==============================] - 1s 33us/step - loss: 0.5079 - acc: 0.7626 - val_loss: 0.5096 - val_acc: 0.7644\n",
            "Epoch 16/20\n",
            "30000/30000 [==============================] - 1s 33us/step - loss: 0.5056 - acc: 0.7664 - val_loss: 0.5115 - val_acc: 0.7629\n",
            "Epoch 17/20\n",
            "30000/30000 [==============================] - 1s 33us/step - loss: 0.5054 - acc: 0.7662 - val_loss: 0.5060 - val_acc: 0.7662\n",
            "Epoch 18/20\n",
            "30000/30000 [==============================] - 1s 33us/step - loss: 0.5029 - acc: 0.7666 - val_loss: 0.5044 - val_acc: 0.7671\n",
            "Epoch 19/20\n",
            "30000/30000 [==============================] - 1s 33us/step - loss: 0.5061 - acc: 0.7662 - val_loss: 0.5241 - val_acc: 0.7548\n",
            "Epoch 20/20\n",
            "30000/30000 [==============================] - 1s 33us/step - loss: 0.5026 - acc: 0.7676 - val_loss: 0.5094 - val_acc: 0.7630\n",
            "\n",
            "PFN AUC: 0.7844014463904062\n",
            "\n"
          ],
          "name": "stdout"
        },
        {
          "output_type": "display_data",
          "data": {
            "image/png": "[encoded data removed]",
            "text/plain": [
              "<Figure size 288x288 with 1 Axes>"
            ]
          },
          "metadata": {
            "tags": []
          }
        }
      ]
    },
    {
      "cell_type": "markdown",
      "metadata": {
        "id": "86FL92hFkZcA",
        "colab_type": "text"
      },
      "source": [
        "Create datasets out of mass bins 3 and 4 to feed into PFN (Particle Flow Network) machine learning model"
      ]
    },
    {
      "cell_type": "code",
      "metadata": {
        "id": "DropiTFwe45R",
        "colab_type": "code",
        "colab": {}
      },
      "source": [
        "#Bins 3 and 4\n",
        "X = np.concatenate([jet_array_3, jet_array_4])[:,:,:4]\n",
        "y = np.concatenate([np.ones(len(jet_array_3)), np.zeros(len(jet_array_4))])\n",
        "#del jet_array_3, jet_array_4"
      ],
      "execution_count": 0,
      "outputs": []
    },
    {
      "cell_type": "markdown",
      "metadata": {
        "id": "zTHegdmEk6t9",
        "colab_type": "text"
      },
      "source": [
        "Run PFN model on mass bins 3 and 4 to see how well model can distinguish between jets in those bins."
      ]
    },
    {
      "cell_type": "code",
      "metadata": {
        "id": "dhYt6CVJss5y",
        "colab_type": "code",
        "outputId": "e9712633-9dc0-472a-fedf-446f1bd7e3a7",
        "colab": {
          "base_uri": "https://localhost:8080/",
          "height": 1000
        }
      },
      "source": [
        "#Bins 3 and 4\n",
        "################################### SETTINGS ###################################\n",
        "# the commented values correspond to those in 1810.05165\n",
        "###############################################################################\n",
        "\n",
        "# data controls, can go up to 2000000 for full dataset\n",
        "train, val, test = 30000, 4000, 6034\n",
        "# train, val, test = 1000000, 200000, 200000\n",
        "use_pids = True\n",
        "\n",
        "# network architecture parameters\n",
        "Phi_sizes, F_sizes = (100, 100, 128), (100, 100, 100)\n",
        "# Phi_sizes, F_sizes = (100, 100, 256), (100, 100, 100)\n",
        "\n",
        "# network training parameters\n",
        "num_epoch = 20\n",
        "batch_size = 500\n",
        "\n",
        "################################################################################\n",
        "\n",
        "# convert labels to categorical\n",
        "Y = to_categorical(y, num_classes=2)\n",
        "\n",
        "print('Loaded quark and gluon jets')\n",
        "\n",
        "# preprocess by centering jets and normalizing pts\n",
        "for x in X:\n",
        "    mask = x[:,0] > 0\n",
        "    yphi_avg = np.average(x[mask,1:3], weights=x[mask,0], axis=0)\n",
        "    x[mask,1:3] -= yphi_avg\n",
        "    x[mask,0] /= x[:,0].sum()\n",
        "\n",
        "# handle particle id channel\n",
        "if use_pids:\n",
        "    remap_pids(X, pid_i=3)\n",
        "else:\n",
        "    X = X[:,:,:3]\n",
        "\n",
        "print('Finished preprocessing')\n",
        "\n",
        "# do train/val/test split \n",
        "(X_train, X_val, X_test,\n",
        " Y_train, Y_val, Y_test) = data_split(X, Y, val=val, test=test)\n",
        "\n",
        "print('Done train/val/test split')\n",
        "print('Model summary:')\n",
        "\n",
        "# build architecture\n",
        "pfn = PFN(input_dim=X.shape[-1], Phi_sizes=Phi_sizes, F_sizes=F_sizes)\n",
        "\n",
        "# train model\n",
        "pfn.fit(X_train, Y_train,\n",
        "          epochs=num_epoch,\n",
        "          batch_size=batch_size,\n",
        "          validation_data=(X_val, Y_val),\n",
        "          verbose=1)\n",
        "\n",
        "# get predictions on test data\n",
        "preds = pfn.predict(X_test, batch_size=1000)\n",
        "\n",
        "# get ROC curve if we have sklearn\n",
        "if roc_curve:\n",
        "    pfn_fp, pfn_tp, threshs = roc_curve(Y_test[:,1], preds[:,1])\n",
        "\n",
        "    # get area under the ROC curve\n",
        "    auc = roc_auc_score(Y_test[:,1], preds[:,1])\n",
        "    print()\n",
        "    print('PFN AUC:', auc)\n",
        "    print()\n",
        "\n",
        "    # make ROC curve plot if we have matplotlib\n",
        "    if plt:\n",
        "\n",
        "        # get multiplicity and mass for comparison\n",
        "        masses = np.asarray([ef.ms_from_p4s(ef.p4s_from_ptyphims(x).sum(axis=0)) for x in X])\n",
        "        mults = np.asarray([np.count_nonzero(x[:,0]) for x in X])\n",
        "        mass_fp, mass_tp, threshs = roc_curve(Y[:,1], -masses)\n",
        "        mult_fp, mult_tp, threshs = roc_curve(Y[:,1], -mults)\n",
        "\n",
        "        # some nicer plot settings \n",
        "        plt.rcParams['figure.figsize'] = (4,4)\n",
        "        plt.rcParams['font.family'] = 'serif'\n",
        "        plt.rcParams['figure.autolayout'] = True\n",
        "\n",
        "        # plot the ROC curves\n",
        "        plt.plot(pfn_tp, 1-pfn_fp, '-', color='black', label='PFN')\n",
        "        plt.plot(mass_tp, 1-mass_fp, '-', color='blue', label='Jet Mass')\n",
        "        plt.plot(mult_tp, 1-mult_fp, '-', color='red', label='Multiplicity')\n",
        "\n",
        "        # axes labels\n",
        "        plt.xlabel('Quark Jet Efficiency')\n",
        "        plt.ylabel('Gluon Jet Rejection')\n",
        "\n",
        "        # axes limits\n",
        "        plt.xlim(0, 1)\n",
        "        plt.ylim(0, 1)\n",
        "\n",
        "        # make legend and show plot\n",
        "        plt.legend(loc='lower left', frameon=False)\n",
        "        plt.show()"
      ],
      "execution_count": 39,
      "outputs": [
        {
          "output_type": "stream",
          "text": [
            "Loaded quark and gluon jets\n",
            "Finished preprocessing\n",
            "Done train/val/test split\n",
            "Model summary:\n",
            "Model: \"model_3\"\n",
            "__________________________________________________________________________________________________\n",
            "Layer (type)                    Output Shape         Param #     Connected to                     \n",
            "==================================================================================================\n",
            "input (InputLayer)              (None, None, 4)      0                                            \n",
            "__________________________________________________________________________________________________\n",
            "tdist_0 (TimeDistributed)       (None, None, 100)    500         input[0][0]                      \n",
            "__________________________________________________________________________________________________\n",
            "activation_15 (Activation)      (None, None, 100)    0           tdist_0[0][0]                    \n",
            "__________________________________________________________________________________________________\n",
            "tdist_1 (TimeDistributed)       (None, None, 100)    10100       activation_15[0][0]              \n",
            "__________________________________________________________________________________________________\n",
            "activation_16 (Activation)      (None, None, 100)    0           tdist_1[0][0]                    \n",
            "__________________________________________________________________________________________________\n",
            "tdist_2 (TimeDistributed)       (None, None, 128)    12928       activation_16[0][0]              \n",
            "__________________________________________________________________________________________________\n",
            "mask (Lambda)                   (None, None)         0           input[0][0]                      \n",
            "__________________________________________________________________________________________________\n",
            "activation_17 (Activation)      (None, None, 128)    0           tdist_2[0][0]                    \n",
            "__________________________________________________________________________________________________\n",
            "sum (Dot)                       (None, 128)          0           mask[0][0]                       \n",
            "                                                                 activation_17[0][0]              \n",
            "__________________________________________________________________________________________________\n",
            "dense_0 (Dense)                 (None, 100)          12900       sum[0][0]                        \n",
            "__________________________________________________________________________________________________\n",
            "activation_18 (Activation)      (None, 100)          0           dense_0[0][0]                    \n",
            "__________________________________________________________________________________________________\n",
            "dense_1 (Dense)                 (None, 100)          10100       activation_18[0][0]              \n",
            "__________________________________________________________________________________________________\n",
            "activation_19 (Activation)      (None, 100)          0           dense_1[0][0]                    \n",
            "__________________________________________________________________________________________________\n",
            "dense_2 (Dense)                 (None, 100)          10100       activation_19[0][0]              \n",
            "__________________________________________________________________________________________________\n",
            "activation_20 (Activation)      (None, 100)          0           dense_2[0][0]                    \n",
            "__________________________________________________________________________________________________\n",
            "output (Dense)                  (None, 2)            202         activation_20[0][0]              \n",
            "__________________________________________________________________________________________________\n",
            "activation_21 (Activation)      (None, 2)            0           output[0][0]                     \n",
            "==================================================================================================\n",
            "Total params: 56,830\n",
            "Trainable params: 56,830\n",
            "Non-trainable params: 0\n",
            "__________________________________________________________________________________________________\n",
            "Train on 30000 samples, validate on 4000 samples\n",
            "Epoch 1/20\n",
            "30000/30000 [==============================] - 1s 46us/step - loss: 1.2358 - acc: 0.7812 - val_loss: 0.4277 - val_acc: 0.8347\n",
            "Epoch 2/20\n",
            "30000/30000 [==============================] - 1s 25us/step - loss: 0.4000 - acc: 0.8472 - val_loss: 0.4778 - val_acc: 0.8327\n",
            "Epoch 3/20\n",
            "30000/30000 [==============================] - 1s 25us/step - loss: 0.3896 - acc: 0.8518 - val_loss: 0.4104 - val_acc: 0.8440\n",
            "Epoch 4/20\n",
            "30000/30000 [==============================] - 1s 24us/step - loss: 0.3928 - acc: 0.8503 - val_loss: 0.4126 - val_acc: 0.8412\n",
            "Epoch 5/20\n",
            "30000/30000 [==============================] - 1s 24us/step - loss: 0.3888 - acc: 0.8528 - val_loss: 0.4286 - val_acc: 0.8380\n",
            "Epoch 6/20\n",
            "30000/30000 [==============================] - 1s 25us/step - loss: 0.3892 - acc: 0.8516 - val_loss: 0.4165 - val_acc: 0.8412\n",
            "Epoch 7/20\n",
            "30000/30000 [==============================] - 1s 25us/step - loss: 0.3884 - acc: 0.8511 - val_loss: 0.4085 - val_acc: 0.8432\n",
            "Epoch 8/20\n",
            "30000/30000 [==============================] - 1s 24us/step - loss: 0.3860 - acc: 0.8542 - val_loss: 0.4399 - val_acc: 0.8202\n",
            "Epoch 9/20\n",
            "30000/30000 [==============================] - 1s 25us/step - loss: 0.3859 - acc: 0.8535 - val_loss: 0.4177 - val_acc: 0.8425\n",
            "Epoch 10/20\n",
            "30000/30000 [==============================] - 1s 24us/step - loss: 0.3839 - acc: 0.8548 - val_loss: 0.4334 - val_acc: 0.8395\n",
            "Epoch 11/20\n",
            "30000/30000 [==============================] - 1s 25us/step - loss: 0.3807 - acc: 0.8567 - val_loss: 0.4076 - val_acc: 0.8450\n",
            "Epoch 12/20\n",
            "30000/30000 [==============================] - 1s 24us/step - loss: 0.3818 - acc: 0.8564 - val_loss: 0.4076 - val_acc: 0.8415\n",
            "Epoch 13/20\n",
            "30000/30000 [==============================] - 1s 25us/step - loss: 0.3810 - acc: 0.8563 - val_loss: 0.4211 - val_acc: 0.8355\n",
            "Epoch 14/20\n",
            "30000/30000 [==============================] - 1s 25us/step - loss: 0.3814 - acc: 0.8557 - val_loss: 0.4062 - val_acc: 0.8432\n",
            "Epoch 15/20\n",
            "30000/30000 [==============================] - 1s 24us/step - loss: 0.3791 - acc: 0.8568 - val_loss: 0.4111 - val_acc: 0.8443\n",
            "Epoch 16/20\n",
            "30000/30000 [==============================] - 1s 24us/step - loss: 0.3783 - acc: 0.8576 - val_loss: 0.4064 - val_acc: 0.8455\n",
            "Epoch 17/20\n",
            "30000/30000 [==============================] - 1s 25us/step - loss: 0.3779 - acc: 0.8573 - val_loss: 0.4077 - val_acc: 0.8440\n",
            "Epoch 18/20\n",
            "30000/30000 [==============================] - 1s 25us/step - loss: 0.3823 - acc: 0.8554 - val_loss: 0.4282 - val_acc: 0.8405\n",
            "Epoch 19/20\n",
            "30000/30000 [==============================] - 1s 25us/step - loss: 0.3784 - acc: 0.8571 - val_loss: 0.4112 - val_acc: 0.8448\n",
            "Epoch 20/20\n",
            "30000/30000 [==============================] - 1s 25us/step - loss: 0.3794 - acc: 0.8572 - val_loss: 0.4073 - val_acc: 0.8453\n",
            "\n",
            "PFN AUC: 0.7109788681441134\n",
            "\n"
          ],
          "name": "stdout"
        },
        {
          "output_type": "display_data",
          "data": {
            "image/png": "[encoded data removed]",
            "text/plain": [
              "<Figure size 288x288 with 1 Axes>"
            ]
          },
          "metadata": {
            "tags": []
          }
        }
      ]
    },
    {
      "cell_type": "markdown",
      "metadata": {
        "id": "vkItZ3ZUPUu6",
        "colab_type": "text"
      },
      "source": [
        "AUC plot"
      ]
    },
    {
      "cell_type": "code",
      "metadata": {
        "id": "9JTa2Y_wPTl4",
        "colab_type": "code",
        "colab": {
          "base_uri": "https://localhost:8080/",
          "height": 297
        },
        "outputId": "246bf11c-59e5-4c66-d865-a2685072f2cf"
      },
      "source": [
        "plt.plot([1, 2, 3], [0.8540360091868698, 0.7844014463904062, 0.7109788681441134], \"r--o\")\n",
        "plt.axis([0, 4, 0.7, 0.9])\n",
        "plt.xlabel('Bin')\n",
        "plt.ylabel('AUC')\n",
        "plt.show()"
      ],
      "execution_count": 46,
      "outputs": [
        {
          "output_type": "display_data",
          "data": {
            "image/png": "[encoded data removed]",
            "text/plain": [
              "<Figure size 288x288 with 1 Axes>"
            ]
          },
          "metadata": {
            "tags": []
          }
        }
      ]
    },
    {
      "cell_type": "code",
      "metadata": {
        "id": "X78DjBUNQ2-6",
        "colab_type": "code",
        "colab": {}
      },
      "source": [
        ""
      ],
      "execution_count": 0,
      "outputs": []
    }
  ]
}