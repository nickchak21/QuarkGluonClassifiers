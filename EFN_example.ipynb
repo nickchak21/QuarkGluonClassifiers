{
  "nbformat": 4,
  "nbformat_minor": 0,
  "metadata": {
    "colab": {
      "name": "EFN_example.ipynb",
      "provenance": [],
      "include_colab_link": true
    },
    "kernelspec": {
      "name": "python3",
      "display_name": "Python 3"
    },
    "accelerator": "GPU"
  },
  "cells": [
    {
      "cell_type": "markdown",
      "metadata": {
        "id": "view-in-github",
        "colab_type": "text"
      },
      "source": [
        "<a href=\"https://colab.research.google.com/github/nickchak21/QuarkGluonClassifiers/blob/master/EFN_example.ipynb\" target=\"_parent\"><img src=\"https://colab.research.google.com/assets/colab-badge.svg\" alt=\"Open In Colab\"/></a>"
      ]
    },
    {
      "cell_type": "code",
      "metadata": {
        "id": "EDQHdFMzRKws",
        "colab_type": "code",
        "outputId": "f0d1fe4c-7d7f-4ad2-8e17-de6d4a2c04a7",
        "colab": {
          "base_uri": "https://localhost:8080/",
          "height": 289
        }
      },
      "source": [
        "!pip install energyflow\n",
        "!pip install h5py"
      ],
      "execution_count": 0,
      "outputs": [
        {
          "output_type": "stream",
          "text": [
            "Collecting energyflow\n",
            "\u001b[?25l  Downloading https://files.pythonhosted.org/packages/b6/03/7a9e6a8ce08f6ffc98d8fc6cb5610a499f392af4a555cfd296ba44aa778c/EnergyFlow-0.13.2-py2.py3-none-any.whl (867kB)\n",
            "\r\u001b[K     |▍                               | 10kB 24.7MB/s eta 0:00:01\r\u001b[K     |▊                               | 20kB 4.0MB/s eta 0:00:01\r\u001b[K     |█▏                              | 30kB 5.7MB/s eta 0:00:01\r\u001b[K     |█▌                              | 40kB 7.0MB/s eta 0:00:01\r\u001b[K     |█▉                              | 51kB 4.8MB/s eta 0:00:01\r\u001b[K     |██▎                             | 61kB 5.6MB/s eta 0:00:01\r\u001b[K     |██▋                             | 71kB 6.3MB/s eta 0:00:01\r\u001b[K     |███                             | 81kB 7.0MB/s eta 0:00:01\r\u001b[K     |███▍                            | 92kB 7.6MB/s eta 0:00:01\r\u001b[K     |███▊                            | 102kB 6.3MB/s eta 0:00:01\r\u001b[K     |████▏                           | 112kB 6.3MB/s eta 0:00:01\r\u001b[K     |████▌                           | 122kB 6.3MB/s eta 0:00:01\r\u001b[K     |█████                           | 133kB 6.3MB/s eta 0:00:01\r\u001b[K     |█████▎                          | 143kB 6.3MB/s eta 0:00:01\r\u001b[K     |█████▋                          | 153kB 6.3MB/s eta 0:00:01\r\u001b[K     |██████                          | 163kB 6.3MB/s eta 0:00:01\r\u001b[K     |██████▍                         | 174kB 6.3MB/s eta 0:00:01\r\u001b[K     |██████▉                         | 184kB 6.3MB/s eta 0:00:01\r\u001b[K     |███████▏                        | 194kB 6.3MB/s eta 0:00:01\r\u001b[K     |███████▌                        | 204kB 6.3MB/s eta 0:00:01\r\u001b[K     |████████                        | 215kB 6.3MB/s eta 0:00:01\r\u001b[K     |████████▎                       | 225kB 6.3MB/s eta 0:00:01\r\u001b[K     |████████▊                       | 235kB 6.3MB/s eta 0:00:01\r\u001b[K     |█████████                       | 245kB 6.3MB/s eta 0:00:01\r\u001b[K     |█████████▍                      | 256kB 6.3MB/s eta 0:00:01\r\u001b[K     |█████████▉                      | 266kB 6.3MB/s eta 0:00:01\r\u001b[K     |██████████▏                     | 276kB 6.3MB/s eta 0:00:01\r\u001b[K     |██████████▋                     | 286kB 6.3MB/s eta 0:00:01\r\u001b[K     |███████████                     | 296kB 6.3MB/s eta 0:00:01\r\u001b[K     |███████████▎                    | 307kB 6.3MB/s eta 0:00:01\r\u001b[K     |███████████▊                    | 317kB 6.3MB/s eta 0:00:01\r\u001b[K     |████████████                    | 327kB 6.3MB/s eta 0:00:01\r\u001b[K     |████████████▌                   | 337kB 6.3MB/s eta 0:00:01\r\u001b[K     |████████████▉                   | 348kB 6.3MB/s eta 0:00:01\r\u001b[K     |█████████████▏                  | 358kB 6.3MB/s eta 0:00:01\r\u001b[K     |█████████████▋                  | 368kB 6.3MB/s eta 0:00:01\r\u001b[K     |██████████████                  | 378kB 6.3MB/s eta 0:00:01\r\u001b[K     |██████████████▍                 | 389kB 6.3MB/s eta 0:00:01\r\u001b[K     |██████████████▊                 | 399kB 6.3MB/s eta 0:00:01\r\u001b[K     |███████████████                 | 409kB 6.3MB/s eta 0:00:01\r\u001b[K     |███████████████▌                | 419kB 6.3MB/s eta 0:00:01\r\u001b[K     |███████████████▉                | 430kB 6.3MB/s eta 0:00:01\r\u001b[K     |████████████████▎               | 440kB 6.3MB/s eta 0:00:01\r\u001b[K     |████████████████▋               | 450kB 6.3MB/s eta 0:00:01\r\u001b[K     |█████████████████               | 460kB 6.3MB/s eta 0:00:01\r\u001b[K     |█████████████████▍              | 471kB 6.3MB/s eta 0:00:01\r\u001b[K     |█████████████████▊              | 481kB 6.3MB/s eta 0:00:01\r\u001b[K     |██████████████████▏             | 491kB 6.3MB/s eta 0:00:01\r\u001b[K     |██████████████████▌             | 501kB 6.3MB/s eta 0:00:01\r\u001b[K     |██████████████████▉             | 512kB 6.3MB/s eta 0:00:01\r\u001b[K     |███████████████████▎            | 522kB 6.3MB/s eta 0:00:01\r\u001b[K     |███████████████████▋            | 532kB 6.3MB/s eta 0:00:01\r\u001b[K     |████████████████████            | 542kB 6.3MB/s eta 0:00:01\r\u001b[K     |████████████████████▍           | 552kB 6.3MB/s eta 0:00:01\r\u001b[K     |████████████████████▊           | 563kB 6.3MB/s eta 0:00:01\r\u001b[K     |█████████████████████▏          | 573kB 6.3MB/s eta 0:00:01\r\u001b[K     |█████████████████████▌          | 583kB 6.3MB/s eta 0:00:01\r\u001b[K     |██████████████████████          | 593kB 6.3MB/s eta 0:00:01\r\u001b[K     |██████████████████████▎         | 604kB 6.3MB/s eta 0:00:01\r\u001b[K     |██████████████████████▋         | 614kB 6.3MB/s eta 0:00:01\r\u001b[K     |███████████████████████         | 624kB 6.3MB/s eta 0:00:01\r\u001b[K     |███████████████████████▍        | 634kB 6.3MB/s eta 0:00:01\r\u001b[K     |███████████████████████▉        | 645kB 6.3MB/s eta 0:00:01\r\u001b[K     |████████████████████████▏       | 655kB 6.3MB/s eta 0:00:01\r\u001b[K     |████████████████████████▌       | 665kB 6.3MB/s eta 0:00:01\r\u001b[K     |█████████████████████████       | 675kB 6.3MB/s eta 0:00:01\r\u001b[K     |█████████████████████████▎      | 686kB 6.3MB/s eta 0:00:01\r\u001b[K     |█████████████████████████▊      | 696kB 6.3MB/s eta 0:00:01\r\u001b[K     |██████████████████████████      | 706kB 6.3MB/s eta 0:00:01\r\u001b[K     |██████████████████████████▍     | 716kB 6.3MB/s eta 0:00:01\r\u001b[K     |██████████████████████████▉     | 727kB 6.3MB/s eta 0:00:01\r\u001b[K     |███████████████████████████▏    | 737kB 6.3MB/s eta 0:00:01\r\u001b[K     |███████████████████████████▋    | 747kB 6.3MB/s eta 0:00:01\r\u001b[K     |████████████████████████████    | 757kB 6.3MB/s eta 0:00:01\r\u001b[K     |████████████████████████████▎   | 768kB 6.3MB/s eta 0:00:01\r\u001b[K     |████████████████████████████▊   | 778kB 6.3MB/s eta 0:00:01\r\u001b[K     |█████████████████████████████   | 788kB 6.3MB/s eta 0:00:01\r\u001b[K     |█████████████████████████████▌  | 798kB 6.3MB/s eta 0:00:01\r\u001b[K     |█████████████████████████████▉  | 808kB 6.3MB/s eta 0:00:01\r\u001b[K     |██████████████████████████████▏ | 819kB 6.3MB/s eta 0:00:01\r\u001b[K     |██████████████████████████████▋ | 829kB 6.3MB/s eta 0:00:01\r\u001b[K     |███████████████████████████████ | 839kB 6.3MB/s eta 0:00:01\r\u001b[K     |███████████████████████████████▍| 849kB 6.3MB/s eta 0:00:01\r\u001b[K     |███████████████████████████████▊| 860kB 6.3MB/s eta 0:00:01\r\u001b[K     |████████████████████████████████| 870kB 6.3MB/s \n",
            "\u001b[?25hRequirement already satisfied: six>=1.10.0 in /usr/local/lib/python3.6/dist-packages (from energyflow) (1.12.0)\n",
            "Requirement already satisfied: numpy>=1.14.0 in /usr/local/lib/python3.6/dist-packages (from energyflow) (1.17.3)\n",
            "Collecting h5py>=2.9.0\n",
            "\u001b[?25l  Downloading https://files.pythonhosted.org/packages/60/06/cafdd44889200e5438b897388f3075b52a8ef01f28a17366d91de0fa2d05/h5py-2.10.0-cp36-cp36m-manylinux1_x86_64.whl (2.9MB)\n",
            "\u001b[K     |████████████████████████████████| 2.9MB 40.1MB/s \n",
            "\u001b[?25hInstalling collected packages: h5py, energyflow\n",
            "  Found existing installation: h5py 2.8.0\n",
            "    Uninstalling h5py-2.8.0:\n",
            "      Successfully uninstalled h5py-2.8.0\n",
            "Successfully installed energyflow-0.13.2 h5py-2.10.0\n",
            "Requirement already satisfied: h5py in /usr/local/lib/python3.6/dist-packages (2.10.0)\n",
            "Requirement already satisfied: numpy>=1.7 in /usr/local/lib/python3.6/dist-packages (from h5py) (1.17.3)\n",
            "Requirement already satisfied: six in /usr/local/lib/python3.6/dist-packages (from h5py) (1.12.0)\n"
          ],
          "name": "stdout"
        }
      ]
    },
    {
      "cell_type": "code",
      "metadata": {
        "id": "jCY1hm8xSJyX",
        "colab_type": "code",
        "outputId": "3c99cf02-1add-4f50-85db-b8ca2cc2ac8a",
        "colab": {
          "base_uri": "https://localhost:8080/",
          "height": 34
        }
      },
      "source": [
        "!python --version"
      ],
      "execution_count": 0,
      "outputs": [
        {
          "output_type": "stream",
          "text": [
            "Python 3.6.8\n"
          ],
          "name": "stdout"
        }
      ]
    },
    {
      "cell_type": "code",
      "metadata": {
        "id": "1r3rd5lMSYiH",
        "colab_type": "code",
        "outputId": "b2676a64-3326-4ef5-c9b5-f3034baef812",
        "colab": {
          "base_uri": "https://localhost:8080/",
          "height": 153
        }
      },
      "source": [
        "!pip install POT"
      ],
      "execution_count": 0,
      "outputs": [
        {
          "output_type": "stream",
          "text": [
            "Collecting POT\n",
            "\u001b[?25l  Downloading https://files.pythonhosted.org/packages/15/36/07d3c0960a590b88b81fa1837e666cc7479b90c7e9fd1063024ce9331122/POT-0.6.0-cp36-cp36m-manylinux1_x86_64.whl (305kB)\n",
            "\r\u001b[K     |█                               | 10kB 13.5MB/s eta 0:00:01\r\u001b[K     |██▏                             | 20kB 4.1MB/s eta 0:00:01\r\u001b[K     |███▏                            | 30kB 5.7MB/s eta 0:00:01\r\u001b[K     |████▎                           | 40kB 7.3MB/s eta 0:00:01\r\u001b[K     |█████▍                          | 51kB 4.8MB/s eta 0:00:01\r\u001b[K     |██████▍                         | 61kB 5.7MB/s eta 0:00:01\r\u001b[K     |███████▌                        | 71kB 6.4MB/s eta 0:00:01\r\u001b[K     |████████▋                       | 81kB 7.1MB/s eta 0:00:01\r\u001b[K     |█████████▋                      | 92kB 7.9MB/s eta 0:00:01\r\u001b[K     |██████████▊                     | 102kB 6.3MB/s eta 0:00:01\r\u001b[K     |███████████▉                    | 112kB 6.3MB/s eta 0:00:01\r\u001b[K     |████████████▉                   | 122kB 6.3MB/s eta 0:00:01\r\u001b[K     |██████████████                  | 133kB 6.3MB/s eta 0:00:01\r\u001b[K     |███████████████                 | 143kB 6.3MB/s eta 0:00:01\r\u001b[K     |████████████████                | 153kB 6.3MB/s eta 0:00:01\r\u001b[K     |█████████████████▏              | 163kB 6.3MB/s eta 0:00:01\r\u001b[K     |██████████████████▎             | 174kB 6.3MB/s eta 0:00:01\r\u001b[K     |███████████████████▎            | 184kB 6.3MB/s eta 0:00:01\r\u001b[K     |████████████████████▍           | 194kB 6.3MB/s eta 0:00:01\r\u001b[K     |█████████████████████▍          | 204kB 6.3MB/s eta 0:00:01\r\u001b[K     |██████████████████████▌         | 215kB 6.3MB/s eta 0:00:01\r\u001b[K     |███████████████████████▋        | 225kB 6.3MB/s eta 0:00:01\r\u001b[K     |████████████████████████▋       | 235kB 6.3MB/s eta 0:00:01\r\u001b[K     |█████████████████████████▊      | 245kB 6.3MB/s eta 0:00:01\r\u001b[K     |██████████████████████████▉     | 256kB 6.3MB/s eta 0:00:01\r\u001b[K     |███████████████████████████▉    | 266kB 6.3MB/s eta 0:00:01\r\u001b[K     |█████████████████████████████   | 276kB 6.3MB/s eta 0:00:01\r\u001b[K     |██████████████████████████████  | 286kB 6.3MB/s eta 0:00:01\r\u001b[K     |███████████████████████████████ | 296kB 6.3MB/s eta 0:00:01\r\u001b[K     |████████████████████████████████| 307kB 6.3MB/s \n",
            "\u001b[?25hRequirement already satisfied: numpy in /usr/local/lib/python3.6/dist-packages (from POT) (1.17.3)\n",
            "Requirement already satisfied: scipy in /usr/local/lib/python3.6/dist-packages (from POT) (1.3.1)\n",
            "Requirement already satisfied: cython in /usr/local/lib/python3.6/dist-packages (from POT) (0.29.13)\n",
            "Installing collected packages: POT\n",
            "Successfully installed POT-0.6.0\n"
          ],
          "name": "stdout"
        }
      ]
    },
    {
      "cell_type": "code",
      "metadata": {
        "id": "jjupFyDlShn7",
        "colab_type": "code",
        "outputId": "4f61bdea-05a6-4eb6-d550-dc30a304655a",
        "colab": {
          "base_uri": "https://localhost:8080/",
          "height": 238
        }
      },
      "source": [
        "!python -c \"import energyflow; energyflow.utils.get_examples()\""
      ],
      "execution_count": 0,
      "outputs": [
        {
          "output_type": "stream",
          "text": [
            "Downloading pfn_example.py from https://github.com/pkomiske/EnergyFlow/raw/master/examples/pfn_example.py to /root/.energyflow/examples\n",
            "Downloading efn_example.py from https://github.com/pkomiske/EnergyFlow/raw/master/examples/efn_example.py to /root/.energyflow/examples\n",
            "Downloading cnn_example.py from https://github.com/pkomiske/EnergyFlow/raw/master/examples/cnn_example.py to /root/.energyflow/examples\n",
            "Downloading dnn_example.py from https://github.com/pkomiske/EnergyFlow/raw/master/examples/dnn_example.py to /root/.energyflow/examples\n",
            "Downloading efp_example.py from https://github.com/pkomiske/EnergyFlow/raw/master/examples/efp_example.py to /root/.energyflow/examples\n",
            "\n",
            "Summary of examples:\n",
            "pfn_example.py exists at /root/.energyflow/examples\n",
            "efn_example.py exists at /root/.energyflow/examples\n",
            "cnn_example.py exists at /root/.energyflow/examples\n",
            "dnn_example.py exists at /root/.energyflow/examples\n",
            "efp_example.py exists at /root/.energyflow/examples\n",
            "\n"
          ],
          "name": "stdout"
        }
      ]
    },
    {
      "cell_type": "code",
      "metadata": {
        "id": "Lq8SY4RuSl6B",
        "colab_type": "code",
        "outputId": "c964ee4c-048b-4d33-b839-892a4457c3ec",
        "colab": {
          "base_uri": "https://localhost:8080/",
          "height": 1000
        }
      },
      "source": [
        "!python /root/.energyflow/examples/efn_example.py"
      ],
      "execution_count": 0,
      "outputs": [
        {
          "output_type": "stream",
          "text": [
            "Using TensorFlow backend.\n",
            "Downloading QG_jets.npz from https://www.dropbox.com/s/fclsl7pukcpobsb/QG_jets.npz?dl=1 to /root/.energyflow/datasets\n",
            "Loaded quark and gluon jets\n",
            "Finished preprocessing\n",
            "Done train/val/test split\n",
            "Model summary:\n",
            "WARNING:tensorflow:From /usr/local/lib/python3.6/dist-packages/keras/backend/tensorflow_backend.py:541: The name tf.placeholder is deprecated. Please use tf.compat.v1.placeholder instead.\n",
            "\n",
            "WARNING:tensorflow:From /usr/local/lib/python3.6/dist-packages/keras/backend/tensorflow_backend.py:66: The name tf.get_default_graph is deprecated. Please use tf.compat.v1.get_default_graph instead.\n",
            "\n",
            "WARNING:tensorflow:From /usr/local/lib/python3.6/dist-packages/keras/backend/tensorflow_backend.py:4432: The name tf.random_uniform is deprecated. Please use tf.random.uniform instead.\n",
            "\n",
            "WARNING:tensorflow:From /usr/local/lib/python3.6/dist-packages/keras/optimizers.py:793: The name tf.train.Optimizer is deprecated. Please use tf.compat.v1.train.Optimizer instead.\n",
            "\n",
            "WARNING:tensorflow:From /usr/local/lib/python3.6/dist-packages/keras/backend/tensorflow_backend.py:3576: The name tf.log is deprecated. Please use tf.math.log instead.\n",
            "\n",
            "Model: \"model_1\"\n",
            "__________________________________________________________________________________________________\n",
            "Layer (type)                    Output Shape         Param #     Connected to                     \n",
            "==================================================================================================\n",
            "phats_input (InputLayer)        (None, None, 2)      0                                            \n",
            "__________________________________________________________________________________________________\n",
            "tdist_0 (TimeDistributed)       (None, None, 100)    300         phats_input[0][0]                \n",
            "__________________________________________________________________________________________________\n",
            "activation_1 (Activation)       (None, None, 100)    0           tdist_0[0][0]                    \n",
            "__________________________________________________________________________________________________\n",
            "tdist_1 (TimeDistributed)       (None, None, 100)    10100       activation_1[0][0]               \n",
            "__________________________________________________________________________________________________\n",
            "activation_2 (Activation)       (None, None, 100)    0           tdist_1[0][0]                    \n",
            "__________________________________________________________________________________________________\n",
            "zs_input (InputLayer)           (None, None)         0                                            \n",
            "__________________________________________________________________________________________________\n",
            "tdist_2 (TimeDistributed)       (None, None, 128)    12928       activation_2[0][0]               \n",
            "__________________________________________________________________________________________________\n",
            "mask (Lambda)                   (None, None)         0           zs_input[0][0]                   \n",
            "__________________________________________________________________________________________________\n",
            "activation_3 (Activation)       (None, None, 128)    0           tdist_2[0][0]                    \n",
            "__________________________________________________________________________________________________\n",
            "sum (Dot)                       (None, 128)          0           mask[0][0]                       \n",
            "                                                                 activation_3[0][0]               \n",
            "__________________________________________________________________________________________________\n",
            "dense_0 (Dense)                 (None, 100)          12900       sum[0][0]                        \n",
            "__________________________________________________________________________________________________\n",
            "activation_4 (Activation)       (None, 100)          0           dense_0[0][0]                    \n",
            "__________________________________________________________________________________________________\n",
            "dense_1 (Dense)                 (None, 100)          10100       activation_4[0][0]               \n",
            "__________________________________________________________________________________________________\n",
            "activation_5 (Activation)       (None, 100)          0           dense_1[0][0]                    \n",
            "__________________________________________________________________________________________________\n",
            "dense_2 (Dense)                 (None, 100)          10100       activation_5[0][0]               \n",
            "__________________________________________________________________________________________________\n",
            "activation_6 (Activation)       (None, 100)          0           dense_2[0][0]                    \n",
            "__________________________________________________________________________________________________\n",
            "output (Dense)                  (None, 2)            202         activation_6[0][0]               \n",
            "__________________________________________________________________________________________________\n",
            "activation_7 (Activation)       (None, 2)            0           output[0][0]                     \n",
            "==================================================================================================\n",
            "Total params: 56,630\n",
            "Trainable params: 56,630\n",
            "Non-trainable params: 0\n",
            "__________________________________________________________________________________________________\n",
            "WARNING:tensorflow:From /usr/local/lib/python3.6/dist-packages/tensorflow_core/python/ops/math_grad.py:1424: where (from tensorflow.python.ops.array_ops) is deprecated and will be removed in a future version.\n",
            "Instructions for updating:\n",
            "Use tf.where in 2.0, which has the same broadcast rule as np.where\n",
            "WARNING:tensorflow:From /usr/local/lib/python3.6/dist-packages/keras/backend/tensorflow_backend.py:1033: The name tf.assign_add is deprecated. Please use tf.compat.v1.assign_add instead.\n",
            "\n",
            "WARNING:tensorflow:From /usr/local/lib/python3.6/dist-packages/keras/backend/tensorflow_backend.py:1020: The name tf.assign is deprecated. Please use tf.compat.v1.assign instead.\n",
            "\n",
            "WARNING:tensorflow:From /usr/local/lib/python3.6/dist-packages/keras/backend/tensorflow_backend.py:3005: The name tf.Session is deprecated. Please use tf.compat.v1.Session instead.\n",
            "\n",
            "Train on 75000 samples, validate on 10000 samples\n",
            "Epoch 1/5\n",
            "WARNING:tensorflow:From /usr/local/lib/python3.6/dist-packages/keras/backend/tensorflow_backend.py:190: The name tf.get_default_session is deprecated. Please use tf.compat.v1.get_default_session instead.\n",
            "\n",
            "WARNING:tensorflow:From /usr/local/lib/python3.6/dist-packages/keras/backend/tensorflow_backend.py:197: The name tf.ConfigProto is deprecated. Please use tf.compat.v1.ConfigProto instead.\n",
            "\n",
            "2019-11-07 19:33:54.217067: I tensorflow/core/platform/profile_utils/cpu_utils.cc:94] CPU Frequency: 2300000000 Hz\n",
            "2019-11-07 19:33:54.217625: I tensorflow/compiler/xla/service/service.cc:168] XLA service 0x17519c0 initialized for platform Host (this does not guarantee that XLA will be used). Devices:\n",
            "2019-11-07 19:33:54.217664: I tensorflow/compiler/xla/service/service.cc:176]   StreamExecutor device (0): Host, Default Version\n",
            "2019-11-07 19:33:54.223278: I tensorflow/stream_executor/platform/default/dso_loader.cc:44] Successfully opened dynamic library libcuda.so.1\n",
            "2019-11-07 19:33:54.384763: I tensorflow/stream_executor/cuda/cuda_gpu_executor.cc:983] successful NUMA node read from SysFS had negative value (-1), but there must be at least one NUMA node, so returning NUMA node zero\n",
            "2019-11-07 19:33:54.385823: I tensorflow/compiler/xla/service/service.cc:168] XLA service 0x1751b80 initialized for platform CUDA (this does not guarantee that XLA will be used). Devices:\n",
            "2019-11-07 19:33:54.385852: I tensorflow/compiler/xla/service/service.cc:176]   StreamExecutor device (0): Tesla P100-PCIE-16GB, Compute Capability 6.0\n",
            "2019-11-07 19:33:54.387224: I tensorflow/stream_executor/cuda/cuda_gpu_executor.cc:983] successful NUMA node read from SysFS had negative value (-1), but there must be at least one NUMA node, so returning NUMA node zero\n",
            "2019-11-07 19:33:54.388060: I tensorflow/core/common_runtime/gpu/gpu_device.cc:1618] Found device 0 with properties: \n",
            "name: Tesla P100-PCIE-16GB major: 6 minor: 0 memoryClockRate(GHz): 1.3285\n",
            "pciBusID: 0000:00:04.0\n",
            "2019-11-07 19:33:54.401121: I tensorflow/stream_executor/platform/default/dso_loader.cc:44] Successfully opened dynamic library libcudart.so.10.0\n",
            "2019-11-07 19:33:54.610277: I tensorflow/stream_executor/platform/default/dso_loader.cc:44] Successfully opened dynamic library libcublas.so.10.0\n",
            "2019-11-07 19:33:54.705555: I tensorflow/stream_executor/platform/default/dso_loader.cc:44] Successfully opened dynamic library libcufft.so.10.0\n",
            "2019-11-07 19:33:54.731122: I tensorflow/stream_executor/platform/default/dso_loader.cc:44] Successfully opened dynamic library libcurand.so.10.0\n",
            "2019-11-07 19:33:54.959055: I tensorflow/stream_executor/platform/default/dso_loader.cc:44] Successfully opened dynamic library libcusolver.so.10.0\n",
            "2019-11-07 19:33:55.088917: I tensorflow/stream_executor/platform/default/dso_loader.cc:44] Successfully opened dynamic library libcusparse.so.10.0\n",
            "2019-11-07 19:33:55.524555: I tensorflow/stream_executor/platform/default/dso_loader.cc:44] Successfully opened dynamic library libcudnn.so.7\n",
            "2019-11-07 19:33:55.524850: I tensorflow/stream_executor/cuda/cuda_gpu_executor.cc:983] successful NUMA node read from SysFS had negative value (-1), but there must be at least one NUMA node, so returning NUMA node zero\n",
            "2019-11-07 19:33:55.525811: I tensorflow/stream_executor/cuda/cuda_gpu_executor.cc:983] successful NUMA node read from SysFS had negative value (-1), but there must be at least one NUMA node, so returning NUMA node zero\n",
            "2019-11-07 19:33:55.526695: I tensorflow/core/common_runtime/gpu/gpu_device.cc:1746] Adding visible gpu devices: 0\n",
            "2019-11-07 19:33:55.530771: I tensorflow/stream_executor/platform/default/dso_loader.cc:44] Successfully opened dynamic library libcudart.so.10.0\n",
            "2019-11-07 19:33:55.532686: I tensorflow/core/common_runtime/gpu/gpu_device.cc:1159] Device interconnect StreamExecutor with strength 1 edge matrix:\n",
            "2019-11-07 19:33:55.532726: I tensorflow/core/common_runtime/gpu/gpu_device.cc:1165]      0 \n",
            "2019-11-07 19:33:55.532749: I tensorflow/core/common_runtime/gpu/gpu_device.cc:1178] 0:   N \n",
            "2019-11-07 19:33:55.533884: I tensorflow/stream_executor/cuda/cuda_gpu_executor.cc:983] successful NUMA node read from SysFS had negative value (-1), but there must be at least one NUMA node, so returning NUMA node zero\n",
            "2019-11-07 19:33:55.534934: I tensorflow/stream_executor/cuda/cuda_gpu_executor.cc:983] successful NUMA node read from SysFS had negative value (-1), but there must be at least one NUMA node, so returning NUMA node zero\n",
            "2019-11-07 19:33:55.535762: W tensorflow/core/common_runtime/gpu/gpu_bfc_allocator.cc:39] Overriding allow_growth setting because the TF_FORCE_GPU_ALLOW_GROWTH environment variable is set. Original config value was 0.\n",
            "2019-11-07 19:33:55.535829: I tensorflow/core/common_runtime/gpu/gpu_device.cc:1304] Created TensorFlow device (/job:localhost/replica:0/task:0/device:GPU:0 with 15216 MB memory) -> physical GPU (device: 0, name: Tesla P100-PCIE-16GB, pci bus id: 0000:00:04.0, compute capability: 6.0)\n",
            "WARNING:tensorflow:From /usr/local/lib/python3.6/dist-packages/keras/backend/tensorflow_backend.py:207: The name tf.global_variables is deprecated. Please use tf.compat.v1.global_variables instead.\n",
            "\n",
            "WARNING:tensorflow:From /usr/local/lib/python3.6/dist-packages/keras/backend/tensorflow_backend.py:216: The name tf.is_variable_initialized is deprecated. Please use tf.compat.v1.is_variable_initialized instead.\n",
            "\n",
            "WARNING:tensorflow:From /usr/local/lib/python3.6/dist-packages/keras/backend/tensorflow_backend.py:223: The name tf.variables_initializer is deprecated. Please use tf.compat.v1.variables_initializer instead.\n",
            "\n",
            "2019-11-07 19:33:58.756687: I tensorflow/stream_executor/platform/default/dso_loader.cc:44] Successfully opened dynamic library libcublas.so.10.0\n",
            "75000/75000 [==============================] - 7s 97us/step - loss: 0.5910 - acc: 0.6833 - val_loss: 0.5709 - val_acc: 0.6974\n",
            "Epoch 2/5\n",
            "75000/75000 [==============================] - 2s 24us/step - loss: 0.5428 - acc: 0.7228 - val_loss: 0.5316 - val_acc: 0.7341\n",
            "Epoch 3/5\n",
            "75000/75000 [==============================] - 2s 24us/step - loss: 0.5196 - acc: 0.7479 - val_loss: 0.5119 - val_acc: 0.7504\n",
            "Epoch 4/5\n",
            "75000/75000 [==============================] - 2s 24us/step - loss: 0.5110 - acc: 0.7536 - val_loss: 0.5038 - val_acc: 0.7585\n",
            "Epoch 5/5\n",
            "75000/75000 [==============================] - 2s 23us/step - loss: 0.5056 - acc: 0.7568 - val_loss: 0.5012 - val_acc: 0.7615\n",
            "\n",
            "EFN AUC: 0.822051437885103\n",
            "\n",
            "<Figure size 800x400 with 2 Axes>\n"
          ],
          "name": "stdout"
        }
      ]
    },
    {
      "cell_type": "code",
      "metadata": {
        "id": "oWPwDeMQWI5r",
        "colab_type": "code",
        "colab": {}
      },
      "source": [
        ""
      ],
      "execution_count": 0,
      "outputs": []
    }
  ]
}