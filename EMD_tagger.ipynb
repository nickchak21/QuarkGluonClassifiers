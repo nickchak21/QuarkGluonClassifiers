{
  "nbformat": 4,
  "nbformat_minor": 0,
  "metadata": {
    "colab": {
      "name": "EMD_tagger.ipynb",
      "provenance": [],
      "include_colab_link": true
    },
    "kernelspec": {
      "name": "python3",
      "display_name": "Python 3"
    },
    "accelerator": "GPU"
  },
  "cells": [
    {
      "cell_type": "markdown",
      "metadata": {
        "id": "view-in-github",
        "colab_type": "text"
      },
      "source": [
        "<a href=\"https://colab.research.google.com/github/nickchak21/QuarkGluonClassifiers/blob/master/EMD_tagger.ipynb\" target=\"_parent\"><img src=\"https://colab.research.google.com/assets/colab-badge.svg\" alt=\"Open In Colab\"/></a>"
      ]
    },
    {
      "cell_type": "code",
      "metadata": {
        "id": "EDQHdFMzRKws",
        "colab_type": "code",
        "outputId": "89b9b192-47cb-46bf-9d74-7170f8dd2d59",
        "colab": {
          "base_uri": "https://localhost:8080/",
          "height": 289
        }
      },
      "source": [
        "!pip install energyflow\n",
        "!pip install h5py"
      ],
      "execution_count": 1,
      "outputs": [
        {
          "output_type": "stream",
          "text": [
            "Collecting energyflow\n",
            "\u001b[?25l  Downloading https://files.pythonhosted.org/packages/35/ba/f598bafbde78553b962dc1f693ef95365cc752ddbdb448856858093579eb/EnergyFlow-1.0.0-py2.py3-none-any.whl (679kB)\n",
            "\r\u001b[K     |▌                               | 10kB 18.4MB/s eta 0:00:01\r\u001b[K     |█                               | 20kB 2.2MB/s eta 0:00:01\r\u001b[K     |█▌                              | 30kB 3.2MB/s eta 0:00:01\r\u001b[K     |██                              | 40kB 2.1MB/s eta 0:00:01\r\u001b[K     |██▍                             | 51kB 2.6MB/s eta 0:00:01\r\u001b[K     |███                             | 61kB 3.1MB/s eta 0:00:01\r\u001b[K     |███▍                            | 71kB 3.6MB/s eta 0:00:01\r\u001b[K     |███▉                            | 81kB 4.1MB/s eta 0:00:01\r\u001b[K     |████▍                           | 92kB 4.5MB/s eta 0:00:01\r\u001b[K     |████▉                           | 102kB 3.5MB/s eta 0:00:01\r\u001b[K     |█████▎                          | 112kB 3.5MB/s eta 0:00:01\r\u001b[K     |█████▉                          | 122kB 3.5MB/s eta 0:00:01\r\u001b[K     |██████▎                         | 133kB 3.5MB/s eta 0:00:01\r\u001b[K     |██████▊                         | 143kB 3.5MB/s eta 0:00:01\r\u001b[K     |███████▎                        | 153kB 3.5MB/s eta 0:00:01\r\u001b[K     |███████▊                        | 163kB 3.5MB/s eta 0:00:01\r\u001b[K     |████████▏                       | 174kB 3.5MB/s eta 0:00:01\r\u001b[K     |████████▊                       | 184kB 3.5MB/s eta 0:00:01\r\u001b[K     |█████████▏                      | 194kB 3.5MB/s eta 0:00:01\r\u001b[K     |█████████▋                      | 204kB 3.5MB/s eta 0:00:01\r\u001b[K     |██████████▏                     | 215kB 3.5MB/s eta 0:00:01\r\u001b[K     |██████████▋                     | 225kB 3.5MB/s eta 0:00:01\r\u001b[K     |███████████                     | 235kB 3.5MB/s eta 0:00:01\r\u001b[K     |███████████▋                    | 245kB 3.5MB/s eta 0:00:01\r\u001b[K     |████████████                    | 256kB 3.5MB/s eta 0:00:01\r\u001b[K     |████████████▌                   | 266kB 3.5MB/s eta 0:00:01\r\u001b[K     |█████████████                   | 276kB 3.5MB/s eta 0:00:01\r\u001b[K     |█████████████▌                  | 286kB 3.5MB/s eta 0:00:01\r\u001b[K     |██████████████                  | 296kB 3.5MB/s eta 0:00:01\r\u001b[K     |██████████████▌                 | 307kB 3.5MB/s eta 0:00:01\r\u001b[K     |███████████████                 | 317kB 3.5MB/s eta 0:00:01\r\u001b[K     |███████████████▍                | 327kB 3.5MB/s eta 0:00:01\r\u001b[K     |████████████████                | 337kB 3.5MB/s eta 0:00:01\r\u001b[K     |████████████████▍               | 348kB 3.5MB/s eta 0:00:01\r\u001b[K     |████████████████▉               | 358kB 3.5MB/s eta 0:00:01\r\u001b[K     |█████████████████▍              | 368kB 3.5MB/s eta 0:00:01\r\u001b[K     |█████████████████▉              | 378kB 3.5MB/s eta 0:00:01\r\u001b[K     |██████████████████▎             | 389kB 3.5MB/s eta 0:00:01\r\u001b[K     |██████████████████▉             | 399kB 3.5MB/s eta 0:00:01\r\u001b[K     |███████████████████▎            | 409kB 3.5MB/s eta 0:00:01\r\u001b[K     |███████████████████▊            | 419kB 3.5MB/s eta 0:00:01\r\u001b[K     |████████████████████▎           | 430kB 3.5MB/s eta 0:00:01\r\u001b[K     |████████████████████▊           | 440kB 3.5MB/s eta 0:00:01\r\u001b[K     |█████████████████████▏          | 450kB 3.5MB/s eta 0:00:01\r\u001b[K     |█████████████████████▊          | 460kB 3.5MB/s eta 0:00:01\r\u001b[K     |██████████████████████▏         | 471kB 3.5MB/s eta 0:00:01\r\u001b[K     |██████████████████████▋         | 481kB 3.5MB/s eta 0:00:01\r\u001b[K     |███████████████████████▏        | 491kB 3.5MB/s eta 0:00:01\r\u001b[K     |███████████████████████▋        | 501kB 3.5MB/s eta 0:00:01\r\u001b[K     |████████████████████████        | 512kB 3.5MB/s eta 0:00:01\r\u001b[K     |████████████████████████▋       | 522kB 3.5MB/s eta 0:00:01\r\u001b[K     |█████████████████████████       | 532kB 3.5MB/s eta 0:00:01\r\u001b[K     |█████████████████████████▌      | 542kB 3.5MB/s eta 0:00:01\r\u001b[K     |██████████████████████████      | 552kB 3.5MB/s eta 0:00:01\r\u001b[K     |██████████████████████████▌     | 563kB 3.5MB/s eta 0:00:01\r\u001b[K     |███████████████████████████     | 573kB 3.5MB/s eta 0:00:01\r\u001b[K     |███████████████████████████▌    | 583kB 3.5MB/s eta 0:00:01\r\u001b[K     |████████████████████████████    | 593kB 3.5MB/s eta 0:00:01\r\u001b[K     |████████████████████████████▍   | 604kB 3.5MB/s eta 0:00:01\r\u001b[K     |█████████████████████████████   | 614kB 3.5MB/s eta 0:00:01\r\u001b[K     |█████████████████████████████▍  | 624kB 3.5MB/s eta 0:00:01\r\u001b[K     |█████████████████████████████▉  | 634kB 3.5MB/s eta 0:00:01\r\u001b[K     |██████████████████████████████▍ | 645kB 3.5MB/s eta 0:00:01\r\u001b[K     |██████████████████████████████▉ | 655kB 3.5MB/s eta 0:00:01\r\u001b[K     |███████████████████████████████▎| 665kB 3.5MB/s eta 0:00:01\r\u001b[K     |███████████████████████████████▉| 675kB 3.5MB/s eta 0:00:01\r\u001b[K     |████████████████████████████████| 686kB 3.5MB/s \n",
            "\u001b[?25hRequirement already satisfied: six>=1.10.0 in /usr/local/lib/python3.6/dist-packages (from energyflow) (1.12.0)\n",
            "Collecting h5py>=2.9.0\n",
            "\u001b[?25l  Downloading https://files.pythonhosted.org/packages/60/06/cafdd44889200e5438b897388f3075b52a8ef01f28a17366d91de0fa2d05/h5py-2.10.0-cp36-cp36m-manylinux1_x86_64.whl (2.9MB)\n",
            "\u001b[K     |████████████████████████████████| 2.9MB 41.0MB/s \n",
            "\u001b[?25hRequirement already satisfied: numpy>=1.14.0 in /usr/local/lib/python3.6/dist-packages (from energyflow) (1.17.4)\n",
            "Installing collected packages: h5py, energyflow\n",
            "  Found existing installation: h5py 2.8.0\n",
            "    Uninstalling h5py-2.8.0:\n",
            "      Successfully uninstalled h5py-2.8.0\n",
            "Successfully installed energyflow-1.0.0 h5py-2.10.0\n",
            "Requirement already satisfied: h5py in /usr/local/lib/python3.6/dist-packages (2.10.0)\n",
            "Requirement already satisfied: numpy>=1.7 in /usr/local/lib/python3.6/dist-packages (from h5py) (1.17.4)\n",
            "Requirement already satisfied: six in /usr/local/lib/python3.6/dist-packages (from h5py) (1.12.0)\n"
          ],
          "name": "stdout"
        }
      ]
    },
    {
      "cell_type": "code",
      "metadata": {
        "id": "jCY1hm8xSJyX",
        "colab_type": "code",
        "outputId": "29aee374-e785-4c1a-8366-ce7cf6d65653",
        "colab": {
          "base_uri": "https://localhost:8080/",
          "height": 34
        }
      },
      "source": [
        "!python --version"
      ],
      "execution_count": 2,
      "outputs": [
        {
          "output_type": "stream",
          "text": [
            "Python 3.6.8\n"
          ],
          "name": "stdout"
        }
      ]
    },
    {
      "cell_type": "code",
      "metadata": {
        "id": "1r3rd5lMSYiH",
        "colab_type": "code",
        "outputId": "71d5439d-49f0-4e59-b085-ed02f0e43fe4",
        "colab": {
          "base_uri": "https://localhost:8080/",
          "height": 153
        }
      },
      "source": [
        "!pip install POT"
      ],
      "execution_count": 3,
      "outputs": [
        {
          "output_type": "stream",
          "text": [
            "Collecting POT\n",
            "\u001b[?25l  Downloading https://files.pythonhosted.org/packages/15/36/07d3c0960a590b88b81fa1837e666cc7479b90c7e9fd1063024ce9331122/POT-0.6.0-cp36-cp36m-manylinux1_x86_64.whl (305kB)\n",
            "\r\u001b[K     |█                               | 10kB 13.2MB/s eta 0:00:01\r\u001b[K     |██▏                             | 20kB 2.2MB/s eta 0:00:01\r\u001b[K     |███▏                            | 30kB 3.2MB/s eta 0:00:01\r\u001b[K     |████▎                           | 40kB 2.1MB/s eta 0:00:01\r\u001b[K     |█████▍                          | 51kB 2.6MB/s eta 0:00:01\r\u001b[K     |██████▍                         | 61kB 3.1MB/s eta 0:00:01\r\u001b[K     |███████▌                        | 71kB 3.6MB/s eta 0:00:01\r\u001b[K     |████████▋                       | 81kB 4.0MB/s eta 0:00:01\r\u001b[K     |█████████▋                      | 92kB 4.5MB/s eta 0:00:01\r\u001b[K     |██████████▊                     | 102kB 3.5MB/s eta 0:00:01\r\u001b[K     |███████████▉                    | 112kB 3.5MB/s eta 0:00:01\r\u001b[K     |████████████▉                   | 122kB 3.5MB/s eta 0:00:01\r\u001b[K     |██████████████                  | 133kB 3.5MB/s eta 0:00:01\r\u001b[K     |███████████████                 | 143kB 3.5MB/s eta 0:00:01\r\u001b[K     |████████████████                | 153kB 3.5MB/s eta 0:00:01\r\u001b[K     |█████████████████▏              | 163kB 3.5MB/s eta 0:00:01\r\u001b[K     |██████████████████▎             | 174kB 3.5MB/s eta 0:00:01\r\u001b[K     |███████████████████▎            | 184kB 3.5MB/s eta 0:00:01\r\u001b[K     |████████████████████▍           | 194kB 3.5MB/s eta 0:00:01\r\u001b[K     |█████████████████████▍          | 204kB 3.5MB/s eta 0:00:01\r\u001b[K     |██████████████████████▌         | 215kB 3.5MB/s eta 0:00:01\r\u001b[K     |███████████████████████▋        | 225kB 3.5MB/s eta 0:00:01\r\u001b[K     |████████████████████████▋       | 235kB 3.5MB/s eta 0:00:01\r\u001b[K     |█████████████████████████▊      | 245kB 3.5MB/s eta 0:00:01\r\u001b[K     |██████████████████████████▉     | 256kB 3.5MB/s eta 0:00:01\r\u001b[K     |███████████████████████████▉    | 266kB 3.5MB/s eta 0:00:01\r\u001b[K     |█████████████████████████████   | 276kB 3.5MB/s eta 0:00:01\r\u001b[K     |██████████████████████████████  | 286kB 3.5MB/s eta 0:00:01\r\u001b[K     |███████████████████████████████ | 296kB 3.5MB/s eta 0:00:01\r\u001b[K     |████████████████████████████████| 307kB 3.5MB/s \n",
            "\u001b[?25hRequirement already satisfied: numpy in /usr/local/lib/python3.6/dist-packages (from POT) (1.17.4)\n",
            "Requirement already satisfied: cython in /usr/local/lib/python3.6/dist-packages (from POT) (0.29.14)\n",
            "Requirement already satisfied: scipy in /usr/local/lib/python3.6/dist-packages (from POT) (1.3.2)\n",
            "Installing collected packages: POT\n",
            "Successfully installed POT-0.6.0\n"
          ],
          "name": "stdout"
        }
      ]
    },
    {
      "cell_type": "code",
      "metadata": {
        "id": "Lq8SY4RuSl6B",
        "colab_type": "code",
        "colab": {}
      },
      "source": [
        "import numpy as np\n",
        "# I really don't like matplotlib for histograms.\n",
        "%matplotlib inline\n",
        "import matplotlib \n",
        "import matplotlib.pyplot as plt\n",
        "\n",
        "\n",
        "#%jsroot on\n",
        "from energyflow.emd import emd, emds\n",
        "from energyflow.datasets import qg_jets\n",
        "from energyflow.utils import sum_ptyphipids\n",
        "import ot"
      ],
      "execution_count": 0,
      "outputs": []
    },
    {
      "cell_type": "code",
      "metadata": {
        "id": "AsZ5pCeySv1R",
        "colab_type": "code",
        "colab": {}
      },
      "source": [
        "from sklearn.metrics import roc_auc_score, roc_curve"
      ],
      "execution_count": 0,
      "outputs": []
    },
    {
      "cell_type": "code",
      "metadata": {
        "id": "bqbx22qtSx86",
        "colab_type": "code",
        "colab": {}
      },
      "source": [
        "from ot.lp import emd_c, check_result\n",
        "from scipy.spatial.distance import _distance_wrap"
      ],
      "execution_count": 0,
      "outputs": []
    },
    {
      "cell_type": "code",
      "metadata": {
        "id": "eJbr1j15S0QC",
        "colab_type": "code",
        "colab": {}
      },
      "source": [
        "# data controls.\n",
        "# we will use the n nearest neighbors in the \"electorate\" to vote on what kind of jet each candidate is.\n",
        "candidates, electorate = 200, 2000"
      ],
      "execution_count": 0,
      "outputs": []
    },
    {
      "cell_type": "code",
      "metadata": {
        "id": "Yltn1nBIS2YG",
        "colab_type": "code",
        "outputId": "4501ee32-44d0-4269-80f2-59b16a76363f",
        "colab": {
          "base_uri": "https://localhost:8080/",
          "height": 34
        }
      },
      "source": [
        "# load quark and gluon jets from Pythia. We want candidates + electorate of *each.*\n",
        "# Quarks are labeled \"1\" in this dataset, gluons are \"0\"\n",
        "\n",
        "# Shapes of jet,label are: (num_data,max_num_particles,4) and (num_data).\n",
        "# coordinates are:  (pt,y,phi,pid)\n",
        "# pad=False makes array of objects, not numbers.\n",
        "# Load extrajets to be sure we get enough of each type.\n",
        "extrajets = candidates\n",
        "jets,labels = qg_jets.load(2*(candidates + electorate + extrajets), generator='pythia', pad=False)\n",
        "maxevts = candidates+electorate\n",
        "nprint = int(maxevts*maxevts/10)\n",
        "\n",
        "# the jet radius for these jets\n",
        "jetR = 0.4"
      ],
      "execution_count": 8,
      "outputs": [
        {
          "output_type": "stream",
          "text": [
            "Downloading QG_jets.npz from https://www.dropbox.com/s/fclsl7pukcpobsb/QG_jets.npz?dl=1 to /root/.energyflow/datasets\n"
          ],
          "name": "stdout"
        }
      ]
    },
    {
      "cell_type": "code",
      "metadata": {
        "id": "eVP-MmUsS9i0",
        "colab_type": "code",
        "outputId": "dddadf61-8896-4b3a-fdaf-0ea0d02d2f1b",
        "colab": {
          "base_uri": "https://localhost:8080/",
          "height": 34
        }
      },
      "source": [
        "Gs = []\n",
        "Qs = []\n",
        "\n",
        "for arr,events in [(Gs, jets[labels==0]), (Qs, jets[labels==1])]:\n",
        "    for i,x in enumerate(events):\n",
        "        if i >= maxevts:  break\n",
        "        # ignore padded particles (not used) and remove particle id information(:3)\n",
        "        x = x[x[:,0] > 0,:3]\n",
        "        # center jet according to pt-centroid\n",
        "        yphi_avg = np.average(x[:,1:3], weights=x[:,0], axis=0)\n",
        "        x[:,1:3] -= yphi_avg\n",
        "        # mask out any particles farther than R=0.4 away from center (rare)\n",
        "        x = x[np.linalg.norm(x[:,1:3], axis=1) <= jetR]\n",
        "        # add to list\n",
        "        arr.append(x)\n",
        "        pass #evts\n",
        "    pass #gluonquark\n",
        "\n",
        "len(Gs), len(Qs)"
      ],
      "execution_count": 9,
      "outputs": [
        {
          "output_type": "execute_result",
          "data": {
            "text/plain": [
              "(2200, 2200)"
            ]
          },
          "metadata": {
            "tags": []
          },
          "execution_count": 9
        }
      ]
    },
    {
      "cell_type": "code",
      "metadata": {
        "id": "eLsLvijZTWqc",
        "colab_type": "code",
        "outputId": "fa6d0eae-9fd6-4efb-e221-b3ea4f87120f",
        "colab": {
          "base_uri": "https://localhost:8080/",
          "height": 34
        }
      },
      "source": [
        "constituentList = Gs[candidates:]+Qs[candidates:]\n",
        "len(constituentList)"
      ],
      "execution_count": 10,
      "outputs": [
        {
          "output_type": "execute_result",
          "data": {
            "text/plain": [
              "4000"
            ]
          },
          "metadata": {
            "tags": []
          },
          "execution_count": 10
        }
      ]
    },
    {
      "cell_type": "code",
      "metadata": {
        "id": "cO0QCIuATa6M",
        "colab_type": "code",
        "outputId": "4bfce6b7-02a9-40be-fd00-3b4d19020998",
        "colab": {
          "base_uri": "https://localhost:8080/",
          "height": 153
        }
      },
      "source": [
        "#array of distances of gluon candidate from all constituents. shape is (candidates,constituents)\n",
        "costM_g  = emds(Gs[0:candidates], constituentList, R=jetR, norm=True, verbose=1, n_jobs=4, print_every=nprint)\n",
        "#ditto for quarks.\n",
        "costM_q  = emds(Qs[0:candidates], constituentList, R=jetR, norm=True, verbose=1, n_jobs=4, print_every=nprint)"
      ],
      "execution_count": 11,
      "outputs": [
        {
          "output_type": "stream",
          "text": [
            "Processed 4200 events for asymmetric EMD computation in 0.081s\n",
            "Using 4 worker processes:\n",
            "  Computed 484000 EMDs, 60.50% done in 125.74s\n",
            "  Computed 800000 EMDs, 100.00% done in 213.51s\n",
            "Processed 4200 events for asymmetric EMD computation in 0.060s\n",
            "Using 4 worker processes:\n",
            "  Computed 484000 EMDs, 60.50% done in 84.29s\n",
            "  Computed 800000 EMDs, 100.00% done in 138.33s\n"
          ],
          "name": "stdout"
        }
      ]
    },
    {
      "cell_type": "code",
      "metadata": {
        "id": "7lRaSxHPTjgm",
        "colab_type": "code",
        "outputId": "f6c6ce63-6c1f-40d6-d320-8f8e00c50775",
        "colab": {
          "base_uri": "https://localhost:8080/",
          "height": 153
        }
      },
      "source": [
        "indicesG=np.argsort(costM_g)\n",
        "indicesQ=np.argsort(costM_q)\n",
        "print(indicesG.shape)\n",
        "print(indicesG)"
      ],
      "execution_count": 12,
      "outputs": [
        {
          "output_type": "stream",
          "text": [
            "(200, 4000)\n",
            "[[ 725 1504 3739 ...  466 1273 2116]\n",
            " [ 116 1769 1912 ... 2004 3070 2427]\n",
            " [1790   97 1252 ... 3070 1273 1412]\n",
            " ...\n",
            " [3917 1927 3855 ... 1383 1975 2995]\n",
            " [3892 1656 1833 ... 2995  974 3070]\n",
            " [ 314 1145  866 ... 3070 2004 2427]]\n"
          ],
          "name": "stdout"
        }
      ]
    },
    {
      "cell_type": "code",
      "metadata": {
        "id": "KZyECp4HTkjw",
        "colab_type": "code",
        "colab": {}
      },
      "source": [
        "h_Gten_array = []\n",
        "h_Qten_array = []\n",
        "h_Gtwt_array = []\n",
        "h_Qtwt_array = []\n",
        "\n",
        "nVoters = 10\n",
        "for i in range(candidates): h_Gten_array.append(sum(indicesG[i,:nVoters] < electorate)/nVoters)\n",
        "for i in range(candidates): h_Qten_array.append(sum(indicesQ[i,:nVoters] < electorate)/nVoters)\n",
        "nVoters = 20\n",
        "for i in range(candidates): h_Gtwt_array.append(sum(indicesG[i,:nVoters] < electorate)/nVoters)  \n",
        "for i in range(candidates): h_Qtwt_array.append(sum(indicesQ[i,:nVoters] < electorate)/nVoters)"
      ],
      "execution_count": 0,
      "outputs": []
    },
    {
      "cell_type": "code",
      "metadata": {
        "id": "6wCFbn07TpTq",
        "colab_type": "code",
        "outputId": "8d83e816-7868-490e-8681-ee58b23a7ceb",
        "colab": {
          "base_uri": "https://localhost:8080/",
          "height": 71
        }
      },
      "source": [
        "print(h_Gten_array)\n",
        "print(h_Qten_array)"
      ],
      "execution_count": 14,
      "outputs": [
        {
          "output_type": "stream",
          "text": [
            "[0.6, 0.4, 0.7, 1.0, 0.5, 0.4, 0.8, 0.5, 0.6, 0.7, 0.7, 0.9, 0.6, 0.4, 1.0, 0.6, 0.4, 0.9, 0.6, 0.6, 0.7, 0.7, 0.6, 0.6, 1.0, 0.3, 0.9, 0.9, 0.0, 0.5, 0.7, 0.2, 0.2, 0.7, 0.6, 0.6, 0.2, 1.0, 0.1, 0.5, 0.4, 0.3, 0.4, 1.0, 0.7, 0.6, 0.8, 0.3, 0.3, 0.8, 0.9, 0.4, 0.7, 0.1, 0.8, 0.8, 0.6, 0.9, 0.8, 0.4, 0.6, 0.9, 0.7, 0.0, 0.7, 0.8, 0.7, 0.8, 0.3, 0.7, 0.7, 0.9, 0.0, 0.9, 0.6, 0.7, 0.0, 0.9, 0.8, 0.9, 0.8, 0.5, 0.4, 0.8, 0.1, 0.8, 0.2, 0.9, 0.9, 0.5, 0.6, 0.8, 0.4, 0.5, 0.1, 0.7, 0.4, 0.5, 0.6, 0.7, 0.8, 0.7, 1.0, 0.9, 0.7, 0.0, 0.9, 0.9, 0.5, 0.7, 0.8, 0.8, 0.7, 0.2, 0.6, 0.6, 0.3, 0.3, 0.9, 0.7, 0.5, 0.9, 0.8, 0.9, 0.7, 0.6, 1.0, 0.8, 0.0, 0.8, 0.6, 0.3, 0.9, 0.8, 0.6, 0.9, 1.0, 0.8, 0.6, 0.7, 0.6, 0.3, 0.0, 0.9, 0.5, 0.7, 0.6, 0.4, 1.0, 0.1, 0.2, 0.7, 0.7, 0.9, 0.6, 0.8, 0.5, 0.6, 0.6, 0.6, 1.0, 1.0, 0.5, 0.5, 0.8, 0.6, 0.9, 0.8, 0.8, 0.8, 0.8, 0.8, 0.8, 0.8, 0.9, 0.7, 0.9, 0.5, 0.0, 0.6, 1.0, 0.5, 0.8, 0.9, 0.4, 0.9, 0.6, 0.9, 0.9, 0.8, 0.8, 0.3, 1.0, 0.5, 0.5, 0.7, 0.5, 0.3, 0.4, 0.9]\n",
            "[0.0, 0.0, 0.4, 0.7, 0.0, 0.0, 0.2, 0.5, 0.0, 0.4, 0.8, 0.3, 0.1, 0.2, 0.1, 0.0, 0.3, 0.3, 0.5, 0.5, 0.5, 0.6, 0.5, 0.0, 0.7, 0.2, 0.5, 0.5, 0.2, 0.0, 0.1, 0.2, 0.9, 0.3, 0.3, 0.4, 0.1, 0.0, 0.3, 0.6, 0.7, 0.3, 0.1, 0.0, 0.0, 0.5, 0.5, 0.6, 0.1, 0.5, 0.1, 0.5, 0.1, 0.1, 0.6, 0.6, 0.7, 0.1, 0.1, 0.2, 0.0, 0.7, 0.0, 0.0, 0.5, 0.0, 0.9, 0.2, 0.7, 0.0, 0.7, 0.0, 0.1, 0.0, 0.2, 0.0, 0.0, 0.6, 0.4, 0.2, 1.0, 0.0, 0.1, 0.2, 0.7, 0.2, 0.7, 0.7, 0.1, 0.0, 0.1, 0.0, 0.0, 0.4, 0.0, 0.1, 0.2, 0.7, 0.2, 0.2, 0.0, 0.8, 0.0, 0.5, 0.0, 0.3, 0.0, 0.1, 0.0, 0.3, 0.0, 0.0, 0.0, 0.3, 0.1, 0.6, 0.7, 0.1, 0.0, 0.6, 0.1, 0.7, 0.0, 0.0, 0.5, 0.0, 0.0, 0.3, 0.1, 0.4, 0.0, 0.3, 0.9, 0.3, 0.1, 0.4, 0.7, 0.0, 0.7, 0.3, 0.9, 0.4, 0.2, 0.6, 0.3, 0.2, 0.0, 0.4, 0.2, 0.1, 0.7, 0.0, 0.5, 0.0, 0.1, 0.4, 0.1, 0.6, 0.1, 0.0, 0.3, 0.7, 0.0, 0.0, 0.6, 0.0, 0.0, 0.0, 0.1, 0.0, 0.0, 0.4, 0.2, 0.3, 0.0, 0.1, 0.4, 0.0, 0.0, 0.2, 0.8, 0.9, 0.1, 0.6, 0.2, 0.4, 0.4, 0.0, 0.6, 0.0, 0.4, 0.1, 0.0, 0.2, 0.1, 0.7, 0.1, 0.0, 0.5, 0.5]\n"
          ],
          "name": "stdout"
        }
      ]
    },
    {
      "cell_type": "code",
      "metadata": {
        "id": "TuU6J3DsTwc2",
        "colab_type": "code",
        "colab": {}
      },
      "source": [
        "h_Gten_nparray = np.asarray(h_Gten_array)\n",
        "h_Qten_nparray = np.asarray(h_Qten_array)\n",
        "h_Gtwt_nparray = np.asarray(h_Gtwt_array)\n",
        "h_Qtwt_nparray = np.asarray(h_Qtwt_array)"
      ],
      "execution_count": 0,
      "outputs": []
    },
    {
      "cell_type": "code",
      "metadata": {
        "id": "Y3UohtVoTyh_",
        "colab_type": "code",
        "colab": {}
      },
      "source": [
        "true_y_g = np.ones(200)\n",
        "true_y_q = np.zeros(200)\n",
        "\n",
        "true_values = np.concatenate([true_y_g, true_y_q])\n",
        "\n",
        "ten_predicted = np.concatenate([h_Gten_nparray, h_Qten_nparray])\n",
        "emd_auc_10 = roc_auc_score(y_true=true_values, y_score=ten_predicted)"
      ],
      "execution_count": 0,
      "outputs": []
    },
    {
      "cell_type": "code",
      "metadata": {
        "id": "ikISnOF4T0pD",
        "colab_type": "code",
        "outputId": "9fd1f824-238f-4bb6-bef7-805c9ec2ed8e",
        "colab": {
          "base_uri": "https://localhost:8080/",
          "height": 34
        }
      },
      "source": [
        "print(\"EMD AUC 10 voters: \", emd_auc_10)"
      ],
      "execution_count": 17,
      "outputs": [
        {
          "output_type": "stream",
          "text": [
            "EMD AUC 10 voters:  0.8192999999999999\n"
          ],
          "name": "stdout"
        }
      ]
    },
    {
      "cell_type": "code",
      "metadata": {
        "id": "uSOi5Uo0T2Sw",
        "colab_type": "code",
        "outputId": "ef0257de-b180-4b81-aa3a-68dd74015d22",
        "colab": {
          "base_uri": "https://localhost:8080/",
          "height": 34
        }
      },
      "source": [
        "twt_predicted = np.concatenate([h_Gtwt_nparray, h_Qtwt_nparray])\n",
        "emd_auc_20 = roc_auc_score(y_true=true_values, y_score=twt_predicted)\n",
        "print(\"EMD AUC 20 voters: \", emd_auc_20)"
      ],
      "execution_count": 18,
      "outputs": [
        {
          "output_type": "stream",
          "text": [
            "EMD AUC 20 voters:  0.8374375000000001\n"
          ],
          "name": "stdout"
        }
      ]
    },
    {
      "cell_type": "code",
      "metadata": {
        "id": "jF0ILwsYVaiR",
        "colab_type": "code",
        "colab": {}
      },
      "source": [
        "h_G_array = []\n",
        "h_Q_array = []\n",
        "emd_list = []"
      ],
      "execution_count": 0,
      "outputs": []
    },
    {
      "cell_type": "markdown",
      "metadata": {
        "id": "5d5h-MoMRBVB",
        "colab_type": "text"
      },
      "source": [
        "Testing out different numbers of voters to find an optimum"
      ]
    },
    {
      "cell_type": "code",
      "metadata": {
        "id": "JUBSDd2HNyjY",
        "colab_type": "code",
        "colab": {}
      },
      "source": [
        "for nVoters in range(10,200):\n",
        "    for i in range(candidates): h_G_array.append(sum(indicesG[i,:nVoters] < electorate)/nVoters)\n",
        "    for i in range(candidates): h_Q_array.append(sum(indicesQ[i,:nVoters] < electorate)/nVoters)\n",
        "    h_G_nparray = np.asarray(h_G_array)\n",
        "    h_Q_nparray = np.asarray(h_Q_array)\n",
        "    predicted = np.concatenate([h_G_nparray, h_Q_nparray])\n",
        "    emd_auc = roc_auc_score(y_true=true_values, y_score=predicted)\n",
        "    emd_list.append(emd_auc)\n",
        "    h_G_array = []\n",
        "    h_Q_array = []\n",
        "\n",
        "emd_auc_array = np.asarray(emd_list)"
      ],
      "execution_count": 0,
      "outputs": []
    },
    {
      "cell_type": "code",
      "metadata": {
        "id": "0O3gTz4DN0YR",
        "colab_type": "code",
        "colab": {
          "base_uri": "https://localhost:8080/",
          "height": 493
        },
        "outputId": "00e1fd82-8e70-49a1-89c4-e7ed6f40d155"
      },
      "source": [
        "print(emd_auc_array)"
      ],
      "execution_count": 21,
      "outputs": [
        {
          "output_type": "stream",
          "text": [
            "[0.8193    0.8169125 0.8259375 0.833875  0.836525  0.8396625 0.84435\n",
            " 0.8410875 0.8411    0.8383125 0.8374375 0.8383875 0.840825  0.842075\n",
            " 0.84075   0.8397875 0.8398    0.8415875 0.84205   0.843075  0.8439875\n",
            " 0.8432625 0.8437375 0.84405   0.8468875 0.8449625 0.8460125 0.844875\n",
            " 0.847     0.848425  0.84855   0.848025  0.8465875 0.8475625 0.8446\n",
            " 0.8439125 0.8452    0.8436375 0.8428    0.84235   0.8435    0.8429375\n",
            " 0.8416375 0.8426625 0.84245   0.8417875 0.843775  0.8446125 0.84395\n",
            " 0.84295   0.842425  0.840275  0.8425125 0.84255   0.8425    0.842475\n",
            " 0.843325  0.8425375 0.8416875 0.8423125 0.8432875 0.8439375 0.8430375\n",
            " 0.843075  0.843325  0.84345   0.8435375 0.8431    0.8428    0.844125\n",
            " 0.8434625 0.8431625 0.8432    0.8434    0.8439375 0.8428125 0.8428625\n",
            " 0.84335   0.8427125 0.8429375 0.8428    0.842625  0.842375  0.8427875\n",
            " 0.8423    0.8423125 0.8425125 0.8417625 0.8408375 0.84085   0.8408625\n",
            " 0.840425  0.8404375 0.8417125 0.8410375 0.8405625 0.8401    0.8394875\n",
            " 0.8389    0.83895   0.8394625 0.839575  0.8401875 0.840875  0.8402375\n",
            " 0.84075   0.8405375 0.839575  0.8393625 0.8381875 0.838775  0.83975\n",
            " 0.83965   0.8395    0.8394    0.8394    0.838875  0.83835   0.838075\n",
            " 0.839     0.839625  0.8392625 0.838975  0.8382875 0.837875  0.8386\n",
            " 0.838825  0.8381    0.83795   0.837925  0.836725  0.836175  0.83555\n",
            " 0.835675  0.83515   0.8351    0.835325  0.8351625 0.8351625 0.83515\n",
            " 0.83475   0.8346375 0.8345    0.8349375 0.8345375 0.835325  0.8348875\n",
            " 0.83515   0.8349125 0.8345625 0.8344875 0.8341875 0.8340375 0.83325\n",
            " 0.833725  0.8343    0.8348625 0.8351    0.834375  0.8341375 0.833925\n",
            " 0.83325   0.83315   0.832675  0.832875  0.8331    0.8329375 0.833475\n",
            " 0.832925  0.8324125 0.832375  0.83205   0.8314625 0.831475  0.831925\n",
            " 0.8314625 0.8318125 0.831675  0.83125   0.8309875 0.8310125 0.8307\n",
            " 0.8309    0.8306    0.830025  0.8305    0.8310875 0.8312625 0.831175\n",
            " 0.83085  ]\n"
          ],
          "name": "stdout"
        }
      ]
    },
    {
      "cell_type": "code",
      "metadata": {
        "id": "hoK9KB3zN2MD",
        "colab_type": "code",
        "colab": {
          "base_uri": "https://localhost:8080/",
          "height": 297
        },
        "outputId": "bcc4b74a-96c8-47de-82b8-78ee02b34f7a"
      },
      "source": [
        "number_voters = np.arange(10,200)\n",
        "if plt:\n",
        "    # some nicer plot settings\n",
        "    plt.rcParams['figure.figsize'] = (4,4)\n",
        "    plt.rcParams['font.family'] = 'serif'\n",
        "    plt.rcParams['figure.autolayout'] = True\n",
        "\n",
        "    # plot the ROC curves\n",
        "    plt.plot(number_voters, emd_auc_array, '-', color='black')\n",
        "\n",
        "     # axes labels\n",
        "    plt.xlabel('Number of Voters')\n",
        "    plt.ylabel('EMD AUC score')\n",
        "\n",
        "    # axes limits\n",
        "    plt.xlim(0, 210)\n",
        "    plt.ylim(0.81, 0.85)\n",
        "\n",
        "    plt.show()"
      ],
      "execution_count": 22,
      "outputs": [
        {
          "output_type": "display_data",
          "data": {
            "image/png": "[encoded data removed]",
            "text/plain": [
              "<Figure size 288x288 with 1 Axes>"
            ]
          },
          "metadata": {
            "tags": []
          }
        }
      ]
    },
    {
      "cell_type": "code",
      "metadata": {
        "id": "VSAHVqV8PCER",
        "colab_type": "code",
        "colab": {
          "base_uri": "https://localhost:8080/",
          "height": 34
        },
        "outputId": "99f2c74d-2b37-4b2d-8911-4c7ed06939d3"
      },
      "source": [
        "max_auc = np.amax(emd_auc_array)\n",
        "print(max_auc)"
      ],
      "execution_count": 23,
      "outputs": [
        {
          "output_type": "stream",
          "text": [
            "0.84855\n"
          ],
          "name": "stdout"
        }
      ]
    },
    {
      "cell_type": "code",
      "metadata": {
        "id": "7zwlDDT8PFqT",
        "colab_type": "code",
        "colab": {
          "base_uri": "https://localhost:8080/",
          "height": 34
        },
        "outputId": "b8ad9eba-548c-41ea-f385-f2bb2e9a63e0"
      },
      "source": [
        "opt_voters = np.argmax(emd_auc_array) + 10 #since we started with 10 voters\n",
        "print(opt_voters)"
      ],
      "execution_count": 24,
      "outputs": [
        {
          "output_type": "stream",
          "text": [
            "40\n"
          ],
          "name": "stdout"
        }
      ]
    }
  ]
}