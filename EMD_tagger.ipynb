{
  "nbformat": 4,
  "nbformat_minor": 0,
  "metadata": {
    "colab": {
      "name": "EMD_tagger.ipynb",
      "provenance": [],
      "include_colab_link": true
    },
    "kernelspec": {
      "name": "python3",
      "display_name": "Python 3"
    },
    "accelerator": "GPU"
  },
  "cells": [
    {
      "cell_type": "markdown",
      "metadata": {
        "id": "view-in-github",
        "colab_type": "text"
      },
      "source": [
        "<a href=\"https://colab.research.google.com/github/nickchak21/QuarkGluonClassifiers/blob/master/EMD_tagger.ipynb\" target=\"_parent\"><img src=\"https://colab.research.google.com/assets/colab-badge.svg\" alt=\"Open In Colab\"/></a>"
      ]
    },
    {
      "cell_type": "code",
      "metadata": {
        "id": "EDQHdFMzRKws",
        "colab_type": "code",
        "outputId": "6059e78f-f4cd-470b-ce5d-286620bfc35d",
        "colab": {
          "base_uri": "https://localhost:8080/",
          "height": 323
        }
      },
      "source": [
        "!pip install energyflow\n",
        "!pip install h5py"
      ],
      "execution_count": 0,
      "outputs": [
        {
          "output_type": "stream",
          "text": [
            "Collecting energyflow\n",
            "\u001b[?25l  Downloading https://files.pythonhosted.org/packages/b6/03/7a9e6a8ce08f6ffc98d8fc6cb5610a499f392af4a555cfd296ba44aa778c/EnergyFlow-0.13.2-py2.py3-none-any.whl (867kB)\n",
            "\u001b[K     |████████████████████████████████| 870kB 10.4MB/s \n",
            "\u001b[?25hCollecting h5py>=2.9.0\n",
            "\u001b[?25l  Downloading https://files.pythonhosted.org/packages/60/06/cafdd44889200e5438b897388f3075b52a8ef01f28a17366d91de0fa2d05/h5py-2.10.0-cp36-cp36m-manylinux1_x86_64.whl (2.9MB)\n",
            "\u001b[K     |████████████████████████████████| 2.9MB 29.9MB/s \n",
            "\u001b[?25hRequirement already satisfied: six>=1.10.0 in /usr/local/lib/python3.6/dist-packages (from energyflow) (1.12.0)\n",
            "Requirement already satisfied: numpy>=1.14.0 in /usr/local/lib/python3.6/dist-packages (from energyflow) (1.17.3)\n",
            "Installing collected packages: h5py, energyflow\n",
            "  Found existing installation: h5py 2.8.0\n",
            "    Uninstalling h5py-2.8.0:\n",
            "      Successfully uninstalled h5py-2.8.0\n",
            "Successfully installed energyflow-0.13.2 h5py-2.10.0\n",
            "\u001b[31mERROR: Could not find a version that satisfies the requirement ot (from versions: none)\u001b[0m\n",
            "\u001b[31mERROR: No matching distribution found for ot\u001b[0m\n",
            "Requirement already satisfied: h5py in /usr/local/lib/python3.6/dist-packages (2.10.0)\n",
            "Requirement already satisfied: six in /usr/local/lib/python3.6/dist-packages (from h5py) (1.12.0)\n",
            "Requirement already satisfied: numpy>=1.7 in /usr/local/lib/python3.6/dist-packages (from h5py) (1.17.3)\n"
          ],
          "name": "stdout"
        }
      ]
    },
    {
      "cell_type": "code",
      "metadata": {
        "id": "jCY1hm8xSJyX",
        "colab_type": "code",
        "outputId": "4e0005d7-329e-4f4e-a6ee-95562dc0a3b9",
        "colab": {
          "base_uri": "https://localhost:8080/",
          "height": 34
        }
      },
      "source": [
        "!python --version"
      ],
      "execution_count": 0,
      "outputs": [
        {
          "output_type": "stream",
          "text": [
            "Python 3.6.8\n"
          ],
          "name": "stdout"
        }
      ]
    },
    {
      "cell_type": "code",
      "metadata": {
        "id": "1r3rd5lMSYiH",
        "colab_type": "code",
        "outputId": "f88ad3ae-81b4-4b00-c03a-75646ad6cfdd",
        "colab": {
          "base_uri": "https://localhost:8080/",
          "height": 153
        }
      },
      "source": [
        "!pip install POT"
      ],
      "execution_count": 0,
      "outputs": [
        {
          "output_type": "stream",
          "text": [
            "Collecting POT\n",
            "\u001b[?25l  Downloading https://files.pythonhosted.org/packages/15/36/07d3c0960a590b88b81fa1837e666cc7479b90c7e9fd1063024ce9331122/POT-0.6.0-cp36-cp36m-manylinux1_x86_64.whl (305kB)\n",
            "\r\u001b[K     |█                               | 10kB 26.0MB/s eta 0:00:01\r\u001b[K     |██▏                             | 20kB 6.5MB/s eta 0:00:01\r\u001b[K     |███▏                            | 30kB 9.1MB/s eta 0:00:01\r\u001b[K     |████▎                           | 40kB 11.6MB/s eta 0:00:01\r\u001b[K     |█████▍                          | 51kB 7.6MB/s eta 0:00:01\r\u001b[K     |██████▍                         | 61kB 8.9MB/s eta 0:00:01\r\u001b[K     |███████▌                        | 71kB 10.1MB/s eta 0:00:01\r\u001b[K     |████████▋                       | 81kB 11.3MB/s eta 0:00:01\r\u001b[K     |█████████▋                      | 92kB 12.4MB/s eta 0:00:01\r\u001b[K     |██████████▊                     | 102kB 9.8MB/s eta 0:00:01\r\u001b[K     |███████████▉                    | 112kB 9.8MB/s eta 0:00:01\r\u001b[K     |████████████▉                   | 122kB 9.8MB/s eta 0:00:01\r\u001b[K     |██████████████                  | 133kB 9.8MB/s eta 0:00:01\r\u001b[K     |███████████████                 | 143kB 9.8MB/s eta 0:00:01\r\u001b[K     |████████████████                | 153kB 9.8MB/s eta 0:00:01\r\u001b[K     |█████████████████▏              | 163kB 9.8MB/s eta 0:00:01\r\u001b[K     |██████████████████▎             | 174kB 9.8MB/s eta 0:00:01\r\u001b[K     |███████████████████▎            | 184kB 9.8MB/s eta 0:00:01\r\u001b[K     |████████████████████▍           | 194kB 9.8MB/s eta 0:00:01\r\u001b[K     |█████████████████████▍          | 204kB 9.8MB/s eta 0:00:01\r\u001b[K     |██████████████████████▌         | 215kB 9.8MB/s eta 0:00:01\r\u001b[K     |███████████████████████▋        | 225kB 9.8MB/s eta 0:00:01\r\u001b[K     |████████████████████████▋       | 235kB 9.8MB/s eta 0:00:01\r\u001b[K     |█████████████████████████▊      | 245kB 9.8MB/s eta 0:00:01\r\u001b[K     |██████████████████████████▉     | 256kB 9.8MB/s eta 0:00:01\r\u001b[K     |███████████████████████████▉    | 266kB 9.8MB/s eta 0:00:01\r\u001b[K     |█████████████████████████████   | 276kB 9.8MB/s eta 0:00:01\r\u001b[K     |██████████████████████████████  | 286kB 9.8MB/s eta 0:00:01\r\u001b[K     |███████████████████████████████ | 296kB 9.8MB/s eta 0:00:01\r\u001b[K     |████████████████████████████████| 307kB 9.8MB/s \n",
            "\u001b[?25hRequirement already satisfied: cython in /usr/local/lib/python3.6/dist-packages (from POT) (0.29.13)\n",
            "Requirement already satisfied: numpy in /usr/local/lib/python3.6/dist-packages (from POT) (1.17.3)\n",
            "Requirement already satisfied: scipy in /usr/local/lib/python3.6/dist-packages (from POT) (1.3.1)\n",
            "Installing collected packages: POT\n",
            "Successfully installed POT-0.6.0\n"
          ],
          "name": "stdout"
        }
      ]
    },
    {
      "cell_type": "code",
      "metadata": {
        "id": "jjupFyDlShn7",
        "colab_type": "code",
        "outputId": "8ed02ccd-e058-4531-e935-bb0010d8accd",
        "colab": {
          "base_uri": "https://localhost:8080/",
          "height": 238
        }
      },
      "source": [
        "!python -c \"import energyflow; energyflow.utils.get_examples()\""
      ],
      "execution_count": 0,
      "outputs": [
        {
          "output_type": "stream",
          "text": [
            "Downloading pfn_example.py from https://github.com/pkomiske/EnergyFlow/raw/master/examples/pfn_example.py to /root/.energyflow/examples\n",
            "Downloading dnn_example.py from https://github.com/pkomiske/EnergyFlow/raw/master/examples/dnn_example.py to /root/.energyflow/examples\n",
            "Downloading cnn_example.py from https://github.com/pkomiske/EnergyFlow/raw/master/examples/cnn_example.py to /root/.energyflow/examples\n",
            "Downloading efn_example.py from https://github.com/pkomiske/EnergyFlow/raw/master/examples/efn_example.py to /root/.energyflow/examples\n",
            "Downloading efp_example.py from https://github.com/pkomiske/EnergyFlow/raw/master/examples/efp_example.py to /root/.energyflow/examples\n",
            "\n",
            "Summary of examples:\n",
            "pfn_example.py exists at /root/.energyflow/examples\n",
            "dnn_example.py exists at /root/.energyflow/examples\n",
            "cnn_example.py exists at /root/.energyflow/examples\n",
            "efn_example.py exists at /root/.energyflow/examples\n",
            "efp_example.py exists at /root/.energyflow/examples\n",
            "\n"
          ],
          "name": "stdout"
        }
      ]
    },
    {
      "cell_type": "code",
      "metadata": {
        "id": "Lq8SY4RuSl6B",
        "colab_type": "code",
        "colab": {}
      },
      "source": [
        "import numpy as np\n",
        "# I really don't like matplotlib for histograms.\n",
        "%matplotlib inline\n",
        "import matplotlib \n",
        "import matplotlib.pyplot as plt\n",
        "\n",
        "\n",
        "#%jsroot on\n",
        "from energyflow.emd import emd, emds\n",
        "from energyflow.datasets import qg_jets\n",
        "from energyflow.utils import sum_ptyphipids\n",
        "import ot"
      ],
      "execution_count": 0,
      "outputs": []
    },
    {
      "cell_type": "code",
      "metadata": {
        "id": "AsZ5pCeySv1R",
        "colab_type": "code",
        "colab": {}
      },
      "source": [
        "from sklearn.metrics import roc_auc_score, roc_curve"
      ],
      "execution_count": 0,
      "outputs": []
    },
    {
      "cell_type": "code",
      "metadata": {
        "id": "bqbx22qtSx86",
        "colab_type": "code",
        "colab": {}
      },
      "source": [
        "from ot.lp import emd_c, check_result\n",
        "from scipy.spatial.distance import _distance_wrap"
      ],
      "execution_count": 0,
      "outputs": []
    },
    {
      "cell_type": "code",
      "metadata": {
        "id": "eJbr1j15S0QC",
        "colab_type": "code",
        "colab": {}
      },
      "source": [
        "# data controls.\n",
        "# we will use the n nearest neighbors in the \"electorate\" to vote on what kind of jet each candidate is.\n",
        "candidates, electorate = 200, 2000"
      ],
      "execution_count": 0,
      "outputs": []
    },
    {
      "cell_type": "code",
      "metadata": {
        "id": "Yltn1nBIS2YG",
        "colab_type": "code",
        "outputId": "c56badf6-5ae0-4b2a-8d6e-2b64698e2541",
        "colab": {
          "base_uri": "https://localhost:8080/",
          "height": 34
        }
      },
      "source": [
        "# load quark and gluon jets from Pythia. We want candidates + electorate of *each.*\n",
        "# Quarks are labeled \"1\" in this dataset, gluons are \"0\"\n",
        "\n",
        "# Shapes of jet,label are: (num_data,max_num_particles,4) and (num_data).\n",
        "# coordinates are:  (pt,y,phi,pid)\n",
        "# pad=False makes array of objects, not numbers.\n",
        "# Load extrajets to be sure we get enough of each type.\n",
        "extrajets = candidates\n",
        "jets,labels = qg_jets.load(2*(candidates + electorate + extrajets), generator='pythia', pad=False)\n",
        "maxevts = candidates+electorate\n",
        "nprint = int(maxevts*maxevts/10)\n",
        "\n",
        "# the jet radius for these jets\n",
        "jetR = 0.4"
      ],
      "execution_count": 0,
      "outputs": [
        {
          "output_type": "stream",
          "text": [
            "Downloading QG_jets.npz from https://www.dropbox.com/s/fclsl7pukcpobsb/QG_jets.npz?dl=1 to /root/.energyflow/datasets\n"
          ],
          "name": "stdout"
        }
      ]
    },
    {
      "cell_type": "code",
      "metadata": {
        "id": "4IfLerAQS4rM",
        "colab_type": "code",
        "outputId": "d1cd01fe-35da-4b20-fabb-fd780c62e50e",
        "colab": {
          "base_uri": "https://localhost:8080/",
          "height": 51
        }
      },
      "source": [
        "print(labels.shape)\n",
        "print(labels)"
      ],
      "execution_count": 0,
      "outputs": [
        {
          "output_type": "stream",
          "text": [
            "(4800,)\n",
            "[1. 1. 1. ... 0. 1. 0.]\n"
          ],
          "name": "stdout"
        }
      ]
    },
    {
      "cell_type": "code",
      "metadata": {
        "id": "eVP-MmUsS9i0",
        "colab_type": "code",
        "outputId": "4518f940-a9cd-4659-aec2-491215e0d3fa",
        "colab": {
          "base_uri": "https://localhost:8080/",
          "height": 34
        }
      },
      "source": [
        "Gs = []\n",
        "Qs = []\n",
        "\n",
        "for arr,events in [(Gs, jets[labels==0]), (Qs, jets[labels==1])]:\n",
        "    for i,x in enumerate(events):\n",
        "        if i >= maxevts:  break\n",
        "        # ignore padded particles (not used) and remove particle id information(:3)\n",
        "        x = x[x[:,0] > 0,:3]\n",
        "        # center jet according to pt-centroid\n",
        "        yphi_avg = np.average(x[:,1:3], weights=x[:,0], axis=0)\n",
        "        x[:,1:3] -= yphi_avg\n",
        "        # mask out any particles farther than R=0.4 away from center (rare)\n",
        "        x = x[np.linalg.norm(x[:,1:3], axis=1) <= jetR]\n",
        "        # add to list\n",
        "        arr.append(x)\n",
        "        pass #evts\n",
        "    pass #gluonquark\n",
        "\n",
        "len(Gs), len(Qs)"
      ],
      "execution_count": 0,
      "outputs": [
        {
          "output_type": "execute_result",
          "data": {
            "text/plain": [
              "(2200, 2200)"
            ]
          },
          "metadata": {
            "tags": []
          },
          "execution_count": 11
        }
      ]
    },
    {
      "cell_type": "code",
      "metadata": {
        "id": "V_nsIGbmS-Rh",
        "colab_type": "code",
        "colab": {}
      },
      "source": [
        "# Also look at the original jet properties\n",
        "# output is a tuple of two arrays of jet [pt,y,phi,m] (vector sum of constituent four-momenta): (quark-jet, gluon-jet) from Monte Carlo simulation (MC)\n",
        "MC = np.array([sum_ptyphipids(x, error_on_unknown=False) for x in jets[labels==0]]), np.array([sum_ptyphipids(x, error_on_unknown=False) for x in jets[labels==1]])\n",
        "\n",
        "# simple lists of the rapidity (y) for Gluons and Quarks \n",
        "Gy = MC[0][:,1][:maxevts]\n",
        "Qy = MC[1][:,1][:maxevts]\n",
        "\n",
        "# simple lists of the transverse momentum (pt) for Gluons and Quarks \n",
        "Gpt = MC[0][:,0][:maxevts]\n",
        "Qpt = MC[1][:,0][:maxevts]\n"
      ],
      "execution_count": 0,
      "outputs": []
    },
    {
      "cell_type": "code",
      "metadata": {
        "id": "eLsLvijZTWqc",
        "colab_type": "code",
        "outputId": "7c736d22-0702-455e-9fc5-a734fc1e7f88",
        "colab": {
          "base_uri": "https://localhost:8080/",
          "height": 34
        }
      },
      "source": [
        "constituentList = Gs[candidates:]+Qs[candidates:]\n",
        "len(constituentList)"
      ],
      "execution_count": 0,
      "outputs": [
        {
          "output_type": "execute_result",
          "data": {
            "text/plain": [
              "4000"
            ]
          },
          "metadata": {
            "tags": []
          },
          "execution_count": 13
        }
      ]
    },
    {
      "cell_type": "code",
      "metadata": {
        "id": "cO0QCIuATa6M",
        "colab_type": "code",
        "outputId": "094b98fa-0f7a-49cd-d715-f2aaf42e2be9",
        "colab": {
          "base_uri": "https://localhost:8080/",
          "height": 153
        }
      },
      "source": [
        "#array of distances of gluon candidate from all constituents. shape is (candidates,constituents)\n",
        "costM_g  = emds(Gs[0:candidates], constituentList, R=jetR, norm=True, verbose=1, n_jobs=None, print_every=nprint)\n",
        "#ditto for quarks.\n",
        "costM_q  = emds(Qs[0:candidates], constituentList, R=jetR, norm=True, verbose=1, n_jobs=None, print_every=nprint)"
      ],
      "execution_count": 0,
      "outputs": [
        {
          "output_type": "stream",
          "text": [
            "Processed 4200 events for asymmetric EMD computation in 0.058s\n",
            "Using 2 worker processes:\n",
            "  Computed 484000 EMDs, 60.50% done in 102.89s\n",
            "  Computed 800000 EMDs, 100.00% done in 175.87s\n",
            "Processed 4200 events for asymmetric EMD computation in 0.047s\n",
            "Using 2 worker processes:\n",
            "  Computed 484000 EMDs, 60.50% done in 67.87s\n",
            "  Computed 800000 EMDs, 100.00% done in 111.98s\n"
          ],
          "name": "stdout"
        }
      ]
    },
    {
      "cell_type": "code",
      "metadata": {
        "id": "7lRaSxHPTjgm",
        "colab_type": "code",
        "outputId": "9a5defa3-3ee2-4922-e723-fbab7eb085bf",
        "colab": {
          "base_uri": "https://localhost:8080/",
          "height": 153
        }
      },
      "source": [
        "indicesG=np.argsort(costM_g)\n",
        "indicesQ=np.argsort(costM_q)\n",
        "print(indicesG.shape)\n",
        "print(indicesG)"
      ],
      "execution_count": 0,
      "outputs": [
        {
          "output_type": "stream",
          "text": [
            "(200, 4000)\n",
            "[[ 725 1504 3739 ...  466 1273 2116]\n",
            " [ 116 1769 1912 ... 2004 3070 2427]\n",
            " [1790   97 1252 ... 3070 1273 1412]\n",
            " ...\n",
            " [3917 1927 3855 ... 1383 1975 2995]\n",
            " [3892 1656 1833 ... 2995  974 3070]\n",
            " [ 314 1145  866 ... 3070 2004 2427]]\n"
          ],
          "name": "stdout"
        }
      ]
    },
    {
      "cell_type": "code",
      "metadata": {
        "id": "KZyECp4HTkjw",
        "colab_type": "code",
        "colab": {}
      },
      "source": [
        "h_Gten_array = []\n",
        "h_Qten_array = []\n",
        "h_Gtwt_array = []\n",
        "h_Qtwt_array = []\n",
        "\n",
        "nVoters = 10\n",
        "for i in range(candidates): h_Gten_array.append(sum(indicesG[i,:nVoters] < electorate)/nVoters)\n",
        "for i in range(candidates): h_Qten_array.append(sum(indicesQ[i,:nVoters] < electorate)/nVoters)\n",
        "nVoters = 20\n",
        "for i in range(candidates): h_Gtwt_array.append(sum(indicesG[i,:nVoters] < electorate)/nVoters)  \n",
        "for i in range(candidates): h_Qtwt_array.append(sum(indicesQ[i,:nVoters] < electorate)/nVoters)"
      ],
      "execution_count": 0,
      "outputs": []
    },
    {
      "cell_type": "code",
      "metadata": {
        "id": "6wCFbn07TpTq",
        "colab_type": "code",
        "outputId": "6bee0306-4aba-4c1c-db7f-487ddf3f95d8",
        "colab": {
          "base_uri": "https://localhost:8080/",
          "height": 71
        }
      },
      "source": [
        "print(h_Gten_array)\n",
        "print(h_Qten_array)"
      ],
      "execution_count": 0,
      "outputs": [
        {
          "output_type": "stream",
          "text": [
            "[0.6, 0.4, 0.7, 1.0, 0.5, 0.4, 0.8, 0.5, 0.6, 0.7, 0.7, 0.9, 0.6, 0.4, 1.0, 0.6, 0.4, 0.9, 0.6, 0.6, 0.7, 0.7, 0.6, 0.6, 1.0, 0.3, 0.9, 0.9, 0.0, 0.5, 0.7, 0.2, 0.2, 0.7, 0.6, 0.6, 0.2, 1.0, 0.1, 0.5, 0.4, 0.3, 0.4, 1.0, 0.7, 0.6, 0.8, 0.3, 0.3, 0.8, 0.9, 0.4, 0.7, 0.1, 0.8, 0.8, 0.6, 0.9, 0.8, 0.4, 0.6, 0.9, 0.7, 0.0, 0.7, 0.8, 0.7, 0.8, 0.3, 0.7, 0.7, 0.9, 0.0, 0.9, 0.6, 0.7, 0.0, 0.9, 0.8, 0.9, 0.8, 0.5, 0.4, 0.8, 0.1, 0.8, 0.2, 0.9, 0.9, 0.5, 0.6, 0.8, 0.4, 0.5, 0.1, 0.7, 0.4, 0.5, 0.6, 0.7, 0.8, 0.7, 1.0, 0.9, 0.7, 0.0, 0.9, 0.9, 0.5, 0.7, 0.8, 0.8, 0.7, 0.2, 0.6, 0.6, 0.3, 0.3, 0.9, 0.7, 0.5, 0.9, 0.8, 0.9, 0.7, 0.6, 1.0, 0.8, 0.0, 0.8, 0.6, 0.3, 0.9, 0.8, 0.6, 0.9, 1.0, 0.8, 0.6, 0.7, 0.6, 0.3, 0.0, 0.9, 0.5, 0.7, 0.6, 0.4, 1.0, 0.1, 0.2, 0.7, 0.7, 0.9, 0.6, 0.8, 0.5, 0.6, 0.6, 0.6, 1.0, 1.0, 0.5, 0.5, 0.8, 0.6, 0.9, 0.8, 0.8, 0.8, 0.8, 0.8, 0.8, 0.8, 0.9, 0.7, 0.9, 0.5, 0.0, 0.6, 1.0, 0.5, 0.8, 0.9, 0.4, 0.9, 0.6, 0.9, 0.9, 0.8, 0.8, 0.3, 1.0, 0.5, 0.5, 0.7, 0.5, 0.3, 0.4, 0.9]\n",
            "[0.0, 0.0, 0.4, 0.7, 0.0, 0.0, 0.2, 0.5, 0.0, 0.4, 0.8, 0.3, 0.1, 0.2, 0.1, 0.0, 0.3, 0.3, 0.5, 0.5, 0.5, 0.6, 0.5, 0.0, 0.7, 0.2, 0.5, 0.5, 0.2, 0.0, 0.1, 0.2, 0.9, 0.3, 0.3, 0.4, 0.1, 0.0, 0.3, 0.6, 0.7, 0.3, 0.1, 0.0, 0.0, 0.5, 0.5, 0.6, 0.1, 0.5, 0.1, 0.5, 0.1, 0.1, 0.6, 0.6, 0.7, 0.1, 0.1, 0.2, 0.0, 0.7, 0.0, 0.0, 0.5, 0.0, 0.9, 0.2, 0.7, 0.0, 0.7, 0.0, 0.1, 0.0, 0.2, 0.0, 0.0, 0.6, 0.4, 0.2, 1.0, 0.0, 0.1, 0.2, 0.7, 0.2, 0.7, 0.7, 0.1, 0.0, 0.1, 0.0, 0.0, 0.4, 0.0, 0.1, 0.2, 0.7, 0.2, 0.2, 0.0, 0.8, 0.0, 0.5, 0.0, 0.3, 0.0, 0.1, 0.0, 0.3, 0.0, 0.0, 0.0, 0.3, 0.1, 0.6, 0.7, 0.1, 0.0, 0.6, 0.1, 0.7, 0.0, 0.0, 0.5, 0.0, 0.0, 0.3, 0.1, 0.4, 0.0, 0.3, 0.9, 0.3, 0.1, 0.4, 0.7, 0.0, 0.7, 0.3, 0.9, 0.4, 0.2, 0.6, 0.3, 0.2, 0.0, 0.4, 0.2, 0.1, 0.7, 0.0, 0.5, 0.0, 0.1, 0.4, 0.1, 0.6, 0.1, 0.0, 0.3, 0.7, 0.0, 0.0, 0.6, 0.0, 0.0, 0.0, 0.1, 0.0, 0.0, 0.4, 0.2, 0.3, 0.0, 0.1, 0.4, 0.0, 0.0, 0.2, 0.8, 0.9, 0.1, 0.6, 0.2, 0.4, 0.4, 0.0, 0.6, 0.0, 0.4, 0.1, 0.0, 0.2, 0.1, 0.7, 0.1, 0.0, 0.5, 0.5]\n"
          ],
          "name": "stdout"
        }
      ]
    },
    {
      "cell_type": "code",
      "metadata": {
        "id": "TuU6J3DsTwc2",
        "colab_type": "code",
        "colab": {}
      },
      "source": [
        "h_Gten_nparray = np.asarray(h_Gten_array)\n",
        "h_Qten_nparray = np.asarray(h_Qten_array)\n",
        "h_Gtwt_nparray = np.asarray(h_Gtwt_array)\n",
        "h_Qtwt_nparray = np.asarray(h_Qtwt_array)"
      ],
      "execution_count": 0,
      "outputs": []
    },
    {
      "cell_type": "code",
      "metadata": {
        "id": "Y3UohtVoTyh_",
        "colab_type": "code",
        "colab": {}
      },
      "source": [
        "true_y_g = np.ones(200)\n",
        "true_y_q = np.zeros(200)\n",
        "\n",
        "true_values = np.concatenate([true_y_g, true_y_q])\n",
        "\n",
        "ten_predicted = np.concatenate([h_Gten_nparray, h_Qten_nparray])\n",
        "emd_auc_10 = roc_auc_score(y_true=true_values, y_score=ten_predicted)"
      ],
      "execution_count": 0,
      "outputs": []
    },
    {
      "cell_type": "code",
      "metadata": {
        "id": "ikISnOF4T0pD",
        "colab_type": "code",
        "outputId": "51cf259f-6a6a-4da8-c800-e1a48703e51f",
        "colab": {
          "base_uri": "https://localhost:8080/",
          "height": 34
        }
      },
      "source": [
        "print(emd_auc_10)"
      ],
      "execution_count": 0,
      "outputs": [
        {
          "output_type": "stream",
          "text": [
            "0.8192999999999999\n"
          ],
          "name": "stdout"
        }
      ]
    },
    {
      "cell_type": "code",
      "metadata": {
        "id": "uSOi5Uo0T2Sw",
        "colab_type": "code",
        "outputId": "2dc6aabb-860d-468c-fb00-8707f758a983",
        "colab": {
          "base_uri": "https://localhost:8080/",
          "height": 34
        }
      },
      "source": [
        "twt_predicted = np.concatenate([h_Gtwt_nparray, h_Qtwt_nparray])\n",
        "emd_auc_20 = roc_auc_score(y_true=true_values, y_score=twt_predicted)\n",
        "print(emd_auc_20)"
      ],
      "execution_count": 0,
      "outputs": [
        {
          "output_type": "stream",
          "text": [
            "0.8374375000000001\n"
          ],
          "name": "stdout"
        }
      ]
    },
    {
      "cell_type": "code",
      "metadata": {
        "id": "jF0ILwsYVaiR",
        "colab_type": "code",
        "colab": {}
      },
      "source": [
        ""
      ],
      "execution_count": 0,
      "outputs": []
    }
  ]
}